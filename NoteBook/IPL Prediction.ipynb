{
 "cells": [
  {
   "cell_type": "code",
   "execution_count": 2,
   "metadata": {},
   "outputs": [
    {
     "data": {
      "text/html": [
       "        <script type=\"text/javascript\">\n",
       "        window.PlotlyConfig = {MathJaxConfig: 'local'};\n",
       "        if (window.MathJax && window.MathJax.Hub && window.MathJax.Hub.Config) {window.MathJax.Hub.Config({SVG: {font: \"STIX-Web\"}});}\n",
       "        if (typeof require !== 'undefined') {\n",
       "        require.undef(\"plotly\");\n",
       "        requirejs.config({\n",
       "            paths: {\n",
       "                'plotly': ['https://cdn.plot.ly/plotly-2.12.1.min']\n",
       "            }\n",
       "        });\n",
       "        require(['plotly'], function(Plotly) {\n",
       "            window._Plotly = Plotly;\n",
       "        });\n",
       "        }\n",
       "        </script>\n",
       "        "
      ]
     },
     "metadata": {},
     "output_type": "display_data"
    }
   ],
   "source": [
    "import pandas as pd\n",
    "import numpy as np\n",
    "import seaborn as sns\n",
    "import matplotlib.pyplot as plt\n",
    "%matplotlib inline\n",
    "import cufflinks as cf\n",
    "cf.go_offline()\n",
    "import plotly.graph_objects as go\n",
    "import plotly.express as px"
   ]
  },
  {
   "cell_type": "code",
   "execution_count": 3,
   "metadata": {},
   "outputs": [
    {
     "data": {
      "text/html": [
       "<div>\n",
       "<style scoped>\n",
       "    .dataframe tbody tr th:only-of-type {\n",
       "        vertical-align: middle;\n",
       "    }\n",
       "\n",
       "    .dataframe tbody tr th {\n",
       "        vertical-align: top;\n",
       "    }\n",
       "\n",
       "    .dataframe thead th {\n",
       "        text-align: right;\n",
       "    }\n",
       "</style>\n",
       "<table border=\"1\" class=\"dataframe\">\n",
       "  <thead>\n",
       "    <tr style=\"text-align: right;\">\n",
       "      <th></th>\n",
       "      <th>ID</th>\n",
       "      <th>innings</th>\n",
       "      <th>overs</th>\n",
       "      <th>ballnumber</th>\n",
       "      <th>batter</th>\n",
       "      <th>bowler</th>\n",
       "      <th>non-striker</th>\n",
       "      <th>extra_type</th>\n",
       "      <th>batsman_run</th>\n",
       "      <th>extras_run</th>\n",
       "      <th>total_run</th>\n",
       "      <th>non_boundary</th>\n",
       "      <th>isWicketDelivery</th>\n",
       "      <th>player_out</th>\n",
       "      <th>kind</th>\n",
       "      <th>fielders_involved</th>\n",
       "      <th>BattingTeam</th>\n",
       "    </tr>\n",
       "  </thead>\n",
       "  <tbody>\n",
       "    <tr>\n",
       "      <th>0</th>\n",
       "      <td>1312200</td>\n",
       "      <td>1</td>\n",
       "      <td>0</td>\n",
       "      <td>1</td>\n",
       "      <td>YBK Jaiswal</td>\n",
       "      <td>Mohammed Shami</td>\n",
       "      <td>JC Buttler</td>\n",
       "      <td>NaN</td>\n",
       "      <td>0</td>\n",
       "      <td>0</td>\n",
       "      <td>0</td>\n",
       "      <td>0</td>\n",
       "      <td>0</td>\n",
       "      <td>NaN</td>\n",
       "      <td>NaN</td>\n",
       "      <td>NaN</td>\n",
       "      <td>Rajasthan Royals</td>\n",
       "    </tr>\n",
       "    <tr>\n",
       "      <th>1</th>\n",
       "      <td>1312200</td>\n",
       "      <td>1</td>\n",
       "      <td>0</td>\n",
       "      <td>2</td>\n",
       "      <td>YBK Jaiswal</td>\n",
       "      <td>Mohammed Shami</td>\n",
       "      <td>JC Buttler</td>\n",
       "      <td>legbyes</td>\n",
       "      <td>0</td>\n",
       "      <td>1</td>\n",
       "      <td>1</td>\n",
       "      <td>0</td>\n",
       "      <td>0</td>\n",
       "      <td>NaN</td>\n",
       "      <td>NaN</td>\n",
       "      <td>NaN</td>\n",
       "      <td>Rajasthan Royals</td>\n",
       "    </tr>\n",
       "    <tr>\n",
       "      <th>2</th>\n",
       "      <td>1312200</td>\n",
       "      <td>1</td>\n",
       "      <td>0</td>\n",
       "      <td>3</td>\n",
       "      <td>JC Buttler</td>\n",
       "      <td>Mohammed Shami</td>\n",
       "      <td>YBK Jaiswal</td>\n",
       "      <td>NaN</td>\n",
       "      <td>1</td>\n",
       "      <td>0</td>\n",
       "      <td>1</td>\n",
       "      <td>0</td>\n",
       "      <td>0</td>\n",
       "      <td>NaN</td>\n",
       "      <td>NaN</td>\n",
       "      <td>NaN</td>\n",
       "      <td>Rajasthan Royals</td>\n",
       "    </tr>\n",
       "    <tr>\n",
       "      <th>3</th>\n",
       "      <td>1312200</td>\n",
       "      <td>1</td>\n",
       "      <td>0</td>\n",
       "      <td>4</td>\n",
       "      <td>YBK Jaiswal</td>\n",
       "      <td>Mohammed Shami</td>\n",
       "      <td>JC Buttler</td>\n",
       "      <td>NaN</td>\n",
       "      <td>0</td>\n",
       "      <td>0</td>\n",
       "      <td>0</td>\n",
       "      <td>0</td>\n",
       "      <td>0</td>\n",
       "      <td>NaN</td>\n",
       "      <td>NaN</td>\n",
       "      <td>NaN</td>\n",
       "      <td>Rajasthan Royals</td>\n",
       "    </tr>\n",
       "    <tr>\n",
       "      <th>4</th>\n",
       "      <td>1312200</td>\n",
       "      <td>1</td>\n",
       "      <td>0</td>\n",
       "      <td>5</td>\n",
       "      <td>YBK Jaiswal</td>\n",
       "      <td>Mohammed Shami</td>\n",
       "      <td>JC Buttler</td>\n",
       "      <td>NaN</td>\n",
       "      <td>0</td>\n",
       "      <td>0</td>\n",
       "      <td>0</td>\n",
       "      <td>0</td>\n",
       "      <td>0</td>\n",
       "      <td>NaN</td>\n",
       "      <td>NaN</td>\n",
       "      <td>NaN</td>\n",
       "      <td>Rajasthan Royals</td>\n",
       "    </tr>\n",
       "  </tbody>\n",
       "</table>\n",
       "</div>"
      ],
      "text/plain": [
       "        ID  innings  overs  ballnumber       batter          bowler  \\\n",
       "0  1312200        1      0           1  YBK Jaiswal  Mohammed Shami   \n",
       "1  1312200        1      0           2  YBK Jaiswal  Mohammed Shami   \n",
       "2  1312200        1      0           3   JC Buttler  Mohammed Shami   \n",
       "3  1312200        1      0           4  YBK Jaiswal  Mohammed Shami   \n",
       "4  1312200        1      0           5  YBK Jaiswal  Mohammed Shami   \n",
       "\n",
       "   non-striker extra_type  batsman_run  extras_run  total_run  non_boundary  \\\n",
       "0   JC Buttler        NaN            0           0          0             0   \n",
       "1   JC Buttler    legbyes            0           1          1             0   \n",
       "2  YBK Jaiswal        NaN            1           0          1             0   \n",
       "3   JC Buttler        NaN            0           0          0             0   \n",
       "4   JC Buttler        NaN            0           0          0             0   \n",
       "\n",
       "   isWicketDelivery player_out kind fielders_involved       BattingTeam  \n",
       "0                 0        NaN  NaN               NaN  Rajasthan Royals  \n",
       "1                 0        NaN  NaN               NaN  Rajasthan Royals  \n",
       "2                 0        NaN  NaN               NaN  Rajasthan Royals  \n",
       "3                 0        NaN  NaN               NaN  Rajasthan Royals  \n",
       "4                 0        NaN  NaN               NaN  Rajasthan Royals  "
      ]
     },
     "execution_count": 3,
     "metadata": {},
     "output_type": "execute_result"
    }
   ],
   "source": [
    "ball=pd.read_csv(r\"C:\\Users\\PRANAY\\Documents\\FULL STACK DATA SCIENCE jigsaw document\\Deployedment\\IPL-Prediction-Score(2008-2022)\\NoteBook\\DataSets\\IPL_Ball_by_Ball_2008_2022.csv\")\n",
    "ball.head()"
   ]
  },
  {
   "cell_type": "code",
   "execution_count": 4,
   "metadata": {},
   "outputs": [
    {
     "data": {
      "text/html": [
       "<div>\n",
       "<style scoped>\n",
       "    .dataframe tbody tr th:only-of-type {\n",
       "        vertical-align: middle;\n",
       "    }\n",
       "\n",
       "    .dataframe tbody tr th {\n",
       "        vertical-align: top;\n",
       "    }\n",
       "\n",
       "    .dataframe thead th {\n",
       "        text-align: right;\n",
       "    }\n",
       "</style>\n",
       "<table border=\"1\" class=\"dataframe\">\n",
       "  <thead>\n",
       "    <tr style=\"text-align: right;\">\n",
       "      <th></th>\n",
       "      <th>ID</th>\n",
       "      <th>City</th>\n",
       "      <th>Date</th>\n",
       "      <th>Season</th>\n",
       "      <th>MatchNumber</th>\n",
       "      <th>Team1</th>\n",
       "      <th>Team2</th>\n",
       "      <th>Venue</th>\n",
       "      <th>TossWinner</th>\n",
       "      <th>TossDecision</th>\n",
       "      <th>SuperOver</th>\n",
       "      <th>WinningTeam</th>\n",
       "      <th>WonBy</th>\n",
       "      <th>Margin</th>\n",
       "      <th>method</th>\n",
       "      <th>Player_of_Match</th>\n",
       "      <th>Team1Players</th>\n",
       "      <th>Team2Players</th>\n",
       "      <th>Umpire1</th>\n",
       "      <th>Umpire2</th>\n",
       "    </tr>\n",
       "  </thead>\n",
       "  <tbody>\n",
       "    <tr>\n",
       "      <th>0</th>\n",
       "      <td>1312200</td>\n",
       "      <td>Ahmedabad</td>\n",
       "      <td>2022-05-29</td>\n",
       "      <td>2022</td>\n",
       "      <td>Final</td>\n",
       "      <td>Rajasthan Royals</td>\n",
       "      <td>Gujarat Titans</td>\n",
       "      <td>Narendra Modi Stadium, Ahmedabad</td>\n",
       "      <td>Rajasthan Royals</td>\n",
       "      <td>bat</td>\n",
       "      <td>N</td>\n",
       "      <td>Gujarat Titans</td>\n",
       "      <td>Wickets</td>\n",
       "      <td>7.0</td>\n",
       "      <td>NaN</td>\n",
       "      <td>HH Pandya</td>\n",
       "      <td>['YBK Jaiswal', 'JC Buttler', 'SV Samson', 'D ...</td>\n",
       "      <td>['WP Saha', 'Shubman Gill', 'MS Wade', 'HH Pan...</td>\n",
       "      <td>CB Gaffaney</td>\n",
       "      <td>Nitin Menon</td>\n",
       "    </tr>\n",
       "    <tr>\n",
       "      <th>1</th>\n",
       "      <td>1312199</td>\n",
       "      <td>Ahmedabad</td>\n",
       "      <td>2022-05-27</td>\n",
       "      <td>2022</td>\n",
       "      <td>Qualifier 2</td>\n",
       "      <td>Royal Challengers Bangalore</td>\n",
       "      <td>Rajasthan Royals</td>\n",
       "      <td>Narendra Modi Stadium, Ahmedabad</td>\n",
       "      <td>Rajasthan Royals</td>\n",
       "      <td>field</td>\n",
       "      <td>N</td>\n",
       "      <td>Rajasthan Royals</td>\n",
       "      <td>Wickets</td>\n",
       "      <td>7.0</td>\n",
       "      <td>NaN</td>\n",
       "      <td>JC Buttler</td>\n",
       "      <td>['V Kohli', 'F du Plessis', 'RM Patidar', 'GJ ...</td>\n",
       "      <td>['YBK Jaiswal', 'JC Buttler', 'SV Samson', 'D ...</td>\n",
       "      <td>CB Gaffaney</td>\n",
       "      <td>Nitin Menon</td>\n",
       "    </tr>\n",
       "    <tr>\n",
       "      <th>2</th>\n",
       "      <td>1312198</td>\n",
       "      <td>Kolkata</td>\n",
       "      <td>2022-05-25</td>\n",
       "      <td>2022</td>\n",
       "      <td>Eliminator</td>\n",
       "      <td>Royal Challengers Bangalore</td>\n",
       "      <td>Lucknow Super Giants</td>\n",
       "      <td>Eden Gardens, Kolkata</td>\n",
       "      <td>Lucknow Super Giants</td>\n",
       "      <td>field</td>\n",
       "      <td>N</td>\n",
       "      <td>Royal Challengers Bangalore</td>\n",
       "      <td>Runs</td>\n",
       "      <td>14.0</td>\n",
       "      <td>NaN</td>\n",
       "      <td>RM Patidar</td>\n",
       "      <td>['V Kohli', 'F du Plessis', 'RM Patidar', 'GJ ...</td>\n",
       "      <td>['Q de Kock', 'KL Rahul', 'M Vohra', 'DJ Hooda...</td>\n",
       "      <td>J Madanagopal</td>\n",
       "      <td>MA Gough</td>\n",
       "    </tr>\n",
       "    <tr>\n",
       "      <th>3</th>\n",
       "      <td>1312197</td>\n",
       "      <td>Kolkata</td>\n",
       "      <td>2022-05-24</td>\n",
       "      <td>2022</td>\n",
       "      <td>Qualifier 1</td>\n",
       "      <td>Rajasthan Royals</td>\n",
       "      <td>Gujarat Titans</td>\n",
       "      <td>Eden Gardens, Kolkata</td>\n",
       "      <td>Gujarat Titans</td>\n",
       "      <td>field</td>\n",
       "      <td>N</td>\n",
       "      <td>Gujarat Titans</td>\n",
       "      <td>Wickets</td>\n",
       "      <td>7.0</td>\n",
       "      <td>NaN</td>\n",
       "      <td>DA Miller</td>\n",
       "      <td>['YBK Jaiswal', 'JC Buttler', 'SV Samson', 'D ...</td>\n",
       "      <td>['WP Saha', 'Shubman Gill', 'MS Wade', 'HH Pan...</td>\n",
       "      <td>BNJ Oxenford</td>\n",
       "      <td>VK Sharma</td>\n",
       "    </tr>\n",
       "    <tr>\n",
       "      <th>4</th>\n",
       "      <td>1304116</td>\n",
       "      <td>Mumbai</td>\n",
       "      <td>2022-05-22</td>\n",
       "      <td>2022</td>\n",
       "      <td>70</td>\n",
       "      <td>Sunrisers Hyderabad</td>\n",
       "      <td>Punjab Kings</td>\n",
       "      <td>Wankhede Stadium, Mumbai</td>\n",
       "      <td>Sunrisers Hyderabad</td>\n",
       "      <td>bat</td>\n",
       "      <td>N</td>\n",
       "      <td>Punjab Kings</td>\n",
       "      <td>Wickets</td>\n",
       "      <td>5.0</td>\n",
       "      <td>NaN</td>\n",
       "      <td>Harpreet Brar</td>\n",
       "      <td>['PK Garg', 'Abhishek Sharma', 'RA Tripathi', ...</td>\n",
       "      <td>['JM Bairstow', 'S Dhawan', 'M Shahrukh Khan',...</td>\n",
       "      <td>AK Chaudhary</td>\n",
       "      <td>NA Patwardhan</td>\n",
       "    </tr>\n",
       "  </tbody>\n",
       "</table>\n",
       "</div>"
      ],
      "text/plain": [
       "        ID       City        Date Season  MatchNumber  \\\n",
       "0  1312200  Ahmedabad  2022-05-29   2022        Final   \n",
       "1  1312199  Ahmedabad  2022-05-27   2022  Qualifier 2   \n",
       "2  1312198    Kolkata  2022-05-25   2022   Eliminator   \n",
       "3  1312197    Kolkata  2022-05-24   2022  Qualifier 1   \n",
       "4  1304116     Mumbai  2022-05-22   2022           70   \n",
       "\n",
       "                         Team1                 Team2  \\\n",
       "0             Rajasthan Royals        Gujarat Titans   \n",
       "1  Royal Challengers Bangalore      Rajasthan Royals   \n",
       "2  Royal Challengers Bangalore  Lucknow Super Giants   \n",
       "3             Rajasthan Royals        Gujarat Titans   \n",
       "4          Sunrisers Hyderabad          Punjab Kings   \n",
       "\n",
       "                              Venue            TossWinner TossDecision  \\\n",
       "0  Narendra Modi Stadium, Ahmedabad      Rajasthan Royals          bat   \n",
       "1  Narendra Modi Stadium, Ahmedabad      Rajasthan Royals        field   \n",
       "2             Eden Gardens, Kolkata  Lucknow Super Giants        field   \n",
       "3             Eden Gardens, Kolkata        Gujarat Titans        field   \n",
       "4          Wankhede Stadium, Mumbai   Sunrisers Hyderabad          bat   \n",
       "\n",
       "  SuperOver                  WinningTeam    WonBy  Margin method  \\\n",
       "0         N               Gujarat Titans  Wickets     7.0    NaN   \n",
       "1         N             Rajasthan Royals  Wickets     7.0    NaN   \n",
       "2         N  Royal Challengers Bangalore     Runs    14.0    NaN   \n",
       "3         N               Gujarat Titans  Wickets     7.0    NaN   \n",
       "4         N                 Punjab Kings  Wickets     5.0    NaN   \n",
       "\n",
       "  Player_of_Match                                       Team1Players  \\\n",
       "0       HH Pandya  ['YBK Jaiswal', 'JC Buttler', 'SV Samson', 'D ...   \n",
       "1      JC Buttler  ['V Kohli', 'F du Plessis', 'RM Patidar', 'GJ ...   \n",
       "2      RM Patidar  ['V Kohli', 'F du Plessis', 'RM Patidar', 'GJ ...   \n",
       "3       DA Miller  ['YBK Jaiswal', 'JC Buttler', 'SV Samson', 'D ...   \n",
       "4   Harpreet Brar  ['PK Garg', 'Abhishek Sharma', 'RA Tripathi', ...   \n",
       "\n",
       "                                        Team2Players        Umpire1  \\\n",
       "0  ['WP Saha', 'Shubman Gill', 'MS Wade', 'HH Pan...    CB Gaffaney   \n",
       "1  ['YBK Jaiswal', 'JC Buttler', 'SV Samson', 'D ...    CB Gaffaney   \n",
       "2  ['Q de Kock', 'KL Rahul', 'M Vohra', 'DJ Hooda...  J Madanagopal   \n",
       "3  ['WP Saha', 'Shubman Gill', 'MS Wade', 'HH Pan...   BNJ Oxenford   \n",
       "4  ['JM Bairstow', 'S Dhawan', 'M Shahrukh Khan',...   AK Chaudhary   \n",
       "\n",
       "         Umpire2  \n",
       "0    Nitin Menon  \n",
       "1    Nitin Menon  \n",
       "2       MA Gough  \n",
       "3      VK Sharma  \n",
       "4  NA Patwardhan  "
      ]
     },
     "execution_count": 4,
     "metadata": {},
     "output_type": "execute_result"
    }
   ],
   "source": [
    "match=pd.read_csv(r\"C:\\Users\\PRANAY\\Documents\\FULL STACK DATA SCIENCE jigsaw document\\Deployedment\\IPL-Prediction-Score(2008-2022)\\NoteBook\\DataSets\\IPL_Matches_2008_2022.csv\")\n",
    "match.head()"
   ]
  },
  {
   "cell_type": "code",
   "execution_count": 5,
   "metadata": {},
   "outputs": [
    {
     "name": "stderr",
     "output_type": "stream",
     "text": [
      "C:\\Users\\PRANAY\\AppData\\Local\\Temp\\ipykernel_6804\\625588996.py:1: FutureWarning:\n",
      "\n",
      "The default value of numeric_only in DataFrameGroupBy.sum is deprecated. In a future version, numeric_only will default to False. Either specify numeric_only or select only columns which should be valid for the function.\n",
      "\n"
     ]
    }
   ],
   "source": [
    "total_score = ball.groupby(['ID', 'innings']).sum()['total_run'].reset_index()"
   ]
  },
  {
   "cell_type": "code",
   "execution_count": 6,
   "metadata": {},
   "outputs": [
    {
     "data": {
      "text/html": [
       "<div>\n",
       "<style scoped>\n",
       "    .dataframe tbody tr th:only-of-type {\n",
       "        vertical-align: middle;\n",
       "    }\n",
       "\n",
       "    .dataframe tbody tr th {\n",
       "        vertical-align: top;\n",
       "    }\n",
       "\n",
       "    .dataframe thead th {\n",
       "        text-align: right;\n",
       "    }\n",
       "</style>\n",
       "<table border=\"1\" class=\"dataframe\">\n",
       "  <thead>\n",
       "    <tr style=\"text-align: right;\">\n",
       "      <th></th>\n",
       "      <th>ID</th>\n",
       "      <th>innings</th>\n",
       "      <th>total_run</th>\n",
       "    </tr>\n",
       "  </thead>\n",
       "  <tbody>\n",
       "    <tr>\n",
       "      <th>0</th>\n",
       "      <td>335982</td>\n",
       "      <td>1</td>\n",
       "      <td>222</td>\n",
       "    </tr>\n",
       "    <tr>\n",
       "      <th>1</th>\n",
       "      <td>335982</td>\n",
       "      <td>2</td>\n",
       "      <td>82</td>\n",
       "    </tr>\n",
       "    <tr>\n",
       "      <th>2</th>\n",
       "      <td>335983</td>\n",
       "      <td>1</td>\n",
       "      <td>240</td>\n",
       "    </tr>\n",
       "    <tr>\n",
       "      <th>3</th>\n",
       "      <td>335983</td>\n",
       "      <td>2</td>\n",
       "      <td>207</td>\n",
       "    </tr>\n",
       "    <tr>\n",
       "      <th>4</th>\n",
       "      <td>335984</td>\n",
       "      <td>1</td>\n",
       "      <td>129</td>\n",
       "    </tr>\n",
       "    <tr>\n",
       "      <th>...</th>\n",
       "      <td>...</td>\n",
       "      <td>...</td>\n",
       "      <td>...</td>\n",
       "    </tr>\n",
       "    <tr>\n",
       "      <th>1923</th>\n",
       "      <td>1312198</td>\n",
       "      <td>2</td>\n",
       "      <td>193</td>\n",
       "    </tr>\n",
       "    <tr>\n",
       "      <th>1924</th>\n",
       "      <td>1312199</td>\n",
       "      <td>1</td>\n",
       "      <td>157</td>\n",
       "    </tr>\n",
       "    <tr>\n",
       "      <th>1925</th>\n",
       "      <td>1312199</td>\n",
       "      <td>2</td>\n",
       "      <td>161</td>\n",
       "    </tr>\n",
       "    <tr>\n",
       "      <th>1926</th>\n",
       "      <td>1312200</td>\n",
       "      <td>1</td>\n",
       "      <td>130</td>\n",
       "    </tr>\n",
       "    <tr>\n",
       "      <th>1927</th>\n",
       "      <td>1312200</td>\n",
       "      <td>2</td>\n",
       "      <td>133</td>\n",
       "    </tr>\n",
       "  </tbody>\n",
       "</table>\n",
       "<p>1928 rows × 3 columns</p>\n",
       "</div>"
      ],
      "text/plain": [
       "           ID  innings  total_run\n",
       "0      335982        1        222\n",
       "1      335982        2         82\n",
       "2      335983        1        240\n",
       "3      335983        2        207\n",
       "4      335984        1        129\n",
       "...       ...      ...        ...\n",
       "1923  1312198        2        193\n",
       "1924  1312199        1        157\n",
       "1925  1312199        2        161\n",
       "1926  1312200        1        130\n",
       "1927  1312200        2        133\n",
       "\n",
       "[1928 rows x 3 columns]"
      ]
     },
     "execution_count": 6,
     "metadata": {},
     "output_type": "execute_result"
    }
   ],
   "source": [
    "total_score"
   ]
  },
  {
   "cell_type": "code",
   "execution_count": 7,
   "metadata": {},
   "outputs": [],
   "source": [
    "total_score=total_score[total_score['innings']==1]"
   ]
  },
  {
   "cell_type": "code",
   "execution_count": 8,
   "metadata": {},
   "outputs": [
    {
     "data": {
      "text/html": [
       "<div>\n",
       "<style scoped>\n",
       "    .dataframe tbody tr th:only-of-type {\n",
       "        vertical-align: middle;\n",
       "    }\n",
       "\n",
       "    .dataframe tbody tr th {\n",
       "        vertical-align: top;\n",
       "    }\n",
       "\n",
       "    .dataframe thead th {\n",
       "        text-align: right;\n",
       "    }\n",
       "</style>\n",
       "<table border=\"1\" class=\"dataframe\">\n",
       "  <thead>\n",
       "    <tr style=\"text-align: right;\">\n",
       "      <th></th>\n",
       "      <th>ID</th>\n",
       "      <th>innings</th>\n",
       "      <th>total_run</th>\n",
       "    </tr>\n",
       "  </thead>\n",
       "  <tbody>\n",
       "    <tr>\n",
       "      <th>0</th>\n",
       "      <td>335982</td>\n",
       "      <td>1</td>\n",
       "      <td>222</td>\n",
       "    </tr>\n",
       "    <tr>\n",
       "      <th>2</th>\n",
       "      <td>335983</td>\n",
       "      <td>1</td>\n",
       "      <td>240</td>\n",
       "    </tr>\n",
       "    <tr>\n",
       "      <th>4</th>\n",
       "      <td>335984</td>\n",
       "      <td>1</td>\n",
       "      <td>129</td>\n",
       "    </tr>\n",
       "    <tr>\n",
       "      <th>6</th>\n",
       "      <td>335985</td>\n",
       "      <td>1</td>\n",
       "      <td>165</td>\n",
       "    </tr>\n",
       "    <tr>\n",
       "      <th>8</th>\n",
       "      <td>335986</td>\n",
       "      <td>1</td>\n",
       "      <td>110</td>\n",
       "    </tr>\n",
       "  </tbody>\n",
       "</table>\n",
       "</div>"
      ],
      "text/plain": [
       "       ID  innings  total_run\n",
       "0  335982        1        222\n",
       "2  335983        1        240\n",
       "4  335984        1        129\n",
       "6  335985        1        165\n",
       "8  335986        1        110"
      ]
     },
     "execution_count": 8,
     "metadata": {},
     "output_type": "execute_result"
    }
   ],
   "source": [
    "total_score.head()"
   ]
  },
  {
   "cell_type": "code",
   "execution_count": 9,
   "metadata": {},
   "outputs": [],
   "source": [
    "total_score['target'] = total_score['total_run'] + 1"
   ]
  },
  {
   "cell_type": "code",
   "execution_count": 10,
   "metadata": {},
   "outputs": [],
   "source": [
    "match_df = match.merge(total_score[['ID','target']], on='ID')"
   ]
  },
  {
   "cell_type": "code",
   "execution_count": 11,
   "metadata": {},
   "outputs": [
    {
     "data": {
      "text/html": [
       "<div>\n",
       "<style scoped>\n",
       "    .dataframe tbody tr th:only-of-type {\n",
       "        vertical-align: middle;\n",
       "    }\n",
       "\n",
       "    .dataframe tbody tr th {\n",
       "        vertical-align: top;\n",
       "    }\n",
       "\n",
       "    .dataframe thead th {\n",
       "        text-align: right;\n",
       "    }\n",
       "</style>\n",
       "<table border=\"1\" class=\"dataframe\">\n",
       "  <thead>\n",
       "    <tr style=\"text-align: right;\">\n",
       "      <th></th>\n",
       "      <th>ID</th>\n",
       "      <th>City</th>\n",
       "      <th>Date</th>\n",
       "      <th>Season</th>\n",
       "      <th>MatchNumber</th>\n",
       "      <th>Team1</th>\n",
       "      <th>Team2</th>\n",
       "      <th>Venue</th>\n",
       "      <th>TossWinner</th>\n",
       "      <th>TossDecision</th>\n",
       "      <th>...</th>\n",
       "      <th>WinningTeam</th>\n",
       "      <th>WonBy</th>\n",
       "      <th>Margin</th>\n",
       "      <th>method</th>\n",
       "      <th>Player_of_Match</th>\n",
       "      <th>Team1Players</th>\n",
       "      <th>Team2Players</th>\n",
       "      <th>Umpire1</th>\n",
       "      <th>Umpire2</th>\n",
       "      <th>target</th>\n",
       "    </tr>\n",
       "  </thead>\n",
       "  <tbody>\n",
       "    <tr>\n",
       "      <th>0</th>\n",
       "      <td>1312200</td>\n",
       "      <td>Ahmedabad</td>\n",
       "      <td>2022-05-29</td>\n",
       "      <td>2022</td>\n",
       "      <td>Final</td>\n",
       "      <td>Rajasthan Royals</td>\n",
       "      <td>Gujarat Titans</td>\n",
       "      <td>Narendra Modi Stadium, Ahmedabad</td>\n",
       "      <td>Rajasthan Royals</td>\n",
       "      <td>bat</td>\n",
       "      <td>...</td>\n",
       "      <td>Gujarat Titans</td>\n",
       "      <td>Wickets</td>\n",
       "      <td>7.0</td>\n",
       "      <td>NaN</td>\n",
       "      <td>HH Pandya</td>\n",
       "      <td>['YBK Jaiswal', 'JC Buttler', 'SV Samson', 'D ...</td>\n",
       "      <td>['WP Saha', 'Shubman Gill', 'MS Wade', 'HH Pan...</td>\n",
       "      <td>CB Gaffaney</td>\n",
       "      <td>Nitin Menon</td>\n",
       "      <td>131</td>\n",
       "    </tr>\n",
       "    <tr>\n",
       "      <th>1</th>\n",
       "      <td>1312199</td>\n",
       "      <td>Ahmedabad</td>\n",
       "      <td>2022-05-27</td>\n",
       "      <td>2022</td>\n",
       "      <td>Qualifier 2</td>\n",
       "      <td>Royal Challengers Bangalore</td>\n",
       "      <td>Rajasthan Royals</td>\n",
       "      <td>Narendra Modi Stadium, Ahmedabad</td>\n",
       "      <td>Rajasthan Royals</td>\n",
       "      <td>field</td>\n",
       "      <td>...</td>\n",
       "      <td>Rajasthan Royals</td>\n",
       "      <td>Wickets</td>\n",
       "      <td>7.0</td>\n",
       "      <td>NaN</td>\n",
       "      <td>JC Buttler</td>\n",
       "      <td>['V Kohli', 'F du Plessis', 'RM Patidar', 'GJ ...</td>\n",
       "      <td>['YBK Jaiswal', 'JC Buttler', 'SV Samson', 'D ...</td>\n",
       "      <td>CB Gaffaney</td>\n",
       "      <td>Nitin Menon</td>\n",
       "      <td>158</td>\n",
       "    </tr>\n",
       "    <tr>\n",
       "      <th>2</th>\n",
       "      <td>1312198</td>\n",
       "      <td>Kolkata</td>\n",
       "      <td>2022-05-25</td>\n",
       "      <td>2022</td>\n",
       "      <td>Eliminator</td>\n",
       "      <td>Royal Challengers Bangalore</td>\n",
       "      <td>Lucknow Super Giants</td>\n",
       "      <td>Eden Gardens, Kolkata</td>\n",
       "      <td>Lucknow Super Giants</td>\n",
       "      <td>field</td>\n",
       "      <td>...</td>\n",
       "      <td>Royal Challengers Bangalore</td>\n",
       "      <td>Runs</td>\n",
       "      <td>14.0</td>\n",
       "      <td>NaN</td>\n",
       "      <td>RM Patidar</td>\n",
       "      <td>['V Kohli', 'F du Plessis', 'RM Patidar', 'GJ ...</td>\n",
       "      <td>['Q de Kock', 'KL Rahul', 'M Vohra', 'DJ Hooda...</td>\n",
       "      <td>J Madanagopal</td>\n",
       "      <td>MA Gough</td>\n",
       "      <td>208</td>\n",
       "    </tr>\n",
       "    <tr>\n",
       "      <th>3</th>\n",
       "      <td>1312197</td>\n",
       "      <td>Kolkata</td>\n",
       "      <td>2022-05-24</td>\n",
       "      <td>2022</td>\n",
       "      <td>Qualifier 1</td>\n",
       "      <td>Rajasthan Royals</td>\n",
       "      <td>Gujarat Titans</td>\n",
       "      <td>Eden Gardens, Kolkata</td>\n",
       "      <td>Gujarat Titans</td>\n",
       "      <td>field</td>\n",
       "      <td>...</td>\n",
       "      <td>Gujarat Titans</td>\n",
       "      <td>Wickets</td>\n",
       "      <td>7.0</td>\n",
       "      <td>NaN</td>\n",
       "      <td>DA Miller</td>\n",
       "      <td>['YBK Jaiswal', 'JC Buttler', 'SV Samson', 'D ...</td>\n",
       "      <td>['WP Saha', 'Shubman Gill', 'MS Wade', 'HH Pan...</td>\n",
       "      <td>BNJ Oxenford</td>\n",
       "      <td>VK Sharma</td>\n",
       "      <td>189</td>\n",
       "    </tr>\n",
       "    <tr>\n",
       "      <th>4</th>\n",
       "      <td>1304116</td>\n",
       "      <td>Mumbai</td>\n",
       "      <td>2022-05-22</td>\n",
       "      <td>2022</td>\n",
       "      <td>70</td>\n",
       "      <td>Sunrisers Hyderabad</td>\n",
       "      <td>Punjab Kings</td>\n",
       "      <td>Wankhede Stadium, Mumbai</td>\n",
       "      <td>Sunrisers Hyderabad</td>\n",
       "      <td>bat</td>\n",
       "      <td>...</td>\n",
       "      <td>Punjab Kings</td>\n",
       "      <td>Wickets</td>\n",
       "      <td>5.0</td>\n",
       "      <td>NaN</td>\n",
       "      <td>Harpreet Brar</td>\n",
       "      <td>['PK Garg', 'Abhishek Sharma', 'RA Tripathi', ...</td>\n",
       "      <td>['JM Bairstow', 'S Dhawan', 'M Shahrukh Khan',...</td>\n",
       "      <td>AK Chaudhary</td>\n",
       "      <td>NA Patwardhan</td>\n",
       "      <td>158</td>\n",
       "    </tr>\n",
       "  </tbody>\n",
       "</table>\n",
       "<p>5 rows × 21 columns</p>\n",
       "</div>"
      ],
      "text/plain": [
       "        ID       City        Date Season  MatchNumber  \\\n",
       "0  1312200  Ahmedabad  2022-05-29   2022        Final   \n",
       "1  1312199  Ahmedabad  2022-05-27   2022  Qualifier 2   \n",
       "2  1312198    Kolkata  2022-05-25   2022   Eliminator   \n",
       "3  1312197    Kolkata  2022-05-24   2022  Qualifier 1   \n",
       "4  1304116     Mumbai  2022-05-22   2022           70   \n",
       "\n",
       "                         Team1                 Team2  \\\n",
       "0             Rajasthan Royals        Gujarat Titans   \n",
       "1  Royal Challengers Bangalore      Rajasthan Royals   \n",
       "2  Royal Challengers Bangalore  Lucknow Super Giants   \n",
       "3             Rajasthan Royals        Gujarat Titans   \n",
       "4          Sunrisers Hyderabad          Punjab Kings   \n",
       "\n",
       "                              Venue            TossWinner TossDecision  ...  \\\n",
       "0  Narendra Modi Stadium, Ahmedabad      Rajasthan Royals          bat  ...   \n",
       "1  Narendra Modi Stadium, Ahmedabad      Rajasthan Royals        field  ...   \n",
       "2             Eden Gardens, Kolkata  Lucknow Super Giants        field  ...   \n",
       "3             Eden Gardens, Kolkata        Gujarat Titans        field  ...   \n",
       "4          Wankhede Stadium, Mumbai   Sunrisers Hyderabad          bat  ...   \n",
       "\n",
       "                   WinningTeam    WonBy Margin  method Player_of_Match  \\\n",
       "0               Gujarat Titans  Wickets    7.0     NaN       HH Pandya   \n",
       "1             Rajasthan Royals  Wickets    7.0     NaN      JC Buttler   \n",
       "2  Royal Challengers Bangalore     Runs   14.0     NaN      RM Patidar   \n",
       "3               Gujarat Titans  Wickets    7.0     NaN       DA Miller   \n",
       "4                 Punjab Kings  Wickets    5.0     NaN   Harpreet Brar   \n",
       "\n",
       "                                        Team1Players  \\\n",
       "0  ['YBK Jaiswal', 'JC Buttler', 'SV Samson', 'D ...   \n",
       "1  ['V Kohli', 'F du Plessis', 'RM Patidar', 'GJ ...   \n",
       "2  ['V Kohli', 'F du Plessis', 'RM Patidar', 'GJ ...   \n",
       "3  ['YBK Jaiswal', 'JC Buttler', 'SV Samson', 'D ...   \n",
       "4  ['PK Garg', 'Abhishek Sharma', 'RA Tripathi', ...   \n",
       "\n",
       "                                        Team2Players        Umpire1  \\\n",
       "0  ['WP Saha', 'Shubman Gill', 'MS Wade', 'HH Pan...    CB Gaffaney   \n",
       "1  ['YBK Jaiswal', 'JC Buttler', 'SV Samson', 'D ...    CB Gaffaney   \n",
       "2  ['Q de Kock', 'KL Rahul', 'M Vohra', 'DJ Hooda...  J Madanagopal   \n",
       "3  ['WP Saha', 'Shubman Gill', 'MS Wade', 'HH Pan...   BNJ Oxenford   \n",
       "4  ['JM Bairstow', 'S Dhawan', 'M Shahrukh Khan',...   AK Chaudhary   \n",
       "\n",
       "         Umpire2 target  \n",
       "0    Nitin Menon    131  \n",
       "1    Nitin Menon    158  \n",
       "2       MA Gough    208  \n",
       "3      VK Sharma    189  \n",
       "4  NA Patwardhan    158  \n",
       "\n",
       "[5 rows x 21 columns]"
      ]
     },
     "execution_count": 11,
     "metadata": {},
     "output_type": "execute_result"
    }
   ],
   "source": [
    "match_df.head()"
   ]
  },
  {
   "attachments": {},
   "cell_type": "markdown",
   "metadata": {},
   "source": [
    "## lets convert overs and ballnumber into overs(0.1) format"
   ]
  },
  {
   "cell_type": "code",
   "execution_count": 12,
   "metadata": {},
   "outputs": [
    {
     "data": {
      "text/html": [
       "<div>\n",
       "<style scoped>\n",
       "    .dataframe tbody tr th:only-of-type {\n",
       "        vertical-align: middle;\n",
       "    }\n",
       "\n",
       "    .dataframe tbody tr th {\n",
       "        vertical-align: top;\n",
       "    }\n",
       "\n",
       "    .dataframe thead th {\n",
       "        text-align: right;\n",
       "    }\n",
       "</style>\n",
       "<table border=\"1\" class=\"dataframe\">\n",
       "  <thead>\n",
       "    <tr style=\"text-align: right;\">\n",
       "      <th></th>\n",
       "      <th>ID</th>\n",
       "      <th>innings</th>\n",
       "      <th>overs</th>\n",
       "      <th>ballnumber</th>\n",
       "      <th>batter</th>\n",
       "      <th>bowler</th>\n",
       "      <th>non-striker</th>\n",
       "      <th>extra_type</th>\n",
       "      <th>batsman_run</th>\n",
       "      <th>extras_run</th>\n",
       "      <th>total_run</th>\n",
       "      <th>non_boundary</th>\n",
       "      <th>isWicketDelivery</th>\n",
       "      <th>player_out</th>\n",
       "      <th>kind</th>\n",
       "      <th>fielders_involved</th>\n",
       "      <th>BattingTeam</th>\n",
       "      <th>Overs</th>\n",
       "    </tr>\n",
       "  </thead>\n",
       "  <tbody>\n",
       "    <tr>\n",
       "      <th>0</th>\n",
       "      <td>1312200</td>\n",
       "      <td>1</td>\n",
       "      <td>0</td>\n",
       "      <td>1</td>\n",
       "      <td>YBK Jaiswal</td>\n",
       "      <td>Mohammed Shami</td>\n",
       "      <td>JC Buttler</td>\n",
       "      <td>NaN</td>\n",
       "      <td>0</td>\n",
       "      <td>0</td>\n",
       "      <td>0</td>\n",
       "      <td>0</td>\n",
       "      <td>0</td>\n",
       "      <td>NaN</td>\n",
       "      <td>NaN</td>\n",
       "      <td>NaN</td>\n",
       "      <td>Rajasthan Royals</td>\n",
       "      <td>0.1</td>\n",
       "    </tr>\n",
       "    <tr>\n",
       "      <th>1</th>\n",
       "      <td>1312200</td>\n",
       "      <td>1</td>\n",
       "      <td>0</td>\n",
       "      <td>2</td>\n",
       "      <td>YBK Jaiswal</td>\n",
       "      <td>Mohammed Shami</td>\n",
       "      <td>JC Buttler</td>\n",
       "      <td>legbyes</td>\n",
       "      <td>0</td>\n",
       "      <td>1</td>\n",
       "      <td>1</td>\n",
       "      <td>0</td>\n",
       "      <td>0</td>\n",
       "      <td>NaN</td>\n",
       "      <td>NaN</td>\n",
       "      <td>NaN</td>\n",
       "      <td>Rajasthan Royals</td>\n",
       "      <td>0.2</td>\n",
       "    </tr>\n",
       "    <tr>\n",
       "      <th>2</th>\n",
       "      <td>1312200</td>\n",
       "      <td>1</td>\n",
       "      <td>0</td>\n",
       "      <td>3</td>\n",
       "      <td>JC Buttler</td>\n",
       "      <td>Mohammed Shami</td>\n",
       "      <td>YBK Jaiswal</td>\n",
       "      <td>NaN</td>\n",
       "      <td>1</td>\n",
       "      <td>0</td>\n",
       "      <td>1</td>\n",
       "      <td>0</td>\n",
       "      <td>0</td>\n",
       "      <td>NaN</td>\n",
       "      <td>NaN</td>\n",
       "      <td>NaN</td>\n",
       "      <td>Rajasthan Royals</td>\n",
       "      <td>0.3</td>\n",
       "    </tr>\n",
       "    <tr>\n",
       "      <th>3</th>\n",
       "      <td>1312200</td>\n",
       "      <td>1</td>\n",
       "      <td>0</td>\n",
       "      <td>4</td>\n",
       "      <td>YBK Jaiswal</td>\n",
       "      <td>Mohammed Shami</td>\n",
       "      <td>JC Buttler</td>\n",
       "      <td>NaN</td>\n",
       "      <td>0</td>\n",
       "      <td>0</td>\n",
       "      <td>0</td>\n",
       "      <td>0</td>\n",
       "      <td>0</td>\n",
       "      <td>NaN</td>\n",
       "      <td>NaN</td>\n",
       "      <td>NaN</td>\n",
       "      <td>Rajasthan Royals</td>\n",
       "      <td>0.4</td>\n",
       "    </tr>\n",
       "    <tr>\n",
       "      <th>4</th>\n",
       "      <td>1312200</td>\n",
       "      <td>1</td>\n",
       "      <td>0</td>\n",
       "      <td>5</td>\n",
       "      <td>YBK Jaiswal</td>\n",
       "      <td>Mohammed Shami</td>\n",
       "      <td>JC Buttler</td>\n",
       "      <td>NaN</td>\n",
       "      <td>0</td>\n",
       "      <td>0</td>\n",
       "      <td>0</td>\n",
       "      <td>0</td>\n",
       "      <td>0</td>\n",
       "      <td>NaN</td>\n",
       "      <td>NaN</td>\n",
       "      <td>NaN</td>\n",
       "      <td>Rajasthan Royals</td>\n",
       "      <td>0.5</td>\n",
       "    </tr>\n",
       "  </tbody>\n",
       "</table>\n",
       "</div>"
      ],
      "text/plain": [
       "        ID  innings  overs  ballnumber       batter          bowler  \\\n",
       "0  1312200        1      0           1  YBK Jaiswal  Mohammed Shami   \n",
       "1  1312200        1      0           2  YBK Jaiswal  Mohammed Shami   \n",
       "2  1312200        1      0           3   JC Buttler  Mohammed Shami   \n",
       "3  1312200        1      0           4  YBK Jaiswal  Mohammed Shami   \n",
       "4  1312200        1      0           5  YBK Jaiswal  Mohammed Shami   \n",
       "\n",
       "   non-striker extra_type  batsman_run  extras_run  total_run  non_boundary  \\\n",
       "0   JC Buttler        NaN            0           0          0             0   \n",
       "1   JC Buttler    legbyes            0           1          1             0   \n",
       "2  YBK Jaiswal        NaN            1           0          1             0   \n",
       "3   JC Buttler        NaN            0           0          0             0   \n",
       "4   JC Buttler        NaN            0           0          0             0   \n",
       "\n",
       "   isWicketDelivery player_out kind fielders_involved       BattingTeam  Overs  \n",
       "0                 0        NaN  NaN               NaN  Rajasthan Royals    0.1  \n",
       "1                 0        NaN  NaN               NaN  Rajasthan Royals    0.2  \n",
       "2                 0        NaN  NaN               NaN  Rajasthan Royals    0.3  \n",
       "3                 0        NaN  NaN               NaN  Rajasthan Royals    0.4  \n",
       "4                 0        NaN  NaN               NaN  Rajasthan Royals    0.5  "
      ]
     },
     "execution_count": 12,
     "metadata": {},
     "output_type": "execute_result"
    }
   ],
   "source": [
    "overs = ball['overs']\n",
    "ballnumber = ball['ballnumber']\n",
    "ball['Overs'] = overs + ballnumber/10\n",
    "ball.head()"
   ]
  },
  {
   "cell_type": "code",
   "execution_count": 13,
   "metadata": {},
   "outputs": [
    {
     "data": {
      "text/plain": [
       "Index(['ID', 'innings', 'overs', 'ballnumber', 'batter', 'bowler',\n",
       "       'non-striker', 'extra_type', 'batsman_run', 'extras_run', 'total_run',\n",
       "       'non_boundary', 'isWicketDelivery', 'player_out', 'kind',\n",
       "       'fielders_involved', 'BattingTeam', 'Overs'],\n",
       "      dtype='object')"
      ]
     },
     "execution_count": 13,
     "metadata": {},
     "output_type": "execute_result"
    }
   ],
   "source": [
    "ball.columns"
   ]
  },
  {
   "cell_type": "code",
   "execution_count": 14,
   "metadata": {},
   "outputs": [
    {
     "data": {
      "text/plain": [
       "Index(['ID', 'City', 'Date', 'Season', 'MatchNumber', 'Team1', 'Team2',\n",
       "       'Venue', 'TossWinner', 'TossDecision', 'SuperOver', 'WinningTeam',\n",
       "       'WonBy', 'Margin', 'method', 'Player_of_Match', 'Team1Players',\n",
       "       'Team2Players', 'Umpire1', 'Umpire2', 'target'],\n",
       "      dtype='object')"
      ]
     },
     "execution_count": 14,
     "metadata": {},
     "output_type": "execute_result"
    }
   ],
   "source": [
    "match_df.columns"
   ]
  },
  {
   "cell_type": "code",
   "execution_count": 15,
   "metadata": {},
   "outputs": [
    {
     "data": {
      "application/vnd.plotly.v1+json": {
       "config": {
        "plotlyServerURL": "https://plot.ly"
       },
       "data": [
        {
         "alignmentgroup": "True",
         "bingroup": "x",
         "hovertemplate": "WinningTeam=%{x}<br>count=%{y}<extra></extra>",
         "legendgroup": "",
         "marker": {
          "color": "#636efa",
          "pattern": {
           "shape": ""
          }
         },
         "name": "",
         "offsetgroup": "",
         "orientation": "v",
         "showlegend": false,
         "type": "histogram",
         "x": [
          "Gujarat Titans",
          "Rajasthan Royals",
          "Royal Challengers Bangalore",
          "Gujarat Titans",
          "Punjab Kings",
          "Mumbai Indians",
          "Rajasthan Royals",
          "Royal Challengers Bangalore",
          "Lucknow Super Giants",
          "Sunrisers Hyderabad",
          "Delhi Capitals",
          "Rajasthan Royals",
          "Gujarat Titans",
          "Kolkata Knight Riders",
          "Punjab Kings",
          "Mumbai Indians",
          "Delhi Capitals",
          "Gujarat Titans",
          "Kolkata Knight Riders",
          "Chennai Super Kings",
          "Royal Challengers Bangalore",
          "Lucknow Super Giants",
          "Rajasthan Royals",
          "Mumbai Indians",
          "Delhi Capitals",
          "Royal Challengers Bangalore",
          "Punjab Kings",
          "Kolkata Knight Riders",
          "Chennai Super Kings",
          "Lucknow Super Giants",
          "Mumbai Indians",
          "Gujarat Titans",
          "Lucknow Super Giants",
          "Delhi Capitals",
          "Gujarat Titans",
          "Rajasthan Royals",
          "Punjab Kings",
          "Lucknow Super Giants",
          "Sunrisers Hyderabad",
          "Gujarat Titans",
          "Rajasthan Royals",
          "Chennai Super Kings",
          "Delhi Capitals",
          "Royal Challengers Bangalore",
          "Rajasthan Royals",
          "Gujarat Titans",
          "Sunrisers Hyderabad",
          "Royal Challengers Bangalore",
          "Lucknow Super Giants",
          "Sunrisers Hyderabad",
          "Gujarat Titans",
          "Punjab Kings",
          "Chennai Super Kings",
          "Sunrisers Hyderabad",
          "Rajasthan Royals",
          "Delhi Capitals",
          "Royal Challengers Bangalore",
          "Sunrisers Hyderabad",
          "Gujarat Titans",
          "Lucknow Super Giants",
          "Kolkata Knight Riders",
          "Royal Challengers Bangalore",
          "Lucknow Super Giants",
          "Punjab Kings",
          "Gujarat Titans",
          "Rajasthan Royals",
          "Kolkata Knight Riders",
          "Lucknow Super Giants",
          "Royal Challengers Bangalore",
          "Rajasthan Royals",
          "Gujarat Titans",
          "Punjab Kings",
          "Delhi Capitals",
          "Kolkata Knight Riders",
          "Chennai Super Kings",
          "Kolkata Knight Riders",
          "Kolkata Knight Riders",
          "Chennai Super Kings",
          "Royal Challengers Bangalore",
          "Mumbai Indians",
          "Kolkata Knight Riders",
          "Punjab Kings",
          "Sunrisers Hyderabad",
          "Mumbai Indians",
          "Delhi Capitals",
          "Royal Challengers Bangalore",
          "Kolkata Knight Riders",
          "Delhi Capitals",
          "Rajasthan Royals",
          "Punjab Kings",
          "Chennai Super Kings",
          "Royal Challengers Bangalore",
          "Mumbai Indians",
          "Kolkata Knight Riders",
          "Sunrisers Hyderabad",
          "Chennai Super Kings",
          "Royal Challengers Bangalore",
          "Delhi Capitals",
          "Punjab Kings",
          "Chennai Super Kings",
          "Kolkata Knight Riders",
          "Delhi Capitals",
          "Rajasthan Royals",
          "Kolkata Knight Riders",
          "Chennai Super Kings",
          "Delhi Capitals",
          "Rajasthan Royals",
          "Mumbai Indians",
          "Punjab Kings",
          "Delhi Capitals",
          "Mumbai Indians",
          "Chennai Super Kings",
          "Royal Challengers Bangalore",
          "Kolkata Knight Riders",
          "Delhi Capitals",
          "Chennai Super Kings",
          "Rajasthan Royals",
          "Punjab Kings",
          "Royal Challengers Bangalore",
          "Chennai Super Kings",
          "Sunrisers Hyderabad",
          "Delhi Capitals",
          "Chennai Super Kings",
          "Delhi Capitals",
          "Royal Challengers Bangalore",
          "Mumbai Indians",
          "Chennai Super Kings",
          "Rajasthan Royals",
          "Royal Challengers Bangalore",
          "Mumbai Indians",
          "Punjab Kings",
          "Kolkata Knight Riders",
          "Delhi Capitals",
          "Royal Challengers Bangalore",
          "Mumbai Indians",
          "Delhi Capitals",
          "Sunrisers Hyderabad",
          "Mumbai Indians",
          "Sunrisers Hyderabad",
          "Delhi Capitals",
          "Kolkata Knight Riders",
          "Chennai Super Kings",
          "Mumbai Indians",
          "Sunrisers Hyderabad",
          "Rajasthan Royals",
          "Chennai Super Kings",
          "Mumbai Indians",
          "Sunrisers Hyderabad",
          "Kings XI Punjab",
          "Rajasthan Royals",
          "Chennai Super Kings",
          "Kings XI Punjab",
          "Kolkata Knight Riders",
          "Mumbai Indians",
          "Sunrisers Hyderabad",
          "Royal Challengers Bangalore",
          "Kings XI Punjab",
          "Rajasthan Royals",
          "Kolkata Knight Riders",
          "Kings XI Punjab",
          "Royal Challengers Bangalore",
          "Delhi Capitals",
          "Mumbai Indians",
          "Kings XI Punjab",
          "Delhi Capitals",
          "Chennai Super Kings",
          "Royal Challengers Bangalore",
          "Rajasthan Royals",
          "Mumbai Indians",
          "Kolkata Knight Riders",
          "Royal Challengers Bangalore",
          "Delhi Capitals",
          "Sunrisers Hyderabad",
          "Kolkata Knight Riders",
          "Mumbai Indians",
          "Delhi Capitals",
          "Chennai Super Kings",
          "Mumbai Indians",
          "Royal Challengers Bangalore",
          "Delhi Capitals",
          "Sunrisers Hyderabad",
          "Mumbai Indians",
          "Kolkata Knight Riders",
          "Sunrisers Hyderabad",
          "Royal Challengers Bangalore",
          "Rajasthan Royals",
          "Kolkata Knight Riders",
          "Delhi Capitals",
          "Kings XI Punjab",
          "Mumbai Indians",
          "Rajasthan Royals",
          "Royal Challengers Bangalore",
          "Delhi Capitals",
          "Chennai Super Kings",
          "Mumbai Indians",
          "Chennai Super Kings",
          "Delhi Capitals",
          "Mumbai Indians",
          "Kings XI Punjab",
          "Mumbai Indians",
          "Royal Challengers Bangalore",
          "Delhi Capitals",
          "Kolkata Knight Riders",
          "Mumbai Indians",
          "Chennai Super Kings",
          null,
          "Sunrisers Hyderabad",
          "Kolkata Knight Riders",
          "Delhi Capitals",
          "Rajasthan Royals",
          "Mumbai Indians",
          "Rajasthan Royals",
          "Royal Challengers Bangalore",
          "Chennai Super Kings",
          "Delhi Capitals",
          "Sunrisers Hyderabad",
          "Royal Challengers Bangalore",
          "Delhi Capitals",
          "Rajasthan Royals",
          "Royal Challengers Bangalore",
          "Mumbai Indians",
          "Sunrisers Hyderabad",
          "Kings XI Punjab",
          "Mumbai Indians",
          "Chennai Super Kings",
          "Delhi Capitals",
          "Rajasthan Royals",
          "Royal Challengers Bangalore",
          "Delhi Capitals",
          "Chennai Super Kings",
          "Mumbai Indians",
          "Chennai Super Kings",
          "Kings XI Punjab",
          "Kolkata Knight Riders",
          "Delhi Capitals",
          "Mumbai Indians",
          "Chennai Super Kings",
          "Kolkata Knight Riders",
          "Sunrisers Hyderabad",
          "Mumbai Indians",
          "Rajasthan Royals",
          "Kings XI Punjab",
          "Sunrisers Hyderabad",
          "Chennai Super Kings",
          "Delhi Capitals",
          "Kings XI Punjab",
          "Sunrisers Hyderabad",
          "Mumbai Indians",
          "Kolkata Knight Riders",
          "Chennai Super Kings",
          "Kings XI Punjab",
          "Delhi Capitals",
          "Kolkata Knight Riders",
          "Chennai Super Kings",
          "Chennai Super Kings",
          "Sunrisers Hyderabad",
          "Kolkata Knight Riders",
          "Chennai Super Kings",
          "Chennai Super Kings",
          "Delhi Daredevils",
          "Kolkata Knight Riders",
          "Rajasthan Royals",
          "Delhi Daredevils",
          "Royal Challengers Bangalore",
          "Mumbai Indians",
          "Kolkata Knight Riders",
          "Royal Challengers Bangalore",
          "Rajasthan Royals",
          "Chennai Super Kings",
          "Royal Challengers Bangalore",
          "Kolkata Knight Riders",
          "Rajasthan Royals",
          "Sunrisers Hyderabad",
          "Mumbai Indians",
          "Rajasthan Royals",
          "Sunrisers Hyderabad",
          "Kings XI Punjab",
          "Mumbai Indians",
          "Sunrisers Hyderabad",
          "Chennai Super Kings",
          "Mumbai Indians",
          "Kolkata Knight Riders",
          "Delhi Daredevils",
          "Royal Challengers Bangalore",
          "Chennai Super Kings",
          "Sunrisers Hyderabad",
          "Kolkata Knight Riders",
          "Mumbai Indians",
          "Delhi Daredevils",
          "Sunrisers Hyderabad",
          "Chennai Super Kings",
          "Sunrisers Hyderabad",
          "Kings XI Punjab",
          "Rajasthan Royals",
          "Chennai Super Kings",
          "Royal Challengers Bangalore",
          "Kings XI Punjab",
          "Chennai Super Kings",
          "Kings XI Punjab",
          "Kolkata Knight Riders",
          "Mumbai Indians",
          "Kolkata Knight Riders",
          "Kings XI Punjab",
          "Rajasthan Royals",
          "Sunrisers Hyderabad",
          "Delhi Daredevils",
          "Royal Challengers Bangalore",
          "Sunrisers Hyderabad",
          "Rajasthan Royals",
          "Chennai Super Kings",
          "Sunrisers Hyderabad",
          "Kings XI Punjab",
          "Kolkata Knight Riders",
          "Chennai Super Kings",
          "Mumbai Indians",
          "Mumbai Indians",
          "Kolkata Knight Riders",
          "Rising Pune Supergiant",
          "Royal Challengers Bangalore",
          "Rising Pune Supergiant",
          "Mumbai Indians",
          "Sunrisers Hyderabad",
          "Delhi Daredevils",
          "Kings XI Punjab",
          "Delhi Daredevils",
          "Kings XI Punjab",
          "Sunrisers Hyderabad",
          "Kolkata Knight Riders",
          "Gujarat Lions",
          "Mumbai Indians",
          "Rising Pune Supergiant",
          "Kings XI Punjab",
          "Delhi Daredevils",
          "Rising Pune Supergiant",
          "Delhi Daredevils",
          "Rising Pune Supergiant",
          "Mumbai Indians",
          "Sunrisers Hyderabad",
          "Kings XI Punjab",
          "Mumbai Indians",
          "Rising Pune Supergiant",
          "Kolkata Knight Riders",
          "Sunrisers Hyderabad",
          "Gujarat Lions",
          "Kolkata Knight Riders",
          "Rising Pune Supergiant",
          "Kolkata Knight Riders",
          "Kings XI Punjab",
          "Rising Pune Supergiant",
          "Mumbai Indians",
          "Gujarat Lions",
          "Mumbai Indians",
          "Sunrisers Hyderabad",
          "Royal Challengers Bangalore",
          "Kolkata Knight Riders",
          "Sunrisers Hyderabad",
          "Rising Pune Supergiant",
          "Mumbai Indians",
          "Delhi Daredevils",
          "Kolkata Knight Riders",
          "Gujarat Lions",
          "Mumbai Indians",
          "Kolkata Knight Riders",
          "Mumbai Indians",
          "Delhi Daredevils",
          "Kings XI Punjab",
          "Mumbai Indians",
          "Sunrisers Hyderabad",
          "Royal Challengers Bangalore",
          "Kings XI Punjab",
          "Kolkata Knight Riders",
          "Rising Pune Supergiant",
          "Sunrisers Hyderabad",
          "Sunrisers Hyderabad",
          "Sunrisers Hyderabad",
          "Sunrisers Hyderabad",
          "Royal Challengers Bangalore",
          "Royal Challengers Bangalore",
          "Kolkata Knight Riders",
          "Gujarat Lions",
          "Rising Pune Supergiants",
          "Delhi Daredevils",
          "Gujarat Lions",
          "Royal Challengers Bangalore",
          "Rising Pune Supergiants",
          "Royal Challengers Bangalore",
          "Sunrisers Hyderabad",
          "Mumbai Indians",
          "Royal Challengers Bangalore",
          "Kolkata Knight Riders",
          "Kings XI Punjab",
          "Delhi Daredevils",
          "Mumbai Indians",
          "Sunrisers Hyderabad",
          "Royal Challengers Bangalore",
          "Gujarat Lions",
          "Sunrisers Hyderabad",
          "Kings XI Punjab",
          "Royal Challengers Bangalore",
          "Sunrisers Hyderabad",
          "Rising Pune Supergiants",
          "Kolkata Knight Riders",
          "Delhi Daredevils",
          "Kolkata Knight Riders",
          "Kings XI Punjab",
          "Mumbai Indians",
          "Delhi Daredevils",
          "Sunrisers Hyderabad",
          "Gujarat Lions",
          "Mumbai Indians",
          "Gujarat Lions",
          "Rising Pune Supergiants",
          "Mumbai Indians",
          "Kolkata Knight Riders",
          "Gujarat Lions",
          "Sunrisers Hyderabad",
          "Delhi Daredevils",
          "Royal Challengers Bangalore",
          "Sunrisers Hyderabad",
          "Mumbai Indians",
          "Kolkata Knight Riders",
          "Sunrisers Hyderabad",
          "Delhi Daredevils",
          "Kings XI Punjab",
          "Gujarat Lions",
          "Kolkata Knight Riders",
          "Delhi Daredevils",
          "Gujarat Lions",
          "Mumbai Indians",
          "Royal Challengers Bangalore",
          "Gujarat Lions",
          "Kolkata Knight Riders",
          "Rising Pune Supergiants",
          "Mumbai Indians",
          "Chennai Super Kings",
          "Royal Challengers Bangalore",
          "Mumbai Indians",
          null,
          "Mumbai Indians",
          "Rajasthan Royals",
          "Chennai Super Kings",
          "Royal Challengers Bangalore",
          "Mumbai Indians",
          "Kings XI Punjab",
          "Delhi Daredevils",
          "Sunrisers Hyderabad",
          "Chennai Super Kings",
          "Royal Challengers Bangalore",
          "Sunrisers Hyderabad",
          "Kolkata Knight Riders",
          "Mumbai Indians",
          "Sunrisers Hyderabad",
          "Kolkata Knight Riders",
          "Royal Challengers Bangalore",
          "Mumbai Indians",
          "Kolkata Knight Riders",
          "Chennai Super Kings",
          "Mumbai Indians",
          "Rajasthan Royals",
          "Royal Challengers Bangalore",
          "Sunrisers Hyderabad",
          "Mumbai Indians",
          "Delhi Daredevils",
          "Kolkata Knight Riders",
          null,
          "Chennai Super Kings",
          "Sunrisers Hyderabad",
          "Royal Challengers Bangalore",
          "Chennai Super Kings",
          "Mumbai Indians",
          "Royal Challengers Bangalore",
          "Delhi Daredevils",
          "Sunrisers Hyderabad",
          "Chennai Super Kings",
          "Kings XI Punjab",
          "Kolkata Knight Riders",
          "Rajasthan Royals",
          "Mumbai Indians",
          "Delhi Daredevils",
          "Kolkata Knight Riders",
          "Chennai Super Kings",
          "Rajasthan Royals",
          "Delhi Daredevils",
          "Rajasthan Royals",
          "Sunrisers Hyderabad",
          "Kings XI Punjab",
          "Rajasthan Royals",
          "Royal Challengers Bangalore",
          "Chennai Super Kings",
          "Rajasthan Royals",
          "Chennai Super Kings",
          "Kolkata Knight Riders",
          "Kolkata Knight Riders",
          "Kings XI Punjab",
          "Chennai Super Kings",
          "Kolkata Knight Riders",
          "Mumbai Indians",
          "Kings XI Punjab",
          "Chennai Super Kings",
          "Kolkata Knight Riders",
          "Mumbai Indians",
          "Kings XI Punjab",
          "Kolkata Knight Riders",
          "Sunrisers Hyderabad",
          "Mumbai Indians",
          "Kolkata Knight Riders",
          "Sunrisers Hyderabad",
          "Kings XI Punjab",
          "Mumbai Indians",
          "Royal Challengers Bangalore",
          "Kolkata Knight Riders",
          "Rajasthan Royals",
          "Kolkata Knight Riders",
          "Kings XI Punjab",
          "Royal Challengers Bangalore",
          "Chennai Super Kings",
          "Mumbai Indians",
          "Kolkata Knight Riders",
          "Rajasthan Royals",
          "Chennai Super Kings",
          "Sunrisers Hyderabad",
          "Kings XI Punjab",
          "Sunrisers Hyderabad",
          "Kolkata Knight Riders",
          "Kings XI Punjab",
          "Mumbai Indians",
          "Chennai Super Kings",
          "Rajasthan Royals",
          "Royal Challengers Bangalore",
          "Rajasthan Royals",
          "Mumbai Indians",
          "Chennai Super Kings",
          "Sunrisers Hyderabad",
          "Rajasthan Royals",
          "Kings XI Punjab",
          "Chennai Super Kings",
          "Delhi Daredevils",
          "Kings XI Punjab",
          "Rajasthan Royals",
          "Sunrisers Hyderabad",
          "Chennai Super Kings",
          "Kolkata Knight Riders",
          "Chennai Super Kings",
          "Kings XI Punjab",
          "Chennai Super Kings",
          "Kings XI Punjab",
          "Delhi Daredevils",
          "Royal Challengers Bangalore",
          "Rajasthan Royals",
          "Kings XI Punjab",
          "Royal Challengers Bangalore",
          "Kolkata Knight Riders",
          "Mumbai Indians",
          "Mumbai Indians",
          "Rajasthan Royals",
          "Chennai Super Kings",
          "Sunrisers Hyderabad",
          "Pune Warriors",
          "Royal Challengers Bangalore",
          "Kings XI Punjab",
          "Sunrisers Hyderabad",
          "Kings XI Punjab",
          "Mumbai Indians",
          "Pune Warriors",
          "Chennai Super Kings",
          "Kings XI Punjab",
          "Mumbai Indians",
          "Rajasthan Royals",
          "Kolkata Knight Riders",
          "Sunrisers Hyderabad",
          "Mumbai Indians",
          "Royal Challengers Bangalore",
          "Kolkata Knight Riders",
          "Rajasthan Royals",
          "Chennai Super Kings",
          "Rajasthan Royals",
          "Mumbai Indians",
          "Kings XI Punjab",
          "Rajasthan Royals",
          "Mumbai Indians",
          "Sunrisers Hyderabad",
          "Kolkata Knight Riders",
          "Royal Challengers Bangalore",
          "Chennai Super Kings",
          "Delhi Daredevils",
          "Sunrisers Hyderabad",
          "Chennai Super Kings",
          "Mumbai Indians",
          "Rajasthan Royals",
          "Chennai Super Kings",
          "Delhi Daredevils",
          "Mumbai Indians",
          "Rajasthan Royals",
          "Kolkata Knight Riders",
          "Chennai Super Kings",
          "Mumbai Indians",
          "Kings XI Punjab",
          "Royal Challengers Bangalore",
          "Chennai Super Kings",
          "Kings XI Punjab",
          "Delhi Daredevils",
          "Royal Challengers Bangalore",
          "Chennai Super Kings",
          "Sunrisers Hyderabad",
          "Chennai Super Kings",
          "Rajasthan Royals",
          "Sunrisers Hyderabad",
          "Kings XI Punjab",
          "Royal Challengers Bangalore",
          "Pune Warriors",
          "Rajasthan Royals",
          "Kolkata Knight Riders",
          "Chennai Super Kings",
          "Mumbai Indians",
          "Sunrisers Hyderabad",
          "Pune Warriors",
          "Royal Challengers Bangalore",
          "Chennai Super Kings",
          "Royal Challengers Bangalore",
          "Mumbai Indians",
          "Rajasthan Royals",
          "Sunrisers Hyderabad",
          "Kings XI Punjab",
          "Mumbai Indians",
          "Rajasthan Royals",
          "Sunrisers Hyderabad",
          "Royal Challengers Bangalore",
          "Kolkata Knight Riders",
          "Kolkata Knight Riders",
          "Chennai Super Kings",
          "Chennai Super Kings",
          "Kolkata Knight Riders",
          "Mumbai Indians",
          "Deccan Chargers",
          "Kolkata Knight Riders",
          "Delhi Daredevils",
          "Deccan Chargers",
          "Kings XI Punjab",
          "Royal Challengers Bangalore",
          "Kolkata Knight Riders",
          "Delhi Daredevils",
          "Chennai Super Kings",
          "Mumbai Indians",
          "Kings XI Punjab",
          "Rajasthan Royals",
          "Chennai Super Kings",
          "Mumbai Indians",
          "Royal Challengers Bangalore",
          "Chennai Super Kings",
          "Delhi Daredevils",
          "Royal Challengers Bangalore",
          "Kings XI Punjab",
          "Rajasthan Royals",
          "Kolkata Knight Riders",
          "Royal Challengers Bangalore",
          "Mumbai Indians",
          "Rajasthan Royals",
          "Kolkata Knight Riders",
          "Chennai Super Kings",
          "Mumbai Indians",
          "Kings XI Punjab",
          "Delhi Daredevils",
          "Deccan Chargers",
          "Kolkata Knight Riders",
          "Mumbai Indians",
          "Delhi Daredevils",
          "Kolkata Knight Riders",
          "Kings XI Punjab",
          "Delhi Daredevils",
          "Deccan Chargers",
          "Mumbai Indians",
          "Delhi Daredevils",
          "Royal Challengers Bangalore",
          "Kings XI Punjab",
          "Kolkata Knight Riders",
          "Pune Warriors",
          "Chennai Super Kings",
          "Royal Challengers Bangalore",
          "Chennai Super Kings",
          "Delhi Daredevils",
          "Kolkata Knight Riders",
          "Royal Challengers Bangalore",
          "Rajasthan Royals",
          "Delhi Daredevils",
          "Rajasthan Royals",
          "Kings XI Punjab",
          "Pune Warriors",
          "Kolkata Knight Riders",
          "Kings XI Punjab",
          "Chennai Super Kings",
          "Mumbai Indians",
          "Delhi Daredevils",
          "Kolkata Knight Riders",
          "Mumbai Indians",
          "Pune Warriors",
          "Rajasthan Royals",
          "Chennai Super Kings",
          "Royal Challengers Bangalore",
          "Rajasthan Royals",
          "Pune Warriors",
          "Delhi Daredevils",
          "Mumbai Indians",
          "Chennai Super Kings",
          "Royal Challengers Bangalore",
          "Mumbai Indians",
          "Chennai Super Kings",
          "Mumbai Indians",
          "Royal Challengers Bangalore",
          null,
          "Deccan Chargers",
          "Rajasthan Royals",
          "Kolkata Knight Riders",
          "Chennai Super Kings",
          "Kings XI Punjab",
          "Deccan Chargers",
          "Kochi Tuskers Kerala",
          "Kings XI Punjab",
          "Royal Challengers Bangalore",
          "Deccan Chargers",
          "Kings XI Punjab",
          "Chennai Super Kings",
          "Royal Challengers Bangalore",
          "Kings XI Punjab",
          "Pune Warriors",
          "Chennai Super Kings",
          "Pune Warriors",
          "Royal Challengers Bangalore",
          "Mumbai Indians",
          "Kolkata Knight Riders",
          "Royal Challengers Bangalore",
          "Delhi Daredevils",
          "Kochi Tuskers Kerala",
          "Mumbai Indians",
          "Chennai Super Kings",
          "Kolkata Knight Riders",
          "Kochi Tuskers Kerala",
          "Mumbai Indians",
          "Rajasthan Royals",
          "Chennai Super Kings",
          "Delhi Daredevils",
          "Kolkata Knight Riders",
          "Royal Challengers Bangalore",
          "Rajasthan Royals",
          "Kolkata Knight Riders",
          "Chennai Super Kings",
          "Deccan Chargers",
          "Royal Challengers Bangalore",
          "Chennai Super Kings",
          "Rajasthan Royals",
          "Mumbai Indians",
          "Delhi Daredevils",
          "Royal Challengers Bangalore",
          "Mumbai Indians",
          "Kings XI Punjab",
          "Mumbai Indians",
          "Kochi Tuskers Kerala",
          "Deccan Chargers",
          "Kochi Tuskers Kerala",
          "Kolkata Knight Riders",
          "Delhi Daredevils",
          "Kings XI Punjab",
          "Chennai Super Kings",
          "Kochi Tuskers Kerala",
          "Kolkata Knight Riders",
          "Deccan Chargers",
          "Pune Warriors",
          "Kings XI Punjab",
          "Rajasthan Royals",
          "Mumbai Indians",
          "Kolkata Knight Riders",
          "Pune Warriors",
          "Mumbai Indians",
          "Royal Challengers Bangalore",
          "Rajasthan Royals",
          "Chennai Super Kings",
          "Chennai Super Kings",
          "Royal Challengers Bangalore",
          "Chennai Super Kings",
          "Mumbai Indians",
          "Kolkata Knight Riders",
          "Deccan Chargers",
          "Chennai Super Kings",
          "Kolkata Knight Riders",
          "Mumbai Indians",
          "Deccan Chargers",
          "Delhi Daredevils",
          "Royal Challengers Bangalore",
          "Chennai Super Kings",
          "Mumbai Indians",
          "Deccan Chargers",
          "Mumbai Indians",
          "Kings XI Punjab",
          "Royal Challengers Bangalore",
          "Deccan Chargers",
          "Kings XI Punjab",
          "Deccan Chargers",
          "Kolkata Knight Riders",
          "Rajasthan Royals",
          "Chennai Super Kings",
          "Rajasthan Royals",
          "Kings XI Punjab",
          "Delhi Daredevils",
          "Mumbai Indians",
          "Chennai Super Kings",
          "Royal Challengers Bangalore",
          "Kolkata Knight Riders",
          "Delhi Daredevils",
          "Chennai Super Kings",
          "Mumbai Indians",
          "Delhi Daredevils",
          "Mumbai Indians",
          "Rajasthan Royals",
          "Kolkata Knight Riders",
          "Rajasthan Royals",
          "Mumbai Indians",
          "Delhi Daredevils",
          "Rajasthan Royals",
          "Royal Challengers Bangalore",
          "Mumbai Indians",
          "Kings XI Punjab",
          "Deccan Chargers",
          "Royal Challengers Bangalore",
          "Rajasthan Royals",
          "Chennai Super Kings",
          "Deccan Chargers",
          "Royal Challengers Bangalore",
          "Mumbai Indians",
          "Chennai Super Kings",
          "Royal Challengers Bangalore",
          "Delhi Daredevils",
          "Kolkata Knight Riders",
          "Deccan Chargers",
          "Delhi Daredevils",
          "Mumbai Indians",
          "Kolkata Knight Riders",
          "Deccan Chargers",
          "Royal Challengers Bangalore",
          "Deccan Chargers",
          "Royal Challengers Bangalore",
          "Delhi Daredevils",
          "Chennai Super Kings",
          "Kolkata Knight Riders",
          "Royal Challengers Bangalore",
          "Kolkata Knight Riders",
          "Delhi Daredevils",
          "Kings XI Punjab",
          "Chennai Super Kings",
          "Deccan Chargers",
          "Kings XI Punjab",
          "Rajasthan Royals",
          "Royal Challengers Bangalore",
          "Delhi Daredevils",
          "Mumbai Indians",
          "Royal Challengers Bangalore",
          "Deccan Chargers",
          "Delhi Daredevils",
          "Mumbai Indians",
          "Kings XI Punjab",
          "Chennai Super Kings",
          "Delhi Daredevils",
          "Chennai Super Kings",
          "Rajasthan Royals",
          "Deccan Chargers",
          "Delhi Daredevils",
          "Rajasthan Royals",
          "Chennai Super Kings",
          "Royal Challengers Bangalore",
          "Kings XI Punjab",
          "Rajasthan Royals",
          "Chennai Super Kings",
          "Mumbai Indians",
          "Royal Challengers Bangalore",
          "Chennai Super Kings",
          "Delhi Daredevils",
          "Kings XI Punjab",
          "Royal Challengers Bangalore",
          "Rajasthan Royals",
          "Mumbai Indians",
          "Deccan Chargers",
          "Delhi Daredevils",
          "Kings XI Punjab",
          "Deccan Chargers",
          "Kings XI Punjab",
          "Rajasthan Royals",
          "Delhi Daredevils",
          "Deccan Chargers",
          "Kolkata Knight Riders",
          "Chennai Super Kings",
          "Deccan Chargers",
          "Delhi Daredevils",
          "Royal Challengers Bangalore",
          "Mumbai Indians",
          "Rajasthan Royals",
          "Chennai Super Kings",
          "Rajasthan Royals",
          "Kings XI Punjab",
          "Mumbai Indians",
          "Chennai Super Kings",
          "Rajasthan Royals",
          "Kolkata Knight Riders",
          "Royal Challengers Bangalore",
          "Rajasthan Royals",
          "Delhi Daredevils",
          "Kings XI Punjab",
          "Royal Challengers Bangalore",
          "Kings XI Punjab",
          "Rajasthan Royals",
          "Delhi Daredevils",
          "Chennai Super Kings",
          "Mumbai Indians",
          "Kings XI Punjab",
          "Rajasthan Royals",
          "Mumbai Indians",
          "Delhi Daredevils",
          "Mumbai Indians",
          "Kolkata Knight Riders",
          "Kings XI Punjab",
          "Rajasthan Royals",
          "Kolkata Knight Riders",
          "Chennai Super Kings",
          "Rajasthan Royals",
          "Chennai Super Kings",
          "Kolkata Knight Riders",
          "Mumbai Indians",
          "Deccan Chargers",
          "Kings XI Punjab",
          "Rajasthan Royals",
          "Mumbai Indians",
          "Royal Challengers Bangalore",
          "Kings XI Punjab",
          "Delhi Daredevils",
          "Rajasthan Royals",
          "Kings XI Punjab",
          "Delhi Daredevils",
          "Mumbai Indians",
          "Chennai Super Kings",
          "Kings XI Punjab",
          "Deccan Chargers",
          "Chennai Super Kings",
          "Rajasthan Royals",
          "Kings XI Punjab",
          "Rajasthan Royals",
          "Chennai Super Kings",
          "Delhi Daredevils",
          "Rajasthan Royals",
          "Kolkata Knight Riders",
          "Royal Challengers Bangalore",
          "Delhi Daredevils",
          "Chennai Super Kings",
          "Kolkata Knight Riders"
         ],
         "xaxis": "x",
         "yaxis": "y"
        }
       ],
       "layout": {
        "barmode": "relative",
        "legend": {
         "tracegroupgap": 0
        },
        "margin": {
         "t": 60
        },
        "template": {
         "data": {
          "bar": [
           {
            "error_x": {
             "color": "#2a3f5f"
            },
            "error_y": {
             "color": "#2a3f5f"
            },
            "marker": {
             "line": {
              "color": "#E5ECF6",
              "width": 0.5
             },
             "pattern": {
              "fillmode": "overlay",
              "size": 10,
              "solidity": 0.2
             }
            },
            "type": "bar"
           }
          ],
          "barpolar": [
           {
            "marker": {
             "line": {
              "color": "#E5ECF6",
              "width": 0.5
             },
             "pattern": {
              "fillmode": "overlay",
              "size": 10,
              "solidity": 0.2
             }
            },
            "type": "barpolar"
           }
          ],
          "carpet": [
           {
            "aaxis": {
             "endlinecolor": "#2a3f5f",
             "gridcolor": "white",
             "linecolor": "white",
             "minorgridcolor": "white",
             "startlinecolor": "#2a3f5f"
            },
            "baxis": {
             "endlinecolor": "#2a3f5f",
             "gridcolor": "white",
             "linecolor": "white",
             "minorgridcolor": "white",
             "startlinecolor": "#2a3f5f"
            },
            "type": "carpet"
           }
          ],
          "choropleth": [
           {
            "colorbar": {
             "outlinewidth": 0,
             "ticks": ""
            },
            "type": "choropleth"
           }
          ],
          "contour": [
           {
            "colorbar": {
             "outlinewidth": 0,
             "ticks": ""
            },
            "colorscale": [
             [
              0,
              "#0d0887"
             ],
             [
              0.1111111111111111,
              "#46039f"
             ],
             [
              0.2222222222222222,
              "#7201a8"
             ],
             [
              0.3333333333333333,
              "#9c179e"
             ],
             [
              0.4444444444444444,
              "#bd3786"
             ],
             [
              0.5555555555555556,
              "#d8576b"
             ],
             [
              0.6666666666666666,
              "#ed7953"
             ],
             [
              0.7777777777777778,
              "#fb9f3a"
             ],
             [
              0.8888888888888888,
              "#fdca26"
             ],
             [
              1,
              "#f0f921"
             ]
            ],
            "type": "contour"
           }
          ],
          "contourcarpet": [
           {
            "colorbar": {
             "outlinewidth": 0,
             "ticks": ""
            },
            "type": "contourcarpet"
           }
          ],
          "heatmap": [
           {
            "colorbar": {
             "outlinewidth": 0,
             "ticks": ""
            },
            "colorscale": [
             [
              0,
              "#0d0887"
             ],
             [
              0.1111111111111111,
              "#46039f"
             ],
             [
              0.2222222222222222,
              "#7201a8"
             ],
             [
              0.3333333333333333,
              "#9c179e"
             ],
             [
              0.4444444444444444,
              "#bd3786"
             ],
             [
              0.5555555555555556,
              "#d8576b"
             ],
             [
              0.6666666666666666,
              "#ed7953"
             ],
             [
              0.7777777777777778,
              "#fb9f3a"
             ],
             [
              0.8888888888888888,
              "#fdca26"
             ],
             [
              1,
              "#f0f921"
             ]
            ],
            "type": "heatmap"
           }
          ],
          "heatmapgl": [
           {
            "colorbar": {
             "outlinewidth": 0,
             "ticks": ""
            },
            "colorscale": [
             [
              0,
              "#0d0887"
             ],
             [
              0.1111111111111111,
              "#46039f"
             ],
             [
              0.2222222222222222,
              "#7201a8"
             ],
             [
              0.3333333333333333,
              "#9c179e"
             ],
             [
              0.4444444444444444,
              "#bd3786"
             ],
             [
              0.5555555555555556,
              "#d8576b"
             ],
             [
              0.6666666666666666,
              "#ed7953"
             ],
             [
              0.7777777777777778,
              "#fb9f3a"
             ],
             [
              0.8888888888888888,
              "#fdca26"
             ],
             [
              1,
              "#f0f921"
             ]
            ],
            "type": "heatmapgl"
           }
          ],
          "histogram": [
           {
            "marker": {
             "pattern": {
              "fillmode": "overlay",
              "size": 10,
              "solidity": 0.2
             }
            },
            "type": "histogram"
           }
          ],
          "histogram2d": [
           {
            "colorbar": {
             "outlinewidth": 0,
             "ticks": ""
            },
            "colorscale": [
             [
              0,
              "#0d0887"
             ],
             [
              0.1111111111111111,
              "#46039f"
             ],
             [
              0.2222222222222222,
              "#7201a8"
             ],
             [
              0.3333333333333333,
              "#9c179e"
             ],
             [
              0.4444444444444444,
              "#bd3786"
             ],
             [
              0.5555555555555556,
              "#d8576b"
             ],
             [
              0.6666666666666666,
              "#ed7953"
             ],
             [
              0.7777777777777778,
              "#fb9f3a"
             ],
             [
              0.8888888888888888,
              "#fdca26"
             ],
             [
              1,
              "#f0f921"
             ]
            ],
            "type": "histogram2d"
           }
          ],
          "histogram2dcontour": [
           {
            "colorbar": {
             "outlinewidth": 0,
             "ticks": ""
            },
            "colorscale": [
             [
              0,
              "#0d0887"
             ],
             [
              0.1111111111111111,
              "#46039f"
             ],
             [
              0.2222222222222222,
              "#7201a8"
             ],
             [
              0.3333333333333333,
              "#9c179e"
             ],
             [
              0.4444444444444444,
              "#bd3786"
             ],
             [
              0.5555555555555556,
              "#d8576b"
             ],
             [
              0.6666666666666666,
              "#ed7953"
             ],
             [
              0.7777777777777778,
              "#fb9f3a"
             ],
             [
              0.8888888888888888,
              "#fdca26"
             ],
             [
              1,
              "#f0f921"
             ]
            ],
            "type": "histogram2dcontour"
           }
          ],
          "mesh3d": [
           {
            "colorbar": {
             "outlinewidth": 0,
             "ticks": ""
            },
            "type": "mesh3d"
           }
          ],
          "parcoords": [
           {
            "line": {
             "colorbar": {
              "outlinewidth": 0,
              "ticks": ""
             }
            },
            "type": "parcoords"
           }
          ],
          "pie": [
           {
            "automargin": true,
            "type": "pie"
           }
          ],
          "scatter": [
           {
            "fillpattern": {
             "fillmode": "overlay",
             "size": 10,
             "solidity": 0.2
            },
            "type": "scatter"
           }
          ],
          "scatter3d": [
           {
            "line": {
             "colorbar": {
              "outlinewidth": 0,
              "ticks": ""
             }
            },
            "marker": {
             "colorbar": {
              "outlinewidth": 0,
              "ticks": ""
             }
            },
            "type": "scatter3d"
           }
          ],
          "scattercarpet": [
           {
            "marker": {
             "colorbar": {
              "outlinewidth": 0,
              "ticks": ""
             }
            },
            "type": "scattercarpet"
           }
          ],
          "scattergeo": [
           {
            "marker": {
             "colorbar": {
              "outlinewidth": 0,
              "ticks": ""
             }
            },
            "type": "scattergeo"
           }
          ],
          "scattergl": [
           {
            "marker": {
             "colorbar": {
              "outlinewidth": 0,
              "ticks": ""
             }
            },
            "type": "scattergl"
           }
          ],
          "scattermapbox": [
           {
            "marker": {
             "colorbar": {
              "outlinewidth": 0,
              "ticks": ""
             }
            },
            "type": "scattermapbox"
           }
          ],
          "scatterpolar": [
           {
            "marker": {
             "colorbar": {
              "outlinewidth": 0,
              "ticks": ""
             }
            },
            "type": "scatterpolar"
           }
          ],
          "scatterpolargl": [
           {
            "marker": {
             "colorbar": {
              "outlinewidth": 0,
              "ticks": ""
             }
            },
            "type": "scatterpolargl"
           }
          ],
          "scatterternary": [
           {
            "marker": {
             "colorbar": {
              "outlinewidth": 0,
              "ticks": ""
             }
            },
            "type": "scatterternary"
           }
          ],
          "surface": [
           {
            "colorbar": {
             "outlinewidth": 0,
             "ticks": ""
            },
            "colorscale": [
             [
              0,
              "#0d0887"
             ],
             [
              0.1111111111111111,
              "#46039f"
             ],
             [
              0.2222222222222222,
              "#7201a8"
             ],
             [
              0.3333333333333333,
              "#9c179e"
             ],
             [
              0.4444444444444444,
              "#bd3786"
             ],
             [
              0.5555555555555556,
              "#d8576b"
             ],
             [
              0.6666666666666666,
              "#ed7953"
             ],
             [
              0.7777777777777778,
              "#fb9f3a"
             ],
             [
              0.8888888888888888,
              "#fdca26"
             ],
             [
              1,
              "#f0f921"
             ]
            ],
            "type": "surface"
           }
          ],
          "table": [
           {
            "cells": {
             "fill": {
              "color": "#EBF0F8"
             },
             "line": {
              "color": "white"
             }
            },
            "header": {
             "fill": {
              "color": "#C8D4E3"
             },
             "line": {
              "color": "white"
             }
            },
            "type": "table"
           }
          ]
         },
         "layout": {
          "annotationdefaults": {
           "arrowcolor": "#2a3f5f",
           "arrowhead": 0,
           "arrowwidth": 1
          },
          "autotypenumbers": "strict",
          "coloraxis": {
           "colorbar": {
            "outlinewidth": 0,
            "ticks": ""
           }
          },
          "colorscale": {
           "diverging": [
            [
             0,
             "#8e0152"
            ],
            [
             0.1,
             "#c51b7d"
            ],
            [
             0.2,
             "#de77ae"
            ],
            [
             0.3,
             "#f1b6da"
            ],
            [
             0.4,
             "#fde0ef"
            ],
            [
             0.5,
             "#f7f7f7"
            ],
            [
             0.6,
             "#e6f5d0"
            ],
            [
             0.7,
             "#b8e186"
            ],
            [
             0.8,
             "#7fbc41"
            ],
            [
             0.9,
             "#4d9221"
            ],
            [
             1,
             "#276419"
            ]
           ],
           "sequential": [
            [
             0,
             "#0d0887"
            ],
            [
             0.1111111111111111,
             "#46039f"
            ],
            [
             0.2222222222222222,
             "#7201a8"
            ],
            [
             0.3333333333333333,
             "#9c179e"
            ],
            [
             0.4444444444444444,
             "#bd3786"
            ],
            [
             0.5555555555555556,
             "#d8576b"
            ],
            [
             0.6666666666666666,
             "#ed7953"
            ],
            [
             0.7777777777777778,
             "#fb9f3a"
            ],
            [
             0.8888888888888888,
             "#fdca26"
            ],
            [
             1,
             "#f0f921"
            ]
           ],
           "sequentialminus": [
            [
             0,
             "#0d0887"
            ],
            [
             0.1111111111111111,
             "#46039f"
            ],
            [
             0.2222222222222222,
             "#7201a8"
            ],
            [
             0.3333333333333333,
             "#9c179e"
            ],
            [
             0.4444444444444444,
             "#bd3786"
            ],
            [
             0.5555555555555556,
             "#d8576b"
            ],
            [
             0.6666666666666666,
             "#ed7953"
            ],
            [
             0.7777777777777778,
             "#fb9f3a"
            ],
            [
             0.8888888888888888,
             "#fdca26"
            ],
            [
             1,
             "#f0f921"
            ]
           ]
          },
          "colorway": [
           "#636efa",
           "#EF553B",
           "#00cc96",
           "#ab63fa",
           "#FFA15A",
           "#19d3f3",
           "#FF6692",
           "#B6E880",
           "#FF97FF",
           "#FECB52"
          ],
          "font": {
           "color": "#2a3f5f"
          },
          "geo": {
           "bgcolor": "white",
           "lakecolor": "white",
           "landcolor": "#E5ECF6",
           "showlakes": true,
           "showland": true,
           "subunitcolor": "white"
          },
          "hoverlabel": {
           "align": "left"
          },
          "hovermode": "closest",
          "mapbox": {
           "style": "light"
          },
          "paper_bgcolor": "white",
          "plot_bgcolor": "#E5ECF6",
          "polar": {
           "angularaxis": {
            "gridcolor": "white",
            "linecolor": "white",
            "ticks": ""
           },
           "bgcolor": "#E5ECF6",
           "radialaxis": {
            "gridcolor": "white",
            "linecolor": "white",
            "ticks": ""
           }
          },
          "scene": {
           "xaxis": {
            "backgroundcolor": "#E5ECF6",
            "gridcolor": "white",
            "gridwidth": 2,
            "linecolor": "white",
            "showbackground": true,
            "ticks": "",
            "zerolinecolor": "white"
           },
           "yaxis": {
            "backgroundcolor": "#E5ECF6",
            "gridcolor": "white",
            "gridwidth": 2,
            "linecolor": "white",
            "showbackground": true,
            "ticks": "",
            "zerolinecolor": "white"
           },
           "zaxis": {
            "backgroundcolor": "#E5ECF6",
            "gridcolor": "white",
            "gridwidth": 2,
            "linecolor": "white",
            "showbackground": true,
            "ticks": "",
            "zerolinecolor": "white"
           }
          },
          "shapedefaults": {
           "line": {
            "color": "#2a3f5f"
           }
          },
          "ternary": {
           "aaxis": {
            "gridcolor": "white",
            "linecolor": "white",
            "ticks": ""
           },
           "baxis": {
            "gridcolor": "white",
            "linecolor": "white",
            "ticks": ""
           },
           "bgcolor": "#E5ECF6",
           "caxis": {
            "gridcolor": "white",
            "linecolor": "white",
            "ticks": ""
           }
          },
          "title": {
           "x": 0.05
          },
          "xaxis": {
           "automargin": true,
           "gridcolor": "white",
           "linecolor": "white",
           "ticks": "",
           "title": {
            "standoff": 15
           },
           "zerolinecolor": "white",
           "zerolinewidth": 2
          },
          "yaxis": {
           "automargin": true,
           "gridcolor": "white",
           "linecolor": "white",
           "ticks": "",
           "title": {
            "standoff": 15
           },
           "zerolinecolor": "white",
           "zerolinewidth": 2
          }
         }
        },
        "xaxis": {
         "anchor": "y",
         "domain": [
          0,
          1
         ],
         "title": {
          "text": "WinningTeam"
         }
        },
        "yaxis": {
         "anchor": "x",
         "domain": [
          0,
          1
         ],
         "title": {
          "text": "count"
         }
        }
       }
      },
      "text/html": [
       "<div>                            <div id=\"43aee928-d076-41d3-8d6b-15138815ede6\" class=\"plotly-graph-div\" style=\"height:525px; width:100%;\"></div>            <script type=\"text/javascript\">                require([\"plotly\"], function(Plotly) {                    window.PLOTLYENV=window.PLOTLYENV || {};                                    if (document.getElementById(\"43aee928-d076-41d3-8d6b-15138815ede6\")) {                    Plotly.newPlot(                        \"43aee928-d076-41d3-8d6b-15138815ede6\",                        [{\"alignmentgroup\":\"True\",\"bingroup\":\"x\",\"hovertemplate\":\"WinningTeam=%{x}<br>count=%{y}<extra></extra>\",\"legendgroup\":\"\",\"marker\":{\"color\":\"#636efa\",\"pattern\":{\"shape\":\"\"}},\"name\":\"\",\"offsetgroup\":\"\",\"orientation\":\"v\",\"showlegend\":false,\"x\":[\"Gujarat Titans\",\"Rajasthan Royals\",\"Royal Challengers Bangalore\",\"Gujarat Titans\",\"Punjab Kings\",\"Mumbai Indians\",\"Rajasthan Royals\",\"Royal Challengers Bangalore\",\"Lucknow Super Giants\",\"Sunrisers Hyderabad\",\"Delhi Capitals\",\"Rajasthan Royals\",\"Gujarat Titans\",\"Kolkata Knight Riders\",\"Punjab Kings\",\"Mumbai Indians\",\"Delhi Capitals\",\"Gujarat Titans\",\"Kolkata Knight Riders\",\"Chennai Super Kings\",\"Royal Challengers Bangalore\",\"Lucknow Super Giants\",\"Rajasthan Royals\",\"Mumbai Indians\",\"Delhi Capitals\",\"Royal Challengers Bangalore\",\"Punjab Kings\",\"Kolkata Knight Riders\",\"Chennai Super Kings\",\"Lucknow Super Giants\",\"Mumbai Indians\",\"Gujarat Titans\",\"Lucknow Super Giants\",\"Delhi Capitals\",\"Gujarat Titans\",\"Rajasthan Royals\",\"Punjab Kings\",\"Lucknow Super Giants\",\"Sunrisers Hyderabad\",\"Gujarat Titans\",\"Rajasthan Royals\",\"Chennai Super Kings\",\"Delhi Capitals\",\"Royal Challengers Bangalore\",\"Rajasthan Royals\",\"Gujarat Titans\",\"Sunrisers Hyderabad\",\"Royal Challengers Bangalore\",\"Lucknow Super Giants\",\"Sunrisers Hyderabad\",\"Gujarat Titans\",\"Punjab Kings\",\"Chennai Super Kings\",\"Sunrisers Hyderabad\",\"Rajasthan Royals\",\"Delhi Capitals\",\"Royal Challengers Bangalore\",\"Sunrisers Hyderabad\",\"Gujarat Titans\",\"Lucknow Super Giants\",\"Kolkata Knight Riders\",\"Royal Challengers Bangalore\",\"Lucknow Super Giants\",\"Punjab Kings\",\"Gujarat Titans\",\"Rajasthan Royals\",\"Kolkata Knight Riders\",\"Lucknow Super Giants\",\"Royal Challengers Bangalore\",\"Rajasthan Royals\",\"Gujarat Titans\",\"Punjab Kings\",\"Delhi Capitals\",\"Kolkata Knight Riders\",\"Chennai Super Kings\",\"Kolkata Knight Riders\",\"Kolkata Knight Riders\",\"Chennai Super Kings\",\"Royal Challengers Bangalore\",\"Mumbai Indians\",\"Kolkata Knight Riders\",\"Punjab Kings\",\"Sunrisers Hyderabad\",\"Mumbai Indians\",\"Delhi Capitals\",\"Royal Challengers Bangalore\",\"Kolkata Knight Riders\",\"Delhi Capitals\",\"Rajasthan Royals\",\"Punjab Kings\",\"Chennai Super Kings\",\"Royal Challengers Bangalore\",\"Mumbai Indians\",\"Kolkata Knight Riders\",\"Sunrisers Hyderabad\",\"Chennai Super Kings\",\"Royal Challengers Bangalore\",\"Delhi Capitals\",\"Punjab Kings\",\"Chennai Super Kings\",\"Kolkata Knight Riders\",\"Delhi Capitals\",\"Rajasthan Royals\",\"Kolkata Knight Riders\",\"Chennai Super Kings\",\"Delhi Capitals\",\"Rajasthan Royals\",\"Mumbai Indians\",\"Punjab Kings\",\"Delhi Capitals\",\"Mumbai Indians\",\"Chennai Super Kings\",\"Royal Challengers Bangalore\",\"Kolkata Knight Riders\",\"Delhi Capitals\",\"Chennai Super Kings\",\"Rajasthan Royals\",\"Punjab Kings\",\"Royal Challengers Bangalore\",\"Chennai Super Kings\",\"Sunrisers Hyderabad\",\"Delhi Capitals\",\"Chennai Super Kings\",\"Delhi Capitals\",\"Royal Challengers Bangalore\",\"Mumbai Indians\",\"Chennai Super Kings\",\"Rajasthan Royals\",\"Royal Challengers Bangalore\",\"Mumbai Indians\",\"Punjab Kings\",\"Kolkata Knight Riders\",\"Delhi Capitals\",\"Royal Challengers Bangalore\",\"Mumbai Indians\",\"Delhi Capitals\",\"Sunrisers Hyderabad\",\"Mumbai Indians\",\"Sunrisers Hyderabad\",\"Delhi Capitals\",\"Kolkata Knight Riders\",\"Chennai Super Kings\",\"Mumbai Indians\",\"Sunrisers Hyderabad\",\"Rajasthan Royals\",\"Chennai Super Kings\",\"Mumbai Indians\",\"Sunrisers Hyderabad\",\"Kings XI Punjab\",\"Rajasthan Royals\",\"Chennai Super Kings\",\"Kings XI Punjab\",\"Kolkata Knight Riders\",\"Mumbai Indians\",\"Sunrisers Hyderabad\",\"Royal Challengers Bangalore\",\"Kings XI Punjab\",\"Rajasthan Royals\",\"Kolkata Knight Riders\",\"Kings XI Punjab\",\"Royal Challengers Bangalore\",\"Delhi Capitals\",\"Mumbai Indians\",\"Kings XI Punjab\",\"Delhi Capitals\",\"Chennai Super Kings\",\"Royal Challengers Bangalore\",\"Rajasthan Royals\",\"Mumbai Indians\",\"Kolkata Knight Riders\",\"Royal Challengers Bangalore\",\"Delhi Capitals\",\"Sunrisers Hyderabad\",\"Kolkata Knight Riders\",\"Mumbai Indians\",\"Delhi Capitals\",\"Chennai Super Kings\",\"Mumbai Indians\",\"Royal Challengers Bangalore\",\"Delhi Capitals\",\"Sunrisers Hyderabad\",\"Mumbai Indians\",\"Kolkata Knight Riders\",\"Sunrisers Hyderabad\",\"Royal Challengers Bangalore\",\"Rajasthan Royals\",\"Kolkata Knight Riders\",\"Delhi Capitals\",\"Kings XI Punjab\",\"Mumbai Indians\",\"Rajasthan Royals\",\"Royal Challengers Bangalore\",\"Delhi Capitals\",\"Chennai Super Kings\",\"Mumbai Indians\",\"Chennai Super Kings\",\"Delhi Capitals\",\"Mumbai Indians\",\"Kings XI Punjab\",\"Mumbai Indians\",\"Royal Challengers Bangalore\",\"Delhi Capitals\",\"Kolkata Knight Riders\",\"Mumbai Indians\",\"Chennai Super Kings\",null,\"Sunrisers Hyderabad\",\"Kolkata Knight Riders\",\"Delhi Capitals\",\"Rajasthan Royals\",\"Mumbai Indians\",\"Rajasthan Royals\",\"Royal Challengers Bangalore\",\"Chennai Super Kings\",\"Delhi Capitals\",\"Sunrisers Hyderabad\",\"Royal Challengers Bangalore\",\"Delhi Capitals\",\"Rajasthan Royals\",\"Royal Challengers Bangalore\",\"Mumbai Indians\",\"Sunrisers Hyderabad\",\"Kings XI Punjab\",\"Mumbai Indians\",\"Chennai Super Kings\",\"Delhi Capitals\",\"Rajasthan Royals\",\"Royal Challengers Bangalore\",\"Delhi Capitals\",\"Chennai Super Kings\",\"Mumbai Indians\",\"Chennai Super Kings\",\"Kings XI Punjab\",\"Kolkata Knight Riders\",\"Delhi Capitals\",\"Mumbai Indians\",\"Chennai Super Kings\",\"Kolkata Knight Riders\",\"Sunrisers Hyderabad\",\"Mumbai Indians\",\"Rajasthan Royals\",\"Kings XI Punjab\",\"Sunrisers Hyderabad\",\"Chennai Super Kings\",\"Delhi Capitals\",\"Kings XI Punjab\",\"Sunrisers Hyderabad\",\"Mumbai Indians\",\"Kolkata Knight Riders\",\"Chennai Super Kings\",\"Kings XI Punjab\",\"Delhi Capitals\",\"Kolkata Knight Riders\",\"Chennai Super Kings\",\"Chennai Super Kings\",\"Sunrisers Hyderabad\",\"Kolkata Knight Riders\",\"Chennai Super Kings\",\"Chennai Super Kings\",\"Delhi Daredevils\",\"Kolkata Knight Riders\",\"Rajasthan Royals\",\"Delhi Daredevils\",\"Royal Challengers Bangalore\",\"Mumbai Indians\",\"Kolkata Knight Riders\",\"Royal Challengers Bangalore\",\"Rajasthan Royals\",\"Chennai Super Kings\",\"Royal Challengers Bangalore\",\"Kolkata Knight Riders\",\"Rajasthan Royals\",\"Sunrisers Hyderabad\",\"Mumbai Indians\",\"Rajasthan Royals\",\"Sunrisers Hyderabad\",\"Kings XI Punjab\",\"Mumbai Indians\",\"Sunrisers Hyderabad\",\"Chennai Super Kings\",\"Mumbai Indians\",\"Kolkata Knight Riders\",\"Delhi Daredevils\",\"Royal Challengers Bangalore\",\"Chennai Super Kings\",\"Sunrisers Hyderabad\",\"Kolkata Knight Riders\",\"Mumbai Indians\",\"Delhi Daredevils\",\"Sunrisers Hyderabad\",\"Chennai Super Kings\",\"Sunrisers Hyderabad\",\"Kings XI Punjab\",\"Rajasthan Royals\",\"Chennai Super Kings\",\"Royal Challengers Bangalore\",\"Kings XI Punjab\",\"Chennai Super Kings\",\"Kings XI Punjab\",\"Kolkata Knight Riders\",\"Mumbai Indians\",\"Kolkata Knight Riders\",\"Kings XI Punjab\",\"Rajasthan Royals\",\"Sunrisers Hyderabad\",\"Delhi Daredevils\",\"Royal Challengers Bangalore\",\"Sunrisers Hyderabad\",\"Rajasthan Royals\",\"Chennai Super Kings\",\"Sunrisers Hyderabad\",\"Kings XI Punjab\",\"Kolkata Knight Riders\",\"Chennai Super Kings\",\"Mumbai Indians\",\"Mumbai Indians\",\"Kolkata Knight Riders\",\"Rising Pune Supergiant\",\"Royal Challengers Bangalore\",\"Rising Pune Supergiant\",\"Mumbai Indians\",\"Sunrisers Hyderabad\",\"Delhi Daredevils\",\"Kings XI Punjab\",\"Delhi Daredevils\",\"Kings XI Punjab\",\"Sunrisers Hyderabad\",\"Kolkata Knight Riders\",\"Gujarat Lions\",\"Mumbai Indians\",\"Rising Pune Supergiant\",\"Kings XI Punjab\",\"Delhi Daredevils\",\"Rising Pune Supergiant\",\"Delhi Daredevils\",\"Rising Pune Supergiant\",\"Mumbai Indians\",\"Sunrisers Hyderabad\",\"Kings XI Punjab\",\"Mumbai Indians\",\"Rising Pune Supergiant\",\"Kolkata Knight Riders\",\"Sunrisers Hyderabad\",\"Gujarat Lions\",\"Kolkata Knight Riders\",\"Rising Pune Supergiant\",\"Kolkata Knight Riders\",\"Kings XI Punjab\",\"Rising Pune Supergiant\",\"Mumbai Indians\",\"Gujarat Lions\",\"Mumbai Indians\",\"Sunrisers Hyderabad\",\"Royal Challengers Bangalore\",\"Kolkata Knight Riders\",\"Sunrisers Hyderabad\",\"Rising Pune Supergiant\",\"Mumbai Indians\",\"Delhi Daredevils\",\"Kolkata Knight Riders\",\"Gujarat Lions\",\"Mumbai Indians\",\"Kolkata Knight Riders\",\"Mumbai Indians\",\"Delhi Daredevils\",\"Kings XI Punjab\",\"Mumbai Indians\",\"Sunrisers Hyderabad\",\"Royal Challengers Bangalore\",\"Kings XI Punjab\",\"Kolkata Knight Riders\",\"Rising Pune Supergiant\",\"Sunrisers Hyderabad\",\"Sunrisers Hyderabad\",\"Sunrisers Hyderabad\",\"Sunrisers Hyderabad\",\"Royal Challengers Bangalore\",\"Royal Challengers Bangalore\",\"Kolkata Knight Riders\",\"Gujarat Lions\",\"Rising Pune Supergiants\",\"Delhi Daredevils\",\"Gujarat Lions\",\"Royal Challengers Bangalore\",\"Rising Pune Supergiants\",\"Royal Challengers Bangalore\",\"Sunrisers Hyderabad\",\"Mumbai Indians\",\"Royal Challengers Bangalore\",\"Kolkata Knight Riders\",\"Kings XI Punjab\",\"Delhi Daredevils\",\"Mumbai Indians\",\"Sunrisers Hyderabad\",\"Royal Challengers Bangalore\",\"Gujarat Lions\",\"Sunrisers Hyderabad\",\"Kings XI Punjab\",\"Royal Challengers Bangalore\",\"Sunrisers Hyderabad\",\"Rising Pune Supergiants\",\"Kolkata Knight Riders\",\"Delhi Daredevils\",\"Kolkata Knight Riders\",\"Kings XI Punjab\",\"Mumbai Indians\",\"Delhi Daredevils\",\"Sunrisers Hyderabad\",\"Gujarat Lions\",\"Mumbai Indians\",\"Gujarat Lions\",\"Rising Pune Supergiants\",\"Mumbai Indians\",\"Kolkata Knight Riders\",\"Gujarat Lions\",\"Sunrisers Hyderabad\",\"Delhi Daredevils\",\"Royal Challengers Bangalore\",\"Sunrisers Hyderabad\",\"Mumbai Indians\",\"Kolkata Knight Riders\",\"Sunrisers Hyderabad\",\"Delhi Daredevils\",\"Kings XI Punjab\",\"Gujarat Lions\",\"Kolkata Knight Riders\",\"Delhi Daredevils\",\"Gujarat Lions\",\"Mumbai Indians\",\"Royal Challengers Bangalore\",\"Gujarat Lions\",\"Kolkata Knight Riders\",\"Rising Pune Supergiants\",\"Mumbai Indians\",\"Chennai Super Kings\",\"Royal Challengers Bangalore\",\"Mumbai Indians\",null,\"Mumbai Indians\",\"Rajasthan Royals\",\"Chennai Super Kings\",\"Royal Challengers Bangalore\",\"Mumbai Indians\",\"Kings XI Punjab\",\"Delhi Daredevils\",\"Sunrisers Hyderabad\",\"Chennai Super Kings\",\"Royal Challengers Bangalore\",\"Sunrisers Hyderabad\",\"Kolkata Knight Riders\",\"Mumbai Indians\",\"Sunrisers Hyderabad\",\"Kolkata Knight Riders\",\"Royal Challengers Bangalore\",\"Mumbai Indians\",\"Kolkata Knight Riders\",\"Chennai Super Kings\",\"Mumbai Indians\",\"Rajasthan Royals\",\"Royal Challengers Bangalore\",\"Sunrisers Hyderabad\",\"Mumbai Indians\",\"Delhi Daredevils\",\"Kolkata Knight Riders\",null,\"Chennai Super Kings\",\"Sunrisers Hyderabad\",\"Royal Challengers Bangalore\",\"Chennai Super Kings\",\"Mumbai Indians\",\"Royal Challengers Bangalore\",\"Delhi Daredevils\",\"Sunrisers Hyderabad\",\"Chennai Super Kings\",\"Kings XI Punjab\",\"Kolkata Knight Riders\",\"Rajasthan Royals\",\"Mumbai Indians\",\"Delhi Daredevils\",\"Kolkata Knight Riders\",\"Chennai Super Kings\",\"Rajasthan Royals\",\"Delhi Daredevils\",\"Rajasthan Royals\",\"Sunrisers Hyderabad\",\"Kings XI Punjab\",\"Rajasthan Royals\",\"Royal Challengers Bangalore\",\"Chennai Super Kings\",\"Rajasthan Royals\",\"Chennai Super Kings\",\"Kolkata Knight Riders\",\"Kolkata Knight Riders\",\"Kings XI Punjab\",\"Chennai Super Kings\",\"Kolkata Knight Riders\",\"Mumbai Indians\",\"Kings XI Punjab\",\"Chennai Super Kings\",\"Kolkata Knight Riders\",\"Mumbai Indians\",\"Kings XI Punjab\",\"Kolkata Knight Riders\",\"Sunrisers Hyderabad\",\"Mumbai Indians\",\"Kolkata Knight Riders\",\"Sunrisers Hyderabad\",\"Kings XI Punjab\",\"Mumbai Indians\",\"Royal Challengers Bangalore\",\"Kolkata Knight Riders\",\"Rajasthan Royals\",\"Kolkata Knight Riders\",\"Kings XI Punjab\",\"Royal Challengers Bangalore\",\"Chennai Super Kings\",\"Mumbai Indians\",\"Kolkata Knight Riders\",\"Rajasthan Royals\",\"Chennai Super Kings\",\"Sunrisers Hyderabad\",\"Kings XI Punjab\",\"Sunrisers Hyderabad\",\"Kolkata Knight Riders\",\"Kings XI Punjab\",\"Mumbai Indians\",\"Chennai Super Kings\",\"Rajasthan Royals\",\"Royal Challengers Bangalore\",\"Rajasthan Royals\",\"Mumbai Indians\",\"Chennai Super Kings\",\"Sunrisers Hyderabad\",\"Rajasthan Royals\",\"Kings XI Punjab\",\"Chennai Super Kings\",\"Delhi Daredevils\",\"Kings XI Punjab\",\"Rajasthan Royals\",\"Sunrisers Hyderabad\",\"Chennai Super Kings\",\"Kolkata Knight Riders\",\"Chennai Super Kings\",\"Kings XI Punjab\",\"Chennai Super Kings\",\"Kings XI Punjab\",\"Delhi Daredevils\",\"Royal Challengers Bangalore\",\"Rajasthan Royals\",\"Kings XI Punjab\",\"Royal Challengers Bangalore\",\"Kolkata Knight Riders\",\"Mumbai Indians\",\"Mumbai Indians\",\"Rajasthan Royals\",\"Chennai Super Kings\",\"Sunrisers Hyderabad\",\"Pune Warriors\",\"Royal Challengers Bangalore\",\"Kings XI Punjab\",\"Sunrisers Hyderabad\",\"Kings XI Punjab\",\"Mumbai Indians\",\"Pune Warriors\",\"Chennai Super Kings\",\"Kings XI Punjab\",\"Mumbai Indians\",\"Rajasthan Royals\",\"Kolkata Knight Riders\",\"Sunrisers Hyderabad\",\"Mumbai Indians\",\"Royal Challengers Bangalore\",\"Kolkata Knight Riders\",\"Rajasthan Royals\",\"Chennai Super Kings\",\"Rajasthan Royals\",\"Mumbai Indians\",\"Kings XI Punjab\",\"Rajasthan Royals\",\"Mumbai Indians\",\"Sunrisers Hyderabad\",\"Kolkata Knight Riders\",\"Royal Challengers Bangalore\",\"Chennai Super Kings\",\"Delhi Daredevils\",\"Sunrisers Hyderabad\",\"Chennai Super Kings\",\"Mumbai Indians\",\"Rajasthan Royals\",\"Chennai Super Kings\",\"Delhi Daredevils\",\"Mumbai Indians\",\"Rajasthan Royals\",\"Kolkata Knight Riders\",\"Chennai Super Kings\",\"Mumbai Indians\",\"Kings XI Punjab\",\"Royal Challengers Bangalore\",\"Chennai Super Kings\",\"Kings XI Punjab\",\"Delhi Daredevils\",\"Royal Challengers Bangalore\",\"Chennai Super Kings\",\"Sunrisers Hyderabad\",\"Chennai Super Kings\",\"Rajasthan Royals\",\"Sunrisers Hyderabad\",\"Kings XI Punjab\",\"Royal Challengers Bangalore\",\"Pune Warriors\",\"Rajasthan Royals\",\"Kolkata Knight Riders\",\"Chennai Super Kings\",\"Mumbai Indians\",\"Sunrisers Hyderabad\",\"Pune Warriors\",\"Royal Challengers Bangalore\",\"Chennai Super Kings\",\"Royal Challengers Bangalore\",\"Mumbai Indians\",\"Rajasthan Royals\",\"Sunrisers Hyderabad\",\"Kings XI Punjab\",\"Mumbai Indians\",\"Rajasthan Royals\",\"Sunrisers Hyderabad\",\"Royal Challengers Bangalore\",\"Kolkata Knight Riders\",\"Kolkata Knight Riders\",\"Chennai Super Kings\",\"Chennai Super Kings\",\"Kolkata Knight Riders\",\"Mumbai Indians\",\"Deccan Chargers\",\"Kolkata Knight Riders\",\"Delhi Daredevils\",\"Deccan Chargers\",\"Kings XI Punjab\",\"Royal Challengers Bangalore\",\"Kolkata Knight Riders\",\"Delhi Daredevils\",\"Chennai Super Kings\",\"Mumbai Indians\",\"Kings XI Punjab\",\"Rajasthan Royals\",\"Chennai Super Kings\",\"Mumbai Indians\",\"Royal Challengers Bangalore\",\"Chennai Super Kings\",\"Delhi Daredevils\",\"Royal Challengers Bangalore\",\"Kings XI Punjab\",\"Rajasthan Royals\",\"Kolkata Knight Riders\",\"Royal Challengers Bangalore\",\"Mumbai Indians\",\"Rajasthan Royals\",\"Kolkata Knight Riders\",\"Chennai Super Kings\",\"Mumbai Indians\",\"Kings XI Punjab\",\"Delhi Daredevils\",\"Deccan Chargers\",\"Kolkata Knight Riders\",\"Mumbai Indians\",\"Delhi Daredevils\",\"Kolkata Knight Riders\",\"Kings XI Punjab\",\"Delhi Daredevils\",\"Deccan Chargers\",\"Mumbai Indians\",\"Delhi Daredevils\",\"Royal Challengers Bangalore\",\"Kings XI Punjab\",\"Kolkata Knight Riders\",\"Pune Warriors\",\"Chennai Super Kings\",\"Royal Challengers Bangalore\",\"Chennai Super Kings\",\"Delhi Daredevils\",\"Kolkata Knight Riders\",\"Royal Challengers Bangalore\",\"Rajasthan Royals\",\"Delhi Daredevils\",\"Rajasthan Royals\",\"Kings XI Punjab\",\"Pune Warriors\",\"Kolkata Knight Riders\",\"Kings XI Punjab\",\"Chennai Super Kings\",\"Mumbai Indians\",\"Delhi Daredevils\",\"Kolkata Knight Riders\",\"Mumbai Indians\",\"Pune Warriors\",\"Rajasthan Royals\",\"Chennai Super Kings\",\"Royal Challengers Bangalore\",\"Rajasthan Royals\",\"Pune Warriors\",\"Delhi Daredevils\",\"Mumbai Indians\",\"Chennai Super Kings\",\"Royal Challengers Bangalore\",\"Mumbai Indians\",\"Chennai Super Kings\",\"Mumbai Indians\",\"Royal Challengers Bangalore\",null,\"Deccan Chargers\",\"Rajasthan Royals\",\"Kolkata Knight Riders\",\"Chennai Super Kings\",\"Kings XI Punjab\",\"Deccan Chargers\",\"Kochi Tuskers Kerala\",\"Kings XI Punjab\",\"Royal Challengers Bangalore\",\"Deccan Chargers\",\"Kings XI Punjab\",\"Chennai Super Kings\",\"Royal Challengers Bangalore\",\"Kings XI Punjab\",\"Pune Warriors\",\"Chennai Super Kings\",\"Pune Warriors\",\"Royal Challengers Bangalore\",\"Mumbai Indians\",\"Kolkata Knight Riders\",\"Royal Challengers Bangalore\",\"Delhi Daredevils\",\"Kochi Tuskers Kerala\",\"Mumbai Indians\",\"Chennai Super Kings\",\"Kolkata Knight Riders\",\"Kochi Tuskers Kerala\",\"Mumbai Indians\",\"Rajasthan Royals\",\"Chennai Super Kings\",\"Delhi Daredevils\",\"Kolkata Knight Riders\",\"Royal Challengers Bangalore\",\"Rajasthan Royals\",\"Kolkata Knight Riders\",\"Chennai Super Kings\",\"Deccan Chargers\",\"Royal Challengers Bangalore\",\"Chennai Super Kings\",\"Rajasthan Royals\",\"Mumbai Indians\",\"Delhi Daredevils\",\"Royal Challengers Bangalore\",\"Mumbai Indians\",\"Kings XI Punjab\",\"Mumbai Indians\",\"Kochi Tuskers Kerala\",\"Deccan Chargers\",\"Kochi Tuskers Kerala\",\"Kolkata Knight Riders\",\"Delhi Daredevils\",\"Kings XI Punjab\",\"Chennai Super Kings\",\"Kochi Tuskers Kerala\",\"Kolkata Knight Riders\",\"Deccan Chargers\",\"Pune Warriors\",\"Kings XI Punjab\",\"Rajasthan Royals\",\"Mumbai Indians\",\"Kolkata Knight Riders\",\"Pune Warriors\",\"Mumbai Indians\",\"Royal Challengers Bangalore\",\"Rajasthan Royals\",\"Chennai Super Kings\",\"Chennai Super Kings\",\"Royal Challengers Bangalore\",\"Chennai Super Kings\",\"Mumbai Indians\",\"Kolkata Knight Riders\",\"Deccan Chargers\",\"Chennai Super Kings\",\"Kolkata Knight Riders\",\"Mumbai Indians\",\"Deccan Chargers\",\"Delhi Daredevils\",\"Royal Challengers Bangalore\",\"Chennai Super Kings\",\"Mumbai Indians\",\"Deccan Chargers\",\"Mumbai Indians\",\"Kings XI Punjab\",\"Royal Challengers Bangalore\",\"Deccan Chargers\",\"Kings XI Punjab\",\"Deccan Chargers\",\"Kolkata Knight Riders\",\"Rajasthan Royals\",\"Chennai Super Kings\",\"Rajasthan Royals\",\"Kings XI Punjab\",\"Delhi Daredevils\",\"Mumbai Indians\",\"Chennai Super Kings\",\"Royal Challengers Bangalore\",\"Kolkata Knight Riders\",\"Delhi Daredevils\",\"Chennai Super Kings\",\"Mumbai Indians\",\"Delhi Daredevils\",\"Mumbai Indians\",\"Rajasthan Royals\",\"Kolkata Knight Riders\",\"Rajasthan Royals\",\"Mumbai Indians\",\"Delhi Daredevils\",\"Rajasthan Royals\",\"Royal Challengers Bangalore\",\"Mumbai Indians\",\"Kings XI Punjab\",\"Deccan Chargers\",\"Royal Challengers Bangalore\",\"Rajasthan Royals\",\"Chennai Super Kings\",\"Deccan Chargers\",\"Royal Challengers Bangalore\",\"Mumbai Indians\",\"Chennai Super Kings\",\"Royal Challengers Bangalore\",\"Delhi Daredevils\",\"Kolkata Knight Riders\",\"Deccan Chargers\",\"Delhi Daredevils\",\"Mumbai Indians\",\"Kolkata Knight Riders\",\"Deccan Chargers\",\"Royal Challengers Bangalore\",\"Deccan Chargers\",\"Royal Challengers Bangalore\",\"Delhi Daredevils\",\"Chennai Super Kings\",\"Kolkata Knight Riders\",\"Royal Challengers Bangalore\",\"Kolkata Knight Riders\",\"Delhi Daredevils\",\"Kings XI Punjab\",\"Chennai Super Kings\",\"Deccan Chargers\",\"Kings XI Punjab\",\"Rajasthan Royals\",\"Royal Challengers Bangalore\",\"Delhi Daredevils\",\"Mumbai Indians\",\"Royal Challengers Bangalore\",\"Deccan Chargers\",\"Delhi Daredevils\",\"Mumbai Indians\",\"Kings XI Punjab\",\"Chennai Super Kings\",\"Delhi Daredevils\",\"Chennai Super Kings\",\"Rajasthan Royals\",\"Deccan Chargers\",\"Delhi Daredevils\",\"Rajasthan Royals\",\"Chennai Super Kings\",\"Royal Challengers Bangalore\",\"Kings XI Punjab\",\"Rajasthan Royals\",\"Chennai Super Kings\",\"Mumbai Indians\",\"Royal Challengers Bangalore\",\"Chennai Super Kings\",\"Delhi Daredevils\",\"Kings XI Punjab\",\"Royal Challengers Bangalore\",\"Rajasthan Royals\",\"Mumbai Indians\",\"Deccan Chargers\",\"Delhi Daredevils\",\"Kings XI Punjab\",\"Deccan Chargers\",\"Kings XI Punjab\",\"Rajasthan Royals\",\"Delhi Daredevils\",\"Deccan Chargers\",\"Kolkata Knight Riders\",\"Chennai Super Kings\",\"Deccan Chargers\",\"Delhi Daredevils\",\"Royal Challengers Bangalore\",\"Mumbai Indians\",\"Rajasthan Royals\",\"Chennai Super Kings\",\"Rajasthan Royals\",\"Kings XI Punjab\",\"Mumbai Indians\",\"Chennai Super Kings\",\"Rajasthan Royals\",\"Kolkata Knight Riders\",\"Royal Challengers Bangalore\",\"Rajasthan Royals\",\"Delhi Daredevils\",\"Kings XI Punjab\",\"Royal Challengers Bangalore\",\"Kings XI Punjab\",\"Rajasthan Royals\",\"Delhi Daredevils\",\"Chennai Super Kings\",\"Mumbai Indians\",\"Kings XI Punjab\",\"Rajasthan Royals\",\"Mumbai Indians\",\"Delhi Daredevils\",\"Mumbai Indians\",\"Kolkata Knight Riders\",\"Kings XI Punjab\",\"Rajasthan Royals\",\"Kolkata Knight Riders\",\"Chennai Super Kings\",\"Rajasthan Royals\",\"Chennai Super Kings\",\"Kolkata Knight Riders\",\"Mumbai Indians\",\"Deccan Chargers\",\"Kings XI Punjab\",\"Rajasthan Royals\",\"Mumbai Indians\",\"Royal Challengers Bangalore\",\"Kings XI Punjab\",\"Delhi Daredevils\",\"Rajasthan Royals\",\"Kings XI Punjab\",\"Delhi Daredevils\",\"Mumbai Indians\",\"Chennai Super Kings\",\"Kings XI Punjab\",\"Deccan Chargers\",\"Chennai Super Kings\",\"Rajasthan Royals\",\"Kings XI Punjab\",\"Rajasthan Royals\",\"Chennai Super Kings\",\"Delhi Daredevils\",\"Rajasthan Royals\",\"Kolkata Knight Riders\",\"Royal Challengers Bangalore\",\"Delhi Daredevils\",\"Chennai Super Kings\",\"Kolkata Knight Riders\"],\"xaxis\":\"x\",\"yaxis\":\"y\",\"type\":\"histogram\"}],                        {\"template\":{\"data\":{\"histogram2dcontour\":[{\"type\":\"histogram2dcontour\",\"colorbar\":{\"outlinewidth\":0,\"ticks\":\"\"},\"colorscale\":[[0.0,\"#0d0887\"],[0.1111111111111111,\"#46039f\"],[0.2222222222222222,\"#7201a8\"],[0.3333333333333333,\"#9c179e\"],[0.4444444444444444,\"#bd3786\"],[0.5555555555555556,\"#d8576b\"],[0.6666666666666666,\"#ed7953\"],[0.7777777777777778,\"#fb9f3a\"],[0.8888888888888888,\"#fdca26\"],[1.0,\"#f0f921\"]]}],\"choropleth\":[{\"type\":\"choropleth\",\"colorbar\":{\"outlinewidth\":0,\"ticks\":\"\"}}],\"histogram2d\":[{\"type\":\"histogram2d\",\"colorbar\":{\"outlinewidth\":0,\"ticks\":\"\"},\"colorscale\":[[0.0,\"#0d0887\"],[0.1111111111111111,\"#46039f\"],[0.2222222222222222,\"#7201a8\"],[0.3333333333333333,\"#9c179e\"],[0.4444444444444444,\"#bd3786\"],[0.5555555555555556,\"#d8576b\"],[0.6666666666666666,\"#ed7953\"],[0.7777777777777778,\"#fb9f3a\"],[0.8888888888888888,\"#fdca26\"],[1.0,\"#f0f921\"]]}],\"heatmap\":[{\"type\":\"heatmap\",\"colorbar\":{\"outlinewidth\":0,\"ticks\":\"\"},\"colorscale\":[[0.0,\"#0d0887\"],[0.1111111111111111,\"#46039f\"],[0.2222222222222222,\"#7201a8\"],[0.3333333333333333,\"#9c179e\"],[0.4444444444444444,\"#bd3786\"],[0.5555555555555556,\"#d8576b\"],[0.6666666666666666,\"#ed7953\"],[0.7777777777777778,\"#fb9f3a\"],[0.8888888888888888,\"#fdca26\"],[1.0,\"#f0f921\"]]}],\"heatmapgl\":[{\"type\":\"heatmapgl\",\"colorbar\":{\"outlinewidth\":0,\"ticks\":\"\"},\"colorscale\":[[0.0,\"#0d0887\"],[0.1111111111111111,\"#46039f\"],[0.2222222222222222,\"#7201a8\"],[0.3333333333333333,\"#9c179e\"],[0.4444444444444444,\"#bd3786\"],[0.5555555555555556,\"#d8576b\"],[0.6666666666666666,\"#ed7953\"],[0.7777777777777778,\"#fb9f3a\"],[0.8888888888888888,\"#fdca26\"],[1.0,\"#f0f921\"]]}],\"contourcarpet\":[{\"type\":\"contourcarpet\",\"colorbar\":{\"outlinewidth\":0,\"ticks\":\"\"}}],\"contour\":[{\"type\":\"contour\",\"colorbar\":{\"outlinewidth\":0,\"ticks\":\"\"},\"colorscale\":[[0.0,\"#0d0887\"],[0.1111111111111111,\"#46039f\"],[0.2222222222222222,\"#7201a8\"],[0.3333333333333333,\"#9c179e\"],[0.4444444444444444,\"#bd3786\"],[0.5555555555555556,\"#d8576b\"],[0.6666666666666666,\"#ed7953\"],[0.7777777777777778,\"#fb9f3a\"],[0.8888888888888888,\"#fdca26\"],[1.0,\"#f0f921\"]]}],\"surface\":[{\"type\":\"surface\",\"colorbar\":{\"outlinewidth\":0,\"ticks\":\"\"},\"colorscale\":[[0.0,\"#0d0887\"],[0.1111111111111111,\"#46039f\"],[0.2222222222222222,\"#7201a8\"],[0.3333333333333333,\"#9c179e\"],[0.4444444444444444,\"#bd3786\"],[0.5555555555555556,\"#d8576b\"],[0.6666666666666666,\"#ed7953\"],[0.7777777777777778,\"#fb9f3a\"],[0.8888888888888888,\"#fdca26\"],[1.0,\"#f0f921\"]]}],\"mesh3d\":[{\"type\":\"mesh3d\",\"colorbar\":{\"outlinewidth\":0,\"ticks\":\"\"}}],\"scatter\":[{\"fillpattern\":{\"fillmode\":\"overlay\",\"size\":10,\"solidity\":0.2},\"type\":\"scatter\"}],\"parcoords\":[{\"type\":\"parcoords\",\"line\":{\"colorbar\":{\"outlinewidth\":0,\"ticks\":\"\"}}}],\"scatterpolargl\":[{\"type\":\"scatterpolargl\",\"marker\":{\"colorbar\":{\"outlinewidth\":0,\"ticks\":\"\"}}}],\"bar\":[{\"error_x\":{\"color\":\"#2a3f5f\"},\"error_y\":{\"color\":\"#2a3f5f\"},\"marker\":{\"line\":{\"color\":\"#E5ECF6\",\"width\":0.5},\"pattern\":{\"fillmode\":\"overlay\",\"size\":10,\"solidity\":0.2}},\"type\":\"bar\"}],\"scattergeo\":[{\"type\":\"scattergeo\",\"marker\":{\"colorbar\":{\"outlinewidth\":0,\"ticks\":\"\"}}}],\"scatterpolar\":[{\"type\":\"scatterpolar\",\"marker\":{\"colorbar\":{\"outlinewidth\":0,\"ticks\":\"\"}}}],\"histogram\":[{\"marker\":{\"pattern\":{\"fillmode\":\"overlay\",\"size\":10,\"solidity\":0.2}},\"type\":\"histogram\"}],\"scattergl\":[{\"type\":\"scattergl\",\"marker\":{\"colorbar\":{\"outlinewidth\":0,\"ticks\":\"\"}}}],\"scatter3d\":[{\"type\":\"scatter3d\",\"line\":{\"colorbar\":{\"outlinewidth\":0,\"ticks\":\"\"}},\"marker\":{\"colorbar\":{\"outlinewidth\":0,\"ticks\":\"\"}}}],\"scattermapbox\":[{\"type\":\"scattermapbox\",\"marker\":{\"colorbar\":{\"outlinewidth\":0,\"ticks\":\"\"}}}],\"scatterternary\":[{\"type\":\"scatterternary\",\"marker\":{\"colorbar\":{\"outlinewidth\":0,\"ticks\":\"\"}}}],\"scattercarpet\":[{\"type\":\"scattercarpet\",\"marker\":{\"colorbar\":{\"outlinewidth\":0,\"ticks\":\"\"}}}],\"carpet\":[{\"aaxis\":{\"endlinecolor\":\"#2a3f5f\",\"gridcolor\":\"white\",\"linecolor\":\"white\",\"minorgridcolor\":\"white\",\"startlinecolor\":\"#2a3f5f\"},\"baxis\":{\"endlinecolor\":\"#2a3f5f\",\"gridcolor\":\"white\",\"linecolor\":\"white\",\"minorgridcolor\":\"white\",\"startlinecolor\":\"#2a3f5f\"},\"type\":\"carpet\"}],\"table\":[{\"cells\":{\"fill\":{\"color\":\"#EBF0F8\"},\"line\":{\"color\":\"white\"}},\"header\":{\"fill\":{\"color\":\"#C8D4E3\"},\"line\":{\"color\":\"white\"}},\"type\":\"table\"}],\"barpolar\":[{\"marker\":{\"line\":{\"color\":\"#E5ECF6\",\"width\":0.5},\"pattern\":{\"fillmode\":\"overlay\",\"size\":10,\"solidity\":0.2}},\"type\":\"barpolar\"}],\"pie\":[{\"automargin\":true,\"type\":\"pie\"}]},\"layout\":{\"autotypenumbers\":\"strict\",\"colorway\":[\"#636efa\",\"#EF553B\",\"#00cc96\",\"#ab63fa\",\"#FFA15A\",\"#19d3f3\",\"#FF6692\",\"#B6E880\",\"#FF97FF\",\"#FECB52\"],\"font\":{\"color\":\"#2a3f5f\"},\"hovermode\":\"closest\",\"hoverlabel\":{\"align\":\"left\"},\"paper_bgcolor\":\"white\",\"plot_bgcolor\":\"#E5ECF6\",\"polar\":{\"bgcolor\":\"#E5ECF6\",\"angularaxis\":{\"gridcolor\":\"white\",\"linecolor\":\"white\",\"ticks\":\"\"},\"radialaxis\":{\"gridcolor\":\"white\",\"linecolor\":\"white\",\"ticks\":\"\"}},\"ternary\":{\"bgcolor\":\"#E5ECF6\",\"aaxis\":{\"gridcolor\":\"white\",\"linecolor\":\"white\",\"ticks\":\"\"},\"baxis\":{\"gridcolor\":\"white\",\"linecolor\":\"white\",\"ticks\":\"\"},\"caxis\":{\"gridcolor\":\"white\",\"linecolor\":\"white\",\"ticks\":\"\"}},\"coloraxis\":{\"colorbar\":{\"outlinewidth\":0,\"ticks\":\"\"}},\"colorscale\":{\"sequential\":[[0.0,\"#0d0887\"],[0.1111111111111111,\"#46039f\"],[0.2222222222222222,\"#7201a8\"],[0.3333333333333333,\"#9c179e\"],[0.4444444444444444,\"#bd3786\"],[0.5555555555555556,\"#d8576b\"],[0.6666666666666666,\"#ed7953\"],[0.7777777777777778,\"#fb9f3a\"],[0.8888888888888888,\"#fdca26\"],[1.0,\"#f0f921\"]],\"sequentialminus\":[[0.0,\"#0d0887\"],[0.1111111111111111,\"#46039f\"],[0.2222222222222222,\"#7201a8\"],[0.3333333333333333,\"#9c179e\"],[0.4444444444444444,\"#bd3786\"],[0.5555555555555556,\"#d8576b\"],[0.6666666666666666,\"#ed7953\"],[0.7777777777777778,\"#fb9f3a\"],[0.8888888888888888,\"#fdca26\"],[1.0,\"#f0f921\"]],\"diverging\":[[0,\"#8e0152\"],[0.1,\"#c51b7d\"],[0.2,\"#de77ae\"],[0.3,\"#f1b6da\"],[0.4,\"#fde0ef\"],[0.5,\"#f7f7f7\"],[0.6,\"#e6f5d0\"],[0.7,\"#b8e186\"],[0.8,\"#7fbc41\"],[0.9,\"#4d9221\"],[1,\"#276419\"]]},\"xaxis\":{\"gridcolor\":\"white\",\"linecolor\":\"white\",\"ticks\":\"\",\"title\":{\"standoff\":15},\"zerolinecolor\":\"white\",\"automargin\":true,\"zerolinewidth\":2},\"yaxis\":{\"gridcolor\":\"white\",\"linecolor\":\"white\",\"ticks\":\"\",\"title\":{\"standoff\":15},\"zerolinecolor\":\"white\",\"automargin\":true,\"zerolinewidth\":2},\"scene\":{\"xaxis\":{\"backgroundcolor\":\"#E5ECF6\",\"gridcolor\":\"white\",\"linecolor\":\"white\",\"showbackground\":true,\"ticks\":\"\",\"zerolinecolor\":\"white\",\"gridwidth\":2},\"yaxis\":{\"backgroundcolor\":\"#E5ECF6\",\"gridcolor\":\"white\",\"linecolor\":\"white\",\"showbackground\":true,\"ticks\":\"\",\"zerolinecolor\":\"white\",\"gridwidth\":2},\"zaxis\":{\"backgroundcolor\":\"#E5ECF6\",\"gridcolor\":\"white\",\"linecolor\":\"white\",\"showbackground\":true,\"ticks\":\"\",\"zerolinecolor\":\"white\",\"gridwidth\":2}},\"shapedefaults\":{\"line\":{\"color\":\"#2a3f5f\"}},\"annotationdefaults\":{\"arrowcolor\":\"#2a3f5f\",\"arrowhead\":0,\"arrowwidth\":1},\"geo\":{\"bgcolor\":\"white\",\"landcolor\":\"#E5ECF6\",\"subunitcolor\":\"white\",\"showland\":true,\"showlakes\":true,\"lakecolor\":\"white\"},\"title\":{\"x\":0.05},\"mapbox\":{\"style\":\"light\"}}},\"xaxis\":{\"anchor\":\"y\",\"domain\":[0.0,1.0],\"title\":{\"text\":\"WinningTeam\"}},\"yaxis\":{\"anchor\":\"x\",\"domain\":[0.0,1.0],\"title\":{\"text\":\"count\"}},\"legend\":{\"tracegroupgap\":0},\"margin\":{\"t\":60},\"barmode\":\"relative\"},                        {\"responsive\": true}                    ).then(function(){\n",
       "                            \n",
       "var gd = document.getElementById('43aee928-d076-41d3-8d6b-15138815ede6');\n",
       "var x = new MutationObserver(function (mutations, observer) {{\n",
       "        var display = window.getComputedStyle(gd).display;\n",
       "        if (!display || display === 'none') {{\n",
       "            console.log([gd, 'removed!']);\n",
       "            Plotly.purge(gd);\n",
       "            observer.disconnect();\n",
       "        }}\n",
       "}});\n",
       "\n",
       "// Listen for the removal of the full notebook cells\n",
       "var notebookContainer = gd.closest('#notebook-container');\n",
       "if (notebookContainer) {{\n",
       "    x.observe(notebookContainer, {childList: true});\n",
       "}}\n",
       "\n",
       "// Listen for the clearing of the current output cell\n",
       "var outputEl = gd.closest('.output');\n",
       "if (outputEl) {{\n",
       "    x.observe(outputEl, {childList: true});\n",
       "}}\n",
       "\n",
       "                        })                };                });            </script>        </div>"
      ]
     },
     "metadata": {},
     "output_type": "display_data"
    }
   ],
   "source": [
    "fig = px.histogram(match_df, x='WinningTeam')\n",
    "fig.show()"
   ]
  },
  {
   "cell_type": "code",
   "execution_count": 16,
   "metadata": {},
   "outputs": [],
   "source": [
    "match_df = match_df[['ID','City','Team1','Team2','Venue','WinningTeam','target']].dropna()"
   ]
  },
  {
   "cell_type": "code",
   "execution_count": 17,
   "metadata": {},
   "outputs": [
    {
     "data": {
      "text/html": [
       "<div>\n",
       "<style scoped>\n",
       "    .dataframe tbody tr th:only-of-type {\n",
       "        vertical-align: middle;\n",
       "    }\n",
       "\n",
       "    .dataframe tbody tr th {\n",
       "        vertical-align: top;\n",
       "    }\n",
       "\n",
       "    .dataframe thead th {\n",
       "        text-align: right;\n",
       "    }\n",
       "</style>\n",
       "<table border=\"1\" class=\"dataframe\">\n",
       "  <thead>\n",
       "    <tr style=\"text-align: right;\">\n",
       "      <th></th>\n",
       "      <th>ID</th>\n",
       "      <th>City</th>\n",
       "      <th>Team1</th>\n",
       "      <th>Team2</th>\n",
       "      <th>Venue</th>\n",
       "      <th>WinningTeam</th>\n",
       "      <th>target</th>\n",
       "    </tr>\n",
       "  </thead>\n",
       "  <tbody>\n",
       "    <tr>\n",
       "      <th>0</th>\n",
       "      <td>1312200</td>\n",
       "      <td>Ahmedabad</td>\n",
       "      <td>Rajasthan Royals</td>\n",
       "      <td>Gujarat Titans</td>\n",
       "      <td>Narendra Modi Stadium, Ahmedabad</td>\n",
       "      <td>Gujarat Titans</td>\n",
       "      <td>131</td>\n",
       "    </tr>\n",
       "    <tr>\n",
       "      <th>1</th>\n",
       "      <td>1312199</td>\n",
       "      <td>Ahmedabad</td>\n",
       "      <td>Royal Challengers Bangalore</td>\n",
       "      <td>Rajasthan Royals</td>\n",
       "      <td>Narendra Modi Stadium, Ahmedabad</td>\n",
       "      <td>Rajasthan Royals</td>\n",
       "      <td>158</td>\n",
       "    </tr>\n",
       "    <tr>\n",
       "      <th>2</th>\n",
       "      <td>1312198</td>\n",
       "      <td>Kolkata</td>\n",
       "      <td>Royal Challengers Bangalore</td>\n",
       "      <td>Lucknow Super Giants</td>\n",
       "      <td>Eden Gardens, Kolkata</td>\n",
       "      <td>Royal Challengers Bangalore</td>\n",
       "      <td>208</td>\n",
       "    </tr>\n",
       "    <tr>\n",
       "      <th>3</th>\n",
       "      <td>1312197</td>\n",
       "      <td>Kolkata</td>\n",
       "      <td>Rajasthan Royals</td>\n",
       "      <td>Gujarat Titans</td>\n",
       "      <td>Eden Gardens, Kolkata</td>\n",
       "      <td>Gujarat Titans</td>\n",
       "      <td>189</td>\n",
       "    </tr>\n",
       "    <tr>\n",
       "      <th>4</th>\n",
       "      <td>1304116</td>\n",
       "      <td>Mumbai</td>\n",
       "      <td>Sunrisers Hyderabad</td>\n",
       "      <td>Punjab Kings</td>\n",
       "      <td>Wankhede Stadium, Mumbai</td>\n",
       "      <td>Punjab Kings</td>\n",
       "      <td>158</td>\n",
       "    </tr>\n",
       "  </tbody>\n",
       "</table>\n",
       "</div>"
      ],
      "text/plain": [
       "        ID       City                        Team1                 Team2  \\\n",
       "0  1312200  Ahmedabad             Rajasthan Royals        Gujarat Titans   \n",
       "1  1312199  Ahmedabad  Royal Challengers Bangalore      Rajasthan Royals   \n",
       "2  1312198    Kolkata  Royal Challengers Bangalore  Lucknow Super Giants   \n",
       "3  1312197    Kolkata             Rajasthan Royals        Gujarat Titans   \n",
       "4  1304116     Mumbai          Sunrisers Hyderabad          Punjab Kings   \n",
       "\n",
       "                              Venue                  WinningTeam  target  \n",
       "0  Narendra Modi Stadium, Ahmedabad               Gujarat Titans     131  \n",
       "1  Narendra Modi Stadium, Ahmedabad             Rajasthan Royals     158  \n",
       "2             Eden Gardens, Kolkata  Royal Challengers Bangalore     208  \n",
       "3             Eden Gardens, Kolkata               Gujarat Titans     189  \n",
       "4          Wankhede Stadium, Mumbai                 Punjab Kings     158  "
      ]
     },
     "execution_count": 17,
     "metadata": {},
     "output_type": "execute_result"
    }
   ],
   "source": [
    "match_df.head()"
   ]
  },
  {
   "cell_type": "code",
   "execution_count": 18,
   "metadata": {},
   "outputs": [
    {
     "data": {
      "text/plain": [
       "ID             0\n",
       "City           0\n",
       "Team1          0\n",
       "Team2          0\n",
       "Venue          0\n",
       "WinningTeam    0\n",
       "target         0\n",
       "dtype: int64"
      ]
     },
     "execution_count": 18,
     "metadata": {},
     "output_type": "execute_result"
    }
   ],
   "source": [
    "match_df.isna().sum()"
   ]
  },
  {
   "attachments": {},
   "cell_type": "markdown",
   "metadata": {},
   "source": [
    "# Merge the match_df dataset with ball dataset"
   ]
  },
  {
   "cell_type": "code",
   "execution_count": 19,
   "metadata": {},
   "outputs": [],
   "source": [
    "ball_df= match_df.merge(ball, on='ID')"
   ]
  },
  {
   "cell_type": "code",
   "execution_count": 20,
   "metadata": {},
   "outputs": [
    {
     "data": {
      "text/html": [
       "<div>\n",
       "<style scoped>\n",
       "    .dataframe tbody tr th:only-of-type {\n",
       "        vertical-align: middle;\n",
       "    }\n",
       "\n",
       "    .dataframe tbody tr th {\n",
       "        vertical-align: top;\n",
       "    }\n",
       "\n",
       "    .dataframe thead th {\n",
       "        text-align: right;\n",
       "    }\n",
       "</style>\n",
       "<table border=\"1\" class=\"dataframe\">\n",
       "  <thead>\n",
       "    <tr style=\"text-align: right;\">\n",
       "      <th></th>\n",
       "      <th>ID</th>\n",
       "      <th>City</th>\n",
       "      <th>Team1</th>\n",
       "      <th>Team2</th>\n",
       "      <th>Venue</th>\n",
       "      <th>WinningTeam</th>\n",
       "      <th>target</th>\n",
       "      <th>innings</th>\n",
       "      <th>overs</th>\n",
       "      <th>ballnumber</th>\n",
       "      <th>...</th>\n",
       "      <th>batsman_run</th>\n",
       "      <th>extras_run</th>\n",
       "      <th>total_run</th>\n",
       "      <th>non_boundary</th>\n",
       "      <th>isWicketDelivery</th>\n",
       "      <th>player_out</th>\n",
       "      <th>kind</th>\n",
       "      <th>fielders_involved</th>\n",
       "      <th>BattingTeam</th>\n",
       "      <th>Overs</th>\n",
       "    </tr>\n",
       "  </thead>\n",
       "  <tbody>\n",
       "    <tr>\n",
       "      <th>0</th>\n",
       "      <td>1312200</td>\n",
       "      <td>Ahmedabad</td>\n",
       "      <td>Rajasthan Royals</td>\n",
       "      <td>Gujarat Titans</td>\n",
       "      <td>Narendra Modi Stadium, Ahmedabad</td>\n",
       "      <td>Gujarat Titans</td>\n",
       "      <td>131</td>\n",
       "      <td>1</td>\n",
       "      <td>0</td>\n",
       "      <td>1</td>\n",
       "      <td>...</td>\n",
       "      <td>0</td>\n",
       "      <td>0</td>\n",
       "      <td>0</td>\n",
       "      <td>0</td>\n",
       "      <td>0</td>\n",
       "      <td>NaN</td>\n",
       "      <td>NaN</td>\n",
       "      <td>NaN</td>\n",
       "      <td>Rajasthan Royals</td>\n",
       "      <td>0.1</td>\n",
       "    </tr>\n",
       "    <tr>\n",
       "      <th>1</th>\n",
       "      <td>1312200</td>\n",
       "      <td>Ahmedabad</td>\n",
       "      <td>Rajasthan Royals</td>\n",
       "      <td>Gujarat Titans</td>\n",
       "      <td>Narendra Modi Stadium, Ahmedabad</td>\n",
       "      <td>Gujarat Titans</td>\n",
       "      <td>131</td>\n",
       "      <td>1</td>\n",
       "      <td>0</td>\n",
       "      <td>2</td>\n",
       "      <td>...</td>\n",
       "      <td>0</td>\n",
       "      <td>1</td>\n",
       "      <td>1</td>\n",
       "      <td>0</td>\n",
       "      <td>0</td>\n",
       "      <td>NaN</td>\n",
       "      <td>NaN</td>\n",
       "      <td>NaN</td>\n",
       "      <td>Rajasthan Royals</td>\n",
       "      <td>0.2</td>\n",
       "    </tr>\n",
       "    <tr>\n",
       "      <th>2</th>\n",
       "      <td>1312200</td>\n",
       "      <td>Ahmedabad</td>\n",
       "      <td>Rajasthan Royals</td>\n",
       "      <td>Gujarat Titans</td>\n",
       "      <td>Narendra Modi Stadium, Ahmedabad</td>\n",
       "      <td>Gujarat Titans</td>\n",
       "      <td>131</td>\n",
       "      <td>1</td>\n",
       "      <td>0</td>\n",
       "      <td>3</td>\n",
       "      <td>...</td>\n",
       "      <td>1</td>\n",
       "      <td>0</td>\n",
       "      <td>1</td>\n",
       "      <td>0</td>\n",
       "      <td>0</td>\n",
       "      <td>NaN</td>\n",
       "      <td>NaN</td>\n",
       "      <td>NaN</td>\n",
       "      <td>Rajasthan Royals</td>\n",
       "      <td>0.3</td>\n",
       "    </tr>\n",
       "    <tr>\n",
       "      <th>3</th>\n",
       "      <td>1312200</td>\n",
       "      <td>Ahmedabad</td>\n",
       "      <td>Rajasthan Royals</td>\n",
       "      <td>Gujarat Titans</td>\n",
       "      <td>Narendra Modi Stadium, Ahmedabad</td>\n",
       "      <td>Gujarat Titans</td>\n",
       "      <td>131</td>\n",
       "      <td>1</td>\n",
       "      <td>0</td>\n",
       "      <td>4</td>\n",
       "      <td>...</td>\n",
       "      <td>0</td>\n",
       "      <td>0</td>\n",
       "      <td>0</td>\n",
       "      <td>0</td>\n",
       "      <td>0</td>\n",
       "      <td>NaN</td>\n",
       "      <td>NaN</td>\n",
       "      <td>NaN</td>\n",
       "      <td>Rajasthan Royals</td>\n",
       "      <td>0.4</td>\n",
       "    </tr>\n",
       "    <tr>\n",
       "      <th>4</th>\n",
       "      <td>1312200</td>\n",
       "      <td>Ahmedabad</td>\n",
       "      <td>Rajasthan Royals</td>\n",
       "      <td>Gujarat Titans</td>\n",
       "      <td>Narendra Modi Stadium, Ahmedabad</td>\n",
       "      <td>Gujarat Titans</td>\n",
       "      <td>131</td>\n",
       "      <td>1</td>\n",
       "      <td>0</td>\n",
       "      <td>5</td>\n",
       "      <td>...</td>\n",
       "      <td>0</td>\n",
       "      <td>0</td>\n",
       "      <td>0</td>\n",
       "      <td>0</td>\n",
       "      <td>0</td>\n",
       "      <td>NaN</td>\n",
       "      <td>NaN</td>\n",
       "      <td>NaN</td>\n",
       "      <td>Rajasthan Royals</td>\n",
       "      <td>0.5</td>\n",
       "    </tr>\n",
       "  </tbody>\n",
       "</table>\n",
       "<p>5 rows × 24 columns</p>\n",
       "</div>"
      ],
      "text/plain": [
       "        ID       City             Team1           Team2  \\\n",
       "0  1312200  Ahmedabad  Rajasthan Royals  Gujarat Titans   \n",
       "1  1312200  Ahmedabad  Rajasthan Royals  Gujarat Titans   \n",
       "2  1312200  Ahmedabad  Rajasthan Royals  Gujarat Titans   \n",
       "3  1312200  Ahmedabad  Rajasthan Royals  Gujarat Titans   \n",
       "4  1312200  Ahmedabad  Rajasthan Royals  Gujarat Titans   \n",
       "\n",
       "                              Venue     WinningTeam  target  innings  overs  \\\n",
       "0  Narendra Modi Stadium, Ahmedabad  Gujarat Titans     131        1      0   \n",
       "1  Narendra Modi Stadium, Ahmedabad  Gujarat Titans     131        1      0   \n",
       "2  Narendra Modi Stadium, Ahmedabad  Gujarat Titans     131        1      0   \n",
       "3  Narendra Modi Stadium, Ahmedabad  Gujarat Titans     131        1      0   \n",
       "4  Narendra Modi Stadium, Ahmedabad  Gujarat Titans     131        1      0   \n",
       "\n",
       "   ballnumber  ... batsman_run extras_run total_run non_boundary  \\\n",
       "0           1  ...           0          0         0            0   \n",
       "1           2  ...           0          1         1            0   \n",
       "2           3  ...           1          0         1            0   \n",
       "3           4  ...           0          0         0            0   \n",
       "4           5  ...           0          0         0            0   \n",
       "\n",
       "   isWicketDelivery  player_out  kind  fielders_involved       BattingTeam  \\\n",
       "0                 0         NaN   NaN                NaN  Rajasthan Royals   \n",
       "1                 0         NaN   NaN                NaN  Rajasthan Royals   \n",
       "2                 0         NaN   NaN                NaN  Rajasthan Royals   \n",
       "3                 0         NaN   NaN                NaN  Rajasthan Royals   \n",
       "4                 0         NaN   NaN                NaN  Rajasthan Royals   \n",
       "\n",
       "  Overs  \n",
       "0   0.1  \n",
       "1   0.2  \n",
       "2   0.3  \n",
       "3   0.4  \n",
       "4   0.5  \n",
       "\n",
       "[5 rows x 24 columns]"
      ]
     },
     "execution_count": 20,
     "metadata": {},
     "output_type": "execute_result"
    }
   ],
   "source": [
    "ball_df.head()"
   ]
  },
  {
   "cell_type": "code",
   "execution_count": 21,
   "metadata": {},
   "outputs": [
    {
     "data": {
      "text/plain": [
       "Mumbai Indians                 26429\n",
       "Kolkata Knight Riders          25195\n",
       "Royal Challengers Bangalore    24643\n",
       "Chennai Super Kings            23548\n",
       "Rajasthan Royals               21395\n",
       "Kings XI Punjab                21065\n",
       "Delhi Daredevils               18117\n",
       "Sunrisers Hyderabad            16394\n",
       "Deccan Chargers                 9034\n",
       "Delhi Capitals                  6095\n",
       "Pune Warriors                   5443\n",
       "Gujarat Lions                   3566\n",
       "Punjab Kings                    3388\n",
       "Gujarat Titans                  1971\n",
       "Rising Pune Supergiant          1900\n",
       "Lucknow Super Giants            1840\n",
       "Kochi Tuskers Kerala            1582\n",
       "Rising Pune Supergiants         1580\n",
       "Name: BattingTeam, dtype: int64"
      ]
     },
     "execution_count": 21,
     "metadata": {},
     "output_type": "execute_result"
    }
   ],
   "source": [
    "ball_df['BattingTeam'].value_counts()"
   ]
  },
  {
   "cell_type": "code",
   "execution_count": 22,
   "metadata": {},
   "outputs": [
    {
     "data": {
      "application/vnd.plotly.v1+json": {
       "config": {
        "plotlyServerURL": "https://plot.ly"
       },
       "data": [
        {
         "alignmentgroup": "True",
         "hovertemplate": "variable=BattingTeam<br>index=%{x}<br>value=%{y}<extra></extra>",
         "legendgroup": "BattingTeam",
         "marker": {
          "color": "#636efa",
          "pattern": {
           "shape": ""
          }
         },
         "name": "BattingTeam",
         "offsetgroup": "BattingTeam",
         "orientation": "v",
         "showlegend": true,
         "textposition": "auto",
         "type": "bar",
         "x": [
          "Mumbai Indians",
          "Kolkata Knight Riders",
          "Royal Challengers Bangalore",
          "Chennai Super Kings",
          "Rajasthan Royals",
          "Kings XI Punjab",
          "Delhi Daredevils",
          "Sunrisers Hyderabad",
          "Deccan Chargers",
          "Delhi Capitals",
          "Pune Warriors",
          "Gujarat Lions",
          "Punjab Kings",
          "Gujarat Titans",
          "Rising Pune Supergiant",
          "Lucknow Super Giants",
          "Kochi Tuskers Kerala",
          "Rising Pune Supergiants"
         ],
         "xaxis": "x",
         "y": [
          26429,
          25195,
          24643,
          23548,
          21395,
          21065,
          18117,
          16394,
          9034,
          6095,
          5443,
          3566,
          3388,
          1971,
          1900,
          1840,
          1582,
          1580
         ],
         "yaxis": "y"
        }
       ],
       "layout": {
        "barmode": "relative",
        "legend": {
         "title": {
          "text": "variable"
         },
         "tracegroupgap": 0
        },
        "margin": {
         "t": 60
        },
        "template": {
         "data": {
          "bar": [
           {
            "error_x": {
             "color": "#2a3f5f"
            },
            "error_y": {
             "color": "#2a3f5f"
            },
            "marker": {
             "line": {
              "color": "#E5ECF6",
              "width": 0.5
             },
             "pattern": {
              "fillmode": "overlay",
              "size": 10,
              "solidity": 0.2
             }
            },
            "type": "bar"
           }
          ],
          "barpolar": [
           {
            "marker": {
             "line": {
              "color": "#E5ECF6",
              "width": 0.5
             },
             "pattern": {
              "fillmode": "overlay",
              "size": 10,
              "solidity": 0.2
             }
            },
            "type": "barpolar"
           }
          ],
          "carpet": [
           {
            "aaxis": {
             "endlinecolor": "#2a3f5f",
             "gridcolor": "white",
             "linecolor": "white",
             "minorgridcolor": "white",
             "startlinecolor": "#2a3f5f"
            },
            "baxis": {
             "endlinecolor": "#2a3f5f",
             "gridcolor": "white",
             "linecolor": "white",
             "minorgridcolor": "white",
             "startlinecolor": "#2a3f5f"
            },
            "type": "carpet"
           }
          ],
          "choropleth": [
           {
            "colorbar": {
             "outlinewidth": 0,
             "ticks": ""
            },
            "type": "choropleth"
           }
          ],
          "contour": [
           {
            "colorbar": {
             "outlinewidth": 0,
             "ticks": ""
            },
            "colorscale": [
             [
              0,
              "#0d0887"
             ],
             [
              0.1111111111111111,
              "#46039f"
             ],
             [
              0.2222222222222222,
              "#7201a8"
             ],
             [
              0.3333333333333333,
              "#9c179e"
             ],
             [
              0.4444444444444444,
              "#bd3786"
             ],
             [
              0.5555555555555556,
              "#d8576b"
             ],
             [
              0.6666666666666666,
              "#ed7953"
             ],
             [
              0.7777777777777778,
              "#fb9f3a"
             ],
             [
              0.8888888888888888,
              "#fdca26"
             ],
             [
              1,
              "#f0f921"
             ]
            ],
            "type": "contour"
           }
          ],
          "contourcarpet": [
           {
            "colorbar": {
             "outlinewidth": 0,
             "ticks": ""
            },
            "type": "contourcarpet"
           }
          ],
          "heatmap": [
           {
            "colorbar": {
             "outlinewidth": 0,
             "ticks": ""
            },
            "colorscale": [
             [
              0,
              "#0d0887"
             ],
             [
              0.1111111111111111,
              "#46039f"
             ],
             [
              0.2222222222222222,
              "#7201a8"
             ],
             [
              0.3333333333333333,
              "#9c179e"
             ],
             [
              0.4444444444444444,
              "#bd3786"
             ],
             [
              0.5555555555555556,
              "#d8576b"
             ],
             [
              0.6666666666666666,
              "#ed7953"
             ],
             [
              0.7777777777777778,
              "#fb9f3a"
             ],
             [
              0.8888888888888888,
              "#fdca26"
             ],
             [
              1,
              "#f0f921"
             ]
            ],
            "type": "heatmap"
           }
          ],
          "heatmapgl": [
           {
            "colorbar": {
             "outlinewidth": 0,
             "ticks": ""
            },
            "colorscale": [
             [
              0,
              "#0d0887"
             ],
             [
              0.1111111111111111,
              "#46039f"
             ],
             [
              0.2222222222222222,
              "#7201a8"
             ],
             [
              0.3333333333333333,
              "#9c179e"
             ],
             [
              0.4444444444444444,
              "#bd3786"
             ],
             [
              0.5555555555555556,
              "#d8576b"
             ],
             [
              0.6666666666666666,
              "#ed7953"
             ],
             [
              0.7777777777777778,
              "#fb9f3a"
             ],
             [
              0.8888888888888888,
              "#fdca26"
             ],
             [
              1,
              "#f0f921"
             ]
            ],
            "type": "heatmapgl"
           }
          ],
          "histogram": [
           {
            "marker": {
             "pattern": {
              "fillmode": "overlay",
              "size": 10,
              "solidity": 0.2
             }
            },
            "type": "histogram"
           }
          ],
          "histogram2d": [
           {
            "colorbar": {
             "outlinewidth": 0,
             "ticks": ""
            },
            "colorscale": [
             [
              0,
              "#0d0887"
             ],
             [
              0.1111111111111111,
              "#46039f"
             ],
             [
              0.2222222222222222,
              "#7201a8"
             ],
             [
              0.3333333333333333,
              "#9c179e"
             ],
             [
              0.4444444444444444,
              "#bd3786"
             ],
             [
              0.5555555555555556,
              "#d8576b"
             ],
             [
              0.6666666666666666,
              "#ed7953"
             ],
             [
              0.7777777777777778,
              "#fb9f3a"
             ],
             [
              0.8888888888888888,
              "#fdca26"
             ],
             [
              1,
              "#f0f921"
             ]
            ],
            "type": "histogram2d"
           }
          ],
          "histogram2dcontour": [
           {
            "colorbar": {
             "outlinewidth": 0,
             "ticks": ""
            },
            "colorscale": [
             [
              0,
              "#0d0887"
             ],
             [
              0.1111111111111111,
              "#46039f"
             ],
             [
              0.2222222222222222,
              "#7201a8"
             ],
             [
              0.3333333333333333,
              "#9c179e"
             ],
             [
              0.4444444444444444,
              "#bd3786"
             ],
             [
              0.5555555555555556,
              "#d8576b"
             ],
             [
              0.6666666666666666,
              "#ed7953"
             ],
             [
              0.7777777777777778,
              "#fb9f3a"
             ],
             [
              0.8888888888888888,
              "#fdca26"
             ],
             [
              1,
              "#f0f921"
             ]
            ],
            "type": "histogram2dcontour"
           }
          ],
          "mesh3d": [
           {
            "colorbar": {
             "outlinewidth": 0,
             "ticks": ""
            },
            "type": "mesh3d"
           }
          ],
          "parcoords": [
           {
            "line": {
             "colorbar": {
              "outlinewidth": 0,
              "ticks": ""
             }
            },
            "type": "parcoords"
           }
          ],
          "pie": [
           {
            "automargin": true,
            "type": "pie"
           }
          ],
          "scatter": [
           {
            "fillpattern": {
             "fillmode": "overlay",
             "size": 10,
             "solidity": 0.2
            },
            "type": "scatter"
           }
          ],
          "scatter3d": [
           {
            "line": {
             "colorbar": {
              "outlinewidth": 0,
              "ticks": ""
             }
            },
            "marker": {
             "colorbar": {
              "outlinewidth": 0,
              "ticks": ""
             }
            },
            "type": "scatter3d"
           }
          ],
          "scattercarpet": [
           {
            "marker": {
             "colorbar": {
              "outlinewidth": 0,
              "ticks": ""
             }
            },
            "type": "scattercarpet"
           }
          ],
          "scattergeo": [
           {
            "marker": {
             "colorbar": {
              "outlinewidth": 0,
              "ticks": ""
             }
            },
            "type": "scattergeo"
           }
          ],
          "scattergl": [
           {
            "marker": {
             "colorbar": {
              "outlinewidth": 0,
              "ticks": ""
             }
            },
            "type": "scattergl"
           }
          ],
          "scattermapbox": [
           {
            "marker": {
             "colorbar": {
              "outlinewidth": 0,
              "ticks": ""
             }
            },
            "type": "scattermapbox"
           }
          ],
          "scatterpolar": [
           {
            "marker": {
             "colorbar": {
              "outlinewidth": 0,
              "ticks": ""
             }
            },
            "type": "scatterpolar"
           }
          ],
          "scatterpolargl": [
           {
            "marker": {
             "colorbar": {
              "outlinewidth": 0,
              "ticks": ""
             }
            },
            "type": "scatterpolargl"
           }
          ],
          "scatterternary": [
           {
            "marker": {
             "colorbar": {
              "outlinewidth": 0,
              "ticks": ""
             }
            },
            "type": "scatterternary"
           }
          ],
          "surface": [
           {
            "colorbar": {
             "outlinewidth": 0,
             "ticks": ""
            },
            "colorscale": [
             [
              0,
              "#0d0887"
             ],
             [
              0.1111111111111111,
              "#46039f"
             ],
             [
              0.2222222222222222,
              "#7201a8"
             ],
             [
              0.3333333333333333,
              "#9c179e"
             ],
             [
              0.4444444444444444,
              "#bd3786"
             ],
             [
              0.5555555555555556,
              "#d8576b"
             ],
             [
              0.6666666666666666,
              "#ed7953"
             ],
             [
              0.7777777777777778,
              "#fb9f3a"
             ],
             [
              0.8888888888888888,
              "#fdca26"
             ],
             [
              1,
              "#f0f921"
             ]
            ],
            "type": "surface"
           }
          ],
          "table": [
           {
            "cells": {
             "fill": {
              "color": "#EBF0F8"
             },
             "line": {
              "color": "white"
             }
            },
            "header": {
             "fill": {
              "color": "#C8D4E3"
             },
             "line": {
              "color": "white"
             }
            },
            "type": "table"
           }
          ]
         },
         "layout": {
          "annotationdefaults": {
           "arrowcolor": "#2a3f5f",
           "arrowhead": 0,
           "arrowwidth": 1
          },
          "autotypenumbers": "strict",
          "coloraxis": {
           "colorbar": {
            "outlinewidth": 0,
            "ticks": ""
           }
          },
          "colorscale": {
           "diverging": [
            [
             0,
             "#8e0152"
            ],
            [
             0.1,
             "#c51b7d"
            ],
            [
             0.2,
             "#de77ae"
            ],
            [
             0.3,
             "#f1b6da"
            ],
            [
             0.4,
             "#fde0ef"
            ],
            [
             0.5,
             "#f7f7f7"
            ],
            [
             0.6,
             "#e6f5d0"
            ],
            [
             0.7,
             "#b8e186"
            ],
            [
             0.8,
             "#7fbc41"
            ],
            [
             0.9,
             "#4d9221"
            ],
            [
             1,
             "#276419"
            ]
           ],
           "sequential": [
            [
             0,
             "#0d0887"
            ],
            [
             0.1111111111111111,
             "#46039f"
            ],
            [
             0.2222222222222222,
             "#7201a8"
            ],
            [
             0.3333333333333333,
             "#9c179e"
            ],
            [
             0.4444444444444444,
             "#bd3786"
            ],
            [
             0.5555555555555556,
             "#d8576b"
            ],
            [
             0.6666666666666666,
             "#ed7953"
            ],
            [
             0.7777777777777778,
             "#fb9f3a"
            ],
            [
             0.8888888888888888,
             "#fdca26"
            ],
            [
             1,
             "#f0f921"
            ]
           ],
           "sequentialminus": [
            [
             0,
             "#0d0887"
            ],
            [
             0.1111111111111111,
             "#46039f"
            ],
            [
             0.2222222222222222,
             "#7201a8"
            ],
            [
             0.3333333333333333,
             "#9c179e"
            ],
            [
             0.4444444444444444,
             "#bd3786"
            ],
            [
             0.5555555555555556,
             "#d8576b"
            ],
            [
             0.6666666666666666,
             "#ed7953"
            ],
            [
             0.7777777777777778,
             "#fb9f3a"
            ],
            [
             0.8888888888888888,
             "#fdca26"
            ],
            [
             1,
             "#f0f921"
            ]
           ]
          },
          "colorway": [
           "#636efa",
           "#EF553B",
           "#00cc96",
           "#ab63fa",
           "#FFA15A",
           "#19d3f3",
           "#FF6692",
           "#B6E880",
           "#FF97FF",
           "#FECB52"
          ],
          "font": {
           "color": "#2a3f5f"
          },
          "geo": {
           "bgcolor": "white",
           "lakecolor": "white",
           "landcolor": "#E5ECF6",
           "showlakes": true,
           "showland": true,
           "subunitcolor": "white"
          },
          "hoverlabel": {
           "align": "left"
          },
          "hovermode": "closest",
          "mapbox": {
           "style": "light"
          },
          "paper_bgcolor": "white",
          "plot_bgcolor": "#E5ECF6",
          "polar": {
           "angularaxis": {
            "gridcolor": "white",
            "linecolor": "white",
            "ticks": ""
           },
           "bgcolor": "#E5ECF6",
           "radialaxis": {
            "gridcolor": "white",
            "linecolor": "white",
            "ticks": ""
           }
          },
          "scene": {
           "xaxis": {
            "backgroundcolor": "#E5ECF6",
            "gridcolor": "white",
            "gridwidth": 2,
            "linecolor": "white",
            "showbackground": true,
            "ticks": "",
            "zerolinecolor": "white"
           },
           "yaxis": {
            "backgroundcolor": "#E5ECF6",
            "gridcolor": "white",
            "gridwidth": 2,
            "linecolor": "white",
            "showbackground": true,
            "ticks": "",
            "zerolinecolor": "white"
           },
           "zaxis": {
            "backgroundcolor": "#E5ECF6",
            "gridcolor": "white",
            "gridwidth": 2,
            "linecolor": "white",
            "showbackground": true,
            "ticks": "",
            "zerolinecolor": "white"
           }
          },
          "shapedefaults": {
           "line": {
            "color": "#2a3f5f"
           }
          },
          "ternary": {
           "aaxis": {
            "gridcolor": "white",
            "linecolor": "white",
            "ticks": ""
           },
           "baxis": {
            "gridcolor": "white",
            "linecolor": "white",
            "ticks": ""
           },
           "bgcolor": "#E5ECF6",
           "caxis": {
            "gridcolor": "white",
            "linecolor": "white",
            "ticks": ""
           }
          },
          "title": {
           "x": 0.05
          },
          "xaxis": {
           "automargin": true,
           "gridcolor": "white",
           "linecolor": "white",
           "ticks": "",
           "title": {
            "standoff": 15
           },
           "zerolinecolor": "white",
           "zerolinewidth": 2
          },
          "yaxis": {
           "automargin": true,
           "gridcolor": "white",
           "linecolor": "white",
           "ticks": "",
           "title": {
            "standoff": 15
           },
           "zerolinecolor": "white",
           "zerolinewidth": 2
          }
         }
        },
        "xaxis": {
         "anchor": "y",
         "domain": [
          0,
          1
         ],
         "title": {
          "text": "index"
         }
        },
        "yaxis": {
         "anchor": "x",
         "domain": [
          0,
          1
         ],
         "title": {
          "text": "value"
         }
        }
       }
      },
      "text/html": [
       "<div>                            <div id=\"c8c516ac-9da8-4a3b-abb2-26b61eb9e273\" class=\"plotly-graph-div\" style=\"height:525px; width:100%;\"></div>            <script type=\"text/javascript\">                require([\"plotly\"], function(Plotly) {                    window.PLOTLYENV=window.PLOTLYENV || {};                                    if (document.getElementById(\"c8c516ac-9da8-4a3b-abb2-26b61eb9e273\")) {                    Plotly.newPlot(                        \"c8c516ac-9da8-4a3b-abb2-26b61eb9e273\",                        [{\"alignmentgroup\":\"True\",\"hovertemplate\":\"variable=BattingTeam<br>index=%{x}<br>value=%{y}<extra></extra>\",\"legendgroup\":\"BattingTeam\",\"marker\":{\"color\":\"#636efa\",\"pattern\":{\"shape\":\"\"}},\"name\":\"BattingTeam\",\"offsetgroup\":\"BattingTeam\",\"orientation\":\"v\",\"showlegend\":true,\"textposition\":\"auto\",\"x\":[\"Mumbai Indians\",\"Kolkata Knight Riders\",\"Royal Challengers Bangalore\",\"Chennai Super Kings\",\"Rajasthan Royals\",\"Kings XI Punjab\",\"Delhi Daredevils\",\"Sunrisers Hyderabad\",\"Deccan Chargers\",\"Delhi Capitals\",\"Pune Warriors\",\"Gujarat Lions\",\"Punjab Kings\",\"Gujarat Titans\",\"Rising Pune Supergiant\",\"Lucknow Super Giants\",\"Kochi Tuskers Kerala\",\"Rising Pune Supergiants\"],\"xaxis\":\"x\",\"y\":[26429,25195,24643,23548,21395,21065,18117,16394,9034,6095,5443,3566,3388,1971,1900,1840,1582,1580],\"yaxis\":\"y\",\"type\":\"bar\"}],                        {\"template\":{\"data\":{\"histogram2dcontour\":[{\"type\":\"histogram2dcontour\",\"colorbar\":{\"outlinewidth\":0,\"ticks\":\"\"},\"colorscale\":[[0.0,\"#0d0887\"],[0.1111111111111111,\"#46039f\"],[0.2222222222222222,\"#7201a8\"],[0.3333333333333333,\"#9c179e\"],[0.4444444444444444,\"#bd3786\"],[0.5555555555555556,\"#d8576b\"],[0.6666666666666666,\"#ed7953\"],[0.7777777777777778,\"#fb9f3a\"],[0.8888888888888888,\"#fdca26\"],[1.0,\"#f0f921\"]]}],\"choropleth\":[{\"type\":\"choropleth\",\"colorbar\":{\"outlinewidth\":0,\"ticks\":\"\"}}],\"histogram2d\":[{\"type\":\"histogram2d\",\"colorbar\":{\"outlinewidth\":0,\"ticks\":\"\"},\"colorscale\":[[0.0,\"#0d0887\"],[0.1111111111111111,\"#46039f\"],[0.2222222222222222,\"#7201a8\"],[0.3333333333333333,\"#9c179e\"],[0.4444444444444444,\"#bd3786\"],[0.5555555555555556,\"#d8576b\"],[0.6666666666666666,\"#ed7953\"],[0.7777777777777778,\"#fb9f3a\"],[0.8888888888888888,\"#fdca26\"],[1.0,\"#f0f921\"]]}],\"heatmap\":[{\"type\":\"heatmap\",\"colorbar\":{\"outlinewidth\":0,\"ticks\":\"\"},\"colorscale\":[[0.0,\"#0d0887\"],[0.1111111111111111,\"#46039f\"],[0.2222222222222222,\"#7201a8\"],[0.3333333333333333,\"#9c179e\"],[0.4444444444444444,\"#bd3786\"],[0.5555555555555556,\"#d8576b\"],[0.6666666666666666,\"#ed7953\"],[0.7777777777777778,\"#fb9f3a\"],[0.8888888888888888,\"#fdca26\"],[1.0,\"#f0f921\"]]}],\"heatmapgl\":[{\"type\":\"heatmapgl\",\"colorbar\":{\"outlinewidth\":0,\"ticks\":\"\"},\"colorscale\":[[0.0,\"#0d0887\"],[0.1111111111111111,\"#46039f\"],[0.2222222222222222,\"#7201a8\"],[0.3333333333333333,\"#9c179e\"],[0.4444444444444444,\"#bd3786\"],[0.5555555555555556,\"#d8576b\"],[0.6666666666666666,\"#ed7953\"],[0.7777777777777778,\"#fb9f3a\"],[0.8888888888888888,\"#fdca26\"],[1.0,\"#f0f921\"]]}],\"contourcarpet\":[{\"type\":\"contourcarpet\",\"colorbar\":{\"outlinewidth\":0,\"ticks\":\"\"}}],\"contour\":[{\"type\":\"contour\",\"colorbar\":{\"outlinewidth\":0,\"ticks\":\"\"},\"colorscale\":[[0.0,\"#0d0887\"],[0.1111111111111111,\"#46039f\"],[0.2222222222222222,\"#7201a8\"],[0.3333333333333333,\"#9c179e\"],[0.4444444444444444,\"#bd3786\"],[0.5555555555555556,\"#d8576b\"],[0.6666666666666666,\"#ed7953\"],[0.7777777777777778,\"#fb9f3a\"],[0.8888888888888888,\"#fdca26\"],[1.0,\"#f0f921\"]]}],\"surface\":[{\"type\":\"surface\",\"colorbar\":{\"outlinewidth\":0,\"ticks\":\"\"},\"colorscale\":[[0.0,\"#0d0887\"],[0.1111111111111111,\"#46039f\"],[0.2222222222222222,\"#7201a8\"],[0.3333333333333333,\"#9c179e\"],[0.4444444444444444,\"#bd3786\"],[0.5555555555555556,\"#d8576b\"],[0.6666666666666666,\"#ed7953\"],[0.7777777777777778,\"#fb9f3a\"],[0.8888888888888888,\"#fdca26\"],[1.0,\"#f0f921\"]]}],\"mesh3d\":[{\"type\":\"mesh3d\",\"colorbar\":{\"outlinewidth\":0,\"ticks\":\"\"}}],\"scatter\":[{\"fillpattern\":{\"fillmode\":\"overlay\",\"size\":10,\"solidity\":0.2},\"type\":\"scatter\"}],\"parcoords\":[{\"type\":\"parcoords\",\"line\":{\"colorbar\":{\"outlinewidth\":0,\"ticks\":\"\"}}}],\"scatterpolargl\":[{\"type\":\"scatterpolargl\",\"marker\":{\"colorbar\":{\"outlinewidth\":0,\"ticks\":\"\"}}}],\"bar\":[{\"error_x\":{\"color\":\"#2a3f5f\"},\"error_y\":{\"color\":\"#2a3f5f\"},\"marker\":{\"line\":{\"color\":\"#E5ECF6\",\"width\":0.5},\"pattern\":{\"fillmode\":\"overlay\",\"size\":10,\"solidity\":0.2}},\"type\":\"bar\"}],\"scattergeo\":[{\"type\":\"scattergeo\",\"marker\":{\"colorbar\":{\"outlinewidth\":0,\"ticks\":\"\"}}}],\"scatterpolar\":[{\"type\":\"scatterpolar\",\"marker\":{\"colorbar\":{\"outlinewidth\":0,\"ticks\":\"\"}}}],\"histogram\":[{\"marker\":{\"pattern\":{\"fillmode\":\"overlay\",\"size\":10,\"solidity\":0.2}},\"type\":\"histogram\"}],\"scattergl\":[{\"type\":\"scattergl\",\"marker\":{\"colorbar\":{\"outlinewidth\":0,\"ticks\":\"\"}}}],\"scatter3d\":[{\"type\":\"scatter3d\",\"line\":{\"colorbar\":{\"outlinewidth\":0,\"ticks\":\"\"}},\"marker\":{\"colorbar\":{\"outlinewidth\":0,\"ticks\":\"\"}}}],\"scattermapbox\":[{\"type\":\"scattermapbox\",\"marker\":{\"colorbar\":{\"outlinewidth\":0,\"ticks\":\"\"}}}],\"scatterternary\":[{\"type\":\"scatterternary\",\"marker\":{\"colorbar\":{\"outlinewidth\":0,\"ticks\":\"\"}}}],\"scattercarpet\":[{\"type\":\"scattercarpet\",\"marker\":{\"colorbar\":{\"outlinewidth\":0,\"ticks\":\"\"}}}],\"carpet\":[{\"aaxis\":{\"endlinecolor\":\"#2a3f5f\",\"gridcolor\":\"white\",\"linecolor\":\"white\",\"minorgridcolor\":\"white\",\"startlinecolor\":\"#2a3f5f\"},\"baxis\":{\"endlinecolor\":\"#2a3f5f\",\"gridcolor\":\"white\",\"linecolor\":\"white\",\"minorgridcolor\":\"white\",\"startlinecolor\":\"#2a3f5f\"},\"type\":\"carpet\"}],\"table\":[{\"cells\":{\"fill\":{\"color\":\"#EBF0F8\"},\"line\":{\"color\":\"white\"}},\"header\":{\"fill\":{\"color\":\"#C8D4E3\"},\"line\":{\"color\":\"white\"}},\"type\":\"table\"}],\"barpolar\":[{\"marker\":{\"line\":{\"color\":\"#E5ECF6\",\"width\":0.5},\"pattern\":{\"fillmode\":\"overlay\",\"size\":10,\"solidity\":0.2}},\"type\":\"barpolar\"}],\"pie\":[{\"automargin\":true,\"type\":\"pie\"}]},\"layout\":{\"autotypenumbers\":\"strict\",\"colorway\":[\"#636efa\",\"#EF553B\",\"#00cc96\",\"#ab63fa\",\"#FFA15A\",\"#19d3f3\",\"#FF6692\",\"#B6E880\",\"#FF97FF\",\"#FECB52\"],\"font\":{\"color\":\"#2a3f5f\"},\"hovermode\":\"closest\",\"hoverlabel\":{\"align\":\"left\"},\"paper_bgcolor\":\"white\",\"plot_bgcolor\":\"#E5ECF6\",\"polar\":{\"bgcolor\":\"#E5ECF6\",\"angularaxis\":{\"gridcolor\":\"white\",\"linecolor\":\"white\",\"ticks\":\"\"},\"radialaxis\":{\"gridcolor\":\"white\",\"linecolor\":\"white\",\"ticks\":\"\"}},\"ternary\":{\"bgcolor\":\"#E5ECF6\",\"aaxis\":{\"gridcolor\":\"white\",\"linecolor\":\"white\",\"ticks\":\"\"},\"baxis\":{\"gridcolor\":\"white\",\"linecolor\":\"white\",\"ticks\":\"\"},\"caxis\":{\"gridcolor\":\"white\",\"linecolor\":\"white\",\"ticks\":\"\"}},\"coloraxis\":{\"colorbar\":{\"outlinewidth\":0,\"ticks\":\"\"}},\"colorscale\":{\"sequential\":[[0.0,\"#0d0887\"],[0.1111111111111111,\"#46039f\"],[0.2222222222222222,\"#7201a8\"],[0.3333333333333333,\"#9c179e\"],[0.4444444444444444,\"#bd3786\"],[0.5555555555555556,\"#d8576b\"],[0.6666666666666666,\"#ed7953\"],[0.7777777777777778,\"#fb9f3a\"],[0.8888888888888888,\"#fdca26\"],[1.0,\"#f0f921\"]],\"sequentialminus\":[[0.0,\"#0d0887\"],[0.1111111111111111,\"#46039f\"],[0.2222222222222222,\"#7201a8\"],[0.3333333333333333,\"#9c179e\"],[0.4444444444444444,\"#bd3786\"],[0.5555555555555556,\"#d8576b\"],[0.6666666666666666,\"#ed7953\"],[0.7777777777777778,\"#fb9f3a\"],[0.8888888888888888,\"#fdca26\"],[1.0,\"#f0f921\"]],\"diverging\":[[0,\"#8e0152\"],[0.1,\"#c51b7d\"],[0.2,\"#de77ae\"],[0.3,\"#f1b6da\"],[0.4,\"#fde0ef\"],[0.5,\"#f7f7f7\"],[0.6,\"#e6f5d0\"],[0.7,\"#b8e186\"],[0.8,\"#7fbc41\"],[0.9,\"#4d9221\"],[1,\"#276419\"]]},\"xaxis\":{\"gridcolor\":\"white\",\"linecolor\":\"white\",\"ticks\":\"\",\"title\":{\"standoff\":15},\"zerolinecolor\":\"white\",\"automargin\":true,\"zerolinewidth\":2},\"yaxis\":{\"gridcolor\":\"white\",\"linecolor\":\"white\",\"ticks\":\"\",\"title\":{\"standoff\":15},\"zerolinecolor\":\"white\",\"automargin\":true,\"zerolinewidth\":2},\"scene\":{\"xaxis\":{\"backgroundcolor\":\"#E5ECF6\",\"gridcolor\":\"white\",\"linecolor\":\"white\",\"showbackground\":true,\"ticks\":\"\",\"zerolinecolor\":\"white\",\"gridwidth\":2},\"yaxis\":{\"backgroundcolor\":\"#E5ECF6\",\"gridcolor\":\"white\",\"linecolor\":\"white\",\"showbackground\":true,\"ticks\":\"\",\"zerolinecolor\":\"white\",\"gridwidth\":2},\"zaxis\":{\"backgroundcolor\":\"#E5ECF6\",\"gridcolor\":\"white\",\"linecolor\":\"white\",\"showbackground\":true,\"ticks\":\"\",\"zerolinecolor\":\"white\",\"gridwidth\":2}},\"shapedefaults\":{\"line\":{\"color\":\"#2a3f5f\"}},\"annotationdefaults\":{\"arrowcolor\":\"#2a3f5f\",\"arrowhead\":0,\"arrowwidth\":1},\"geo\":{\"bgcolor\":\"white\",\"landcolor\":\"#E5ECF6\",\"subunitcolor\":\"white\",\"showland\":true,\"showlakes\":true,\"lakecolor\":\"white\"},\"title\":{\"x\":0.05},\"mapbox\":{\"style\":\"light\"}}},\"xaxis\":{\"anchor\":\"y\",\"domain\":[0.0,1.0],\"title\":{\"text\":\"index\"}},\"yaxis\":{\"anchor\":\"x\",\"domain\":[0.0,1.0],\"title\":{\"text\":\"value\"}},\"legend\":{\"title\":{\"text\":\"variable\"},\"tracegroupgap\":0},\"margin\":{\"t\":60},\"barmode\":\"relative\"},                        {\"responsive\": true}                    ).then(function(){\n",
       "                            \n",
       "var gd = document.getElementById('c8c516ac-9da8-4a3b-abb2-26b61eb9e273');\n",
       "var x = new MutationObserver(function (mutations, observer) {{\n",
       "        var display = window.getComputedStyle(gd).display;\n",
       "        if (!display || display === 'none') {{\n",
       "            console.log([gd, 'removed!']);\n",
       "            Plotly.purge(gd);\n",
       "            observer.disconnect();\n",
       "        }}\n",
       "}});\n",
       "\n",
       "// Listen for the removal of the full notebook cells\n",
       "var notebookContainer = gd.closest('#notebook-container');\n",
       "if (notebookContainer) {{\n",
       "    x.observe(notebookContainer, {childList: true});\n",
       "}}\n",
       "\n",
       "// Listen for the clearing of the current output cell\n",
       "var outputEl = gd.closest('.output');\n",
       "if (outputEl) {{\n",
       "    x.observe(outputEl, {childList: true});\n",
       "}}\n",
       "\n",
       "                        })                };                });            </script>        </div>"
      ]
     },
     "metadata": {},
     "output_type": "display_data"
    }
   ],
   "source": [
    "fig = px.bar(ball_df['BattingTeam'].value_counts())\n",
    "fig.show()"
   ]
  },
  {
   "cell_type": "code",
   "execution_count": 23,
   "metadata": {},
   "outputs": [
    {
     "data": {
      "text/plain": [
       "Index(['ID', 'City', 'Team1', 'Team2', 'Venue', 'WinningTeam', 'target',\n",
       "       'innings', 'overs', 'ballnumber', 'batter', 'bowler', 'non-striker',\n",
       "       'extra_type', 'batsman_run', 'extras_run', 'total_run', 'non_boundary',\n",
       "       'isWicketDelivery', 'player_out', 'kind', 'fielders_involved',\n",
       "       'BattingTeam', 'Overs'],\n",
       "      dtype='object')"
      ]
     },
     "execution_count": 23,
     "metadata": {},
     "output_type": "execute_result"
    }
   ],
   "source": [
    "ball_df.columns"
   ]
  },
  {
   "cell_type": "code",
   "execution_count": 24,
   "metadata": {},
   "outputs": [],
   "source": [
    "ball_df = ball_df[ball_df['innings']==2]"
   ]
  },
  {
   "cell_type": "code",
   "execution_count": 25,
   "metadata": {},
   "outputs": [
    {
     "data": {
      "text/plain": [
       "(102871, 24)"
      ]
     },
     "execution_count": 25,
     "metadata": {},
     "output_type": "execute_result"
    }
   ],
   "source": [
    "ball_df.shape"
   ]
  },
  {
   "cell_type": "code",
   "execution_count": 26,
   "metadata": {},
   "outputs": [
    {
     "data": {
      "text/html": [
       "<div>\n",
       "<style scoped>\n",
       "    .dataframe tbody tr th:only-of-type {\n",
       "        vertical-align: middle;\n",
       "    }\n",
       "\n",
       "    .dataframe tbody tr th {\n",
       "        vertical-align: top;\n",
       "    }\n",
       "\n",
       "    .dataframe thead th {\n",
       "        text-align: right;\n",
       "    }\n",
       "</style>\n",
       "<table border=\"1\" class=\"dataframe\">\n",
       "  <thead>\n",
       "    <tr style=\"text-align: right;\">\n",
       "      <th></th>\n",
       "      <th>ID</th>\n",
       "      <th>City</th>\n",
       "      <th>Team1</th>\n",
       "      <th>Team2</th>\n",
       "      <th>Venue</th>\n",
       "      <th>WinningTeam</th>\n",
       "      <th>target</th>\n",
       "      <th>innings</th>\n",
       "      <th>overs</th>\n",
       "      <th>ballnumber</th>\n",
       "      <th>...</th>\n",
       "      <th>batsman_run</th>\n",
       "      <th>extras_run</th>\n",
       "      <th>total_run</th>\n",
       "      <th>non_boundary</th>\n",
       "      <th>isWicketDelivery</th>\n",
       "      <th>player_out</th>\n",
       "      <th>kind</th>\n",
       "      <th>fielders_involved</th>\n",
       "      <th>BattingTeam</th>\n",
       "      <th>Overs</th>\n",
       "    </tr>\n",
       "  </thead>\n",
       "  <tbody>\n",
       "    <tr>\n",
       "      <th>120</th>\n",
       "      <td>1312200</td>\n",
       "      <td>Ahmedabad</td>\n",
       "      <td>Rajasthan Royals</td>\n",
       "      <td>Gujarat Titans</td>\n",
       "      <td>Narendra Modi Stadium, Ahmedabad</td>\n",
       "      <td>Gujarat Titans</td>\n",
       "      <td>131</td>\n",
       "      <td>2</td>\n",
       "      <td>0</td>\n",
       "      <td>1</td>\n",
       "      <td>...</td>\n",
       "      <td>0</td>\n",
       "      <td>0</td>\n",
       "      <td>0</td>\n",
       "      <td>0</td>\n",
       "      <td>0</td>\n",
       "      <td>NaN</td>\n",
       "      <td>NaN</td>\n",
       "      <td>NaN</td>\n",
       "      <td>Gujarat Titans</td>\n",
       "      <td>0.1</td>\n",
       "    </tr>\n",
       "    <tr>\n",
       "      <th>121</th>\n",
       "      <td>1312200</td>\n",
       "      <td>Ahmedabad</td>\n",
       "      <td>Rajasthan Royals</td>\n",
       "      <td>Gujarat Titans</td>\n",
       "      <td>Narendra Modi Stadium, Ahmedabad</td>\n",
       "      <td>Gujarat Titans</td>\n",
       "      <td>131</td>\n",
       "      <td>2</td>\n",
       "      <td>0</td>\n",
       "      <td>2</td>\n",
       "      <td>...</td>\n",
       "      <td>0</td>\n",
       "      <td>0</td>\n",
       "      <td>0</td>\n",
       "      <td>0</td>\n",
       "      <td>0</td>\n",
       "      <td>NaN</td>\n",
       "      <td>NaN</td>\n",
       "      <td>NaN</td>\n",
       "      <td>Gujarat Titans</td>\n",
       "      <td>0.2</td>\n",
       "    </tr>\n",
       "    <tr>\n",
       "      <th>122</th>\n",
       "      <td>1312200</td>\n",
       "      <td>Ahmedabad</td>\n",
       "      <td>Rajasthan Royals</td>\n",
       "      <td>Gujarat Titans</td>\n",
       "      <td>Narendra Modi Stadium, Ahmedabad</td>\n",
       "      <td>Gujarat Titans</td>\n",
       "      <td>131</td>\n",
       "      <td>2</td>\n",
       "      <td>0</td>\n",
       "      <td>3</td>\n",
       "      <td>...</td>\n",
       "      <td>1</td>\n",
       "      <td>0</td>\n",
       "      <td>1</td>\n",
       "      <td>0</td>\n",
       "      <td>0</td>\n",
       "      <td>NaN</td>\n",
       "      <td>NaN</td>\n",
       "      <td>NaN</td>\n",
       "      <td>Gujarat Titans</td>\n",
       "      <td>0.3</td>\n",
       "    </tr>\n",
       "    <tr>\n",
       "      <th>123</th>\n",
       "      <td>1312200</td>\n",
       "      <td>Ahmedabad</td>\n",
       "      <td>Rajasthan Royals</td>\n",
       "      <td>Gujarat Titans</td>\n",
       "      <td>Narendra Modi Stadium, Ahmedabad</td>\n",
       "      <td>Gujarat Titans</td>\n",
       "      <td>131</td>\n",
       "      <td>2</td>\n",
       "      <td>0</td>\n",
       "      <td>4</td>\n",
       "      <td>...</td>\n",
       "      <td>0</td>\n",
       "      <td>0</td>\n",
       "      <td>0</td>\n",
       "      <td>0</td>\n",
       "      <td>0</td>\n",
       "      <td>NaN</td>\n",
       "      <td>NaN</td>\n",
       "      <td>NaN</td>\n",
       "      <td>Gujarat Titans</td>\n",
       "      <td>0.4</td>\n",
       "    </tr>\n",
       "    <tr>\n",
       "      <th>124</th>\n",
       "      <td>1312200</td>\n",
       "      <td>Ahmedabad</td>\n",
       "      <td>Rajasthan Royals</td>\n",
       "      <td>Gujarat Titans</td>\n",
       "      <td>Narendra Modi Stadium, Ahmedabad</td>\n",
       "      <td>Gujarat Titans</td>\n",
       "      <td>131</td>\n",
       "      <td>2</td>\n",
       "      <td>0</td>\n",
       "      <td>5</td>\n",
       "      <td>...</td>\n",
       "      <td>0</td>\n",
       "      <td>0</td>\n",
       "      <td>0</td>\n",
       "      <td>0</td>\n",
       "      <td>0</td>\n",
       "      <td>NaN</td>\n",
       "      <td>NaN</td>\n",
       "      <td>NaN</td>\n",
       "      <td>Gujarat Titans</td>\n",
       "      <td>0.5</td>\n",
       "    </tr>\n",
       "  </tbody>\n",
       "</table>\n",
       "<p>5 rows × 24 columns</p>\n",
       "</div>"
      ],
      "text/plain": [
       "          ID       City             Team1           Team2  \\\n",
       "120  1312200  Ahmedabad  Rajasthan Royals  Gujarat Titans   \n",
       "121  1312200  Ahmedabad  Rajasthan Royals  Gujarat Titans   \n",
       "122  1312200  Ahmedabad  Rajasthan Royals  Gujarat Titans   \n",
       "123  1312200  Ahmedabad  Rajasthan Royals  Gujarat Titans   \n",
       "124  1312200  Ahmedabad  Rajasthan Royals  Gujarat Titans   \n",
       "\n",
       "                                Venue     WinningTeam  target  innings  overs  \\\n",
       "120  Narendra Modi Stadium, Ahmedabad  Gujarat Titans     131        2      0   \n",
       "121  Narendra Modi Stadium, Ahmedabad  Gujarat Titans     131        2      0   \n",
       "122  Narendra Modi Stadium, Ahmedabad  Gujarat Titans     131        2      0   \n",
       "123  Narendra Modi Stadium, Ahmedabad  Gujarat Titans     131        2      0   \n",
       "124  Narendra Modi Stadium, Ahmedabad  Gujarat Titans     131        2      0   \n",
       "\n",
       "     ballnumber  ... batsman_run extras_run total_run non_boundary  \\\n",
       "120           1  ...           0          0         0            0   \n",
       "121           2  ...           0          0         0            0   \n",
       "122           3  ...           1          0         1            0   \n",
       "123           4  ...           0          0         0            0   \n",
       "124           5  ...           0          0         0            0   \n",
       "\n",
       "     isWicketDelivery  player_out  kind  fielders_involved     BattingTeam  \\\n",
       "120                 0         NaN   NaN                NaN  Gujarat Titans   \n",
       "121                 0         NaN   NaN                NaN  Gujarat Titans   \n",
       "122                 0         NaN   NaN                NaN  Gujarat Titans   \n",
       "123                 0         NaN   NaN                NaN  Gujarat Titans   \n",
       "124                 0         NaN   NaN                NaN  Gujarat Titans   \n",
       "\n",
       "    Overs  \n",
       "120   0.1  \n",
       "121   0.2  \n",
       "122   0.3  \n",
       "123   0.4  \n",
       "124   0.5  \n",
       "\n",
       "[5 rows x 24 columns]"
      ]
     },
     "execution_count": 26,
     "metadata": {},
     "output_type": "execute_result"
    }
   ],
   "source": [
    "ball_df.head()"
   ]
  },
  {
   "attachments": {},
   "cell_type": "markdown",
   "metadata": {},
   "source": [
    "# Create new row current_score after each ball"
   ]
  },
  {
   "cell_type": "code",
   "execution_count": 27,
   "metadata": {},
   "outputs": [],
   "source": [
    "ball_df['current_score'] = ball_df.groupby('ID')['total_run'].cumsum()"
   ]
  },
  {
   "cell_type": "code",
   "execution_count": 28,
   "metadata": {},
   "outputs": [
    {
     "data": {
      "text/html": [
       "<div>\n",
       "<style scoped>\n",
       "    .dataframe tbody tr th:only-of-type {\n",
       "        vertical-align: middle;\n",
       "    }\n",
       "\n",
       "    .dataframe tbody tr th {\n",
       "        vertical-align: top;\n",
       "    }\n",
       "\n",
       "    .dataframe thead th {\n",
       "        text-align: right;\n",
       "    }\n",
       "</style>\n",
       "<table border=\"1\" class=\"dataframe\">\n",
       "  <thead>\n",
       "    <tr style=\"text-align: right;\">\n",
       "      <th></th>\n",
       "      <th>ID</th>\n",
       "      <th>City</th>\n",
       "      <th>Team1</th>\n",
       "      <th>Team2</th>\n",
       "      <th>Venue</th>\n",
       "      <th>WinningTeam</th>\n",
       "      <th>target</th>\n",
       "      <th>innings</th>\n",
       "      <th>overs</th>\n",
       "      <th>ballnumber</th>\n",
       "      <th>...</th>\n",
       "      <th>extras_run</th>\n",
       "      <th>total_run</th>\n",
       "      <th>non_boundary</th>\n",
       "      <th>isWicketDelivery</th>\n",
       "      <th>player_out</th>\n",
       "      <th>kind</th>\n",
       "      <th>fielders_involved</th>\n",
       "      <th>BattingTeam</th>\n",
       "      <th>Overs</th>\n",
       "      <th>current_score</th>\n",
       "    </tr>\n",
       "  </thead>\n",
       "  <tbody>\n",
       "    <tr>\n",
       "      <th>120</th>\n",
       "      <td>1312200</td>\n",
       "      <td>Ahmedabad</td>\n",
       "      <td>Rajasthan Royals</td>\n",
       "      <td>Gujarat Titans</td>\n",
       "      <td>Narendra Modi Stadium, Ahmedabad</td>\n",
       "      <td>Gujarat Titans</td>\n",
       "      <td>131</td>\n",
       "      <td>2</td>\n",
       "      <td>0</td>\n",
       "      <td>1</td>\n",
       "      <td>...</td>\n",
       "      <td>0</td>\n",
       "      <td>0</td>\n",
       "      <td>0</td>\n",
       "      <td>0</td>\n",
       "      <td>NaN</td>\n",
       "      <td>NaN</td>\n",
       "      <td>NaN</td>\n",
       "      <td>Gujarat Titans</td>\n",
       "      <td>0.1</td>\n",
       "      <td>0</td>\n",
       "    </tr>\n",
       "    <tr>\n",
       "      <th>121</th>\n",
       "      <td>1312200</td>\n",
       "      <td>Ahmedabad</td>\n",
       "      <td>Rajasthan Royals</td>\n",
       "      <td>Gujarat Titans</td>\n",
       "      <td>Narendra Modi Stadium, Ahmedabad</td>\n",
       "      <td>Gujarat Titans</td>\n",
       "      <td>131</td>\n",
       "      <td>2</td>\n",
       "      <td>0</td>\n",
       "      <td>2</td>\n",
       "      <td>...</td>\n",
       "      <td>0</td>\n",
       "      <td>0</td>\n",
       "      <td>0</td>\n",
       "      <td>0</td>\n",
       "      <td>NaN</td>\n",
       "      <td>NaN</td>\n",
       "      <td>NaN</td>\n",
       "      <td>Gujarat Titans</td>\n",
       "      <td>0.2</td>\n",
       "      <td>0</td>\n",
       "    </tr>\n",
       "    <tr>\n",
       "      <th>122</th>\n",
       "      <td>1312200</td>\n",
       "      <td>Ahmedabad</td>\n",
       "      <td>Rajasthan Royals</td>\n",
       "      <td>Gujarat Titans</td>\n",
       "      <td>Narendra Modi Stadium, Ahmedabad</td>\n",
       "      <td>Gujarat Titans</td>\n",
       "      <td>131</td>\n",
       "      <td>2</td>\n",
       "      <td>0</td>\n",
       "      <td>3</td>\n",
       "      <td>...</td>\n",
       "      <td>0</td>\n",
       "      <td>1</td>\n",
       "      <td>0</td>\n",
       "      <td>0</td>\n",
       "      <td>NaN</td>\n",
       "      <td>NaN</td>\n",
       "      <td>NaN</td>\n",
       "      <td>Gujarat Titans</td>\n",
       "      <td>0.3</td>\n",
       "      <td>1</td>\n",
       "    </tr>\n",
       "    <tr>\n",
       "      <th>123</th>\n",
       "      <td>1312200</td>\n",
       "      <td>Ahmedabad</td>\n",
       "      <td>Rajasthan Royals</td>\n",
       "      <td>Gujarat Titans</td>\n",
       "      <td>Narendra Modi Stadium, Ahmedabad</td>\n",
       "      <td>Gujarat Titans</td>\n",
       "      <td>131</td>\n",
       "      <td>2</td>\n",
       "      <td>0</td>\n",
       "      <td>4</td>\n",
       "      <td>...</td>\n",
       "      <td>0</td>\n",
       "      <td>0</td>\n",
       "      <td>0</td>\n",
       "      <td>0</td>\n",
       "      <td>NaN</td>\n",
       "      <td>NaN</td>\n",
       "      <td>NaN</td>\n",
       "      <td>Gujarat Titans</td>\n",
       "      <td>0.4</td>\n",
       "      <td>1</td>\n",
       "    </tr>\n",
       "    <tr>\n",
       "      <th>124</th>\n",
       "      <td>1312200</td>\n",
       "      <td>Ahmedabad</td>\n",
       "      <td>Rajasthan Royals</td>\n",
       "      <td>Gujarat Titans</td>\n",
       "      <td>Narendra Modi Stadium, Ahmedabad</td>\n",
       "      <td>Gujarat Titans</td>\n",
       "      <td>131</td>\n",
       "      <td>2</td>\n",
       "      <td>0</td>\n",
       "      <td>5</td>\n",
       "      <td>...</td>\n",
       "      <td>0</td>\n",
       "      <td>0</td>\n",
       "      <td>0</td>\n",
       "      <td>0</td>\n",
       "      <td>NaN</td>\n",
       "      <td>NaN</td>\n",
       "      <td>NaN</td>\n",
       "      <td>Gujarat Titans</td>\n",
       "      <td>0.5</td>\n",
       "      <td>1</td>\n",
       "    </tr>\n",
       "    <tr>\n",
       "      <th>...</th>\n",
       "      <td>...</td>\n",
       "      <td>...</td>\n",
       "      <td>...</td>\n",
       "      <td>...</td>\n",
       "      <td>...</td>\n",
       "      <td>...</td>\n",
       "      <td>...</td>\n",
       "      <td>...</td>\n",
       "      <td>...</td>\n",
       "      <td>...</td>\n",
       "      <td>...</td>\n",
       "      <td>...</td>\n",
       "      <td>...</td>\n",
       "      <td>...</td>\n",
       "      <td>...</td>\n",
       "      <td>...</td>\n",
       "      <td>...</td>\n",
       "      <td>...</td>\n",
       "      <td>...</td>\n",
       "      <td>...</td>\n",
       "      <td>...</td>\n",
       "    </tr>\n",
       "    <tr>\n",
       "      <th>213180</th>\n",
       "      <td>335982</td>\n",
       "      <td>Bangalore</td>\n",
       "      <td>Royal Challengers Bangalore</td>\n",
       "      <td>Kolkata Knight Riders</td>\n",
       "      <td>M Chinnaswamy Stadium</td>\n",
       "      <td>Kolkata Knight Riders</td>\n",
       "      <td>223</td>\n",
       "      <td>2</td>\n",
       "      <td>14</td>\n",
       "      <td>5</td>\n",
       "      <td>...</td>\n",
       "      <td>1</td>\n",
       "      <td>1</td>\n",
       "      <td>0</td>\n",
       "      <td>0</td>\n",
       "      <td>NaN</td>\n",
       "      <td>NaN</td>\n",
       "      <td>NaN</td>\n",
       "      <td>Royal Challengers Bangalore</td>\n",
       "      <td>14.5</td>\n",
       "      <td>80</td>\n",
       "    </tr>\n",
       "    <tr>\n",
       "      <th>213181</th>\n",
       "      <td>335982</td>\n",
       "      <td>Bangalore</td>\n",
       "      <td>Royal Challengers Bangalore</td>\n",
       "      <td>Kolkata Knight Riders</td>\n",
       "      <td>M Chinnaswamy Stadium</td>\n",
       "      <td>Kolkata Knight Riders</td>\n",
       "      <td>223</td>\n",
       "      <td>2</td>\n",
       "      <td>14</td>\n",
       "      <td>6</td>\n",
       "      <td>...</td>\n",
       "      <td>0</td>\n",
       "      <td>1</td>\n",
       "      <td>0</td>\n",
       "      <td>0</td>\n",
       "      <td>NaN</td>\n",
       "      <td>NaN</td>\n",
       "      <td>NaN</td>\n",
       "      <td>Royal Challengers Bangalore</td>\n",
       "      <td>14.6</td>\n",
       "      <td>81</td>\n",
       "    </tr>\n",
       "    <tr>\n",
       "      <th>213182</th>\n",
       "      <td>335982</td>\n",
       "      <td>Bangalore</td>\n",
       "      <td>Royal Challengers Bangalore</td>\n",
       "      <td>Kolkata Knight Riders</td>\n",
       "      <td>M Chinnaswamy Stadium</td>\n",
       "      <td>Kolkata Knight Riders</td>\n",
       "      <td>223</td>\n",
       "      <td>2</td>\n",
       "      <td>14</td>\n",
       "      <td>7</td>\n",
       "      <td>...</td>\n",
       "      <td>0</td>\n",
       "      <td>0</td>\n",
       "      <td>0</td>\n",
       "      <td>0</td>\n",
       "      <td>NaN</td>\n",
       "      <td>NaN</td>\n",
       "      <td>NaN</td>\n",
       "      <td>Royal Challengers Bangalore</td>\n",
       "      <td>14.7</td>\n",
       "      <td>81</td>\n",
       "    </tr>\n",
       "    <tr>\n",
       "      <th>213183</th>\n",
       "      <td>335982</td>\n",
       "      <td>Bangalore</td>\n",
       "      <td>Royal Challengers Bangalore</td>\n",
       "      <td>Kolkata Knight Riders</td>\n",
       "      <td>M Chinnaswamy Stadium</td>\n",
       "      <td>Kolkata Knight Riders</td>\n",
       "      <td>223</td>\n",
       "      <td>2</td>\n",
       "      <td>15</td>\n",
       "      <td>1</td>\n",
       "      <td>...</td>\n",
       "      <td>1</td>\n",
       "      <td>1</td>\n",
       "      <td>0</td>\n",
       "      <td>0</td>\n",
       "      <td>NaN</td>\n",
       "      <td>NaN</td>\n",
       "      <td>NaN</td>\n",
       "      <td>Royal Challengers Bangalore</td>\n",
       "      <td>15.1</td>\n",
       "      <td>82</td>\n",
       "    </tr>\n",
       "    <tr>\n",
       "      <th>213184</th>\n",
       "      <td>335982</td>\n",
       "      <td>Bangalore</td>\n",
       "      <td>Royal Challengers Bangalore</td>\n",
       "      <td>Kolkata Knight Riders</td>\n",
       "      <td>M Chinnaswamy Stadium</td>\n",
       "      <td>Kolkata Knight Riders</td>\n",
       "      <td>223</td>\n",
       "      <td>2</td>\n",
       "      <td>15</td>\n",
       "      <td>2</td>\n",
       "      <td>...</td>\n",
       "      <td>0</td>\n",
       "      <td>0</td>\n",
       "      <td>0</td>\n",
       "      <td>1</td>\n",
       "      <td>SB Joshi</td>\n",
       "      <td>caught</td>\n",
       "      <td>BB McCullum</td>\n",
       "      <td>Royal Challengers Bangalore</td>\n",
       "      <td>15.2</td>\n",
       "      <td>82</td>\n",
       "    </tr>\n",
       "  </tbody>\n",
       "</table>\n",
       "<p>102871 rows × 25 columns</p>\n",
       "</div>"
      ],
      "text/plain": [
       "             ID       City                        Team1  \\\n",
       "120     1312200  Ahmedabad             Rajasthan Royals   \n",
       "121     1312200  Ahmedabad             Rajasthan Royals   \n",
       "122     1312200  Ahmedabad             Rajasthan Royals   \n",
       "123     1312200  Ahmedabad             Rajasthan Royals   \n",
       "124     1312200  Ahmedabad             Rajasthan Royals   \n",
       "...         ...        ...                          ...   \n",
       "213180   335982  Bangalore  Royal Challengers Bangalore   \n",
       "213181   335982  Bangalore  Royal Challengers Bangalore   \n",
       "213182   335982  Bangalore  Royal Challengers Bangalore   \n",
       "213183   335982  Bangalore  Royal Challengers Bangalore   \n",
       "213184   335982  Bangalore  Royal Challengers Bangalore   \n",
       "\n",
       "                        Team2                             Venue  \\\n",
       "120            Gujarat Titans  Narendra Modi Stadium, Ahmedabad   \n",
       "121            Gujarat Titans  Narendra Modi Stadium, Ahmedabad   \n",
       "122            Gujarat Titans  Narendra Modi Stadium, Ahmedabad   \n",
       "123            Gujarat Titans  Narendra Modi Stadium, Ahmedabad   \n",
       "124            Gujarat Titans  Narendra Modi Stadium, Ahmedabad   \n",
       "...                       ...                               ...   \n",
       "213180  Kolkata Knight Riders             M Chinnaswamy Stadium   \n",
       "213181  Kolkata Knight Riders             M Chinnaswamy Stadium   \n",
       "213182  Kolkata Knight Riders             M Chinnaswamy Stadium   \n",
       "213183  Kolkata Knight Riders             M Chinnaswamy Stadium   \n",
       "213184  Kolkata Knight Riders             M Chinnaswamy Stadium   \n",
       "\n",
       "                  WinningTeam  target  innings  overs  ballnumber  ...  \\\n",
       "120            Gujarat Titans     131        2      0           1  ...   \n",
       "121            Gujarat Titans     131        2      0           2  ...   \n",
       "122            Gujarat Titans     131        2      0           3  ...   \n",
       "123            Gujarat Titans     131        2      0           4  ...   \n",
       "124            Gujarat Titans     131        2      0           5  ...   \n",
       "...                       ...     ...      ...    ...         ...  ...   \n",
       "213180  Kolkata Knight Riders     223        2     14           5  ...   \n",
       "213181  Kolkata Knight Riders     223        2     14           6  ...   \n",
       "213182  Kolkata Knight Riders     223        2     14           7  ...   \n",
       "213183  Kolkata Knight Riders     223        2     15           1  ...   \n",
       "213184  Kolkata Knight Riders     223        2     15           2  ...   \n",
       "\n",
       "       extras_run total_run non_boundary isWicketDelivery  player_out    kind  \\\n",
       "120             0         0            0                0         NaN     NaN   \n",
       "121             0         0            0                0         NaN     NaN   \n",
       "122             0         1            0                0         NaN     NaN   \n",
       "123             0         0            0                0         NaN     NaN   \n",
       "124             0         0            0                0         NaN     NaN   \n",
       "...           ...       ...          ...              ...         ...     ...   \n",
       "213180          1         1            0                0         NaN     NaN   \n",
       "213181          0         1            0                0         NaN     NaN   \n",
       "213182          0         0            0                0         NaN     NaN   \n",
       "213183          1         1            0                0         NaN     NaN   \n",
       "213184          0         0            0                1    SB Joshi  caught   \n",
       "\n",
       "        fielders_involved                  BattingTeam  Overs current_score  \n",
       "120                   NaN               Gujarat Titans    0.1             0  \n",
       "121                   NaN               Gujarat Titans    0.2             0  \n",
       "122                   NaN               Gujarat Titans    0.3             1  \n",
       "123                   NaN               Gujarat Titans    0.4             1  \n",
       "124                   NaN               Gujarat Titans    0.5             1  \n",
       "...                   ...                          ...    ...           ...  \n",
       "213180                NaN  Royal Challengers Bangalore   14.5            80  \n",
       "213181                NaN  Royal Challengers Bangalore   14.6            81  \n",
       "213182                NaN  Royal Challengers Bangalore   14.7            81  \n",
       "213183                NaN  Royal Challengers Bangalore   15.1            82  \n",
       "213184        BB McCullum  Royal Challengers Bangalore   15.2            82  \n",
       "\n",
       "[102871 rows x 25 columns]"
      ]
     },
     "execution_count": 28,
     "metadata": {},
     "output_type": "execute_result"
    }
   ],
   "source": [
    "ball_df"
   ]
  },
  {
   "cell_type": "code",
   "execution_count": 29,
   "metadata": {},
   "outputs": [],
   "source": [
    "ball_df['runs_left'] = np.where(ball_df['target']-ball_df['current_score']>=0, ball_df['target']-ball_df['current_score'], 0)"
   ]
  },
  {
   "cell_type": "code",
   "execution_count": 30,
   "metadata": {},
   "outputs": [
    {
     "data": {
      "text/html": [
       "<div>\n",
       "<style scoped>\n",
       "    .dataframe tbody tr th:only-of-type {\n",
       "        vertical-align: middle;\n",
       "    }\n",
       "\n",
       "    .dataframe tbody tr th {\n",
       "        vertical-align: top;\n",
       "    }\n",
       "\n",
       "    .dataframe thead th {\n",
       "        text-align: right;\n",
       "    }\n",
       "</style>\n",
       "<table border=\"1\" class=\"dataframe\">\n",
       "  <thead>\n",
       "    <tr style=\"text-align: right;\">\n",
       "      <th></th>\n",
       "      <th>ID</th>\n",
       "      <th>City</th>\n",
       "      <th>Team1</th>\n",
       "      <th>Team2</th>\n",
       "      <th>Venue</th>\n",
       "      <th>WinningTeam</th>\n",
       "      <th>target</th>\n",
       "      <th>innings</th>\n",
       "      <th>overs</th>\n",
       "      <th>ballnumber</th>\n",
       "      <th>...</th>\n",
       "      <th>total_run</th>\n",
       "      <th>non_boundary</th>\n",
       "      <th>isWicketDelivery</th>\n",
       "      <th>player_out</th>\n",
       "      <th>kind</th>\n",
       "      <th>fielders_involved</th>\n",
       "      <th>BattingTeam</th>\n",
       "      <th>Overs</th>\n",
       "      <th>current_score</th>\n",
       "      <th>runs_left</th>\n",
       "    </tr>\n",
       "  </thead>\n",
       "  <tbody>\n",
       "    <tr>\n",
       "      <th>120</th>\n",
       "      <td>1312200</td>\n",
       "      <td>Ahmedabad</td>\n",
       "      <td>Rajasthan Royals</td>\n",
       "      <td>Gujarat Titans</td>\n",
       "      <td>Narendra Modi Stadium, Ahmedabad</td>\n",
       "      <td>Gujarat Titans</td>\n",
       "      <td>131</td>\n",
       "      <td>2</td>\n",
       "      <td>0</td>\n",
       "      <td>1</td>\n",
       "      <td>...</td>\n",
       "      <td>0</td>\n",
       "      <td>0</td>\n",
       "      <td>0</td>\n",
       "      <td>NaN</td>\n",
       "      <td>NaN</td>\n",
       "      <td>NaN</td>\n",
       "      <td>Gujarat Titans</td>\n",
       "      <td>0.1</td>\n",
       "      <td>0</td>\n",
       "      <td>131</td>\n",
       "    </tr>\n",
       "    <tr>\n",
       "      <th>121</th>\n",
       "      <td>1312200</td>\n",
       "      <td>Ahmedabad</td>\n",
       "      <td>Rajasthan Royals</td>\n",
       "      <td>Gujarat Titans</td>\n",
       "      <td>Narendra Modi Stadium, Ahmedabad</td>\n",
       "      <td>Gujarat Titans</td>\n",
       "      <td>131</td>\n",
       "      <td>2</td>\n",
       "      <td>0</td>\n",
       "      <td>2</td>\n",
       "      <td>...</td>\n",
       "      <td>0</td>\n",
       "      <td>0</td>\n",
       "      <td>0</td>\n",
       "      <td>NaN</td>\n",
       "      <td>NaN</td>\n",
       "      <td>NaN</td>\n",
       "      <td>Gujarat Titans</td>\n",
       "      <td>0.2</td>\n",
       "      <td>0</td>\n",
       "      <td>131</td>\n",
       "    </tr>\n",
       "    <tr>\n",
       "      <th>122</th>\n",
       "      <td>1312200</td>\n",
       "      <td>Ahmedabad</td>\n",
       "      <td>Rajasthan Royals</td>\n",
       "      <td>Gujarat Titans</td>\n",
       "      <td>Narendra Modi Stadium, Ahmedabad</td>\n",
       "      <td>Gujarat Titans</td>\n",
       "      <td>131</td>\n",
       "      <td>2</td>\n",
       "      <td>0</td>\n",
       "      <td>3</td>\n",
       "      <td>...</td>\n",
       "      <td>1</td>\n",
       "      <td>0</td>\n",
       "      <td>0</td>\n",
       "      <td>NaN</td>\n",
       "      <td>NaN</td>\n",
       "      <td>NaN</td>\n",
       "      <td>Gujarat Titans</td>\n",
       "      <td>0.3</td>\n",
       "      <td>1</td>\n",
       "      <td>130</td>\n",
       "    </tr>\n",
       "    <tr>\n",
       "      <th>123</th>\n",
       "      <td>1312200</td>\n",
       "      <td>Ahmedabad</td>\n",
       "      <td>Rajasthan Royals</td>\n",
       "      <td>Gujarat Titans</td>\n",
       "      <td>Narendra Modi Stadium, Ahmedabad</td>\n",
       "      <td>Gujarat Titans</td>\n",
       "      <td>131</td>\n",
       "      <td>2</td>\n",
       "      <td>0</td>\n",
       "      <td>4</td>\n",
       "      <td>...</td>\n",
       "      <td>0</td>\n",
       "      <td>0</td>\n",
       "      <td>0</td>\n",
       "      <td>NaN</td>\n",
       "      <td>NaN</td>\n",
       "      <td>NaN</td>\n",
       "      <td>Gujarat Titans</td>\n",
       "      <td>0.4</td>\n",
       "      <td>1</td>\n",
       "      <td>130</td>\n",
       "    </tr>\n",
       "    <tr>\n",
       "      <th>124</th>\n",
       "      <td>1312200</td>\n",
       "      <td>Ahmedabad</td>\n",
       "      <td>Rajasthan Royals</td>\n",
       "      <td>Gujarat Titans</td>\n",
       "      <td>Narendra Modi Stadium, Ahmedabad</td>\n",
       "      <td>Gujarat Titans</td>\n",
       "      <td>131</td>\n",
       "      <td>2</td>\n",
       "      <td>0</td>\n",
       "      <td>5</td>\n",
       "      <td>...</td>\n",
       "      <td>0</td>\n",
       "      <td>0</td>\n",
       "      <td>0</td>\n",
       "      <td>NaN</td>\n",
       "      <td>NaN</td>\n",
       "      <td>NaN</td>\n",
       "      <td>Gujarat Titans</td>\n",
       "      <td>0.5</td>\n",
       "      <td>1</td>\n",
       "      <td>130</td>\n",
       "    </tr>\n",
       "  </tbody>\n",
       "</table>\n",
       "<p>5 rows × 26 columns</p>\n",
       "</div>"
      ],
      "text/plain": [
       "          ID       City             Team1           Team2  \\\n",
       "120  1312200  Ahmedabad  Rajasthan Royals  Gujarat Titans   \n",
       "121  1312200  Ahmedabad  Rajasthan Royals  Gujarat Titans   \n",
       "122  1312200  Ahmedabad  Rajasthan Royals  Gujarat Titans   \n",
       "123  1312200  Ahmedabad  Rajasthan Royals  Gujarat Titans   \n",
       "124  1312200  Ahmedabad  Rajasthan Royals  Gujarat Titans   \n",
       "\n",
       "                                Venue     WinningTeam  target  innings  overs  \\\n",
       "120  Narendra Modi Stadium, Ahmedabad  Gujarat Titans     131        2      0   \n",
       "121  Narendra Modi Stadium, Ahmedabad  Gujarat Titans     131        2      0   \n",
       "122  Narendra Modi Stadium, Ahmedabad  Gujarat Titans     131        2      0   \n",
       "123  Narendra Modi Stadium, Ahmedabad  Gujarat Titans     131        2      0   \n",
       "124  Narendra Modi Stadium, Ahmedabad  Gujarat Titans     131        2      0   \n",
       "\n",
       "     ballnumber  ... total_run non_boundary isWicketDelivery player_out  kind  \\\n",
       "120           1  ...         0            0                0        NaN   NaN   \n",
       "121           2  ...         0            0                0        NaN   NaN   \n",
       "122           3  ...         1            0                0        NaN   NaN   \n",
       "123           4  ...         0            0                0        NaN   NaN   \n",
       "124           5  ...         0            0                0        NaN   NaN   \n",
       "\n",
       "     fielders_involved     BattingTeam  Overs  current_score runs_left  \n",
       "120                NaN  Gujarat Titans    0.1              0       131  \n",
       "121                NaN  Gujarat Titans    0.2              0       131  \n",
       "122                NaN  Gujarat Titans    0.3              1       130  \n",
       "123                NaN  Gujarat Titans    0.4              1       130  \n",
       "124                NaN  Gujarat Titans    0.5              1       130  \n",
       "\n",
       "[5 rows x 26 columns]"
      ]
     },
     "execution_count": 30,
     "metadata": {},
     "output_type": "execute_result"
    }
   ],
   "source": [
    "ball_df.head()"
   ]
  },
  {
   "cell_type": "code",
   "execution_count": 31,
   "metadata": {},
   "outputs": [],
   "source": [
    "ball_df['ball_left'] = np.where(120 - ball_df['overs']*6 - ball_df['ballnumber']>=0,120 - ball_df['overs']*6 - ball_df['ballnumber'], 0)"
   ]
  },
  {
   "cell_type": "code",
   "execution_count": 32,
   "metadata": {},
   "outputs": [],
   "source": [
    "ball_df['wickets_left'] = 10 - ball_df.groupby('ID')['isWicketDelivery'].cumsum()"
   ]
  },
  {
   "cell_type": "code",
   "execution_count": 33,
   "metadata": {},
   "outputs": [],
   "source": [
    "ball_df['current_run_rate'] = (ball_df['current_score']*6)/(120-ball_df['ball_left'])"
   ]
  },
  {
   "cell_type": "code",
   "execution_count": 34,
   "metadata": {},
   "outputs": [],
   "source": [
    "ball_df['required_run_rate'] = np.where(ball_df['ball_left']>0, ball_df['runs_left']*6/ball_df['ball_left'], 0)"
   ]
  },
  {
   "cell_type": "code",
   "execution_count": 35,
   "metadata": {},
   "outputs": [],
   "source": [
    "def result(row):\n",
    "    return 1 if row['BattingTeam'] == row['WinningTeam'] else 0"
   ]
  },
  {
   "cell_type": "code",
   "execution_count": 36,
   "metadata": {},
   "outputs": [],
   "source": [
    "ball_df['result'] = ball_df.apply(result, axis=1)"
   ]
  },
  {
   "cell_type": "code",
   "execution_count": 37,
   "metadata": {},
   "outputs": [
    {
     "data": {
      "text/html": [
       "<div>\n",
       "<style scoped>\n",
       "    .dataframe tbody tr th:only-of-type {\n",
       "        vertical-align: middle;\n",
       "    }\n",
       "\n",
       "    .dataframe tbody tr th {\n",
       "        vertical-align: top;\n",
       "    }\n",
       "\n",
       "    .dataframe thead th {\n",
       "        text-align: right;\n",
       "    }\n",
       "</style>\n",
       "<table border=\"1\" class=\"dataframe\">\n",
       "  <thead>\n",
       "    <tr style=\"text-align: right;\">\n",
       "      <th></th>\n",
       "      <th>ID</th>\n",
       "      <th>City</th>\n",
       "      <th>Team1</th>\n",
       "      <th>Team2</th>\n",
       "      <th>Venue</th>\n",
       "      <th>WinningTeam</th>\n",
       "      <th>target</th>\n",
       "      <th>innings</th>\n",
       "      <th>overs</th>\n",
       "      <th>ballnumber</th>\n",
       "      <th>...</th>\n",
       "      <th>fielders_involved</th>\n",
       "      <th>BattingTeam</th>\n",
       "      <th>Overs</th>\n",
       "      <th>current_score</th>\n",
       "      <th>runs_left</th>\n",
       "      <th>ball_left</th>\n",
       "      <th>wickets_left</th>\n",
       "      <th>current_run_rate</th>\n",
       "      <th>required_run_rate</th>\n",
       "      <th>result</th>\n",
       "    </tr>\n",
       "  </thead>\n",
       "  <tbody>\n",
       "    <tr>\n",
       "      <th>120</th>\n",
       "      <td>1312200</td>\n",
       "      <td>Ahmedabad</td>\n",
       "      <td>Rajasthan Royals</td>\n",
       "      <td>Gujarat Titans</td>\n",
       "      <td>Narendra Modi Stadium, Ahmedabad</td>\n",
       "      <td>Gujarat Titans</td>\n",
       "      <td>131</td>\n",
       "      <td>2</td>\n",
       "      <td>0</td>\n",
       "      <td>1</td>\n",
       "      <td>...</td>\n",
       "      <td>NaN</td>\n",
       "      <td>Gujarat Titans</td>\n",
       "      <td>0.1</td>\n",
       "      <td>0</td>\n",
       "      <td>131</td>\n",
       "      <td>119</td>\n",
       "      <td>10</td>\n",
       "      <td>0.0</td>\n",
       "      <td>6.605042</td>\n",
       "      <td>1</td>\n",
       "    </tr>\n",
       "    <tr>\n",
       "      <th>121</th>\n",
       "      <td>1312200</td>\n",
       "      <td>Ahmedabad</td>\n",
       "      <td>Rajasthan Royals</td>\n",
       "      <td>Gujarat Titans</td>\n",
       "      <td>Narendra Modi Stadium, Ahmedabad</td>\n",
       "      <td>Gujarat Titans</td>\n",
       "      <td>131</td>\n",
       "      <td>2</td>\n",
       "      <td>0</td>\n",
       "      <td>2</td>\n",
       "      <td>...</td>\n",
       "      <td>NaN</td>\n",
       "      <td>Gujarat Titans</td>\n",
       "      <td>0.2</td>\n",
       "      <td>0</td>\n",
       "      <td>131</td>\n",
       "      <td>118</td>\n",
       "      <td>10</td>\n",
       "      <td>0.0</td>\n",
       "      <td>6.661017</td>\n",
       "      <td>1</td>\n",
       "    </tr>\n",
       "  </tbody>\n",
       "</table>\n",
       "<p>2 rows × 31 columns</p>\n",
       "</div>"
      ],
      "text/plain": [
       "          ID       City             Team1           Team2  \\\n",
       "120  1312200  Ahmedabad  Rajasthan Royals  Gujarat Titans   \n",
       "121  1312200  Ahmedabad  Rajasthan Royals  Gujarat Titans   \n",
       "\n",
       "                                Venue     WinningTeam  target  innings  overs  \\\n",
       "120  Narendra Modi Stadium, Ahmedabad  Gujarat Titans     131        2      0   \n",
       "121  Narendra Modi Stadium, Ahmedabad  Gujarat Titans     131        2      0   \n",
       "\n",
       "     ballnumber  ... fielders_involved     BattingTeam Overs current_score  \\\n",
       "120           1  ...               NaN  Gujarat Titans   0.1             0   \n",
       "121           2  ...               NaN  Gujarat Titans   0.2             0   \n",
       "\n",
       "     runs_left  ball_left  wickets_left  current_run_rate  required_run_rate  \\\n",
       "120        131        119            10               0.0           6.605042   \n",
       "121        131        118            10               0.0           6.661017   \n",
       "\n",
       "    result  \n",
       "120      1  \n",
       "121      1  \n",
       "\n",
       "[2 rows x 31 columns]"
      ]
     },
     "execution_count": 37,
     "metadata": {},
     "output_type": "execute_result"
    }
   ],
   "source": [
    "ball_df.head(2)"
   ]
  },
  {
   "cell_type": "code",
   "execution_count": 38,
   "metadata": {},
   "outputs": [],
   "source": [
    "index1 = ball_df[ball_df['Team2']==ball_df['BattingTeam']]['Team1'].index\n",
    "index2 = ball_df[ball_df['Team1']==ball_df['BattingTeam']]['Team2'].index"
   ]
  },
  {
   "cell_type": "code",
   "execution_count": 39,
   "metadata": {},
   "outputs": [],
   "source": [
    "ball_df.loc[index1, 'BowlingTeam'] = ball_df.loc[index1, 'Team1']\n",
    "ball_df.loc[index2, 'BowlingTeam'] = ball_df.loc[index2, 'Team2']"
   ]
  },
  {
   "cell_type": "code",
   "execution_count": 40,
   "metadata": {},
   "outputs": [
    {
     "data": {
      "text/html": [
       "<div>\n",
       "<style scoped>\n",
       "    .dataframe tbody tr th:only-of-type {\n",
       "        vertical-align: middle;\n",
       "    }\n",
       "\n",
       "    .dataframe tbody tr th {\n",
       "        vertical-align: top;\n",
       "    }\n",
       "\n",
       "    .dataframe thead th {\n",
       "        text-align: right;\n",
       "    }\n",
       "</style>\n",
       "<table border=\"1\" class=\"dataframe\">\n",
       "  <thead>\n",
       "    <tr style=\"text-align: right;\">\n",
       "      <th></th>\n",
       "      <th>ID</th>\n",
       "      <th>City</th>\n",
       "      <th>Team1</th>\n",
       "      <th>Team2</th>\n",
       "      <th>Venue</th>\n",
       "      <th>WinningTeam</th>\n",
       "      <th>target</th>\n",
       "      <th>innings</th>\n",
       "      <th>overs</th>\n",
       "      <th>ballnumber</th>\n",
       "      <th>...</th>\n",
       "      <th>BattingTeam</th>\n",
       "      <th>Overs</th>\n",
       "      <th>current_score</th>\n",
       "      <th>runs_left</th>\n",
       "      <th>ball_left</th>\n",
       "      <th>wickets_left</th>\n",
       "      <th>current_run_rate</th>\n",
       "      <th>required_run_rate</th>\n",
       "      <th>result</th>\n",
       "      <th>BowlingTeam</th>\n",
       "    </tr>\n",
       "  </thead>\n",
       "  <tbody>\n",
       "    <tr>\n",
       "      <th>120</th>\n",
       "      <td>1312200</td>\n",
       "      <td>Ahmedabad</td>\n",
       "      <td>Rajasthan Royals</td>\n",
       "      <td>Gujarat Titans</td>\n",
       "      <td>Narendra Modi Stadium, Ahmedabad</td>\n",
       "      <td>Gujarat Titans</td>\n",
       "      <td>131</td>\n",
       "      <td>2</td>\n",
       "      <td>0</td>\n",
       "      <td>1</td>\n",
       "      <td>...</td>\n",
       "      <td>Gujarat Titans</td>\n",
       "      <td>0.1</td>\n",
       "      <td>0</td>\n",
       "      <td>131</td>\n",
       "      <td>119</td>\n",
       "      <td>10</td>\n",
       "      <td>0.0</td>\n",
       "      <td>6.605042</td>\n",
       "      <td>1</td>\n",
       "      <td>Rajasthan Royals</td>\n",
       "    </tr>\n",
       "    <tr>\n",
       "      <th>121</th>\n",
       "      <td>1312200</td>\n",
       "      <td>Ahmedabad</td>\n",
       "      <td>Rajasthan Royals</td>\n",
       "      <td>Gujarat Titans</td>\n",
       "      <td>Narendra Modi Stadium, Ahmedabad</td>\n",
       "      <td>Gujarat Titans</td>\n",
       "      <td>131</td>\n",
       "      <td>2</td>\n",
       "      <td>0</td>\n",
       "      <td>2</td>\n",
       "      <td>...</td>\n",
       "      <td>Gujarat Titans</td>\n",
       "      <td>0.2</td>\n",
       "      <td>0</td>\n",
       "      <td>131</td>\n",
       "      <td>118</td>\n",
       "      <td>10</td>\n",
       "      <td>0.0</td>\n",
       "      <td>6.661017</td>\n",
       "      <td>1</td>\n",
       "      <td>Rajasthan Royals</td>\n",
       "    </tr>\n",
       "  </tbody>\n",
       "</table>\n",
       "<p>2 rows × 32 columns</p>\n",
       "</div>"
      ],
      "text/plain": [
       "          ID       City             Team1           Team2  \\\n",
       "120  1312200  Ahmedabad  Rajasthan Royals  Gujarat Titans   \n",
       "121  1312200  Ahmedabad  Rajasthan Royals  Gujarat Titans   \n",
       "\n",
       "                                Venue     WinningTeam  target  innings  overs  \\\n",
       "120  Narendra Modi Stadium, Ahmedabad  Gujarat Titans     131        2      0   \n",
       "121  Narendra Modi Stadium, Ahmedabad  Gujarat Titans     131        2      0   \n",
       "\n",
       "     ballnumber  ...     BattingTeam Overs current_score runs_left  ball_left  \\\n",
       "120           1  ...  Gujarat Titans   0.1             0       131        119   \n",
       "121           2  ...  Gujarat Titans   0.2             0       131        118   \n",
       "\n",
       "     wickets_left  current_run_rate  required_run_rate  result  \\\n",
       "120            10               0.0           6.605042       1   \n",
       "121            10               0.0           6.661017       1   \n",
       "\n",
       "          BowlingTeam  \n",
       "120  Rajasthan Royals  \n",
       "121  Rajasthan Royals  \n",
       "\n",
       "[2 rows x 32 columns]"
      ]
     },
     "execution_count": 40,
     "metadata": {},
     "output_type": "execute_result"
    }
   ],
   "source": [
    "ball_df.head(2)"
   ]
  },
  {
   "cell_type": "code",
   "execution_count": 41,
   "metadata": {},
   "outputs": [],
   "source": [
    "current_teams = ['Kolkata Knight Riders', 'Chennai Super Kings', 'Rajasthan Royals',\n",
    "       'Mumbai Indians', 'Kings XI Punjab',\n",
    "       'Royal Challengers Bangalore', 'Delhi Capitals',\n",
    "       'Sunrisers Hyderabad','Lucknow Super Giants','Gujarat Titans']\n",
    "\n",
    "current_venues = ['M Chinnaswamy Stadium','Eden Gardens, Kolkata', 'MA Chidambaram Stadium, Chepauk', \n",
    "       'Wankhede Stadium', 'Sawai Mansingh Stadium','Punjab Cricket Association IS Bindra Stadium',\n",
    "       'Rajiv Gandhi International Stadium, Uppal','Dr DY Patil Sports Academy, Mumbai','Arun Jaitley Stadium','Narendra Modi Stadium, Ahmedabad']\n",
    "ball_df = ball_df[(ball_df['BattingTeam'].isin(current_teams)) &(ball_df['BowlingTeam'].isin(current_teams))]\n",
    "ball_df = ball_df[(ball_df['Venue'].isin(current_venues))]\n",
    "\n",
    "# Removing the first 5 overs data in every match\n",
    "ball_df = ball_df[ball_df['Overs']>=5.0]"
   ]
  },
  {
   "cell_type": "code",
   "execution_count": 42,
   "metadata": {},
   "outputs": [
    {
     "data": {
      "text/html": [
       "<div>\n",
       "<style scoped>\n",
       "    .dataframe tbody tr th:only-of-type {\n",
       "        vertical-align: middle;\n",
       "    }\n",
       "\n",
       "    .dataframe tbody tr th {\n",
       "        vertical-align: top;\n",
       "    }\n",
       "\n",
       "    .dataframe thead th {\n",
       "        text-align: right;\n",
       "    }\n",
       "</style>\n",
       "<table border=\"1\" class=\"dataframe\">\n",
       "  <thead>\n",
       "    <tr style=\"text-align: right;\">\n",
       "      <th></th>\n",
       "      <th>ID</th>\n",
       "      <th>City</th>\n",
       "      <th>Team1</th>\n",
       "      <th>Team2</th>\n",
       "      <th>Venue</th>\n",
       "      <th>WinningTeam</th>\n",
       "      <th>target</th>\n",
       "      <th>innings</th>\n",
       "      <th>overs</th>\n",
       "      <th>ballnumber</th>\n",
       "      <th>...</th>\n",
       "      <th>BattingTeam</th>\n",
       "      <th>Overs</th>\n",
       "      <th>current_score</th>\n",
       "      <th>runs_left</th>\n",
       "      <th>ball_left</th>\n",
       "      <th>wickets_left</th>\n",
       "      <th>current_run_rate</th>\n",
       "      <th>required_run_rate</th>\n",
       "      <th>result</th>\n",
       "      <th>BowlingTeam</th>\n",
       "    </tr>\n",
       "  </thead>\n",
       "  <tbody>\n",
       "    <tr>\n",
       "      <th>153</th>\n",
       "      <td>1312200</td>\n",
       "      <td>Ahmedabad</td>\n",
       "      <td>Rajasthan Royals</td>\n",
       "      <td>Gujarat Titans</td>\n",
       "      <td>Narendra Modi Stadium, Ahmedabad</td>\n",
       "      <td>Gujarat Titans</td>\n",
       "      <td>131</td>\n",
       "      <td>2</td>\n",
       "      <td>5</td>\n",
       "      <td>1</td>\n",
       "      <td>...</td>\n",
       "      <td>Gujarat Titans</td>\n",
       "      <td>5.1</td>\n",
       "      <td>25</td>\n",
       "      <td>106</td>\n",
       "      <td>89</td>\n",
       "      <td>8</td>\n",
       "      <td>4.83871</td>\n",
       "      <td>7.146067</td>\n",
       "      <td>1</td>\n",
       "      <td>Rajasthan Royals</td>\n",
       "    </tr>\n",
       "    <tr>\n",
       "      <th>154</th>\n",
       "      <td>1312200</td>\n",
       "      <td>Ahmedabad</td>\n",
       "      <td>Rajasthan Royals</td>\n",
       "      <td>Gujarat Titans</td>\n",
       "      <td>Narendra Modi Stadium, Ahmedabad</td>\n",
       "      <td>Gujarat Titans</td>\n",
       "      <td>131</td>\n",
       "      <td>2</td>\n",
       "      <td>5</td>\n",
       "      <td>2</td>\n",
       "      <td>...</td>\n",
       "      <td>Gujarat Titans</td>\n",
       "      <td>5.2</td>\n",
       "      <td>25</td>\n",
       "      <td>106</td>\n",
       "      <td>88</td>\n",
       "      <td>8</td>\n",
       "      <td>4.68750</td>\n",
       "      <td>7.227273</td>\n",
       "      <td>1</td>\n",
       "      <td>Rajasthan Royals</td>\n",
       "    </tr>\n",
       "  </tbody>\n",
       "</table>\n",
       "<p>2 rows × 32 columns</p>\n",
       "</div>"
      ],
      "text/plain": [
       "          ID       City             Team1           Team2  \\\n",
       "153  1312200  Ahmedabad  Rajasthan Royals  Gujarat Titans   \n",
       "154  1312200  Ahmedabad  Rajasthan Royals  Gujarat Titans   \n",
       "\n",
       "                                Venue     WinningTeam  target  innings  overs  \\\n",
       "153  Narendra Modi Stadium, Ahmedabad  Gujarat Titans     131        2      5   \n",
       "154  Narendra Modi Stadium, Ahmedabad  Gujarat Titans     131        2      5   \n",
       "\n",
       "     ballnumber  ...     BattingTeam Overs current_score runs_left  ball_left  \\\n",
       "153           1  ...  Gujarat Titans   5.1            25       106         89   \n",
       "154           2  ...  Gujarat Titans   5.2            25       106         88   \n",
       "\n",
       "     wickets_left  current_run_rate  required_run_rate  result  \\\n",
       "153             8           4.83871           7.146067       1   \n",
       "154             8           4.68750           7.227273       1   \n",
       "\n",
       "          BowlingTeam  \n",
       "153  Rajasthan Royals  \n",
       "154  Rajasthan Royals  \n",
       "\n",
       "[2 rows x 32 columns]"
      ]
     },
     "execution_count": 42,
     "metadata": {},
     "output_type": "execute_result"
    }
   ],
   "source": [
    "ball_df.head(2)"
   ]
  },
  {
   "cell_type": "code",
   "execution_count": 43,
   "metadata": {},
   "outputs": [
    {
     "data": {
      "text/plain": [
       "Index(['ID', 'City', 'Team1', 'Team2', 'Venue', 'WinningTeam', 'target',\n",
       "       'innings', 'overs', 'ballnumber', 'batter', 'bowler', 'non-striker',\n",
       "       'extra_type', 'batsman_run', 'extras_run', 'total_run', 'non_boundary',\n",
       "       'isWicketDelivery', 'player_out', 'kind', 'fielders_involved',\n",
       "       'BattingTeam', 'Overs', 'current_score', 'runs_left', 'ball_left',\n",
       "       'wickets_left', 'current_run_rate', 'required_run_rate', 'result',\n",
       "       'BowlingTeam'],\n",
       "      dtype='object')"
      ]
     },
     "execution_count": 43,
     "metadata": {},
     "output_type": "execute_result"
    }
   ],
   "source": [
    "ball_df.columns"
   ]
  },
  {
   "cell_type": "code",
   "execution_count": 44,
   "metadata": {},
   "outputs": [],
   "source": [
    "df = ball_df[['BattingTeam', 'BowlingTeam','Venue','Overs','current_score','wickets_left','current_run_rate','required_run_rate','target']]"
   ]
  },
  {
   "cell_type": "code",
   "execution_count": 45,
   "metadata": {},
   "outputs": [
    {
     "data": {
      "text/html": [
       "<div>\n",
       "<style scoped>\n",
       "    .dataframe tbody tr th:only-of-type {\n",
       "        vertical-align: middle;\n",
       "    }\n",
       "\n",
       "    .dataframe tbody tr th {\n",
       "        vertical-align: top;\n",
       "    }\n",
       "\n",
       "    .dataframe thead th {\n",
       "        text-align: right;\n",
       "    }\n",
       "</style>\n",
       "<table border=\"1\" class=\"dataframe\">\n",
       "  <thead>\n",
       "    <tr style=\"text-align: right;\">\n",
       "      <th></th>\n",
       "      <th>BattingTeam</th>\n",
       "      <th>BowlingTeam</th>\n",
       "      <th>Venue</th>\n",
       "      <th>Overs</th>\n",
       "      <th>current_score</th>\n",
       "      <th>wickets_left</th>\n",
       "      <th>current_run_rate</th>\n",
       "      <th>required_run_rate</th>\n",
       "      <th>target</th>\n",
       "    </tr>\n",
       "  </thead>\n",
       "  <tbody>\n",
       "    <tr>\n",
       "      <th>153</th>\n",
       "      <td>Gujarat Titans</td>\n",
       "      <td>Rajasthan Royals</td>\n",
       "      <td>Narendra Modi Stadium, Ahmedabad</td>\n",
       "      <td>5.1</td>\n",
       "      <td>25</td>\n",
       "      <td>8</td>\n",
       "      <td>4.83871</td>\n",
       "      <td>7.146067</td>\n",
       "      <td>131</td>\n",
       "    </tr>\n",
       "    <tr>\n",
       "      <th>154</th>\n",
       "      <td>Gujarat Titans</td>\n",
       "      <td>Rajasthan Royals</td>\n",
       "      <td>Narendra Modi Stadium, Ahmedabad</td>\n",
       "      <td>5.2</td>\n",
       "      <td>25</td>\n",
       "      <td>8</td>\n",
       "      <td>4.68750</td>\n",
       "      <td>7.227273</td>\n",
       "      <td>131</td>\n",
       "    </tr>\n",
       "  </tbody>\n",
       "</table>\n",
       "</div>"
      ],
      "text/plain": [
       "        BattingTeam       BowlingTeam                             Venue  \\\n",
       "153  Gujarat Titans  Rajasthan Royals  Narendra Modi Stadium, Ahmedabad   \n",
       "154  Gujarat Titans  Rajasthan Royals  Narendra Modi Stadium, Ahmedabad   \n",
       "\n",
       "     Overs  current_score  wickets_left  current_run_rate  required_run_rate  \\\n",
       "153    5.1             25             8           4.83871           7.146067   \n",
       "154    5.2             25             8           4.68750           7.227273   \n",
       "\n",
       "     target  \n",
       "153     131  \n",
       "154     131  "
      ]
     },
     "execution_count": 45,
     "metadata": {},
     "output_type": "execute_result"
    }
   ],
   "source": [
    "df.head(2)"
   ]
  },
  {
   "cell_type": "code",
   "execution_count": 46,
   "metadata": {},
   "outputs": [
    {
     "data": {
      "application/vnd.plotly.v1+json": {
       "config": {
        "plotlyServerURL": "https://plot.ly"
       },
       "data": [
        {
         "alignmentgroup": "True",
         "hovertemplate": "variable=BowlingTeam<br>index=%{x}<br>value=%{y}<extra></extra>",
         "legendgroup": "BowlingTeam",
         "marker": {
          "color": "#636efa",
          "pattern": {
           "shape": ""
          }
         },
         "name": "BowlingTeam",
         "offsetgroup": "BowlingTeam",
         "orientation": "v",
         "showlegend": true,
         "textposition": "auto",
         "type": "bar",
         "x": [
          "Mumbai Indians",
          "Royal Challengers Bangalore",
          "Chennai Super Kings",
          "Rajasthan Royals",
          "Kings XI Punjab",
          "Sunrisers Hyderabad",
          "Kolkata Knight Riders",
          "Delhi Capitals",
          "Gujarat Titans",
          "Lucknow Super Giants"
         ],
         "xaxis": "x",
         "y": [
          3627,
          3369,
          2907,
          2558,
          2298,
          2172,
          1422,
          449,
          275,
          190
         ],
         "yaxis": "y"
        }
       ],
       "layout": {
        "barmode": "relative",
        "legend": {
         "title": {
          "text": "variable"
         },
         "tracegroupgap": 0
        },
        "margin": {
         "t": 60
        },
        "template": {
         "data": {
          "bar": [
           {
            "error_x": {
             "color": "#2a3f5f"
            },
            "error_y": {
             "color": "#2a3f5f"
            },
            "marker": {
             "line": {
              "color": "#E5ECF6",
              "width": 0.5
             },
             "pattern": {
              "fillmode": "overlay",
              "size": 10,
              "solidity": 0.2
             }
            },
            "type": "bar"
           }
          ],
          "barpolar": [
           {
            "marker": {
             "line": {
              "color": "#E5ECF6",
              "width": 0.5
             },
             "pattern": {
              "fillmode": "overlay",
              "size": 10,
              "solidity": 0.2
             }
            },
            "type": "barpolar"
           }
          ],
          "carpet": [
           {
            "aaxis": {
             "endlinecolor": "#2a3f5f",
             "gridcolor": "white",
             "linecolor": "white",
             "minorgridcolor": "white",
             "startlinecolor": "#2a3f5f"
            },
            "baxis": {
             "endlinecolor": "#2a3f5f",
             "gridcolor": "white",
             "linecolor": "white",
             "minorgridcolor": "white",
             "startlinecolor": "#2a3f5f"
            },
            "type": "carpet"
           }
          ],
          "choropleth": [
           {
            "colorbar": {
             "outlinewidth": 0,
             "ticks": ""
            },
            "type": "choropleth"
           }
          ],
          "contour": [
           {
            "colorbar": {
             "outlinewidth": 0,
             "ticks": ""
            },
            "colorscale": [
             [
              0,
              "#0d0887"
             ],
             [
              0.1111111111111111,
              "#46039f"
             ],
             [
              0.2222222222222222,
              "#7201a8"
             ],
             [
              0.3333333333333333,
              "#9c179e"
             ],
             [
              0.4444444444444444,
              "#bd3786"
             ],
             [
              0.5555555555555556,
              "#d8576b"
             ],
             [
              0.6666666666666666,
              "#ed7953"
             ],
             [
              0.7777777777777778,
              "#fb9f3a"
             ],
             [
              0.8888888888888888,
              "#fdca26"
             ],
             [
              1,
              "#f0f921"
             ]
            ],
            "type": "contour"
           }
          ],
          "contourcarpet": [
           {
            "colorbar": {
             "outlinewidth": 0,
             "ticks": ""
            },
            "type": "contourcarpet"
           }
          ],
          "heatmap": [
           {
            "colorbar": {
             "outlinewidth": 0,
             "ticks": ""
            },
            "colorscale": [
             [
              0,
              "#0d0887"
             ],
             [
              0.1111111111111111,
              "#46039f"
             ],
             [
              0.2222222222222222,
              "#7201a8"
             ],
             [
              0.3333333333333333,
              "#9c179e"
             ],
             [
              0.4444444444444444,
              "#bd3786"
             ],
             [
              0.5555555555555556,
              "#d8576b"
             ],
             [
              0.6666666666666666,
              "#ed7953"
             ],
             [
              0.7777777777777778,
              "#fb9f3a"
             ],
             [
              0.8888888888888888,
              "#fdca26"
             ],
             [
              1,
              "#f0f921"
             ]
            ],
            "type": "heatmap"
           }
          ],
          "heatmapgl": [
           {
            "colorbar": {
             "outlinewidth": 0,
             "ticks": ""
            },
            "colorscale": [
             [
              0,
              "#0d0887"
             ],
             [
              0.1111111111111111,
              "#46039f"
             ],
             [
              0.2222222222222222,
              "#7201a8"
             ],
             [
              0.3333333333333333,
              "#9c179e"
             ],
             [
              0.4444444444444444,
              "#bd3786"
             ],
             [
              0.5555555555555556,
              "#d8576b"
             ],
             [
              0.6666666666666666,
              "#ed7953"
             ],
             [
              0.7777777777777778,
              "#fb9f3a"
             ],
             [
              0.8888888888888888,
              "#fdca26"
             ],
             [
              1,
              "#f0f921"
             ]
            ],
            "type": "heatmapgl"
           }
          ],
          "histogram": [
           {
            "marker": {
             "pattern": {
              "fillmode": "overlay",
              "size": 10,
              "solidity": 0.2
             }
            },
            "type": "histogram"
           }
          ],
          "histogram2d": [
           {
            "colorbar": {
             "outlinewidth": 0,
             "ticks": ""
            },
            "colorscale": [
             [
              0,
              "#0d0887"
             ],
             [
              0.1111111111111111,
              "#46039f"
             ],
             [
              0.2222222222222222,
              "#7201a8"
             ],
             [
              0.3333333333333333,
              "#9c179e"
             ],
             [
              0.4444444444444444,
              "#bd3786"
             ],
             [
              0.5555555555555556,
              "#d8576b"
             ],
             [
              0.6666666666666666,
              "#ed7953"
             ],
             [
              0.7777777777777778,
              "#fb9f3a"
             ],
             [
              0.8888888888888888,
              "#fdca26"
             ],
             [
              1,
              "#f0f921"
             ]
            ],
            "type": "histogram2d"
           }
          ],
          "histogram2dcontour": [
           {
            "colorbar": {
             "outlinewidth": 0,
             "ticks": ""
            },
            "colorscale": [
             [
              0,
              "#0d0887"
             ],
             [
              0.1111111111111111,
              "#46039f"
             ],
             [
              0.2222222222222222,
              "#7201a8"
             ],
             [
              0.3333333333333333,
              "#9c179e"
             ],
             [
              0.4444444444444444,
              "#bd3786"
             ],
             [
              0.5555555555555556,
              "#d8576b"
             ],
             [
              0.6666666666666666,
              "#ed7953"
             ],
             [
              0.7777777777777778,
              "#fb9f3a"
             ],
             [
              0.8888888888888888,
              "#fdca26"
             ],
             [
              1,
              "#f0f921"
             ]
            ],
            "type": "histogram2dcontour"
           }
          ],
          "mesh3d": [
           {
            "colorbar": {
             "outlinewidth": 0,
             "ticks": ""
            },
            "type": "mesh3d"
           }
          ],
          "parcoords": [
           {
            "line": {
             "colorbar": {
              "outlinewidth": 0,
              "ticks": ""
             }
            },
            "type": "parcoords"
           }
          ],
          "pie": [
           {
            "automargin": true,
            "type": "pie"
           }
          ],
          "scatter": [
           {
            "fillpattern": {
             "fillmode": "overlay",
             "size": 10,
             "solidity": 0.2
            },
            "type": "scatter"
           }
          ],
          "scatter3d": [
           {
            "line": {
             "colorbar": {
              "outlinewidth": 0,
              "ticks": ""
             }
            },
            "marker": {
             "colorbar": {
              "outlinewidth": 0,
              "ticks": ""
             }
            },
            "type": "scatter3d"
           }
          ],
          "scattercarpet": [
           {
            "marker": {
             "colorbar": {
              "outlinewidth": 0,
              "ticks": ""
             }
            },
            "type": "scattercarpet"
           }
          ],
          "scattergeo": [
           {
            "marker": {
             "colorbar": {
              "outlinewidth": 0,
              "ticks": ""
             }
            },
            "type": "scattergeo"
           }
          ],
          "scattergl": [
           {
            "marker": {
             "colorbar": {
              "outlinewidth": 0,
              "ticks": ""
             }
            },
            "type": "scattergl"
           }
          ],
          "scattermapbox": [
           {
            "marker": {
             "colorbar": {
              "outlinewidth": 0,
              "ticks": ""
             }
            },
            "type": "scattermapbox"
           }
          ],
          "scatterpolar": [
           {
            "marker": {
             "colorbar": {
              "outlinewidth": 0,
              "ticks": ""
             }
            },
            "type": "scatterpolar"
           }
          ],
          "scatterpolargl": [
           {
            "marker": {
             "colorbar": {
              "outlinewidth": 0,
              "ticks": ""
             }
            },
            "type": "scatterpolargl"
           }
          ],
          "scatterternary": [
           {
            "marker": {
             "colorbar": {
              "outlinewidth": 0,
              "ticks": ""
             }
            },
            "type": "scatterternary"
           }
          ],
          "surface": [
           {
            "colorbar": {
             "outlinewidth": 0,
             "ticks": ""
            },
            "colorscale": [
             [
              0,
              "#0d0887"
             ],
             [
              0.1111111111111111,
              "#46039f"
             ],
             [
              0.2222222222222222,
              "#7201a8"
             ],
             [
              0.3333333333333333,
              "#9c179e"
             ],
             [
              0.4444444444444444,
              "#bd3786"
             ],
             [
              0.5555555555555556,
              "#d8576b"
             ],
             [
              0.6666666666666666,
              "#ed7953"
             ],
             [
              0.7777777777777778,
              "#fb9f3a"
             ],
             [
              0.8888888888888888,
              "#fdca26"
             ],
             [
              1,
              "#f0f921"
             ]
            ],
            "type": "surface"
           }
          ],
          "table": [
           {
            "cells": {
             "fill": {
              "color": "#EBF0F8"
             },
             "line": {
              "color": "white"
             }
            },
            "header": {
             "fill": {
              "color": "#C8D4E3"
             },
             "line": {
              "color": "white"
             }
            },
            "type": "table"
           }
          ]
         },
         "layout": {
          "annotationdefaults": {
           "arrowcolor": "#2a3f5f",
           "arrowhead": 0,
           "arrowwidth": 1
          },
          "autotypenumbers": "strict",
          "coloraxis": {
           "colorbar": {
            "outlinewidth": 0,
            "ticks": ""
           }
          },
          "colorscale": {
           "diverging": [
            [
             0,
             "#8e0152"
            ],
            [
             0.1,
             "#c51b7d"
            ],
            [
             0.2,
             "#de77ae"
            ],
            [
             0.3,
             "#f1b6da"
            ],
            [
             0.4,
             "#fde0ef"
            ],
            [
             0.5,
             "#f7f7f7"
            ],
            [
             0.6,
             "#e6f5d0"
            ],
            [
             0.7,
             "#b8e186"
            ],
            [
             0.8,
             "#7fbc41"
            ],
            [
             0.9,
             "#4d9221"
            ],
            [
             1,
             "#276419"
            ]
           ],
           "sequential": [
            [
             0,
             "#0d0887"
            ],
            [
             0.1111111111111111,
             "#46039f"
            ],
            [
             0.2222222222222222,
             "#7201a8"
            ],
            [
             0.3333333333333333,
             "#9c179e"
            ],
            [
             0.4444444444444444,
             "#bd3786"
            ],
            [
             0.5555555555555556,
             "#d8576b"
            ],
            [
             0.6666666666666666,
             "#ed7953"
            ],
            [
             0.7777777777777778,
             "#fb9f3a"
            ],
            [
             0.8888888888888888,
             "#fdca26"
            ],
            [
             1,
             "#f0f921"
            ]
           ],
           "sequentialminus": [
            [
             0,
             "#0d0887"
            ],
            [
             0.1111111111111111,
             "#46039f"
            ],
            [
             0.2222222222222222,
             "#7201a8"
            ],
            [
             0.3333333333333333,
             "#9c179e"
            ],
            [
             0.4444444444444444,
             "#bd3786"
            ],
            [
             0.5555555555555556,
             "#d8576b"
            ],
            [
             0.6666666666666666,
             "#ed7953"
            ],
            [
             0.7777777777777778,
             "#fb9f3a"
            ],
            [
             0.8888888888888888,
             "#fdca26"
            ],
            [
             1,
             "#f0f921"
            ]
           ]
          },
          "colorway": [
           "#636efa",
           "#EF553B",
           "#00cc96",
           "#ab63fa",
           "#FFA15A",
           "#19d3f3",
           "#FF6692",
           "#B6E880",
           "#FF97FF",
           "#FECB52"
          ],
          "font": {
           "color": "#2a3f5f"
          },
          "geo": {
           "bgcolor": "white",
           "lakecolor": "white",
           "landcolor": "#E5ECF6",
           "showlakes": true,
           "showland": true,
           "subunitcolor": "white"
          },
          "hoverlabel": {
           "align": "left"
          },
          "hovermode": "closest",
          "mapbox": {
           "style": "light"
          },
          "paper_bgcolor": "white",
          "plot_bgcolor": "#E5ECF6",
          "polar": {
           "angularaxis": {
            "gridcolor": "white",
            "linecolor": "white",
            "ticks": ""
           },
           "bgcolor": "#E5ECF6",
           "radialaxis": {
            "gridcolor": "white",
            "linecolor": "white",
            "ticks": ""
           }
          },
          "scene": {
           "xaxis": {
            "backgroundcolor": "#E5ECF6",
            "gridcolor": "white",
            "gridwidth": 2,
            "linecolor": "white",
            "showbackground": true,
            "ticks": "",
            "zerolinecolor": "white"
           },
           "yaxis": {
            "backgroundcolor": "#E5ECF6",
            "gridcolor": "white",
            "gridwidth": 2,
            "linecolor": "white",
            "showbackground": true,
            "ticks": "",
            "zerolinecolor": "white"
           },
           "zaxis": {
            "backgroundcolor": "#E5ECF6",
            "gridcolor": "white",
            "gridwidth": 2,
            "linecolor": "white",
            "showbackground": true,
            "ticks": "",
            "zerolinecolor": "white"
           }
          },
          "shapedefaults": {
           "line": {
            "color": "#2a3f5f"
           }
          },
          "ternary": {
           "aaxis": {
            "gridcolor": "white",
            "linecolor": "white",
            "ticks": ""
           },
           "baxis": {
            "gridcolor": "white",
            "linecolor": "white",
            "ticks": ""
           },
           "bgcolor": "#E5ECF6",
           "caxis": {
            "gridcolor": "white",
            "linecolor": "white",
            "ticks": ""
           }
          },
          "title": {
           "x": 0.05
          },
          "xaxis": {
           "automargin": true,
           "gridcolor": "white",
           "linecolor": "white",
           "ticks": "",
           "title": {
            "standoff": 15
           },
           "zerolinecolor": "white",
           "zerolinewidth": 2
          },
          "yaxis": {
           "automargin": true,
           "gridcolor": "white",
           "linecolor": "white",
           "ticks": "",
           "title": {
            "standoff": 15
           },
           "zerolinecolor": "white",
           "zerolinewidth": 2
          }
         }
        },
        "xaxis": {
         "anchor": "y",
         "domain": [
          0,
          1
         ],
         "title": {
          "text": "index"
         }
        },
        "yaxis": {
         "anchor": "x",
         "domain": [
          0,
          1
         ],
         "title": {
          "text": "value"
         }
        }
       }
      },
      "text/html": [
       "<div>                            <div id=\"9fe607dd-ca27-4a52-a980-951f7c48e2ee\" class=\"plotly-graph-div\" style=\"height:525px; width:100%;\"></div>            <script type=\"text/javascript\">                require([\"plotly\"], function(Plotly) {                    window.PLOTLYENV=window.PLOTLYENV || {};                                    if (document.getElementById(\"9fe607dd-ca27-4a52-a980-951f7c48e2ee\")) {                    Plotly.newPlot(                        \"9fe607dd-ca27-4a52-a980-951f7c48e2ee\",                        [{\"alignmentgroup\":\"True\",\"hovertemplate\":\"variable=BowlingTeam<br>index=%{x}<br>value=%{y}<extra></extra>\",\"legendgroup\":\"BowlingTeam\",\"marker\":{\"color\":\"#636efa\",\"pattern\":{\"shape\":\"\"}},\"name\":\"BowlingTeam\",\"offsetgroup\":\"BowlingTeam\",\"orientation\":\"v\",\"showlegend\":true,\"textposition\":\"auto\",\"x\":[\"Mumbai Indians\",\"Royal Challengers Bangalore\",\"Chennai Super Kings\",\"Rajasthan Royals\",\"Kings XI Punjab\",\"Sunrisers Hyderabad\",\"Kolkata Knight Riders\",\"Delhi Capitals\",\"Gujarat Titans\",\"Lucknow Super Giants\"],\"xaxis\":\"x\",\"y\":[3627,3369,2907,2558,2298,2172,1422,449,275,190],\"yaxis\":\"y\",\"type\":\"bar\"}],                        {\"template\":{\"data\":{\"histogram2dcontour\":[{\"type\":\"histogram2dcontour\",\"colorbar\":{\"outlinewidth\":0,\"ticks\":\"\"},\"colorscale\":[[0.0,\"#0d0887\"],[0.1111111111111111,\"#46039f\"],[0.2222222222222222,\"#7201a8\"],[0.3333333333333333,\"#9c179e\"],[0.4444444444444444,\"#bd3786\"],[0.5555555555555556,\"#d8576b\"],[0.6666666666666666,\"#ed7953\"],[0.7777777777777778,\"#fb9f3a\"],[0.8888888888888888,\"#fdca26\"],[1.0,\"#f0f921\"]]}],\"choropleth\":[{\"type\":\"choropleth\",\"colorbar\":{\"outlinewidth\":0,\"ticks\":\"\"}}],\"histogram2d\":[{\"type\":\"histogram2d\",\"colorbar\":{\"outlinewidth\":0,\"ticks\":\"\"},\"colorscale\":[[0.0,\"#0d0887\"],[0.1111111111111111,\"#46039f\"],[0.2222222222222222,\"#7201a8\"],[0.3333333333333333,\"#9c179e\"],[0.4444444444444444,\"#bd3786\"],[0.5555555555555556,\"#d8576b\"],[0.6666666666666666,\"#ed7953\"],[0.7777777777777778,\"#fb9f3a\"],[0.8888888888888888,\"#fdca26\"],[1.0,\"#f0f921\"]]}],\"heatmap\":[{\"type\":\"heatmap\",\"colorbar\":{\"outlinewidth\":0,\"ticks\":\"\"},\"colorscale\":[[0.0,\"#0d0887\"],[0.1111111111111111,\"#46039f\"],[0.2222222222222222,\"#7201a8\"],[0.3333333333333333,\"#9c179e\"],[0.4444444444444444,\"#bd3786\"],[0.5555555555555556,\"#d8576b\"],[0.6666666666666666,\"#ed7953\"],[0.7777777777777778,\"#fb9f3a\"],[0.8888888888888888,\"#fdca26\"],[1.0,\"#f0f921\"]]}],\"heatmapgl\":[{\"type\":\"heatmapgl\",\"colorbar\":{\"outlinewidth\":0,\"ticks\":\"\"},\"colorscale\":[[0.0,\"#0d0887\"],[0.1111111111111111,\"#46039f\"],[0.2222222222222222,\"#7201a8\"],[0.3333333333333333,\"#9c179e\"],[0.4444444444444444,\"#bd3786\"],[0.5555555555555556,\"#d8576b\"],[0.6666666666666666,\"#ed7953\"],[0.7777777777777778,\"#fb9f3a\"],[0.8888888888888888,\"#fdca26\"],[1.0,\"#f0f921\"]]}],\"contourcarpet\":[{\"type\":\"contourcarpet\",\"colorbar\":{\"outlinewidth\":0,\"ticks\":\"\"}}],\"contour\":[{\"type\":\"contour\",\"colorbar\":{\"outlinewidth\":0,\"ticks\":\"\"},\"colorscale\":[[0.0,\"#0d0887\"],[0.1111111111111111,\"#46039f\"],[0.2222222222222222,\"#7201a8\"],[0.3333333333333333,\"#9c179e\"],[0.4444444444444444,\"#bd3786\"],[0.5555555555555556,\"#d8576b\"],[0.6666666666666666,\"#ed7953\"],[0.7777777777777778,\"#fb9f3a\"],[0.8888888888888888,\"#fdca26\"],[1.0,\"#f0f921\"]]}],\"surface\":[{\"type\":\"surface\",\"colorbar\":{\"outlinewidth\":0,\"ticks\":\"\"},\"colorscale\":[[0.0,\"#0d0887\"],[0.1111111111111111,\"#46039f\"],[0.2222222222222222,\"#7201a8\"],[0.3333333333333333,\"#9c179e\"],[0.4444444444444444,\"#bd3786\"],[0.5555555555555556,\"#d8576b\"],[0.6666666666666666,\"#ed7953\"],[0.7777777777777778,\"#fb9f3a\"],[0.8888888888888888,\"#fdca26\"],[1.0,\"#f0f921\"]]}],\"mesh3d\":[{\"type\":\"mesh3d\",\"colorbar\":{\"outlinewidth\":0,\"ticks\":\"\"}}],\"scatter\":[{\"fillpattern\":{\"fillmode\":\"overlay\",\"size\":10,\"solidity\":0.2},\"type\":\"scatter\"}],\"parcoords\":[{\"type\":\"parcoords\",\"line\":{\"colorbar\":{\"outlinewidth\":0,\"ticks\":\"\"}}}],\"scatterpolargl\":[{\"type\":\"scatterpolargl\",\"marker\":{\"colorbar\":{\"outlinewidth\":0,\"ticks\":\"\"}}}],\"bar\":[{\"error_x\":{\"color\":\"#2a3f5f\"},\"error_y\":{\"color\":\"#2a3f5f\"},\"marker\":{\"line\":{\"color\":\"#E5ECF6\",\"width\":0.5},\"pattern\":{\"fillmode\":\"overlay\",\"size\":10,\"solidity\":0.2}},\"type\":\"bar\"}],\"scattergeo\":[{\"type\":\"scattergeo\",\"marker\":{\"colorbar\":{\"outlinewidth\":0,\"ticks\":\"\"}}}],\"scatterpolar\":[{\"type\":\"scatterpolar\",\"marker\":{\"colorbar\":{\"outlinewidth\":0,\"ticks\":\"\"}}}],\"histogram\":[{\"marker\":{\"pattern\":{\"fillmode\":\"overlay\",\"size\":10,\"solidity\":0.2}},\"type\":\"histogram\"}],\"scattergl\":[{\"type\":\"scattergl\",\"marker\":{\"colorbar\":{\"outlinewidth\":0,\"ticks\":\"\"}}}],\"scatter3d\":[{\"type\":\"scatter3d\",\"line\":{\"colorbar\":{\"outlinewidth\":0,\"ticks\":\"\"}},\"marker\":{\"colorbar\":{\"outlinewidth\":0,\"ticks\":\"\"}}}],\"scattermapbox\":[{\"type\":\"scattermapbox\",\"marker\":{\"colorbar\":{\"outlinewidth\":0,\"ticks\":\"\"}}}],\"scatterternary\":[{\"type\":\"scatterternary\",\"marker\":{\"colorbar\":{\"outlinewidth\":0,\"ticks\":\"\"}}}],\"scattercarpet\":[{\"type\":\"scattercarpet\",\"marker\":{\"colorbar\":{\"outlinewidth\":0,\"ticks\":\"\"}}}],\"carpet\":[{\"aaxis\":{\"endlinecolor\":\"#2a3f5f\",\"gridcolor\":\"white\",\"linecolor\":\"white\",\"minorgridcolor\":\"white\",\"startlinecolor\":\"#2a3f5f\"},\"baxis\":{\"endlinecolor\":\"#2a3f5f\",\"gridcolor\":\"white\",\"linecolor\":\"white\",\"minorgridcolor\":\"white\",\"startlinecolor\":\"#2a3f5f\"},\"type\":\"carpet\"}],\"table\":[{\"cells\":{\"fill\":{\"color\":\"#EBF0F8\"},\"line\":{\"color\":\"white\"}},\"header\":{\"fill\":{\"color\":\"#C8D4E3\"},\"line\":{\"color\":\"white\"}},\"type\":\"table\"}],\"barpolar\":[{\"marker\":{\"line\":{\"color\":\"#E5ECF6\",\"width\":0.5},\"pattern\":{\"fillmode\":\"overlay\",\"size\":10,\"solidity\":0.2}},\"type\":\"barpolar\"}],\"pie\":[{\"automargin\":true,\"type\":\"pie\"}]},\"layout\":{\"autotypenumbers\":\"strict\",\"colorway\":[\"#636efa\",\"#EF553B\",\"#00cc96\",\"#ab63fa\",\"#FFA15A\",\"#19d3f3\",\"#FF6692\",\"#B6E880\",\"#FF97FF\",\"#FECB52\"],\"font\":{\"color\":\"#2a3f5f\"},\"hovermode\":\"closest\",\"hoverlabel\":{\"align\":\"left\"},\"paper_bgcolor\":\"white\",\"plot_bgcolor\":\"#E5ECF6\",\"polar\":{\"bgcolor\":\"#E5ECF6\",\"angularaxis\":{\"gridcolor\":\"white\",\"linecolor\":\"white\",\"ticks\":\"\"},\"radialaxis\":{\"gridcolor\":\"white\",\"linecolor\":\"white\",\"ticks\":\"\"}},\"ternary\":{\"bgcolor\":\"#E5ECF6\",\"aaxis\":{\"gridcolor\":\"white\",\"linecolor\":\"white\",\"ticks\":\"\"},\"baxis\":{\"gridcolor\":\"white\",\"linecolor\":\"white\",\"ticks\":\"\"},\"caxis\":{\"gridcolor\":\"white\",\"linecolor\":\"white\",\"ticks\":\"\"}},\"coloraxis\":{\"colorbar\":{\"outlinewidth\":0,\"ticks\":\"\"}},\"colorscale\":{\"sequential\":[[0.0,\"#0d0887\"],[0.1111111111111111,\"#46039f\"],[0.2222222222222222,\"#7201a8\"],[0.3333333333333333,\"#9c179e\"],[0.4444444444444444,\"#bd3786\"],[0.5555555555555556,\"#d8576b\"],[0.6666666666666666,\"#ed7953\"],[0.7777777777777778,\"#fb9f3a\"],[0.8888888888888888,\"#fdca26\"],[1.0,\"#f0f921\"]],\"sequentialminus\":[[0.0,\"#0d0887\"],[0.1111111111111111,\"#46039f\"],[0.2222222222222222,\"#7201a8\"],[0.3333333333333333,\"#9c179e\"],[0.4444444444444444,\"#bd3786\"],[0.5555555555555556,\"#d8576b\"],[0.6666666666666666,\"#ed7953\"],[0.7777777777777778,\"#fb9f3a\"],[0.8888888888888888,\"#fdca26\"],[1.0,\"#f0f921\"]],\"diverging\":[[0,\"#8e0152\"],[0.1,\"#c51b7d\"],[0.2,\"#de77ae\"],[0.3,\"#f1b6da\"],[0.4,\"#fde0ef\"],[0.5,\"#f7f7f7\"],[0.6,\"#e6f5d0\"],[0.7,\"#b8e186\"],[0.8,\"#7fbc41\"],[0.9,\"#4d9221\"],[1,\"#276419\"]]},\"xaxis\":{\"gridcolor\":\"white\",\"linecolor\":\"white\",\"ticks\":\"\",\"title\":{\"standoff\":15},\"zerolinecolor\":\"white\",\"automargin\":true,\"zerolinewidth\":2},\"yaxis\":{\"gridcolor\":\"white\",\"linecolor\":\"white\",\"ticks\":\"\",\"title\":{\"standoff\":15},\"zerolinecolor\":\"white\",\"automargin\":true,\"zerolinewidth\":2},\"scene\":{\"xaxis\":{\"backgroundcolor\":\"#E5ECF6\",\"gridcolor\":\"white\",\"linecolor\":\"white\",\"showbackground\":true,\"ticks\":\"\",\"zerolinecolor\":\"white\",\"gridwidth\":2},\"yaxis\":{\"backgroundcolor\":\"#E5ECF6\",\"gridcolor\":\"white\",\"linecolor\":\"white\",\"showbackground\":true,\"ticks\":\"\",\"zerolinecolor\":\"white\",\"gridwidth\":2},\"zaxis\":{\"backgroundcolor\":\"#E5ECF6\",\"gridcolor\":\"white\",\"linecolor\":\"white\",\"showbackground\":true,\"ticks\":\"\",\"zerolinecolor\":\"white\",\"gridwidth\":2}},\"shapedefaults\":{\"line\":{\"color\":\"#2a3f5f\"}},\"annotationdefaults\":{\"arrowcolor\":\"#2a3f5f\",\"arrowhead\":0,\"arrowwidth\":1},\"geo\":{\"bgcolor\":\"white\",\"landcolor\":\"#E5ECF6\",\"subunitcolor\":\"white\",\"showland\":true,\"showlakes\":true,\"lakecolor\":\"white\"},\"title\":{\"x\":0.05},\"mapbox\":{\"style\":\"light\"}}},\"xaxis\":{\"anchor\":\"y\",\"domain\":[0.0,1.0],\"title\":{\"text\":\"index\"}},\"yaxis\":{\"anchor\":\"x\",\"domain\":[0.0,1.0],\"title\":{\"text\":\"value\"}},\"legend\":{\"title\":{\"text\":\"variable\"},\"tracegroupgap\":0},\"margin\":{\"t\":60},\"barmode\":\"relative\"},                        {\"responsive\": true}                    ).then(function(){\n",
       "                            \n",
       "var gd = document.getElementById('9fe607dd-ca27-4a52-a980-951f7c48e2ee');\n",
       "var x = new MutationObserver(function (mutations, observer) {{\n",
       "        var display = window.getComputedStyle(gd).display;\n",
       "        if (!display || display === 'none') {{\n",
       "            console.log([gd, 'removed!']);\n",
       "            Plotly.purge(gd);\n",
       "            observer.disconnect();\n",
       "        }}\n",
       "}});\n",
       "\n",
       "// Listen for the removal of the full notebook cells\n",
       "var notebookContainer = gd.closest('#notebook-container');\n",
       "if (notebookContainer) {{\n",
       "    x.observe(notebookContainer, {childList: true});\n",
       "}}\n",
       "\n",
       "// Listen for the clearing of the current output cell\n",
       "var outputEl = gd.closest('.output');\n",
       "if (outputEl) {{\n",
       "    x.observe(outputEl, {childList: true});\n",
       "}}\n",
       "\n",
       "                        })                };                });            </script>        </div>"
      ]
     },
     "metadata": {},
     "output_type": "display_data"
    }
   ],
   "source": [
    "fig = px.bar(df['BowlingTeam'].value_counts())\n",
    "fig.show()"
   ]
  },
  {
   "cell_type": "code",
   "execution_count": 47,
   "metadata": {},
   "outputs": [
    {
     "data": {
      "application/vnd.plotly.v1+json": {
       "config": {
        "plotlyServerURL": "https://plot.ly"
       },
       "data": [
        {
         "alignmentgroup": "True",
         "hovertemplate": "variable=BattingTeam<br>index=%{x}<br>value=%{y}<extra></extra>",
         "legendgroup": "BattingTeam",
         "marker": {
          "color": "#636efa",
          "pattern": {
           "shape": ""
          }
         },
         "name": "BattingTeam",
         "offsetgroup": "BattingTeam",
         "orientation": "v",
         "showlegend": true,
         "textposition": "auto",
         "type": "bar",
         "x": [
          "Mumbai Indians",
          "Royal Challengers Bangalore",
          "Chennai Super Kings",
          "Rajasthan Royals",
          "Kolkata Knight Riders",
          "Kings XI Punjab",
          "Sunrisers Hyderabad",
          "Delhi Capitals",
          "Lucknow Super Giants",
          "Gujarat Titans"
         ],
         "xaxis": "x",
         "y": [
          3472,
          3194,
          2996,
          2819,
          2005,
          1811,
          1662,
          848,
          286,
          174
         ],
         "yaxis": "y"
        }
       ],
       "layout": {
        "barmode": "relative",
        "legend": {
         "title": {
          "text": "variable"
         },
         "tracegroupgap": 0
        },
        "margin": {
         "t": 60
        },
        "template": {
         "data": {
          "bar": [
           {
            "error_x": {
             "color": "#2a3f5f"
            },
            "error_y": {
             "color": "#2a3f5f"
            },
            "marker": {
             "line": {
              "color": "#E5ECF6",
              "width": 0.5
             },
             "pattern": {
              "fillmode": "overlay",
              "size": 10,
              "solidity": 0.2
             }
            },
            "type": "bar"
           }
          ],
          "barpolar": [
           {
            "marker": {
             "line": {
              "color": "#E5ECF6",
              "width": 0.5
             },
             "pattern": {
              "fillmode": "overlay",
              "size": 10,
              "solidity": 0.2
             }
            },
            "type": "barpolar"
           }
          ],
          "carpet": [
           {
            "aaxis": {
             "endlinecolor": "#2a3f5f",
             "gridcolor": "white",
             "linecolor": "white",
             "minorgridcolor": "white",
             "startlinecolor": "#2a3f5f"
            },
            "baxis": {
             "endlinecolor": "#2a3f5f",
             "gridcolor": "white",
             "linecolor": "white",
             "minorgridcolor": "white",
             "startlinecolor": "#2a3f5f"
            },
            "type": "carpet"
           }
          ],
          "choropleth": [
           {
            "colorbar": {
             "outlinewidth": 0,
             "ticks": ""
            },
            "type": "choropleth"
           }
          ],
          "contour": [
           {
            "colorbar": {
             "outlinewidth": 0,
             "ticks": ""
            },
            "colorscale": [
             [
              0,
              "#0d0887"
             ],
             [
              0.1111111111111111,
              "#46039f"
             ],
             [
              0.2222222222222222,
              "#7201a8"
             ],
             [
              0.3333333333333333,
              "#9c179e"
             ],
             [
              0.4444444444444444,
              "#bd3786"
             ],
             [
              0.5555555555555556,
              "#d8576b"
             ],
             [
              0.6666666666666666,
              "#ed7953"
             ],
             [
              0.7777777777777778,
              "#fb9f3a"
             ],
             [
              0.8888888888888888,
              "#fdca26"
             ],
             [
              1,
              "#f0f921"
             ]
            ],
            "type": "contour"
           }
          ],
          "contourcarpet": [
           {
            "colorbar": {
             "outlinewidth": 0,
             "ticks": ""
            },
            "type": "contourcarpet"
           }
          ],
          "heatmap": [
           {
            "colorbar": {
             "outlinewidth": 0,
             "ticks": ""
            },
            "colorscale": [
             [
              0,
              "#0d0887"
             ],
             [
              0.1111111111111111,
              "#46039f"
             ],
             [
              0.2222222222222222,
              "#7201a8"
             ],
             [
              0.3333333333333333,
              "#9c179e"
             ],
             [
              0.4444444444444444,
              "#bd3786"
             ],
             [
              0.5555555555555556,
              "#d8576b"
             ],
             [
              0.6666666666666666,
              "#ed7953"
             ],
             [
              0.7777777777777778,
              "#fb9f3a"
             ],
             [
              0.8888888888888888,
              "#fdca26"
             ],
             [
              1,
              "#f0f921"
             ]
            ],
            "type": "heatmap"
           }
          ],
          "heatmapgl": [
           {
            "colorbar": {
             "outlinewidth": 0,
             "ticks": ""
            },
            "colorscale": [
             [
              0,
              "#0d0887"
             ],
             [
              0.1111111111111111,
              "#46039f"
             ],
             [
              0.2222222222222222,
              "#7201a8"
             ],
             [
              0.3333333333333333,
              "#9c179e"
             ],
             [
              0.4444444444444444,
              "#bd3786"
             ],
             [
              0.5555555555555556,
              "#d8576b"
             ],
             [
              0.6666666666666666,
              "#ed7953"
             ],
             [
              0.7777777777777778,
              "#fb9f3a"
             ],
             [
              0.8888888888888888,
              "#fdca26"
             ],
             [
              1,
              "#f0f921"
             ]
            ],
            "type": "heatmapgl"
           }
          ],
          "histogram": [
           {
            "marker": {
             "pattern": {
              "fillmode": "overlay",
              "size": 10,
              "solidity": 0.2
             }
            },
            "type": "histogram"
           }
          ],
          "histogram2d": [
           {
            "colorbar": {
             "outlinewidth": 0,
             "ticks": ""
            },
            "colorscale": [
             [
              0,
              "#0d0887"
             ],
             [
              0.1111111111111111,
              "#46039f"
             ],
             [
              0.2222222222222222,
              "#7201a8"
             ],
             [
              0.3333333333333333,
              "#9c179e"
             ],
             [
              0.4444444444444444,
              "#bd3786"
             ],
             [
              0.5555555555555556,
              "#d8576b"
             ],
             [
              0.6666666666666666,
              "#ed7953"
             ],
             [
              0.7777777777777778,
              "#fb9f3a"
             ],
             [
              0.8888888888888888,
              "#fdca26"
             ],
             [
              1,
              "#f0f921"
             ]
            ],
            "type": "histogram2d"
           }
          ],
          "histogram2dcontour": [
           {
            "colorbar": {
             "outlinewidth": 0,
             "ticks": ""
            },
            "colorscale": [
             [
              0,
              "#0d0887"
             ],
             [
              0.1111111111111111,
              "#46039f"
             ],
             [
              0.2222222222222222,
              "#7201a8"
             ],
             [
              0.3333333333333333,
              "#9c179e"
             ],
             [
              0.4444444444444444,
              "#bd3786"
             ],
             [
              0.5555555555555556,
              "#d8576b"
             ],
             [
              0.6666666666666666,
              "#ed7953"
             ],
             [
              0.7777777777777778,
              "#fb9f3a"
             ],
             [
              0.8888888888888888,
              "#fdca26"
             ],
             [
              1,
              "#f0f921"
             ]
            ],
            "type": "histogram2dcontour"
           }
          ],
          "mesh3d": [
           {
            "colorbar": {
             "outlinewidth": 0,
             "ticks": ""
            },
            "type": "mesh3d"
           }
          ],
          "parcoords": [
           {
            "line": {
             "colorbar": {
              "outlinewidth": 0,
              "ticks": ""
             }
            },
            "type": "parcoords"
           }
          ],
          "pie": [
           {
            "automargin": true,
            "type": "pie"
           }
          ],
          "scatter": [
           {
            "fillpattern": {
             "fillmode": "overlay",
             "size": 10,
             "solidity": 0.2
            },
            "type": "scatter"
           }
          ],
          "scatter3d": [
           {
            "line": {
             "colorbar": {
              "outlinewidth": 0,
              "ticks": ""
             }
            },
            "marker": {
             "colorbar": {
              "outlinewidth": 0,
              "ticks": ""
             }
            },
            "type": "scatter3d"
           }
          ],
          "scattercarpet": [
           {
            "marker": {
             "colorbar": {
              "outlinewidth": 0,
              "ticks": ""
             }
            },
            "type": "scattercarpet"
           }
          ],
          "scattergeo": [
           {
            "marker": {
             "colorbar": {
              "outlinewidth": 0,
              "ticks": ""
             }
            },
            "type": "scattergeo"
           }
          ],
          "scattergl": [
           {
            "marker": {
             "colorbar": {
              "outlinewidth": 0,
              "ticks": ""
             }
            },
            "type": "scattergl"
           }
          ],
          "scattermapbox": [
           {
            "marker": {
             "colorbar": {
              "outlinewidth": 0,
              "ticks": ""
             }
            },
            "type": "scattermapbox"
           }
          ],
          "scatterpolar": [
           {
            "marker": {
             "colorbar": {
              "outlinewidth": 0,
              "ticks": ""
             }
            },
            "type": "scatterpolar"
           }
          ],
          "scatterpolargl": [
           {
            "marker": {
             "colorbar": {
              "outlinewidth": 0,
              "ticks": ""
             }
            },
            "type": "scatterpolargl"
           }
          ],
          "scatterternary": [
           {
            "marker": {
             "colorbar": {
              "outlinewidth": 0,
              "ticks": ""
             }
            },
            "type": "scatterternary"
           }
          ],
          "surface": [
           {
            "colorbar": {
             "outlinewidth": 0,
             "ticks": ""
            },
            "colorscale": [
             [
              0,
              "#0d0887"
             ],
             [
              0.1111111111111111,
              "#46039f"
             ],
             [
              0.2222222222222222,
              "#7201a8"
             ],
             [
              0.3333333333333333,
              "#9c179e"
             ],
             [
              0.4444444444444444,
              "#bd3786"
             ],
             [
              0.5555555555555556,
              "#d8576b"
             ],
             [
              0.6666666666666666,
              "#ed7953"
             ],
             [
              0.7777777777777778,
              "#fb9f3a"
             ],
             [
              0.8888888888888888,
              "#fdca26"
             ],
             [
              1,
              "#f0f921"
             ]
            ],
            "type": "surface"
           }
          ],
          "table": [
           {
            "cells": {
             "fill": {
              "color": "#EBF0F8"
             },
             "line": {
              "color": "white"
             }
            },
            "header": {
             "fill": {
              "color": "#C8D4E3"
             },
             "line": {
              "color": "white"
             }
            },
            "type": "table"
           }
          ]
         },
         "layout": {
          "annotationdefaults": {
           "arrowcolor": "#2a3f5f",
           "arrowhead": 0,
           "arrowwidth": 1
          },
          "autotypenumbers": "strict",
          "coloraxis": {
           "colorbar": {
            "outlinewidth": 0,
            "ticks": ""
           }
          },
          "colorscale": {
           "diverging": [
            [
             0,
             "#8e0152"
            ],
            [
             0.1,
             "#c51b7d"
            ],
            [
             0.2,
             "#de77ae"
            ],
            [
             0.3,
             "#f1b6da"
            ],
            [
             0.4,
             "#fde0ef"
            ],
            [
             0.5,
             "#f7f7f7"
            ],
            [
             0.6,
             "#e6f5d0"
            ],
            [
             0.7,
             "#b8e186"
            ],
            [
             0.8,
             "#7fbc41"
            ],
            [
             0.9,
             "#4d9221"
            ],
            [
             1,
             "#276419"
            ]
           ],
           "sequential": [
            [
             0,
             "#0d0887"
            ],
            [
             0.1111111111111111,
             "#46039f"
            ],
            [
             0.2222222222222222,
             "#7201a8"
            ],
            [
             0.3333333333333333,
             "#9c179e"
            ],
            [
             0.4444444444444444,
             "#bd3786"
            ],
            [
             0.5555555555555556,
             "#d8576b"
            ],
            [
             0.6666666666666666,
             "#ed7953"
            ],
            [
             0.7777777777777778,
             "#fb9f3a"
            ],
            [
             0.8888888888888888,
             "#fdca26"
            ],
            [
             1,
             "#f0f921"
            ]
           ],
           "sequentialminus": [
            [
             0,
             "#0d0887"
            ],
            [
             0.1111111111111111,
             "#46039f"
            ],
            [
             0.2222222222222222,
             "#7201a8"
            ],
            [
             0.3333333333333333,
             "#9c179e"
            ],
            [
             0.4444444444444444,
             "#bd3786"
            ],
            [
             0.5555555555555556,
             "#d8576b"
            ],
            [
             0.6666666666666666,
             "#ed7953"
            ],
            [
             0.7777777777777778,
             "#fb9f3a"
            ],
            [
             0.8888888888888888,
             "#fdca26"
            ],
            [
             1,
             "#f0f921"
            ]
           ]
          },
          "colorway": [
           "#636efa",
           "#EF553B",
           "#00cc96",
           "#ab63fa",
           "#FFA15A",
           "#19d3f3",
           "#FF6692",
           "#B6E880",
           "#FF97FF",
           "#FECB52"
          ],
          "font": {
           "color": "#2a3f5f"
          },
          "geo": {
           "bgcolor": "white",
           "lakecolor": "white",
           "landcolor": "#E5ECF6",
           "showlakes": true,
           "showland": true,
           "subunitcolor": "white"
          },
          "hoverlabel": {
           "align": "left"
          },
          "hovermode": "closest",
          "mapbox": {
           "style": "light"
          },
          "paper_bgcolor": "white",
          "plot_bgcolor": "#E5ECF6",
          "polar": {
           "angularaxis": {
            "gridcolor": "white",
            "linecolor": "white",
            "ticks": ""
           },
           "bgcolor": "#E5ECF6",
           "radialaxis": {
            "gridcolor": "white",
            "linecolor": "white",
            "ticks": ""
           }
          },
          "scene": {
           "xaxis": {
            "backgroundcolor": "#E5ECF6",
            "gridcolor": "white",
            "gridwidth": 2,
            "linecolor": "white",
            "showbackground": true,
            "ticks": "",
            "zerolinecolor": "white"
           },
           "yaxis": {
            "backgroundcolor": "#E5ECF6",
            "gridcolor": "white",
            "gridwidth": 2,
            "linecolor": "white",
            "showbackground": true,
            "ticks": "",
            "zerolinecolor": "white"
           },
           "zaxis": {
            "backgroundcolor": "#E5ECF6",
            "gridcolor": "white",
            "gridwidth": 2,
            "linecolor": "white",
            "showbackground": true,
            "ticks": "",
            "zerolinecolor": "white"
           }
          },
          "shapedefaults": {
           "line": {
            "color": "#2a3f5f"
           }
          },
          "ternary": {
           "aaxis": {
            "gridcolor": "white",
            "linecolor": "white",
            "ticks": ""
           },
           "baxis": {
            "gridcolor": "white",
            "linecolor": "white",
            "ticks": ""
           },
           "bgcolor": "#E5ECF6",
           "caxis": {
            "gridcolor": "white",
            "linecolor": "white",
            "ticks": ""
           }
          },
          "title": {
           "x": 0.05
          },
          "xaxis": {
           "automargin": true,
           "gridcolor": "white",
           "linecolor": "white",
           "ticks": "",
           "title": {
            "standoff": 15
           },
           "zerolinecolor": "white",
           "zerolinewidth": 2
          },
          "yaxis": {
           "automargin": true,
           "gridcolor": "white",
           "linecolor": "white",
           "ticks": "",
           "title": {
            "standoff": 15
           },
           "zerolinecolor": "white",
           "zerolinewidth": 2
          }
         }
        },
        "xaxis": {
         "anchor": "y",
         "domain": [
          0,
          1
         ],
         "title": {
          "text": "index"
         }
        },
        "yaxis": {
         "anchor": "x",
         "domain": [
          0,
          1
         ],
         "title": {
          "text": "value"
         }
        }
       }
      },
      "text/html": [
       "<div>                            <div id=\"10eaa422-c69d-4dbe-9ef6-b2e45a1c4cb3\" class=\"plotly-graph-div\" style=\"height:525px; width:100%;\"></div>            <script type=\"text/javascript\">                require([\"plotly\"], function(Plotly) {                    window.PLOTLYENV=window.PLOTLYENV || {};                                    if (document.getElementById(\"10eaa422-c69d-4dbe-9ef6-b2e45a1c4cb3\")) {                    Plotly.newPlot(                        \"10eaa422-c69d-4dbe-9ef6-b2e45a1c4cb3\",                        [{\"alignmentgroup\":\"True\",\"hovertemplate\":\"variable=BattingTeam<br>index=%{x}<br>value=%{y}<extra></extra>\",\"legendgroup\":\"BattingTeam\",\"marker\":{\"color\":\"#636efa\",\"pattern\":{\"shape\":\"\"}},\"name\":\"BattingTeam\",\"offsetgroup\":\"BattingTeam\",\"orientation\":\"v\",\"showlegend\":true,\"textposition\":\"auto\",\"x\":[\"Mumbai Indians\",\"Royal Challengers Bangalore\",\"Chennai Super Kings\",\"Rajasthan Royals\",\"Kolkata Knight Riders\",\"Kings XI Punjab\",\"Sunrisers Hyderabad\",\"Delhi Capitals\",\"Lucknow Super Giants\",\"Gujarat Titans\"],\"xaxis\":\"x\",\"y\":[3472,3194,2996,2819,2005,1811,1662,848,286,174],\"yaxis\":\"y\",\"type\":\"bar\"}],                        {\"template\":{\"data\":{\"histogram2dcontour\":[{\"type\":\"histogram2dcontour\",\"colorbar\":{\"outlinewidth\":0,\"ticks\":\"\"},\"colorscale\":[[0.0,\"#0d0887\"],[0.1111111111111111,\"#46039f\"],[0.2222222222222222,\"#7201a8\"],[0.3333333333333333,\"#9c179e\"],[0.4444444444444444,\"#bd3786\"],[0.5555555555555556,\"#d8576b\"],[0.6666666666666666,\"#ed7953\"],[0.7777777777777778,\"#fb9f3a\"],[0.8888888888888888,\"#fdca26\"],[1.0,\"#f0f921\"]]}],\"choropleth\":[{\"type\":\"choropleth\",\"colorbar\":{\"outlinewidth\":0,\"ticks\":\"\"}}],\"histogram2d\":[{\"type\":\"histogram2d\",\"colorbar\":{\"outlinewidth\":0,\"ticks\":\"\"},\"colorscale\":[[0.0,\"#0d0887\"],[0.1111111111111111,\"#46039f\"],[0.2222222222222222,\"#7201a8\"],[0.3333333333333333,\"#9c179e\"],[0.4444444444444444,\"#bd3786\"],[0.5555555555555556,\"#d8576b\"],[0.6666666666666666,\"#ed7953\"],[0.7777777777777778,\"#fb9f3a\"],[0.8888888888888888,\"#fdca26\"],[1.0,\"#f0f921\"]]}],\"heatmap\":[{\"type\":\"heatmap\",\"colorbar\":{\"outlinewidth\":0,\"ticks\":\"\"},\"colorscale\":[[0.0,\"#0d0887\"],[0.1111111111111111,\"#46039f\"],[0.2222222222222222,\"#7201a8\"],[0.3333333333333333,\"#9c179e\"],[0.4444444444444444,\"#bd3786\"],[0.5555555555555556,\"#d8576b\"],[0.6666666666666666,\"#ed7953\"],[0.7777777777777778,\"#fb9f3a\"],[0.8888888888888888,\"#fdca26\"],[1.0,\"#f0f921\"]]}],\"heatmapgl\":[{\"type\":\"heatmapgl\",\"colorbar\":{\"outlinewidth\":0,\"ticks\":\"\"},\"colorscale\":[[0.0,\"#0d0887\"],[0.1111111111111111,\"#46039f\"],[0.2222222222222222,\"#7201a8\"],[0.3333333333333333,\"#9c179e\"],[0.4444444444444444,\"#bd3786\"],[0.5555555555555556,\"#d8576b\"],[0.6666666666666666,\"#ed7953\"],[0.7777777777777778,\"#fb9f3a\"],[0.8888888888888888,\"#fdca26\"],[1.0,\"#f0f921\"]]}],\"contourcarpet\":[{\"type\":\"contourcarpet\",\"colorbar\":{\"outlinewidth\":0,\"ticks\":\"\"}}],\"contour\":[{\"type\":\"contour\",\"colorbar\":{\"outlinewidth\":0,\"ticks\":\"\"},\"colorscale\":[[0.0,\"#0d0887\"],[0.1111111111111111,\"#46039f\"],[0.2222222222222222,\"#7201a8\"],[0.3333333333333333,\"#9c179e\"],[0.4444444444444444,\"#bd3786\"],[0.5555555555555556,\"#d8576b\"],[0.6666666666666666,\"#ed7953\"],[0.7777777777777778,\"#fb9f3a\"],[0.8888888888888888,\"#fdca26\"],[1.0,\"#f0f921\"]]}],\"surface\":[{\"type\":\"surface\",\"colorbar\":{\"outlinewidth\":0,\"ticks\":\"\"},\"colorscale\":[[0.0,\"#0d0887\"],[0.1111111111111111,\"#46039f\"],[0.2222222222222222,\"#7201a8\"],[0.3333333333333333,\"#9c179e\"],[0.4444444444444444,\"#bd3786\"],[0.5555555555555556,\"#d8576b\"],[0.6666666666666666,\"#ed7953\"],[0.7777777777777778,\"#fb9f3a\"],[0.8888888888888888,\"#fdca26\"],[1.0,\"#f0f921\"]]}],\"mesh3d\":[{\"type\":\"mesh3d\",\"colorbar\":{\"outlinewidth\":0,\"ticks\":\"\"}}],\"scatter\":[{\"fillpattern\":{\"fillmode\":\"overlay\",\"size\":10,\"solidity\":0.2},\"type\":\"scatter\"}],\"parcoords\":[{\"type\":\"parcoords\",\"line\":{\"colorbar\":{\"outlinewidth\":0,\"ticks\":\"\"}}}],\"scatterpolargl\":[{\"type\":\"scatterpolargl\",\"marker\":{\"colorbar\":{\"outlinewidth\":0,\"ticks\":\"\"}}}],\"bar\":[{\"error_x\":{\"color\":\"#2a3f5f\"},\"error_y\":{\"color\":\"#2a3f5f\"},\"marker\":{\"line\":{\"color\":\"#E5ECF6\",\"width\":0.5},\"pattern\":{\"fillmode\":\"overlay\",\"size\":10,\"solidity\":0.2}},\"type\":\"bar\"}],\"scattergeo\":[{\"type\":\"scattergeo\",\"marker\":{\"colorbar\":{\"outlinewidth\":0,\"ticks\":\"\"}}}],\"scatterpolar\":[{\"type\":\"scatterpolar\",\"marker\":{\"colorbar\":{\"outlinewidth\":0,\"ticks\":\"\"}}}],\"histogram\":[{\"marker\":{\"pattern\":{\"fillmode\":\"overlay\",\"size\":10,\"solidity\":0.2}},\"type\":\"histogram\"}],\"scattergl\":[{\"type\":\"scattergl\",\"marker\":{\"colorbar\":{\"outlinewidth\":0,\"ticks\":\"\"}}}],\"scatter3d\":[{\"type\":\"scatter3d\",\"line\":{\"colorbar\":{\"outlinewidth\":0,\"ticks\":\"\"}},\"marker\":{\"colorbar\":{\"outlinewidth\":0,\"ticks\":\"\"}}}],\"scattermapbox\":[{\"type\":\"scattermapbox\",\"marker\":{\"colorbar\":{\"outlinewidth\":0,\"ticks\":\"\"}}}],\"scatterternary\":[{\"type\":\"scatterternary\",\"marker\":{\"colorbar\":{\"outlinewidth\":0,\"ticks\":\"\"}}}],\"scattercarpet\":[{\"type\":\"scattercarpet\",\"marker\":{\"colorbar\":{\"outlinewidth\":0,\"ticks\":\"\"}}}],\"carpet\":[{\"aaxis\":{\"endlinecolor\":\"#2a3f5f\",\"gridcolor\":\"white\",\"linecolor\":\"white\",\"minorgridcolor\":\"white\",\"startlinecolor\":\"#2a3f5f\"},\"baxis\":{\"endlinecolor\":\"#2a3f5f\",\"gridcolor\":\"white\",\"linecolor\":\"white\",\"minorgridcolor\":\"white\",\"startlinecolor\":\"#2a3f5f\"},\"type\":\"carpet\"}],\"table\":[{\"cells\":{\"fill\":{\"color\":\"#EBF0F8\"},\"line\":{\"color\":\"white\"}},\"header\":{\"fill\":{\"color\":\"#C8D4E3\"},\"line\":{\"color\":\"white\"}},\"type\":\"table\"}],\"barpolar\":[{\"marker\":{\"line\":{\"color\":\"#E5ECF6\",\"width\":0.5},\"pattern\":{\"fillmode\":\"overlay\",\"size\":10,\"solidity\":0.2}},\"type\":\"barpolar\"}],\"pie\":[{\"automargin\":true,\"type\":\"pie\"}]},\"layout\":{\"autotypenumbers\":\"strict\",\"colorway\":[\"#636efa\",\"#EF553B\",\"#00cc96\",\"#ab63fa\",\"#FFA15A\",\"#19d3f3\",\"#FF6692\",\"#B6E880\",\"#FF97FF\",\"#FECB52\"],\"font\":{\"color\":\"#2a3f5f\"},\"hovermode\":\"closest\",\"hoverlabel\":{\"align\":\"left\"},\"paper_bgcolor\":\"white\",\"plot_bgcolor\":\"#E5ECF6\",\"polar\":{\"bgcolor\":\"#E5ECF6\",\"angularaxis\":{\"gridcolor\":\"white\",\"linecolor\":\"white\",\"ticks\":\"\"},\"radialaxis\":{\"gridcolor\":\"white\",\"linecolor\":\"white\",\"ticks\":\"\"}},\"ternary\":{\"bgcolor\":\"#E5ECF6\",\"aaxis\":{\"gridcolor\":\"white\",\"linecolor\":\"white\",\"ticks\":\"\"},\"baxis\":{\"gridcolor\":\"white\",\"linecolor\":\"white\",\"ticks\":\"\"},\"caxis\":{\"gridcolor\":\"white\",\"linecolor\":\"white\",\"ticks\":\"\"}},\"coloraxis\":{\"colorbar\":{\"outlinewidth\":0,\"ticks\":\"\"}},\"colorscale\":{\"sequential\":[[0.0,\"#0d0887\"],[0.1111111111111111,\"#46039f\"],[0.2222222222222222,\"#7201a8\"],[0.3333333333333333,\"#9c179e\"],[0.4444444444444444,\"#bd3786\"],[0.5555555555555556,\"#d8576b\"],[0.6666666666666666,\"#ed7953\"],[0.7777777777777778,\"#fb9f3a\"],[0.8888888888888888,\"#fdca26\"],[1.0,\"#f0f921\"]],\"sequentialminus\":[[0.0,\"#0d0887\"],[0.1111111111111111,\"#46039f\"],[0.2222222222222222,\"#7201a8\"],[0.3333333333333333,\"#9c179e\"],[0.4444444444444444,\"#bd3786\"],[0.5555555555555556,\"#d8576b\"],[0.6666666666666666,\"#ed7953\"],[0.7777777777777778,\"#fb9f3a\"],[0.8888888888888888,\"#fdca26\"],[1.0,\"#f0f921\"]],\"diverging\":[[0,\"#8e0152\"],[0.1,\"#c51b7d\"],[0.2,\"#de77ae\"],[0.3,\"#f1b6da\"],[0.4,\"#fde0ef\"],[0.5,\"#f7f7f7\"],[0.6,\"#e6f5d0\"],[0.7,\"#b8e186\"],[0.8,\"#7fbc41\"],[0.9,\"#4d9221\"],[1,\"#276419\"]]},\"xaxis\":{\"gridcolor\":\"white\",\"linecolor\":\"white\",\"ticks\":\"\",\"title\":{\"standoff\":15},\"zerolinecolor\":\"white\",\"automargin\":true,\"zerolinewidth\":2},\"yaxis\":{\"gridcolor\":\"white\",\"linecolor\":\"white\",\"ticks\":\"\",\"title\":{\"standoff\":15},\"zerolinecolor\":\"white\",\"automargin\":true,\"zerolinewidth\":2},\"scene\":{\"xaxis\":{\"backgroundcolor\":\"#E5ECF6\",\"gridcolor\":\"white\",\"linecolor\":\"white\",\"showbackground\":true,\"ticks\":\"\",\"zerolinecolor\":\"white\",\"gridwidth\":2},\"yaxis\":{\"backgroundcolor\":\"#E5ECF6\",\"gridcolor\":\"white\",\"linecolor\":\"white\",\"showbackground\":true,\"ticks\":\"\",\"zerolinecolor\":\"white\",\"gridwidth\":2},\"zaxis\":{\"backgroundcolor\":\"#E5ECF6\",\"gridcolor\":\"white\",\"linecolor\":\"white\",\"showbackground\":true,\"ticks\":\"\",\"zerolinecolor\":\"white\",\"gridwidth\":2}},\"shapedefaults\":{\"line\":{\"color\":\"#2a3f5f\"}},\"annotationdefaults\":{\"arrowcolor\":\"#2a3f5f\",\"arrowhead\":0,\"arrowwidth\":1},\"geo\":{\"bgcolor\":\"white\",\"landcolor\":\"#E5ECF6\",\"subunitcolor\":\"white\",\"showland\":true,\"showlakes\":true,\"lakecolor\":\"white\"},\"title\":{\"x\":0.05},\"mapbox\":{\"style\":\"light\"}}},\"xaxis\":{\"anchor\":\"y\",\"domain\":[0.0,1.0],\"title\":{\"text\":\"index\"}},\"yaxis\":{\"anchor\":\"x\",\"domain\":[0.0,1.0],\"title\":{\"text\":\"value\"}},\"legend\":{\"title\":{\"text\":\"variable\"},\"tracegroupgap\":0},\"margin\":{\"t\":60},\"barmode\":\"relative\"},                        {\"responsive\": true}                    ).then(function(){\n",
       "                            \n",
       "var gd = document.getElementById('10eaa422-c69d-4dbe-9ef6-b2e45a1c4cb3');\n",
       "var x = new MutationObserver(function (mutations, observer) {{\n",
       "        var display = window.getComputedStyle(gd).display;\n",
       "        if (!display || display === 'none') {{\n",
       "            console.log([gd, 'removed!']);\n",
       "            Plotly.purge(gd);\n",
       "            observer.disconnect();\n",
       "        }}\n",
       "}});\n",
       "\n",
       "// Listen for the removal of the full notebook cells\n",
       "var notebookContainer = gd.closest('#notebook-container');\n",
       "if (notebookContainer) {{\n",
       "    x.observe(notebookContainer, {childList: true});\n",
       "}}\n",
       "\n",
       "// Listen for the clearing of the current output cell\n",
       "var outputEl = gd.closest('.output');\n",
       "if (outputEl) {{\n",
       "    x.observe(outputEl, {childList: true});\n",
       "}}\n",
       "\n",
       "                        })                };                });            </script>        </div>"
      ]
     },
     "metadata": {},
     "output_type": "display_data"
    }
   ],
   "source": [
    "fig = px.bar(df['BattingTeam'].value_counts())\n",
    "fig.show()"
   ]
  },
  {
   "cell_type": "code",
   "execution_count": 48,
   "metadata": {},
   "outputs": [
    {
     "data": {
      "application/vnd.plotly.v1+json": {
       "config": {
        "plotlyServerURL": "https://plot.ly"
       },
       "data": [
        {
         "alignmentgroup": "True",
         "hovertemplate": "variable=Venue<br>index=%{x}<br>value=%{y}<extra></extra>",
         "legendgroup": "Venue",
         "marker": {
          "color": "#636efa",
          "pattern": {
           "shape": ""
          }
         },
         "name": "Venue",
         "offsetgroup": "Venue",
         "orientation": "v",
         "showlegend": true,
         "textposition": "auto",
         "type": "bar",
         "x": [
          "Wankhede Stadium",
          "M Chinnaswamy Stadium",
          "Sawai Mansingh Stadium",
          "MA Chidambaram Stadium, Chepauk",
          "Rajiv Gandhi International Stadium, Uppal",
          "Dr DY Patil Sports Academy, Mumbai",
          "Punjab Cricket Association IS Bindra Stadium",
          "Arun Jaitley Stadium",
          "Narendra Modi Stadium, Ahmedabad",
          "Eden Gardens, Kolkata"
         ],
         "xaxis": "x",
         "y": [
          4591,
          3485,
          3036,
          2965,
          1811,
          1441,
          807,
          615,
          323,
          193
         ],
         "yaxis": "y"
        }
       ],
       "layout": {
        "barmode": "relative",
        "legend": {
         "title": {
          "text": "variable"
         },
         "tracegroupgap": 0
        },
        "margin": {
         "t": 60
        },
        "template": {
         "data": {
          "bar": [
           {
            "error_x": {
             "color": "#2a3f5f"
            },
            "error_y": {
             "color": "#2a3f5f"
            },
            "marker": {
             "line": {
              "color": "#E5ECF6",
              "width": 0.5
             },
             "pattern": {
              "fillmode": "overlay",
              "size": 10,
              "solidity": 0.2
             }
            },
            "type": "bar"
           }
          ],
          "barpolar": [
           {
            "marker": {
             "line": {
              "color": "#E5ECF6",
              "width": 0.5
             },
             "pattern": {
              "fillmode": "overlay",
              "size": 10,
              "solidity": 0.2
             }
            },
            "type": "barpolar"
           }
          ],
          "carpet": [
           {
            "aaxis": {
             "endlinecolor": "#2a3f5f",
             "gridcolor": "white",
             "linecolor": "white",
             "minorgridcolor": "white",
             "startlinecolor": "#2a3f5f"
            },
            "baxis": {
             "endlinecolor": "#2a3f5f",
             "gridcolor": "white",
             "linecolor": "white",
             "minorgridcolor": "white",
             "startlinecolor": "#2a3f5f"
            },
            "type": "carpet"
           }
          ],
          "choropleth": [
           {
            "colorbar": {
             "outlinewidth": 0,
             "ticks": ""
            },
            "type": "choropleth"
           }
          ],
          "contour": [
           {
            "colorbar": {
             "outlinewidth": 0,
             "ticks": ""
            },
            "colorscale": [
             [
              0,
              "#0d0887"
             ],
             [
              0.1111111111111111,
              "#46039f"
             ],
             [
              0.2222222222222222,
              "#7201a8"
             ],
             [
              0.3333333333333333,
              "#9c179e"
             ],
             [
              0.4444444444444444,
              "#bd3786"
             ],
             [
              0.5555555555555556,
              "#d8576b"
             ],
             [
              0.6666666666666666,
              "#ed7953"
             ],
             [
              0.7777777777777778,
              "#fb9f3a"
             ],
             [
              0.8888888888888888,
              "#fdca26"
             ],
             [
              1,
              "#f0f921"
             ]
            ],
            "type": "contour"
           }
          ],
          "contourcarpet": [
           {
            "colorbar": {
             "outlinewidth": 0,
             "ticks": ""
            },
            "type": "contourcarpet"
           }
          ],
          "heatmap": [
           {
            "colorbar": {
             "outlinewidth": 0,
             "ticks": ""
            },
            "colorscale": [
             [
              0,
              "#0d0887"
             ],
             [
              0.1111111111111111,
              "#46039f"
             ],
             [
              0.2222222222222222,
              "#7201a8"
             ],
             [
              0.3333333333333333,
              "#9c179e"
             ],
             [
              0.4444444444444444,
              "#bd3786"
             ],
             [
              0.5555555555555556,
              "#d8576b"
             ],
             [
              0.6666666666666666,
              "#ed7953"
             ],
             [
              0.7777777777777778,
              "#fb9f3a"
             ],
             [
              0.8888888888888888,
              "#fdca26"
             ],
             [
              1,
              "#f0f921"
             ]
            ],
            "type": "heatmap"
           }
          ],
          "heatmapgl": [
           {
            "colorbar": {
             "outlinewidth": 0,
             "ticks": ""
            },
            "colorscale": [
             [
              0,
              "#0d0887"
             ],
             [
              0.1111111111111111,
              "#46039f"
             ],
             [
              0.2222222222222222,
              "#7201a8"
             ],
             [
              0.3333333333333333,
              "#9c179e"
             ],
             [
              0.4444444444444444,
              "#bd3786"
             ],
             [
              0.5555555555555556,
              "#d8576b"
             ],
             [
              0.6666666666666666,
              "#ed7953"
             ],
             [
              0.7777777777777778,
              "#fb9f3a"
             ],
             [
              0.8888888888888888,
              "#fdca26"
             ],
             [
              1,
              "#f0f921"
             ]
            ],
            "type": "heatmapgl"
           }
          ],
          "histogram": [
           {
            "marker": {
             "pattern": {
              "fillmode": "overlay",
              "size": 10,
              "solidity": 0.2
             }
            },
            "type": "histogram"
           }
          ],
          "histogram2d": [
           {
            "colorbar": {
             "outlinewidth": 0,
             "ticks": ""
            },
            "colorscale": [
             [
              0,
              "#0d0887"
             ],
             [
              0.1111111111111111,
              "#46039f"
             ],
             [
              0.2222222222222222,
              "#7201a8"
             ],
             [
              0.3333333333333333,
              "#9c179e"
             ],
             [
              0.4444444444444444,
              "#bd3786"
             ],
             [
              0.5555555555555556,
              "#d8576b"
             ],
             [
              0.6666666666666666,
              "#ed7953"
             ],
             [
              0.7777777777777778,
              "#fb9f3a"
             ],
             [
              0.8888888888888888,
              "#fdca26"
             ],
             [
              1,
              "#f0f921"
             ]
            ],
            "type": "histogram2d"
           }
          ],
          "histogram2dcontour": [
           {
            "colorbar": {
             "outlinewidth": 0,
             "ticks": ""
            },
            "colorscale": [
             [
              0,
              "#0d0887"
             ],
             [
              0.1111111111111111,
              "#46039f"
             ],
             [
              0.2222222222222222,
              "#7201a8"
             ],
             [
              0.3333333333333333,
              "#9c179e"
             ],
             [
              0.4444444444444444,
              "#bd3786"
             ],
             [
              0.5555555555555556,
              "#d8576b"
             ],
             [
              0.6666666666666666,
              "#ed7953"
             ],
             [
              0.7777777777777778,
              "#fb9f3a"
             ],
             [
              0.8888888888888888,
              "#fdca26"
             ],
             [
              1,
              "#f0f921"
             ]
            ],
            "type": "histogram2dcontour"
           }
          ],
          "mesh3d": [
           {
            "colorbar": {
             "outlinewidth": 0,
             "ticks": ""
            },
            "type": "mesh3d"
           }
          ],
          "parcoords": [
           {
            "line": {
             "colorbar": {
              "outlinewidth": 0,
              "ticks": ""
             }
            },
            "type": "parcoords"
           }
          ],
          "pie": [
           {
            "automargin": true,
            "type": "pie"
           }
          ],
          "scatter": [
           {
            "fillpattern": {
             "fillmode": "overlay",
             "size": 10,
             "solidity": 0.2
            },
            "type": "scatter"
           }
          ],
          "scatter3d": [
           {
            "line": {
             "colorbar": {
              "outlinewidth": 0,
              "ticks": ""
             }
            },
            "marker": {
             "colorbar": {
              "outlinewidth": 0,
              "ticks": ""
             }
            },
            "type": "scatter3d"
           }
          ],
          "scattercarpet": [
           {
            "marker": {
             "colorbar": {
              "outlinewidth": 0,
              "ticks": ""
             }
            },
            "type": "scattercarpet"
           }
          ],
          "scattergeo": [
           {
            "marker": {
             "colorbar": {
              "outlinewidth": 0,
              "ticks": ""
             }
            },
            "type": "scattergeo"
           }
          ],
          "scattergl": [
           {
            "marker": {
             "colorbar": {
              "outlinewidth": 0,
              "ticks": ""
             }
            },
            "type": "scattergl"
           }
          ],
          "scattermapbox": [
           {
            "marker": {
             "colorbar": {
              "outlinewidth": 0,
              "ticks": ""
             }
            },
            "type": "scattermapbox"
           }
          ],
          "scatterpolar": [
           {
            "marker": {
             "colorbar": {
              "outlinewidth": 0,
              "ticks": ""
             }
            },
            "type": "scatterpolar"
           }
          ],
          "scatterpolargl": [
           {
            "marker": {
             "colorbar": {
              "outlinewidth": 0,
              "ticks": ""
             }
            },
            "type": "scatterpolargl"
           }
          ],
          "scatterternary": [
           {
            "marker": {
             "colorbar": {
              "outlinewidth": 0,
              "ticks": ""
             }
            },
            "type": "scatterternary"
           }
          ],
          "surface": [
           {
            "colorbar": {
             "outlinewidth": 0,
             "ticks": ""
            },
            "colorscale": [
             [
              0,
              "#0d0887"
             ],
             [
              0.1111111111111111,
              "#46039f"
             ],
             [
              0.2222222222222222,
              "#7201a8"
             ],
             [
              0.3333333333333333,
              "#9c179e"
             ],
             [
              0.4444444444444444,
              "#bd3786"
             ],
             [
              0.5555555555555556,
              "#d8576b"
             ],
             [
              0.6666666666666666,
              "#ed7953"
             ],
             [
              0.7777777777777778,
              "#fb9f3a"
             ],
             [
              0.8888888888888888,
              "#fdca26"
             ],
             [
              1,
              "#f0f921"
             ]
            ],
            "type": "surface"
           }
          ],
          "table": [
           {
            "cells": {
             "fill": {
              "color": "#EBF0F8"
             },
             "line": {
              "color": "white"
             }
            },
            "header": {
             "fill": {
              "color": "#C8D4E3"
             },
             "line": {
              "color": "white"
             }
            },
            "type": "table"
           }
          ]
         },
         "layout": {
          "annotationdefaults": {
           "arrowcolor": "#2a3f5f",
           "arrowhead": 0,
           "arrowwidth": 1
          },
          "autotypenumbers": "strict",
          "coloraxis": {
           "colorbar": {
            "outlinewidth": 0,
            "ticks": ""
           }
          },
          "colorscale": {
           "diverging": [
            [
             0,
             "#8e0152"
            ],
            [
             0.1,
             "#c51b7d"
            ],
            [
             0.2,
             "#de77ae"
            ],
            [
             0.3,
             "#f1b6da"
            ],
            [
             0.4,
             "#fde0ef"
            ],
            [
             0.5,
             "#f7f7f7"
            ],
            [
             0.6,
             "#e6f5d0"
            ],
            [
             0.7,
             "#b8e186"
            ],
            [
             0.8,
             "#7fbc41"
            ],
            [
             0.9,
             "#4d9221"
            ],
            [
             1,
             "#276419"
            ]
           ],
           "sequential": [
            [
             0,
             "#0d0887"
            ],
            [
             0.1111111111111111,
             "#46039f"
            ],
            [
             0.2222222222222222,
             "#7201a8"
            ],
            [
             0.3333333333333333,
             "#9c179e"
            ],
            [
             0.4444444444444444,
             "#bd3786"
            ],
            [
             0.5555555555555556,
             "#d8576b"
            ],
            [
             0.6666666666666666,
             "#ed7953"
            ],
            [
             0.7777777777777778,
             "#fb9f3a"
            ],
            [
             0.8888888888888888,
             "#fdca26"
            ],
            [
             1,
             "#f0f921"
            ]
           ],
           "sequentialminus": [
            [
             0,
             "#0d0887"
            ],
            [
             0.1111111111111111,
             "#46039f"
            ],
            [
             0.2222222222222222,
             "#7201a8"
            ],
            [
             0.3333333333333333,
             "#9c179e"
            ],
            [
             0.4444444444444444,
             "#bd3786"
            ],
            [
             0.5555555555555556,
             "#d8576b"
            ],
            [
             0.6666666666666666,
             "#ed7953"
            ],
            [
             0.7777777777777778,
             "#fb9f3a"
            ],
            [
             0.8888888888888888,
             "#fdca26"
            ],
            [
             1,
             "#f0f921"
            ]
           ]
          },
          "colorway": [
           "#636efa",
           "#EF553B",
           "#00cc96",
           "#ab63fa",
           "#FFA15A",
           "#19d3f3",
           "#FF6692",
           "#B6E880",
           "#FF97FF",
           "#FECB52"
          ],
          "font": {
           "color": "#2a3f5f"
          },
          "geo": {
           "bgcolor": "white",
           "lakecolor": "white",
           "landcolor": "#E5ECF6",
           "showlakes": true,
           "showland": true,
           "subunitcolor": "white"
          },
          "hoverlabel": {
           "align": "left"
          },
          "hovermode": "closest",
          "mapbox": {
           "style": "light"
          },
          "paper_bgcolor": "white",
          "plot_bgcolor": "#E5ECF6",
          "polar": {
           "angularaxis": {
            "gridcolor": "white",
            "linecolor": "white",
            "ticks": ""
           },
           "bgcolor": "#E5ECF6",
           "radialaxis": {
            "gridcolor": "white",
            "linecolor": "white",
            "ticks": ""
           }
          },
          "scene": {
           "xaxis": {
            "backgroundcolor": "#E5ECF6",
            "gridcolor": "white",
            "gridwidth": 2,
            "linecolor": "white",
            "showbackground": true,
            "ticks": "",
            "zerolinecolor": "white"
           },
           "yaxis": {
            "backgroundcolor": "#E5ECF6",
            "gridcolor": "white",
            "gridwidth": 2,
            "linecolor": "white",
            "showbackground": true,
            "ticks": "",
            "zerolinecolor": "white"
           },
           "zaxis": {
            "backgroundcolor": "#E5ECF6",
            "gridcolor": "white",
            "gridwidth": 2,
            "linecolor": "white",
            "showbackground": true,
            "ticks": "",
            "zerolinecolor": "white"
           }
          },
          "shapedefaults": {
           "line": {
            "color": "#2a3f5f"
           }
          },
          "ternary": {
           "aaxis": {
            "gridcolor": "white",
            "linecolor": "white",
            "ticks": ""
           },
           "baxis": {
            "gridcolor": "white",
            "linecolor": "white",
            "ticks": ""
           },
           "bgcolor": "#E5ECF6",
           "caxis": {
            "gridcolor": "white",
            "linecolor": "white",
            "ticks": ""
           }
          },
          "title": {
           "x": 0.05
          },
          "xaxis": {
           "automargin": true,
           "gridcolor": "white",
           "linecolor": "white",
           "ticks": "",
           "title": {
            "standoff": 15
           },
           "zerolinecolor": "white",
           "zerolinewidth": 2
          },
          "yaxis": {
           "automargin": true,
           "gridcolor": "white",
           "linecolor": "white",
           "ticks": "",
           "title": {
            "standoff": 15
           },
           "zerolinecolor": "white",
           "zerolinewidth": 2
          }
         }
        },
        "xaxis": {
         "anchor": "y",
         "domain": [
          0,
          1
         ],
         "title": {
          "text": "index"
         }
        },
        "yaxis": {
         "anchor": "x",
         "domain": [
          0,
          1
         ],
         "title": {
          "text": "value"
         }
        }
       }
      },
      "text/html": [
       "<div>                            <div id=\"5a8b70b6-0e99-4dd5-b3c5-8d641e4423d1\" class=\"plotly-graph-div\" style=\"height:525px; width:100%;\"></div>            <script type=\"text/javascript\">                require([\"plotly\"], function(Plotly) {                    window.PLOTLYENV=window.PLOTLYENV || {};                                    if (document.getElementById(\"5a8b70b6-0e99-4dd5-b3c5-8d641e4423d1\")) {                    Plotly.newPlot(                        \"5a8b70b6-0e99-4dd5-b3c5-8d641e4423d1\",                        [{\"alignmentgroup\":\"True\",\"hovertemplate\":\"variable=Venue<br>index=%{x}<br>value=%{y}<extra></extra>\",\"legendgroup\":\"Venue\",\"marker\":{\"color\":\"#636efa\",\"pattern\":{\"shape\":\"\"}},\"name\":\"Venue\",\"offsetgroup\":\"Venue\",\"orientation\":\"v\",\"showlegend\":true,\"textposition\":\"auto\",\"x\":[\"Wankhede Stadium\",\"M Chinnaswamy Stadium\",\"Sawai Mansingh Stadium\",\"MA Chidambaram Stadium, Chepauk\",\"Rajiv Gandhi International Stadium, Uppal\",\"Dr DY Patil Sports Academy, Mumbai\",\"Punjab Cricket Association IS Bindra Stadium\",\"Arun Jaitley Stadium\",\"Narendra Modi Stadium, Ahmedabad\",\"Eden Gardens, Kolkata\"],\"xaxis\":\"x\",\"y\":[4591,3485,3036,2965,1811,1441,807,615,323,193],\"yaxis\":\"y\",\"type\":\"bar\"}],                        {\"template\":{\"data\":{\"histogram2dcontour\":[{\"type\":\"histogram2dcontour\",\"colorbar\":{\"outlinewidth\":0,\"ticks\":\"\"},\"colorscale\":[[0.0,\"#0d0887\"],[0.1111111111111111,\"#46039f\"],[0.2222222222222222,\"#7201a8\"],[0.3333333333333333,\"#9c179e\"],[0.4444444444444444,\"#bd3786\"],[0.5555555555555556,\"#d8576b\"],[0.6666666666666666,\"#ed7953\"],[0.7777777777777778,\"#fb9f3a\"],[0.8888888888888888,\"#fdca26\"],[1.0,\"#f0f921\"]]}],\"choropleth\":[{\"type\":\"choropleth\",\"colorbar\":{\"outlinewidth\":0,\"ticks\":\"\"}}],\"histogram2d\":[{\"type\":\"histogram2d\",\"colorbar\":{\"outlinewidth\":0,\"ticks\":\"\"},\"colorscale\":[[0.0,\"#0d0887\"],[0.1111111111111111,\"#46039f\"],[0.2222222222222222,\"#7201a8\"],[0.3333333333333333,\"#9c179e\"],[0.4444444444444444,\"#bd3786\"],[0.5555555555555556,\"#d8576b\"],[0.6666666666666666,\"#ed7953\"],[0.7777777777777778,\"#fb9f3a\"],[0.8888888888888888,\"#fdca26\"],[1.0,\"#f0f921\"]]}],\"heatmap\":[{\"type\":\"heatmap\",\"colorbar\":{\"outlinewidth\":0,\"ticks\":\"\"},\"colorscale\":[[0.0,\"#0d0887\"],[0.1111111111111111,\"#46039f\"],[0.2222222222222222,\"#7201a8\"],[0.3333333333333333,\"#9c179e\"],[0.4444444444444444,\"#bd3786\"],[0.5555555555555556,\"#d8576b\"],[0.6666666666666666,\"#ed7953\"],[0.7777777777777778,\"#fb9f3a\"],[0.8888888888888888,\"#fdca26\"],[1.0,\"#f0f921\"]]}],\"heatmapgl\":[{\"type\":\"heatmapgl\",\"colorbar\":{\"outlinewidth\":0,\"ticks\":\"\"},\"colorscale\":[[0.0,\"#0d0887\"],[0.1111111111111111,\"#46039f\"],[0.2222222222222222,\"#7201a8\"],[0.3333333333333333,\"#9c179e\"],[0.4444444444444444,\"#bd3786\"],[0.5555555555555556,\"#d8576b\"],[0.6666666666666666,\"#ed7953\"],[0.7777777777777778,\"#fb9f3a\"],[0.8888888888888888,\"#fdca26\"],[1.0,\"#f0f921\"]]}],\"contourcarpet\":[{\"type\":\"contourcarpet\",\"colorbar\":{\"outlinewidth\":0,\"ticks\":\"\"}}],\"contour\":[{\"type\":\"contour\",\"colorbar\":{\"outlinewidth\":0,\"ticks\":\"\"},\"colorscale\":[[0.0,\"#0d0887\"],[0.1111111111111111,\"#46039f\"],[0.2222222222222222,\"#7201a8\"],[0.3333333333333333,\"#9c179e\"],[0.4444444444444444,\"#bd3786\"],[0.5555555555555556,\"#d8576b\"],[0.6666666666666666,\"#ed7953\"],[0.7777777777777778,\"#fb9f3a\"],[0.8888888888888888,\"#fdca26\"],[1.0,\"#f0f921\"]]}],\"surface\":[{\"type\":\"surface\",\"colorbar\":{\"outlinewidth\":0,\"ticks\":\"\"},\"colorscale\":[[0.0,\"#0d0887\"],[0.1111111111111111,\"#46039f\"],[0.2222222222222222,\"#7201a8\"],[0.3333333333333333,\"#9c179e\"],[0.4444444444444444,\"#bd3786\"],[0.5555555555555556,\"#d8576b\"],[0.6666666666666666,\"#ed7953\"],[0.7777777777777778,\"#fb9f3a\"],[0.8888888888888888,\"#fdca26\"],[1.0,\"#f0f921\"]]}],\"mesh3d\":[{\"type\":\"mesh3d\",\"colorbar\":{\"outlinewidth\":0,\"ticks\":\"\"}}],\"scatter\":[{\"fillpattern\":{\"fillmode\":\"overlay\",\"size\":10,\"solidity\":0.2},\"type\":\"scatter\"}],\"parcoords\":[{\"type\":\"parcoords\",\"line\":{\"colorbar\":{\"outlinewidth\":0,\"ticks\":\"\"}}}],\"scatterpolargl\":[{\"type\":\"scatterpolargl\",\"marker\":{\"colorbar\":{\"outlinewidth\":0,\"ticks\":\"\"}}}],\"bar\":[{\"error_x\":{\"color\":\"#2a3f5f\"},\"error_y\":{\"color\":\"#2a3f5f\"},\"marker\":{\"line\":{\"color\":\"#E5ECF6\",\"width\":0.5},\"pattern\":{\"fillmode\":\"overlay\",\"size\":10,\"solidity\":0.2}},\"type\":\"bar\"}],\"scattergeo\":[{\"type\":\"scattergeo\",\"marker\":{\"colorbar\":{\"outlinewidth\":0,\"ticks\":\"\"}}}],\"scatterpolar\":[{\"type\":\"scatterpolar\",\"marker\":{\"colorbar\":{\"outlinewidth\":0,\"ticks\":\"\"}}}],\"histogram\":[{\"marker\":{\"pattern\":{\"fillmode\":\"overlay\",\"size\":10,\"solidity\":0.2}},\"type\":\"histogram\"}],\"scattergl\":[{\"type\":\"scattergl\",\"marker\":{\"colorbar\":{\"outlinewidth\":0,\"ticks\":\"\"}}}],\"scatter3d\":[{\"type\":\"scatter3d\",\"line\":{\"colorbar\":{\"outlinewidth\":0,\"ticks\":\"\"}},\"marker\":{\"colorbar\":{\"outlinewidth\":0,\"ticks\":\"\"}}}],\"scattermapbox\":[{\"type\":\"scattermapbox\",\"marker\":{\"colorbar\":{\"outlinewidth\":0,\"ticks\":\"\"}}}],\"scatterternary\":[{\"type\":\"scatterternary\",\"marker\":{\"colorbar\":{\"outlinewidth\":0,\"ticks\":\"\"}}}],\"scattercarpet\":[{\"type\":\"scattercarpet\",\"marker\":{\"colorbar\":{\"outlinewidth\":0,\"ticks\":\"\"}}}],\"carpet\":[{\"aaxis\":{\"endlinecolor\":\"#2a3f5f\",\"gridcolor\":\"white\",\"linecolor\":\"white\",\"minorgridcolor\":\"white\",\"startlinecolor\":\"#2a3f5f\"},\"baxis\":{\"endlinecolor\":\"#2a3f5f\",\"gridcolor\":\"white\",\"linecolor\":\"white\",\"minorgridcolor\":\"white\",\"startlinecolor\":\"#2a3f5f\"},\"type\":\"carpet\"}],\"table\":[{\"cells\":{\"fill\":{\"color\":\"#EBF0F8\"},\"line\":{\"color\":\"white\"}},\"header\":{\"fill\":{\"color\":\"#C8D4E3\"},\"line\":{\"color\":\"white\"}},\"type\":\"table\"}],\"barpolar\":[{\"marker\":{\"line\":{\"color\":\"#E5ECF6\",\"width\":0.5},\"pattern\":{\"fillmode\":\"overlay\",\"size\":10,\"solidity\":0.2}},\"type\":\"barpolar\"}],\"pie\":[{\"automargin\":true,\"type\":\"pie\"}]},\"layout\":{\"autotypenumbers\":\"strict\",\"colorway\":[\"#636efa\",\"#EF553B\",\"#00cc96\",\"#ab63fa\",\"#FFA15A\",\"#19d3f3\",\"#FF6692\",\"#B6E880\",\"#FF97FF\",\"#FECB52\"],\"font\":{\"color\":\"#2a3f5f\"},\"hovermode\":\"closest\",\"hoverlabel\":{\"align\":\"left\"},\"paper_bgcolor\":\"white\",\"plot_bgcolor\":\"#E5ECF6\",\"polar\":{\"bgcolor\":\"#E5ECF6\",\"angularaxis\":{\"gridcolor\":\"white\",\"linecolor\":\"white\",\"ticks\":\"\"},\"radialaxis\":{\"gridcolor\":\"white\",\"linecolor\":\"white\",\"ticks\":\"\"}},\"ternary\":{\"bgcolor\":\"#E5ECF6\",\"aaxis\":{\"gridcolor\":\"white\",\"linecolor\":\"white\",\"ticks\":\"\"},\"baxis\":{\"gridcolor\":\"white\",\"linecolor\":\"white\",\"ticks\":\"\"},\"caxis\":{\"gridcolor\":\"white\",\"linecolor\":\"white\",\"ticks\":\"\"}},\"coloraxis\":{\"colorbar\":{\"outlinewidth\":0,\"ticks\":\"\"}},\"colorscale\":{\"sequential\":[[0.0,\"#0d0887\"],[0.1111111111111111,\"#46039f\"],[0.2222222222222222,\"#7201a8\"],[0.3333333333333333,\"#9c179e\"],[0.4444444444444444,\"#bd3786\"],[0.5555555555555556,\"#d8576b\"],[0.6666666666666666,\"#ed7953\"],[0.7777777777777778,\"#fb9f3a\"],[0.8888888888888888,\"#fdca26\"],[1.0,\"#f0f921\"]],\"sequentialminus\":[[0.0,\"#0d0887\"],[0.1111111111111111,\"#46039f\"],[0.2222222222222222,\"#7201a8\"],[0.3333333333333333,\"#9c179e\"],[0.4444444444444444,\"#bd3786\"],[0.5555555555555556,\"#d8576b\"],[0.6666666666666666,\"#ed7953\"],[0.7777777777777778,\"#fb9f3a\"],[0.8888888888888888,\"#fdca26\"],[1.0,\"#f0f921\"]],\"diverging\":[[0,\"#8e0152\"],[0.1,\"#c51b7d\"],[0.2,\"#de77ae\"],[0.3,\"#f1b6da\"],[0.4,\"#fde0ef\"],[0.5,\"#f7f7f7\"],[0.6,\"#e6f5d0\"],[0.7,\"#b8e186\"],[0.8,\"#7fbc41\"],[0.9,\"#4d9221\"],[1,\"#276419\"]]},\"xaxis\":{\"gridcolor\":\"white\",\"linecolor\":\"white\",\"ticks\":\"\",\"title\":{\"standoff\":15},\"zerolinecolor\":\"white\",\"automargin\":true,\"zerolinewidth\":2},\"yaxis\":{\"gridcolor\":\"white\",\"linecolor\":\"white\",\"ticks\":\"\",\"title\":{\"standoff\":15},\"zerolinecolor\":\"white\",\"automargin\":true,\"zerolinewidth\":2},\"scene\":{\"xaxis\":{\"backgroundcolor\":\"#E5ECF6\",\"gridcolor\":\"white\",\"linecolor\":\"white\",\"showbackground\":true,\"ticks\":\"\",\"zerolinecolor\":\"white\",\"gridwidth\":2},\"yaxis\":{\"backgroundcolor\":\"#E5ECF6\",\"gridcolor\":\"white\",\"linecolor\":\"white\",\"showbackground\":true,\"ticks\":\"\",\"zerolinecolor\":\"white\",\"gridwidth\":2},\"zaxis\":{\"backgroundcolor\":\"#E5ECF6\",\"gridcolor\":\"white\",\"linecolor\":\"white\",\"showbackground\":true,\"ticks\":\"\",\"zerolinecolor\":\"white\",\"gridwidth\":2}},\"shapedefaults\":{\"line\":{\"color\":\"#2a3f5f\"}},\"annotationdefaults\":{\"arrowcolor\":\"#2a3f5f\",\"arrowhead\":0,\"arrowwidth\":1},\"geo\":{\"bgcolor\":\"white\",\"landcolor\":\"#E5ECF6\",\"subunitcolor\":\"white\",\"showland\":true,\"showlakes\":true,\"lakecolor\":\"white\"},\"title\":{\"x\":0.05},\"mapbox\":{\"style\":\"light\"}}},\"xaxis\":{\"anchor\":\"y\",\"domain\":[0.0,1.0],\"title\":{\"text\":\"index\"}},\"yaxis\":{\"anchor\":\"x\",\"domain\":[0.0,1.0],\"title\":{\"text\":\"value\"}},\"legend\":{\"title\":{\"text\":\"variable\"},\"tracegroupgap\":0},\"margin\":{\"t\":60},\"barmode\":\"relative\"},                        {\"responsive\": true}                    ).then(function(){\n",
       "                            \n",
       "var gd = document.getElementById('5a8b70b6-0e99-4dd5-b3c5-8d641e4423d1');\n",
       "var x = new MutationObserver(function (mutations, observer) {{\n",
       "        var display = window.getComputedStyle(gd).display;\n",
       "        if (!display || display === 'none') {{\n",
       "            console.log([gd, 'removed!']);\n",
       "            Plotly.purge(gd);\n",
       "            observer.disconnect();\n",
       "        }}\n",
       "}});\n",
       "\n",
       "// Listen for the removal of the full notebook cells\n",
       "var notebookContainer = gd.closest('#notebook-container');\n",
       "if (notebookContainer) {{\n",
       "    x.observe(notebookContainer, {childList: true});\n",
       "}}\n",
       "\n",
       "// Listen for the clearing of the current output cell\n",
       "var outputEl = gd.closest('.output');\n",
       "if (outputEl) {{\n",
       "    x.observe(outputEl, {childList: true});\n",
       "}}\n",
       "\n",
       "                        })                };                });            </script>        </div>"
      ]
     },
     "metadata": {},
     "output_type": "display_data"
    }
   ],
   "source": [
    "fig = px.bar(df['Venue'].value_counts())\n",
    "fig.show()"
   ]
  },
  {
   "cell_type": "code",
   "execution_count": 49,
   "metadata": {},
   "outputs": [
    {
     "data": {
      "text/html": [
       "<div>\n",
       "<style scoped>\n",
       "    .dataframe tbody tr th:only-of-type {\n",
       "        vertical-align: middle;\n",
       "    }\n",
       "\n",
       "    .dataframe tbody tr th {\n",
       "        vertical-align: top;\n",
       "    }\n",
       "\n",
       "    .dataframe thead th {\n",
       "        text-align: right;\n",
       "    }\n",
       "</style>\n",
       "<table border=\"1\" class=\"dataframe\">\n",
       "  <thead>\n",
       "    <tr style=\"text-align: right;\">\n",
       "      <th></th>\n",
       "      <th>Overs</th>\n",
       "      <th>current_score</th>\n",
       "      <th>wickets_left</th>\n",
       "      <th>current_run_rate</th>\n",
       "      <th>required_run_rate</th>\n",
       "      <th>target</th>\n",
       "    </tr>\n",
       "  </thead>\n",
       "  <tbody>\n",
       "    <tr>\n",
       "      <th>count</th>\n",
       "      <td>19267.000000</td>\n",
       "      <td>19267.000000</td>\n",
       "      <td>19267.000000</td>\n",
       "      <td>19267.000000</td>\n",
       "      <td>19267.000000</td>\n",
       "      <td>19267.000000</td>\n",
       "    </tr>\n",
       "    <tr>\n",
       "      <th>mean</th>\n",
       "      <td>11.902990</td>\n",
       "      <td>94.795817</td>\n",
       "      <td>6.852546</td>\n",
       "      <td>7.793113</td>\n",
       "      <td>11.768565</td>\n",
       "      <td>169.368921</td>\n",
       "    </tr>\n",
       "    <tr>\n",
       "      <th>std</th>\n",
       "      <td>4.155258</td>\n",
       "      <td>38.047265</td>\n",
       "      <td>2.148756</td>\n",
       "      <td>1.636032</td>\n",
       "      <td>16.351887</td>\n",
       "      <td>27.816793</td>\n",
       "    </tr>\n",
       "    <tr>\n",
       "      <th>min</th>\n",
       "      <td>5.100000</td>\n",
       "      <td>17.000000</td>\n",
       "      <td>0.000000</td>\n",
       "      <td>2.833333</td>\n",
       "      <td>0.000000</td>\n",
       "      <td>68.000000</td>\n",
       "    </tr>\n",
       "    <tr>\n",
       "      <th>25%</th>\n",
       "      <td>8.300000</td>\n",
       "      <td>65.000000</td>\n",
       "      <td>6.000000</td>\n",
       "      <td>6.750000</td>\n",
       "      <td>7.333333</td>\n",
       "      <td>152.000000</td>\n",
       "    </tr>\n",
       "    <tr>\n",
       "      <th>50%</th>\n",
       "      <td>11.600000</td>\n",
       "      <td>91.000000</td>\n",
       "      <td>7.000000</td>\n",
       "      <td>7.772727</td>\n",
       "      <td>9.457627</td>\n",
       "      <td>167.000000</td>\n",
       "    </tr>\n",
       "    <tr>\n",
       "      <th>75%</th>\n",
       "      <td>15.400000</td>\n",
       "      <td>122.000000</td>\n",
       "      <td>9.000000</td>\n",
       "      <td>8.760000</td>\n",
       "      <td>12.228592</td>\n",
       "      <td>188.000000</td>\n",
       "    </tr>\n",
       "    <tr>\n",
       "      <th>max</th>\n",
       "      <td>19.800000</td>\n",
       "      <td>223.000000</td>\n",
       "      <td>10.000000</td>\n",
       "      <td>17.812500</td>\n",
       "      <td>588.000000</td>\n",
       "      <td>247.000000</td>\n",
       "    </tr>\n",
       "  </tbody>\n",
       "</table>\n",
       "</div>"
      ],
      "text/plain": [
       "              Overs  current_score  wickets_left  current_run_rate  \\\n",
       "count  19267.000000   19267.000000  19267.000000      19267.000000   \n",
       "mean      11.902990      94.795817      6.852546          7.793113   \n",
       "std        4.155258      38.047265      2.148756          1.636032   \n",
       "min        5.100000      17.000000      0.000000          2.833333   \n",
       "25%        8.300000      65.000000      6.000000          6.750000   \n",
       "50%       11.600000      91.000000      7.000000          7.772727   \n",
       "75%       15.400000     122.000000      9.000000          8.760000   \n",
       "max       19.800000     223.000000     10.000000         17.812500   \n",
       "\n",
       "       required_run_rate        target  \n",
       "count       19267.000000  19267.000000  \n",
       "mean           11.768565    169.368921  \n",
       "std            16.351887     27.816793  \n",
       "min             0.000000     68.000000  \n",
       "25%             7.333333    152.000000  \n",
       "50%             9.457627    167.000000  \n",
       "75%            12.228592    188.000000  \n",
       "max           588.000000    247.000000  "
      ]
     },
     "execution_count": 49,
     "metadata": {},
     "output_type": "execute_result"
    }
   ],
   "source": [
    "df.describe()"
   ]
  },
  {
   "cell_type": "code",
   "execution_count": 50,
   "metadata": {},
   "outputs": [
    {
     "data": {
      "text/plain": [
       "BattingTeam          0\n",
       "BowlingTeam          0\n",
       "Venue                0\n",
       "Overs                0\n",
       "current_score        0\n",
       "wickets_left         0\n",
       "current_run_rate     0\n",
       "required_run_rate    0\n",
       "target               0\n",
       "dtype: int64"
      ]
     },
     "execution_count": 50,
     "metadata": {},
     "output_type": "execute_result"
    }
   ],
   "source": [
    "df.isna().sum()"
   ]
  },
  {
   "cell_type": "code",
   "execution_count": 51,
   "metadata": {},
   "outputs": [
    {
     "data": {
      "text/html": [
       "<div>\n",
       "<style scoped>\n",
       "    .dataframe tbody tr th:only-of-type {\n",
       "        vertical-align: middle;\n",
       "    }\n",
       "\n",
       "    .dataframe tbody tr th {\n",
       "        vertical-align: top;\n",
       "    }\n",
       "\n",
       "    .dataframe thead th {\n",
       "        text-align: right;\n",
       "    }\n",
       "</style>\n",
       "<table border=\"1\" class=\"dataframe\">\n",
       "  <thead>\n",
       "    <tr style=\"text-align: right;\">\n",
       "      <th></th>\n",
       "      <th>BattingTeam</th>\n",
       "      <th>BowlingTeam</th>\n",
       "      <th>Venue</th>\n",
       "      <th>Overs</th>\n",
       "      <th>current_score</th>\n",
       "      <th>wickets_left</th>\n",
       "      <th>current_run_rate</th>\n",
       "      <th>required_run_rate</th>\n",
       "      <th>target</th>\n",
       "    </tr>\n",
       "  </thead>\n",
       "  <tbody>\n",
       "    <tr>\n",
       "      <th>43143</th>\n",
       "      <td>Delhi Capitals</td>\n",
       "      <td>Kings XI Punjab</td>\n",
       "      <td>Arun Jaitley Stadium</td>\n",
       "      <td>16.3</td>\n",
       "      <td>138</td>\n",
       "      <td>7</td>\n",
       "      <td>8.363636</td>\n",
       "      <td>7.428571</td>\n",
       "      <td>164</td>\n",
       "    </tr>\n",
       "    <tr>\n",
       "      <th>91103</th>\n",
       "      <td>Mumbai Indians</td>\n",
       "      <td>Royal Challengers Bangalore</td>\n",
       "      <td>Wankhede Stadium</td>\n",
       "      <td>15.3</td>\n",
       "      <td>140</td>\n",
       "      <td>7</td>\n",
       "      <td>9.032258</td>\n",
       "      <td>6.888889</td>\n",
       "      <td>171</td>\n",
       "    </tr>\n",
       "    <tr>\n",
       "      <th>127718</th>\n",
       "      <td>Kolkata Knight Riders</td>\n",
       "      <td>Chennai Super Kings</td>\n",
       "      <td>MA Chidambaram Stadium, Chepauk</td>\n",
       "      <td>19.6</td>\n",
       "      <td>186</td>\n",
       "      <td>6</td>\n",
       "      <td>9.300000</td>\n",
       "      <td>0.000000</td>\n",
       "      <td>201</td>\n",
       "    </tr>\n",
       "    <tr>\n",
       "      <th>122143</th>\n",
       "      <td>Mumbai Indians</td>\n",
       "      <td>Sunrisers Hyderabad</td>\n",
       "      <td>Wankhede Stadium</td>\n",
       "      <td>7.2</td>\n",
       "      <td>52</td>\n",
       "      <td>9</td>\n",
       "      <td>7.090909</td>\n",
       "      <td>10.026316</td>\n",
       "      <td>179</td>\n",
       "    </tr>\n",
       "    <tr>\n",
       "      <th>143553</th>\n",
       "      <td>Mumbai Indians</td>\n",
       "      <td>Chennai Super Kings</td>\n",
       "      <td>Wankhede Stadium</td>\n",
       "      <td>10.2</td>\n",
       "      <td>74</td>\n",
       "      <td>9</td>\n",
       "      <td>7.161290</td>\n",
       "      <td>10.344828</td>\n",
       "      <td>174</td>\n",
       "    </tr>\n",
       "    <tr>\n",
       "      <th>...</th>\n",
       "      <td>...</td>\n",
       "      <td>...</td>\n",
       "      <td>...</td>\n",
       "      <td>...</td>\n",
       "      <td>...</td>\n",
       "      <td>...</td>\n",
       "      <td>...</td>\n",
       "      <td>...</td>\n",
       "      <td>...</td>\n",
       "    </tr>\n",
       "    <tr>\n",
       "      <th>207669</th>\n",
       "      <td>Rajasthan Royals</td>\n",
       "      <td>Chennai Super Kings</td>\n",
       "      <td>Sawai Mansingh Stadium</td>\n",
       "      <td>9.2</td>\n",
       "      <td>75</td>\n",
       "      <td>10</td>\n",
       "      <td>8.035714</td>\n",
       "      <td>3.281250</td>\n",
       "      <td>110</td>\n",
       "    </tr>\n",
       "    <tr>\n",
       "      <th>45308</th>\n",
       "      <td>Rajasthan Royals</td>\n",
       "      <td>Mumbai Indians</td>\n",
       "      <td>Wankhede Stadium</td>\n",
       "      <td>13.2</td>\n",
       "      <td>147</td>\n",
       "      <td>8</td>\n",
       "      <td>11.025000</td>\n",
       "      <td>6.150000</td>\n",
       "      <td>188</td>\n",
       "    </tr>\n",
       "    <tr>\n",
       "      <th>127442</th>\n",
       "      <td>Rajasthan Royals</td>\n",
       "      <td>Royal Challengers Bangalore</td>\n",
       "      <td>Sawai Mansingh Stadium</td>\n",
       "      <td>15.2</td>\n",
       "      <td>122</td>\n",
       "      <td>7</td>\n",
       "      <td>7.956522</td>\n",
       "      <td>10.714286</td>\n",
       "      <td>172</td>\n",
       "    </tr>\n",
       "    <tr>\n",
       "      <th>153233</th>\n",
       "      <td>Kolkata Knight Riders</td>\n",
       "      <td>Rajasthan Royals</td>\n",
       "      <td>Sawai Mansingh Stadium</td>\n",
       "      <td>9.6</td>\n",
       "      <td>65</td>\n",
       "      <td>6</td>\n",
       "      <td>6.500000</td>\n",
       "      <td>10.000000</td>\n",
       "      <td>165</td>\n",
       "    </tr>\n",
       "    <tr>\n",
       "      <th>200794</th>\n",
       "      <td>Mumbai Indians</td>\n",
       "      <td>Royal Challengers Bangalore</td>\n",
       "      <td>M Chinnaswamy Stadium</td>\n",
       "      <td>7.4</td>\n",
       "      <td>60</td>\n",
       "      <td>10</td>\n",
       "      <td>7.826087</td>\n",
       "      <td>5.108108</td>\n",
       "      <td>123</td>\n",
       "    </tr>\n",
       "  </tbody>\n",
       "</table>\n",
       "<p>19267 rows × 9 columns</p>\n",
       "</div>"
      ],
      "text/plain": [
       "                  BattingTeam                  BowlingTeam  \\\n",
       "43143          Delhi Capitals              Kings XI Punjab   \n",
       "91103          Mumbai Indians  Royal Challengers Bangalore   \n",
       "127718  Kolkata Knight Riders          Chennai Super Kings   \n",
       "122143         Mumbai Indians          Sunrisers Hyderabad   \n",
       "143553         Mumbai Indians          Chennai Super Kings   \n",
       "...                       ...                          ...   \n",
       "207669       Rajasthan Royals          Chennai Super Kings   \n",
       "45308        Rajasthan Royals               Mumbai Indians   \n",
       "127442       Rajasthan Royals  Royal Challengers Bangalore   \n",
       "153233  Kolkata Knight Riders             Rajasthan Royals   \n",
       "200794         Mumbai Indians  Royal Challengers Bangalore   \n",
       "\n",
       "                                  Venue  Overs  current_score  wickets_left  \\\n",
       "43143              Arun Jaitley Stadium   16.3            138             7   \n",
       "91103                  Wankhede Stadium   15.3            140             7   \n",
       "127718  MA Chidambaram Stadium, Chepauk   19.6            186             6   \n",
       "122143                 Wankhede Stadium    7.2             52             9   \n",
       "143553                 Wankhede Stadium   10.2             74             9   \n",
       "...                                 ...    ...            ...           ...   \n",
       "207669           Sawai Mansingh Stadium    9.2             75            10   \n",
       "45308                  Wankhede Stadium   13.2            147             8   \n",
       "127442           Sawai Mansingh Stadium   15.2            122             7   \n",
       "153233           Sawai Mansingh Stadium    9.6             65             6   \n",
       "200794            M Chinnaswamy Stadium    7.4             60            10   \n",
       "\n",
       "        current_run_rate  required_run_rate  target  \n",
       "43143           8.363636           7.428571     164  \n",
       "91103           9.032258           6.888889     171  \n",
       "127718          9.300000           0.000000     201  \n",
       "122143          7.090909          10.026316     179  \n",
       "143553          7.161290          10.344828     174  \n",
       "...                  ...                ...     ...  \n",
       "207669          8.035714           3.281250     110  \n",
       "45308          11.025000           6.150000     188  \n",
       "127442          7.956522          10.714286     172  \n",
       "153233          6.500000          10.000000     165  \n",
       "200794          7.826087           5.108108     123  \n",
       "\n",
       "[19267 rows x 9 columns]"
      ]
     },
     "execution_count": 51,
     "metadata": {},
     "output_type": "execute_result"
    }
   ],
   "source": [
    "df.sample(df.shape[0])"
   ]
  },
  {
   "attachments": {},
   "cell_type": "markdown",
   "metadata": {},
   "source": [
    "## Model Building"
   ]
  },
  {
   "cell_type": "code",
   "execution_count": 52,
   "metadata": {},
   "outputs": [],
   "source": [
    "# Modelling\n",
    "from sklearn.metrics import mean_squared_error, r2_score\n",
    "from sklearn.neighbors import KNeighborsRegressor\n",
    "from sklearn.tree import DecisionTreeRegressor\n",
    "from sklearn.ensemble import RandomForestRegressor,AdaBoostRegressor\n",
    "from sklearn.svm import SVR\n",
    "from sklearn.linear_model import LinearRegression, Ridge,Lasso\n",
    "from sklearn.metrics import r2_score, mean_absolute_error, mean_squared_error\n",
    "from sklearn.model_selection import RandomizedSearchCV\n",
    "from catboost import CatBoostRegressor\n",
    "from xgboost import XGBRegressor\n",
    "import warnings"
   ]
  },
  {
   "cell_type": "code",
   "execution_count": 53,
   "metadata": {},
   "outputs": [
    {
     "data": {
      "text/html": [
       "<div>\n",
       "<style scoped>\n",
       "    .dataframe tbody tr th:only-of-type {\n",
       "        vertical-align: middle;\n",
       "    }\n",
       "\n",
       "    .dataframe tbody tr th {\n",
       "        vertical-align: top;\n",
       "    }\n",
       "\n",
       "    .dataframe thead th {\n",
       "        text-align: right;\n",
       "    }\n",
       "</style>\n",
       "<table border=\"1\" class=\"dataframe\">\n",
       "  <thead>\n",
       "    <tr style=\"text-align: right;\">\n",
       "      <th></th>\n",
       "      <th>BattingTeam</th>\n",
       "      <th>BowlingTeam</th>\n",
       "      <th>Venue</th>\n",
       "      <th>Overs</th>\n",
       "      <th>current_score</th>\n",
       "      <th>wickets_left</th>\n",
       "      <th>current_run_rate</th>\n",
       "      <th>required_run_rate</th>\n",
       "      <th>target</th>\n",
       "    </tr>\n",
       "  </thead>\n",
       "  <tbody>\n",
       "    <tr>\n",
       "      <th>153</th>\n",
       "      <td>Gujarat Titans</td>\n",
       "      <td>Rajasthan Royals</td>\n",
       "      <td>Narendra Modi Stadium, Ahmedabad</td>\n",
       "      <td>5.1</td>\n",
       "      <td>25</td>\n",
       "      <td>8</td>\n",
       "      <td>4.83871</td>\n",
       "      <td>7.146067</td>\n",
       "      <td>131</td>\n",
       "    </tr>\n",
       "    <tr>\n",
       "      <th>154</th>\n",
       "      <td>Gujarat Titans</td>\n",
       "      <td>Rajasthan Royals</td>\n",
       "      <td>Narendra Modi Stadium, Ahmedabad</td>\n",
       "      <td>5.2</td>\n",
       "      <td>25</td>\n",
       "      <td>8</td>\n",
       "      <td>4.68750</td>\n",
       "      <td>7.227273</td>\n",
       "      <td>131</td>\n",
       "    </tr>\n",
       "  </tbody>\n",
       "</table>\n",
       "</div>"
      ],
      "text/plain": [
       "        BattingTeam       BowlingTeam                             Venue  \\\n",
       "153  Gujarat Titans  Rajasthan Royals  Narendra Modi Stadium, Ahmedabad   \n",
       "154  Gujarat Titans  Rajasthan Royals  Narendra Modi Stadium, Ahmedabad   \n",
       "\n",
       "     Overs  current_score  wickets_left  current_run_rate  required_run_rate  \\\n",
       "153    5.1             25             8           4.83871           7.146067   \n",
       "154    5.2             25             8           4.68750           7.227273   \n",
       "\n",
       "     target  \n",
       "153     131  \n",
       "154     131  "
      ]
     },
     "execution_count": 53,
     "metadata": {},
     "output_type": "execute_result"
    }
   ],
   "source": [
    "df.head(2)"
   ]
  },
  {
   "cell_type": "code",
   "execution_count": 54,
   "metadata": {},
   "outputs": [],
   "source": [
    "df.to_csv('IPL-Datasets.csv', index=False)"
   ]
  },
  {
   "cell_type": "code",
   "execution_count": 55,
   "metadata": {},
   "outputs": [],
   "source": [
    "X = df.drop(columns=['target'],axis=1)"
   ]
  },
  {
   "cell_type": "code",
   "execution_count": 56,
   "metadata": {},
   "outputs": [
    {
     "data": {
      "text/html": [
       "<div>\n",
       "<style scoped>\n",
       "    .dataframe tbody tr th:only-of-type {\n",
       "        vertical-align: middle;\n",
       "    }\n",
       "\n",
       "    .dataframe tbody tr th {\n",
       "        vertical-align: top;\n",
       "    }\n",
       "\n",
       "    .dataframe thead th {\n",
       "        text-align: right;\n",
       "    }\n",
       "</style>\n",
       "<table border=\"1\" class=\"dataframe\">\n",
       "  <thead>\n",
       "    <tr style=\"text-align: right;\">\n",
       "      <th></th>\n",
       "      <th>BattingTeam</th>\n",
       "      <th>BowlingTeam</th>\n",
       "      <th>Venue</th>\n",
       "      <th>Overs</th>\n",
       "      <th>current_score</th>\n",
       "      <th>wickets_left</th>\n",
       "      <th>current_run_rate</th>\n",
       "      <th>required_run_rate</th>\n",
       "    </tr>\n",
       "  </thead>\n",
       "  <tbody>\n",
       "    <tr>\n",
       "      <th>153</th>\n",
       "      <td>Gujarat Titans</td>\n",
       "      <td>Rajasthan Royals</td>\n",
       "      <td>Narendra Modi Stadium, Ahmedabad</td>\n",
       "      <td>5.1</td>\n",
       "      <td>25</td>\n",
       "      <td>8</td>\n",
       "      <td>4.838710</td>\n",
       "      <td>7.146067</td>\n",
       "    </tr>\n",
       "    <tr>\n",
       "      <th>154</th>\n",
       "      <td>Gujarat Titans</td>\n",
       "      <td>Rajasthan Royals</td>\n",
       "      <td>Narendra Modi Stadium, Ahmedabad</td>\n",
       "      <td>5.2</td>\n",
       "      <td>25</td>\n",
       "      <td>8</td>\n",
       "      <td>4.687500</td>\n",
       "      <td>7.227273</td>\n",
       "    </tr>\n",
       "    <tr>\n",
       "      <th>155</th>\n",
       "      <td>Gujarat Titans</td>\n",
       "      <td>Rajasthan Royals</td>\n",
       "      <td>Narendra Modi Stadium, Ahmedabad</td>\n",
       "      <td>5.3</td>\n",
       "      <td>26</td>\n",
       "      <td>8</td>\n",
       "      <td>4.727273</td>\n",
       "      <td>7.241379</td>\n",
       "    </tr>\n",
       "    <tr>\n",
       "      <th>156</th>\n",
       "      <td>Gujarat Titans</td>\n",
       "      <td>Rajasthan Royals</td>\n",
       "      <td>Narendra Modi Stadium, Ahmedabad</td>\n",
       "      <td>5.4</td>\n",
       "      <td>26</td>\n",
       "      <td>8</td>\n",
       "      <td>4.588235</td>\n",
       "      <td>7.325581</td>\n",
       "    </tr>\n",
       "    <tr>\n",
       "      <th>157</th>\n",
       "      <td>Gujarat Titans</td>\n",
       "      <td>Rajasthan Royals</td>\n",
       "      <td>Narendra Modi Stadium, Ahmedabad</td>\n",
       "      <td>5.5</td>\n",
       "      <td>27</td>\n",
       "      <td>8</td>\n",
       "      <td>4.628571</td>\n",
       "      <td>7.341176</td>\n",
       "    </tr>\n",
       "  </tbody>\n",
       "</table>\n",
       "</div>"
      ],
      "text/plain": [
       "        BattingTeam       BowlingTeam                             Venue  \\\n",
       "153  Gujarat Titans  Rajasthan Royals  Narendra Modi Stadium, Ahmedabad   \n",
       "154  Gujarat Titans  Rajasthan Royals  Narendra Modi Stadium, Ahmedabad   \n",
       "155  Gujarat Titans  Rajasthan Royals  Narendra Modi Stadium, Ahmedabad   \n",
       "156  Gujarat Titans  Rajasthan Royals  Narendra Modi Stadium, Ahmedabad   \n",
       "157  Gujarat Titans  Rajasthan Royals  Narendra Modi Stadium, Ahmedabad   \n",
       "\n",
       "     Overs  current_score  wickets_left  current_run_rate  required_run_rate  \n",
       "153    5.1             25             8          4.838710           7.146067  \n",
       "154    5.2             25             8          4.687500           7.227273  \n",
       "155    5.3             26             8          4.727273           7.241379  \n",
       "156    5.4             26             8          4.588235           7.325581  \n",
       "157    5.5             27             8          4.628571           7.341176  "
      ]
     },
     "execution_count": 56,
     "metadata": {},
     "output_type": "execute_result"
    }
   ],
   "source": [
    "X.head()"
   ]
  },
  {
   "cell_type": "code",
   "execution_count": 57,
   "metadata": {},
   "outputs": [
    {
     "name": "stdout",
     "output_type": "stream",
     "text": [
      "Categories in 'Batting Team' variable:      ['Gujarat Titans' 'Rajasthan Royals' 'Lucknow Super Giants'\n",
      " 'Kolkata Knight Riders' 'Delhi Capitals' 'Mumbai Indians'\n",
      " 'Chennai Super Kings' 'Royal Challengers Bangalore' 'Sunrisers Hyderabad'\n",
      " 'Kings XI Punjab']\n",
      "Categories in 'Bowling Team' variable:   ['Rajasthan Royals' 'Royal Challengers Bangalore' 'Lucknow Super Giants'\n",
      " 'Kolkata Knight Riders' 'Chennai Super Kings' 'Gujarat Titans'\n",
      " 'Mumbai Indians' 'Delhi Capitals' 'Kings XI Punjab' 'Sunrisers Hyderabad']\n",
      "Categories in'Venue' variable: ['Narendra Modi Stadium, Ahmedabad' 'Eden Gardens, Kolkata'\n",
      " 'Dr DY Patil Sports Academy, Mumbai'\n",
      " 'Punjab Cricket Association IS Bindra Stadium' 'Wankhede Stadium'\n",
      " 'Arun Jaitley Stadium' 'Sawai Mansingh Stadium' 'M Chinnaswamy Stadium'\n",
      " 'Rajiv Gandhi International Stadium, Uppal'\n",
      " 'MA Chidambaram Stadium, Chepauk']\n"
     ]
    }
   ],
   "source": [
    "print(\"Categories in 'Batting Team' variable:     \",end=\" \" )\n",
    "print(df['BattingTeam'].unique())\n",
    "\n",
    "print(\"Categories in 'Bowling Team' variable:  \",end=\" \")\n",
    "print(df['BowlingTeam'].unique())\n",
    "\n",
    "print(\"Categories in'Venue' variable:\",end=\" \" )\n",
    "print(df['Venue'].unique())"
   ]
  },
  {
   "cell_type": "code",
   "execution_count": 58,
   "metadata": {},
   "outputs": [],
   "source": [
    "y = df['target']"
   ]
  },
  {
   "cell_type": "code",
   "execution_count": 59,
   "metadata": {},
   "outputs": [
    {
     "data": {
      "text/plain": [
       "153    131\n",
       "154    131\n",
       "155    131\n",
       "156    131\n",
       "157    131\n",
       "Name: target, dtype: int64"
      ]
     },
     "execution_count": 59,
     "metadata": {},
     "output_type": "execute_result"
    }
   ],
   "source": [
    "y.head()"
   ]
  },
  {
   "cell_type": "code",
   "execution_count": 60,
   "metadata": {},
   "outputs": [],
   "source": [
    "# Create Column Transformer with 3 types of transformers\n",
    "num_features = X.select_dtypes(exclude=\"object\").columns\n",
    "cat_features = X.select_dtypes(include=\"object\").columns\n",
    "\n",
    "from sklearn.preprocessing import OneHotEncoder, StandardScaler\n",
    "from sklearn.compose import ColumnTransformer\n",
    "\n",
    "numeric_transformer = StandardScaler()\n",
    "oh_transformer = OneHotEncoder()\n",
    "\n",
    "preprocessor = ColumnTransformer(\n",
    "    [\n",
    "        (\"OneHotEncoder\", oh_transformer, cat_features),\n",
    "         (\"StandardScaler\", numeric_transformer, num_features),        \n",
    "    ]\n",
    ")"
   ]
  },
  {
   "cell_type": "code",
   "execution_count": 61,
   "metadata": {},
   "outputs": [],
   "source": [
    "X = preprocessor.fit_transform(X)"
   ]
  },
  {
   "cell_type": "code",
   "execution_count": 62,
   "metadata": {},
   "outputs": [
    {
     "data": {
      "text/plain": [
       "(19267, 35)"
      ]
     },
     "execution_count": 62,
     "metadata": {},
     "output_type": "execute_result"
    }
   ],
   "source": [
    "X.shape"
   ]
  },
  {
   "cell_type": "code",
   "execution_count": 63,
   "metadata": {},
   "outputs": [
    {
     "data": {
      "text/plain": [
       "((15413, 35), (3854, 35))"
      ]
     },
     "execution_count": 63,
     "metadata": {},
     "output_type": "execute_result"
    }
   ],
   "source": [
    "# separate dataset into train and test\n",
    "from sklearn.model_selection import train_test_split\n",
    "X_train, X_test, y_train, y_test = train_test_split(X,y,test_size=0.2,random_state=42)\n",
    "X_train.shape, X_test.shape"
   ]
  },
  {
   "attachments": {},
   "cell_type": "markdown",
   "metadata": {},
   "source": [
    "## Create an Evaluate Function to give all metrics after model Training"
   ]
  },
  {
   "cell_type": "code",
   "execution_count": 64,
   "metadata": {},
   "outputs": [],
   "source": [
    "def evaluate_model(true, predicted):\n",
    "    mae = mean_absolute_error(true, predicted)\n",
    "    mse = mean_squared_error(true, predicted)\n",
    "    rmse = np.sqrt(mean_squared_error(true, predicted))\n",
    "    r2_square = r2_score(true, predicted)\n",
    "    return mae, rmse, r2_square"
   ]
  },
  {
   "cell_type": "code",
   "execution_count": 65,
   "metadata": {},
   "outputs": [
    {
     "name": "stdout",
     "output_type": "stream",
     "text": [
      "Linear Regression\n",
      "Model performance for Training set\n",
      "- Root Mean Squared Error: 20.8579\n",
      "- Mean Absolute Error: 15.8065\n",
      "- R2 Score: 0.4370\n",
      "----------------------------------\n",
      "Model performance for Test set\n",
      "- Root Mean Squared Error: 21.1528\n",
      "- Mean Absolute Error: 16.0559\n",
      "- R2 Score: 0.4247\n",
      "===================================\n",
      "\n",
      "\n",
      "Lasso\n",
      "Model performance for Training set\n",
      "- Root Mean Squared Error: 23.4882\n",
      "- Mean Absolute Error: 18.1624\n",
      "- R2 Score: 0.2860\n",
      "----------------------------------\n",
      "Model performance for Test set\n",
      "- Root Mean Squared Error: 23.4206\n",
      "- Mean Absolute Error: 18.1501\n",
      "- R2 Score: 0.2947\n",
      "===================================\n",
      "\n",
      "\n",
      "Ridge\n",
      "Model performance for Training set\n",
      "- Root Mean Squared Error: 20.8581\n",
      "- Mean Absolute Error: 15.8069\n",
      "- R2 Score: 0.4370\n",
      "----------------------------------\n",
      "Model performance for Test set\n",
      "- Root Mean Squared Error: 21.1509\n",
      "- Mean Absolute Error: 16.0541\n",
      "- R2 Score: 0.4248\n",
      "===================================\n",
      "\n",
      "\n",
      "K-Neighbors Regressor\n",
      "Model performance for Training set\n",
      "- Root Mean Squared Error: 2.8941\n",
      "- Mean Absolute Error: 0.5116\n",
      "- R2 Score: 0.9892\n",
      "----------------------------------\n",
      "Model performance for Test set\n",
      "- Root Mean Squared Error: 3.8897\n",
      "- Mean Absolute Error: 0.7864\n",
      "- R2 Score: 0.9805\n",
      "===================================\n",
      "\n",
      "\n",
      "Decision Tree\n",
      "Model performance for Training set\n",
      "- Root Mean Squared Error: 0.0000\n",
      "- Mean Absolute Error: 0.0000\n",
      "- R2 Score: 1.0000\n",
      "----------------------------------\n",
      "Model performance for Test set\n",
      "- Root Mean Squared Error: 4.1167\n",
      "- Mean Absolute Error: 1.0246\n",
      "- R2 Score: 0.9782\n",
      "===================================\n",
      "\n",
      "\n",
      "Random Forest Regressor\n",
      "Model performance for Training set\n",
      "- Root Mean Squared Error: 0.8195\n",
      "- Mean Absolute Error: 0.3273\n",
      "- R2 Score: 0.9991\n",
      "----------------------------------\n",
      "Model performance for Test set\n",
      "- Root Mean Squared Error: 2.3745\n",
      "- Mean Absolute Error: 0.8291\n",
      "- R2 Score: 0.9928\n",
      "===================================\n",
      "\n",
      "\n",
      "XGBRegressor\n",
      "Model performance for Training set\n",
      "- Root Mean Squared Error: 1.4221\n",
      "- Mean Absolute Error: 1.0725\n",
      "- R2 Score: 0.9974\n",
      "----------------------------------\n",
      "Model performance for Test set\n",
      "- Root Mean Squared Error: 2.7487\n",
      "- Mean Absolute Error: 1.6103\n",
      "- R2 Score: 0.9903\n",
      "===================================\n",
      "\n",
      "\n",
      "CatBoosting Regressor\n",
      "Model performance for Training set\n",
      "- Root Mean Squared Error: 0.9845\n",
      "- Mean Absolute Error: 0.7100\n",
      "- R2 Score: 0.9987\n",
      "----------------------------------\n",
      "Model performance for Test set\n",
      "- Root Mean Squared Error: 1.7991\n",
      "- Mean Absolute Error: 0.8718\n",
      "- R2 Score: 0.9958\n",
      "===================================\n",
      "\n",
      "\n",
      "AdaBoost Regressor\n",
      "Model performance for Training set\n",
      "- Root Mean Squared Error: 12.3722\n",
      "- Mean Absolute Error: 9.6844\n",
      "- R2 Score: 0.8019\n",
      "----------------------------------\n",
      "Model performance for Test set\n",
      "- Root Mean Squared Error: 12.6232\n",
      "- Mean Absolute Error: 9.9385\n",
      "- R2 Score: 0.7951\n",
      "===================================\n",
      "\n",
      "\n"
     ]
    }
   ],
   "source": [
    "models = {\n",
    "    \"Linear Regression\": LinearRegression(),\n",
    "    \"Lasso\": Lasso(),\n",
    "    \"Ridge\": Ridge(),\n",
    "    \"K-Neighbors Regressor\": KNeighborsRegressor(),\n",
    "    \"Decision Tree\": DecisionTreeRegressor(),\n",
    "    \"Random Forest Regressor\": RandomForestRegressor(),\n",
    "    \"XGBRegressor\": XGBRegressor(), \n",
    "    \"CatBoosting Regressor\": CatBoostRegressor(verbose=False),\n",
    "    \"AdaBoost Regressor\": AdaBoostRegressor()\n",
    "}\n",
    "model_list = []\n",
    "r2_list =[]\n",
    "\n",
    "for i in range(len(list(models))):\n",
    "    model = list(models.values())[i]\n",
    "    model.fit(X_train, y_train) # Train model\n",
    "\n",
    "    # Make predictions\n",
    "    y_train_pred = model.predict(X_train)\n",
    "    y_test_pred = model.predict(X_test)\n",
    "    \n",
    "    # Evaluate Train and Test dataset\n",
    "    model_train_mae , model_train_rmse, model_train_r2 = evaluate_model(y_train, y_train_pred)\n",
    "\n",
    "    model_test_mae , model_test_rmse, model_test_r2 = evaluate_model(y_test, y_test_pred)\n",
    "\n",
    "    \n",
    "    print(list(models.keys())[i])\n",
    "    model_list.append(list(models.keys())[i])\n",
    "    \n",
    "    print('Model performance for Training set')\n",
    "    print(\"- Root Mean Squared Error: {:.4f}\".format(model_train_rmse))\n",
    "    print(\"- Mean Absolute Error: {:.4f}\".format(model_train_mae))\n",
    "    print(\"- R2 Score: {:.4f}\".format(model_train_r2))\n",
    "\n",
    "    print('----------------------------------')\n",
    "    \n",
    "    print('Model performance for Test set')\n",
    "    print(\"- Root Mean Squared Error: {:.4f}\".format(model_test_rmse))\n",
    "    print(\"- Mean Absolute Error: {:.4f}\".format(model_test_mae))\n",
    "    print(\"- R2 Score: {:.4f}\".format(model_test_r2))\n",
    "    r2_list.append(model_test_r2)\n",
    "    \n",
    "    print('='*35)\n",
    "    print('\\n')"
   ]
  },
  {
   "attachments": {},
   "cell_type": "markdown",
   "metadata": {},
   "source": [
    "## Results"
   ]
  },
  {
   "cell_type": "code",
   "execution_count": 66,
   "metadata": {},
   "outputs": [
    {
     "data": {
      "text/html": [
       "<div>\n",
       "<style scoped>\n",
       "    .dataframe tbody tr th:only-of-type {\n",
       "        vertical-align: middle;\n",
       "    }\n",
       "\n",
       "    .dataframe tbody tr th {\n",
       "        vertical-align: top;\n",
       "    }\n",
       "\n",
       "    .dataframe thead th {\n",
       "        text-align: right;\n",
       "    }\n",
       "</style>\n",
       "<table border=\"1\" class=\"dataframe\">\n",
       "  <thead>\n",
       "    <tr style=\"text-align: right;\">\n",
       "      <th></th>\n",
       "      <th>Model Name</th>\n",
       "      <th>R2_Score</th>\n",
       "    </tr>\n",
       "  </thead>\n",
       "  <tbody>\n",
       "    <tr>\n",
       "      <th>7</th>\n",
       "      <td>CatBoosting Regressor</td>\n",
       "      <td>0.995838</td>\n",
       "    </tr>\n",
       "    <tr>\n",
       "      <th>5</th>\n",
       "      <td>Random Forest Regressor</td>\n",
       "      <td>0.992750</td>\n",
       "    </tr>\n",
       "    <tr>\n",
       "      <th>6</th>\n",
       "      <td>XGBRegressor</td>\n",
       "      <td>0.990286</td>\n",
       "    </tr>\n",
       "    <tr>\n",
       "      <th>3</th>\n",
       "      <td>K-Neighbors Regressor</td>\n",
       "      <td>0.980547</td>\n",
       "    </tr>\n",
       "    <tr>\n",
       "      <th>4</th>\n",
       "      <td>Decision Tree</td>\n",
       "      <td>0.978210</td>\n",
       "    </tr>\n",
       "    <tr>\n",
       "      <th>8</th>\n",
       "      <td>AdaBoost Regressor</td>\n",
       "      <td>0.795118</td>\n",
       "    </tr>\n",
       "    <tr>\n",
       "      <th>2</th>\n",
       "      <td>Ridge</td>\n",
       "      <td>0.424798</td>\n",
       "    </tr>\n",
       "    <tr>\n",
       "      <th>0</th>\n",
       "      <td>Linear Regression</td>\n",
       "      <td>0.424696</td>\n",
       "    </tr>\n",
       "    <tr>\n",
       "      <th>1</th>\n",
       "      <td>Lasso</td>\n",
       "      <td>0.294723</td>\n",
       "    </tr>\n",
       "  </tbody>\n",
       "</table>\n",
       "</div>"
      ],
      "text/plain": [
       "                Model Name  R2_Score\n",
       "7    CatBoosting Regressor  0.995838\n",
       "5  Random Forest Regressor  0.992750\n",
       "6             XGBRegressor  0.990286\n",
       "3    K-Neighbors Regressor  0.980547\n",
       "4            Decision Tree  0.978210\n",
       "8       AdaBoost Regressor  0.795118\n",
       "2                    Ridge  0.424798\n",
       "0        Linear Regression  0.424696\n",
       "1                    Lasso  0.294723"
      ]
     },
     "execution_count": 66,
     "metadata": {},
     "output_type": "execute_result"
    }
   ],
   "source": [
    "pd.DataFrame(list(zip(model_list, r2_list)), columns=['Model Name', 'R2_Score']).sort_values(by=[\"R2_Score\"],ascending=False)"
   ]
  },
  {
   "cell_type": "code",
   "execution_count": 67,
   "metadata": {},
   "outputs": [
    {
     "name": "stdout",
     "output_type": "stream",
     "text": [
      "Learning rate set to 0.063076\n",
      "0:\tlearn: 26.5747150\ttotal: 11.7ms\tremaining: 11.6s\n",
      "1:\tlearn: 25.5042148\ttotal: 33.8ms\tremaining: 16.8s\n",
      "2:\tlearn: 24.4527872\ttotal: 74ms\tremaining: 24.6s\n",
      "3:\tlearn: 23.3939825\ttotal: 86.1ms\tremaining: 21.4s\n",
      "4:\tlearn: 22.4432283\ttotal: 98.4ms\tremaining: 19.6s\n",
      "5:\tlearn: 21.5408290\ttotal: 108ms\tremaining: 18s\n",
      "6:\tlearn: 20.7002012\ttotal: 121ms\tremaining: 17.2s\n",
      "7:\tlearn: 19.9486462\ttotal: 134ms\tremaining: 16.6s\n",
      "8:\tlearn: 19.2235257\ttotal: 144ms\tremaining: 15.9s\n",
      "9:\tlearn: 18.5674838\ttotal: 155ms\tremaining: 15.3s\n",
      "10:\tlearn: 17.8821844\ttotal: 167ms\tremaining: 15s\n",
      "11:\tlearn: 17.2613307\ttotal: 178ms\tremaining: 14.6s\n",
      "12:\tlearn: 16.6603340\ttotal: 188ms\tremaining: 14.2s\n",
      "13:\tlearn: 16.1503759\ttotal: 203ms\tremaining: 14.3s\n",
      "14:\tlearn: 15.6609632\ttotal: 218ms\tremaining: 14.3s\n",
      "15:\tlearn: 15.2380366\ttotal: 230ms\tremaining: 14.1s\n",
      "16:\tlearn: 14.8182560\ttotal: 240ms\tremaining: 13.9s\n",
      "17:\tlearn: 14.4216963\ttotal: 251ms\tremaining: 13.7s\n",
      "18:\tlearn: 14.0311761\ttotal: 263ms\tremaining: 13.6s\n",
      "19:\tlearn: 13.6427144\ttotal: 274ms\tremaining: 13.4s\n",
      "20:\tlearn: 13.2640960\ttotal: 286ms\tremaining: 13.3s\n",
      "21:\tlearn: 12.9461385\ttotal: 297ms\tremaining: 13.2s\n",
      "22:\tlearn: 12.6454502\ttotal: 308ms\tremaining: 13.1s\n",
      "23:\tlearn: 12.3349478\ttotal: 318ms\tremaining: 12.9s\n",
      "24:\tlearn: 12.0498485\ttotal: 330ms\tremaining: 12.9s\n",
      "25:\tlearn: 11.7860384\ttotal: 340ms\tremaining: 12.7s\n",
      "26:\tlearn: 11.5163021\ttotal: 349ms\tremaining: 12.6s\n",
      "27:\tlearn: 11.3121680\ttotal: 361ms\tremaining: 12.5s\n",
      "28:\tlearn: 11.1014501\ttotal: 374ms\tremaining: 12.5s\n",
      "29:\tlearn: 10.9073260\ttotal: 383ms\tremaining: 12.4s\n",
      "30:\tlearn: 10.6884792\ttotal: 395ms\tremaining: 12.4s\n",
      "31:\tlearn: 10.4570686\ttotal: 407ms\tremaining: 12.3s\n",
      "32:\tlearn: 10.2558039\ttotal: 418ms\tremaining: 12.2s\n",
      "33:\tlearn: 10.0555800\ttotal: 430ms\tremaining: 12.2s\n",
      "34:\tlearn: 9.8489950\ttotal: 442ms\tremaining: 12.2s\n",
      "35:\tlearn: 9.6811223\ttotal: 452ms\tremaining: 12.1s\n",
      "36:\tlearn: 9.4905938\ttotal: 466ms\tremaining: 12.1s\n",
      "37:\tlearn: 9.3494971\ttotal: 478ms\tremaining: 12.1s\n",
      "38:\tlearn: 9.2016740\ttotal: 490ms\tremaining: 12.1s\n",
      "39:\tlearn: 9.0319266\ttotal: 500ms\tremaining: 12s\n",
      "40:\tlearn: 8.8817818\ttotal: 510ms\tremaining: 11.9s\n",
      "41:\tlearn: 8.7139126\ttotal: 524ms\tremaining: 11.9s\n",
      "42:\tlearn: 8.5634141\ttotal: 534ms\tremaining: 11.9s\n",
      "43:\tlearn: 8.4373374\ttotal: 543ms\tremaining: 11.8s\n",
      "44:\tlearn: 8.3250132\ttotal: 555ms\tremaining: 11.8s\n",
      "45:\tlearn: 8.2018345\ttotal: 564ms\tremaining: 11.7s\n",
      "46:\tlearn: 8.0782344\ttotal: 574ms\tremaining: 11.6s\n",
      "47:\tlearn: 7.9415566\ttotal: 586ms\tremaining: 11.6s\n",
      "48:\tlearn: 7.8284585\ttotal: 598ms\tremaining: 11.6s\n",
      "49:\tlearn: 7.7198251\ttotal: 609ms\tremaining: 11.6s\n",
      "50:\tlearn: 7.6319229\ttotal: 622ms\tremaining: 11.6s\n",
      "51:\tlearn: 7.5342006\ttotal: 635ms\tremaining: 11.6s\n",
      "52:\tlearn: 7.4479819\ttotal: 644ms\tremaining: 11.5s\n",
      "53:\tlearn: 7.3395881\ttotal: 654ms\tremaining: 11.5s\n",
      "54:\tlearn: 7.2299511\ttotal: 666ms\tremaining: 11.4s\n",
      "55:\tlearn: 7.1502246\ttotal: 675ms\tremaining: 11.4s\n",
      "56:\tlearn: 7.0618765\ttotal: 687ms\tremaining: 11.4s\n",
      "57:\tlearn: 6.9609425\ttotal: 699ms\tremaining: 11.4s\n",
      "58:\tlearn: 6.8912979\ttotal: 710ms\tremaining: 11.3s\n",
      "59:\tlearn: 6.8042887\ttotal: 722ms\tremaining: 11.3s\n",
      "60:\tlearn: 6.7427475\ttotal: 735ms\tremaining: 11.3s\n",
      "61:\tlearn: 6.6747264\ttotal: 753ms\tremaining: 11.4s\n",
      "62:\tlearn: 6.6064902\ttotal: 765ms\tremaining: 11.4s\n",
      "63:\tlearn: 6.5319975\ttotal: 778ms\tremaining: 11.4s\n",
      "64:\tlearn: 6.4611771\ttotal: 790ms\tremaining: 11.4s\n",
      "65:\tlearn: 6.3930142\ttotal: 802ms\tremaining: 11.3s\n",
      "66:\tlearn: 6.3369550\ttotal: 816ms\tremaining: 11.4s\n",
      "67:\tlearn: 6.2563083\ttotal: 831ms\tremaining: 11.4s\n",
      "68:\tlearn: 6.1706403\ttotal: 841ms\tremaining: 11.3s\n",
      "69:\tlearn: 6.0853175\ttotal: 854ms\tremaining: 11.3s\n",
      "70:\tlearn: 6.0112937\ttotal: 867ms\tremaining: 11.3s\n",
      "71:\tlearn: 5.9514272\ttotal: 879ms\tremaining: 11.3s\n",
      "72:\tlearn: 5.9018222\ttotal: 889ms\tremaining: 11.3s\n",
      "73:\tlearn: 5.8375455\ttotal: 898ms\tremaining: 11.2s\n",
      "74:\tlearn: 5.7845907\ttotal: 910ms\tremaining: 11.2s\n",
      "75:\tlearn: 5.7267868\ttotal: 919ms\tremaining: 11.2s\n",
      "76:\tlearn: 5.6580627\ttotal: 929ms\tremaining: 11.1s\n",
      "77:\tlearn: 5.5939470\ttotal: 941ms\tremaining: 11.1s\n",
      "78:\tlearn: 5.5388855\ttotal: 956ms\tremaining: 11.1s\n",
      "79:\tlearn: 5.4917505\ttotal: 965ms\tremaining: 11.1s\n",
      "80:\tlearn: 5.4464222\ttotal: 976ms\tremaining: 11.1s\n",
      "81:\tlearn: 5.4015385\ttotal: 986ms\tremaining: 11s\n",
      "82:\tlearn: 5.3434113\ttotal: 997ms\tremaining: 11s\n",
      "83:\tlearn: 5.2826294\ttotal: 1.01s\tremaining: 11s\n",
      "84:\tlearn: 5.2357083\ttotal: 1.03s\tremaining: 11.1s\n",
      "85:\tlearn: 5.1800810\ttotal: 1.05s\tremaining: 11.1s\n",
      "86:\tlearn: 5.1271655\ttotal: 1.06s\tremaining: 11.2s\n",
      "87:\tlearn: 5.0687943\ttotal: 1.08s\tremaining: 11.2s\n",
      "88:\tlearn: 5.0257558\ttotal: 1.09s\tremaining: 11.2s\n",
      "89:\tlearn: 4.9800860\ttotal: 1.11s\tremaining: 11.2s\n",
      "90:\tlearn: 4.9263780\ttotal: 1.12s\tremaining: 11.2s\n",
      "91:\tlearn: 4.8823029\ttotal: 1.13s\tremaining: 11.2s\n",
      "92:\tlearn: 4.8391304\ttotal: 1.14s\tremaining: 11.1s\n",
      "93:\tlearn: 4.8002608\ttotal: 1.16s\tremaining: 11.1s\n",
      "94:\tlearn: 4.7594079\ttotal: 1.17s\tremaining: 11.1s\n",
      "95:\tlearn: 4.7199211\ttotal: 1.18s\tremaining: 11.1s\n",
      "96:\tlearn: 4.6855068\ttotal: 1.19s\tremaining: 11.1s\n",
      "97:\tlearn: 4.6462212\ttotal: 1.21s\tremaining: 11.1s\n",
      "98:\tlearn: 4.5972189\ttotal: 1.22s\tremaining: 11.1s\n",
      "99:\tlearn: 4.5600668\ttotal: 1.24s\tremaining: 11.1s\n",
      "100:\tlearn: 4.5232043\ttotal: 1.25s\tremaining: 11.2s\n",
      "101:\tlearn: 4.4780174\ttotal: 1.28s\tremaining: 11.3s\n",
      "102:\tlearn: 4.4413936\ttotal: 1.3s\tremaining: 11.3s\n",
      "103:\tlearn: 4.4051795\ttotal: 1.31s\tremaining: 11.3s\n",
      "104:\tlearn: 4.3691873\ttotal: 1.32s\tremaining: 11.3s\n",
      "105:\tlearn: 4.3386486\ttotal: 1.33s\tremaining: 11.2s\n",
      "106:\tlearn: 4.2993954\ttotal: 1.35s\tremaining: 11.2s\n",
      "107:\tlearn: 4.2777529\ttotal: 1.36s\tremaining: 11.2s\n",
      "108:\tlearn: 4.2407109\ttotal: 1.37s\tremaining: 11.2s\n",
      "109:\tlearn: 4.2099994\ttotal: 1.38s\tremaining: 11.2s\n",
      "110:\tlearn: 4.1729975\ttotal: 1.4s\tremaining: 11.2s\n",
      "111:\tlearn: 4.1379167\ttotal: 1.41s\tremaining: 11.2s\n",
      "112:\tlearn: 4.1032183\ttotal: 1.43s\tremaining: 11.2s\n",
      "113:\tlearn: 4.0759402\ttotal: 1.44s\tremaining: 11.2s\n",
      "114:\tlearn: 4.0496705\ttotal: 1.46s\tremaining: 11.2s\n",
      "115:\tlearn: 4.0259439\ttotal: 1.47s\tremaining: 11.2s\n",
      "116:\tlearn: 3.9946078\ttotal: 1.48s\tremaining: 11.2s\n",
      "117:\tlearn: 3.9661453\ttotal: 1.5s\tremaining: 11.2s\n",
      "118:\tlearn: 3.9472426\ttotal: 1.51s\tremaining: 11.2s\n",
      "119:\tlearn: 3.9116678\ttotal: 1.52s\tremaining: 11.2s\n",
      "120:\tlearn: 3.8829080\ttotal: 1.54s\tremaining: 11.2s\n",
      "121:\tlearn: 3.8538057\ttotal: 1.55s\tremaining: 11.1s\n",
      "122:\tlearn: 3.8337821\ttotal: 1.56s\tremaining: 11.1s\n",
      "123:\tlearn: 3.8063576\ttotal: 1.57s\tremaining: 11.1s\n",
      "124:\tlearn: 3.7816118\ttotal: 1.59s\tremaining: 11.1s\n",
      "125:\tlearn: 3.7538722\ttotal: 1.6s\tremaining: 11.1s\n",
      "126:\tlearn: 3.7203478\ttotal: 1.61s\tremaining: 11.1s\n",
      "127:\tlearn: 3.6985157\ttotal: 1.63s\tremaining: 11.1s\n",
      "128:\tlearn: 3.6756573\ttotal: 1.64s\tremaining: 11.1s\n",
      "129:\tlearn: 3.6480517\ttotal: 1.65s\tremaining: 11.1s\n",
      "130:\tlearn: 3.6263532\ttotal: 1.67s\tremaining: 11.1s\n",
      "131:\tlearn: 3.6008510\ttotal: 1.69s\tremaining: 11.1s\n",
      "132:\tlearn: 3.5752630\ttotal: 1.7s\tremaining: 11.1s\n",
      "133:\tlearn: 3.5586352\ttotal: 1.71s\tremaining: 11.1s\n",
      "134:\tlearn: 3.5391922\ttotal: 1.72s\tremaining: 11s\n",
      "135:\tlearn: 3.5149719\ttotal: 1.73s\tremaining: 11s\n",
      "136:\tlearn: 3.4896199\ttotal: 1.75s\tremaining: 11s\n",
      "137:\tlearn: 3.4721096\ttotal: 1.75s\tremaining: 11s\n",
      "138:\tlearn: 3.4525034\ttotal: 1.77s\tremaining: 10.9s\n",
      "139:\tlearn: 3.4306484\ttotal: 1.78s\tremaining: 10.9s\n",
      "140:\tlearn: 3.4155209\ttotal: 1.79s\tremaining: 10.9s\n",
      "141:\tlearn: 3.3955179\ttotal: 1.8s\tremaining: 10.9s\n",
      "142:\tlearn: 3.3784552\ttotal: 1.81s\tremaining: 10.8s\n",
      "143:\tlearn: 3.3580088\ttotal: 1.82s\tremaining: 10.8s\n",
      "144:\tlearn: 3.3434043\ttotal: 1.83s\tremaining: 10.8s\n",
      "145:\tlearn: 3.3261347\ttotal: 1.84s\tremaining: 10.8s\n",
      "146:\tlearn: 3.3040544\ttotal: 1.85s\tremaining: 10.7s\n",
      "147:\tlearn: 3.2820488\ttotal: 1.86s\tremaining: 10.7s\n",
      "148:\tlearn: 3.2654623\ttotal: 1.87s\tremaining: 10.7s\n",
      "149:\tlearn: 3.2466640\ttotal: 1.88s\tremaining: 10.7s\n",
      "150:\tlearn: 3.2292172\ttotal: 1.9s\tremaining: 10.7s\n",
      "151:\tlearn: 3.2125331\ttotal: 1.91s\tremaining: 10.7s\n",
      "152:\tlearn: 3.1947573\ttotal: 1.92s\tremaining: 10.6s\n",
      "153:\tlearn: 3.1808878\ttotal: 1.93s\tremaining: 10.6s\n",
      "154:\tlearn: 3.1660138\ttotal: 1.94s\tremaining: 10.6s\n",
      "155:\tlearn: 3.1505012\ttotal: 1.95s\tremaining: 10.6s\n",
      "156:\tlearn: 3.1264915\ttotal: 1.96s\tremaining: 10.5s\n",
      "157:\tlearn: 3.1126738\ttotal: 1.98s\tremaining: 10.5s\n",
      "158:\tlearn: 3.0899632\ttotal: 1.99s\tremaining: 10.5s\n",
      "159:\tlearn: 3.0736780\ttotal: 2s\tremaining: 10.5s\n",
      "160:\tlearn: 3.0520525\ttotal: 2.01s\tremaining: 10.5s\n",
      "161:\tlearn: 3.0333904\ttotal: 2.02s\tremaining: 10.5s\n",
      "162:\tlearn: 3.0184796\ttotal: 2.03s\tremaining: 10.4s\n",
      "163:\tlearn: 3.0036131\ttotal: 2.04s\tremaining: 10.4s\n",
      "164:\tlearn: 2.9885031\ttotal: 2.06s\tremaining: 10.4s\n",
      "165:\tlearn: 2.9748385\ttotal: 2.07s\tremaining: 10.4s\n",
      "166:\tlearn: 2.9625760\ttotal: 2.08s\tremaining: 10.4s\n",
      "167:\tlearn: 2.9485938\ttotal: 2.09s\tremaining: 10.4s\n",
      "168:\tlearn: 2.9365446\ttotal: 2.12s\tremaining: 10.4s\n",
      "169:\tlearn: 2.9191603\ttotal: 2.13s\tremaining: 10.4s\n",
      "170:\tlearn: 2.9087995\ttotal: 2.14s\tremaining: 10.4s\n",
      "171:\tlearn: 2.8952790\ttotal: 2.15s\tremaining: 10.3s\n",
      "172:\tlearn: 2.8825462\ttotal: 2.16s\tremaining: 10.3s\n",
      "173:\tlearn: 2.8721532\ttotal: 2.17s\tremaining: 10.3s\n",
      "174:\tlearn: 2.8572657\ttotal: 2.18s\tremaining: 10.3s\n",
      "175:\tlearn: 2.8469037\ttotal: 2.19s\tremaining: 10.3s\n",
      "176:\tlearn: 2.8380950\ttotal: 2.2s\tremaining: 10.2s\n",
      "177:\tlearn: 2.8279049\ttotal: 2.21s\tremaining: 10.2s\n",
      "178:\tlearn: 2.8168369\ttotal: 2.22s\tremaining: 10.2s\n",
      "179:\tlearn: 2.7995620\ttotal: 2.23s\tremaining: 10.2s\n",
      "180:\tlearn: 2.7826373\ttotal: 2.24s\tremaining: 10.1s\n",
      "181:\tlearn: 2.7736113\ttotal: 2.25s\tremaining: 10.1s\n",
      "182:\tlearn: 2.7567284\ttotal: 2.27s\tremaining: 10.1s\n",
      "183:\tlearn: 2.7469327\ttotal: 2.27s\tremaining: 10.1s\n",
      "184:\tlearn: 2.7368868\ttotal: 2.28s\tremaining: 10.1s\n",
      "185:\tlearn: 2.7263026\ttotal: 2.3s\tremaining: 10.1s\n",
      "186:\tlearn: 2.7177045\ttotal: 2.31s\tremaining: 10s\n",
      "187:\tlearn: 2.7023972\ttotal: 2.32s\tremaining: 10s\n",
      "188:\tlearn: 2.6888517\ttotal: 2.33s\tremaining: 10s\n",
      "189:\tlearn: 2.6757221\ttotal: 2.34s\tremaining: 9.98s\n",
      "190:\tlearn: 2.6685127\ttotal: 2.35s\tremaining: 9.95s\n",
      "191:\tlearn: 2.6599131\ttotal: 2.36s\tremaining: 9.93s\n",
      "192:\tlearn: 2.6470428\ttotal: 2.37s\tremaining: 9.91s\n",
      "193:\tlearn: 2.6342673\ttotal: 2.38s\tremaining: 9.89s\n",
      "194:\tlearn: 2.6232781\ttotal: 2.39s\tremaining: 9.87s\n",
      "195:\tlearn: 2.6156199\ttotal: 2.4s\tremaining: 9.85s\n",
      "196:\tlearn: 2.6100570\ttotal: 2.41s\tremaining: 9.83s\n",
      "197:\tlearn: 2.6031546\ttotal: 2.42s\tremaining: 9.8s\n",
      "198:\tlearn: 2.5945368\ttotal: 2.43s\tremaining: 9.79s\n",
      "199:\tlearn: 2.5832684\ttotal: 2.44s\tremaining: 9.77s\n",
      "200:\tlearn: 2.5744940\ttotal: 2.46s\tremaining: 9.76s\n",
      "201:\tlearn: 2.5679002\ttotal: 2.47s\tremaining: 9.74s\n",
      "202:\tlearn: 2.5545224\ttotal: 2.48s\tremaining: 9.73s\n",
      "203:\tlearn: 2.5470780\ttotal: 2.49s\tremaining: 9.71s\n",
      "204:\tlearn: 2.5337300\ttotal: 2.5s\tremaining: 9.69s\n",
      "205:\tlearn: 2.5262835\ttotal: 2.51s\tremaining: 9.68s\n",
      "206:\tlearn: 2.5133989\ttotal: 2.52s\tremaining: 9.67s\n",
      "207:\tlearn: 2.5056808\ttotal: 2.54s\tremaining: 9.66s\n",
      "208:\tlearn: 2.4921753\ttotal: 2.54s\tremaining: 9.63s\n",
      "209:\tlearn: 2.4823844\ttotal: 2.56s\tremaining: 9.62s\n",
      "210:\tlearn: 2.4743811\ttotal: 2.57s\tremaining: 9.6s\n",
      "211:\tlearn: 2.4650484\ttotal: 2.58s\tremaining: 9.58s\n",
      "212:\tlearn: 2.4555514\ttotal: 2.59s\tremaining: 9.56s\n",
      "213:\tlearn: 2.4461344\ttotal: 2.6s\tremaining: 9.54s\n",
      "214:\tlearn: 2.4425993\ttotal: 2.61s\tremaining: 9.52s\n",
      "215:\tlearn: 2.4348511\ttotal: 2.62s\tremaining: 9.5s\n",
      "216:\tlearn: 2.4310110\ttotal: 2.63s\tremaining: 9.48s\n",
      "217:\tlearn: 2.4248348\ttotal: 2.64s\tremaining: 9.46s\n",
      "218:\tlearn: 2.4175194\ttotal: 2.65s\tremaining: 9.45s\n",
      "219:\tlearn: 2.4095670\ttotal: 2.66s\tremaining: 9.42s\n",
      "220:\tlearn: 2.3996552\ttotal: 2.67s\tremaining: 9.41s\n",
      "221:\tlearn: 2.3907886\ttotal: 2.68s\tremaining: 9.39s\n",
      "222:\tlearn: 2.3825265\ttotal: 2.69s\tremaining: 9.37s\n",
      "223:\tlearn: 2.3795052\ttotal: 2.7s\tremaining: 9.36s\n",
      "224:\tlearn: 2.3710865\ttotal: 2.71s\tremaining: 9.34s\n",
      "225:\tlearn: 2.3629259\ttotal: 2.72s\tremaining: 9.33s\n",
      "226:\tlearn: 2.3571853\ttotal: 2.74s\tremaining: 9.32s\n",
      "227:\tlearn: 2.3507210\ttotal: 2.75s\tremaining: 9.3s\n",
      "228:\tlearn: 2.3433880\ttotal: 2.76s\tremaining: 9.28s\n",
      "229:\tlearn: 2.3363137\ttotal: 2.77s\tremaining: 9.27s\n",
      "230:\tlearn: 2.3316565\ttotal: 2.78s\tremaining: 9.25s\n",
      "231:\tlearn: 2.3261673\ttotal: 2.79s\tremaining: 9.23s\n",
      "232:\tlearn: 2.3207721\ttotal: 2.8s\tremaining: 9.21s\n",
      "233:\tlearn: 2.3134571\ttotal: 2.81s\tremaining: 9.2s\n",
      "234:\tlearn: 2.3066906\ttotal: 2.82s\tremaining: 9.17s\n",
      "235:\tlearn: 2.3025883\ttotal: 2.83s\tremaining: 9.16s\n",
      "236:\tlearn: 2.2968163\ttotal: 2.84s\tremaining: 9.14s\n",
      "237:\tlearn: 2.2876683\ttotal: 2.85s\tremaining: 9.13s\n",
      "238:\tlearn: 2.2790574\ttotal: 2.86s\tremaining: 9.12s\n",
      "239:\tlearn: 2.2724042\ttotal: 2.87s\tremaining: 9.1s\n",
      "240:\tlearn: 2.2658565\ttotal: 2.88s\tremaining: 9.08s\n",
      "241:\tlearn: 2.2555897\ttotal: 2.89s\tremaining: 9.06s\n",
      "242:\tlearn: 2.2521062\ttotal: 2.9s\tremaining: 9.04s\n",
      "243:\tlearn: 2.2452071\ttotal: 2.91s\tremaining: 9.02s\n",
      "244:\tlearn: 2.2414847\ttotal: 2.92s\tremaining: 9.01s\n",
      "245:\tlearn: 2.2398622\ttotal: 2.93s\tremaining: 8.99s\n",
      "246:\tlearn: 2.2320636\ttotal: 2.95s\tremaining: 8.99s\n",
      "247:\tlearn: 2.2291901\ttotal: 2.96s\tremaining: 8.98s\n",
      "248:\tlearn: 2.2216753\ttotal: 2.98s\tremaining: 8.97s\n",
      "249:\tlearn: 2.2159134\ttotal: 2.99s\tremaining: 8.96s\n",
      "250:\tlearn: 2.2105195\ttotal: 3s\tremaining: 8.95s\n",
      "251:\tlearn: 2.2053052\ttotal: 3.01s\tremaining: 8.94s\n",
      "252:\tlearn: 2.1968220\ttotal: 3.02s\tremaining: 8.93s\n",
      "253:\tlearn: 2.1943268\ttotal: 3.03s\tremaining: 8.91s\n",
      "254:\tlearn: 2.1876371\ttotal: 3.04s\tremaining: 8.9s\n",
      "255:\tlearn: 2.1823498\ttotal: 3.06s\tremaining: 8.89s\n",
      "256:\tlearn: 2.1772740\ttotal: 3.07s\tremaining: 8.87s\n",
      "257:\tlearn: 2.1679352\ttotal: 3.08s\tremaining: 8.86s\n",
      "258:\tlearn: 2.1626380\ttotal: 3.09s\tremaining: 8.84s\n",
      "259:\tlearn: 2.1569311\ttotal: 3.1s\tremaining: 8.83s\n",
      "260:\tlearn: 2.1519090\ttotal: 3.11s\tremaining: 8.81s\n",
      "261:\tlearn: 2.1440837\ttotal: 3.12s\tremaining: 8.8s\n",
      "262:\tlearn: 2.1384285\ttotal: 3.14s\tremaining: 8.8s\n",
      "263:\tlearn: 2.1331915\ttotal: 3.15s\tremaining: 8.79s\n",
      "264:\tlearn: 2.1285511\ttotal: 3.16s\tremaining: 8.77s\n",
      "265:\tlearn: 2.1211334\ttotal: 3.17s\tremaining: 8.76s\n",
      "266:\tlearn: 2.1150299\ttotal: 3.19s\tremaining: 8.76s\n",
      "267:\tlearn: 2.1096048\ttotal: 3.2s\tremaining: 8.75s\n",
      "268:\tlearn: 2.1067988\ttotal: 3.21s\tremaining: 8.74s\n",
      "269:\tlearn: 2.1045755\ttotal: 3.23s\tremaining: 8.72s\n",
      "270:\tlearn: 2.0992465\ttotal: 3.25s\tremaining: 8.73s\n",
      "271:\tlearn: 2.0965167\ttotal: 3.27s\tremaining: 8.76s\n",
      "272:\tlearn: 2.0909982\ttotal: 3.29s\tremaining: 8.76s\n",
      "273:\tlearn: 2.0856484\ttotal: 3.31s\tremaining: 8.76s\n",
      "274:\tlearn: 2.0799385\ttotal: 3.32s\tremaining: 8.75s\n",
      "275:\tlearn: 2.0732352\ttotal: 3.33s\tremaining: 8.73s\n",
      "276:\tlearn: 2.0710203\ttotal: 3.34s\tremaining: 8.71s\n",
      "277:\tlearn: 2.0673225\ttotal: 3.35s\tremaining: 8.71s\n",
      "278:\tlearn: 2.0631971\ttotal: 3.37s\tremaining: 8.7s\n",
      "279:\tlearn: 2.0593055\ttotal: 3.38s\tremaining: 8.69s\n",
      "280:\tlearn: 2.0557405\ttotal: 3.39s\tremaining: 8.68s\n",
      "281:\tlearn: 2.0498774\ttotal: 3.4s\tremaining: 8.67s\n",
      "282:\tlearn: 2.0458480\ttotal: 3.42s\tremaining: 8.66s\n",
      "283:\tlearn: 2.0427676\ttotal: 3.43s\tremaining: 8.65s\n",
      "284:\tlearn: 2.0375202\ttotal: 3.45s\tremaining: 8.65s\n",
      "285:\tlearn: 2.0347257\ttotal: 3.46s\tremaining: 8.64s\n",
      "286:\tlearn: 2.0299035\ttotal: 3.47s\tremaining: 8.62s\n",
      "287:\tlearn: 2.0238571\ttotal: 3.48s\tremaining: 8.6s\n",
      "288:\tlearn: 2.0175166\ttotal: 3.49s\tremaining: 8.59s\n",
      "289:\tlearn: 2.0138204\ttotal: 3.5s\tremaining: 8.57s\n",
      "290:\tlearn: 2.0091680\ttotal: 3.51s\tremaining: 8.56s\n",
      "291:\tlearn: 2.0054548\ttotal: 3.52s\tremaining: 8.54s\n",
      "292:\tlearn: 1.9997191\ttotal: 3.53s\tremaining: 8.52s\n",
      "293:\tlearn: 1.9952719\ttotal: 3.54s\tremaining: 8.51s\n",
      "294:\tlearn: 1.9895135\ttotal: 3.56s\tremaining: 8.5s\n",
      "295:\tlearn: 1.9849311\ttotal: 3.57s\tremaining: 8.49s\n",
      "296:\tlearn: 1.9817782\ttotal: 3.58s\tremaining: 8.47s\n",
      "297:\tlearn: 1.9763768\ttotal: 3.59s\tremaining: 8.46s\n",
      "298:\tlearn: 1.9710625\ttotal: 3.6s\tremaining: 8.44s\n",
      "299:\tlearn: 1.9644726\ttotal: 3.61s\tremaining: 8.42s\n",
      "300:\tlearn: 1.9596291\ttotal: 3.62s\tremaining: 8.41s\n",
      "301:\tlearn: 1.9544105\ttotal: 3.63s\tremaining: 8.39s\n",
      "302:\tlearn: 1.9482359\ttotal: 3.64s\tremaining: 8.38s\n",
      "303:\tlearn: 1.9457190\ttotal: 3.65s\tremaining: 8.37s\n",
      "304:\tlearn: 1.9393236\ttotal: 3.67s\tremaining: 8.36s\n",
      "305:\tlearn: 1.9369344\ttotal: 3.68s\tremaining: 8.34s\n",
      "306:\tlearn: 1.9321123\ttotal: 3.69s\tremaining: 8.32s\n",
      "307:\tlearn: 1.9273633\ttotal: 3.7s\tremaining: 8.31s\n",
      "308:\tlearn: 1.9228926\ttotal: 3.71s\tremaining: 8.29s\n",
      "309:\tlearn: 1.9186724\ttotal: 3.72s\tremaining: 8.28s\n",
      "310:\tlearn: 1.9118465\ttotal: 3.73s\tremaining: 8.26s\n",
      "311:\tlearn: 1.9087162\ttotal: 3.74s\tremaining: 8.24s\n",
      "312:\tlearn: 1.9031251\ttotal: 3.75s\tremaining: 8.23s\n",
      "313:\tlearn: 1.8987272\ttotal: 3.76s\tremaining: 8.21s\n",
      "314:\tlearn: 1.8947174\ttotal: 3.77s\tremaining: 8.2s\n",
      "315:\tlearn: 1.8899174\ttotal: 3.79s\tremaining: 8.19s\n",
      "316:\tlearn: 1.8861140\ttotal: 3.8s\tremaining: 8.18s\n",
      "317:\tlearn: 1.8816799\ttotal: 3.81s\tremaining: 8.16s\n",
      "318:\tlearn: 1.8773687\ttotal: 3.82s\tremaining: 8.15s\n",
      "319:\tlearn: 1.8738799\ttotal: 3.83s\tremaining: 8.13s\n",
      "320:\tlearn: 1.8704597\ttotal: 3.84s\tremaining: 8.12s\n",
      "321:\tlearn: 1.8666790\ttotal: 3.85s\tremaining: 8.1s\n",
      "322:\tlearn: 1.8634930\ttotal: 3.86s\tremaining: 8.09s\n",
      "323:\tlearn: 1.8602778\ttotal: 3.87s\tremaining: 8.07s\n",
      "324:\tlearn: 1.8560898\ttotal: 3.88s\tremaining: 8.06s\n",
      "325:\tlearn: 1.8519446\ttotal: 3.89s\tremaining: 8.04s\n",
      "326:\tlearn: 1.8502725\ttotal: 3.9s\tremaining: 8.03s\n",
      "327:\tlearn: 1.8484207\ttotal: 3.92s\tremaining: 8.02s\n",
      "328:\tlearn: 1.8461273\ttotal: 3.93s\tremaining: 8.01s\n",
      "329:\tlearn: 1.8423736\ttotal: 3.94s\tremaining: 7.99s\n",
      "330:\tlearn: 1.8394562\ttotal: 3.95s\tremaining: 7.98s\n",
      "331:\tlearn: 1.8368845\ttotal: 3.96s\tremaining: 7.97s\n",
      "332:\tlearn: 1.8351861\ttotal: 3.97s\tremaining: 7.96s\n",
      "333:\tlearn: 1.8340808\ttotal: 3.98s\tremaining: 7.94s\n",
      "334:\tlearn: 1.8325338\ttotal: 3.99s\tremaining: 7.93s\n",
      "335:\tlearn: 1.8293097\ttotal: 4s\tremaining: 7.91s\n",
      "336:\tlearn: 1.8273311\ttotal: 4.01s\tremaining: 7.89s\n",
      "337:\tlearn: 1.8250942\ttotal: 4.02s\tremaining: 7.88s\n",
      "338:\tlearn: 1.8201767\ttotal: 4.04s\tremaining: 7.87s\n",
      "339:\tlearn: 1.8167917\ttotal: 4.05s\tremaining: 7.86s\n",
      "340:\tlearn: 1.8144699\ttotal: 4.06s\tremaining: 7.84s\n",
      "341:\tlearn: 1.8101662\ttotal: 4.07s\tremaining: 7.83s\n",
      "342:\tlearn: 1.8050834\ttotal: 4.08s\tremaining: 7.82s\n",
      "343:\tlearn: 1.8032729\ttotal: 4.09s\tremaining: 7.8s\n",
      "344:\tlearn: 1.7982987\ttotal: 4.1s\tremaining: 7.79s\n",
      "345:\tlearn: 1.7957720\ttotal: 4.11s\tremaining: 7.77s\n",
      "346:\tlearn: 1.7923086\ttotal: 4.12s\tremaining: 7.76s\n",
      "347:\tlearn: 1.7885397\ttotal: 4.13s\tremaining: 7.75s\n",
      "348:\tlearn: 1.7870111\ttotal: 4.14s\tremaining: 7.73s\n",
      "349:\tlearn: 1.7833408\ttotal: 4.15s\tremaining: 7.71s\n",
      "350:\tlearn: 1.7798000\ttotal: 4.17s\tremaining: 7.71s\n",
      "351:\tlearn: 1.7757179\ttotal: 4.18s\tremaining: 7.7s\n",
      "352:\tlearn: 1.7738243\ttotal: 4.19s\tremaining: 7.68s\n",
      "353:\tlearn: 1.7705972\ttotal: 4.2s\tremaining: 7.67s\n",
      "354:\tlearn: 1.7667767\ttotal: 4.21s\tremaining: 7.66s\n",
      "355:\tlearn: 1.7638737\ttotal: 4.22s\tremaining: 7.64s\n",
      "356:\tlearn: 1.7615672\ttotal: 4.23s\tremaining: 7.63s\n",
      "357:\tlearn: 1.7573659\ttotal: 4.25s\tremaining: 7.61s\n",
      "358:\tlearn: 1.7552691\ttotal: 4.25s\tremaining: 7.6s\n",
      "359:\tlearn: 1.7516789\ttotal: 4.27s\tremaining: 7.58s\n",
      "360:\tlearn: 1.7487941\ttotal: 4.28s\tremaining: 7.57s\n",
      "361:\tlearn: 1.7465789\ttotal: 4.29s\tremaining: 7.55s\n",
      "362:\tlearn: 1.7436735\ttotal: 4.3s\tremaining: 7.54s\n",
      "363:\tlearn: 1.7406241\ttotal: 4.31s\tremaining: 7.53s\n",
      "364:\tlearn: 1.7384249\ttotal: 4.33s\tremaining: 7.53s\n",
      "365:\tlearn: 1.7343139\ttotal: 4.35s\tremaining: 7.53s\n",
      "366:\tlearn: 1.7309244\ttotal: 4.36s\tremaining: 7.52s\n",
      "367:\tlearn: 1.7276436\ttotal: 4.38s\tremaining: 7.52s\n",
      "368:\tlearn: 1.7243590\ttotal: 4.4s\tremaining: 7.52s\n",
      "369:\tlearn: 1.7221390\ttotal: 4.42s\tremaining: 7.52s\n",
      "370:\tlearn: 1.7183786\ttotal: 4.43s\tremaining: 7.5s\n",
      "371:\tlearn: 1.7153354\ttotal: 4.43s\tremaining: 7.49s\n",
      "372:\tlearn: 1.7139908\ttotal: 4.45s\tremaining: 7.47s\n",
      "373:\tlearn: 1.7118077\ttotal: 4.46s\tremaining: 7.47s\n",
      "374:\tlearn: 1.7092639\ttotal: 4.47s\tremaining: 7.45s\n",
      "375:\tlearn: 1.7071916\ttotal: 4.48s\tremaining: 7.43s\n",
      "376:\tlearn: 1.7032513\ttotal: 4.49s\tremaining: 7.42s\n",
      "377:\tlearn: 1.7010634\ttotal: 4.5s\tremaining: 7.41s\n",
      "378:\tlearn: 1.6973773\ttotal: 4.51s\tremaining: 7.39s\n",
      "379:\tlearn: 1.6929503\ttotal: 4.52s\tremaining: 7.38s\n",
      "380:\tlearn: 1.6904671\ttotal: 4.53s\tremaining: 7.36s\n",
      "381:\tlearn: 1.6860211\ttotal: 4.54s\tremaining: 7.35s\n",
      "382:\tlearn: 1.6826609\ttotal: 4.55s\tremaining: 7.34s\n",
      "383:\tlearn: 1.6798042\ttotal: 4.56s\tremaining: 7.32s\n",
      "384:\tlearn: 1.6778355\ttotal: 4.58s\tremaining: 7.31s\n",
      "385:\tlearn: 1.6741758\ttotal: 4.58s\tremaining: 7.29s\n",
      "386:\tlearn: 1.6724572\ttotal: 4.6s\tremaining: 7.28s\n",
      "387:\tlearn: 1.6692614\ttotal: 4.61s\tremaining: 7.27s\n",
      "388:\tlearn: 1.6661957\ttotal: 4.62s\tremaining: 7.26s\n",
      "389:\tlearn: 1.6636359\ttotal: 4.63s\tremaining: 7.25s\n",
      "390:\tlearn: 1.6612571\ttotal: 4.64s\tremaining: 7.23s\n",
      "391:\tlearn: 1.6579206\ttotal: 4.66s\tremaining: 7.22s\n",
      "392:\tlearn: 1.6564217\ttotal: 4.67s\tremaining: 7.21s\n",
      "393:\tlearn: 1.6530267\ttotal: 4.67s\tremaining: 7.19s\n",
      "394:\tlearn: 1.6507134\ttotal: 4.68s\tremaining: 7.18s\n",
      "395:\tlearn: 1.6495457\ttotal: 4.7s\tremaining: 7.16s\n",
      "396:\tlearn: 1.6479836\ttotal: 4.7s\tremaining: 7.15s\n",
      "397:\tlearn: 1.6455375\ttotal: 4.72s\tremaining: 7.13s\n",
      "398:\tlearn: 1.6441734\ttotal: 4.72s\tremaining: 7.12s\n",
      "399:\tlearn: 1.6416427\ttotal: 4.74s\tremaining: 7.1s\n",
      "400:\tlearn: 1.6392424\ttotal: 4.75s\tremaining: 7.09s\n",
      "401:\tlearn: 1.6368380\ttotal: 4.76s\tremaining: 7.08s\n",
      "402:\tlearn: 1.6347080\ttotal: 4.77s\tremaining: 7.06s\n",
      "403:\tlearn: 1.6321640\ttotal: 4.78s\tremaining: 7.05s\n",
      "404:\tlearn: 1.6298524\ttotal: 4.79s\tremaining: 7.03s\n",
      "405:\tlearn: 1.6280201\ttotal: 4.8s\tremaining: 7.02s\n",
      "406:\tlearn: 1.6256353\ttotal: 4.81s\tremaining: 7.01s\n",
      "407:\tlearn: 1.6224942\ttotal: 4.82s\tremaining: 7s\n",
      "408:\tlearn: 1.6201679\ttotal: 4.83s\tremaining: 6.99s\n",
      "409:\tlearn: 1.6182355\ttotal: 4.85s\tremaining: 6.98s\n",
      "410:\tlearn: 1.6166134\ttotal: 4.86s\tremaining: 6.96s\n",
      "411:\tlearn: 1.6144810\ttotal: 4.87s\tremaining: 6.95s\n",
      "412:\tlearn: 1.6110659\ttotal: 4.88s\tremaining: 6.94s\n",
      "413:\tlearn: 1.6081655\ttotal: 4.89s\tremaining: 6.93s\n",
      "414:\tlearn: 1.6051299\ttotal: 4.9s\tremaining: 6.91s\n",
      "415:\tlearn: 1.6021036\ttotal: 4.91s\tremaining: 6.9s\n",
      "416:\tlearn: 1.5995320\ttotal: 4.92s\tremaining: 6.88s\n",
      "417:\tlearn: 1.5976247\ttotal: 4.93s\tremaining: 6.87s\n",
      "418:\tlearn: 1.5945786\ttotal: 4.94s\tremaining: 6.86s\n",
      "419:\tlearn: 1.5913866\ttotal: 4.96s\tremaining: 6.84s\n",
      "420:\tlearn: 1.5897528\ttotal: 4.96s\tremaining: 6.83s\n",
      "421:\tlearn: 1.5880517\ttotal: 4.98s\tremaining: 6.82s\n",
      "422:\tlearn: 1.5853957\ttotal: 4.99s\tremaining: 6.8s\n",
      "423:\tlearn: 1.5829876\ttotal: 5s\tremaining: 6.79s\n",
      "424:\tlearn: 1.5802916\ttotal: 5.01s\tremaining: 6.78s\n",
      "425:\tlearn: 1.5792386\ttotal: 5.02s\tremaining: 6.77s\n",
      "426:\tlearn: 1.5759218\ttotal: 5.04s\tremaining: 6.76s\n",
      "427:\tlearn: 1.5735639\ttotal: 5.05s\tremaining: 6.74s\n",
      "428:\tlearn: 1.5707695\ttotal: 5.06s\tremaining: 6.73s\n",
      "429:\tlearn: 1.5683555\ttotal: 5.07s\tremaining: 6.72s\n",
      "430:\tlearn: 1.5668055\ttotal: 5.08s\tremaining: 6.7s\n",
      "431:\tlearn: 1.5652069\ttotal: 5.09s\tremaining: 6.69s\n",
      "432:\tlearn: 1.5638537\ttotal: 5.1s\tremaining: 6.68s\n",
      "433:\tlearn: 1.5620758\ttotal: 5.11s\tremaining: 6.66s\n",
      "434:\tlearn: 1.5600365\ttotal: 5.12s\tremaining: 6.65s\n",
      "435:\tlearn: 1.5569577\ttotal: 5.13s\tremaining: 6.64s\n",
      "436:\tlearn: 1.5549495\ttotal: 5.14s\tremaining: 6.62s\n",
      "437:\tlearn: 1.5531871\ttotal: 5.15s\tremaining: 6.61s\n",
      "438:\tlearn: 1.5498125\ttotal: 5.16s\tremaining: 6.59s\n",
      "439:\tlearn: 1.5483839\ttotal: 5.17s\tremaining: 6.58s\n",
      "440:\tlearn: 1.5456883\ttotal: 5.18s\tremaining: 6.57s\n",
      "441:\tlearn: 1.5436094\ttotal: 5.19s\tremaining: 6.55s\n",
      "442:\tlearn: 1.5417370\ttotal: 5.2s\tremaining: 6.54s\n",
      "443:\tlearn: 1.5395302\ttotal: 5.21s\tremaining: 6.53s\n",
      "444:\tlearn: 1.5373173\ttotal: 5.22s\tremaining: 6.51s\n",
      "445:\tlearn: 1.5347230\ttotal: 5.24s\tremaining: 6.5s\n",
      "446:\tlearn: 1.5324414\ttotal: 5.25s\tremaining: 6.5s\n",
      "447:\tlearn: 1.5300688\ttotal: 5.26s\tremaining: 6.49s\n",
      "448:\tlearn: 1.5282293\ttotal: 5.27s\tremaining: 6.47s\n",
      "449:\tlearn: 1.5265444\ttotal: 5.28s\tremaining: 6.46s\n",
      "450:\tlearn: 1.5253127\ttotal: 5.29s\tremaining: 6.44s\n",
      "451:\tlearn: 1.5234440\ttotal: 5.3s\tremaining: 6.43s\n",
      "452:\tlearn: 1.5209059\ttotal: 5.32s\tremaining: 6.42s\n",
      "453:\tlearn: 1.5187458\ttotal: 5.33s\tremaining: 6.41s\n",
      "454:\tlearn: 1.5175352\ttotal: 5.34s\tremaining: 6.39s\n",
      "455:\tlearn: 1.5157649\ttotal: 5.35s\tremaining: 6.38s\n",
      "456:\tlearn: 1.5138241\ttotal: 5.36s\tremaining: 6.37s\n",
      "457:\tlearn: 1.5123900\ttotal: 5.37s\tremaining: 6.35s\n",
      "458:\tlearn: 1.5108845\ttotal: 5.38s\tremaining: 6.34s\n",
      "459:\tlearn: 1.5093187\ttotal: 5.39s\tremaining: 6.33s\n",
      "460:\tlearn: 1.5069194\ttotal: 5.41s\tremaining: 6.32s\n",
      "461:\tlearn: 1.5050859\ttotal: 5.42s\tremaining: 6.31s\n",
      "462:\tlearn: 1.5033072\ttotal: 5.43s\tremaining: 6.29s\n",
      "463:\tlearn: 1.5014794\ttotal: 5.44s\tremaining: 6.29s\n",
      "464:\tlearn: 1.4988092\ttotal: 5.45s\tremaining: 6.28s\n",
      "465:\tlearn: 1.4974366\ttotal: 5.46s\tremaining: 6.26s\n",
      "466:\tlearn: 1.4946671\ttotal: 5.47s\tremaining: 6.25s\n",
      "467:\tlearn: 1.4930395\ttotal: 5.49s\tremaining: 6.24s\n",
      "468:\tlearn: 1.4916136\ttotal: 5.5s\tremaining: 6.22s\n",
      "469:\tlearn: 1.4907795\ttotal: 5.51s\tremaining: 6.21s\n",
      "470:\tlearn: 1.4900008\ttotal: 5.51s\tremaining: 6.19s\n",
      "471:\tlearn: 1.4889779\ttotal: 5.53s\tremaining: 6.18s\n",
      "472:\tlearn: 1.4882505\ttotal: 5.54s\tremaining: 6.17s\n",
      "473:\tlearn: 1.4874218\ttotal: 5.54s\tremaining: 6.15s\n",
      "474:\tlearn: 1.4854606\ttotal: 5.55s\tremaining: 6.14s\n",
      "475:\tlearn: 1.4829303\ttotal: 5.57s\tremaining: 6.13s\n",
      "476:\tlearn: 1.4814304\ttotal: 5.58s\tremaining: 6.11s\n",
      "477:\tlearn: 1.4796277\ttotal: 5.59s\tremaining: 6.1s\n",
      "478:\tlearn: 1.4788647\ttotal: 5.6s\tremaining: 6.09s\n",
      "479:\tlearn: 1.4766782\ttotal: 5.61s\tremaining: 6.07s\n",
      "480:\tlearn: 1.4749906\ttotal: 5.62s\tremaining: 6.06s\n",
      "481:\tlearn: 1.4733819\ttotal: 5.63s\tremaining: 6.05s\n",
      "482:\tlearn: 1.4720930\ttotal: 5.64s\tremaining: 6.04s\n",
      "483:\tlearn: 1.4700587\ttotal: 5.66s\tremaining: 6.03s\n",
      "484:\tlearn: 1.4688459\ttotal: 5.67s\tremaining: 6.02s\n",
      "485:\tlearn: 1.4665075\ttotal: 5.68s\tremaining: 6.01s\n",
      "486:\tlearn: 1.4644701\ttotal: 5.69s\tremaining: 5.99s\n",
      "487:\tlearn: 1.4634049\ttotal: 5.7s\tremaining: 5.98s\n",
      "488:\tlearn: 1.4609015\ttotal: 5.71s\tremaining: 5.97s\n",
      "489:\tlearn: 1.4587386\ttotal: 5.72s\tremaining: 5.95s\n",
      "490:\tlearn: 1.4578089\ttotal: 5.73s\tremaining: 5.94s\n",
      "491:\tlearn: 1.4565059\ttotal: 5.74s\tremaining: 5.93s\n",
      "492:\tlearn: 1.4548298\ttotal: 5.75s\tremaining: 5.91s\n",
      "493:\tlearn: 1.4525799\ttotal: 5.76s\tremaining: 5.9s\n",
      "494:\tlearn: 1.4511430\ttotal: 5.77s\tremaining: 5.89s\n",
      "495:\tlearn: 1.4495717\ttotal: 5.78s\tremaining: 5.88s\n",
      "496:\tlearn: 1.4465431\ttotal: 5.79s\tremaining: 5.87s\n",
      "497:\tlearn: 1.4454877\ttotal: 5.8s\tremaining: 5.85s\n",
      "498:\tlearn: 1.4439432\ttotal: 5.81s\tremaining: 5.84s\n",
      "499:\tlearn: 1.4424551\ttotal: 5.83s\tremaining: 5.83s\n",
      "500:\tlearn: 1.4403022\ttotal: 5.83s\tremaining: 5.81s\n",
      "501:\tlearn: 1.4389085\ttotal: 5.85s\tremaining: 5.8s\n",
      "502:\tlearn: 1.4373282\ttotal: 5.86s\tremaining: 5.79s\n",
      "503:\tlearn: 1.4356583\ttotal: 5.87s\tremaining: 5.78s\n",
      "504:\tlearn: 1.4335765\ttotal: 5.89s\tremaining: 5.77s\n",
      "505:\tlearn: 1.4313036\ttotal: 5.9s\tremaining: 5.76s\n",
      "506:\tlearn: 1.4295014\ttotal: 5.91s\tremaining: 5.75s\n",
      "507:\tlearn: 1.4267989\ttotal: 5.92s\tremaining: 5.73s\n",
      "508:\tlearn: 1.4255192\ttotal: 5.93s\tremaining: 5.72s\n",
      "509:\tlearn: 1.4230698\ttotal: 5.94s\tremaining: 5.71s\n",
      "510:\tlearn: 1.4222925\ttotal: 5.95s\tremaining: 5.7s\n",
      "511:\tlearn: 1.4215522\ttotal: 5.96s\tremaining: 5.68s\n",
      "512:\tlearn: 1.4205275\ttotal: 5.97s\tremaining: 5.67s\n",
      "513:\tlearn: 1.4190289\ttotal: 5.98s\tremaining: 5.66s\n",
      "514:\tlearn: 1.4174346\ttotal: 6s\tremaining: 5.65s\n",
      "515:\tlearn: 1.4149613\ttotal: 6.01s\tremaining: 5.63s\n",
      "516:\tlearn: 1.4130875\ttotal: 6.02s\tremaining: 5.62s\n",
      "517:\tlearn: 1.4107947\ttotal: 6.03s\tremaining: 5.61s\n",
      "518:\tlearn: 1.4088017\ttotal: 6.04s\tremaining: 5.6s\n",
      "519:\tlearn: 1.4066911\ttotal: 6.05s\tremaining: 5.59s\n",
      "520:\tlearn: 1.4054719\ttotal: 6.06s\tremaining: 5.57s\n",
      "521:\tlearn: 1.4036131\ttotal: 6.07s\tremaining: 5.56s\n",
      "522:\tlearn: 1.4022272\ttotal: 6.09s\tremaining: 5.55s\n",
      "523:\tlearn: 1.4004441\ttotal: 6.1s\tremaining: 5.54s\n",
      "524:\tlearn: 1.3992734\ttotal: 6.11s\tremaining: 5.53s\n",
      "525:\tlearn: 1.3983041\ttotal: 6.12s\tremaining: 5.52s\n",
      "526:\tlearn: 1.3972681\ttotal: 6.13s\tremaining: 5.5s\n",
      "527:\tlearn: 1.3952731\ttotal: 6.14s\tremaining: 5.49s\n",
      "528:\tlearn: 1.3936236\ttotal: 6.15s\tremaining: 5.48s\n",
      "529:\tlearn: 1.3915451\ttotal: 6.17s\tremaining: 5.47s\n",
      "530:\tlearn: 1.3893313\ttotal: 6.18s\tremaining: 5.46s\n",
      "531:\tlearn: 1.3876624\ttotal: 6.19s\tremaining: 5.44s\n",
      "532:\tlearn: 1.3850480\ttotal: 6.2s\tremaining: 5.43s\n",
      "533:\tlearn: 1.3840889\ttotal: 6.21s\tremaining: 5.42s\n",
      "534:\tlearn: 1.3831744\ttotal: 6.22s\tremaining: 5.41s\n",
      "535:\tlearn: 1.3815843\ttotal: 6.23s\tremaining: 5.39s\n",
      "536:\tlearn: 1.3795532\ttotal: 6.24s\tremaining: 5.38s\n",
      "537:\tlearn: 1.3787041\ttotal: 6.25s\tremaining: 5.37s\n",
      "538:\tlearn: 1.3776462\ttotal: 6.26s\tremaining: 5.35s\n",
      "539:\tlearn: 1.3758847\ttotal: 6.27s\tremaining: 5.34s\n",
      "540:\tlearn: 1.3747529\ttotal: 6.28s\tremaining: 5.33s\n",
      "541:\tlearn: 1.3729748\ttotal: 6.29s\tremaining: 5.32s\n",
      "542:\tlearn: 1.3713932\ttotal: 6.31s\tremaining: 5.31s\n",
      "543:\tlearn: 1.3698349\ttotal: 6.32s\tremaining: 5.3s\n",
      "544:\tlearn: 1.3690209\ttotal: 6.33s\tremaining: 5.29s\n",
      "545:\tlearn: 1.3677260\ttotal: 6.34s\tremaining: 5.28s\n",
      "546:\tlearn: 1.3659626\ttotal: 6.35s\tremaining: 5.26s\n",
      "547:\tlearn: 1.3644193\ttotal: 6.36s\tremaining: 5.25s\n",
      "548:\tlearn: 1.3632384\ttotal: 6.38s\tremaining: 5.24s\n",
      "549:\tlearn: 1.3618225\ttotal: 6.38s\tremaining: 5.22s\n",
      "550:\tlearn: 1.3605661\ttotal: 6.4s\tremaining: 5.21s\n",
      "551:\tlearn: 1.3595016\ttotal: 6.41s\tremaining: 5.2s\n",
      "552:\tlearn: 1.3581692\ttotal: 6.42s\tremaining: 5.19s\n",
      "553:\tlearn: 1.3564594\ttotal: 6.43s\tremaining: 5.18s\n",
      "554:\tlearn: 1.3551065\ttotal: 6.44s\tremaining: 5.16s\n",
      "555:\tlearn: 1.3538676\ttotal: 6.45s\tremaining: 5.15s\n",
      "556:\tlearn: 1.3517229\ttotal: 6.46s\tremaining: 5.14s\n",
      "557:\tlearn: 1.3498025\ttotal: 6.47s\tremaining: 5.13s\n",
      "558:\tlearn: 1.3486013\ttotal: 6.48s\tremaining: 5.11s\n",
      "559:\tlearn: 1.3472146\ttotal: 6.49s\tremaining: 5.1s\n",
      "560:\tlearn: 1.3461892\ttotal: 6.51s\tremaining: 5.09s\n",
      "561:\tlearn: 1.3445771\ttotal: 6.57s\tremaining: 5.12s\n",
      "562:\tlearn: 1.3436835\ttotal: 6.6s\tremaining: 5.13s\n",
      "563:\tlearn: 1.3429927\ttotal: 6.63s\tremaining: 5.13s\n",
      "564:\tlearn: 1.3403782\ttotal: 6.67s\tremaining: 5.14s\n",
      "565:\tlearn: 1.3390013\ttotal: 6.7s\tremaining: 5.14s\n",
      "566:\tlearn: 1.3372115\ttotal: 6.72s\tremaining: 5.13s\n",
      "567:\tlearn: 1.3363917\ttotal: 6.75s\tremaining: 5.14s\n",
      "568:\tlearn: 1.3351538\ttotal: 6.79s\tremaining: 5.14s\n",
      "569:\tlearn: 1.3337833\ttotal: 6.82s\tremaining: 5.14s\n",
      "570:\tlearn: 1.3321996\ttotal: 6.84s\tremaining: 5.14s\n",
      "571:\tlearn: 1.3310240\ttotal: 6.85s\tremaining: 5.13s\n",
      "572:\tlearn: 1.3293646\ttotal: 6.9s\tremaining: 5.14s\n",
      "573:\tlearn: 1.3280401\ttotal: 6.93s\tremaining: 5.14s\n",
      "574:\tlearn: 1.3271580\ttotal: 6.94s\tremaining: 5.13s\n",
      "575:\tlearn: 1.3254305\ttotal: 6.95s\tremaining: 5.12s\n",
      "576:\tlearn: 1.3239067\ttotal: 6.96s\tremaining: 5.1s\n",
      "577:\tlearn: 1.3229611\ttotal: 6.97s\tremaining: 5.09s\n",
      "578:\tlearn: 1.3219804\ttotal: 6.98s\tremaining: 5.08s\n",
      "579:\tlearn: 1.3210971\ttotal: 6.99s\tremaining: 5.06s\n",
      "580:\tlearn: 1.3202084\ttotal: 7s\tremaining: 5.05s\n",
      "581:\tlearn: 1.3188928\ttotal: 7.02s\tremaining: 5.04s\n",
      "582:\tlearn: 1.3179133\ttotal: 7.03s\tremaining: 5.03s\n",
      "583:\tlearn: 1.3165711\ttotal: 7.04s\tremaining: 5.01s\n",
      "584:\tlearn: 1.3160156\ttotal: 7.05s\tremaining: 5s\n",
      "585:\tlearn: 1.3146327\ttotal: 7.06s\tremaining: 4.99s\n",
      "586:\tlearn: 1.3138781\ttotal: 7.07s\tremaining: 4.97s\n",
      "587:\tlearn: 1.3122179\ttotal: 7.08s\tremaining: 4.96s\n",
      "588:\tlearn: 1.3113738\ttotal: 7.09s\tremaining: 4.95s\n",
      "589:\tlearn: 1.3106846\ttotal: 7.1s\tremaining: 4.93s\n",
      "590:\tlearn: 1.3096325\ttotal: 7.11s\tremaining: 4.92s\n",
      "591:\tlearn: 1.3082237\ttotal: 7.13s\tremaining: 4.91s\n",
      "592:\tlearn: 1.3068419\ttotal: 7.14s\tremaining: 4.9s\n",
      "593:\tlearn: 1.3063532\ttotal: 7.16s\tremaining: 4.89s\n",
      "594:\tlearn: 1.3043883\ttotal: 7.17s\tremaining: 4.88s\n",
      "595:\tlearn: 1.3034818\ttotal: 7.18s\tremaining: 4.87s\n",
      "596:\tlearn: 1.3023999\ttotal: 7.19s\tremaining: 4.85s\n",
      "597:\tlearn: 1.3008351\ttotal: 7.2s\tremaining: 4.84s\n",
      "598:\tlearn: 1.2988826\ttotal: 7.21s\tremaining: 4.83s\n",
      "599:\tlearn: 1.2980732\ttotal: 7.22s\tremaining: 4.81s\n",
      "600:\tlearn: 1.2971108\ttotal: 7.23s\tremaining: 4.8s\n",
      "601:\tlearn: 1.2963467\ttotal: 7.24s\tremaining: 4.79s\n",
      "602:\tlearn: 1.2951439\ttotal: 7.25s\tremaining: 4.77s\n",
      "603:\tlearn: 1.2936182\ttotal: 7.26s\tremaining: 4.76s\n",
      "604:\tlearn: 1.2921495\ttotal: 7.28s\tremaining: 4.75s\n",
      "605:\tlearn: 1.2901707\ttotal: 7.29s\tremaining: 4.74s\n",
      "606:\tlearn: 1.2893495\ttotal: 7.3s\tremaining: 4.72s\n",
      "607:\tlearn: 1.2880306\ttotal: 7.31s\tremaining: 4.71s\n",
      "608:\tlearn: 1.2867316\ttotal: 7.32s\tremaining: 4.7s\n",
      "609:\tlearn: 1.2856702\ttotal: 7.33s\tremaining: 4.69s\n",
      "610:\tlearn: 1.2851399\ttotal: 7.34s\tremaining: 4.67s\n",
      "611:\tlearn: 1.2843834\ttotal: 7.36s\tremaining: 4.66s\n",
      "612:\tlearn: 1.2833323\ttotal: 7.37s\tremaining: 4.65s\n",
      "613:\tlearn: 1.2816291\ttotal: 7.38s\tremaining: 4.64s\n",
      "614:\tlearn: 1.2804668\ttotal: 7.39s\tremaining: 4.63s\n",
      "615:\tlearn: 1.2795127\ttotal: 7.41s\tremaining: 4.62s\n",
      "616:\tlearn: 1.2790112\ttotal: 7.42s\tremaining: 4.6s\n",
      "617:\tlearn: 1.2780881\ttotal: 7.43s\tremaining: 4.59s\n",
      "618:\tlearn: 1.2764918\ttotal: 7.44s\tremaining: 4.58s\n",
      "619:\tlearn: 1.2750460\ttotal: 7.45s\tremaining: 4.57s\n",
      "620:\tlearn: 1.2738326\ttotal: 7.46s\tremaining: 4.55s\n",
      "621:\tlearn: 1.2729676\ttotal: 7.47s\tremaining: 4.54s\n",
      "622:\tlearn: 1.2719366\ttotal: 7.48s\tremaining: 4.53s\n",
      "623:\tlearn: 1.2707132\ttotal: 7.49s\tremaining: 4.51s\n",
      "624:\tlearn: 1.2702309\ttotal: 7.5s\tremaining: 4.5s\n",
      "625:\tlearn: 1.2695242\ttotal: 7.51s\tremaining: 4.49s\n",
      "626:\tlearn: 1.2684349\ttotal: 7.52s\tremaining: 4.47s\n",
      "627:\tlearn: 1.2667060\ttotal: 7.53s\tremaining: 4.46s\n",
      "628:\tlearn: 1.2651486\ttotal: 7.54s\tremaining: 4.45s\n",
      "629:\tlearn: 1.2639864\ttotal: 7.56s\tremaining: 4.44s\n",
      "630:\tlearn: 1.2627773\ttotal: 7.57s\tremaining: 4.42s\n",
      "631:\tlearn: 1.2618284\ttotal: 7.58s\tremaining: 4.41s\n",
      "632:\tlearn: 1.2603502\ttotal: 7.59s\tremaining: 4.4s\n",
      "633:\tlearn: 1.2597005\ttotal: 7.6s\tremaining: 4.39s\n",
      "634:\tlearn: 1.2585881\ttotal: 7.61s\tremaining: 4.38s\n",
      "635:\tlearn: 1.2575701\ttotal: 7.63s\tremaining: 4.36s\n",
      "636:\tlearn: 1.2564492\ttotal: 7.63s\tremaining: 4.35s\n",
      "637:\tlearn: 1.2552185\ttotal: 7.65s\tremaining: 4.34s\n",
      "638:\tlearn: 1.2540601\ttotal: 7.66s\tremaining: 4.33s\n",
      "639:\tlearn: 1.2533187\ttotal: 7.67s\tremaining: 4.32s\n",
      "640:\tlearn: 1.2527376\ttotal: 7.68s\tremaining: 4.3s\n",
      "641:\tlearn: 1.2519967\ttotal: 7.69s\tremaining: 4.29s\n",
      "642:\tlearn: 1.2506776\ttotal: 7.7s\tremaining: 4.28s\n",
      "643:\tlearn: 1.2494815\ttotal: 7.71s\tremaining: 4.26s\n",
      "644:\tlearn: 1.2484629\ttotal: 7.72s\tremaining: 4.25s\n",
      "645:\tlearn: 1.2475044\ttotal: 7.73s\tremaining: 4.24s\n",
      "646:\tlearn: 1.2469290\ttotal: 7.74s\tremaining: 4.22s\n",
      "647:\tlearn: 1.2462077\ttotal: 7.76s\tremaining: 4.21s\n",
      "648:\tlearn: 1.2456721\ttotal: 7.78s\tremaining: 4.21s\n",
      "649:\tlearn: 1.2447741\ttotal: 7.8s\tremaining: 4.2s\n",
      "650:\tlearn: 1.2435374\ttotal: 7.83s\tremaining: 4.2s\n",
      "651:\tlearn: 1.2423625\ttotal: 7.85s\tremaining: 4.19s\n",
      "652:\tlearn: 1.2412930\ttotal: 7.87s\tremaining: 4.18s\n",
      "653:\tlearn: 1.2400480\ttotal: 7.88s\tremaining: 4.17s\n",
      "654:\tlearn: 1.2390456\ttotal: 7.9s\tremaining: 4.16s\n",
      "655:\tlearn: 1.2376165\ttotal: 7.92s\tremaining: 4.15s\n",
      "656:\tlearn: 1.2367050\ttotal: 7.94s\tremaining: 4.14s\n",
      "657:\tlearn: 1.2353747\ttotal: 7.97s\tremaining: 4.14s\n",
      "658:\tlearn: 1.2340235\ttotal: 8s\tremaining: 4.14s\n",
      "659:\tlearn: 1.2332704\ttotal: 8.02s\tremaining: 4.13s\n",
      "660:\tlearn: 1.2326802\ttotal: 8.05s\tremaining: 4.13s\n",
      "661:\tlearn: 1.2316070\ttotal: 8.09s\tremaining: 4.13s\n",
      "662:\tlearn: 1.2303599\ttotal: 8.1s\tremaining: 4.12s\n",
      "663:\tlearn: 1.2290161\ttotal: 8.11s\tremaining: 4.11s\n",
      "664:\tlearn: 1.2279627\ttotal: 8.13s\tremaining: 4.09s\n",
      "665:\tlearn: 1.2271353\ttotal: 8.14s\tremaining: 4.08s\n",
      "666:\tlearn: 1.2263137\ttotal: 8.15s\tremaining: 4.07s\n",
      "667:\tlearn: 1.2255024\ttotal: 8.17s\tremaining: 4.06s\n",
      "668:\tlearn: 1.2241939\ttotal: 8.18s\tremaining: 4.05s\n",
      "669:\tlearn: 1.2226982\ttotal: 8.19s\tremaining: 4.04s\n",
      "670:\tlearn: 1.2216736\ttotal: 8.21s\tremaining: 4.02s\n",
      "671:\tlearn: 1.2204399\ttotal: 8.22s\tremaining: 4.01s\n",
      "672:\tlearn: 1.2190695\ttotal: 8.23s\tremaining: 4s\n",
      "673:\tlearn: 1.2183918\ttotal: 8.24s\tremaining: 3.98s\n",
      "674:\tlearn: 1.2173704\ttotal: 8.25s\tremaining: 3.97s\n",
      "675:\tlearn: 1.2161099\ttotal: 8.26s\tremaining: 3.96s\n",
      "676:\tlearn: 1.2153506\ttotal: 8.27s\tremaining: 3.95s\n",
      "677:\tlearn: 1.2146172\ttotal: 8.29s\tremaining: 3.94s\n",
      "678:\tlearn: 1.2136318\ttotal: 8.29s\tremaining: 3.92s\n",
      "679:\tlearn: 1.2130322\ttotal: 8.3s\tremaining: 3.91s\n",
      "680:\tlearn: 1.2120677\ttotal: 8.32s\tremaining: 3.9s\n",
      "681:\tlearn: 1.2114039\ttotal: 8.33s\tremaining: 3.88s\n",
      "682:\tlearn: 1.2108723\ttotal: 8.34s\tremaining: 3.87s\n",
      "683:\tlearn: 1.2103455\ttotal: 8.35s\tremaining: 3.86s\n",
      "684:\tlearn: 1.2092588\ttotal: 8.36s\tremaining: 3.84s\n",
      "685:\tlearn: 1.2084108\ttotal: 8.37s\tremaining: 3.83s\n",
      "686:\tlearn: 1.2071424\ttotal: 8.38s\tremaining: 3.82s\n",
      "687:\tlearn: 1.2057153\ttotal: 8.4s\tremaining: 3.81s\n",
      "688:\tlearn: 1.2052023\ttotal: 8.41s\tremaining: 3.8s\n",
      "689:\tlearn: 1.2040427\ttotal: 8.42s\tremaining: 3.78s\n",
      "690:\tlearn: 1.2029627\ttotal: 8.43s\tremaining: 3.77s\n",
      "691:\tlearn: 1.2016859\ttotal: 8.44s\tremaining: 3.76s\n",
      "692:\tlearn: 1.2005480\ttotal: 8.45s\tremaining: 3.74s\n",
      "693:\tlearn: 1.1991276\ttotal: 8.47s\tremaining: 3.73s\n",
      "694:\tlearn: 1.1983256\ttotal: 8.48s\tremaining: 3.72s\n",
      "695:\tlearn: 1.1973904\ttotal: 8.49s\tremaining: 3.71s\n",
      "696:\tlearn: 1.1965347\ttotal: 8.5s\tremaining: 3.69s\n",
      "697:\tlearn: 1.1947830\ttotal: 8.51s\tremaining: 3.68s\n",
      "698:\tlearn: 1.1941564\ttotal: 8.52s\tremaining: 3.67s\n",
      "699:\tlearn: 1.1931941\ttotal: 8.53s\tremaining: 3.66s\n",
      "700:\tlearn: 1.1919235\ttotal: 8.54s\tremaining: 3.64s\n",
      "701:\tlearn: 1.1912880\ttotal: 8.55s\tremaining: 3.63s\n",
      "702:\tlearn: 1.1906485\ttotal: 8.56s\tremaining: 3.62s\n",
      "703:\tlearn: 1.1893546\ttotal: 8.57s\tremaining: 3.6s\n",
      "704:\tlearn: 1.1885857\ttotal: 8.58s\tremaining: 3.59s\n",
      "705:\tlearn: 1.1873982\ttotal: 8.59s\tremaining: 3.58s\n",
      "706:\tlearn: 1.1867391\ttotal: 8.61s\tremaining: 3.57s\n",
      "707:\tlearn: 1.1855097\ttotal: 8.62s\tremaining: 3.56s\n",
      "708:\tlearn: 1.1846401\ttotal: 8.63s\tremaining: 3.54s\n",
      "709:\tlearn: 1.1835956\ttotal: 8.64s\tremaining: 3.53s\n",
      "710:\tlearn: 1.1826364\ttotal: 8.65s\tremaining: 3.52s\n",
      "711:\tlearn: 1.1811674\ttotal: 8.66s\tremaining: 3.5s\n",
      "712:\tlearn: 1.1803790\ttotal: 8.67s\tremaining: 3.49s\n",
      "713:\tlearn: 1.1795216\ttotal: 8.68s\tremaining: 3.48s\n",
      "714:\tlearn: 1.1782584\ttotal: 8.69s\tremaining: 3.46s\n",
      "715:\tlearn: 1.1771850\ttotal: 8.7s\tremaining: 3.45s\n",
      "716:\tlearn: 1.1766176\ttotal: 8.71s\tremaining: 3.44s\n",
      "717:\tlearn: 1.1761728\ttotal: 8.72s\tremaining: 3.43s\n",
      "718:\tlearn: 1.1752955\ttotal: 8.74s\tremaining: 3.41s\n",
      "719:\tlearn: 1.1745831\ttotal: 8.75s\tremaining: 3.4s\n",
      "720:\tlearn: 1.1736480\ttotal: 8.76s\tremaining: 3.39s\n",
      "721:\tlearn: 1.1731116\ttotal: 8.77s\tremaining: 3.38s\n",
      "722:\tlearn: 1.1725711\ttotal: 8.78s\tremaining: 3.36s\n",
      "723:\tlearn: 1.1717880\ttotal: 8.79s\tremaining: 3.35s\n",
      "724:\tlearn: 1.1707694\ttotal: 8.8s\tremaining: 3.34s\n",
      "725:\tlearn: 1.1697694\ttotal: 8.82s\tremaining: 3.33s\n",
      "726:\tlearn: 1.1687989\ttotal: 8.83s\tremaining: 3.32s\n",
      "727:\tlearn: 1.1678112\ttotal: 8.84s\tremaining: 3.3s\n",
      "728:\tlearn: 1.1670984\ttotal: 8.85s\tremaining: 3.29s\n",
      "729:\tlearn: 1.1664504\ttotal: 8.86s\tremaining: 3.28s\n",
      "730:\tlearn: 1.1660279\ttotal: 8.88s\tremaining: 3.27s\n",
      "731:\tlearn: 1.1651992\ttotal: 8.89s\tremaining: 3.25s\n",
      "732:\tlearn: 1.1642101\ttotal: 8.9s\tremaining: 3.24s\n",
      "733:\tlearn: 1.1635310\ttotal: 8.91s\tremaining: 3.23s\n",
      "734:\tlearn: 1.1623065\ttotal: 8.92s\tremaining: 3.21s\n",
      "735:\tlearn: 1.1609639\ttotal: 8.93s\tremaining: 3.2s\n",
      "736:\tlearn: 1.1601977\ttotal: 8.95s\tremaining: 3.19s\n",
      "737:\tlearn: 1.1596447\ttotal: 8.97s\tremaining: 3.18s\n",
      "738:\tlearn: 1.1587893\ttotal: 8.99s\tremaining: 3.17s\n",
      "739:\tlearn: 1.1578733\ttotal: 9s\tremaining: 3.16s\n",
      "740:\tlearn: 1.1565637\ttotal: 9.02s\tremaining: 3.15s\n",
      "741:\tlearn: 1.1557503\ttotal: 9.03s\tremaining: 3.14s\n",
      "742:\tlearn: 1.1547353\ttotal: 9.05s\tremaining: 3.13s\n",
      "743:\tlearn: 1.1536968\ttotal: 9.06s\tremaining: 3.12s\n",
      "744:\tlearn: 1.1531741\ttotal: 9.07s\tremaining: 3.1s\n",
      "745:\tlearn: 1.1523336\ttotal: 9.08s\tremaining: 3.09s\n",
      "746:\tlearn: 1.1518293\ttotal: 9.09s\tremaining: 3.08s\n",
      "747:\tlearn: 1.1510066\ttotal: 9.1s\tremaining: 3.06s\n",
      "748:\tlearn: 1.1501686\ttotal: 9.11s\tremaining: 3.05s\n",
      "749:\tlearn: 1.1495361\ttotal: 9.12s\tremaining: 3.04s\n",
      "750:\tlearn: 1.1489948\ttotal: 9.13s\tremaining: 3.03s\n",
      "751:\tlearn: 1.1481226\ttotal: 9.14s\tremaining: 3.02s\n",
      "752:\tlearn: 1.1472430\ttotal: 9.15s\tremaining: 3s\n",
      "753:\tlearn: 1.1462166\ttotal: 9.16s\tremaining: 2.99s\n",
      "754:\tlearn: 1.1455040\ttotal: 9.18s\tremaining: 2.98s\n",
      "755:\tlearn: 1.1445827\ttotal: 9.19s\tremaining: 2.96s\n",
      "756:\tlearn: 1.1441541\ttotal: 9.2s\tremaining: 2.95s\n",
      "757:\tlearn: 1.1434538\ttotal: 9.21s\tremaining: 2.94s\n",
      "758:\tlearn: 1.1422379\ttotal: 9.22s\tremaining: 2.93s\n",
      "759:\tlearn: 1.1413960\ttotal: 9.24s\tremaining: 2.92s\n",
      "760:\tlearn: 1.1405501\ttotal: 9.25s\tremaining: 2.9s\n",
      "761:\tlearn: 1.1397751\ttotal: 9.26s\tremaining: 2.89s\n",
      "762:\tlearn: 1.1392092\ttotal: 9.27s\tremaining: 2.88s\n",
      "763:\tlearn: 1.1384535\ttotal: 9.28s\tremaining: 2.87s\n",
      "764:\tlearn: 1.1377824\ttotal: 9.29s\tremaining: 2.85s\n",
      "765:\tlearn: 1.1374294\ttotal: 9.3s\tremaining: 2.84s\n",
      "766:\tlearn: 1.1366751\ttotal: 9.31s\tremaining: 2.83s\n",
      "767:\tlearn: 1.1360327\ttotal: 9.32s\tremaining: 2.82s\n",
      "768:\tlearn: 1.1349219\ttotal: 9.33s\tremaining: 2.8s\n",
      "769:\tlearn: 1.1337987\ttotal: 9.34s\tremaining: 2.79s\n",
      "770:\tlearn: 1.1331063\ttotal: 9.35s\tremaining: 2.78s\n",
      "771:\tlearn: 1.1321368\ttotal: 9.37s\tremaining: 2.77s\n",
      "772:\tlearn: 1.1307625\ttotal: 9.38s\tremaining: 2.75s\n",
      "773:\tlearn: 1.1301566\ttotal: 9.39s\tremaining: 2.74s\n",
      "774:\tlearn: 1.1290734\ttotal: 9.4s\tremaining: 2.73s\n",
      "775:\tlearn: 1.1287151\ttotal: 9.41s\tremaining: 2.72s\n",
      "776:\tlearn: 1.1277801\ttotal: 9.42s\tremaining: 2.7s\n",
      "777:\tlearn: 1.1269437\ttotal: 9.43s\tremaining: 2.69s\n",
      "778:\tlearn: 1.1263641\ttotal: 9.45s\tremaining: 2.68s\n",
      "779:\tlearn: 1.1260110\ttotal: 9.46s\tremaining: 2.67s\n",
      "780:\tlearn: 1.1252039\ttotal: 9.47s\tremaining: 2.65s\n",
      "781:\tlearn: 1.1245469\ttotal: 9.48s\tremaining: 2.64s\n",
      "782:\tlearn: 1.1238949\ttotal: 9.49s\tremaining: 2.63s\n",
      "783:\tlearn: 1.1230266\ttotal: 9.5s\tremaining: 2.62s\n",
      "784:\tlearn: 1.1221794\ttotal: 9.51s\tremaining: 2.6s\n",
      "785:\tlearn: 1.1214549\ttotal: 9.52s\tremaining: 2.59s\n",
      "786:\tlearn: 1.1207033\ttotal: 9.53s\tremaining: 2.58s\n",
      "787:\tlearn: 1.1196982\ttotal: 9.54s\tremaining: 2.57s\n",
      "788:\tlearn: 1.1192358\ttotal: 9.55s\tremaining: 2.56s\n",
      "789:\tlearn: 1.1181864\ttotal: 9.56s\tremaining: 2.54s\n",
      "790:\tlearn: 1.1172229\ttotal: 9.58s\tremaining: 2.53s\n",
      "791:\tlearn: 1.1163178\ttotal: 9.59s\tremaining: 2.52s\n",
      "792:\tlearn: 1.1157249\ttotal: 9.6s\tremaining: 2.5s\n",
      "793:\tlearn: 1.1147407\ttotal: 9.61s\tremaining: 2.49s\n",
      "794:\tlearn: 1.1140109\ttotal: 9.62s\tremaining: 2.48s\n",
      "795:\tlearn: 1.1131769\ttotal: 9.63s\tremaining: 2.47s\n",
      "796:\tlearn: 1.1125008\ttotal: 9.64s\tremaining: 2.46s\n",
      "797:\tlearn: 1.1113683\ttotal: 9.66s\tremaining: 2.44s\n",
      "798:\tlearn: 1.1106360\ttotal: 9.67s\tremaining: 2.43s\n",
      "799:\tlearn: 1.1100678\ttotal: 9.68s\tremaining: 2.42s\n",
      "800:\tlearn: 1.1088386\ttotal: 9.69s\tremaining: 2.41s\n",
      "801:\tlearn: 1.1079468\ttotal: 9.7s\tremaining: 2.4s\n",
      "802:\tlearn: 1.1073212\ttotal: 9.72s\tremaining: 2.38s\n",
      "803:\tlearn: 1.1063395\ttotal: 9.73s\tremaining: 2.37s\n",
      "804:\tlearn: 1.1056757\ttotal: 9.74s\tremaining: 2.36s\n",
      "805:\tlearn: 1.1048317\ttotal: 9.75s\tremaining: 2.35s\n",
      "806:\tlearn: 1.1040759\ttotal: 9.76s\tremaining: 2.33s\n",
      "807:\tlearn: 1.1034328\ttotal: 9.77s\tremaining: 2.32s\n",
      "808:\tlearn: 1.1026554\ttotal: 9.78s\tremaining: 2.31s\n",
      "809:\tlearn: 1.1020500\ttotal: 9.79s\tremaining: 2.3s\n",
      "810:\tlearn: 1.1012501\ttotal: 9.8s\tremaining: 2.28s\n",
      "811:\tlearn: 1.1006178\ttotal: 9.81s\tremaining: 2.27s\n",
      "812:\tlearn: 1.1000373\ttotal: 9.82s\tremaining: 2.26s\n",
      "813:\tlearn: 1.0993670\ttotal: 9.83s\tremaining: 2.25s\n",
      "814:\tlearn: 1.0982280\ttotal: 9.84s\tremaining: 2.23s\n",
      "815:\tlearn: 1.0974509\ttotal: 9.86s\tremaining: 2.22s\n",
      "816:\tlearn: 1.0962457\ttotal: 9.87s\tremaining: 2.21s\n",
      "817:\tlearn: 1.0955967\ttotal: 9.88s\tremaining: 2.2s\n",
      "818:\tlearn: 1.0945325\ttotal: 9.89s\tremaining: 2.19s\n",
      "819:\tlearn: 1.0938716\ttotal: 9.9s\tremaining: 2.17s\n",
      "820:\tlearn: 1.0935366\ttotal: 9.91s\tremaining: 2.16s\n",
      "821:\tlearn: 1.0931341\ttotal: 9.92s\tremaining: 2.15s\n",
      "822:\tlearn: 1.0925238\ttotal: 9.93s\tremaining: 2.14s\n",
      "823:\tlearn: 1.0920236\ttotal: 9.95s\tremaining: 2.12s\n",
      "824:\tlearn: 1.0916763\ttotal: 9.95s\tremaining: 2.11s\n",
      "825:\tlearn: 1.0912800\ttotal: 9.96s\tremaining: 2.1s\n",
      "826:\tlearn: 1.0903888\ttotal: 9.97s\tremaining: 2.09s\n",
      "827:\tlearn: 1.0898810\ttotal: 9.98s\tremaining: 2.07s\n",
      "828:\tlearn: 1.0890769\ttotal: 10s\tremaining: 2.06s\n",
      "829:\tlearn: 1.0886285\ttotal: 10s\tremaining: 2.05s\n",
      "830:\tlearn: 1.0875127\ttotal: 10s\tremaining: 2.04s\n",
      "831:\tlearn: 1.0867642\ttotal: 10s\tremaining: 2.02s\n",
      "832:\tlearn: 1.0861225\ttotal: 10s\tremaining: 2.01s\n",
      "833:\tlearn: 1.0850801\ttotal: 10s\tremaining: 2s\n",
      "834:\tlearn: 1.0840515\ttotal: 10.1s\tremaining: 1.99s\n",
      "835:\tlearn: 1.0833799\ttotal: 10.1s\tremaining: 1.98s\n",
      "836:\tlearn: 1.0824529\ttotal: 10.1s\tremaining: 1.96s\n",
      "837:\tlearn: 1.0817812\ttotal: 10.1s\tremaining: 1.95s\n",
      "838:\tlearn: 1.0811427\ttotal: 10.1s\tremaining: 1.94s\n",
      "839:\tlearn: 1.0807098\ttotal: 10.1s\tremaining: 1.93s\n",
      "840:\tlearn: 1.0795608\ttotal: 10.1s\tremaining: 1.91s\n",
      "841:\tlearn: 1.0789164\ttotal: 10.1s\tremaining: 1.9s\n",
      "842:\tlearn: 1.0785058\ttotal: 10.1s\tremaining: 1.89s\n",
      "843:\tlearn: 1.0780315\ttotal: 10.2s\tremaining: 1.88s\n",
      "844:\tlearn: 1.0773801\ttotal: 10.2s\tremaining: 1.86s\n",
      "845:\tlearn: 1.0765554\ttotal: 10.2s\tremaining: 1.85s\n",
      "846:\tlearn: 1.0760946\ttotal: 10.2s\tremaining: 1.84s\n",
      "847:\tlearn: 1.0754299\ttotal: 10.2s\tremaining: 1.83s\n",
      "848:\tlearn: 1.0749448\ttotal: 10.2s\tremaining: 1.82s\n",
      "849:\tlearn: 1.0738307\ttotal: 10.2s\tremaining: 1.8s\n",
      "850:\tlearn: 1.0732095\ttotal: 10.2s\tremaining: 1.79s\n",
      "851:\tlearn: 1.0725897\ttotal: 10.2s\tremaining: 1.78s\n",
      "852:\tlearn: 1.0717127\ttotal: 10.3s\tremaining: 1.77s\n",
      "853:\tlearn: 1.0709232\ttotal: 10.3s\tremaining: 1.76s\n",
      "854:\tlearn: 1.0704477\ttotal: 10.3s\tremaining: 1.74s\n",
      "855:\tlearn: 1.0697593\ttotal: 10.3s\tremaining: 1.73s\n",
      "856:\tlearn: 1.0690280\ttotal: 10.3s\tremaining: 1.72s\n",
      "857:\tlearn: 1.0686038\ttotal: 10.3s\tremaining: 1.71s\n",
      "858:\tlearn: 1.0679755\ttotal: 10.3s\tremaining: 1.69s\n",
      "859:\tlearn: 1.0676946\ttotal: 10.3s\tremaining: 1.68s\n",
      "860:\tlearn: 1.0671086\ttotal: 10.3s\tremaining: 1.67s\n",
      "861:\tlearn: 1.0666171\ttotal: 10.4s\tremaining: 1.66s\n",
      "862:\tlearn: 1.0663358\ttotal: 10.4s\tremaining: 1.65s\n",
      "863:\tlearn: 1.0658342\ttotal: 10.4s\tremaining: 1.63s\n",
      "864:\tlearn: 1.0650605\ttotal: 10.4s\tremaining: 1.62s\n",
      "865:\tlearn: 1.0641917\ttotal: 10.4s\tremaining: 1.61s\n",
      "866:\tlearn: 1.0635835\ttotal: 10.4s\tremaining: 1.6s\n",
      "867:\tlearn: 1.0631877\ttotal: 10.4s\tremaining: 1.58s\n",
      "868:\tlearn: 1.0624487\ttotal: 10.4s\tremaining: 1.57s\n",
      "869:\tlearn: 1.0622418\ttotal: 10.4s\tremaining: 1.56s\n",
      "870:\tlearn: 1.0617405\ttotal: 10.4s\tremaining: 1.55s\n",
      "871:\tlearn: 1.0611235\ttotal: 10.5s\tremaining: 1.53s\n",
      "872:\tlearn: 1.0607259\ttotal: 10.5s\tremaining: 1.52s\n",
      "873:\tlearn: 1.0598496\ttotal: 10.5s\tremaining: 1.51s\n",
      "874:\tlearn: 1.0588332\ttotal: 10.5s\tremaining: 1.5s\n",
      "875:\tlearn: 1.0583617\ttotal: 10.5s\tremaining: 1.49s\n",
      "876:\tlearn: 1.0580516\ttotal: 10.5s\tremaining: 1.47s\n",
      "877:\tlearn: 1.0574797\ttotal: 10.5s\tremaining: 1.46s\n",
      "878:\tlearn: 1.0567538\ttotal: 10.5s\tremaining: 1.45s\n",
      "879:\tlearn: 1.0561235\ttotal: 10.5s\tremaining: 1.44s\n",
      "880:\tlearn: 1.0557032\ttotal: 10.6s\tremaining: 1.43s\n",
      "881:\tlearn: 1.0550095\ttotal: 10.6s\tremaining: 1.41s\n",
      "882:\tlearn: 1.0541762\ttotal: 10.6s\tremaining: 1.4s\n",
      "883:\tlearn: 1.0530399\ttotal: 10.6s\tremaining: 1.39s\n",
      "884:\tlearn: 1.0522569\ttotal: 10.6s\tremaining: 1.38s\n",
      "885:\tlearn: 1.0515953\ttotal: 10.6s\tremaining: 1.36s\n",
      "886:\tlearn: 1.0509557\ttotal: 10.6s\tremaining: 1.35s\n",
      "887:\tlearn: 1.0501313\ttotal: 10.6s\tremaining: 1.34s\n",
      "888:\tlearn: 1.0494427\ttotal: 10.6s\tremaining: 1.33s\n",
      "889:\tlearn: 1.0487811\ttotal: 10.7s\tremaining: 1.32s\n",
      "890:\tlearn: 1.0479579\ttotal: 10.7s\tremaining: 1.3s\n",
      "891:\tlearn: 1.0476060\ttotal: 10.7s\tremaining: 1.29s\n",
      "892:\tlearn: 1.0471316\ttotal: 10.7s\tremaining: 1.28s\n",
      "893:\tlearn: 1.0465802\ttotal: 10.7s\tremaining: 1.27s\n",
      "894:\tlearn: 1.0460231\ttotal: 10.7s\tremaining: 1.26s\n",
      "895:\tlearn: 1.0454784\ttotal: 10.7s\tremaining: 1.24s\n",
      "896:\tlearn: 1.0447019\ttotal: 10.7s\tremaining: 1.23s\n",
      "897:\tlearn: 1.0441325\ttotal: 10.7s\tremaining: 1.22s\n",
      "898:\tlearn: 1.0432717\ttotal: 10.8s\tremaining: 1.21s\n",
      "899:\tlearn: 1.0425075\ttotal: 10.8s\tremaining: 1.2s\n",
      "900:\tlearn: 1.0416880\ttotal: 10.8s\tremaining: 1.18s\n",
      "901:\tlearn: 1.0411534\ttotal: 10.8s\tremaining: 1.17s\n",
      "902:\tlearn: 1.0406231\ttotal: 10.8s\tremaining: 1.16s\n",
      "903:\tlearn: 1.0401761\ttotal: 10.8s\tremaining: 1.15s\n",
      "904:\tlearn: 1.0394365\ttotal: 10.8s\tremaining: 1.14s\n",
      "905:\tlearn: 1.0389856\ttotal: 10.8s\tremaining: 1.12s\n",
      "906:\tlearn: 1.0382641\ttotal: 10.8s\tremaining: 1.11s\n",
      "907:\tlearn: 1.0371978\ttotal: 10.9s\tremaining: 1.1s\n",
      "908:\tlearn: 1.0369375\ttotal: 10.9s\tremaining: 1.09s\n",
      "909:\tlearn: 1.0362405\ttotal: 10.9s\tremaining: 1.07s\n",
      "910:\tlearn: 1.0355373\ttotal: 10.9s\tremaining: 1.06s\n",
      "911:\tlearn: 1.0346737\ttotal: 10.9s\tremaining: 1.05s\n",
      "912:\tlearn: 1.0340518\ttotal: 10.9s\tremaining: 1.04s\n",
      "913:\tlearn: 1.0333637\ttotal: 10.9s\tremaining: 1.03s\n",
      "914:\tlearn: 1.0328386\ttotal: 10.9s\tremaining: 1.01s\n",
      "915:\tlearn: 1.0321483\ttotal: 10.9s\tremaining: 1s\n",
      "916:\tlearn: 1.0316564\ttotal: 11s\tremaining: 991ms\n",
      "917:\tlearn: 1.0308104\ttotal: 11s\tremaining: 979ms\n",
      "918:\tlearn: 1.0303647\ttotal: 11s\tremaining: 967ms\n",
      "919:\tlearn: 1.0299327\ttotal: 11s\tremaining: 955ms\n",
      "920:\tlearn: 1.0294234\ttotal: 11s\tremaining: 943ms\n",
      "921:\tlearn: 1.0288006\ttotal: 11s\tremaining: 931ms\n",
      "922:\tlearn: 1.0282937\ttotal: 11s\tremaining: 919ms\n",
      "923:\tlearn: 1.0277826\ttotal: 11s\tremaining: 907ms\n",
      "924:\tlearn: 1.0272201\ttotal: 11s\tremaining: 895ms\n",
      "925:\tlearn: 1.0267891\ttotal: 11s\tremaining: 883ms\n",
      "926:\tlearn: 1.0262493\ttotal: 11.1s\tremaining: 871ms\n",
      "927:\tlearn: 1.0258703\ttotal: 11.1s\tremaining: 859ms\n",
      "928:\tlearn: 1.0251378\ttotal: 11.1s\tremaining: 847ms\n",
      "929:\tlearn: 1.0245715\ttotal: 11.1s\tremaining: 835ms\n",
      "930:\tlearn: 1.0238253\ttotal: 11.1s\tremaining: 823ms\n",
      "931:\tlearn: 1.0233504\ttotal: 11.1s\tremaining: 811ms\n",
      "932:\tlearn: 1.0226358\ttotal: 11.1s\tremaining: 799ms\n",
      "933:\tlearn: 1.0220365\ttotal: 11.1s\tremaining: 787ms\n",
      "934:\tlearn: 1.0213527\ttotal: 11.1s\tremaining: 775ms\n",
      "935:\tlearn: 1.0206955\ttotal: 11.2s\tremaining: 763ms\n",
      "936:\tlearn: 1.0201864\ttotal: 11.2s\tremaining: 751ms\n",
      "937:\tlearn: 1.0193540\ttotal: 11.2s\tremaining: 739ms\n",
      "938:\tlearn: 1.0188689\ttotal: 11.2s\tremaining: 727ms\n",
      "939:\tlearn: 1.0183080\ttotal: 11.2s\tremaining: 715ms\n",
      "940:\tlearn: 1.0178485\ttotal: 11.2s\tremaining: 703ms\n",
      "941:\tlearn: 1.0175122\ttotal: 11.2s\tremaining: 691ms\n",
      "942:\tlearn: 1.0166135\ttotal: 11.2s\tremaining: 679ms\n",
      "943:\tlearn: 1.0160193\ttotal: 11.2s\tremaining: 667ms\n",
      "944:\tlearn: 1.0151910\ttotal: 11.3s\tremaining: 655ms\n",
      "945:\tlearn: 1.0144290\ttotal: 11.3s\tremaining: 643ms\n",
      "946:\tlearn: 1.0138582\ttotal: 11.3s\tremaining: 631ms\n",
      "947:\tlearn: 1.0133863\ttotal: 11.3s\tremaining: 619ms\n",
      "948:\tlearn: 1.0129187\ttotal: 11.3s\tremaining: 607ms\n",
      "949:\tlearn: 1.0123294\ttotal: 11.3s\tremaining: 595ms\n",
      "950:\tlearn: 1.0116634\ttotal: 11.3s\tremaining: 583ms\n",
      "951:\tlearn: 1.0112499\ttotal: 11.3s\tremaining: 571ms\n",
      "952:\tlearn: 1.0107358\ttotal: 11.3s\tremaining: 559ms\n",
      "953:\tlearn: 1.0099831\ttotal: 11.4s\tremaining: 547ms\n",
      "954:\tlearn: 1.0092055\ttotal: 11.4s\tremaining: 536ms\n",
      "955:\tlearn: 1.0087256\ttotal: 11.4s\tremaining: 524ms\n",
      "956:\tlearn: 1.0084121\ttotal: 11.4s\tremaining: 512ms\n",
      "957:\tlearn: 1.0078498\ttotal: 11.4s\tremaining: 500ms\n",
      "958:\tlearn: 1.0074621\ttotal: 11.4s\tremaining: 488ms\n",
      "959:\tlearn: 1.0070370\ttotal: 11.4s\tremaining: 476ms\n",
      "960:\tlearn: 1.0063902\ttotal: 11.4s\tremaining: 464ms\n",
      "961:\tlearn: 1.0058104\ttotal: 11.5s\tremaining: 452ms\n",
      "962:\tlearn: 1.0053910\ttotal: 11.5s\tremaining: 440ms\n",
      "963:\tlearn: 1.0048613\ttotal: 11.5s\tremaining: 428ms\n",
      "964:\tlearn: 1.0039549\ttotal: 11.5s\tremaining: 417ms\n",
      "965:\tlearn: 1.0032528\ttotal: 11.5s\tremaining: 405ms\n",
      "966:\tlearn: 1.0027336\ttotal: 11.5s\tremaining: 393ms\n",
      "967:\tlearn: 1.0022022\ttotal: 11.5s\tremaining: 381ms\n",
      "968:\tlearn: 1.0016654\ttotal: 11.5s\tremaining: 369ms\n",
      "969:\tlearn: 1.0008022\ttotal: 11.5s\tremaining: 357ms\n",
      "970:\tlearn: 1.0002023\ttotal: 11.5s\tremaining: 345ms\n",
      "971:\tlearn: 0.9997663\ttotal: 11.6s\tremaining: 333ms\n",
      "972:\tlearn: 0.9992368\ttotal: 11.6s\tremaining: 321ms\n",
      "973:\tlearn: 0.9982759\ttotal: 11.6s\tremaining: 309ms\n",
      "974:\tlearn: 0.9978440\ttotal: 11.6s\tremaining: 297ms\n",
      "975:\tlearn: 0.9974764\ttotal: 11.6s\tremaining: 285ms\n",
      "976:\tlearn: 0.9970407\ttotal: 11.6s\tremaining: 273ms\n",
      "977:\tlearn: 0.9966595\ttotal: 11.6s\tremaining: 262ms\n",
      "978:\tlearn: 0.9960470\ttotal: 11.6s\tremaining: 250ms\n",
      "979:\tlearn: 0.9955458\ttotal: 11.6s\tremaining: 238ms\n",
      "980:\tlearn: 0.9948309\ttotal: 11.7s\tremaining: 226ms\n",
      "981:\tlearn: 0.9940512\ttotal: 11.7s\tremaining: 214ms\n",
      "982:\tlearn: 0.9934653\ttotal: 11.7s\tremaining: 202ms\n",
      "983:\tlearn: 0.9931281\ttotal: 11.7s\tremaining: 190ms\n",
      "984:\tlearn: 0.9925735\ttotal: 11.7s\tremaining: 178ms\n",
      "985:\tlearn: 0.9920599\ttotal: 11.7s\tremaining: 166ms\n",
      "986:\tlearn: 0.9913355\ttotal: 11.7s\tremaining: 154ms\n",
      "987:\tlearn: 0.9909243\ttotal: 11.7s\tremaining: 143ms\n",
      "988:\tlearn: 0.9905303\ttotal: 11.8s\tremaining: 131ms\n",
      "989:\tlearn: 0.9900480\ttotal: 11.8s\tremaining: 119ms\n",
      "990:\tlearn: 0.9894050\ttotal: 11.8s\tremaining: 107ms\n",
      "991:\tlearn: 0.9887614\ttotal: 11.8s\tremaining: 95ms\n",
      "992:\tlearn: 0.9882815\ttotal: 11.8s\tremaining: 83.1ms\n",
      "993:\tlearn: 0.9877065\ttotal: 11.8s\tremaining: 71.3ms\n",
      "994:\tlearn: 0.9873852\ttotal: 11.8s\tremaining: 59.4ms\n",
      "995:\tlearn: 0.9866862\ttotal: 11.8s\tremaining: 47.5ms\n",
      "996:\tlearn: 0.9859308\ttotal: 11.8s\tremaining: 35.6ms\n",
      "997:\tlearn: 0.9854612\ttotal: 11.8s\tremaining: 23.7ms\n",
      "998:\tlearn: 0.9851006\ttotal: 11.9s\tremaining: 11.9ms\n",
      "999:\tlearn: 0.9844799\ttotal: 11.9s\tremaining: 0us\n",
      " Accuracy of the model is 99.58\n"
     ]
    }
   ],
   "source": [
    "cat_model = CatBoostRegressor()\n",
    "cat_model = cat_model.fit(X_train, y_train)\n",
    "y_pred = cat_model.predict(X_test)\n",
    "score = r2_score(y_test, y_pred)*100\n",
    "print(\" Accuracy of the model is %.2f\" %score)"
   ]
  },
  {
   "attachments": {},
   "cell_type": "markdown",
   "metadata": {},
   "source": [
    "## Plot y_pred and y_test"
   ]
  },
  {
   "cell_type": "code",
   "execution_count": 68,
   "metadata": {},
   "outputs": [
    {
     "data": {
      "text/plain": [
       "Text(0, 0.5, 'Predicted')"
      ]
     },
     "execution_count": 68,
     "metadata": {},
     "output_type": "execute_result"
    },
    {
     "data": {
      "image/png": "[encoded data removed]",
      "text/plain": [
       "<Figure size 640x480 with 1 Axes>"
      ]
     },
     "metadata": {},
     "output_type": "display_data"
    }
   ],
   "source": [
    "plt.scatter(y_test,y_pred)\n",
    "plt.xlabel('Actual')\n",
    "plt.ylabel('Predicted')"
   ]
  },
  {
   "cell_type": "code",
   "execution_count": 69,
   "metadata": {},
   "outputs": [
    {
     "data": {
      "image/png": "[encoded data removed]",
      "text/plain": [
       "<Figure size 640x480 with 1 Axes>"
      ]
     },
     "metadata": {},
     "output_type": "display_data"
    }
   ],
   "source": [
    "sns.regplot(x=y_test,y=y_pred,ci=None,color ='red');"
   ]
  },
  {
   "attachments": {},
   "cell_type": "markdown",
   "metadata": {},
   "source": [
    "## Difference between Actual and Predicted Values"
   ]
  },
  {
   "cell_type": "code",
   "execution_count": 70,
   "metadata": {},
   "outputs": [
    {
     "data": {
      "text/html": [
       "<div>\n",
       "<style scoped>\n",
       "    .dataframe tbody tr th:only-of-type {\n",
       "        vertical-align: middle;\n",
       "    }\n",
       "\n",
       "    .dataframe tbody tr th {\n",
       "        vertical-align: top;\n",
       "    }\n",
       "\n",
       "    .dataframe thead th {\n",
       "        text-align: right;\n",
       "    }\n",
       "</style>\n",
       "<table border=\"1\" class=\"dataframe\">\n",
       "  <thead>\n",
       "    <tr style=\"text-align: right;\">\n",
       "      <th></th>\n",
       "      <th>Actual Value</th>\n",
       "      <th>Predicted Value</th>\n",
       "      <th>Difference</th>\n",
       "    </tr>\n",
       "  </thead>\n",
       "  <tbody>\n",
       "    <tr>\n",
       "      <th>171503</th>\n",
       "      <td>154</td>\n",
       "      <td>153.047673</td>\n",
       "      <td>0.952327</td>\n",
       "    </tr>\n",
       "    <tr>\n",
       "      <th>88730</th>\n",
       "      <td>175</td>\n",
       "      <td>175.396010</td>\n",
       "      <td>-0.396010</td>\n",
       "    </tr>\n",
       "    <tr>\n",
       "      <th>211930</th>\n",
       "      <td>167</td>\n",
       "      <td>168.011982</td>\n",
       "      <td>-1.011982</td>\n",
       "    </tr>\n",
       "    <tr>\n",
       "      <th>71707</th>\n",
       "      <td>210</td>\n",
       "      <td>209.284892</td>\n",
       "      <td>0.715108</td>\n",
       "    </tr>\n",
       "    <tr>\n",
       "      <th>134205</th>\n",
       "      <td>155</td>\n",
       "      <td>153.664794</td>\n",
       "      <td>1.335206</td>\n",
       "    </tr>\n",
       "    <tr>\n",
       "      <th>...</th>\n",
       "      <td>...</td>\n",
       "      <td>...</td>\n",
       "      <td>...</td>\n",
       "    </tr>\n",
       "    <tr>\n",
       "      <th>102146</th>\n",
       "      <td>158</td>\n",
       "      <td>157.377870</td>\n",
       "      <td>0.622130</td>\n",
       "    </tr>\n",
       "    <tr>\n",
       "      <th>46253</th>\n",
       "      <td>198</td>\n",
       "      <td>196.793602</td>\n",
       "      <td>1.206398</td>\n",
       "    </tr>\n",
       "    <tr>\n",
       "      <th>43818</th>\n",
       "      <td>169</td>\n",
       "      <td>168.999801</td>\n",
       "      <td>0.000199</td>\n",
       "    </tr>\n",
       "    <tr>\n",
       "      <th>69345</th>\n",
       "      <td>159</td>\n",
       "      <td>158.998541</td>\n",
       "      <td>0.001459</td>\n",
       "    </tr>\n",
       "    <tr>\n",
       "      <th>159720</th>\n",
       "      <td>197</td>\n",
       "      <td>196.379416</td>\n",
       "      <td>0.620584</td>\n",
       "    </tr>\n",
       "  </tbody>\n",
       "</table>\n",
       "<p>3854 rows × 3 columns</p>\n",
       "</div>"
      ],
      "text/plain": [
       "        Actual Value  Predicted Value  Difference\n",
       "171503           154       153.047673    0.952327\n",
       "88730            175       175.396010   -0.396010\n",
       "211930           167       168.011982   -1.011982\n",
       "71707            210       209.284892    0.715108\n",
       "134205           155       153.664794    1.335206\n",
       "...              ...              ...         ...\n",
       "102146           158       157.377870    0.622130\n",
       "46253            198       196.793602    1.206398\n",
       "43818            169       168.999801    0.000199\n",
       "69345            159       158.998541    0.001459\n",
       "159720           197       196.379416    0.620584\n",
       "\n",
       "[3854 rows x 3 columns]"
      ]
     },
     "execution_count": 70,
     "metadata": {},
     "output_type": "execute_result"
    }
   ],
   "source": [
    "pred_df=pd.DataFrame({'Actual Value':y_test,'Predicted Value':y_pred,'Difference':y_test-y_pred})\n",
    "pred_df"
   ]
  },
  {
   "attachments": {},
   "cell_type": "markdown",
   "metadata": {},
   "source": [
    "## Lets Load our Pickle Model"
   ]
  },
  {
   "cell_type": "code",
   "execution_count": 72,
   "metadata": {},
   "outputs": [],
   "source": [
    "import pickle\n",
    "pickle.dump(cat_model , open('model.pkl','wb'))"
   ]
  }
 ],
 "metadata": {
  "kernelspec": {
   "display_name": "Python 3",
   "language": "python",
   "name": "python3"
  },
  "language_info": {
   "codemirror_mode": {
    "name": "ipython",
    "version": 3
   },
   "file_extension": ".py",
   "mimetype": "text/x-python",
   "name": "python",
   "nbconvert_exporter": "python",
   "pygments_lexer": "ipython3",
   "version": "3.9.13"
  },
  "orig_nbformat": 4
 },
 "nbformat": 4,
 "nbformat_minor": 2
}
