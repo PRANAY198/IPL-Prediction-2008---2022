{
 "cells": [
  {
   "cell_type": "code",
   "execution_count": 1,
   "metadata": {},
   "outputs": [
    {
     "data": {
      "text/html": [
       "        <script type=\"text/javascript\">\n",
       "        window.PlotlyConfig = {MathJaxConfig: 'local'};\n",
       "        if (window.MathJax && window.MathJax.Hub && window.MathJax.Hub.Config) {window.MathJax.Hub.Config({SVG: {font: \"STIX-Web\"}});}\n",
       "        if (typeof require !== 'undefined') {\n",
       "        require.undef(\"plotly\");\n",
       "        requirejs.config({\n",
       "            paths: {\n",
       "                'plotly': ['https://cdn.plot.ly/plotly-2.12.1.min']\n",
       "            }\n",
       "        });\n",
       "        require(['plotly'], function(Plotly) {\n",
       "            window._Plotly = Plotly;\n",
       "        });\n",
       "        }\n",
       "        </script>\n",
       "        "
      ]
     },
     "metadata": {},
     "output_type": "display_data"
    }
   ],
   "source": [
    "import pandas as pd\n",
    "import numpy as np\n",
    "import seaborn as sns\n",
    "import matplotlib.pyplot as plt\n",
    "%matplotlib inline\n",
    "import cufflinks as cf\n",
    "cf.go_offline()\n",
    "import plotly.graph_objects as go\n",
    "import plotly.express as px"
   ]
  },
  {
   "cell_type": "code",
   "execution_count": 2,
   "metadata": {
    "scrolled": true
   },
   "outputs": [
    {
     "data": {
      "text/html": [
       "<div>\n",
       "<style scoped>\n",
       "    .dataframe tbody tr th:only-of-type {\n",
       "        vertical-align: middle;\n",
       "    }\n",
       "\n",
       "    .dataframe tbody tr th {\n",
       "        vertical-align: top;\n",
       "    }\n",
       "\n",
       "    .dataframe thead th {\n",
       "        text-align: right;\n",
       "    }\n",
       "</style>\n",
       "<table border=\"1\" class=\"dataframe\">\n",
       "  <thead>\n",
       "    <tr style=\"text-align: right;\">\n",
       "      <th></th>\n",
       "      <th>ID</th>\n",
       "      <th>innings</th>\n",
       "      <th>overs</th>\n",
       "      <th>ballnumber</th>\n",
       "      <th>batter</th>\n",
       "      <th>bowler</th>\n",
       "      <th>non-striker</th>\n",
       "      <th>extra_type</th>\n",
       "      <th>batsman_run</th>\n",
       "      <th>extras_run</th>\n",
       "      <th>total_run</th>\n",
       "      <th>non_boundary</th>\n",
       "      <th>isWicketDelivery</th>\n",
       "      <th>player_out</th>\n",
       "      <th>kind</th>\n",
       "      <th>fielders_involved</th>\n",
       "      <th>BattingTeam</th>\n",
       "    </tr>\n",
       "  </thead>\n",
       "  <tbody>\n",
       "    <tr>\n",
       "      <th>0</th>\n",
       "      <td>1312200</td>\n",
       "      <td>1</td>\n",
       "      <td>0</td>\n",
       "      <td>1</td>\n",
       "      <td>YBK Jaiswal</td>\n",
       "      <td>Mohammed Shami</td>\n",
       "      <td>JC Buttler</td>\n",
       "      <td>NaN</td>\n",
       "      <td>0</td>\n",
       "      <td>0</td>\n",
       "      <td>0</td>\n",
       "      <td>0</td>\n",
       "      <td>0</td>\n",
       "      <td>NaN</td>\n",
       "      <td>NaN</td>\n",
       "      <td>NaN</td>\n",
       "      <td>Rajasthan Royals</td>\n",
       "    </tr>\n",
       "    <tr>\n",
       "      <th>1</th>\n",
       "      <td>1312200</td>\n",
       "      <td>1</td>\n",
       "      <td>0</td>\n",
       "      <td>2</td>\n",
       "      <td>YBK Jaiswal</td>\n",
       "      <td>Mohammed Shami</td>\n",
       "      <td>JC Buttler</td>\n",
       "      <td>legbyes</td>\n",
       "      <td>0</td>\n",
       "      <td>1</td>\n",
       "      <td>1</td>\n",
       "      <td>0</td>\n",
       "      <td>0</td>\n",
       "      <td>NaN</td>\n",
       "      <td>NaN</td>\n",
       "      <td>NaN</td>\n",
       "      <td>Rajasthan Royals</td>\n",
       "    </tr>\n",
       "    <tr>\n",
       "      <th>2</th>\n",
       "      <td>1312200</td>\n",
       "      <td>1</td>\n",
       "      <td>0</td>\n",
       "      <td>3</td>\n",
       "      <td>JC Buttler</td>\n",
       "      <td>Mohammed Shami</td>\n",
       "      <td>YBK Jaiswal</td>\n",
       "      <td>NaN</td>\n",
       "      <td>1</td>\n",
       "      <td>0</td>\n",
       "      <td>1</td>\n",
       "      <td>0</td>\n",
       "      <td>0</td>\n",
       "      <td>NaN</td>\n",
       "      <td>NaN</td>\n",
       "      <td>NaN</td>\n",
       "      <td>Rajasthan Royals</td>\n",
       "    </tr>\n",
       "    <tr>\n",
       "      <th>3</th>\n",
       "      <td>1312200</td>\n",
       "      <td>1</td>\n",
       "      <td>0</td>\n",
       "      <td>4</td>\n",
       "      <td>YBK Jaiswal</td>\n",
       "      <td>Mohammed Shami</td>\n",
       "      <td>JC Buttler</td>\n",
       "      <td>NaN</td>\n",
       "      <td>0</td>\n",
       "      <td>0</td>\n",
       "      <td>0</td>\n",
       "      <td>0</td>\n",
       "      <td>0</td>\n",
       "      <td>NaN</td>\n",
       "      <td>NaN</td>\n",
       "      <td>NaN</td>\n",
       "      <td>Rajasthan Royals</td>\n",
       "    </tr>\n",
       "    <tr>\n",
       "      <th>4</th>\n",
       "      <td>1312200</td>\n",
       "      <td>1</td>\n",
       "      <td>0</td>\n",
       "      <td>5</td>\n",
       "      <td>YBK Jaiswal</td>\n",
       "      <td>Mohammed Shami</td>\n",
       "      <td>JC Buttler</td>\n",
       "      <td>NaN</td>\n",
       "      <td>0</td>\n",
       "      <td>0</td>\n",
       "      <td>0</td>\n",
       "      <td>0</td>\n",
       "      <td>0</td>\n",
       "      <td>NaN</td>\n",
       "      <td>NaN</td>\n",
       "      <td>NaN</td>\n",
       "      <td>Rajasthan Royals</td>\n",
       "    </tr>\n",
       "  </tbody>\n",
       "</table>\n",
       "</div>"
      ],
      "text/plain": [
       "        ID  innings  overs  ballnumber       batter          bowler  \\\n",
       "0  1312200        1      0           1  YBK Jaiswal  Mohammed Shami   \n",
       "1  1312200        1      0           2  YBK Jaiswal  Mohammed Shami   \n",
       "2  1312200        1      0           3   JC Buttler  Mohammed Shami   \n",
       "3  1312200        1      0           4  YBK Jaiswal  Mohammed Shami   \n",
       "4  1312200        1      0           5  YBK Jaiswal  Mohammed Shami   \n",
       "\n",
       "   non-striker extra_type  batsman_run  extras_run  total_run  non_boundary  \\\n",
       "0   JC Buttler        NaN            0           0          0             0   \n",
       "1   JC Buttler    legbyes            0           1          1             0   \n",
       "2  YBK Jaiswal        NaN            1           0          1             0   \n",
       "3   JC Buttler        NaN            0           0          0             0   \n",
       "4   JC Buttler        NaN            0           0          0             0   \n",
       "\n",
       "   isWicketDelivery player_out kind fielders_involved       BattingTeam  \n",
       "0                 0        NaN  NaN               NaN  Rajasthan Royals  \n",
       "1                 0        NaN  NaN               NaN  Rajasthan Royals  \n",
       "2                 0        NaN  NaN               NaN  Rajasthan Royals  \n",
       "3                 0        NaN  NaN               NaN  Rajasthan Royals  \n",
       "4                 0        NaN  NaN               NaN  Rajasthan Royals  "
      ]
     },
     "execution_count": 2,
     "metadata": {},
     "output_type": "execute_result"
    }
   ],
   "source": [
    "ball=pd.read_csv(r\"C:\\Users\\PRANAY\\Documents\\FULL STACK DATA SCIENCE jigsaw document\\Deployedment\\IPL-Second-Innings-Prediction-Score\\NoteBook\\DataSets\\IPL_Ball_by_Ball_2008_2022.csv\")\n",
    "ball.head()"
   ]
  },
  {
   "cell_type": "code",
   "execution_count": 3,
   "metadata": {},
   "outputs": [
    {
     "data": {
      "text/html": [
       "<div>\n",
       "<style scoped>\n",
       "    .dataframe tbody tr th:only-of-type {\n",
       "        vertical-align: middle;\n",
       "    }\n",
       "\n",
       "    .dataframe tbody tr th {\n",
       "        vertical-align: top;\n",
       "    }\n",
       "\n",
       "    .dataframe thead th {\n",
       "        text-align: right;\n",
       "    }\n",
       "</style>\n",
       "<table border=\"1\" class=\"dataframe\">\n",
       "  <thead>\n",
       "    <tr style=\"text-align: right;\">\n",
       "      <th></th>\n",
       "      <th>ID</th>\n",
       "      <th>City</th>\n",
       "      <th>Date</th>\n",
       "      <th>Season</th>\n",
       "      <th>MatchNumber</th>\n",
       "      <th>Team1</th>\n",
       "      <th>Team2</th>\n",
       "      <th>Venue</th>\n",
       "      <th>TossWinner</th>\n",
       "      <th>TossDecision</th>\n",
       "      <th>SuperOver</th>\n",
       "      <th>WinningTeam</th>\n",
       "      <th>WonBy</th>\n",
       "      <th>Margin</th>\n",
       "      <th>method</th>\n",
       "      <th>Player_of_Match</th>\n",
       "      <th>Team1Players</th>\n",
       "      <th>Team2Players</th>\n",
       "      <th>Umpire1</th>\n",
       "      <th>Umpire2</th>\n",
       "    </tr>\n",
       "  </thead>\n",
       "  <tbody>\n",
       "    <tr>\n",
       "      <th>0</th>\n",
       "      <td>1312200</td>\n",
       "      <td>Ahmedabad</td>\n",
       "      <td>2022-05-29</td>\n",
       "      <td>2022</td>\n",
       "      <td>Final</td>\n",
       "      <td>Rajasthan Royals</td>\n",
       "      <td>Gujarat Titans</td>\n",
       "      <td>Narendra Modi Stadium, Ahmedabad</td>\n",
       "      <td>Rajasthan Royals</td>\n",
       "      <td>bat</td>\n",
       "      <td>N</td>\n",
       "      <td>Gujarat Titans</td>\n",
       "      <td>Wickets</td>\n",
       "      <td>7.0</td>\n",
       "      <td>NaN</td>\n",
       "      <td>HH Pandya</td>\n",
       "      <td>['YBK Jaiswal', 'JC Buttler', 'SV Samson', 'D ...</td>\n",
       "      <td>['WP Saha', 'Shubman Gill', 'MS Wade', 'HH Pan...</td>\n",
       "      <td>CB Gaffaney</td>\n",
       "      <td>Nitin Menon</td>\n",
       "    </tr>\n",
       "    <tr>\n",
       "      <th>1</th>\n",
       "      <td>1312199</td>\n",
       "      <td>Ahmedabad</td>\n",
       "      <td>2022-05-27</td>\n",
       "      <td>2022</td>\n",
       "      <td>Qualifier 2</td>\n",
       "      <td>Royal Challengers Bangalore</td>\n",
       "      <td>Rajasthan Royals</td>\n",
       "      <td>Narendra Modi Stadium, Ahmedabad</td>\n",
       "      <td>Rajasthan Royals</td>\n",
       "      <td>field</td>\n",
       "      <td>N</td>\n",
       "      <td>Rajasthan Royals</td>\n",
       "      <td>Wickets</td>\n",
       "      <td>7.0</td>\n",
       "      <td>NaN</td>\n",
       "      <td>JC Buttler</td>\n",
       "      <td>['V Kohli', 'F du Plessis', 'RM Patidar', 'GJ ...</td>\n",
       "      <td>['YBK Jaiswal', 'JC Buttler', 'SV Samson', 'D ...</td>\n",
       "      <td>CB Gaffaney</td>\n",
       "      <td>Nitin Menon</td>\n",
       "    </tr>\n",
       "    <tr>\n",
       "      <th>2</th>\n",
       "      <td>1312198</td>\n",
       "      <td>Kolkata</td>\n",
       "      <td>2022-05-25</td>\n",
       "      <td>2022</td>\n",
       "      <td>Eliminator</td>\n",
       "      <td>Royal Challengers Bangalore</td>\n",
       "      <td>Lucknow Super Giants</td>\n",
       "      <td>Eden Gardens, Kolkata</td>\n",
       "      <td>Lucknow Super Giants</td>\n",
       "      <td>field</td>\n",
       "      <td>N</td>\n",
       "      <td>Royal Challengers Bangalore</td>\n",
       "      <td>Runs</td>\n",
       "      <td>14.0</td>\n",
       "      <td>NaN</td>\n",
       "      <td>RM Patidar</td>\n",
       "      <td>['V Kohli', 'F du Plessis', 'RM Patidar', 'GJ ...</td>\n",
       "      <td>['Q de Kock', 'KL Rahul', 'M Vohra', 'DJ Hooda...</td>\n",
       "      <td>J Madanagopal</td>\n",
       "      <td>MA Gough</td>\n",
       "    </tr>\n",
       "    <tr>\n",
       "      <th>3</th>\n",
       "      <td>1312197</td>\n",
       "      <td>Kolkata</td>\n",
       "      <td>2022-05-24</td>\n",
       "      <td>2022</td>\n",
       "      <td>Qualifier 1</td>\n",
       "      <td>Rajasthan Royals</td>\n",
       "      <td>Gujarat Titans</td>\n",
       "      <td>Eden Gardens, Kolkata</td>\n",
       "      <td>Gujarat Titans</td>\n",
       "      <td>field</td>\n",
       "      <td>N</td>\n",
       "      <td>Gujarat Titans</td>\n",
       "      <td>Wickets</td>\n",
       "      <td>7.0</td>\n",
       "      <td>NaN</td>\n",
       "      <td>DA Miller</td>\n",
       "      <td>['YBK Jaiswal', 'JC Buttler', 'SV Samson', 'D ...</td>\n",
       "      <td>['WP Saha', 'Shubman Gill', 'MS Wade', 'HH Pan...</td>\n",
       "      <td>BNJ Oxenford</td>\n",
       "      <td>VK Sharma</td>\n",
       "    </tr>\n",
       "    <tr>\n",
       "      <th>4</th>\n",
       "      <td>1304116</td>\n",
       "      <td>Mumbai</td>\n",
       "      <td>2022-05-22</td>\n",
       "      <td>2022</td>\n",
       "      <td>70</td>\n",
       "      <td>Sunrisers Hyderabad</td>\n",
       "      <td>Punjab Kings</td>\n",
       "      <td>Wankhede Stadium, Mumbai</td>\n",
       "      <td>Sunrisers Hyderabad</td>\n",
       "      <td>bat</td>\n",
       "      <td>N</td>\n",
       "      <td>Punjab Kings</td>\n",
       "      <td>Wickets</td>\n",
       "      <td>5.0</td>\n",
       "      <td>NaN</td>\n",
       "      <td>Harpreet Brar</td>\n",
       "      <td>['PK Garg', 'Abhishek Sharma', 'RA Tripathi', ...</td>\n",
       "      <td>['JM Bairstow', 'S Dhawan', 'M Shahrukh Khan',...</td>\n",
       "      <td>AK Chaudhary</td>\n",
       "      <td>NA Patwardhan</td>\n",
       "    </tr>\n",
       "  </tbody>\n",
       "</table>\n",
       "</div>"
      ],
      "text/plain": [
       "        ID       City        Date Season  MatchNumber  \\\n",
       "0  1312200  Ahmedabad  2022-05-29   2022        Final   \n",
       "1  1312199  Ahmedabad  2022-05-27   2022  Qualifier 2   \n",
       "2  1312198    Kolkata  2022-05-25   2022   Eliminator   \n",
       "3  1312197    Kolkata  2022-05-24   2022  Qualifier 1   \n",
       "4  1304116     Mumbai  2022-05-22   2022           70   \n",
       "\n",
       "                         Team1                 Team2  \\\n",
       "0             Rajasthan Royals        Gujarat Titans   \n",
       "1  Royal Challengers Bangalore      Rajasthan Royals   \n",
       "2  Royal Challengers Bangalore  Lucknow Super Giants   \n",
       "3             Rajasthan Royals        Gujarat Titans   \n",
       "4          Sunrisers Hyderabad          Punjab Kings   \n",
       "\n",
       "                              Venue            TossWinner TossDecision  \\\n",
       "0  Narendra Modi Stadium, Ahmedabad      Rajasthan Royals          bat   \n",
       "1  Narendra Modi Stadium, Ahmedabad      Rajasthan Royals        field   \n",
       "2             Eden Gardens, Kolkata  Lucknow Super Giants        field   \n",
       "3             Eden Gardens, Kolkata        Gujarat Titans        field   \n",
       "4          Wankhede Stadium, Mumbai   Sunrisers Hyderabad          bat   \n",
       "\n",
       "  SuperOver                  WinningTeam    WonBy  Margin method  \\\n",
       "0         N               Gujarat Titans  Wickets     7.0    NaN   \n",
       "1         N             Rajasthan Royals  Wickets     7.0    NaN   \n",
       "2         N  Royal Challengers Bangalore     Runs    14.0    NaN   \n",
       "3         N               Gujarat Titans  Wickets     7.0    NaN   \n",
       "4         N                 Punjab Kings  Wickets     5.0    NaN   \n",
       "\n",
       "  Player_of_Match                                       Team1Players  \\\n",
       "0       HH Pandya  ['YBK Jaiswal', 'JC Buttler', 'SV Samson', 'D ...   \n",
       "1      JC Buttler  ['V Kohli', 'F du Plessis', 'RM Patidar', 'GJ ...   \n",
       "2      RM Patidar  ['V Kohli', 'F du Plessis', 'RM Patidar', 'GJ ...   \n",
       "3       DA Miller  ['YBK Jaiswal', 'JC Buttler', 'SV Samson', 'D ...   \n",
       "4   Harpreet Brar  ['PK Garg', 'Abhishek Sharma', 'RA Tripathi', ...   \n",
       "\n",
       "                                        Team2Players        Umpire1  \\\n",
       "0  ['WP Saha', 'Shubman Gill', 'MS Wade', 'HH Pan...    CB Gaffaney   \n",
       "1  ['YBK Jaiswal', 'JC Buttler', 'SV Samson', 'D ...    CB Gaffaney   \n",
       "2  ['Q de Kock', 'KL Rahul', 'M Vohra', 'DJ Hooda...  J Madanagopal   \n",
       "3  ['WP Saha', 'Shubman Gill', 'MS Wade', 'HH Pan...   BNJ Oxenford   \n",
       "4  ['JM Bairstow', 'S Dhawan', 'M Shahrukh Khan',...   AK Chaudhary   \n",
       "\n",
       "         Umpire2  \n",
       "0    Nitin Menon  \n",
       "1    Nitin Menon  \n",
       "2       MA Gough  \n",
       "3      VK Sharma  \n",
       "4  NA Patwardhan  "
      ]
     },
     "execution_count": 3,
     "metadata": {},
     "output_type": "execute_result"
    }
   ],
   "source": [
    "match=pd.read_csv(r\"C:\\Users\\PRANAY\\Documents\\FULL STACK DATA SCIENCE jigsaw document\\Deployedment\\IPL-Second-Innings-Prediction-Score\\NoteBook\\DataSets\\IPL_Matches_2008_2022.csv\")\n",
    "match.head()"
   ]
  },
  {
   "cell_type": "code",
   "execution_count": 4,
   "metadata": {},
   "outputs": [
    {
     "name": "stderr",
     "output_type": "stream",
     "text": [
      "C:\\Users\\PRANAY\\AppData\\Local\\Temp\\ipykernel_3084\\625588996.py:1: FutureWarning:\n",
      "\n",
      "The default value of numeric_only in DataFrameGroupBy.sum is deprecated. In a future version, numeric_only will default to False. Either specify numeric_only or select only columns which should be valid for the function.\n",
      "\n"
     ]
    }
   ],
   "source": [
    "total_score = ball.groupby(['ID', 'innings']).sum()['total_run'].reset_index()"
   ]
  },
  {
   "cell_type": "code",
   "execution_count": 5,
   "metadata": {},
   "outputs": [
    {
     "data": {
      "text/html": [
       "<div>\n",
       "<style scoped>\n",
       "    .dataframe tbody tr th:only-of-type {\n",
       "        vertical-align: middle;\n",
       "    }\n",
       "\n",
       "    .dataframe tbody tr th {\n",
       "        vertical-align: top;\n",
       "    }\n",
       "\n",
       "    .dataframe thead th {\n",
       "        text-align: right;\n",
       "    }\n",
       "</style>\n",
       "<table border=\"1\" class=\"dataframe\">\n",
       "  <thead>\n",
       "    <tr style=\"text-align: right;\">\n",
       "      <th></th>\n",
       "      <th>ID</th>\n",
       "      <th>innings</th>\n",
       "      <th>total_run</th>\n",
       "    </tr>\n",
       "  </thead>\n",
       "  <tbody>\n",
       "    <tr>\n",
       "      <th>0</th>\n",
       "      <td>335982</td>\n",
       "      <td>1</td>\n",
       "      <td>222</td>\n",
       "    </tr>\n",
       "    <tr>\n",
       "      <th>1</th>\n",
       "      <td>335982</td>\n",
       "      <td>2</td>\n",
       "      <td>82</td>\n",
       "    </tr>\n",
       "    <tr>\n",
       "      <th>2</th>\n",
       "      <td>335983</td>\n",
       "      <td>1</td>\n",
       "      <td>240</td>\n",
       "    </tr>\n",
       "    <tr>\n",
       "      <th>3</th>\n",
       "      <td>335983</td>\n",
       "      <td>2</td>\n",
       "      <td>207</td>\n",
       "    </tr>\n",
       "    <tr>\n",
       "      <th>4</th>\n",
       "      <td>335984</td>\n",
       "      <td>1</td>\n",
       "      <td>129</td>\n",
       "    </tr>\n",
       "    <tr>\n",
       "      <th>...</th>\n",
       "      <td>...</td>\n",
       "      <td>...</td>\n",
       "      <td>...</td>\n",
       "    </tr>\n",
       "    <tr>\n",
       "      <th>1923</th>\n",
       "      <td>1312198</td>\n",
       "      <td>2</td>\n",
       "      <td>193</td>\n",
       "    </tr>\n",
       "    <tr>\n",
       "      <th>1924</th>\n",
       "      <td>1312199</td>\n",
       "      <td>1</td>\n",
       "      <td>157</td>\n",
       "    </tr>\n",
       "    <tr>\n",
       "      <th>1925</th>\n",
       "      <td>1312199</td>\n",
       "      <td>2</td>\n",
       "      <td>161</td>\n",
       "    </tr>\n",
       "    <tr>\n",
       "      <th>1926</th>\n",
       "      <td>1312200</td>\n",
       "      <td>1</td>\n",
       "      <td>130</td>\n",
       "    </tr>\n",
       "    <tr>\n",
       "      <th>1927</th>\n",
       "      <td>1312200</td>\n",
       "      <td>2</td>\n",
       "      <td>133</td>\n",
       "    </tr>\n",
       "  </tbody>\n",
       "</table>\n",
       "<p>1928 rows × 3 columns</p>\n",
       "</div>"
      ],
      "text/plain": [
       "           ID  innings  total_run\n",
       "0      335982        1        222\n",
       "1      335982        2         82\n",
       "2      335983        1        240\n",
       "3      335983        2        207\n",
       "4      335984        1        129\n",
       "...       ...      ...        ...\n",
       "1923  1312198        2        193\n",
       "1924  1312199        1        157\n",
       "1925  1312199        2        161\n",
       "1926  1312200        1        130\n",
       "1927  1312200        2        133\n",
       "\n",
       "[1928 rows x 3 columns]"
      ]
     },
     "execution_count": 5,
     "metadata": {},
     "output_type": "execute_result"
    }
   ],
   "source": [
    "total_score"
   ]
  },
  {
   "cell_type": "code",
   "execution_count": 15,
   "metadata": {
    "scrolled": true
   },
   "outputs": [
    {
     "name": "stderr",
     "output_type": "stream",
     "text": [
      "C:\\Users\\PRANAY\\AppData\\Local\\Temp\\ipykernel_3084\\630940905.py:4: FutureWarning:\n",
      "\n",
      "The default value of numeric_only in DataFrameGroupBy.sum is deprecated. In a future version, numeric_only will default to False. Either specify numeric_only or select only columns which should be valid for the function.\n",
      "\n"
     ]
    },
    {
     "data": {
      "text/html": [
       "<div>\n",
       "<style scoped>\n",
       "    .dataframe tbody tr th:only-of-type {\n",
       "        vertical-align: middle;\n",
       "    }\n",
       "\n",
       "    .dataframe tbody tr th {\n",
       "        vertical-align: top;\n",
       "    }\n",
       "\n",
       "    .dataframe thead th {\n",
       "        text-align: right;\n",
       "    }\n",
       "</style>\n",
       "<table border=\"1\" class=\"dataframe\">\n",
       "  <thead>\n",
       "    <tr style=\"text-align: right;\">\n",
       "      <th></th>\n",
       "      <th>ID</th>\n",
       "      <th>City</th>\n",
       "      <th>Date</th>\n",
       "      <th>Season</th>\n",
       "      <th>MatchNumber</th>\n",
       "      <th>Team1</th>\n",
       "      <th>Team2</th>\n",
       "      <th>Venue</th>\n",
       "      <th>TossWinner</th>\n",
       "      <th>TossDecision</th>\n",
       "      <th>...</th>\n",
       "      <th>WonBy</th>\n",
       "      <th>Margin</th>\n",
       "      <th>method</th>\n",
       "      <th>Player_of_Match</th>\n",
       "      <th>Team1Players</th>\n",
       "      <th>Team2Players</th>\n",
       "      <th>Umpire1</th>\n",
       "      <th>Umpire2</th>\n",
       "      <th>First_Innings_total_score</th>\n",
       "      <th>Second_Innings_Total_score</th>\n",
       "    </tr>\n",
       "  </thead>\n",
       "  <tbody>\n",
       "    <tr>\n",
       "      <th>0</th>\n",
       "      <td>1312200</td>\n",
       "      <td>Ahmedabad</td>\n",
       "      <td>2022-05-29</td>\n",
       "      <td>2022</td>\n",
       "      <td>Final</td>\n",
       "      <td>Rajasthan Royals</td>\n",
       "      <td>Gujarat Titans</td>\n",
       "      <td>Narendra Modi Stadium, Ahmedabad</td>\n",
       "      <td>Rajasthan Royals</td>\n",
       "      <td>bat</td>\n",
       "      <td>...</td>\n",
       "      <td>Wickets</td>\n",
       "      <td>7.0</td>\n",
       "      <td>NaN</td>\n",
       "      <td>HH Pandya</td>\n",
       "      <td>['YBK Jaiswal', 'JC Buttler', 'SV Samson', 'D ...</td>\n",
       "      <td>['WP Saha', 'Shubman Gill', 'MS Wade', 'HH Pan...</td>\n",
       "      <td>CB Gaffaney</td>\n",
       "      <td>Nitin Menon</td>\n",
       "      <td>130</td>\n",
       "      <td>133</td>\n",
       "    </tr>\n",
       "    <tr>\n",
       "      <th>1</th>\n",
       "      <td>1312199</td>\n",
       "      <td>Ahmedabad</td>\n",
       "      <td>2022-05-27</td>\n",
       "      <td>2022</td>\n",
       "      <td>Qualifier 2</td>\n",
       "      <td>Royal Challengers Bangalore</td>\n",
       "      <td>Rajasthan Royals</td>\n",
       "      <td>Narendra Modi Stadium, Ahmedabad</td>\n",
       "      <td>Rajasthan Royals</td>\n",
       "      <td>field</td>\n",
       "      <td>...</td>\n",
       "      <td>Wickets</td>\n",
       "      <td>7.0</td>\n",
       "      <td>NaN</td>\n",
       "      <td>JC Buttler</td>\n",
       "      <td>['V Kohli', 'F du Plessis', 'RM Patidar', 'GJ ...</td>\n",
       "      <td>['YBK Jaiswal', 'JC Buttler', 'SV Samson', 'D ...</td>\n",
       "      <td>CB Gaffaney</td>\n",
       "      <td>Nitin Menon</td>\n",
       "      <td>157</td>\n",
       "      <td>161</td>\n",
       "    </tr>\n",
       "    <tr>\n",
       "      <th>2</th>\n",
       "      <td>1312198</td>\n",
       "      <td>Kolkata</td>\n",
       "      <td>2022-05-25</td>\n",
       "      <td>2022</td>\n",
       "      <td>Eliminator</td>\n",
       "      <td>Royal Challengers Bangalore</td>\n",
       "      <td>Lucknow Super Giants</td>\n",
       "      <td>Eden Gardens, Kolkata</td>\n",
       "      <td>Lucknow Super Giants</td>\n",
       "      <td>field</td>\n",
       "      <td>...</td>\n",
       "      <td>Runs</td>\n",
       "      <td>14.0</td>\n",
       "      <td>NaN</td>\n",
       "      <td>RM Patidar</td>\n",
       "      <td>['V Kohli', 'F du Plessis', 'RM Patidar', 'GJ ...</td>\n",
       "      <td>['Q de Kock', 'KL Rahul', 'M Vohra', 'DJ Hooda...</td>\n",
       "      <td>J Madanagopal</td>\n",
       "      <td>MA Gough</td>\n",
       "      <td>207</td>\n",
       "      <td>193</td>\n",
       "    </tr>\n",
       "    <tr>\n",
       "      <th>3</th>\n",
       "      <td>1312197</td>\n",
       "      <td>Kolkata</td>\n",
       "      <td>2022-05-24</td>\n",
       "      <td>2022</td>\n",
       "      <td>Qualifier 1</td>\n",
       "      <td>Rajasthan Royals</td>\n",
       "      <td>Gujarat Titans</td>\n",
       "      <td>Eden Gardens, Kolkata</td>\n",
       "      <td>Gujarat Titans</td>\n",
       "      <td>field</td>\n",
       "      <td>...</td>\n",
       "      <td>Wickets</td>\n",
       "      <td>7.0</td>\n",
       "      <td>NaN</td>\n",
       "      <td>DA Miller</td>\n",
       "      <td>['YBK Jaiswal', 'JC Buttler', 'SV Samson', 'D ...</td>\n",
       "      <td>['WP Saha', 'Shubman Gill', 'MS Wade', 'HH Pan...</td>\n",
       "      <td>BNJ Oxenford</td>\n",
       "      <td>VK Sharma</td>\n",
       "      <td>188</td>\n",
       "      <td>191</td>\n",
       "    </tr>\n",
       "    <tr>\n",
       "      <th>4</th>\n",
       "      <td>1304116</td>\n",
       "      <td>Mumbai</td>\n",
       "      <td>2022-05-22</td>\n",
       "      <td>2022</td>\n",
       "      <td>70</td>\n",
       "      <td>Sunrisers Hyderabad</td>\n",
       "      <td>Punjab Kings</td>\n",
       "      <td>Wankhede Stadium, Mumbai</td>\n",
       "      <td>Sunrisers Hyderabad</td>\n",
       "      <td>bat</td>\n",
       "      <td>...</td>\n",
       "      <td>Wickets</td>\n",
       "      <td>5.0</td>\n",
       "      <td>NaN</td>\n",
       "      <td>Harpreet Brar</td>\n",
       "      <td>['PK Garg', 'Abhishek Sharma', 'RA Tripathi', ...</td>\n",
       "      <td>['JM Bairstow', 'S Dhawan', 'M Shahrukh Khan',...</td>\n",
       "      <td>AK Chaudhary</td>\n",
       "      <td>NA Patwardhan</td>\n",
       "      <td>157</td>\n",
       "      <td>160</td>\n",
       "    </tr>\n",
       "  </tbody>\n",
       "</table>\n",
       "<p>5 rows × 22 columns</p>\n",
       "</div>"
      ],
      "text/plain": [
       "        ID       City        Date Season  MatchNumber  \\\n",
       "0  1312200  Ahmedabad  2022-05-29   2022        Final   \n",
       "1  1312199  Ahmedabad  2022-05-27   2022  Qualifier 2   \n",
       "2  1312198    Kolkata  2022-05-25   2022   Eliminator   \n",
       "3  1312197    Kolkata  2022-05-24   2022  Qualifier 1   \n",
       "4  1304116     Mumbai  2022-05-22   2022           70   \n",
       "\n",
       "                         Team1                 Team2  \\\n",
       "0             Rajasthan Royals        Gujarat Titans   \n",
       "1  Royal Challengers Bangalore      Rajasthan Royals   \n",
       "2  Royal Challengers Bangalore  Lucknow Super Giants   \n",
       "3             Rajasthan Royals        Gujarat Titans   \n",
       "4          Sunrisers Hyderabad          Punjab Kings   \n",
       "\n",
       "                              Venue            TossWinner TossDecision  ...  \\\n",
       "0  Narendra Modi Stadium, Ahmedabad      Rajasthan Royals          bat  ...   \n",
       "1  Narendra Modi Stadium, Ahmedabad      Rajasthan Royals        field  ...   \n",
       "2             Eden Gardens, Kolkata  Lucknow Super Giants        field  ...   \n",
       "3             Eden Gardens, Kolkata        Gujarat Titans        field  ...   \n",
       "4          Wankhede Stadium, Mumbai   Sunrisers Hyderabad          bat  ...   \n",
       "\n",
       "     WonBy Margin method  Player_of_Match  \\\n",
       "0  Wickets    7.0    NaN        HH Pandya   \n",
       "1  Wickets    7.0    NaN       JC Buttler   \n",
       "2     Runs   14.0    NaN       RM Patidar   \n",
       "3  Wickets    7.0    NaN        DA Miller   \n",
       "4  Wickets    5.0    NaN    Harpreet Brar   \n",
       "\n",
       "                                        Team1Players  \\\n",
       "0  ['YBK Jaiswal', 'JC Buttler', 'SV Samson', 'D ...   \n",
       "1  ['V Kohli', 'F du Plessis', 'RM Patidar', 'GJ ...   \n",
       "2  ['V Kohli', 'F du Plessis', 'RM Patidar', 'GJ ...   \n",
       "3  ['YBK Jaiswal', 'JC Buttler', 'SV Samson', 'D ...   \n",
       "4  ['PK Garg', 'Abhishek Sharma', 'RA Tripathi', ...   \n",
       "\n",
       "                                        Team2Players        Umpire1  \\\n",
       "0  ['WP Saha', 'Shubman Gill', 'MS Wade', 'HH Pan...    CB Gaffaney   \n",
       "1  ['YBK Jaiswal', 'JC Buttler', 'SV Samson', 'D ...    CB Gaffaney   \n",
       "2  ['Q de Kock', 'KL Rahul', 'M Vohra', 'DJ Hooda...  J Madanagopal   \n",
       "3  ['WP Saha', 'Shubman Gill', 'MS Wade', 'HH Pan...   BNJ Oxenford   \n",
       "4  ['JM Bairstow', 'S Dhawan', 'M Shahrukh Khan',...   AK Chaudhary   \n",
       "\n",
       "         Umpire2 First_Innings_total_score Second_Innings_Total_score  \n",
       "0    Nitin Menon                       130                        133  \n",
       "1    Nitin Menon                       157                        161  \n",
       "2       MA Gough                       207                        193  \n",
       "3      VK Sharma                       188                        191  \n",
       "4  NA Patwardhan                       157                        160  \n",
       "\n",
       "[5 rows x 22 columns]"
      ]
     },
     "execution_count": 15,
     "metadata": {},
     "output_type": "execute_result"
    }
   ],
   "source": [
    "import pandas as pd\n",
    "\n",
    "# Calculate first innings and second innings total scores\n",
    "total_score = ball.groupby(['ID', 'innings']).sum()['total_run'].reset_index()\n",
    "First_Innings_total_score = total_score[total_score['innings'] == 1]\n",
    "Second_Innings_Total_score = total_score[total_score['innings'] == 2]\n",
    "\n",
    "# Merge first innings total score with match dataframe\n",
    "match_df = match.merge(First_Innings_total_score[['ID', 'total_run',]], on='ID')\n",
    "\n",
    "# Rename the column to 'First_Innings_total_score'\n",
    "match_df = match_df.rename(columns={'total_run': 'First_Innings_total_score'})\n",
    "\n",
    "# Merge second innings total score with match dataframe\n",
    "match_df = match_df.merge(Second_Innings_Total_score[['ID', 'total_run']], on='ID')\n",
    "\n",
    "# Rename the column to 'Second_Innings_Total_score'\n",
    "match_df = match_df.rename(columns={'total_run': 'Second_Innings_Total_score'})\n",
    "\n",
    "match_df.head()\n"
   ]
  },
  {
   "cell_type": "code",
   "execution_count": 145,
   "metadata": {},
   "outputs": [
    {
     "data": {
      "text/html": [
       "<div>\n",
       "<style scoped>\n",
       "    .dataframe tbody tr th:only-of-type {\n",
       "        vertical-align: middle;\n",
       "    }\n",
       "\n",
       "    .dataframe tbody tr th {\n",
       "        vertical-align: top;\n",
       "    }\n",
       "\n",
       "    .dataframe thead th {\n",
       "        text-align: right;\n",
       "    }\n",
       "</style>\n",
       "<table border=\"1\" class=\"dataframe\">\n",
       "  <thead>\n",
       "    <tr style=\"text-align: right;\">\n",
       "      <th></th>\n",
       "      <th>ID</th>\n",
       "      <th>innings</th>\n",
       "      <th>total_run</th>\n",
       "    </tr>\n",
       "  </thead>\n",
       "  <tbody>\n",
       "    <tr>\n",
       "      <th>0</th>\n",
       "      <td>335982</td>\n",
       "      <td>1</td>\n",
       "      <td>222</td>\n",
       "    </tr>\n",
       "    <tr>\n",
       "      <th>2</th>\n",
       "      <td>335983</td>\n",
       "      <td>1</td>\n",
       "      <td>240</td>\n",
       "    </tr>\n",
       "    <tr>\n",
       "      <th>4</th>\n",
       "      <td>335984</td>\n",
       "      <td>1</td>\n",
       "      <td>129</td>\n",
       "    </tr>\n",
       "    <tr>\n",
       "      <th>6</th>\n",
       "      <td>335985</td>\n",
       "      <td>1</td>\n",
       "      <td>165</td>\n",
       "    </tr>\n",
       "    <tr>\n",
       "      <th>8</th>\n",
       "      <td>335986</td>\n",
       "      <td>1</td>\n",
       "      <td>110</td>\n",
       "    </tr>\n",
       "    <tr>\n",
       "      <th>...</th>\n",
       "      <td>...</td>\n",
       "      <td>...</td>\n",
       "      <td>...</td>\n",
       "    </tr>\n",
       "    <tr>\n",
       "      <th>1918</th>\n",
       "      <td>1304116</td>\n",
       "      <td>1</td>\n",
       "      <td>157</td>\n",
       "    </tr>\n",
       "    <tr>\n",
       "      <th>1920</th>\n",
       "      <td>1312197</td>\n",
       "      <td>1</td>\n",
       "      <td>188</td>\n",
       "    </tr>\n",
       "    <tr>\n",
       "      <th>1922</th>\n",
       "      <td>1312198</td>\n",
       "      <td>1</td>\n",
       "      <td>207</td>\n",
       "    </tr>\n",
       "    <tr>\n",
       "      <th>1924</th>\n",
       "      <td>1312199</td>\n",
       "      <td>1</td>\n",
       "      <td>157</td>\n",
       "    </tr>\n",
       "    <tr>\n",
       "      <th>1926</th>\n",
       "      <td>1312200</td>\n",
       "      <td>1</td>\n",
       "      <td>130</td>\n",
       "    </tr>\n",
       "  </tbody>\n",
       "</table>\n",
       "<p>950 rows × 3 columns</p>\n",
       "</div>"
      ],
      "text/plain": [
       "           ID  innings  total_run\n",
       "0      335982        1        222\n",
       "2      335983        1        240\n",
       "4      335984        1        129\n",
       "6      335985        1        165\n",
       "8      335986        1        110\n",
       "...       ...      ...        ...\n",
       "1918  1304116        1        157\n",
       "1920  1312197        1        188\n",
       "1922  1312198        1        207\n",
       "1924  1312199        1        157\n",
       "1926  1312200        1        130\n",
       "\n",
       "[950 rows x 3 columns]"
      ]
     },
     "execution_count": 145,
     "metadata": {},
     "output_type": "execute_result"
    }
   ],
   "source": [
    "First_Innings_total_score"
   ]
  },
  {
   "cell_type": "code",
   "execution_count": 146,
   "metadata": {},
   "outputs": [
    {
     "data": {
      "text/html": [
       "<div>\n",
       "<style scoped>\n",
       "    .dataframe tbody tr th:only-of-type {\n",
       "        vertical-align: middle;\n",
       "    }\n",
       "\n",
       "    .dataframe tbody tr th {\n",
       "        vertical-align: top;\n",
       "    }\n",
       "\n",
       "    .dataframe thead th {\n",
       "        text-align: right;\n",
       "    }\n",
       "</style>\n",
       "<table border=\"1\" class=\"dataframe\">\n",
       "  <thead>\n",
       "    <tr style=\"text-align: right;\">\n",
       "      <th></th>\n",
       "      <th>ID</th>\n",
       "      <th>innings</th>\n",
       "      <th>total_run</th>\n",
       "    </tr>\n",
       "  </thead>\n",
       "  <tbody>\n",
       "    <tr>\n",
       "      <th>1</th>\n",
       "      <td>335982</td>\n",
       "      <td>2</td>\n",
       "      <td>82</td>\n",
       "    </tr>\n",
       "    <tr>\n",
       "      <th>3</th>\n",
       "      <td>335983</td>\n",
       "      <td>2</td>\n",
       "      <td>207</td>\n",
       "    </tr>\n",
       "    <tr>\n",
       "      <th>5</th>\n",
       "      <td>335984</td>\n",
       "      <td>2</td>\n",
       "      <td>132</td>\n",
       "    </tr>\n",
       "    <tr>\n",
       "      <th>7</th>\n",
       "      <td>335985</td>\n",
       "      <td>2</td>\n",
       "      <td>166</td>\n",
       "    </tr>\n",
       "    <tr>\n",
       "      <th>9</th>\n",
       "      <td>335986</td>\n",
       "      <td>2</td>\n",
       "      <td>112</td>\n",
       "    </tr>\n",
       "    <tr>\n",
       "      <th>...</th>\n",
       "      <td>...</td>\n",
       "      <td>...</td>\n",
       "      <td>...</td>\n",
       "    </tr>\n",
       "    <tr>\n",
       "      <th>1919</th>\n",
       "      <td>1304116</td>\n",
       "      <td>2</td>\n",
       "      <td>160</td>\n",
       "    </tr>\n",
       "    <tr>\n",
       "      <th>1921</th>\n",
       "      <td>1312197</td>\n",
       "      <td>2</td>\n",
       "      <td>191</td>\n",
       "    </tr>\n",
       "    <tr>\n",
       "      <th>1923</th>\n",
       "      <td>1312198</td>\n",
       "      <td>2</td>\n",
       "      <td>193</td>\n",
       "    </tr>\n",
       "    <tr>\n",
       "      <th>1925</th>\n",
       "      <td>1312199</td>\n",
       "      <td>2</td>\n",
       "      <td>161</td>\n",
       "    </tr>\n",
       "    <tr>\n",
       "      <th>1927</th>\n",
       "      <td>1312200</td>\n",
       "      <td>2</td>\n",
       "      <td>133</td>\n",
       "    </tr>\n",
       "  </tbody>\n",
       "</table>\n",
       "<p>948 rows × 3 columns</p>\n",
       "</div>"
      ],
      "text/plain": [
       "           ID  innings  total_run\n",
       "1      335982        2         82\n",
       "3      335983        2        207\n",
       "5      335984        2        132\n",
       "7      335985        2        166\n",
       "9      335986        2        112\n",
       "...       ...      ...        ...\n",
       "1919  1304116        2        160\n",
       "1921  1312197        2        191\n",
       "1923  1312198        2        193\n",
       "1925  1312199        2        161\n",
       "1927  1312200        2        133\n",
       "\n",
       "[948 rows x 3 columns]"
      ]
     },
     "execution_count": 146,
     "metadata": {},
     "output_type": "execute_result"
    }
   ],
   "source": [
    "Second_Innings_Total_score"
   ]
  },
  {
   "cell_type": "markdown",
   "metadata": {},
   "source": [
    "## lets convert overs and ballnumber into overs(0.1) format"
   ]
  },
  {
   "cell_type": "code",
   "execution_count": 16,
   "metadata": {},
   "outputs": [
    {
     "data": {
      "text/html": [
       "<div>\n",
       "<style scoped>\n",
       "    .dataframe tbody tr th:only-of-type {\n",
       "        vertical-align: middle;\n",
       "    }\n",
       "\n",
       "    .dataframe tbody tr th {\n",
       "        vertical-align: top;\n",
       "    }\n",
       "\n",
       "    .dataframe thead th {\n",
       "        text-align: right;\n",
       "    }\n",
       "</style>\n",
       "<table border=\"1\" class=\"dataframe\">\n",
       "  <thead>\n",
       "    <tr style=\"text-align: right;\">\n",
       "      <th></th>\n",
       "      <th>ID</th>\n",
       "      <th>innings</th>\n",
       "      <th>overs</th>\n",
       "      <th>ballnumber</th>\n",
       "      <th>batter</th>\n",
       "      <th>bowler</th>\n",
       "      <th>non-striker</th>\n",
       "      <th>extra_type</th>\n",
       "      <th>batsman_run</th>\n",
       "      <th>extras_run</th>\n",
       "      <th>total_run</th>\n",
       "      <th>non_boundary</th>\n",
       "      <th>isWicketDelivery</th>\n",
       "      <th>player_out</th>\n",
       "      <th>kind</th>\n",
       "      <th>fielders_involved</th>\n",
       "      <th>BattingTeam</th>\n",
       "      <th>Overs</th>\n",
       "    </tr>\n",
       "  </thead>\n",
       "  <tbody>\n",
       "    <tr>\n",
       "      <th>0</th>\n",
       "      <td>1312200</td>\n",
       "      <td>1</td>\n",
       "      <td>0</td>\n",
       "      <td>1</td>\n",
       "      <td>YBK Jaiswal</td>\n",
       "      <td>Mohammed Shami</td>\n",
       "      <td>JC Buttler</td>\n",
       "      <td>NaN</td>\n",
       "      <td>0</td>\n",
       "      <td>0</td>\n",
       "      <td>0</td>\n",
       "      <td>0</td>\n",
       "      <td>0</td>\n",
       "      <td>NaN</td>\n",
       "      <td>NaN</td>\n",
       "      <td>NaN</td>\n",
       "      <td>Rajasthan Royals</td>\n",
       "      <td>0.1</td>\n",
       "    </tr>\n",
       "    <tr>\n",
       "      <th>1</th>\n",
       "      <td>1312200</td>\n",
       "      <td>1</td>\n",
       "      <td>0</td>\n",
       "      <td>2</td>\n",
       "      <td>YBK Jaiswal</td>\n",
       "      <td>Mohammed Shami</td>\n",
       "      <td>JC Buttler</td>\n",
       "      <td>legbyes</td>\n",
       "      <td>0</td>\n",
       "      <td>1</td>\n",
       "      <td>1</td>\n",
       "      <td>0</td>\n",
       "      <td>0</td>\n",
       "      <td>NaN</td>\n",
       "      <td>NaN</td>\n",
       "      <td>NaN</td>\n",
       "      <td>Rajasthan Royals</td>\n",
       "      <td>0.2</td>\n",
       "    </tr>\n",
       "    <tr>\n",
       "      <th>2</th>\n",
       "      <td>1312200</td>\n",
       "      <td>1</td>\n",
       "      <td>0</td>\n",
       "      <td>3</td>\n",
       "      <td>JC Buttler</td>\n",
       "      <td>Mohammed Shami</td>\n",
       "      <td>YBK Jaiswal</td>\n",
       "      <td>NaN</td>\n",
       "      <td>1</td>\n",
       "      <td>0</td>\n",
       "      <td>1</td>\n",
       "      <td>0</td>\n",
       "      <td>0</td>\n",
       "      <td>NaN</td>\n",
       "      <td>NaN</td>\n",
       "      <td>NaN</td>\n",
       "      <td>Rajasthan Royals</td>\n",
       "      <td>0.3</td>\n",
       "    </tr>\n",
       "    <tr>\n",
       "      <th>3</th>\n",
       "      <td>1312200</td>\n",
       "      <td>1</td>\n",
       "      <td>0</td>\n",
       "      <td>4</td>\n",
       "      <td>YBK Jaiswal</td>\n",
       "      <td>Mohammed Shami</td>\n",
       "      <td>JC Buttler</td>\n",
       "      <td>NaN</td>\n",
       "      <td>0</td>\n",
       "      <td>0</td>\n",
       "      <td>0</td>\n",
       "      <td>0</td>\n",
       "      <td>0</td>\n",
       "      <td>NaN</td>\n",
       "      <td>NaN</td>\n",
       "      <td>NaN</td>\n",
       "      <td>Rajasthan Royals</td>\n",
       "      <td>0.4</td>\n",
       "    </tr>\n",
       "    <tr>\n",
       "      <th>4</th>\n",
       "      <td>1312200</td>\n",
       "      <td>1</td>\n",
       "      <td>0</td>\n",
       "      <td>5</td>\n",
       "      <td>YBK Jaiswal</td>\n",
       "      <td>Mohammed Shami</td>\n",
       "      <td>JC Buttler</td>\n",
       "      <td>NaN</td>\n",
       "      <td>0</td>\n",
       "      <td>0</td>\n",
       "      <td>0</td>\n",
       "      <td>0</td>\n",
       "      <td>0</td>\n",
       "      <td>NaN</td>\n",
       "      <td>NaN</td>\n",
       "      <td>NaN</td>\n",
       "      <td>Rajasthan Royals</td>\n",
       "      <td>0.5</td>\n",
       "    </tr>\n",
       "  </tbody>\n",
       "</table>\n",
       "</div>"
      ],
      "text/plain": [
       "        ID  innings  overs  ballnumber       batter          bowler  \\\n",
       "0  1312200        1      0           1  YBK Jaiswal  Mohammed Shami   \n",
       "1  1312200        1      0           2  YBK Jaiswal  Mohammed Shami   \n",
       "2  1312200        1      0           3   JC Buttler  Mohammed Shami   \n",
       "3  1312200        1      0           4  YBK Jaiswal  Mohammed Shami   \n",
       "4  1312200        1      0           5  YBK Jaiswal  Mohammed Shami   \n",
       "\n",
       "   non-striker extra_type  batsman_run  extras_run  total_run  non_boundary  \\\n",
       "0   JC Buttler        NaN            0           0          0             0   \n",
       "1   JC Buttler    legbyes            0           1          1             0   \n",
       "2  YBK Jaiswal        NaN            1           0          1             0   \n",
       "3   JC Buttler        NaN            0           0          0             0   \n",
       "4   JC Buttler        NaN            0           0          0             0   \n",
       "\n",
       "   isWicketDelivery player_out kind fielders_involved       BattingTeam  Overs  \n",
       "0                 0        NaN  NaN               NaN  Rajasthan Royals    0.1  \n",
       "1                 0        NaN  NaN               NaN  Rajasthan Royals    0.2  \n",
       "2                 0        NaN  NaN               NaN  Rajasthan Royals    0.3  \n",
       "3                 0        NaN  NaN               NaN  Rajasthan Royals    0.4  \n",
       "4                 0        NaN  NaN               NaN  Rajasthan Royals    0.5  "
      ]
     },
     "execution_count": 16,
     "metadata": {},
     "output_type": "execute_result"
    }
   ],
   "source": [
    "overs = ball['overs']\n",
    "ballnumber = ball['ballnumber']\n",
    "ball['Overs'] = overs + ballnumber/10\n",
    "ball.head()"
   ]
  },
  {
   "cell_type": "code",
   "execution_count": 17,
   "metadata": {
    "scrolled": true
   },
   "outputs": [
    {
     "data": {
      "text/plain": [
       "Index(['ID', 'innings', 'overs', 'ballnumber', 'batter', 'bowler',\n",
       "       'non-striker', 'extra_type', 'batsman_run', 'extras_run', 'total_run',\n",
       "       'non_boundary', 'isWicketDelivery', 'player_out', 'kind',\n",
       "       'fielders_involved', 'BattingTeam', 'Overs'],\n",
       "      dtype='object')"
      ]
     },
     "execution_count": 17,
     "metadata": {},
     "output_type": "execute_result"
    }
   ],
   "source": [
    "ball.columns"
   ]
  },
  {
   "cell_type": "code",
   "execution_count": 18,
   "metadata": {},
   "outputs": [
    {
     "data": {
      "text/plain": [
       "Index(['ID', 'City', 'Date', 'Season', 'MatchNumber', 'Team1', 'Team2',\n",
       "       'Venue', 'TossWinner', 'TossDecision', 'SuperOver', 'WinningTeam',\n",
       "       'WonBy', 'Margin', 'method', 'Player_of_Match', 'Team1Players',\n",
       "       'Team2Players', 'Umpire1', 'Umpire2', 'First_Innings_total_score',\n",
       "       'Second_Innings_Total_score'],\n",
       "      dtype='object')"
      ]
     },
     "execution_count": 18,
     "metadata": {},
     "output_type": "execute_result"
    }
   ],
   "source": [
    "match_df.columns"
   ]
  },
  {
   "cell_type": "code",
   "execution_count": 19,
   "metadata": {},
   "outputs": [
    {
     "data": {
      "application/vnd.plotly.v1+json": {
       "config": {
        "plotlyServerURL": "https://plot.ly"
       },
       "data": [
        {
         "alignmentgroup": "True",
         "bingroup": "x",
         "hovertemplate": "WinningTeam=%{x}<br>count=%{y}<extra></extra>",
         "legendgroup": "",
         "marker": {
          "color": "#636efa",
          "pattern": {
           "shape": ""
          }
         },
         "name": "",
         "offsetgroup": "",
         "orientation": "v",
         "showlegend": false,
         "type": "histogram",
         "x": [
          "Gujarat Titans",
          "Rajasthan Royals",
          "Royal Challengers Bangalore",
          "Gujarat Titans",
          "Punjab Kings",
          "Mumbai Indians",
          "Rajasthan Royals",
          "Royal Challengers Bangalore",
          "Lucknow Super Giants",
          "Sunrisers Hyderabad",
          "Delhi Capitals",
          "Rajasthan Royals",
          "Gujarat Titans",
          "Kolkata Knight Riders",
          "Punjab Kings",
          "Mumbai Indians",
          "Delhi Capitals",
          "Gujarat Titans",
          "Kolkata Knight Riders",
          "Chennai Super Kings",
          "Royal Challengers Bangalore",
          "Lucknow Super Giants",
          "Rajasthan Royals",
          "Mumbai Indians",
          "Delhi Capitals",
          "Royal Challengers Bangalore",
          "Punjab Kings",
          "Kolkata Knight Riders",
          "Chennai Super Kings",
          "Lucknow Super Giants",
          "Mumbai Indians",
          "Gujarat Titans",
          "Lucknow Super Giants",
          "Delhi Capitals",
          "Gujarat Titans",
          "Rajasthan Royals",
          "Punjab Kings",
          "Lucknow Super Giants",
          "Sunrisers Hyderabad",
          "Gujarat Titans",
          "Rajasthan Royals",
          "Chennai Super Kings",
          "Delhi Capitals",
          "Royal Challengers Bangalore",
          "Rajasthan Royals",
          "Gujarat Titans",
          "Sunrisers Hyderabad",
          "Royal Challengers Bangalore",
          "Lucknow Super Giants",
          "Sunrisers Hyderabad",
          "Gujarat Titans",
          "Punjab Kings",
          "Chennai Super Kings",
          "Sunrisers Hyderabad",
          "Rajasthan Royals",
          "Delhi Capitals",
          "Royal Challengers Bangalore",
          "Sunrisers Hyderabad",
          "Gujarat Titans",
          "Lucknow Super Giants",
          "Kolkata Knight Riders",
          "Royal Challengers Bangalore",
          "Lucknow Super Giants",
          "Punjab Kings",
          "Gujarat Titans",
          "Rajasthan Royals",
          "Kolkata Knight Riders",
          "Lucknow Super Giants",
          "Royal Challengers Bangalore",
          "Rajasthan Royals",
          "Gujarat Titans",
          "Punjab Kings",
          "Delhi Capitals",
          "Kolkata Knight Riders",
          "Chennai Super Kings",
          "Kolkata Knight Riders",
          "Kolkata Knight Riders",
          "Chennai Super Kings",
          "Royal Challengers Bangalore",
          "Mumbai Indians",
          "Kolkata Knight Riders",
          "Punjab Kings",
          "Sunrisers Hyderabad",
          "Mumbai Indians",
          "Delhi Capitals",
          "Royal Challengers Bangalore",
          "Kolkata Knight Riders",
          "Delhi Capitals",
          "Rajasthan Royals",
          "Punjab Kings",
          "Chennai Super Kings",
          "Royal Challengers Bangalore",
          "Mumbai Indians",
          "Kolkata Knight Riders",
          "Sunrisers Hyderabad",
          "Chennai Super Kings",
          "Royal Challengers Bangalore",
          "Delhi Capitals",
          "Punjab Kings",
          "Chennai Super Kings",
          "Kolkata Knight Riders",
          "Delhi Capitals",
          "Rajasthan Royals",
          "Kolkata Knight Riders",
          "Chennai Super Kings",
          "Delhi Capitals",
          "Rajasthan Royals",
          "Mumbai Indians",
          "Punjab Kings",
          "Delhi Capitals",
          "Mumbai Indians",
          "Chennai Super Kings",
          "Royal Challengers Bangalore",
          "Kolkata Knight Riders",
          "Delhi Capitals",
          "Chennai Super Kings",
          "Rajasthan Royals",
          "Punjab Kings",
          "Royal Challengers Bangalore",
          "Chennai Super Kings",
          "Sunrisers Hyderabad",
          "Delhi Capitals",
          "Chennai Super Kings",
          "Delhi Capitals",
          "Royal Challengers Bangalore",
          "Mumbai Indians",
          "Chennai Super Kings",
          "Rajasthan Royals",
          "Royal Challengers Bangalore",
          "Mumbai Indians",
          "Punjab Kings",
          "Kolkata Knight Riders",
          "Delhi Capitals",
          "Royal Challengers Bangalore",
          "Mumbai Indians",
          "Delhi Capitals",
          "Sunrisers Hyderabad",
          "Mumbai Indians",
          "Sunrisers Hyderabad",
          "Delhi Capitals",
          "Kolkata Knight Riders",
          "Chennai Super Kings",
          "Mumbai Indians",
          "Sunrisers Hyderabad",
          "Rajasthan Royals",
          "Chennai Super Kings",
          "Mumbai Indians",
          "Sunrisers Hyderabad",
          "Kings XI Punjab",
          "Rajasthan Royals",
          "Chennai Super Kings",
          "Kings XI Punjab",
          "Kolkata Knight Riders",
          "Mumbai Indians",
          "Sunrisers Hyderabad",
          "Royal Challengers Bangalore",
          "Kings XI Punjab",
          "Rajasthan Royals",
          "Kolkata Knight Riders",
          "Kings XI Punjab",
          "Royal Challengers Bangalore",
          "Delhi Capitals",
          "Mumbai Indians",
          "Kings XI Punjab",
          "Delhi Capitals",
          "Chennai Super Kings",
          "Royal Challengers Bangalore",
          "Rajasthan Royals",
          "Mumbai Indians",
          "Kolkata Knight Riders",
          "Royal Challengers Bangalore",
          "Delhi Capitals",
          "Sunrisers Hyderabad",
          "Kolkata Knight Riders",
          "Mumbai Indians",
          "Delhi Capitals",
          "Chennai Super Kings",
          "Mumbai Indians",
          "Royal Challengers Bangalore",
          "Delhi Capitals",
          "Sunrisers Hyderabad",
          "Mumbai Indians",
          "Kolkata Knight Riders",
          "Sunrisers Hyderabad",
          "Royal Challengers Bangalore",
          "Rajasthan Royals",
          "Kolkata Knight Riders",
          "Delhi Capitals",
          "Kings XI Punjab",
          "Mumbai Indians",
          "Rajasthan Royals",
          "Royal Challengers Bangalore",
          "Delhi Capitals",
          "Chennai Super Kings",
          "Mumbai Indians",
          "Chennai Super Kings",
          "Delhi Capitals",
          "Mumbai Indians",
          "Kings XI Punjab",
          "Mumbai Indians",
          "Royal Challengers Bangalore",
          "Delhi Capitals",
          "Kolkata Knight Riders",
          "Mumbai Indians",
          "Chennai Super Kings",
          null,
          "Sunrisers Hyderabad",
          "Kolkata Knight Riders",
          "Delhi Capitals",
          "Rajasthan Royals",
          "Mumbai Indians",
          "Rajasthan Royals",
          "Royal Challengers Bangalore",
          "Chennai Super Kings",
          "Delhi Capitals",
          "Sunrisers Hyderabad",
          "Royal Challengers Bangalore",
          "Delhi Capitals",
          "Rajasthan Royals",
          "Royal Challengers Bangalore",
          "Mumbai Indians",
          "Sunrisers Hyderabad",
          "Kings XI Punjab",
          "Mumbai Indians",
          "Chennai Super Kings",
          "Delhi Capitals",
          "Rajasthan Royals",
          "Royal Challengers Bangalore",
          "Delhi Capitals",
          "Chennai Super Kings",
          "Mumbai Indians",
          "Chennai Super Kings",
          "Kings XI Punjab",
          "Kolkata Knight Riders",
          "Delhi Capitals",
          "Mumbai Indians",
          "Chennai Super Kings",
          "Kolkata Knight Riders",
          "Sunrisers Hyderabad",
          "Mumbai Indians",
          "Rajasthan Royals",
          "Kings XI Punjab",
          "Sunrisers Hyderabad",
          "Chennai Super Kings",
          "Delhi Capitals",
          "Kings XI Punjab",
          "Sunrisers Hyderabad",
          "Mumbai Indians",
          "Kolkata Knight Riders",
          "Chennai Super Kings",
          "Kings XI Punjab",
          "Delhi Capitals",
          "Kolkata Knight Riders",
          "Chennai Super Kings",
          "Chennai Super Kings",
          "Sunrisers Hyderabad",
          "Kolkata Knight Riders",
          "Chennai Super Kings",
          "Chennai Super Kings",
          "Delhi Daredevils",
          "Kolkata Knight Riders",
          "Rajasthan Royals",
          "Delhi Daredevils",
          "Royal Challengers Bangalore",
          "Mumbai Indians",
          "Kolkata Knight Riders",
          "Royal Challengers Bangalore",
          "Rajasthan Royals",
          "Chennai Super Kings",
          "Royal Challengers Bangalore",
          "Kolkata Knight Riders",
          "Rajasthan Royals",
          "Sunrisers Hyderabad",
          "Mumbai Indians",
          "Rajasthan Royals",
          "Sunrisers Hyderabad",
          "Kings XI Punjab",
          "Mumbai Indians",
          "Sunrisers Hyderabad",
          "Chennai Super Kings",
          "Mumbai Indians",
          "Kolkata Knight Riders",
          "Delhi Daredevils",
          "Royal Challengers Bangalore",
          "Chennai Super Kings",
          "Sunrisers Hyderabad",
          "Kolkata Knight Riders",
          "Mumbai Indians",
          "Delhi Daredevils",
          "Sunrisers Hyderabad",
          "Chennai Super Kings",
          "Sunrisers Hyderabad",
          "Kings XI Punjab",
          "Rajasthan Royals",
          "Chennai Super Kings",
          "Royal Challengers Bangalore",
          "Kings XI Punjab",
          "Chennai Super Kings",
          "Kings XI Punjab",
          "Kolkata Knight Riders",
          "Mumbai Indians",
          "Kolkata Knight Riders",
          "Kings XI Punjab",
          "Rajasthan Royals",
          "Sunrisers Hyderabad",
          "Delhi Daredevils",
          "Royal Challengers Bangalore",
          "Sunrisers Hyderabad",
          "Rajasthan Royals",
          "Chennai Super Kings",
          "Sunrisers Hyderabad",
          "Kings XI Punjab",
          "Kolkata Knight Riders",
          "Chennai Super Kings",
          "Mumbai Indians",
          "Mumbai Indians",
          "Kolkata Knight Riders",
          "Rising Pune Supergiant",
          "Royal Challengers Bangalore",
          "Rising Pune Supergiant",
          "Mumbai Indians",
          "Sunrisers Hyderabad",
          "Delhi Daredevils",
          "Kings XI Punjab",
          "Delhi Daredevils",
          "Kings XI Punjab",
          "Sunrisers Hyderabad",
          "Kolkata Knight Riders",
          "Gujarat Lions",
          "Mumbai Indians",
          "Rising Pune Supergiant",
          "Kings XI Punjab",
          "Delhi Daredevils",
          "Rising Pune Supergiant",
          "Delhi Daredevils",
          "Rising Pune Supergiant",
          "Mumbai Indians",
          "Sunrisers Hyderabad",
          "Kings XI Punjab",
          "Mumbai Indians",
          "Rising Pune Supergiant",
          "Kolkata Knight Riders",
          "Sunrisers Hyderabad",
          "Gujarat Lions",
          "Kolkata Knight Riders",
          "Rising Pune Supergiant",
          "Kolkata Knight Riders",
          "Kings XI Punjab",
          "Rising Pune Supergiant",
          "Mumbai Indians",
          "Gujarat Lions",
          "Mumbai Indians",
          "Sunrisers Hyderabad",
          "Royal Challengers Bangalore",
          "Kolkata Knight Riders",
          "Sunrisers Hyderabad",
          "Rising Pune Supergiant",
          "Mumbai Indians",
          "Delhi Daredevils",
          "Kolkata Knight Riders",
          "Gujarat Lions",
          "Mumbai Indians",
          "Kolkata Knight Riders",
          "Mumbai Indians",
          "Delhi Daredevils",
          "Kings XI Punjab",
          "Mumbai Indians",
          "Sunrisers Hyderabad",
          "Royal Challengers Bangalore",
          "Kings XI Punjab",
          "Kolkata Knight Riders",
          "Rising Pune Supergiant",
          "Sunrisers Hyderabad",
          "Sunrisers Hyderabad",
          "Sunrisers Hyderabad",
          "Sunrisers Hyderabad",
          "Royal Challengers Bangalore",
          "Royal Challengers Bangalore",
          "Kolkata Knight Riders",
          "Gujarat Lions",
          "Rising Pune Supergiants",
          "Delhi Daredevils",
          "Gujarat Lions",
          "Royal Challengers Bangalore",
          "Rising Pune Supergiants",
          "Royal Challengers Bangalore",
          "Sunrisers Hyderabad",
          "Mumbai Indians",
          "Royal Challengers Bangalore",
          "Kolkata Knight Riders",
          "Kings XI Punjab",
          "Delhi Daredevils",
          "Mumbai Indians",
          "Sunrisers Hyderabad",
          "Royal Challengers Bangalore",
          "Gujarat Lions",
          "Sunrisers Hyderabad",
          "Kings XI Punjab",
          "Royal Challengers Bangalore",
          "Sunrisers Hyderabad",
          "Rising Pune Supergiants",
          "Kolkata Knight Riders",
          "Delhi Daredevils",
          "Kolkata Knight Riders",
          "Kings XI Punjab",
          "Mumbai Indians",
          "Delhi Daredevils",
          "Sunrisers Hyderabad",
          "Gujarat Lions",
          "Mumbai Indians",
          "Gujarat Lions",
          "Rising Pune Supergiants",
          "Mumbai Indians",
          "Kolkata Knight Riders",
          "Gujarat Lions",
          "Sunrisers Hyderabad",
          "Delhi Daredevils",
          "Royal Challengers Bangalore",
          "Sunrisers Hyderabad",
          "Mumbai Indians",
          "Kolkata Knight Riders",
          "Sunrisers Hyderabad",
          "Delhi Daredevils",
          "Kings XI Punjab",
          "Gujarat Lions",
          "Kolkata Knight Riders",
          "Delhi Daredevils",
          "Gujarat Lions",
          "Mumbai Indians",
          "Royal Challengers Bangalore",
          "Gujarat Lions",
          "Kolkata Knight Riders",
          "Rising Pune Supergiants",
          "Mumbai Indians",
          "Chennai Super Kings",
          "Royal Challengers Bangalore",
          "Mumbai Indians",
          null,
          "Mumbai Indians",
          "Rajasthan Royals",
          "Chennai Super Kings",
          "Royal Challengers Bangalore",
          "Mumbai Indians",
          "Kings XI Punjab",
          "Delhi Daredevils",
          "Sunrisers Hyderabad",
          "Chennai Super Kings",
          "Royal Challengers Bangalore",
          "Sunrisers Hyderabad",
          "Kolkata Knight Riders",
          "Mumbai Indians",
          "Sunrisers Hyderabad",
          "Kolkata Knight Riders",
          "Royal Challengers Bangalore",
          "Mumbai Indians",
          "Kolkata Knight Riders",
          "Chennai Super Kings",
          "Mumbai Indians",
          "Rajasthan Royals",
          "Royal Challengers Bangalore",
          "Sunrisers Hyderabad",
          "Mumbai Indians",
          "Delhi Daredevils",
          "Kolkata Knight Riders",
          "Chennai Super Kings",
          "Sunrisers Hyderabad",
          "Royal Challengers Bangalore",
          "Chennai Super Kings",
          "Mumbai Indians",
          "Royal Challengers Bangalore",
          "Delhi Daredevils",
          "Sunrisers Hyderabad",
          "Chennai Super Kings",
          "Kings XI Punjab",
          "Kolkata Knight Riders",
          "Rajasthan Royals",
          "Mumbai Indians",
          "Delhi Daredevils",
          "Kolkata Knight Riders",
          "Chennai Super Kings",
          "Rajasthan Royals",
          "Delhi Daredevils",
          "Rajasthan Royals",
          "Sunrisers Hyderabad",
          "Kings XI Punjab",
          "Rajasthan Royals",
          "Royal Challengers Bangalore",
          "Chennai Super Kings",
          "Rajasthan Royals",
          "Chennai Super Kings",
          "Kolkata Knight Riders",
          "Kolkata Knight Riders",
          "Kings XI Punjab",
          "Chennai Super Kings",
          "Kolkata Knight Riders",
          "Mumbai Indians",
          "Kings XI Punjab",
          "Chennai Super Kings",
          "Kolkata Knight Riders",
          "Mumbai Indians",
          "Kings XI Punjab",
          "Kolkata Knight Riders",
          "Sunrisers Hyderabad",
          "Mumbai Indians",
          "Kolkata Knight Riders",
          "Sunrisers Hyderabad",
          "Kings XI Punjab",
          "Mumbai Indians",
          "Royal Challengers Bangalore",
          "Kolkata Knight Riders",
          "Rajasthan Royals",
          "Kolkata Knight Riders",
          "Kings XI Punjab",
          "Royal Challengers Bangalore",
          "Chennai Super Kings",
          "Mumbai Indians",
          "Kolkata Knight Riders",
          "Rajasthan Royals",
          "Chennai Super Kings",
          "Sunrisers Hyderabad",
          "Kings XI Punjab",
          "Sunrisers Hyderabad",
          "Kolkata Knight Riders",
          "Kings XI Punjab",
          "Mumbai Indians",
          "Chennai Super Kings",
          "Rajasthan Royals",
          "Royal Challengers Bangalore",
          "Rajasthan Royals",
          "Mumbai Indians",
          "Chennai Super Kings",
          "Sunrisers Hyderabad",
          "Rajasthan Royals",
          "Kings XI Punjab",
          "Chennai Super Kings",
          "Delhi Daredevils",
          "Kings XI Punjab",
          "Rajasthan Royals",
          "Sunrisers Hyderabad",
          "Chennai Super Kings",
          "Kolkata Knight Riders",
          "Chennai Super Kings",
          "Kings XI Punjab",
          "Chennai Super Kings",
          "Kings XI Punjab",
          "Delhi Daredevils",
          "Royal Challengers Bangalore",
          "Rajasthan Royals",
          "Kings XI Punjab",
          "Royal Challengers Bangalore",
          "Kolkata Knight Riders",
          "Mumbai Indians",
          "Mumbai Indians",
          "Rajasthan Royals",
          "Chennai Super Kings",
          "Sunrisers Hyderabad",
          "Pune Warriors",
          "Royal Challengers Bangalore",
          "Kings XI Punjab",
          "Sunrisers Hyderabad",
          "Kings XI Punjab",
          "Mumbai Indians",
          "Pune Warriors",
          "Chennai Super Kings",
          "Kings XI Punjab",
          "Mumbai Indians",
          "Rajasthan Royals",
          "Kolkata Knight Riders",
          "Sunrisers Hyderabad",
          "Mumbai Indians",
          "Royal Challengers Bangalore",
          "Kolkata Knight Riders",
          "Rajasthan Royals",
          "Chennai Super Kings",
          "Rajasthan Royals",
          "Mumbai Indians",
          "Kings XI Punjab",
          "Rajasthan Royals",
          "Mumbai Indians",
          "Sunrisers Hyderabad",
          "Kolkata Knight Riders",
          "Royal Challengers Bangalore",
          "Chennai Super Kings",
          "Delhi Daredevils",
          "Sunrisers Hyderabad",
          "Chennai Super Kings",
          "Mumbai Indians",
          "Rajasthan Royals",
          "Chennai Super Kings",
          "Delhi Daredevils",
          "Mumbai Indians",
          "Rajasthan Royals",
          "Kolkata Knight Riders",
          "Chennai Super Kings",
          "Mumbai Indians",
          "Kings XI Punjab",
          "Royal Challengers Bangalore",
          "Chennai Super Kings",
          "Kings XI Punjab",
          "Delhi Daredevils",
          "Royal Challengers Bangalore",
          "Chennai Super Kings",
          "Sunrisers Hyderabad",
          "Chennai Super Kings",
          "Rajasthan Royals",
          "Sunrisers Hyderabad",
          "Kings XI Punjab",
          "Royal Challengers Bangalore",
          "Pune Warriors",
          "Rajasthan Royals",
          "Kolkata Knight Riders",
          "Chennai Super Kings",
          "Mumbai Indians",
          "Sunrisers Hyderabad",
          "Pune Warriors",
          "Royal Challengers Bangalore",
          "Chennai Super Kings",
          "Royal Challengers Bangalore",
          "Mumbai Indians",
          "Rajasthan Royals",
          "Sunrisers Hyderabad",
          "Kings XI Punjab",
          "Mumbai Indians",
          "Rajasthan Royals",
          "Sunrisers Hyderabad",
          "Royal Challengers Bangalore",
          "Kolkata Knight Riders",
          "Kolkata Knight Riders",
          "Chennai Super Kings",
          "Chennai Super Kings",
          "Kolkata Knight Riders",
          "Mumbai Indians",
          "Deccan Chargers",
          "Kolkata Knight Riders",
          "Delhi Daredevils",
          "Deccan Chargers",
          "Kings XI Punjab",
          "Royal Challengers Bangalore",
          "Kolkata Knight Riders",
          "Delhi Daredevils",
          "Chennai Super Kings",
          "Mumbai Indians",
          "Kings XI Punjab",
          "Rajasthan Royals",
          "Chennai Super Kings",
          "Mumbai Indians",
          "Royal Challengers Bangalore",
          "Chennai Super Kings",
          "Delhi Daredevils",
          "Royal Challengers Bangalore",
          "Kings XI Punjab",
          "Rajasthan Royals",
          "Kolkata Knight Riders",
          "Royal Challengers Bangalore",
          "Mumbai Indians",
          "Rajasthan Royals",
          "Kolkata Knight Riders",
          "Chennai Super Kings",
          "Mumbai Indians",
          "Kings XI Punjab",
          "Delhi Daredevils",
          "Deccan Chargers",
          "Kolkata Knight Riders",
          "Mumbai Indians",
          "Delhi Daredevils",
          "Kolkata Knight Riders",
          "Kings XI Punjab",
          "Delhi Daredevils",
          "Deccan Chargers",
          "Mumbai Indians",
          "Delhi Daredevils",
          "Royal Challengers Bangalore",
          "Kings XI Punjab",
          "Kolkata Knight Riders",
          "Pune Warriors",
          "Chennai Super Kings",
          "Royal Challengers Bangalore",
          "Chennai Super Kings",
          "Delhi Daredevils",
          "Kolkata Knight Riders",
          "Royal Challengers Bangalore",
          "Rajasthan Royals",
          "Delhi Daredevils",
          "Rajasthan Royals",
          "Kings XI Punjab",
          "Pune Warriors",
          "Kolkata Knight Riders",
          "Kings XI Punjab",
          "Chennai Super Kings",
          "Mumbai Indians",
          "Delhi Daredevils",
          "Kolkata Knight Riders",
          "Mumbai Indians",
          "Pune Warriors",
          "Rajasthan Royals",
          "Chennai Super Kings",
          "Royal Challengers Bangalore",
          "Rajasthan Royals",
          "Pune Warriors",
          "Delhi Daredevils",
          "Mumbai Indians",
          "Chennai Super Kings",
          "Royal Challengers Bangalore",
          "Mumbai Indians",
          "Chennai Super Kings",
          "Mumbai Indians",
          "Royal Challengers Bangalore",
          "Deccan Chargers",
          "Rajasthan Royals",
          "Kolkata Knight Riders",
          "Chennai Super Kings",
          "Kings XI Punjab",
          "Deccan Chargers",
          "Kochi Tuskers Kerala",
          "Kings XI Punjab",
          "Royal Challengers Bangalore",
          "Deccan Chargers",
          "Kings XI Punjab",
          "Chennai Super Kings",
          "Royal Challengers Bangalore",
          "Kings XI Punjab",
          "Pune Warriors",
          "Chennai Super Kings",
          "Pune Warriors",
          "Royal Challengers Bangalore",
          "Mumbai Indians",
          "Kolkata Knight Riders",
          "Royal Challengers Bangalore",
          "Delhi Daredevils",
          "Kochi Tuskers Kerala",
          "Mumbai Indians",
          "Chennai Super Kings",
          "Kolkata Knight Riders",
          "Kochi Tuskers Kerala",
          "Mumbai Indians",
          "Rajasthan Royals",
          "Chennai Super Kings",
          "Delhi Daredevils",
          "Kolkata Knight Riders",
          "Royal Challengers Bangalore",
          "Rajasthan Royals",
          "Kolkata Knight Riders",
          "Chennai Super Kings",
          "Deccan Chargers",
          "Royal Challengers Bangalore",
          "Chennai Super Kings",
          "Rajasthan Royals",
          "Mumbai Indians",
          "Delhi Daredevils",
          "Royal Challengers Bangalore",
          "Mumbai Indians",
          "Kings XI Punjab",
          "Mumbai Indians",
          "Kochi Tuskers Kerala",
          "Deccan Chargers",
          "Kochi Tuskers Kerala",
          "Kolkata Knight Riders",
          "Delhi Daredevils",
          "Kings XI Punjab",
          "Chennai Super Kings",
          "Kochi Tuskers Kerala",
          "Kolkata Knight Riders",
          "Deccan Chargers",
          "Pune Warriors",
          "Kings XI Punjab",
          "Rajasthan Royals",
          "Mumbai Indians",
          "Kolkata Knight Riders",
          "Pune Warriors",
          "Mumbai Indians",
          "Royal Challengers Bangalore",
          "Rajasthan Royals",
          "Chennai Super Kings",
          "Chennai Super Kings",
          "Royal Challengers Bangalore",
          "Chennai Super Kings",
          "Mumbai Indians",
          "Kolkata Knight Riders",
          "Deccan Chargers",
          "Chennai Super Kings",
          "Kolkata Knight Riders",
          "Mumbai Indians",
          "Deccan Chargers",
          "Delhi Daredevils",
          "Royal Challengers Bangalore",
          "Chennai Super Kings",
          "Mumbai Indians",
          "Deccan Chargers",
          "Mumbai Indians",
          "Kings XI Punjab",
          "Royal Challengers Bangalore",
          "Deccan Chargers",
          "Kings XI Punjab",
          "Deccan Chargers",
          "Kolkata Knight Riders",
          "Rajasthan Royals",
          "Chennai Super Kings",
          "Rajasthan Royals",
          "Kings XI Punjab",
          "Delhi Daredevils",
          "Mumbai Indians",
          "Chennai Super Kings",
          "Royal Challengers Bangalore",
          "Kolkata Knight Riders",
          "Delhi Daredevils",
          "Chennai Super Kings",
          "Mumbai Indians",
          "Delhi Daredevils",
          "Mumbai Indians",
          "Rajasthan Royals",
          "Kolkata Knight Riders",
          "Rajasthan Royals",
          "Mumbai Indians",
          "Delhi Daredevils",
          "Rajasthan Royals",
          "Royal Challengers Bangalore",
          "Mumbai Indians",
          "Kings XI Punjab",
          "Deccan Chargers",
          "Royal Challengers Bangalore",
          "Rajasthan Royals",
          "Chennai Super Kings",
          "Deccan Chargers",
          "Royal Challengers Bangalore",
          "Mumbai Indians",
          "Chennai Super Kings",
          "Royal Challengers Bangalore",
          "Delhi Daredevils",
          "Kolkata Knight Riders",
          "Deccan Chargers",
          "Delhi Daredevils",
          "Mumbai Indians",
          "Kolkata Knight Riders",
          "Deccan Chargers",
          "Royal Challengers Bangalore",
          "Deccan Chargers",
          "Royal Challengers Bangalore",
          "Delhi Daredevils",
          "Chennai Super Kings",
          "Kolkata Knight Riders",
          "Royal Challengers Bangalore",
          "Kolkata Knight Riders",
          "Delhi Daredevils",
          "Kings XI Punjab",
          "Chennai Super Kings",
          "Deccan Chargers",
          "Kings XI Punjab",
          "Rajasthan Royals",
          "Royal Challengers Bangalore",
          "Delhi Daredevils",
          "Mumbai Indians",
          "Royal Challengers Bangalore",
          "Deccan Chargers",
          "Delhi Daredevils",
          "Mumbai Indians",
          "Kings XI Punjab",
          "Chennai Super Kings",
          "Delhi Daredevils",
          "Chennai Super Kings",
          "Rajasthan Royals",
          "Deccan Chargers",
          "Delhi Daredevils",
          "Rajasthan Royals",
          "Chennai Super Kings",
          "Royal Challengers Bangalore",
          "Kings XI Punjab",
          "Rajasthan Royals",
          "Chennai Super Kings",
          "Mumbai Indians",
          "Royal Challengers Bangalore",
          "Chennai Super Kings",
          "Delhi Daredevils",
          "Kings XI Punjab",
          "Royal Challengers Bangalore",
          "Rajasthan Royals",
          "Mumbai Indians",
          "Deccan Chargers",
          "Delhi Daredevils",
          "Kings XI Punjab",
          "Deccan Chargers",
          "Kings XI Punjab",
          "Rajasthan Royals",
          "Delhi Daredevils",
          "Deccan Chargers",
          "Kolkata Knight Riders",
          "Chennai Super Kings",
          "Deccan Chargers",
          "Delhi Daredevils",
          "Royal Challengers Bangalore",
          "Mumbai Indians",
          "Rajasthan Royals",
          "Chennai Super Kings",
          "Rajasthan Royals",
          "Kings XI Punjab",
          "Mumbai Indians",
          "Chennai Super Kings",
          "Rajasthan Royals",
          "Kolkata Knight Riders",
          "Royal Challengers Bangalore",
          "Rajasthan Royals",
          "Delhi Daredevils",
          "Kings XI Punjab",
          "Royal Challengers Bangalore",
          "Kings XI Punjab",
          "Rajasthan Royals",
          "Delhi Daredevils",
          "Chennai Super Kings",
          "Mumbai Indians",
          "Kings XI Punjab",
          "Rajasthan Royals",
          "Mumbai Indians",
          "Delhi Daredevils",
          "Mumbai Indians",
          "Kolkata Knight Riders",
          "Kings XI Punjab",
          "Rajasthan Royals",
          "Kolkata Knight Riders",
          "Chennai Super Kings",
          "Rajasthan Royals",
          "Chennai Super Kings",
          "Kolkata Knight Riders",
          "Mumbai Indians",
          "Deccan Chargers",
          "Kings XI Punjab",
          "Rajasthan Royals",
          "Mumbai Indians",
          "Royal Challengers Bangalore",
          "Kings XI Punjab",
          "Delhi Daredevils",
          "Rajasthan Royals",
          "Kings XI Punjab",
          "Delhi Daredevils",
          "Mumbai Indians",
          "Chennai Super Kings",
          "Kings XI Punjab",
          "Deccan Chargers",
          "Chennai Super Kings",
          "Rajasthan Royals",
          "Kings XI Punjab",
          "Rajasthan Royals",
          "Chennai Super Kings",
          "Delhi Daredevils",
          "Rajasthan Royals",
          "Kolkata Knight Riders",
          "Royal Challengers Bangalore",
          "Delhi Daredevils",
          "Chennai Super Kings",
          "Kolkata Knight Riders"
         ],
         "xaxis": "x",
         "yaxis": "y"
        }
       ],
       "layout": {
        "barmode": "relative",
        "legend": {
         "tracegroupgap": 0
        },
        "margin": {
         "t": 60
        },
        "template": {
         "data": {
          "bar": [
           {
            "error_x": {
             "color": "#2a3f5f"
            },
            "error_y": {
             "color": "#2a3f5f"
            },
            "marker": {
             "line": {
              "color": "#E5ECF6",
              "width": 0.5
             },
             "pattern": {
              "fillmode": "overlay",
              "size": 10,
              "solidity": 0.2
             }
            },
            "type": "bar"
           }
          ],
          "barpolar": [
           {
            "marker": {
             "line": {
              "color": "#E5ECF6",
              "width": 0.5
             },
             "pattern": {
              "fillmode": "overlay",
              "size": 10,
              "solidity": 0.2
             }
            },
            "type": "barpolar"
           }
          ],
          "carpet": [
           {
            "aaxis": {
             "endlinecolor": "#2a3f5f",
             "gridcolor": "white",
             "linecolor": "white",
             "minorgridcolor": "white",
             "startlinecolor": "#2a3f5f"
            },
            "baxis": {
             "endlinecolor": "#2a3f5f",
             "gridcolor": "white",
             "linecolor": "white",
             "minorgridcolor": "white",
             "startlinecolor": "#2a3f5f"
            },
            "type": "carpet"
           }
          ],
          "choropleth": [
           {
            "colorbar": {
             "outlinewidth": 0,
             "ticks": ""
            },
            "type": "choropleth"
           }
          ],
          "contour": [
           {
            "colorbar": {
             "outlinewidth": 0,
             "ticks": ""
            },
            "colorscale": [
             [
              0,
              "#0d0887"
             ],
             [
              0.1111111111111111,
              "#46039f"
             ],
             [
              0.2222222222222222,
              "#7201a8"
             ],
             [
              0.3333333333333333,
              "#9c179e"
             ],
             [
              0.4444444444444444,
              "#bd3786"
             ],
             [
              0.5555555555555556,
              "#d8576b"
             ],
             [
              0.6666666666666666,
              "#ed7953"
             ],
             [
              0.7777777777777778,
              "#fb9f3a"
             ],
             [
              0.8888888888888888,
              "#fdca26"
             ],
             [
              1,
              "#f0f921"
             ]
            ],
            "type": "contour"
           }
          ],
          "contourcarpet": [
           {
            "colorbar": {
             "outlinewidth": 0,
             "ticks": ""
            },
            "type": "contourcarpet"
           }
          ],
          "heatmap": [
           {
            "colorbar": {
             "outlinewidth": 0,
             "ticks": ""
            },
            "colorscale": [
             [
              0,
              "#0d0887"
             ],
             [
              0.1111111111111111,
              "#46039f"
             ],
             [
              0.2222222222222222,
              "#7201a8"
             ],
             [
              0.3333333333333333,
              "#9c179e"
             ],
             [
              0.4444444444444444,
              "#bd3786"
             ],
             [
              0.5555555555555556,
              "#d8576b"
             ],
             [
              0.6666666666666666,
              "#ed7953"
             ],
             [
              0.7777777777777778,
              "#fb9f3a"
             ],
             [
              0.8888888888888888,
              "#fdca26"
             ],
             [
              1,
              "#f0f921"
             ]
            ],
            "type": "heatmap"
           }
          ],
          "heatmapgl": [
           {
            "colorbar": {
             "outlinewidth": 0,
             "ticks": ""
            },
            "colorscale": [
             [
              0,
              "#0d0887"
             ],
             [
              0.1111111111111111,
              "#46039f"
             ],
             [
              0.2222222222222222,
              "#7201a8"
             ],
             [
              0.3333333333333333,
              "#9c179e"
             ],
             [
              0.4444444444444444,
              "#bd3786"
             ],
             [
              0.5555555555555556,
              "#d8576b"
             ],
             [
              0.6666666666666666,
              "#ed7953"
             ],
             [
              0.7777777777777778,
              "#fb9f3a"
             ],
             [
              0.8888888888888888,
              "#fdca26"
             ],
             [
              1,
              "#f0f921"
             ]
            ],
            "type": "heatmapgl"
           }
          ],
          "histogram": [
           {
            "marker": {
             "pattern": {
              "fillmode": "overlay",
              "size": 10,
              "solidity": 0.2
             }
            },
            "type": "histogram"
           }
          ],
          "histogram2d": [
           {
            "colorbar": {
             "outlinewidth": 0,
             "ticks": ""
            },
            "colorscale": [
             [
              0,
              "#0d0887"
             ],
             [
              0.1111111111111111,
              "#46039f"
             ],
             [
              0.2222222222222222,
              "#7201a8"
             ],
             [
              0.3333333333333333,
              "#9c179e"
             ],
             [
              0.4444444444444444,
              "#bd3786"
             ],
             [
              0.5555555555555556,
              "#d8576b"
             ],
             [
              0.6666666666666666,
              "#ed7953"
             ],
             [
              0.7777777777777778,
              "#fb9f3a"
             ],
             [
              0.8888888888888888,
              "#fdca26"
             ],
             [
              1,
              "#f0f921"
             ]
            ],
            "type": "histogram2d"
           }
          ],
          "histogram2dcontour": [
           {
            "colorbar": {
             "outlinewidth": 0,
             "ticks": ""
            },
            "colorscale": [
             [
              0,
              "#0d0887"
             ],
             [
              0.1111111111111111,
              "#46039f"
             ],
             [
              0.2222222222222222,
              "#7201a8"
             ],
             [
              0.3333333333333333,
              "#9c179e"
             ],
             [
              0.4444444444444444,
              "#bd3786"
             ],
             [
              0.5555555555555556,
              "#d8576b"
             ],
             [
              0.6666666666666666,
              "#ed7953"
             ],
             [
              0.7777777777777778,
              "#fb9f3a"
             ],
             [
              0.8888888888888888,
              "#fdca26"
             ],
             [
              1,
              "#f0f921"
             ]
            ],
            "type": "histogram2dcontour"
           }
          ],
          "mesh3d": [
           {
            "colorbar": {
             "outlinewidth": 0,
             "ticks": ""
            },
            "type": "mesh3d"
           }
          ],
          "parcoords": [
           {
            "line": {
             "colorbar": {
              "outlinewidth": 0,
              "ticks": ""
             }
            },
            "type": "parcoords"
           }
          ],
          "pie": [
           {
            "automargin": true,
            "type": "pie"
           }
          ],
          "scatter": [
           {
            "fillpattern": {
             "fillmode": "overlay",
             "size": 10,
             "solidity": 0.2
            },
            "type": "scatter"
           }
          ],
          "scatter3d": [
           {
            "line": {
             "colorbar": {
              "outlinewidth": 0,
              "ticks": ""
             }
            },
            "marker": {
             "colorbar": {
              "outlinewidth": 0,
              "ticks": ""
             }
            },
            "type": "scatter3d"
           }
          ],
          "scattercarpet": [
           {
            "marker": {
             "colorbar": {
              "outlinewidth": 0,
              "ticks": ""
             }
            },
            "type": "scattercarpet"
           }
          ],
          "scattergeo": [
           {
            "marker": {
             "colorbar": {
              "outlinewidth": 0,
              "ticks": ""
             }
            },
            "type": "scattergeo"
           }
          ],
          "scattergl": [
           {
            "marker": {
             "colorbar": {
              "outlinewidth": 0,
              "ticks": ""
             }
            },
            "type": "scattergl"
           }
          ],
          "scattermapbox": [
           {
            "marker": {
             "colorbar": {
              "outlinewidth": 0,
              "ticks": ""
             }
            },
            "type": "scattermapbox"
           }
          ],
          "scatterpolar": [
           {
            "marker": {
             "colorbar": {
              "outlinewidth": 0,
              "ticks": ""
             }
            },
            "type": "scatterpolar"
           }
          ],
          "scatterpolargl": [
           {
            "marker": {
             "colorbar": {
              "outlinewidth": 0,
              "ticks": ""
             }
            },
            "type": "scatterpolargl"
           }
          ],
          "scatterternary": [
           {
            "marker": {
             "colorbar": {
              "outlinewidth": 0,
              "ticks": ""
             }
            },
            "type": "scatterternary"
           }
          ],
          "surface": [
           {
            "colorbar": {
             "outlinewidth": 0,
             "ticks": ""
            },
            "colorscale": [
             [
              0,
              "#0d0887"
             ],
             [
              0.1111111111111111,
              "#46039f"
             ],
             [
              0.2222222222222222,
              "#7201a8"
             ],
             [
              0.3333333333333333,
              "#9c179e"
             ],
             [
              0.4444444444444444,
              "#bd3786"
             ],
             [
              0.5555555555555556,
              "#d8576b"
             ],
             [
              0.6666666666666666,
              "#ed7953"
             ],
             [
              0.7777777777777778,
              "#fb9f3a"
             ],
             [
              0.8888888888888888,
              "#fdca26"
             ],
             [
              1,
              "#f0f921"
             ]
            ],
            "type": "surface"
           }
          ],
          "table": [
           {
            "cells": {
             "fill": {
              "color": "#EBF0F8"
             },
             "line": {
              "color": "white"
             }
            },
            "header": {
             "fill": {
              "color": "#C8D4E3"
             },
             "line": {
              "color": "white"
             }
            },
            "type": "table"
           }
          ]
         },
         "layout": {
          "annotationdefaults": {
           "arrowcolor": "#2a3f5f",
           "arrowhead": 0,
           "arrowwidth": 1
          },
          "autotypenumbers": "strict",
          "coloraxis": {
           "colorbar": {
            "outlinewidth": 0,
            "ticks": ""
           }
          },
          "colorscale": {
           "diverging": [
            [
             0,
             "#8e0152"
            ],
            [
             0.1,
             "#c51b7d"
            ],
            [
             0.2,
             "#de77ae"
            ],
            [
             0.3,
             "#f1b6da"
            ],
            [
             0.4,
             "#fde0ef"
            ],
            [
             0.5,
             "#f7f7f7"
            ],
            [
             0.6,
             "#e6f5d0"
            ],
            [
             0.7,
             "#b8e186"
            ],
            [
             0.8,
             "#7fbc41"
            ],
            [
             0.9,
             "#4d9221"
            ],
            [
             1,
             "#276419"
            ]
           ],
           "sequential": [
            [
             0,
             "#0d0887"
            ],
            [
             0.1111111111111111,
             "#46039f"
            ],
            [
             0.2222222222222222,
             "#7201a8"
            ],
            [
             0.3333333333333333,
             "#9c179e"
            ],
            [
             0.4444444444444444,
             "#bd3786"
            ],
            [
             0.5555555555555556,
             "#d8576b"
            ],
            [
             0.6666666666666666,
             "#ed7953"
            ],
            [
             0.7777777777777778,
             "#fb9f3a"
            ],
            [
             0.8888888888888888,
             "#fdca26"
            ],
            [
             1,
             "#f0f921"
            ]
           ],
           "sequentialminus": [
            [
             0,
             "#0d0887"
            ],
            [
             0.1111111111111111,
             "#46039f"
            ],
            [
             0.2222222222222222,
             "#7201a8"
            ],
            [
             0.3333333333333333,
             "#9c179e"
            ],
            [
             0.4444444444444444,
             "#bd3786"
            ],
            [
             0.5555555555555556,
             "#d8576b"
            ],
            [
             0.6666666666666666,
             "#ed7953"
            ],
            [
             0.7777777777777778,
             "#fb9f3a"
            ],
            [
             0.8888888888888888,
             "#fdca26"
            ],
            [
             1,
             "#f0f921"
            ]
           ]
          },
          "colorway": [
           "#636efa",
           "#EF553B",
           "#00cc96",
           "#ab63fa",
           "#FFA15A",
           "#19d3f3",
           "#FF6692",
           "#B6E880",
           "#FF97FF",
           "#FECB52"
          ],
          "font": {
           "color": "#2a3f5f"
          },
          "geo": {
           "bgcolor": "white",
           "lakecolor": "white",
           "landcolor": "#E5ECF6",
           "showlakes": true,
           "showland": true,
           "subunitcolor": "white"
          },
          "hoverlabel": {
           "align": "left"
          },
          "hovermode": "closest",
          "mapbox": {
           "style": "light"
          },
          "paper_bgcolor": "white",
          "plot_bgcolor": "#E5ECF6",
          "polar": {
           "angularaxis": {
            "gridcolor": "white",
            "linecolor": "white",
            "ticks": ""
           },
           "bgcolor": "#E5ECF6",
           "radialaxis": {
            "gridcolor": "white",
            "linecolor": "white",
            "ticks": ""
           }
          },
          "scene": {
           "xaxis": {
            "backgroundcolor": "#E5ECF6",
            "gridcolor": "white",
            "gridwidth": 2,
            "linecolor": "white",
            "showbackground": true,
            "ticks": "",
            "zerolinecolor": "white"
           },
           "yaxis": {
            "backgroundcolor": "#E5ECF6",
            "gridcolor": "white",
            "gridwidth": 2,
            "linecolor": "white",
            "showbackground": true,
            "ticks": "",
            "zerolinecolor": "white"
           },
           "zaxis": {
            "backgroundcolor": "#E5ECF6",
            "gridcolor": "white",
            "gridwidth": 2,
            "linecolor": "white",
            "showbackground": true,
            "ticks": "",
            "zerolinecolor": "white"
           }
          },
          "shapedefaults": {
           "line": {
            "color": "#2a3f5f"
           }
          },
          "ternary": {
           "aaxis": {
            "gridcolor": "white",
            "linecolor": "white",
            "ticks": ""
           },
           "baxis": {
            "gridcolor": "white",
            "linecolor": "white",
            "ticks": ""
           },
           "bgcolor": "#E5ECF6",
           "caxis": {
            "gridcolor": "white",
            "linecolor": "white",
            "ticks": ""
           }
          },
          "title": {
           "x": 0.05
          },
          "xaxis": {
           "automargin": true,
           "gridcolor": "white",
           "linecolor": "white",
           "ticks": "",
           "title": {
            "standoff": 15
           },
           "zerolinecolor": "white",
           "zerolinewidth": 2
          },
          "yaxis": {
           "automargin": true,
           "gridcolor": "white",
           "linecolor": "white",
           "ticks": "",
           "title": {
            "standoff": 15
           },
           "zerolinecolor": "white",
           "zerolinewidth": 2
          }
         }
        },
        "xaxis": {
         "anchor": "y",
         "domain": [
          0,
          1
         ],
         "title": {
          "text": "WinningTeam"
         }
        },
        "yaxis": {
         "anchor": "x",
         "domain": [
          0,
          1
         ],
         "title": {
          "text": "count"
         }
        }
       }
      },
      "text/html": [
       "<div>                            <div id=\"0569dea6-d0a6-4c75-904c-8d6d3149ef2a\" class=\"plotly-graph-div\" style=\"height:525px; width:100%;\"></div>            <script type=\"text/javascript\">                require([\"plotly\"], function(Plotly) {                    window.PLOTLYENV=window.PLOTLYENV || {};                                    if (document.getElementById(\"0569dea6-d0a6-4c75-904c-8d6d3149ef2a\")) {                    Plotly.newPlot(                        \"0569dea6-d0a6-4c75-904c-8d6d3149ef2a\",                        [{\"alignmentgroup\":\"True\",\"bingroup\":\"x\",\"hovertemplate\":\"WinningTeam=%{x}<br>count=%{y}<extra></extra>\",\"legendgroup\":\"\",\"marker\":{\"color\":\"#636efa\",\"pattern\":{\"shape\":\"\"}},\"name\":\"\",\"offsetgroup\":\"\",\"orientation\":\"v\",\"showlegend\":false,\"x\":[\"Gujarat Titans\",\"Rajasthan Royals\",\"Royal Challengers Bangalore\",\"Gujarat Titans\",\"Punjab Kings\",\"Mumbai Indians\",\"Rajasthan Royals\",\"Royal Challengers Bangalore\",\"Lucknow Super Giants\",\"Sunrisers Hyderabad\",\"Delhi Capitals\",\"Rajasthan Royals\",\"Gujarat Titans\",\"Kolkata Knight Riders\",\"Punjab Kings\",\"Mumbai Indians\",\"Delhi Capitals\",\"Gujarat Titans\",\"Kolkata Knight Riders\",\"Chennai Super Kings\",\"Royal Challengers Bangalore\",\"Lucknow Super Giants\",\"Rajasthan Royals\",\"Mumbai Indians\",\"Delhi Capitals\",\"Royal Challengers Bangalore\",\"Punjab Kings\",\"Kolkata Knight Riders\",\"Chennai Super Kings\",\"Lucknow Super Giants\",\"Mumbai Indians\",\"Gujarat Titans\",\"Lucknow Super Giants\",\"Delhi Capitals\",\"Gujarat Titans\",\"Rajasthan Royals\",\"Punjab Kings\",\"Lucknow Super Giants\",\"Sunrisers Hyderabad\",\"Gujarat Titans\",\"Rajasthan Royals\",\"Chennai Super Kings\",\"Delhi Capitals\",\"Royal Challengers Bangalore\",\"Rajasthan Royals\",\"Gujarat Titans\",\"Sunrisers Hyderabad\",\"Royal Challengers Bangalore\",\"Lucknow Super Giants\",\"Sunrisers Hyderabad\",\"Gujarat Titans\",\"Punjab Kings\",\"Chennai Super Kings\",\"Sunrisers Hyderabad\",\"Rajasthan Royals\",\"Delhi Capitals\",\"Royal Challengers Bangalore\",\"Sunrisers Hyderabad\",\"Gujarat Titans\",\"Lucknow Super Giants\",\"Kolkata Knight Riders\",\"Royal Challengers Bangalore\",\"Lucknow Super Giants\",\"Punjab Kings\",\"Gujarat Titans\",\"Rajasthan Royals\",\"Kolkata Knight Riders\",\"Lucknow Super Giants\",\"Royal Challengers Bangalore\",\"Rajasthan Royals\",\"Gujarat Titans\",\"Punjab Kings\",\"Delhi Capitals\",\"Kolkata Knight Riders\",\"Chennai Super Kings\",\"Kolkata Knight Riders\",\"Kolkata Knight Riders\",\"Chennai Super Kings\",\"Royal Challengers Bangalore\",\"Mumbai Indians\",\"Kolkata Knight Riders\",\"Punjab Kings\",\"Sunrisers Hyderabad\",\"Mumbai Indians\",\"Delhi Capitals\",\"Royal Challengers Bangalore\",\"Kolkata Knight Riders\",\"Delhi Capitals\",\"Rajasthan Royals\",\"Punjab Kings\",\"Chennai Super Kings\",\"Royal Challengers Bangalore\",\"Mumbai Indians\",\"Kolkata Knight Riders\",\"Sunrisers Hyderabad\",\"Chennai Super Kings\",\"Royal Challengers Bangalore\",\"Delhi Capitals\",\"Punjab Kings\",\"Chennai Super Kings\",\"Kolkata Knight Riders\",\"Delhi Capitals\",\"Rajasthan Royals\",\"Kolkata Knight Riders\",\"Chennai Super Kings\",\"Delhi Capitals\",\"Rajasthan Royals\",\"Mumbai Indians\",\"Punjab Kings\",\"Delhi Capitals\",\"Mumbai Indians\",\"Chennai Super Kings\",\"Royal Challengers Bangalore\",\"Kolkata Knight Riders\",\"Delhi Capitals\",\"Chennai Super Kings\",\"Rajasthan Royals\",\"Punjab Kings\",\"Royal Challengers Bangalore\",\"Chennai Super Kings\",\"Sunrisers Hyderabad\",\"Delhi Capitals\",\"Chennai Super Kings\",\"Delhi Capitals\",\"Royal Challengers Bangalore\",\"Mumbai Indians\",\"Chennai Super Kings\",\"Rajasthan Royals\",\"Royal Challengers Bangalore\",\"Mumbai Indians\",\"Punjab Kings\",\"Kolkata Knight Riders\",\"Delhi Capitals\",\"Royal Challengers Bangalore\",\"Mumbai Indians\",\"Delhi Capitals\",\"Sunrisers Hyderabad\",\"Mumbai Indians\",\"Sunrisers Hyderabad\",\"Delhi Capitals\",\"Kolkata Knight Riders\",\"Chennai Super Kings\",\"Mumbai Indians\",\"Sunrisers Hyderabad\",\"Rajasthan Royals\",\"Chennai Super Kings\",\"Mumbai Indians\",\"Sunrisers Hyderabad\",\"Kings XI Punjab\",\"Rajasthan Royals\",\"Chennai Super Kings\",\"Kings XI Punjab\",\"Kolkata Knight Riders\",\"Mumbai Indians\",\"Sunrisers Hyderabad\",\"Royal Challengers Bangalore\",\"Kings XI Punjab\",\"Rajasthan Royals\",\"Kolkata Knight Riders\",\"Kings XI Punjab\",\"Royal Challengers Bangalore\",\"Delhi Capitals\",\"Mumbai Indians\",\"Kings XI Punjab\",\"Delhi Capitals\",\"Chennai Super Kings\",\"Royal Challengers Bangalore\",\"Rajasthan Royals\",\"Mumbai Indians\",\"Kolkata Knight Riders\",\"Royal Challengers Bangalore\",\"Delhi Capitals\",\"Sunrisers Hyderabad\",\"Kolkata Knight Riders\",\"Mumbai Indians\",\"Delhi Capitals\",\"Chennai Super Kings\",\"Mumbai Indians\",\"Royal Challengers Bangalore\",\"Delhi Capitals\",\"Sunrisers Hyderabad\",\"Mumbai Indians\",\"Kolkata Knight Riders\",\"Sunrisers Hyderabad\",\"Royal Challengers Bangalore\",\"Rajasthan Royals\",\"Kolkata Knight Riders\",\"Delhi Capitals\",\"Kings XI Punjab\",\"Mumbai Indians\",\"Rajasthan Royals\",\"Royal Challengers Bangalore\",\"Delhi Capitals\",\"Chennai Super Kings\",\"Mumbai Indians\",\"Chennai Super Kings\",\"Delhi Capitals\",\"Mumbai Indians\",\"Kings XI Punjab\",\"Mumbai Indians\",\"Royal Challengers Bangalore\",\"Delhi Capitals\",\"Kolkata Knight Riders\",\"Mumbai Indians\",\"Chennai Super Kings\",null,\"Sunrisers Hyderabad\",\"Kolkata Knight Riders\",\"Delhi Capitals\",\"Rajasthan Royals\",\"Mumbai Indians\",\"Rajasthan Royals\",\"Royal Challengers Bangalore\",\"Chennai Super Kings\",\"Delhi Capitals\",\"Sunrisers Hyderabad\",\"Royal Challengers Bangalore\",\"Delhi Capitals\",\"Rajasthan Royals\",\"Royal Challengers Bangalore\",\"Mumbai Indians\",\"Sunrisers Hyderabad\",\"Kings XI Punjab\",\"Mumbai Indians\",\"Chennai Super Kings\",\"Delhi Capitals\",\"Rajasthan Royals\",\"Royal Challengers Bangalore\",\"Delhi Capitals\",\"Chennai Super Kings\",\"Mumbai Indians\",\"Chennai Super Kings\",\"Kings XI Punjab\",\"Kolkata Knight Riders\",\"Delhi Capitals\",\"Mumbai Indians\",\"Chennai Super Kings\",\"Kolkata Knight Riders\",\"Sunrisers Hyderabad\",\"Mumbai Indians\",\"Rajasthan Royals\",\"Kings XI Punjab\",\"Sunrisers Hyderabad\",\"Chennai Super Kings\",\"Delhi Capitals\",\"Kings XI Punjab\",\"Sunrisers Hyderabad\",\"Mumbai Indians\",\"Kolkata Knight Riders\",\"Chennai Super Kings\",\"Kings XI Punjab\",\"Delhi Capitals\",\"Kolkata Knight Riders\",\"Chennai Super Kings\",\"Chennai Super Kings\",\"Sunrisers Hyderabad\",\"Kolkata Knight Riders\",\"Chennai Super Kings\",\"Chennai Super Kings\",\"Delhi Daredevils\",\"Kolkata Knight Riders\",\"Rajasthan Royals\",\"Delhi Daredevils\",\"Royal Challengers Bangalore\",\"Mumbai Indians\",\"Kolkata Knight Riders\",\"Royal Challengers Bangalore\",\"Rajasthan Royals\",\"Chennai Super Kings\",\"Royal Challengers Bangalore\",\"Kolkata Knight Riders\",\"Rajasthan Royals\",\"Sunrisers Hyderabad\",\"Mumbai Indians\",\"Rajasthan Royals\",\"Sunrisers Hyderabad\",\"Kings XI Punjab\",\"Mumbai Indians\",\"Sunrisers Hyderabad\",\"Chennai Super Kings\",\"Mumbai Indians\",\"Kolkata Knight Riders\",\"Delhi Daredevils\",\"Royal Challengers Bangalore\",\"Chennai Super Kings\",\"Sunrisers Hyderabad\",\"Kolkata Knight Riders\",\"Mumbai Indians\",\"Delhi Daredevils\",\"Sunrisers Hyderabad\",\"Chennai Super Kings\",\"Sunrisers Hyderabad\",\"Kings XI Punjab\",\"Rajasthan Royals\",\"Chennai Super Kings\",\"Royal Challengers Bangalore\",\"Kings XI Punjab\",\"Chennai Super Kings\",\"Kings XI Punjab\",\"Kolkata Knight Riders\",\"Mumbai Indians\",\"Kolkata Knight Riders\",\"Kings XI Punjab\",\"Rajasthan Royals\",\"Sunrisers Hyderabad\",\"Delhi Daredevils\",\"Royal Challengers Bangalore\",\"Sunrisers Hyderabad\",\"Rajasthan Royals\",\"Chennai Super Kings\",\"Sunrisers Hyderabad\",\"Kings XI Punjab\",\"Kolkata Knight Riders\",\"Chennai Super Kings\",\"Mumbai Indians\",\"Mumbai Indians\",\"Kolkata Knight Riders\",\"Rising Pune Supergiant\",\"Royal Challengers Bangalore\",\"Rising Pune Supergiant\",\"Mumbai Indians\",\"Sunrisers Hyderabad\",\"Delhi Daredevils\",\"Kings XI Punjab\",\"Delhi Daredevils\",\"Kings XI Punjab\",\"Sunrisers Hyderabad\",\"Kolkata Knight Riders\",\"Gujarat Lions\",\"Mumbai Indians\",\"Rising Pune Supergiant\",\"Kings XI Punjab\",\"Delhi Daredevils\",\"Rising Pune Supergiant\",\"Delhi Daredevils\",\"Rising Pune Supergiant\",\"Mumbai Indians\",\"Sunrisers Hyderabad\",\"Kings XI Punjab\",\"Mumbai Indians\",\"Rising Pune Supergiant\",\"Kolkata Knight Riders\",\"Sunrisers Hyderabad\",\"Gujarat Lions\",\"Kolkata Knight Riders\",\"Rising Pune Supergiant\",\"Kolkata Knight Riders\",\"Kings XI Punjab\",\"Rising Pune Supergiant\",\"Mumbai Indians\",\"Gujarat Lions\",\"Mumbai Indians\",\"Sunrisers Hyderabad\",\"Royal Challengers Bangalore\",\"Kolkata Knight Riders\",\"Sunrisers Hyderabad\",\"Rising Pune Supergiant\",\"Mumbai Indians\",\"Delhi Daredevils\",\"Kolkata Knight Riders\",\"Gujarat Lions\",\"Mumbai Indians\",\"Kolkata Knight Riders\",\"Mumbai Indians\",\"Delhi Daredevils\",\"Kings XI Punjab\",\"Mumbai Indians\",\"Sunrisers Hyderabad\",\"Royal Challengers Bangalore\",\"Kings XI Punjab\",\"Kolkata Knight Riders\",\"Rising Pune Supergiant\",\"Sunrisers Hyderabad\",\"Sunrisers Hyderabad\",\"Sunrisers Hyderabad\",\"Sunrisers Hyderabad\",\"Royal Challengers Bangalore\",\"Royal Challengers Bangalore\",\"Kolkata Knight Riders\",\"Gujarat Lions\",\"Rising Pune Supergiants\",\"Delhi Daredevils\",\"Gujarat Lions\",\"Royal Challengers Bangalore\",\"Rising Pune Supergiants\",\"Royal Challengers Bangalore\",\"Sunrisers Hyderabad\",\"Mumbai Indians\",\"Royal Challengers Bangalore\",\"Kolkata Knight Riders\",\"Kings XI Punjab\",\"Delhi Daredevils\",\"Mumbai Indians\",\"Sunrisers Hyderabad\",\"Royal Challengers Bangalore\",\"Gujarat Lions\",\"Sunrisers Hyderabad\",\"Kings XI Punjab\",\"Royal Challengers Bangalore\",\"Sunrisers Hyderabad\",\"Rising Pune Supergiants\",\"Kolkata Knight Riders\",\"Delhi Daredevils\",\"Kolkata Knight Riders\",\"Kings XI Punjab\",\"Mumbai Indians\",\"Delhi Daredevils\",\"Sunrisers Hyderabad\",\"Gujarat Lions\",\"Mumbai Indians\",\"Gujarat Lions\",\"Rising Pune Supergiants\",\"Mumbai Indians\",\"Kolkata Knight Riders\",\"Gujarat Lions\",\"Sunrisers Hyderabad\",\"Delhi Daredevils\",\"Royal Challengers Bangalore\",\"Sunrisers Hyderabad\",\"Mumbai Indians\",\"Kolkata Knight Riders\",\"Sunrisers Hyderabad\",\"Delhi Daredevils\",\"Kings XI Punjab\",\"Gujarat Lions\",\"Kolkata Knight Riders\",\"Delhi Daredevils\",\"Gujarat Lions\",\"Mumbai Indians\",\"Royal Challengers Bangalore\",\"Gujarat Lions\",\"Kolkata Knight Riders\",\"Rising Pune Supergiants\",\"Mumbai Indians\",\"Chennai Super Kings\",\"Royal Challengers Bangalore\",\"Mumbai Indians\",null,\"Mumbai Indians\",\"Rajasthan Royals\",\"Chennai Super Kings\",\"Royal Challengers Bangalore\",\"Mumbai Indians\",\"Kings XI Punjab\",\"Delhi Daredevils\",\"Sunrisers Hyderabad\",\"Chennai Super Kings\",\"Royal Challengers Bangalore\",\"Sunrisers Hyderabad\",\"Kolkata Knight Riders\",\"Mumbai Indians\",\"Sunrisers Hyderabad\",\"Kolkata Knight Riders\",\"Royal Challengers Bangalore\",\"Mumbai Indians\",\"Kolkata Knight Riders\",\"Chennai Super Kings\",\"Mumbai Indians\",\"Rajasthan Royals\",\"Royal Challengers Bangalore\",\"Sunrisers Hyderabad\",\"Mumbai Indians\",\"Delhi Daredevils\",\"Kolkata Knight Riders\",\"Chennai Super Kings\",\"Sunrisers Hyderabad\",\"Royal Challengers Bangalore\",\"Chennai Super Kings\",\"Mumbai Indians\",\"Royal Challengers Bangalore\",\"Delhi Daredevils\",\"Sunrisers Hyderabad\",\"Chennai Super Kings\",\"Kings XI Punjab\",\"Kolkata Knight Riders\",\"Rajasthan Royals\",\"Mumbai Indians\",\"Delhi Daredevils\",\"Kolkata Knight Riders\",\"Chennai Super Kings\",\"Rajasthan Royals\",\"Delhi Daredevils\",\"Rajasthan Royals\",\"Sunrisers Hyderabad\",\"Kings XI Punjab\",\"Rajasthan Royals\",\"Royal Challengers Bangalore\",\"Chennai Super Kings\",\"Rajasthan Royals\",\"Chennai Super Kings\",\"Kolkata Knight Riders\",\"Kolkata Knight Riders\",\"Kings XI Punjab\",\"Chennai Super Kings\",\"Kolkata Knight Riders\",\"Mumbai Indians\",\"Kings XI Punjab\",\"Chennai Super Kings\",\"Kolkata Knight Riders\",\"Mumbai Indians\",\"Kings XI Punjab\",\"Kolkata Knight Riders\",\"Sunrisers Hyderabad\",\"Mumbai Indians\",\"Kolkata Knight Riders\",\"Sunrisers Hyderabad\",\"Kings XI Punjab\",\"Mumbai Indians\",\"Royal Challengers Bangalore\",\"Kolkata Knight Riders\",\"Rajasthan Royals\",\"Kolkata Knight Riders\",\"Kings XI Punjab\",\"Royal Challengers Bangalore\",\"Chennai Super Kings\",\"Mumbai Indians\",\"Kolkata Knight Riders\",\"Rajasthan Royals\",\"Chennai Super Kings\",\"Sunrisers Hyderabad\",\"Kings XI Punjab\",\"Sunrisers Hyderabad\",\"Kolkata Knight Riders\",\"Kings XI Punjab\",\"Mumbai Indians\",\"Chennai Super Kings\",\"Rajasthan Royals\",\"Royal Challengers Bangalore\",\"Rajasthan Royals\",\"Mumbai Indians\",\"Chennai Super Kings\",\"Sunrisers Hyderabad\",\"Rajasthan Royals\",\"Kings XI Punjab\",\"Chennai Super Kings\",\"Delhi Daredevils\",\"Kings XI Punjab\",\"Rajasthan Royals\",\"Sunrisers Hyderabad\",\"Chennai Super Kings\",\"Kolkata Knight Riders\",\"Chennai Super Kings\",\"Kings XI Punjab\",\"Chennai Super Kings\",\"Kings XI Punjab\",\"Delhi Daredevils\",\"Royal Challengers Bangalore\",\"Rajasthan Royals\",\"Kings XI Punjab\",\"Royal Challengers Bangalore\",\"Kolkata Knight Riders\",\"Mumbai Indians\",\"Mumbai Indians\",\"Rajasthan Royals\",\"Chennai Super Kings\",\"Sunrisers Hyderabad\",\"Pune Warriors\",\"Royal Challengers Bangalore\",\"Kings XI Punjab\",\"Sunrisers Hyderabad\",\"Kings XI Punjab\",\"Mumbai Indians\",\"Pune Warriors\",\"Chennai Super Kings\",\"Kings XI Punjab\",\"Mumbai Indians\",\"Rajasthan Royals\",\"Kolkata Knight Riders\",\"Sunrisers Hyderabad\",\"Mumbai Indians\",\"Royal Challengers Bangalore\",\"Kolkata Knight Riders\",\"Rajasthan Royals\",\"Chennai Super Kings\",\"Rajasthan Royals\",\"Mumbai Indians\",\"Kings XI Punjab\",\"Rajasthan Royals\",\"Mumbai Indians\",\"Sunrisers Hyderabad\",\"Kolkata Knight Riders\",\"Royal Challengers Bangalore\",\"Chennai Super Kings\",\"Delhi Daredevils\",\"Sunrisers Hyderabad\",\"Chennai Super Kings\",\"Mumbai Indians\",\"Rajasthan Royals\",\"Chennai Super Kings\",\"Delhi Daredevils\",\"Mumbai Indians\",\"Rajasthan Royals\",\"Kolkata Knight Riders\",\"Chennai Super Kings\",\"Mumbai Indians\",\"Kings XI Punjab\",\"Royal Challengers Bangalore\",\"Chennai Super Kings\",\"Kings XI Punjab\",\"Delhi Daredevils\",\"Royal Challengers Bangalore\",\"Chennai Super Kings\",\"Sunrisers Hyderabad\",\"Chennai Super Kings\",\"Rajasthan Royals\",\"Sunrisers Hyderabad\",\"Kings XI Punjab\",\"Royal Challengers Bangalore\",\"Pune Warriors\",\"Rajasthan Royals\",\"Kolkata Knight Riders\",\"Chennai Super Kings\",\"Mumbai Indians\",\"Sunrisers Hyderabad\",\"Pune Warriors\",\"Royal Challengers Bangalore\",\"Chennai Super Kings\",\"Royal Challengers Bangalore\",\"Mumbai Indians\",\"Rajasthan Royals\",\"Sunrisers Hyderabad\",\"Kings XI Punjab\",\"Mumbai Indians\",\"Rajasthan Royals\",\"Sunrisers Hyderabad\",\"Royal Challengers Bangalore\",\"Kolkata Knight Riders\",\"Kolkata Knight Riders\",\"Chennai Super Kings\",\"Chennai Super Kings\",\"Kolkata Knight Riders\",\"Mumbai Indians\",\"Deccan Chargers\",\"Kolkata Knight Riders\",\"Delhi Daredevils\",\"Deccan Chargers\",\"Kings XI Punjab\",\"Royal Challengers Bangalore\",\"Kolkata Knight Riders\",\"Delhi Daredevils\",\"Chennai Super Kings\",\"Mumbai Indians\",\"Kings XI Punjab\",\"Rajasthan Royals\",\"Chennai Super Kings\",\"Mumbai Indians\",\"Royal Challengers Bangalore\",\"Chennai Super Kings\",\"Delhi Daredevils\",\"Royal Challengers Bangalore\",\"Kings XI Punjab\",\"Rajasthan Royals\",\"Kolkata Knight Riders\",\"Royal Challengers Bangalore\",\"Mumbai Indians\",\"Rajasthan Royals\",\"Kolkata Knight Riders\",\"Chennai Super Kings\",\"Mumbai Indians\",\"Kings XI Punjab\",\"Delhi Daredevils\",\"Deccan Chargers\",\"Kolkata Knight Riders\",\"Mumbai Indians\",\"Delhi Daredevils\",\"Kolkata Knight Riders\",\"Kings XI Punjab\",\"Delhi Daredevils\",\"Deccan Chargers\",\"Mumbai Indians\",\"Delhi Daredevils\",\"Royal Challengers Bangalore\",\"Kings XI Punjab\",\"Kolkata Knight Riders\",\"Pune Warriors\",\"Chennai Super Kings\",\"Royal Challengers Bangalore\",\"Chennai Super Kings\",\"Delhi Daredevils\",\"Kolkata Knight Riders\",\"Royal Challengers Bangalore\",\"Rajasthan Royals\",\"Delhi Daredevils\",\"Rajasthan Royals\",\"Kings XI Punjab\",\"Pune Warriors\",\"Kolkata Knight Riders\",\"Kings XI Punjab\",\"Chennai Super Kings\",\"Mumbai Indians\",\"Delhi Daredevils\",\"Kolkata Knight Riders\",\"Mumbai Indians\",\"Pune Warriors\",\"Rajasthan Royals\",\"Chennai Super Kings\",\"Royal Challengers Bangalore\",\"Rajasthan Royals\",\"Pune Warriors\",\"Delhi Daredevils\",\"Mumbai Indians\",\"Chennai Super Kings\",\"Royal Challengers Bangalore\",\"Mumbai Indians\",\"Chennai Super Kings\",\"Mumbai Indians\",\"Royal Challengers Bangalore\",\"Deccan Chargers\",\"Rajasthan Royals\",\"Kolkata Knight Riders\",\"Chennai Super Kings\",\"Kings XI Punjab\",\"Deccan Chargers\",\"Kochi Tuskers Kerala\",\"Kings XI Punjab\",\"Royal Challengers Bangalore\",\"Deccan Chargers\",\"Kings XI Punjab\",\"Chennai Super Kings\",\"Royal Challengers Bangalore\",\"Kings XI Punjab\",\"Pune Warriors\",\"Chennai Super Kings\",\"Pune Warriors\",\"Royal Challengers Bangalore\",\"Mumbai Indians\",\"Kolkata Knight Riders\",\"Royal Challengers Bangalore\",\"Delhi Daredevils\",\"Kochi Tuskers Kerala\",\"Mumbai Indians\",\"Chennai Super Kings\",\"Kolkata Knight Riders\",\"Kochi Tuskers Kerala\",\"Mumbai Indians\",\"Rajasthan Royals\",\"Chennai Super Kings\",\"Delhi Daredevils\",\"Kolkata Knight Riders\",\"Royal Challengers Bangalore\",\"Rajasthan Royals\",\"Kolkata Knight Riders\",\"Chennai Super Kings\",\"Deccan Chargers\",\"Royal Challengers Bangalore\",\"Chennai Super Kings\",\"Rajasthan Royals\",\"Mumbai Indians\",\"Delhi Daredevils\",\"Royal Challengers Bangalore\",\"Mumbai Indians\",\"Kings XI Punjab\",\"Mumbai Indians\",\"Kochi Tuskers Kerala\",\"Deccan Chargers\",\"Kochi Tuskers Kerala\",\"Kolkata Knight Riders\",\"Delhi Daredevils\",\"Kings XI Punjab\",\"Chennai Super Kings\",\"Kochi Tuskers Kerala\",\"Kolkata Knight Riders\",\"Deccan Chargers\",\"Pune Warriors\",\"Kings XI Punjab\",\"Rajasthan Royals\",\"Mumbai Indians\",\"Kolkata Knight Riders\",\"Pune Warriors\",\"Mumbai Indians\",\"Royal Challengers Bangalore\",\"Rajasthan Royals\",\"Chennai Super Kings\",\"Chennai Super Kings\",\"Royal Challengers Bangalore\",\"Chennai Super Kings\",\"Mumbai Indians\",\"Kolkata Knight Riders\",\"Deccan Chargers\",\"Chennai Super Kings\",\"Kolkata Knight Riders\",\"Mumbai Indians\",\"Deccan Chargers\",\"Delhi Daredevils\",\"Royal Challengers Bangalore\",\"Chennai Super Kings\",\"Mumbai Indians\",\"Deccan Chargers\",\"Mumbai Indians\",\"Kings XI Punjab\",\"Royal Challengers Bangalore\",\"Deccan Chargers\",\"Kings XI Punjab\",\"Deccan Chargers\",\"Kolkata Knight Riders\",\"Rajasthan Royals\",\"Chennai Super Kings\",\"Rajasthan Royals\",\"Kings XI Punjab\",\"Delhi Daredevils\",\"Mumbai Indians\",\"Chennai Super Kings\",\"Royal Challengers Bangalore\",\"Kolkata Knight Riders\",\"Delhi Daredevils\",\"Chennai Super Kings\",\"Mumbai Indians\",\"Delhi Daredevils\",\"Mumbai Indians\",\"Rajasthan Royals\",\"Kolkata Knight Riders\",\"Rajasthan Royals\",\"Mumbai Indians\",\"Delhi Daredevils\",\"Rajasthan Royals\",\"Royal Challengers Bangalore\",\"Mumbai Indians\",\"Kings XI Punjab\",\"Deccan Chargers\",\"Royal Challengers Bangalore\",\"Rajasthan Royals\",\"Chennai Super Kings\",\"Deccan Chargers\",\"Royal Challengers Bangalore\",\"Mumbai Indians\",\"Chennai Super Kings\",\"Royal Challengers Bangalore\",\"Delhi Daredevils\",\"Kolkata Knight Riders\",\"Deccan Chargers\",\"Delhi Daredevils\",\"Mumbai Indians\",\"Kolkata Knight Riders\",\"Deccan Chargers\",\"Royal Challengers Bangalore\",\"Deccan Chargers\",\"Royal Challengers Bangalore\",\"Delhi Daredevils\",\"Chennai Super Kings\",\"Kolkata Knight Riders\",\"Royal Challengers Bangalore\",\"Kolkata Knight Riders\",\"Delhi Daredevils\",\"Kings XI Punjab\",\"Chennai Super Kings\",\"Deccan Chargers\",\"Kings XI Punjab\",\"Rajasthan Royals\",\"Royal Challengers Bangalore\",\"Delhi Daredevils\",\"Mumbai Indians\",\"Royal Challengers Bangalore\",\"Deccan Chargers\",\"Delhi Daredevils\",\"Mumbai Indians\",\"Kings XI Punjab\",\"Chennai Super Kings\",\"Delhi Daredevils\",\"Chennai Super Kings\",\"Rajasthan Royals\",\"Deccan Chargers\",\"Delhi Daredevils\",\"Rajasthan Royals\",\"Chennai Super Kings\",\"Royal Challengers Bangalore\",\"Kings XI Punjab\",\"Rajasthan Royals\",\"Chennai Super Kings\",\"Mumbai Indians\",\"Royal Challengers Bangalore\",\"Chennai Super Kings\",\"Delhi Daredevils\",\"Kings XI Punjab\",\"Royal Challengers Bangalore\",\"Rajasthan Royals\",\"Mumbai Indians\",\"Deccan Chargers\",\"Delhi Daredevils\",\"Kings XI Punjab\",\"Deccan Chargers\",\"Kings XI Punjab\",\"Rajasthan Royals\",\"Delhi Daredevils\",\"Deccan Chargers\",\"Kolkata Knight Riders\",\"Chennai Super Kings\",\"Deccan Chargers\",\"Delhi Daredevils\",\"Royal Challengers Bangalore\",\"Mumbai Indians\",\"Rajasthan Royals\",\"Chennai Super Kings\",\"Rajasthan Royals\",\"Kings XI Punjab\",\"Mumbai Indians\",\"Chennai Super Kings\",\"Rajasthan Royals\",\"Kolkata Knight Riders\",\"Royal Challengers Bangalore\",\"Rajasthan Royals\",\"Delhi Daredevils\",\"Kings XI Punjab\",\"Royal Challengers Bangalore\",\"Kings XI Punjab\",\"Rajasthan Royals\",\"Delhi Daredevils\",\"Chennai Super Kings\",\"Mumbai Indians\",\"Kings XI Punjab\",\"Rajasthan Royals\",\"Mumbai Indians\",\"Delhi Daredevils\",\"Mumbai Indians\",\"Kolkata Knight Riders\",\"Kings XI Punjab\",\"Rajasthan Royals\",\"Kolkata Knight Riders\",\"Chennai Super Kings\",\"Rajasthan Royals\",\"Chennai Super Kings\",\"Kolkata Knight Riders\",\"Mumbai Indians\",\"Deccan Chargers\",\"Kings XI Punjab\",\"Rajasthan Royals\",\"Mumbai Indians\",\"Royal Challengers Bangalore\",\"Kings XI Punjab\",\"Delhi Daredevils\",\"Rajasthan Royals\",\"Kings XI Punjab\",\"Delhi Daredevils\",\"Mumbai Indians\",\"Chennai Super Kings\",\"Kings XI Punjab\",\"Deccan Chargers\",\"Chennai Super Kings\",\"Rajasthan Royals\",\"Kings XI Punjab\",\"Rajasthan Royals\",\"Chennai Super Kings\",\"Delhi Daredevils\",\"Rajasthan Royals\",\"Kolkata Knight Riders\",\"Royal Challengers Bangalore\",\"Delhi Daredevils\",\"Chennai Super Kings\",\"Kolkata Knight Riders\"],\"xaxis\":\"x\",\"yaxis\":\"y\",\"type\":\"histogram\"}],                        {\"template\":{\"data\":{\"histogram2dcontour\":[{\"type\":\"histogram2dcontour\",\"colorbar\":{\"outlinewidth\":0,\"ticks\":\"\"},\"colorscale\":[[0.0,\"#0d0887\"],[0.1111111111111111,\"#46039f\"],[0.2222222222222222,\"#7201a8\"],[0.3333333333333333,\"#9c179e\"],[0.4444444444444444,\"#bd3786\"],[0.5555555555555556,\"#d8576b\"],[0.6666666666666666,\"#ed7953\"],[0.7777777777777778,\"#fb9f3a\"],[0.8888888888888888,\"#fdca26\"],[1.0,\"#f0f921\"]]}],\"choropleth\":[{\"type\":\"choropleth\",\"colorbar\":{\"outlinewidth\":0,\"ticks\":\"\"}}],\"histogram2d\":[{\"type\":\"histogram2d\",\"colorbar\":{\"outlinewidth\":0,\"ticks\":\"\"},\"colorscale\":[[0.0,\"#0d0887\"],[0.1111111111111111,\"#46039f\"],[0.2222222222222222,\"#7201a8\"],[0.3333333333333333,\"#9c179e\"],[0.4444444444444444,\"#bd3786\"],[0.5555555555555556,\"#d8576b\"],[0.6666666666666666,\"#ed7953\"],[0.7777777777777778,\"#fb9f3a\"],[0.8888888888888888,\"#fdca26\"],[1.0,\"#f0f921\"]]}],\"heatmap\":[{\"type\":\"heatmap\",\"colorbar\":{\"outlinewidth\":0,\"ticks\":\"\"},\"colorscale\":[[0.0,\"#0d0887\"],[0.1111111111111111,\"#46039f\"],[0.2222222222222222,\"#7201a8\"],[0.3333333333333333,\"#9c179e\"],[0.4444444444444444,\"#bd3786\"],[0.5555555555555556,\"#d8576b\"],[0.6666666666666666,\"#ed7953\"],[0.7777777777777778,\"#fb9f3a\"],[0.8888888888888888,\"#fdca26\"],[1.0,\"#f0f921\"]]}],\"heatmapgl\":[{\"type\":\"heatmapgl\",\"colorbar\":{\"outlinewidth\":0,\"ticks\":\"\"},\"colorscale\":[[0.0,\"#0d0887\"],[0.1111111111111111,\"#46039f\"],[0.2222222222222222,\"#7201a8\"],[0.3333333333333333,\"#9c179e\"],[0.4444444444444444,\"#bd3786\"],[0.5555555555555556,\"#d8576b\"],[0.6666666666666666,\"#ed7953\"],[0.7777777777777778,\"#fb9f3a\"],[0.8888888888888888,\"#fdca26\"],[1.0,\"#f0f921\"]]}],\"contourcarpet\":[{\"type\":\"contourcarpet\",\"colorbar\":{\"outlinewidth\":0,\"ticks\":\"\"}}],\"contour\":[{\"type\":\"contour\",\"colorbar\":{\"outlinewidth\":0,\"ticks\":\"\"},\"colorscale\":[[0.0,\"#0d0887\"],[0.1111111111111111,\"#46039f\"],[0.2222222222222222,\"#7201a8\"],[0.3333333333333333,\"#9c179e\"],[0.4444444444444444,\"#bd3786\"],[0.5555555555555556,\"#d8576b\"],[0.6666666666666666,\"#ed7953\"],[0.7777777777777778,\"#fb9f3a\"],[0.8888888888888888,\"#fdca26\"],[1.0,\"#f0f921\"]]}],\"surface\":[{\"type\":\"surface\",\"colorbar\":{\"outlinewidth\":0,\"ticks\":\"\"},\"colorscale\":[[0.0,\"#0d0887\"],[0.1111111111111111,\"#46039f\"],[0.2222222222222222,\"#7201a8\"],[0.3333333333333333,\"#9c179e\"],[0.4444444444444444,\"#bd3786\"],[0.5555555555555556,\"#d8576b\"],[0.6666666666666666,\"#ed7953\"],[0.7777777777777778,\"#fb9f3a\"],[0.8888888888888888,\"#fdca26\"],[1.0,\"#f0f921\"]]}],\"mesh3d\":[{\"type\":\"mesh3d\",\"colorbar\":{\"outlinewidth\":0,\"ticks\":\"\"}}],\"scatter\":[{\"fillpattern\":{\"fillmode\":\"overlay\",\"size\":10,\"solidity\":0.2},\"type\":\"scatter\"}],\"parcoords\":[{\"type\":\"parcoords\",\"line\":{\"colorbar\":{\"outlinewidth\":0,\"ticks\":\"\"}}}],\"scatterpolargl\":[{\"type\":\"scatterpolargl\",\"marker\":{\"colorbar\":{\"outlinewidth\":0,\"ticks\":\"\"}}}],\"bar\":[{\"error_x\":{\"color\":\"#2a3f5f\"},\"error_y\":{\"color\":\"#2a3f5f\"},\"marker\":{\"line\":{\"color\":\"#E5ECF6\",\"width\":0.5},\"pattern\":{\"fillmode\":\"overlay\",\"size\":10,\"solidity\":0.2}},\"type\":\"bar\"}],\"scattergeo\":[{\"type\":\"scattergeo\",\"marker\":{\"colorbar\":{\"outlinewidth\":0,\"ticks\":\"\"}}}],\"scatterpolar\":[{\"type\":\"scatterpolar\",\"marker\":{\"colorbar\":{\"outlinewidth\":0,\"ticks\":\"\"}}}],\"histogram\":[{\"marker\":{\"pattern\":{\"fillmode\":\"overlay\",\"size\":10,\"solidity\":0.2}},\"type\":\"histogram\"}],\"scattergl\":[{\"type\":\"scattergl\",\"marker\":{\"colorbar\":{\"outlinewidth\":0,\"ticks\":\"\"}}}],\"scatter3d\":[{\"type\":\"scatter3d\",\"line\":{\"colorbar\":{\"outlinewidth\":0,\"ticks\":\"\"}},\"marker\":{\"colorbar\":{\"outlinewidth\":0,\"ticks\":\"\"}}}],\"scattermapbox\":[{\"type\":\"scattermapbox\",\"marker\":{\"colorbar\":{\"outlinewidth\":0,\"ticks\":\"\"}}}],\"scatterternary\":[{\"type\":\"scatterternary\",\"marker\":{\"colorbar\":{\"outlinewidth\":0,\"ticks\":\"\"}}}],\"scattercarpet\":[{\"type\":\"scattercarpet\",\"marker\":{\"colorbar\":{\"outlinewidth\":0,\"ticks\":\"\"}}}],\"carpet\":[{\"aaxis\":{\"endlinecolor\":\"#2a3f5f\",\"gridcolor\":\"white\",\"linecolor\":\"white\",\"minorgridcolor\":\"white\",\"startlinecolor\":\"#2a3f5f\"},\"baxis\":{\"endlinecolor\":\"#2a3f5f\",\"gridcolor\":\"white\",\"linecolor\":\"white\",\"minorgridcolor\":\"white\",\"startlinecolor\":\"#2a3f5f\"},\"type\":\"carpet\"}],\"table\":[{\"cells\":{\"fill\":{\"color\":\"#EBF0F8\"},\"line\":{\"color\":\"white\"}},\"header\":{\"fill\":{\"color\":\"#C8D4E3\"},\"line\":{\"color\":\"white\"}},\"type\":\"table\"}],\"barpolar\":[{\"marker\":{\"line\":{\"color\":\"#E5ECF6\",\"width\":0.5},\"pattern\":{\"fillmode\":\"overlay\",\"size\":10,\"solidity\":0.2}},\"type\":\"barpolar\"}],\"pie\":[{\"automargin\":true,\"type\":\"pie\"}]},\"layout\":{\"autotypenumbers\":\"strict\",\"colorway\":[\"#636efa\",\"#EF553B\",\"#00cc96\",\"#ab63fa\",\"#FFA15A\",\"#19d3f3\",\"#FF6692\",\"#B6E880\",\"#FF97FF\",\"#FECB52\"],\"font\":{\"color\":\"#2a3f5f\"},\"hovermode\":\"closest\",\"hoverlabel\":{\"align\":\"left\"},\"paper_bgcolor\":\"white\",\"plot_bgcolor\":\"#E5ECF6\",\"polar\":{\"bgcolor\":\"#E5ECF6\",\"angularaxis\":{\"gridcolor\":\"white\",\"linecolor\":\"white\",\"ticks\":\"\"},\"radialaxis\":{\"gridcolor\":\"white\",\"linecolor\":\"white\",\"ticks\":\"\"}},\"ternary\":{\"bgcolor\":\"#E5ECF6\",\"aaxis\":{\"gridcolor\":\"white\",\"linecolor\":\"white\",\"ticks\":\"\"},\"baxis\":{\"gridcolor\":\"white\",\"linecolor\":\"white\",\"ticks\":\"\"},\"caxis\":{\"gridcolor\":\"white\",\"linecolor\":\"white\",\"ticks\":\"\"}},\"coloraxis\":{\"colorbar\":{\"outlinewidth\":0,\"ticks\":\"\"}},\"colorscale\":{\"sequential\":[[0.0,\"#0d0887\"],[0.1111111111111111,\"#46039f\"],[0.2222222222222222,\"#7201a8\"],[0.3333333333333333,\"#9c179e\"],[0.4444444444444444,\"#bd3786\"],[0.5555555555555556,\"#d8576b\"],[0.6666666666666666,\"#ed7953\"],[0.7777777777777778,\"#fb9f3a\"],[0.8888888888888888,\"#fdca26\"],[1.0,\"#f0f921\"]],\"sequentialminus\":[[0.0,\"#0d0887\"],[0.1111111111111111,\"#46039f\"],[0.2222222222222222,\"#7201a8\"],[0.3333333333333333,\"#9c179e\"],[0.4444444444444444,\"#bd3786\"],[0.5555555555555556,\"#d8576b\"],[0.6666666666666666,\"#ed7953\"],[0.7777777777777778,\"#fb9f3a\"],[0.8888888888888888,\"#fdca26\"],[1.0,\"#f0f921\"]],\"diverging\":[[0,\"#8e0152\"],[0.1,\"#c51b7d\"],[0.2,\"#de77ae\"],[0.3,\"#f1b6da\"],[0.4,\"#fde0ef\"],[0.5,\"#f7f7f7\"],[0.6,\"#e6f5d0\"],[0.7,\"#b8e186\"],[0.8,\"#7fbc41\"],[0.9,\"#4d9221\"],[1,\"#276419\"]]},\"xaxis\":{\"gridcolor\":\"white\",\"linecolor\":\"white\",\"ticks\":\"\",\"title\":{\"standoff\":15},\"zerolinecolor\":\"white\",\"automargin\":true,\"zerolinewidth\":2},\"yaxis\":{\"gridcolor\":\"white\",\"linecolor\":\"white\",\"ticks\":\"\",\"title\":{\"standoff\":15},\"zerolinecolor\":\"white\",\"automargin\":true,\"zerolinewidth\":2},\"scene\":{\"xaxis\":{\"backgroundcolor\":\"#E5ECF6\",\"gridcolor\":\"white\",\"linecolor\":\"white\",\"showbackground\":true,\"ticks\":\"\",\"zerolinecolor\":\"white\",\"gridwidth\":2},\"yaxis\":{\"backgroundcolor\":\"#E5ECF6\",\"gridcolor\":\"white\",\"linecolor\":\"white\",\"showbackground\":true,\"ticks\":\"\",\"zerolinecolor\":\"white\",\"gridwidth\":2},\"zaxis\":{\"backgroundcolor\":\"#E5ECF6\",\"gridcolor\":\"white\",\"linecolor\":\"white\",\"showbackground\":true,\"ticks\":\"\",\"zerolinecolor\":\"white\",\"gridwidth\":2}},\"shapedefaults\":{\"line\":{\"color\":\"#2a3f5f\"}},\"annotationdefaults\":{\"arrowcolor\":\"#2a3f5f\",\"arrowhead\":0,\"arrowwidth\":1},\"geo\":{\"bgcolor\":\"white\",\"landcolor\":\"#E5ECF6\",\"subunitcolor\":\"white\",\"showland\":true,\"showlakes\":true,\"lakecolor\":\"white\"},\"title\":{\"x\":0.05},\"mapbox\":{\"style\":\"light\"}}},\"xaxis\":{\"anchor\":\"y\",\"domain\":[0.0,1.0],\"title\":{\"text\":\"WinningTeam\"}},\"yaxis\":{\"anchor\":\"x\",\"domain\":[0.0,1.0],\"title\":{\"text\":\"count\"}},\"legend\":{\"tracegroupgap\":0},\"margin\":{\"t\":60},\"barmode\":\"relative\"},                        {\"responsive\": true}                    ).then(function(){\n",
       "                            \n",
       "var gd = document.getElementById('0569dea6-d0a6-4c75-904c-8d6d3149ef2a');\n",
       "var x = new MutationObserver(function (mutations, observer) {{\n",
       "        var display = window.getComputedStyle(gd).display;\n",
       "        if (!display || display === 'none') {{\n",
       "            console.log([gd, 'removed!']);\n",
       "            Plotly.purge(gd);\n",
       "            observer.disconnect();\n",
       "        }}\n",
       "}});\n",
       "\n",
       "// Listen for the removal of the full notebook cells\n",
       "var notebookContainer = gd.closest('#notebook-container');\n",
       "if (notebookContainer) {{\n",
       "    x.observe(notebookContainer, {childList: true});\n",
       "}}\n",
       "\n",
       "// Listen for the clearing of the current output cell\n",
       "var outputEl = gd.closest('.output');\n",
       "if (outputEl) {{\n",
       "    x.observe(outputEl, {childList: true});\n",
       "}}\n",
       "\n",
       "                        })                };                });            </script>        </div>"
      ]
     },
     "metadata": {},
     "output_type": "display_data"
    }
   ],
   "source": [
    "fig = px.histogram(match_df, x='WinningTeam')\n",
    "fig.show()"
   ]
  },
  {
   "cell_type": "markdown",
   "metadata": {},
   "source": [
    "# Merge the match_df dataset with ball dataset"
   ]
  },
  {
   "cell_type": "code",
   "execution_count": 20,
   "metadata": {},
   "outputs": [],
   "source": [
    "ball_df= match_df.merge(ball, on='ID')"
   ]
  },
  {
   "cell_type": "code",
   "execution_count": 21,
   "metadata": {},
   "outputs": [
    {
     "data": {
      "text/html": [
       "<div>\n",
       "<style scoped>\n",
       "    .dataframe tbody tr th:only-of-type {\n",
       "        vertical-align: middle;\n",
       "    }\n",
       "\n",
       "    .dataframe tbody tr th {\n",
       "        vertical-align: top;\n",
       "    }\n",
       "\n",
       "    .dataframe thead th {\n",
       "        text-align: right;\n",
       "    }\n",
       "</style>\n",
       "<table border=\"1\" class=\"dataframe\">\n",
       "  <thead>\n",
       "    <tr style=\"text-align: right;\">\n",
       "      <th></th>\n",
       "      <th>ID</th>\n",
       "      <th>City</th>\n",
       "      <th>Date</th>\n",
       "      <th>Season</th>\n",
       "      <th>MatchNumber</th>\n",
       "      <th>Team1</th>\n",
       "      <th>Team2</th>\n",
       "      <th>Venue</th>\n",
       "      <th>TossWinner</th>\n",
       "      <th>TossDecision</th>\n",
       "      <th>...</th>\n",
       "      <th>batsman_run</th>\n",
       "      <th>extras_run</th>\n",
       "      <th>total_run</th>\n",
       "      <th>non_boundary</th>\n",
       "      <th>isWicketDelivery</th>\n",
       "      <th>player_out</th>\n",
       "      <th>kind</th>\n",
       "      <th>fielders_involved</th>\n",
       "      <th>BattingTeam</th>\n",
       "      <th>Overs</th>\n",
       "    </tr>\n",
       "  </thead>\n",
       "  <tbody>\n",
       "    <tr>\n",
       "      <th>0</th>\n",
       "      <td>1312200</td>\n",
       "      <td>Ahmedabad</td>\n",
       "      <td>2022-05-29</td>\n",
       "      <td>2022</td>\n",
       "      <td>Final</td>\n",
       "      <td>Rajasthan Royals</td>\n",
       "      <td>Gujarat Titans</td>\n",
       "      <td>Narendra Modi Stadium, Ahmedabad</td>\n",
       "      <td>Rajasthan Royals</td>\n",
       "      <td>bat</td>\n",
       "      <td>...</td>\n",
       "      <td>0</td>\n",
       "      <td>0</td>\n",
       "      <td>0</td>\n",
       "      <td>0</td>\n",
       "      <td>0</td>\n",
       "      <td>NaN</td>\n",
       "      <td>NaN</td>\n",
       "      <td>NaN</td>\n",
       "      <td>Rajasthan Royals</td>\n",
       "      <td>0.1</td>\n",
       "    </tr>\n",
       "    <tr>\n",
       "      <th>1</th>\n",
       "      <td>1312200</td>\n",
       "      <td>Ahmedabad</td>\n",
       "      <td>2022-05-29</td>\n",
       "      <td>2022</td>\n",
       "      <td>Final</td>\n",
       "      <td>Rajasthan Royals</td>\n",
       "      <td>Gujarat Titans</td>\n",
       "      <td>Narendra Modi Stadium, Ahmedabad</td>\n",
       "      <td>Rajasthan Royals</td>\n",
       "      <td>bat</td>\n",
       "      <td>...</td>\n",
       "      <td>0</td>\n",
       "      <td>1</td>\n",
       "      <td>1</td>\n",
       "      <td>0</td>\n",
       "      <td>0</td>\n",
       "      <td>NaN</td>\n",
       "      <td>NaN</td>\n",
       "      <td>NaN</td>\n",
       "      <td>Rajasthan Royals</td>\n",
       "      <td>0.2</td>\n",
       "    </tr>\n",
       "    <tr>\n",
       "      <th>2</th>\n",
       "      <td>1312200</td>\n",
       "      <td>Ahmedabad</td>\n",
       "      <td>2022-05-29</td>\n",
       "      <td>2022</td>\n",
       "      <td>Final</td>\n",
       "      <td>Rajasthan Royals</td>\n",
       "      <td>Gujarat Titans</td>\n",
       "      <td>Narendra Modi Stadium, Ahmedabad</td>\n",
       "      <td>Rajasthan Royals</td>\n",
       "      <td>bat</td>\n",
       "      <td>...</td>\n",
       "      <td>1</td>\n",
       "      <td>0</td>\n",
       "      <td>1</td>\n",
       "      <td>0</td>\n",
       "      <td>0</td>\n",
       "      <td>NaN</td>\n",
       "      <td>NaN</td>\n",
       "      <td>NaN</td>\n",
       "      <td>Rajasthan Royals</td>\n",
       "      <td>0.3</td>\n",
       "    </tr>\n",
       "    <tr>\n",
       "      <th>3</th>\n",
       "      <td>1312200</td>\n",
       "      <td>Ahmedabad</td>\n",
       "      <td>2022-05-29</td>\n",
       "      <td>2022</td>\n",
       "      <td>Final</td>\n",
       "      <td>Rajasthan Royals</td>\n",
       "      <td>Gujarat Titans</td>\n",
       "      <td>Narendra Modi Stadium, Ahmedabad</td>\n",
       "      <td>Rajasthan Royals</td>\n",
       "      <td>bat</td>\n",
       "      <td>...</td>\n",
       "      <td>0</td>\n",
       "      <td>0</td>\n",
       "      <td>0</td>\n",
       "      <td>0</td>\n",
       "      <td>0</td>\n",
       "      <td>NaN</td>\n",
       "      <td>NaN</td>\n",
       "      <td>NaN</td>\n",
       "      <td>Rajasthan Royals</td>\n",
       "      <td>0.4</td>\n",
       "    </tr>\n",
       "    <tr>\n",
       "      <th>4</th>\n",
       "      <td>1312200</td>\n",
       "      <td>Ahmedabad</td>\n",
       "      <td>2022-05-29</td>\n",
       "      <td>2022</td>\n",
       "      <td>Final</td>\n",
       "      <td>Rajasthan Royals</td>\n",
       "      <td>Gujarat Titans</td>\n",
       "      <td>Narendra Modi Stadium, Ahmedabad</td>\n",
       "      <td>Rajasthan Royals</td>\n",
       "      <td>bat</td>\n",
       "      <td>...</td>\n",
       "      <td>0</td>\n",
       "      <td>0</td>\n",
       "      <td>0</td>\n",
       "      <td>0</td>\n",
       "      <td>0</td>\n",
       "      <td>NaN</td>\n",
       "      <td>NaN</td>\n",
       "      <td>NaN</td>\n",
       "      <td>Rajasthan Royals</td>\n",
       "      <td>0.5</td>\n",
       "    </tr>\n",
       "  </tbody>\n",
       "</table>\n",
       "<p>5 rows × 39 columns</p>\n",
       "</div>"
      ],
      "text/plain": [
       "        ID       City        Date Season MatchNumber             Team1  \\\n",
       "0  1312200  Ahmedabad  2022-05-29   2022       Final  Rajasthan Royals   \n",
       "1  1312200  Ahmedabad  2022-05-29   2022       Final  Rajasthan Royals   \n",
       "2  1312200  Ahmedabad  2022-05-29   2022       Final  Rajasthan Royals   \n",
       "3  1312200  Ahmedabad  2022-05-29   2022       Final  Rajasthan Royals   \n",
       "4  1312200  Ahmedabad  2022-05-29   2022       Final  Rajasthan Royals   \n",
       "\n",
       "            Team2                             Venue        TossWinner  \\\n",
       "0  Gujarat Titans  Narendra Modi Stadium, Ahmedabad  Rajasthan Royals   \n",
       "1  Gujarat Titans  Narendra Modi Stadium, Ahmedabad  Rajasthan Royals   \n",
       "2  Gujarat Titans  Narendra Modi Stadium, Ahmedabad  Rajasthan Royals   \n",
       "3  Gujarat Titans  Narendra Modi Stadium, Ahmedabad  Rajasthan Royals   \n",
       "4  Gujarat Titans  Narendra Modi Stadium, Ahmedabad  Rajasthan Royals   \n",
       "\n",
       "  TossDecision  ... batsman_run extras_run total_run  non_boundary  \\\n",
       "0          bat  ...           0          0         0             0   \n",
       "1          bat  ...           0          1         1             0   \n",
       "2          bat  ...           1          0         1             0   \n",
       "3          bat  ...           0          0         0             0   \n",
       "4          bat  ...           0          0         0             0   \n",
       "\n",
       "  isWicketDelivery player_out kind fielders_involved       BattingTeam Overs  \n",
       "0                0        NaN  NaN               NaN  Rajasthan Royals   0.1  \n",
       "1                0        NaN  NaN               NaN  Rajasthan Royals   0.2  \n",
       "2                0        NaN  NaN               NaN  Rajasthan Royals   0.3  \n",
       "3                0        NaN  NaN               NaN  Rajasthan Royals   0.4  \n",
       "4                0        NaN  NaN               NaN  Rajasthan Royals   0.5  \n",
       "\n",
       "[5 rows x 39 columns]"
      ]
     },
     "execution_count": 21,
     "metadata": {},
     "output_type": "execute_result"
    }
   ],
   "source": [
    "ball_df.head()"
   ]
  },
  {
   "cell_type": "code",
   "execution_count": 22,
   "metadata": {},
   "outputs": [
    {
     "data": {
      "text/plain": [
       "Mumbai Indians                 27826\n",
       "Royal Challengers Bangalore    26384\n",
       "Kolkata Knight Riders          26192\n",
       "Chennai Super Kings            25128\n",
       "Rajasthan Royals               22777\n",
       "Kings XI Punjab                22646\n",
       "Delhi Daredevils               18723\n",
       "Sunrisers Hyderabad            18196\n",
       "Deccan Chargers                 9034\n",
       "Delhi Capitals                  7587\n",
       "Pune Warriors                   5443\n",
       "Gujarat Lions                   3566\n",
       "Punjab Kings                    3388\n",
       "Gujarat Titans                  1971\n",
       "Rising Pune Supergiant          1900\n",
       "Lucknow Super Giants            1840\n",
       "Kochi Tuskers Kerala            1582\n",
       "Rising Pune Supergiants         1580\n",
       "Name: BattingTeam, dtype: int64"
      ]
     },
     "execution_count": 22,
     "metadata": {},
     "output_type": "execute_result"
    }
   ],
   "source": [
    "ball_df['BattingTeam'].value_counts()"
   ]
  },
  {
   "cell_type": "code",
   "execution_count": 23,
   "metadata": {},
   "outputs": [
    {
     "data": {
      "application/vnd.plotly.v1+json": {
       "config": {
        "plotlyServerURL": "https://plot.ly"
       },
       "data": [
        {
         "alignmentgroup": "True",
         "hovertemplate": "variable=BattingTeam<br>index=%{x}<br>value=%{y}<extra></extra>",
         "legendgroup": "BattingTeam",
         "marker": {
          "color": "#636efa",
          "pattern": {
           "shape": ""
          }
         },
         "name": "BattingTeam",
         "offsetgroup": "BattingTeam",
         "orientation": "v",
         "showlegend": true,
         "textposition": "auto",
         "type": "bar",
         "x": [
          "Mumbai Indians",
          "Royal Challengers Bangalore",
          "Kolkata Knight Riders",
          "Chennai Super Kings",
          "Rajasthan Royals",
          "Kings XI Punjab",
          "Delhi Daredevils",
          "Sunrisers Hyderabad",
          "Deccan Chargers",
          "Delhi Capitals",
          "Pune Warriors",
          "Gujarat Lions",
          "Punjab Kings",
          "Gujarat Titans",
          "Rising Pune Supergiant",
          "Lucknow Super Giants",
          "Kochi Tuskers Kerala",
          "Rising Pune Supergiants"
         ],
         "xaxis": "x",
         "y": [
          27826,
          26384,
          26192,
          25128,
          22777,
          22646,
          18723,
          18196,
          9034,
          7587,
          5443,
          3566,
          3388,
          1971,
          1900,
          1840,
          1582,
          1580
         ],
         "yaxis": "y"
        }
       ],
       "layout": {
        "barmode": "relative",
        "legend": {
         "title": {
          "text": "variable"
         },
         "tracegroupgap": 0
        },
        "margin": {
         "t": 60
        },
        "template": {
         "data": {
          "bar": [
           {
            "error_x": {
             "color": "#2a3f5f"
            },
            "error_y": {
             "color": "#2a3f5f"
            },
            "marker": {
             "line": {
              "color": "#E5ECF6",
              "width": 0.5
             },
             "pattern": {
              "fillmode": "overlay",
              "size": 10,
              "solidity": 0.2
             }
            },
            "type": "bar"
           }
          ],
          "barpolar": [
           {
            "marker": {
             "line": {
              "color": "#E5ECF6",
              "width": 0.5
             },
             "pattern": {
              "fillmode": "overlay",
              "size": 10,
              "solidity": 0.2
             }
            },
            "type": "barpolar"
           }
          ],
          "carpet": [
           {
            "aaxis": {
             "endlinecolor": "#2a3f5f",
             "gridcolor": "white",
             "linecolor": "white",
             "minorgridcolor": "white",
             "startlinecolor": "#2a3f5f"
            },
            "baxis": {
             "endlinecolor": "#2a3f5f",
             "gridcolor": "white",
             "linecolor": "white",
             "minorgridcolor": "white",
             "startlinecolor": "#2a3f5f"
            },
            "type": "carpet"
           }
          ],
          "choropleth": [
           {
            "colorbar": {
             "outlinewidth": 0,
             "ticks": ""
            },
            "type": "choropleth"
           }
          ],
          "contour": [
           {
            "colorbar": {
             "outlinewidth": 0,
             "ticks": ""
            },
            "colorscale": [
             [
              0,
              "#0d0887"
             ],
             [
              0.1111111111111111,
              "#46039f"
             ],
             [
              0.2222222222222222,
              "#7201a8"
             ],
             [
              0.3333333333333333,
              "#9c179e"
             ],
             [
              0.4444444444444444,
              "#bd3786"
             ],
             [
              0.5555555555555556,
              "#d8576b"
             ],
             [
              0.6666666666666666,
              "#ed7953"
             ],
             [
              0.7777777777777778,
              "#fb9f3a"
             ],
             [
              0.8888888888888888,
              "#fdca26"
             ],
             [
              1,
              "#f0f921"
             ]
            ],
            "type": "contour"
           }
          ],
          "contourcarpet": [
           {
            "colorbar": {
             "outlinewidth": 0,
             "ticks": ""
            },
            "type": "contourcarpet"
           }
          ],
          "heatmap": [
           {
            "colorbar": {
             "outlinewidth": 0,
             "ticks": ""
            },
            "colorscale": [
             [
              0,
              "#0d0887"
             ],
             [
              0.1111111111111111,
              "#46039f"
             ],
             [
              0.2222222222222222,
              "#7201a8"
             ],
             [
              0.3333333333333333,
              "#9c179e"
             ],
             [
              0.4444444444444444,
              "#bd3786"
             ],
             [
              0.5555555555555556,
              "#d8576b"
             ],
             [
              0.6666666666666666,
              "#ed7953"
             ],
             [
              0.7777777777777778,
              "#fb9f3a"
             ],
             [
              0.8888888888888888,
              "#fdca26"
             ],
             [
              1,
              "#f0f921"
             ]
            ],
            "type": "heatmap"
           }
          ],
          "heatmapgl": [
           {
            "colorbar": {
             "outlinewidth": 0,
             "ticks": ""
            },
            "colorscale": [
             [
              0,
              "#0d0887"
             ],
             [
              0.1111111111111111,
              "#46039f"
             ],
             [
              0.2222222222222222,
              "#7201a8"
             ],
             [
              0.3333333333333333,
              "#9c179e"
             ],
             [
              0.4444444444444444,
              "#bd3786"
             ],
             [
              0.5555555555555556,
              "#d8576b"
             ],
             [
              0.6666666666666666,
              "#ed7953"
             ],
             [
              0.7777777777777778,
              "#fb9f3a"
             ],
             [
              0.8888888888888888,
              "#fdca26"
             ],
             [
              1,
              "#f0f921"
             ]
            ],
            "type": "heatmapgl"
           }
          ],
          "histogram": [
           {
            "marker": {
             "pattern": {
              "fillmode": "overlay",
              "size": 10,
              "solidity": 0.2
             }
            },
            "type": "histogram"
           }
          ],
          "histogram2d": [
           {
            "colorbar": {
             "outlinewidth": 0,
             "ticks": ""
            },
            "colorscale": [
             [
              0,
              "#0d0887"
             ],
             [
              0.1111111111111111,
              "#46039f"
             ],
             [
              0.2222222222222222,
              "#7201a8"
             ],
             [
              0.3333333333333333,
              "#9c179e"
             ],
             [
              0.4444444444444444,
              "#bd3786"
             ],
             [
              0.5555555555555556,
              "#d8576b"
             ],
             [
              0.6666666666666666,
              "#ed7953"
             ],
             [
              0.7777777777777778,
              "#fb9f3a"
             ],
             [
              0.8888888888888888,
              "#fdca26"
             ],
             [
              1,
              "#f0f921"
             ]
            ],
            "type": "histogram2d"
           }
          ],
          "histogram2dcontour": [
           {
            "colorbar": {
             "outlinewidth": 0,
             "ticks": ""
            },
            "colorscale": [
             [
              0,
              "#0d0887"
             ],
             [
              0.1111111111111111,
              "#46039f"
             ],
             [
              0.2222222222222222,
              "#7201a8"
             ],
             [
              0.3333333333333333,
              "#9c179e"
             ],
             [
              0.4444444444444444,
              "#bd3786"
             ],
             [
              0.5555555555555556,
              "#d8576b"
             ],
             [
              0.6666666666666666,
              "#ed7953"
             ],
             [
              0.7777777777777778,
              "#fb9f3a"
             ],
             [
              0.8888888888888888,
              "#fdca26"
             ],
             [
              1,
              "#f0f921"
             ]
            ],
            "type": "histogram2dcontour"
           }
          ],
          "mesh3d": [
           {
            "colorbar": {
             "outlinewidth": 0,
             "ticks": ""
            },
            "type": "mesh3d"
           }
          ],
          "parcoords": [
           {
            "line": {
             "colorbar": {
              "outlinewidth": 0,
              "ticks": ""
             }
            },
            "type": "parcoords"
           }
          ],
          "pie": [
           {
            "automargin": true,
            "type": "pie"
           }
          ],
          "scatter": [
           {
            "fillpattern": {
             "fillmode": "overlay",
             "size": 10,
             "solidity": 0.2
            },
            "type": "scatter"
           }
          ],
          "scatter3d": [
           {
            "line": {
             "colorbar": {
              "outlinewidth": 0,
              "ticks": ""
             }
            },
            "marker": {
             "colorbar": {
              "outlinewidth": 0,
              "ticks": ""
             }
            },
            "type": "scatter3d"
           }
          ],
          "scattercarpet": [
           {
            "marker": {
             "colorbar": {
              "outlinewidth": 0,
              "ticks": ""
             }
            },
            "type": "scattercarpet"
           }
          ],
          "scattergeo": [
           {
            "marker": {
             "colorbar": {
              "outlinewidth": 0,
              "ticks": ""
             }
            },
            "type": "scattergeo"
           }
          ],
          "scattergl": [
           {
            "marker": {
             "colorbar": {
              "outlinewidth": 0,
              "ticks": ""
             }
            },
            "type": "scattergl"
           }
          ],
          "scattermapbox": [
           {
            "marker": {
             "colorbar": {
              "outlinewidth": 0,
              "ticks": ""
             }
            },
            "type": "scattermapbox"
           }
          ],
          "scatterpolar": [
           {
            "marker": {
             "colorbar": {
              "outlinewidth": 0,
              "ticks": ""
             }
            },
            "type": "scatterpolar"
           }
          ],
          "scatterpolargl": [
           {
            "marker": {
             "colorbar": {
              "outlinewidth": 0,
              "ticks": ""
             }
            },
            "type": "scatterpolargl"
           }
          ],
          "scatterternary": [
           {
            "marker": {
             "colorbar": {
              "outlinewidth": 0,
              "ticks": ""
             }
            },
            "type": "scatterternary"
           }
          ],
          "surface": [
           {
            "colorbar": {
             "outlinewidth": 0,
             "ticks": ""
            },
            "colorscale": [
             [
              0,
              "#0d0887"
             ],
             [
              0.1111111111111111,
              "#46039f"
             ],
             [
              0.2222222222222222,
              "#7201a8"
             ],
             [
              0.3333333333333333,
              "#9c179e"
             ],
             [
              0.4444444444444444,
              "#bd3786"
             ],
             [
              0.5555555555555556,
              "#d8576b"
             ],
             [
              0.6666666666666666,
              "#ed7953"
             ],
             [
              0.7777777777777778,
              "#fb9f3a"
             ],
             [
              0.8888888888888888,
              "#fdca26"
             ],
             [
              1,
              "#f0f921"
             ]
            ],
            "type": "surface"
           }
          ],
          "table": [
           {
            "cells": {
             "fill": {
              "color": "#EBF0F8"
             },
             "line": {
              "color": "white"
             }
            },
            "header": {
             "fill": {
              "color": "#C8D4E3"
             },
             "line": {
              "color": "white"
             }
            },
            "type": "table"
           }
          ]
         },
         "layout": {
          "annotationdefaults": {
           "arrowcolor": "#2a3f5f",
           "arrowhead": 0,
           "arrowwidth": 1
          },
          "autotypenumbers": "strict",
          "coloraxis": {
           "colorbar": {
            "outlinewidth": 0,
            "ticks": ""
           }
          },
          "colorscale": {
           "diverging": [
            [
             0,
             "#8e0152"
            ],
            [
             0.1,
             "#c51b7d"
            ],
            [
             0.2,
             "#de77ae"
            ],
            [
             0.3,
             "#f1b6da"
            ],
            [
             0.4,
             "#fde0ef"
            ],
            [
             0.5,
             "#f7f7f7"
            ],
            [
             0.6,
             "#e6f5d0"
            ],
            [
             0.7,
             "#b8e186"
            ],
            [
             0.8,
             "#7fbc41"
            ],
            [
             0.9,
             "#4d9221"
            ],
            [
             1,
             "#276419"
            ]
           ],
           "sequential": [
            [
             0,
             "#0d0887"
            ],
            [
             0.1111111111111111,
             "#46039f"
            ],
            [
             0.2222222222222222,
             "#7201a8"
            ],
            [
             0.3333333333333333,
             "#9c179e"
            ],
            [
             0.4444444444444444,
             "#bd3786"
            ],
            [
             0.5555555555555556,
             "#d8576b"
            ],
            [
             0.6666666666666666,
             "#ed7953"
            ],
            [
             0.7777777777777778,
             "#fb9f3a"
            ],
            [
             0.8888888888888888,
             "#fdca26"
            ],
            [
             1,
             "#f0f921"
            ]
           ],
           "sequentialminus": [
            [
             0,
             "#0d0887"
            ],
            [
             0.1111111111111111,
             "#46039f"
            ],
            [
             0.2222222222222222,
             "#7201a8"
            ],
            [
             0.3333333333333333,
             "#9c179e"
            ],
            [
             0.4444444444444444,
             "#bd3786"
            ],
            [
             0.5555555555555556,
             "#d8576b"
            ],
            [
             0.6666666666666666,
             "#ed7953"
            ],
            [
             0.7777777777777778,
             "#fb9f3a"
            ],
            [
             0.8888888888888888,
             "#fdca26"
            ],
            [
             1,
             "#f0f921"
            ]
           ]
          },
          "colorway": [
           "#636efa",
           "#EF553B",
           "#00cc96",
           "#ab63fa",
           "#FFA15A",
           "#19d3f3",
           "#FF6692",
           "#B6E880",
           "#FF97FF",
           "#FECB52"
          ],
          "font": {
           "color": "#2a3f5f"
          },
          "geo": {
           "bgcolor": "white",
           "lakecolor": "white",
           "landcolor": "#E5ECF6",
           "showlakes": true,
           "showland": true,
           "subunitcolor": "white"
          },
          "hoverlabel": {
           "align": "left"
          },
          "hovermode": "closest",
          "mapbox": {
           "style": "light"
          },
          "paper_bgcolor": "white",
          "plot_bgcolor": "#E5ECF6",
          "polar": {
           "angularaxis": {
            "gridcolor": "white",
            "linecolor": "white",
            "ticks": ""
           },
           "bgcolor": "#E5ECF6",
           "radialaxis": {
            "gridcolor": "white",
            "linecolor": "white",
            "ticks": ""
           }
          },
          "scene": {
           "xaxis": {
            "backgroundcolor": "#E5ECF6",
            "gridcolor": "white",
            "gridwidth": 2,
            "linecolor": "white",
            "showbackground": true,
            "ticks": "",
            "zerolinecolor": "white"
           },
           "yaxis": {
            "backgroundcolor": "#E5ECF6",
            "gridcolor": "white",
            "gridwidth": 2,
            "linecolor": "white",
            "showbackground": true,
            "ticks": "",
            "zerolinecolor": "white"
           },
           "zaxis": {
            "backgroundcolor": "#E5ECF6",
            "gridcolor": "white",
            "gridwidth": 2,
            "linecolor": "white",
            "showbackground": true,
            "ticks": "",
            "zerolinecolor": "white"
           }
          },
          "shapedefaults": {
           "line": {
            "color": "#2a3f5f"
           }
          },
          "ternary": {
           "aaxis": {
            "gridcolor": "white",
            "linecolor": "white",
            "ticks": ""
           },
           "baxis": {
            "gridcolor": "white",
            "linecolor": "white",
            "ticks": ""
           },
           "bgcolor": "#E5ECF6",
           "caxis": {
            "gridcolor": "white",
            "linecolor": "white",
            "ticks": ""
           }
          },
          "title": {
           "x": 0.05
          },
          "xaxis": {
           "automargin": true,
           "gridcolor": "white",
           "linecolor": "white",
           "ticks": "",
           "title": {
            "standoff": 15
           },
           "zerolinecolor": "white",
           "zerolinewidth": 2
          },
          "yaxis": {
           "automargin": true,
           "gridcolor": "white",
           "linecolor": "white",
           "ticks": "",
           "title": {
            "standoff": 15
           },
           "zerolinecolor": "white",
           "zerolinewidth": 2
          }
         }
        },
        "xaxis": {
         "anchor": "y",
         "domain": [
          0,
          1
         ],
         "title": {
          "text": "index"
         }
        },
        "yaxis": {
         "anchor": "x",
         "domain": [
          0,
          1
         ],
         "title": {
          "text": "value"
         }
        }
       }
      },
      "text/html": [
       "<div>                            <div id=\"ca1a09bb-7b3c-4975-bc67-510b4f3401b5\" class=\"plotly-graph-div\" style=\"height:525px; width:100%;\"></div>            <script type=\"text/javascript\">                require([\"plotly\"], function(Plotly) {                    window.PLOTLYENV=window.PLOTLYENV || {};                                    if (document.getElementById(\"ca1a09bb-7b3c-4975-bc67-510b4f3401b5\")) {                    Plotly.newPlot(                        \"ca1a09bb-7b3c-4975-bc67-510b4f3401b5\",                        [{\"alignmentgroup\":\"True\",\"hovertemplate\":\"variable=BattingTeam<br>index=%{x}<br>value=%{y}<extra></extra>\",\"legendgroup\":\"BattingTeam\",\"marker\":{\"color\":\"#636efa\",\"pattern\":{\"shape\":\"\"}},\"name\":\"BattingTeam\",\"offsetgroup\":\"BattingTeam\",\"orientation\":\"v\",\"showlegend\":true,\"textposition\":\"auto\",\"x\":[\"Mumbai Indians\",\"Royal Challengers Bangalore\",\"Kolkata Knight Riders\",\"Chennai Super Kings\",\"Rajasthan Royals\",\"Kings XI Punjab\",\"Delhi Daredevils\",\"Sunrisers Hyderabad\",\"Deccan Chargers\",\"Delhi Capitals\",\"Pune Warriors\",\"Gujarat Lions\",\"Punjab Kings\",\"Gujarat Titans\",\"Rising Pune Supergiant\",\"Lucknow Super Giants\",\"Kochi Tuskers Kerala\",\"Rising Pune Supergiants\"],\"xaxis\":\"x\",\"y\":[27826,26384,26192,25128,22777,22646,18723,18196,9034,7587,5443,3566,3388,1971,1900,1840,1582,1580],\"yaxis\":\"y\",\"type\":\"bar\"}],                        {\"template\":{\"data\":{\"histogram2dcontour\":[{\"type\":\"histogram2dcontour\",\"colorbar\":{\"outlinewidth\":0,\"ticks\":\"\"},\"colorscale\":[[0.0,\"#0d0887\"],[0.1111111111111111,\"#46039f\"],[0.2222222222222222,\"#7201a8\"],[0.3333333333333333,\"#9c179e\"],[0.4444444444444444,\"#bd3786\"],[0.5555555555555556,\"#d8576b\"],[0.6666666666666666,\"#ed7953\"],[0.7777777777777778,\"#fb9f3a\"],[0.8888888888888888,\"#fdca26\"],[1.0,\"#f0f921\"]]}],\"choropleth\":[{\"type\":\"choropleth\",\"colorbar\":{\"outlinewidth\":0,\"ticks\":\"\"}}],\"histogram2d\":[{\"type\":\"histogram2d\",\"colorbar\":{\"outlinewidth\":0,\"ticks\":\"\"},\"colorscale\":[[0.0,\"#0d0887\"],[0.1111111111111111,\"#46039f\"],[0.2222222222222222,\"#7201a8\"],[0.3333333333333333,\"#9c179e\"],[0.4444444444444444,\"#bd3786\"],[0.5555555555555556,\"#d8576b\"],[0.6666666666666666,\"#ed7953\"],[0.7777777777777778,\"#fb9f3a\"],[0.8888888888888888,\"#fdca26\"],[1.0,\"#f0f921\"]]}],\"heatmap\":[{\"type\":\"heatmap\",\"colorbar\":{\"outlinewidth\":0,\"ticks\":\"\"},\"colorscale\":[[0.0,\"#0d0887\"],[0.1111111111111111,\"#46039f\"],[0.2222222222222222,\"#7201a8\"],[0.3333333333333333,\"#9c179e\"],[0.4444444444444444,\"#bd3786\"],[0.5555555555555556,\"#d8576b\"],[0.6666666666666666,\"#ed7953\"],[0.7777777777777778,\"#fb9f3a\"],[0.8888888888888888,\"#fdca26\"],[1.0,\"#f0f921\"]]}],\"heatmapgl\":[{\"type\":\"heatmapgl\",\"colorbar\":{\"outlinewidth\":0,\"ticks\":\"\"},\"colorscale\":[[0.0,\"#0d0887\"],[0.1111111111111111,\"#46039f\"],[0.2222222222222222,\"#7201a8\"],[0.3333333333333333,\"#9c179e\"],[0.4444444444444444,\"#bd3786\"],[0.5555555555555556,\"#d8576b\"],[0.6666666666666666,\"#ed7953\"],[0.7777777777777778,\"#fb9f3a\"],[0.8888888888888888,\"#fdca26\"],[1.0,\"#f0f921\"]]}],\"contourcarpet\":[{\"type\":\"contourcarpet\",\"colorbar\":{\"outlinewidth\":0,\"ticks\":\"\"}}],\"contour\":[{\"type\":\"contour\",\"colorbar\":{\"outlinewidth\":0,\"ticks\":\"\"},\"colorscale\":[[0.0,\"#0d0887\"],[0.1111111111111111,\"#46039f\"],[0.2222222222222222,\"#7201a8\"],[0.3333333333333333,\"#9c179e\"],[0.4444444444444444,\"#bd3786\"],[0.5555555555555556,\"#d8576b\"],[0.6666666666666666,\"#ed7953\"],[0.7777777777777778,\"#fb9f3a\"],[0.8888888888888888,\"#fdca26\"],[1.0,\"#f0f921\"]]}],\"surface\":[{\"type\":\"surface\",\"colorbar\":{\"outlinewidth\":0,\"ticks\":\"\"},\"colorscale\":[[0.0,\"#0d0887\"],[0.1111111111111111,\"#46039f\"],[0.2222222222222222,\"#7201a8\"],[0.3333333333333333,\"#9c179e\"],[0.4444444444444444,\"#bd3786\"],[0.5555555555555556,\"#d8576b\"],[0.6666666666666666,\"#ed7953\"],[0.7777777777777778,\"#fb9f3a\"],[0.8888888888888888,\"#fdca26\"],[1.0,\"#f0f921\"]]}],\"mesh3d\":[{\"type\":\"mesh3d\",\"colorbar\":{\"outlinewidth\":0,\"ticks\":\"\"}}],\"scatter\":[{\"fillpattern\":{\"fillmode\":\"overlay\",\"size\":10,\"solidity\":0.2},\"type\":\"scatter\"}],\"parcoords\":[{\"type\":\"parcoords\",\"line\":{\"colorbar\":{\"outlinewidth\":0,\"ticks\":\"\"}}}],\"scatterpolargl\":[{\"type\":\"scatterpolargl\",\"marker\":{\"colorbar\":{\"outlinewidth\":0,\"ticks\":\"\"}}}],\"bar\":[{\"error_x\":{\"color\":\"#2a3f5f\"},\"error_y\":{\"color\":\"#2a3f5f\"},\"marker\":{\"line\":{\"color\":\"#E5ECF6\",\"width\":0.5},\"pattern\":{\"fillmode\":\"overlay\",\"size\":10,\"solidity\":0.2}},\"type\":\"bar\"}],\"scattergeo\":[{\"type\":\"scattergeo\",\"marker\":{\"colorbar\":{\"outlinewidth\":0,\"ticks\":\"\"}}}],\"scatterpolar\":[{\"type\":\"scatterpolar\",\"marker\":{\"colorbar\":{\"outlinewidth\":0,\"ticks\":\"\"}}}],\"histogram\":[{\"marker\":{\"pattern\":{\"fillmode\":\"overlay\",\"size\":10,\"solidity\":0.2}},\"type\":\"histogram\"}],\"scattergl\":[{\"type\":\"scattergl\",\"marker\":{\"colorbar\":{\"outlinewidth\":0,\"ticks\":\"\"}}}],\"scatter3d\":[{\"type\":\"scatter3d\",\"line\":{\"colorbar\":{\"outlinewidth\":0,\"ticks\":\"\"}},\"marker\":{\"colorbar\":{\"outlinewidth\":0,\"ticks\":\"\"}}}],\"scattermapbox\":[{\"type\":\"scattermapbox\",\"marker\":{\"colorbar\":{\"outlinewidth\":0,\"ticks\":\"\"}}}],\"scatterternary\":[{\"type\":\"scatterternary\",\"marker\":{\"colorbar\":{\"outlinewidth\":0,\"ticks\":\"\"}}}],\"scattercarpet\":[{\"type\":\"scattercarpet\",\"marker\":{\"colorbar\":{\"outlinewidth\":0,\"ticks\":\"\"}}}],\"carpet\":[{\"aaxis\":{\"endlinecolor\":\"#2a3f5f\",\"gridcolor\":\"white\",\"linecolor\":\"white\",\"minorgridcolor\":\"white\",\"startlinecolor\":\"#2a3f5f\"},\"baxis\":{\"endlinecolor\":\"#2a3f5f\",\"gridcolor\":\"white\",\"linecolor\":\"white\",\"minorgridcolor\":\"white\",\"startlinecolor\":\"#2a3f5f\"},\"type\":\"carpet\"}],\"table\":[{\"cells\":{\"fill\":{\"color\":\"#EBF0F8\"},\"line\":{\"color\":\"white\"}},\"header\":{\"fill\":{\"color\":\"#C8D4E3\"},\"line\":{\"color\":\"white\"}},\"type\":\"table\"}],\"barpolar\":[{\"marker\":{\"line\":{\"color\":\"#E5ECF6\",\"width\":0.5},\"pattern\":{\"fillmode\":\"overlay\",\"size\":10,\"solidity\":0.2}},\"type\":\"barpolar\"}],\"pie\":[{\"automargin\":true,\"type\":\"pie\"}]},\"layout\":{\"autotypenumbers\":\"strict\",\"colorway\":[\"#636efa\",\"#EF553B\",\"#00cc96\",\"#ab63fa\",\"#FFA15A\",\"#19d3f3\",\"#FF6692\",\"#B6E880\",\"#FF97FF\",\"#FECB52\"],\"font\":{\"color\":\"#2a3f5f\"},\"hovermode\":\"closest\",\"hoverlabel\":{\"align\":\"left\"},\"paper_bgcolor\":\"white\",\"plot_bgcolor\":\"#E5ECF6\",\"polar\":{\"bgcolor\":\"#E5ECF6\",\"angularaxis\":{\"gridcolor\":\"white\",\"linecolor\":\"white\",\"ticks\":\"\"},\"radialaxis\":{\"gridcolor\":\"white\",\"linecolor\":\"white\",\"ticks\":\"\"}},\"ternary\":{\"bgcolor\":\"#E5ECF6\",\"aaxis\":{\"gridcolor\":\"white\",\"linecolor\":\"white\",\"ticks\":\"\"},\"baxis\":{\"gridcolor\":\"white\",\"linecolor\":\"white\",\"ticks\":\"\"},\"caxis\":{\"gridcolor\":\"white\",\"linecolor\":\"white\",\"ticks\":\"\"}},\"coloraxis\":{\"colorbar\":{\"outlinewidth\":0,\"ticks\":\"\"}},\"colorscale\":{\"sequential\":[[0.0,\"#0d0887\"],[0.1111111111111111,\"#46039f\"],[0.2222222222222222,\"#7201a8\"],[0.3333333333333333,\"#9c179e\"],[0.4444444444444444,\"#bd3786\"],[0.5555555555555556,\"#d8576b\"],[0.6666666666666666,\"#ed7953\"],[0.7777777777777778,\"#fb9f3a\"],[0.8888888888888888,\"#fdca26\"],[1.0,\"#f0f921\"]],\"sequentialminus\":[[0.0,\"#0d0887\"],[0.1111111111111111,\"#46039f\"],[0.2222222222222222,\"#7201a8\"],[0.3333333333333333,\"#9c179e\"],[0.4444444444444444,\"#bd3786\"],[0.5555555555555556,\"#d8576b\"],[0.6666666666666666,\"#ed7953\"],[0.7777777777777778,\"#fb9f3a\"],[0.8888888888888888,\"#fdca26\"],[1.0,\"#f0f921\"]],\"diverging\":[[0,\"#8e0152\"],[0.1,\"#c51b7d\"],[0.2,\"#de77ae\"],[0.3,\"#f1b6da\"],[0.4,\"#fde0ef\"],[0.5,\"#f7f7f7\"],[0.6,\"#e6f5d0\"],[0.7,\"#b8e186\"],[0.8,\"#7fbc41\"],[0.9,\"#4d9221\"],[1,\"#276419\"]]},\"xaxis\":{\"gridcolor\":\"white\",\"linecolor\":\"white\",\"ticks\":\"\",\"title\":{\"standoff\":15},\"zerolinecolor\":\"white\",\"automargin\":true,\"zerolinewidth\":2},\"yaxis\":{\"gridcolor\":\"white\",\"linecolor\":\"white\",\"ticks\":\"\",\"title\":{\"standoff\":15},\"zerolinecolor\":\"white\",\"automargin\":true,\"zerolinewidth\":2},\"scene\":{\"xaxis\":{\"backgroundcolor\":\"#E5ECF6\",\"gridcolor\":\"white\",\"linecolor\":\"white\",\"showbackground\":true,\"ticks\":\"\",\"zerolinecolor\":\"white\",\"gridwidth\":2},\"yaxis\":{\"backgroundcolor\":\"#E5ECF6\",\"gridcolor\":\"white\",\"linecolor\":\"white\",\"showbackground\":true,\"ticks\":\"\",\"zerolinecolor\":\"white\",\"gridwidth\":2},\"zaxis\":{\"backgroundcolor\":\"#E5ECF6\",\"gridcolor\":\"white\",\"linecolor\":\"white\",\"showbackground\":true,\"ticks\":\"\",\"zerolinecolor\":\"white\",\"gridwidth\":2}},\"shapedefaults\":{\"line\":{\"color\":\"#2a3f5f\"}},\"annotationdefaults\":{\"arrowcolor\":\"#2a3f5f\",\"arrowhead\":0,\"arrowwidth\":1},\"geo\":{\"bgcolor\":\"white\",\"landcolor\":\"#E5ECF6\",\"subunitcolor\":\"white\",\"showland\":true,\"showlakes\":true,\"lakecolor\":\"white\"},\"title\":{\"x\":0.05},\"mapbox\":{\"style\":\"light\"}}},\"xaxis\":{\"anchor\":\"y\",\"domain\":[0.0,1.0],\"title\":{\"text\":\"index\"}},\"yaxis\":{\"anchor\":\"x\",\"domain\":[0.0,1.0],\"title\":{\"text\":\"value\"}},\"legend\":{\"title\":{\"text\":\"variable\"},\"tracegroupgap\":0},\"margin\":{\"t\":60},\"barmode\":\"relative\"},                        {\"responsive\": true}                    ).then(function(){\n",
       "                            \n",
       "var gd = document.getElementById('ca1a09bb-7b3c-4975-bc67-510b4f3401b5');\n",
       "var x = new MutationObserver(function (mutations, observer) {{\n",
       "        var display = window.getComputedStyle(gd).display;\n",
       "        if (!display || display === 'none') {{\n",
       "            console.log([gd, 'removed!']);\n",
       "            Plotly.purge(gd);\n",
       "            observer.disconnect();\n",
       "        }}\n",
       "}});\n",
       "\n",
       "// Listen for the removal of the full notebook cells\n",
       "var notebookContainer = gd.closest('#notebook-container');\n",
       "if (notebookContainer) {{\n",
       "    x.observe(notebookContainer, {childList: true});\n",
       "}}\n",
       "\n",
       "// Listen for the clearing of the current output cell\n",
       "var outputEl = gd.closest('.output');\n",
       "if (outputEl) {{\n",
       "    x.observe(outputEl, {childList: true});\n",
       "}}\n",
       "\n",
       "                        })                };                });            </script>        </div>"
      ]
     },
     "metadata": {},
     "output_type": "display_data"
    }
   ],
   "source": [
    "fig = px.bar(ball_df['BattingTeam'].value_counts())\n",
    "fig.show()"
   ]
  },
  {
   "cell_type": "code",
   "execution_count": 24,
   "metadata": {},
   "outputs": [
    {
     "data": {
      "text/plain": [
       "Index(['ID', 'City', 'Date', 'Season', 'MatchNumber', 'Team1', 'Team2',\n",
       "       'Venue', 'TossWinner', 'TossDecision', 'SuperOver', 'WinningTeam',\n",
       "       'WonBy', 'Margin', 'method', 'Player_of_Match', 'Team1Players',\n",
       "       'Team2Players', 'Umpire1', 'Umpire2', 'First_Innings_total_score',\n",
       "       'Second_Innings_Total_score', 'innings', 'overs', 'ballnumber',\n",
       "       'batter', 'bowler', 'non-striker', 'extra_type', 'batsman_run',\n",
       "       'extras_run', 'total_run', 'non_boundary', 'isWicketDelivery',\n",
       "       'player_out', 'kind', 'fielders_involved', 'BattingTeam', 'Overs'],\n",
       "      dtype='object')"
      ]
     },
     "execution_count": 24,
     "metadata": {},
     "output_type": "execute_result"
    }
   ],
   "source": [
    "ball_df.columns"
   ]
  },
  {
   "cell_type": "code",
   "execution_count": 81,
   "metadata": {},
   "outputs": [],
   "source": [
    "ball_df = ball_df[ball_df['innings']==2]"
   ]
  },
  {
   "cell_type": "code",
   "execution_count": 82,
   "metadata": {},
   "outputs": [
    {
     "data": {
      "text/plain": [
       "(19267, 47)"
      ]
     },
     "execution_count": 82,
     "metadata": {},
     "output_type": "execute_result"
    }
   ],
   "source": [
    "ball_df.shape"
   ]
  },
  {
   "cell_type": "code",
   "execution_count": 83,
   "metadata": {},
   "outputs": [
    {
     "data": {
      "text/html": [
       "<div>\n",
       "<style scoped>\n",
       "    .dataframe tbody tr th:only-of-type {\n",
       "        vertical-align: middle;\n",
       "    }\n",
       "\n",
       "    .dataframe tbody tr th {\n",
       "        vertical-align: top;\n",
       "    }\n",
       "\n",
       "    .dataframe thead th {\n",
       "        text-align: right;\n",
       "    }\n",
       "</style>\n",
       "<table border=\"1\" class=\"dataframe\">\n",
       "  <thead>\n",
       "    <tr style=\"text-align: right;\">\n",
       "      <th></th>\n",
       "      <th>ID</th>\n",
       "      <th>City</th>\n",
       "      <th>Date</th>\n",
       "      <th>Season</th>\n",
       "      <th>MatchNumber</th>\n",
       "      <th>Team1</th>\n",
       "      <th>Team2</th>\n",
       "      <th>Venue</th>\n",
       "      <th>TossWinner</th>\n",
       "      <th>TossDecision</th>\n",
       "      <th>...</th>\n",
       "      <th>BattingTeam</th>\n",
       "      <th>Overs</th>\n",
       "      <th>current_score</th>\n",
       "      <th>runs_left</th>\n",
       "      <th>ball_left</th>\n",
       "      <th>wickets_left</th>\n",
       "      <th>current_run_rate</th>\n",
       "      <th>required_run_rate</th>\n",
       "      <th>result</th>\n",
       "      <th>BowlingTeam</th>\n",
       "    </tr>\n",
       "  </thead>\n",
       "  <tbody>\n",
       "    <tr>\n",
       "      <th>153</th>\n",
       "      <td>1312200</td>\n",
       "      <td>Ahmedabad</td>\n",
       "      <td>2022-05-29</td>\n",
       "      <td>2022</td>\n",
       "      <td>Final</td>\n",
       "      <td>Rajasthan Royals</td>\n",
       "      <td>Gujarat Titans</td>\n",
       "      <td>Narendra Modi Stadium, Ahmedabad</td>\n",
       "      <td>Rajasthan Royals</td>\n",
       "      <td>bat</td>\n",
       "      <td>...</td>\n",
       "      <td>Gujarat Titans</td>\n",
       "      <td>5.1</td>\n",
       "      <td>25</td>\n",
       "      <td>108</td>\n",
       "      <td>89</td>\n",
       "      <td>8</td>\n",
       "      <td>4.838710</td>\n",
       "      <td>7.280899</td>\n",
       "      <td>1</td>\n",
       "      <td>Rajasthan Royals</td>\n",
       "    </tr>\n",
       "    <tr>\n",
       "      <th>154</th>\n",
       "      <td>1312200</td>\n",
       "      <td>Ahmedabad</td>\n",
       "      <td>2022-05-29</td>\n",
       "      <td>2022</td>\n",
       "      <td>Final</td>\n",
       "      <td>Rajasthan Royals</td>\n",
       "      <td>Gujarat Titans</td>\n",
       "      <td>Narendra Modi Stadium, Ahmedabad</td>\n",
       "      <td>Rajasthan Royals</td>\n",
       "      <td>bat</td>\n",
       "      <td>...</td>\n",
       "      <td>Gujarat Titans</td>\n",
       "      <td>5.2</td>\n",
       "      <td>25</td>\n",
       "      <td>108</td>\n",
       "      <td>88</td>\n",
       "      <td>8</td>\n",
       "      <td>4.687500</td>\n",
       "      <td>7.363636</td>\n",
       "      <td>1</td>\n",
       "      <td>Rajasthan Royals</td>\n",
       "    </tr>\n",
       "    <tr>\n",
       "      <th>155</th>\n",
       "      <td>1312200</td>\n",
       "      <td>Ahmedabad</td>\n",
       "      <td>2022-05-29</td>\n",
       "      <td>2022</td>\n",
       "      <td>Final</td>\n",
       "      <td>Rajasthan Royals</td>\n",
       "      <td>Gujarat Titans</td>\n",
       "      <td>Narendra Modi Stadium, Ahmedabad</td>\n",
       "      <td>Rajasthan Royals</td>\n",
       "      <td>bat</td>\n",
       "      <td>...</td>\n",
       "      <td>Gujarat Titans</td>\n",
       "      <td>5.3</td>\n",
       "      <td>26</td>\n",
       "      <td>107</td>\n",
       "      <td>87</td>\n",
       "      <td>8</td>\n",
       "      <td>4.727273</td>\n",
       "      <td>7.379310</td>\n",
       "      <td>1</td>\n",
       "      <td>Rajasthan Royals</td>\n",
       "    </tr>\n",
       "    <tr>\n",
       "      <th>156</th>\n",
       "      <td>1312200</td>\n",
       "      <td>Ahmedabad</td>\n",
       "      <td>2022-05-29</td>\n",
       "      <td>2022</td>\n",
       "      <td>Final</td>\n",
       "      <td>Rajasthan Royals</td>\n",
       "      <td>Gujarat Titans</td>\n",
       "      <td>Narendra Modi Stadium, Ahmedabad</td>\n",
       "      <td>Rajasthan Royals</td>\n",
       "      <td>bat</td>\n",
       "      <td>...</td>\n",
       "      <td>Gujarat Titans</td>\n",
       "      <td>5.4</td>\n",
       "      <td>26</td>\n",
       "      <td>107</td>\n",
       "      <td>86</td>\n",
       "      <td>8</td>\n",
       "      <td>4.588235</td>\n",
       "      <td>7.465116</td>\n",
       "      <td>1</td>\n",
       "      <td>Rajasthan Royals</td>\n",
       "    </tr>\n",
       "    <tr>\n",
       "      <th>157</th>\n",
       "      <td>1312200</td>\n",
       "      <td>Ahmedabad</td>\n",
       "      <td>2022-05-29</td>\n",
       "      <td>2022</td>\n",
       "      <td>Final</td>\n",
       "      <td>Rajasthan Royals</td>\n",
       "      <td>Gujarat Titans</td>\n",
       "      <td>Narendra Modi Stadium, Ahmedabad</td>\n",
       "      <td>Rajasthan Royals</td>\n",
       "      <td>bat</td>\n",
       "      <td>...</td>\n",
       "      <td>Gujarat Titans</td>\n",
       "      <td>5.5</td>\n",
       "      <td>27</td>\n",
       "      <td>106</td>\n",
       "      <td>85</td>\n",
       "      <td>8</td>\n",
       "      <td>4.628571</td>\n",
       "      <td>7.482353</td>\n",
       "      <td>1</td>\n",
       "      <td>Rajasthan Royals</td>\n",
       "    </tr>\n",
       "  </tbody>\n",
       "</table>\n",
       "<p>5 rows × 47 columns</p>\n",
       "</div>"
      ],
      "text/plain": [
       "          ID       City        Date Season MatchNumber             Team1  \\\n",
       "153  1312200  Ahmedabad  2022-05-29   2022       Final  Rajasthan Royals   \n",
       "154  1312200  Ahmedabad  2022-05-29   2022       Final  Rajasthan Royals   \n",
       "155  1312200  Ahmedabad  2022-05-29   2022       Final  Rajasthan Royals   \n",
       "156  1312200  Ahmedabad  2022-05-29   2022       Final  Rajasthan Royals   \n",
       "157  1312200  Ahmedabad  2022-05-29   2022       Final  Rajasthan Royals   \n",
       "\n",
       "              Team2                             Venue        TossWinner  \\\n",
       "153  Gujarat Titans  Narendra Modi Stadium, Ahmedabad  Rajasthan Royals   \n",
       "154  Gujarat Titans  Narendra Modi Stadium, Ahmedabad  Rajasthan Royals   \n",
       "155  Gujarat Titans  Narendra Modi Stadium, Ahmedabad  Rajasthan Royals   \n",
       "156  Gujarat Titans  Narendra Modi Stadium, Ahmedabad  Rajasthan Royals   \n",
       "157  Gujarat Titans  Narendra Modi Stadium, Ahmedabad  Rajasthan Royals   \n",
       "\n",
       "    TossDecision  ...     BattingTeam Overs current_score  runs_left  \\\n",
       "153          bat  ...  Gujarat Titans   5.1            25        108   \n",
       "154          bat  ...  Gujarat Titans   5.2            25        108   \n",
       "155          bat  ...  Gujarat Titans   5.3            26        107   \n",
       "156          bat  ...  Gujarat Titans   5.4            26        107   \n",
       "157          bat  ...  Gujarat Titans   5.5            27        106   \n",
       "\n",
       "    ball_left wickets_left current_run_rate required_run_rate result  \\\n",
       "153        89            8         4.838710          7.280899      1   \n",
       "154        88            8         4.687500          7.363636      1   \n",
       "155        87            8         4.727273          7.379310      1   \n",
       "156        86            8         4.588235          7.465116      1   \n",
       "157        85            8         4.628571          7.482353      1   \n",
       "\n",
       "          BowlingTeam  \n",
       "153  Rajasthan Royals  \n",
       "154  Rajasthan Royals  \n",
       "155  Rajasthan Royals  \n",
       "156  Rajasthan Royals  \n",
       "157  Rajasthan Royals  \n",
       "\n",
       "[5 rows x 47 columns]"
      ]
     },
     "execution_count": 83,
     "metadata": {},
     "output_type": "execute_result"
    }
   ],
   "source": [
    "ball_df.head()"
   ]
  },
  {
   "cell_type": "markdown",
   "metadata": {},
   "source": [
    "# Create new row current_score after each ball"
   ]
  },
  {
   "cell_type": "code",
   "execution_count": 84,
   "metadata": {},
   "outputs": [],
   "source": [
    "ball_df['current_score'] = ball_df.groupby('ID')['total_run'].cumsum()"
   ]
  },
  {
   "cell_type": "code",
   "execution_count": 85,
   "metadata": {},
   "outputs": [
    {
     "data": {
      "text/html": [
       "<div>\n",
       "<style scoped>\n",
       "    .dataframe tbody tr th:only-of-type {\n",
       "        vertical-align: middle;\n",
       "    }\n",
       "\n",
       "    .dataframe tbody tr th {\n",
       "        vertical-align: top;\n",
       "    }\n",
       "\n",
       "    .dataframe thead th {\n",
       "        text-align: right;\n",
       "    }\n",
       "</style>\n",
       "<table border=\"1\" class=\"dataframe\">\n",
       "  <thead>\n",
       "    <tr style=\"text-align: right;\">\n",
       "      <th></th>\n",
       "      <th>ID</th>\n",
       "      <th>City</th>\n",
       "      <th>Date</th>\n",
       "      <th>Season</th>\n",
       "      <th>MatchNumber</th>\n",
       "      <th>Team1</th>\n",
       "      <th>Team2</th>\n",
       "      <th>Venue</th>\n",
       "      <th>TossWinner</th>\n",
       "      <th>TossDecision</th>\n",
       "      <th>...</th>\n",
       "      <th>BattingTeam</th>\n",
       "      <th>Overs</th>\n",
       "      <th>current_score</th>\n",
       "      <th>runs_left</th>\n",
       "      <th>ball_left</th>\n",
       "      <th>wickets_left</th>\n",
       "      <th>current_run_rate</th>\n",
       "      <th>required_run_rate</th>\n",
       "      <th>result</th>\n",
       "      <th>BowlingTeam</th>\n",
       "    </tr>\n",
       "  </thead>\n",
       "  <tbody>\n",
       "    <tr>\n",
       "      <th>153</th>\n",
       "      <td>1312200</td>\n",
       "      <td>Ahmedabad</td>\n",
       "      <td>2022-05-29</td>\n",
       "      <td>2022</td>\n",
       "      <td>Final</td>\n",
       "      <td>Rajasthan Royals</td>\n",
       "      <td>Gujarat Titans</td>\n",
       "      <td>Narendra Modi Stadium, Ahmedabad</td>\n",
       "      <td>Rajasthan Royals</td>\n",
       "      <td>bat</td>\n",
       "      <td>...</td>\n",
       "      <td>Gujarat Titans</td>\n",
       "      <td>5.1</td>\n",
       "      <td>0</td>\n",
       "      <td>108</td>\n",
       "      <td>89</td>\n",
       "      <td>8</td>\n",
       "      <td>4.838710</td>\n",
       "      <td>7.280899</td>\n",
       "      <td>1</td>\n",
       "      <td>Rajasthan Royals</td>\n",
       "    </tr>\n",
       "    <tr>\n",
       "      <th>154</th>\n",
       "      <td>1312200</td>\n",
       "      <td>Ahmedabad</td>\n",
       "      <td>2022-05-29</td>\n",
       "      <td>2022</td>\n",
       "      <td>Final</td>\n",
       "      <td>Rajasthan Royals</td>\n",
       "      <td>Gujarat Titans</td>\n",
       "      <td>Narendra Modi Stadium, Ahmedabad</td>\n",
       "      <td>Rajasthan Royals</td>\n",
       "      <td>bat</td>\n",
       "      <td>...</td>\n",
       "      <td>Gujarat Titans</td>\n",
       "      <td>5.2</td>\n",
       "      <td>0</td>\n",
       "      <td>108</td>\n",
       "      <td>88</td>\n",
       "      <td>8</td>\n",
       "      <td>4.687500</td>\n",
       "      <td>7.363636</td>\n",
       "      <td>1</td>\n",
       "      <td>Rajasthan Royals</td>\n",
       "    </tr>\n",
       "    <tr>\n",
       "      <th>155</th>\n",
       "      <td>1312200</td>\n",
       "      <td>Ahmedabad</td>\n",
       "      <td>2022-05-29</td>\n",
       "      <td>2022</td>\n",
       "      <td>Final</td>\n",
       "      <td>Rajasthan Royals</td>\n",
       "      <td>Gujarat Titans</td>\n",
       "      <td>Narendra Modi Stadium, Ahmedabad</td>\n",
       "      <td>Rajasthan Royals</td>\n",
       "      <td>bat</td>\n",
       "      <td>...</td>\n",
       "      <td>Gujarat Titans</td>\n",
       "      <td>5.3</td>\n",
       "      <td>1</td>\n",
       "      <td>107</td>\n",
       "      <td>87</td>\n",
       "      <td>8</td>\n",
       "      <td>4.727273</td>\n",
       "      <td>7.379310</td>\n",
       "      <td>1</td>\n",
       "      <td>Rajasthan Royals</td>\n",
       "    </tr>\n",
       "    <tr>\n",
       "      <th>156</th>\n",
       "      <td>1312200</td>\n",
       "      <td>Ahmedabad</td>\n",
       "      <td>2022-05-29</td>\n",
       "      <td>2022</td>\n",
       "      <td>Final</td>\n",
       "      <td>Rajasthan Royals</td>\n",
       "      <td>Gujarat Titans</td>\n",
       "      <td>Narendra Modi Stadium, Ahmedabad</td>\n",
       "      <td>Rajasthan Royals</td>\n",
       "      <td>bat</td>\n",
       "      <td>...</td>\n",
       "      <td>Gujarat Titans</td>\n",
       "      <td>5.4</td>\n",
       "      <td>1</td>\n",
       "      <td>107</td>\n",
       "      <td>86</td>\n",
       "      <td>8</td>\n",
       "      <td>4.588235</td>\n",
       "      <td>7.465116</td>\n",
       "      <td>1</td>\n",
       "      <td>Rajasthan Royals</td>\n",
       "    </tr>\n",
       "    <tr>\n",
       "      <th>157</th>\n",
       "      <td>1312200</td>\n",
       "      <td>Ahmedabad</td>\n",
       "      <td>2022-05-29</td>\n",
       "      <td>2022</td>\n",
       "      <td>Final</td>\n",
       "      <td>Rajasthan Royals</td>\n",
       "      <td>Gujarat Titans</td>\n",
       "      <td>Narendra Modi Stadium, Ahmedabad</td>\n",
       "      <td>Rajasthan Royals</td>\n",
       "      <td>bat</td>\n",
       "      <td>...</td>\n",
       "      <td>Gujarat Titans</td>\n",
       "      <td>5.5</td>\n",
       "      <td>2</td>\n",
       "      <td>106</td>\n",
       "      <td>85</td>\n",
       "      <td>8</td>\n",
       "      <td>4.628571</td>\n",
       "      <td>7.482353</td>\n",
       "      <td>1</td>\n",
       "      <td>Rajasthan Royals</td>\n",
       "    </tr>\n",
       "    <tr>\n",
       "      <th>...</th>\n",
       "      <td>...</td>\n",
       "      <td>...</td>\n",
       "      <td>...</td>\n",
       "      <td>...</td>\n",
       "      <td>...</td>\n",
       "      <td>...</td>\n",
       "      <td>...</td>\n",
       "      <td>...</td>\n",
       "      <td>...</td>\n",
       "      <td>...</td>\n",
       "      <td>...</td>\n",
       "      <td>...</td>\n",
       "      <td>...</td>\n",
       "      <td>...</td>\n",
       "      <td>...</td>\n",
       "      <td>...</td>\n",
       "      <td>...</td>\n",
       "      <td>...</td>\n",
       "      <td>...</td>\n",
       "      <td>...</td>\n",
       "      <td>...</td>\n",
       "    </tr>\n",
       "    <tr>\n",
       "      <th>225758</th>\n",
       "      <td>335982</td>\n",
       "      <td>Bangalore</td>\n",
       "      <td>2008-04-18</td>\n",
       "      <td>2007/08</td>\n",
       "      <td>1</td>\n",
       "      <td>Royal Challengers Bangalore</td>\n",
       "      <td>Kolkata Knight Riders</td>\n",
       "      <td>M Chinnaswamy Stadium</td>\n",
       "      <td>Royal Challengers Bangalore</td>\n",
       "      <td>field</td>\n",
       "      <td>...</td>\n",
       "      <td>Royal Challengers Bangalore</td>\n",
       "      <td>14.5</td>\n",
       "      <td>56</td>\n",
       "      <td>2</td>\n",
       "      <td>31</td>\n",
       "      <td>1</td>\n",
       "      <td>5.393258</td>\n",
       "      <td>0.387097</td>\n",
       "      <td>0</td>\n",
       "      <td>Kolkata Knight Riders</td>\n",
       "    </tr>\n",
       "    <tr>\n",
       "      <th>225759</th>\n",
       "      <td>335982</td>\n",
       "      <td>Bangalore</td>\n",
       "      <td>2008-04-18</td>\n",
       "      <td>2007/08</td>\n",
       "      <td>1</td>\n",
       "      <td>Royal Challengers Bangalore</td>\n",
       "      <td>Kolkata Knight Riders</td>\n",
       "      <td>M Chinnaswamy Stadium</td>\n",
       "      <td>Royal Challengers Bangalore</td>\n",
       "      <td>field</td>\n",
       "      <td>...</td>\n",
       "      <td>Royal Challengers Bangalore</td>\n",
       "      <td>14.6</td>\n",
       "      <td>57</td>\n",
       "      <td>1</td>\n",
       "      <td>30</td>\n",
       "      <td>1</td>\n",
       "      <td>5.400000</td>\n",
       "      <td>0.200000</td>\n",
       "      <td>0</td>\n",
       "      <td>Kolkata Knight Riders</td>\n",
       "    </tr>\n",
       "    <tr>\n",
       "      <th>225760</th>\n",
       "      <td>335982</td>\n",
       "      <td>Bangalore</td>\n",
       "      <td>2008-04-18</td>\n",
       "      <td>2007/08</td>\n",
       "      <td>1</td>\n",
       "      <td>Royal Challengers Bangalore</td>\n",
       "      <td>Kolkata Knight Riders</td>\n",
       "      <td>M Chinnaswamy Stadium</td>\n",
       "      <td>Royal Challengers Bangalore</td>\n",
       "      <td>field</td>\n",
       "      <td>...</td>\n",
       "      <td>Royal Challengers Bangalore</td>\n",
       "      <td>14.7</td>\n",
       "      <td>57</td>\n",
       "      <td>1</td>\n",
       "      <td>29</td>\n",
       "      <td>1</td>\n",
       "      <td>5.340659</td>\n",
       "      <td>0.206897</td>\n",
       "      <td>0</td>\n",
       "      <td>Kolkata Knight Riders</td>\n",
       "    </tr>\n",
       "    <tr>\n",
       "      <th>225761</th>\n",
       "      <td>335982</td>\n",
       "      <td>Bangalore</td>\n",
       "      <td>2008-04-18</td>\n",
       "      <td>2007/08</td>\n",
       "      <td>1</td>\n",
       "      <td>Royal Challengers Bangalore</td>\n",
       "      <td>Kolkata Knight Riders</td>\n",
       "      <td>M Chinnaswamy Stadium</td>\n",
       "      <td>Royal Challengers Bangalore</td>\n",
       "      <td>field</td>\n",
       "      <td>...</td>\n",
       "      <td>Royal Challengers Bangalore</td>\n",
       "      <td>15.1</td>\n",
       "      <td>58</td>\n",
       "      <td>0</td>\n",
       "      <td>29</td>\n",
       "      <td>1</td>\n",
       "      <td>5.406593</td>\n",
       "      <td>0.000000</td>\n",
       "      <td>0</td>\n",
       "      <td>Kolkata Knight Riders</td>\n",
       "    </tr>\n",
       "    <tr>\n",
       "      <th>225762</th>\n",
       "      <td>335982</td>\n",
       "      <td>Bangalore</td>\n",
       "      <td>2008-04-18</td>\n",
       "      <td>2007/08</td>\n",
       "      <td>1</td>\n",
       "      <td>Royal Challengers Bangalore</td>\n",
       "      <td>Kolkata Knight Riders</td>\n",
       "      <td>M Chinnaswamy Stadium</td>\n",
       "      <td>Royal Challengers Bangalore</td>\n",
       "      <td>field</td>\n",
       "      <td>...</td>\n",
       "      <td>Royal Challengers Bangalore</td>\n",
       "      <td>15.2</td>\n",
       "      <td>58</td>\n",
       "      <td>0</td>\n",
       "      <td>28</td>\n",
       "      <td>0</td>\n",
       "      <td>5.347826</td>\n",
       "      <td>0.000000</td>\n",
       "      <td>0</td>\n",
       "      <td>Kolkata Knight Riders</td>\n",
       "    </tr>\n",
       "  </tbody>\n",
       "</table>\n",
       "<p>19267 rows × 47 columns</p>\n",
       "</div>"
      ],
      "text/plain": [
       "             ID       City        Date   Season MatchNumber  \\\n",
       "153     1312200  Ahmedabad  2022-05-29     2022       Final   \n",
       "154     1312200  Ahmedabad  2022-05-29     2022       Final   \n",
       "155     1312200  Ahmedabad  2022-05-29     2022       Final   \n",
       "156     1312200  Ahmedabad  2022-05-29     2022       Final   \n",
       "157     1312200  Ahmedabad  2022-05-29     2022       Final   \n",
       "...         ...        ...         ...      ...         ...   \n",
       "225758   335982  Bangalore  2008-04-18  2007/08           1   \n",
       "225759   335982  Bangalore  2008-04-18  2007/08           1   \n",
       "225760   335982  Bangalore  2008-04-18  2007/08           1   \n",
       "225761   335982  Bangalore  2008-04-18  2007/08           1   \n",
       "225762   335982  Bangalore  2008-04-18  2007/08           1   \n",
       "\n",
       "                              Team1                  Team2  \\\n",
       "153                Rajasthan Royals         Gujarat Titans   \n",
       "154                Rajasthan Royals         Gujarat Titans   \n",
       "155                Rajasthan Royals         Gujarat Titans   \n",
       "156                Rajasthan Royals         Gujarat Titans   \n",
       "157                Rajasthan Royals         Gujarat Titans   \n",
       "...                             ...                    ...   \n",
       "225758  Royal Challengers Bangalore  Kolkata Knight Riders   \n",
       "225759  Royal Challengers Bangalore  Kolkata Knight Riders   \n",
       "225760  Royal Challengers Bangalore  Kolkata Knight Riders   \n",
       "225761  Royal Challengers Bangalore  Kolkata Knight Riders   \n",
       "225762  Royal Challengers Bangalore  Kolkata Knight Riders   \n",
       "\n",
       "                                   Venue                   TossWinner  \\\n",
       "153     Narendra Modi Stadium, Ahmedabad             Rajasthan Royals   \n",
       "154     Narendra Modi Stadium, Ahmedabad             Rajasthan Royals   \n",
       "155     Narendra Modi Stadium, Ahmedabad             Rajasthan Royals   \n",
       "156     Narendra Modi Stadium, Ahmedabad             Rajasthan Royals   \n",
       "157     Narendra Modi Stadium, Ahmedabad             Rajasthan Royals   \n",
       "...                                  ...                          ...   \n",
       "225758             M Chinnaswamy Stadium  Royal Challengers Bangalore   \n",
       "225759             M Chinnaswamy Stadium  Royal Challengers Bangalore   \n",
       "225760             M Chinnaswamy Stadium  Royal Challengers Bangalore   \n",
       "225761             M Chinnaswamy Stadium  Royal Challengers Bangalore   \n",
       "225762             M Chinnaswamy Stadium  Royal Challengers Bangalore   \n",
       "\n",
       "       TossDecision  ...                  BattingTeam Overs current_score  \\\n",
       "153             bat  ...               Gujarat Titans   5.1             0   \n",
       "154             bat  ...               Gujarat Titans   5.2             0   \n",
       "155             bat  ...               Gujarat Titans   5.3             1   \n",
       "156             bat  ...               Gujarat Titans   5.4             1   \n",
       "157             bat  ...               Gujarat Titans   5.5             2   \n",
       "...             ...  ...                          ...   ...           ...   \n",
       "225758        field  ...  Royal Challengers Bangalore  14.5            56   \n",
       "225759        field  ...  Royal Challengers Bangalore  14.6            57   \n",
       "225760        field  ...  Royal Challengers Bangalore  14.7            57   \n",
       "225761        field  ...  Royal Challengers Bangalore  15.1            58   \n",
       "225762        field  ...  Royal Challengers Bangalore  15.2            58   \n",
       "\n",
       "        runs_left ball_left wickets_left current_run_rate required_run_rate  \\\n",
       "153           108        89            8         4.838710          7.280899   \n",
       "154           108        88            8         4.687500          7.363636   \n",
       "155           107        87            8         4.727273          7.379310   \n",
       "156           107        86            8         4.588235          7.465116   \n",
       "157           106        85            8         4.628571          7.482353   \n",
       "...           ...       ...          ...              ...               ...   \n",
       "225758          2        31            1         5.393258          0.387097   \n",
       "225759          1        30            1         5.400000          0.200000   \n",
       "225760          1        29            1         5.340659          0.206897   \n",
       "225761          0        29            1         5.406593          0.000000   \n",
       "225762          0        28            0         5.347826          0.000000   \n",
       "\n",
       "       result            BowlingTeam  \n",
       "153         1       Rajasthan Royals  \n",
       "154         1       Rajasthan Royals  \n",
       "155         1       Rajasthan Royals  \n",
       "156         1       Rajasthan Royals  \n",
       "157         1       Rajasthan Royals  \n",
       "...       ...                    ...  \n",
       "225758      0  Kolkata Knight Riders  \n",
       "225759      0  Kolkata Knight Riders  \n",
       "225760      0  Kolkata Knight Riders  \n",
       "225761      0  Kolkata Knight Riders  \n",
       "225762      0  Kolkata Knight Riders  \n",
       "\n",
       "[19267 rows x 47 columns]"
      ]
     },
     "execution_count": 85,
     "metadata": {},
     "output_type": "execute_result"
    }
   ],
   "source": [
    "ball_df"
   ]
  },
  {
   "cell_type": "code",
   "execution_count": 30,
   "metadata": {},
   "outputs": [],
   "source": [
    "ball_df['runs_left'] = np.where(ball_df['Second_Innings_Total_score']-ball_df['current_score']>=0, ball_df['Second_Innings_Total_score']-ball_df['current_score'], 0)"
   ]
  },
  {
   "cell_type": "code",
   "execution_count": 98,
   "metadata": {},
   "outputs": [],
   "source": [
    "df1=ball_df[['TossWinner','TossDecision','BattingTeam','BowlingTeam']]\n",
    "df1.to_csv(\"data1.csv\",index=False)"
   ]
  },
  {
   "cell_type": "code",
   "execution_count": 97,
   "metadata": {},
   "outputs": [
    {
     "data": {
      "text/html": [
       "<div>\n",
       "<style scoped>\n",
       "    .dataframe tbody tr th:only-of-type {\n",
       "        vertical-align: middle;\n",
       "    }\n",
       "\n",
       "    .dataframe tbody tr th {\n",
       "        vertical-align: top;\n",
       "    }\n",
       "\n",
       "    .dataframe thead th {\n",
       "        text-align: right;\n",
       "    }\n",
       "</style>\n",
       "<table border=\"1\" class=\"dataframe\">\n",
       "  <thead>\n",
       "    <tr style=\"text-align: right;\">\n",
       "      <th></th>\n",
       "      <th>ID</th>\n",
       "      <th>City</th>\n",
       "      <th>Date</th>\n",
       "      <th>Season</th>\n",
       "      <th>MatchNumber</th>\n",
       "      <th>Team1</th>\n",
       "      <th>Team2</th>\n",
       "      <th>Venue</th>\n",
       "      <th>TossWinner</th>\n",
       "      <th>TossDecision</th>\n",
       "      <th>...</th>\n",
       "      <th>BowlingTeam</th>\n",
       "      <th>Overs</th>\n",
       "      <th>current_score</th>\n",
       "      <th>runs_left</th>\n",
       "      <th>ball_left</th>\n",
       "      <th>wickets_left</th>\n",
       "      <th>current_run_rate</th>\n",
       "      <th>required_run_rate</th>\n",
       "      <th>result</th>\n",
       "      <th>BattingTeam</th>\n",
       "    </tr>\n",
       "  </thead>\n",
       "  <tbody>\n",
       "    <tr>\n",
       "      <th>153</th>\n",
       "      <td>1312200</td>\n",
       "      <td>Ahmedabad</td>\n",
       "      <td>2022-05-29</td>\n",
       "      <td>2022</td>\n",
       "      <td>Final</td>\n",
       "      <td>Rajasthan Royals</td>\n",
       "      <td>Gujarat Titans</td>\n",
       "      <td>Narendra Modi Stadium, Ahmedabad</td>\n",
       "      <td>Rajasthan Royals</td>\n",
       "      <td>bat</td>\n",
       "      <td>...</td>\n",
       "      <td>Gujarat Titans</td>\n",
       "      <td>5.1</td>\n",
       "      <td>0</td>\n",
       "      <td>108</td>\n",
       "      <td>89</td>\n",
       "      <td>8</td>\n",
       "      <td>4.83871</td>\n",
       "      <td>7.280899</td>\n",
       "      <td>1</td>\n",
       "      <td>Rajasthan Royals</td>\n",
       "    </tr>\n",
       "    <tr>\n",
       "      <th>154</th>\n",
       "      <td>1312200</td>\n",
       "      <td>Ahmedabad</td>\n",
       "      <td>2022-05-29</td>\n",
       "      <td>2022</td>\n",
       "      <td>Final</td>\n",
       "      <td>Rajasthan Royals</td>\n",
       "      <td>Gujarat Titans</td>\n",
       "      <td>Narendra Modi Stadium, Ahmedabad</td>\n",
       "      <td>Rajasthan Royals</td>\n",
       "      <td>bat</td>\n",
       "      <td>...</td>\n",
       "      <td>Gujarat Titans</td>\n",
       "      <td>5.2</td>\n",
       "      <td>0</td>\n",
       "      <td>108</td>\n",
       "      <td>88</td>\n",
       "      <td>8</td>\n",
       "      <td>4.68750</td>\n",
       "      <td>7.363636</td>\n",
       "      <td>1</td>\n",
       "      <td>Rajasthan Royals</td>\n",
       "    </tr>\n",
       "  </tbody>\n",
       "</table>\n",
       "<p>2 rows × 47 columns</p>\n",
       "</div>"
      ],
      "text/plain": [
       "          ID       City        Date Season MatchNumber             Team1  \\\n",
       "153  1312200  Ahmedabad  2022-05-29   2022       Final  Rajasthan Royals   \n",
       "154  1312200  Ahmedabad  2022-05-29   2022       Final  Rajasthan Royals   \n",
       "\n",
       "              Team2                             Venue        TossWinner  \\\n",
       "153  Gujarat Titans  Narendra Modi Stadium, Ahmedabad  Rajasthan Royals   \n",
       "154  Gujarat Titans  Narendra Modi Stadium, Ahmedabad  Rajasthan Royals   \n",
       "\n",
       "    TossDecision  ...     BowlingTeam Overs current_score  runs_left  \\\n",
       "153          bat  ...  Gujarat Titans   5.1             0        108   \n",
       "154          bat  ...  Gujarat Titans   5.2             0        108   \n",
       "\n",
       "    ball_left wickets_left current_run_rate required_run_rate result  \\\n",
       "153        89            8          4.83871          7.280899      1   \n",
       "154        88            8          4.68750          7.363636      1   \n",
       "\n",
       "          BattingTeam  \n",
       "153  Rajasthan Royals  \n",
       "154  Rajasthan Royals  \n",
       "\n",
       "[2 rows x 47 columns]"
      ]
     },
     "execution_count": 97,
     "metadata": {},
     "output_type": "execute_result"
    }
   ],
   "source": [
    "ball_df.head(2)"
   ]
  },
  {
   "cell_type": "code",
   "execution_count": 99,
   "metadata": {},
   "outputs": [],
   "source": [
    "ball_df['ball_left'] = np.where(120 - ball_df['overs']*6 - ball_df['ballnumber']>=0,120 - ball_df['overs']*6 - ball_df['ballnumber'], 0)"
   ]
  },
  {
   "cell_type": "code",
   "execution_count": 100,
   "metadata": {},
   "outputs": [],
   "source": [
    "ball_df['wickets_left'] = 10 - ball_df.groupby('ID')['isWicketDelivery'].cumsum()"
   ]
  },
  {
   "cell_type": "code",
   "execution_count": 101,
   "metadata": {},
   "outputs": [],
   "source": [
    "ball_df['current_run_rate'] = (ball_df['current_score']*6)/(120-ball_df['ball_left'])"
   ]
  },
  {
   "cell_type": "code",
   "execution_count": 102,
   "metadata": {},
   "outputs": [],
   "source": [
    "ball_df['required_run_rate'] = np.where(ball_df['ball_left']>0, ball_df['runs_left']*6/ball_df['ball_left'], 0)"
   ]
  },
  {
   "cell_type": "code",
   "execution_count": 103,
   "metadata": {},
   "outputs": [],
   "source": [
    "def result(row):\n",
    "    return 1 if row['BattingTeam'] == row['WinningTeam'] else 0"
   ]
  },
  {
   "cell_type": "code",
   "execution_count": 104,
   "metadata": {},
   "outputs": [],
   "source": [
    "ball_df['result'] = ball_df.apply(result, axis=1)"
   ]
  },
  {
   "cell_type": "code",
   "execution_count": 105,
   "metadata": {},
   "outputs": [
    {
     "data": {
      "text/html": [
       "<div>\n",
       "<style scoped>\n",
       "    .dataframe tbody tr th:only-of-type {\n",
       "        vertical-align: middle;\n",
       "    }\n",
       "\n",
       "    .dataframe tbody tr th {\n",
       "        vertical-align: top;\n",
       "    }\n",
       "\n",
       "    .dataframe thead th {\n",
       "        text-align: right;\n",
       "    }\n",
       "</style>\n",
       "<table border=\"1\" class=\"dataframe\">\n",
       "  <thead>\n",
       "    <tr style=\"text-align: right;\">\n",
       "      <th></th>\n",
       "      <th>ID</th>\n",
       "      <th>City</th>\n",
       "      <th>Date</th>\n",
       "      <th>Season</th>\n",
       "      <th>MatchNumber</th>\n",
       "      <th>Team1</th>\n",
       "      <th>Team2</th>\n",
       "      <th>Venue</th>\n",
       "      <th>TossWinner</th>\n",
       "      <th>TossDecision</th>\n",
       "      <th>...</th>\n",
       "      <th>BowlingTeam</th>\n",
       "      <th>Overs</th>\n",
       "      <th>current_score</th>\n",
       "      <th>runs_left</th>\n",
       "      <th>ball_left</th>\n",
       "      <th>wickets_left</th>\n",
       "      <th>current_run_rate</th>\n",
       "      <th>required_run_rate</th>\n",
       "      <th>result</th>\n",
       "      <th>BattingTeam</th>\n",
       "    </tr>\n",
       "  </thead>\n",
       "  <tbody>\n",
       "    <tr>\n",
       "      <th>153</th>\n",
       "      <td>1312200</td>\n",
       "      <td>Ahmedabad</td>\n",
       "      <td>2022-05-29</td>\n",
       "      <td>2022</td>\n",
       "      <td>Final</td>\n",
       "      <td>Rajasthan Royals</td>\n",
       "      <td>Gujarat Titans</td>\n",
       "      <td>Narendra Modi Stadium, Ahmedabad</td>\n",
       "      <td>Rajasthan Royals</td>\n",
       "      <td>bat</td>\n",
       "      <td>...</td>\n",
       "      <td>Gujarat Titans</td>\n",
       "      <td>5.1</td>\n",
       "      <td>0</td>\n",
       "      <td>108</td>\n",
       "      <td>89</td>\n",
       "      <td>10</td>\n",
       "      <td>0.0</td>\n",
       "      <td>7.280899</td>\n",
       "      <td>0</td>\n",
       "      <td>Rajasthan Royals</td>\n",
       "    </tr>\n",
       "    <tr>\n",
       "      <th>154</th>\n",
       "      <td>1312200</td>\n",
       "      <td>Ahmedabad</td>\n",
       "      <td>2022-05-29</td>\n",
       "      <td>2022</td>\n",
       "      <td>Final</td>\n",
       "      <td>Rajasthan Royals</td>\n",
       "      <td>Gujarat Titans</td>\n",
       "      <td>Narendra Modi Stadium, Ahmedabad</td>\n",
       "      <td>Rajasthan Royals</td>\n",
       "      <td>bat</td>\n",
       "      <td>...</td>\n",
       "      <td>Gujarat Titans</td>\n",
       "      <td>5.2</td>\n",
       "      <td>0</td>\n",
       "      <td>108</td>\n",
       "      <td>88</td>\n",
       "      <td>10</td>\n",
       "      <td>0.0</td>\n",
       "      <td>7.363636</td>\n",
       "      <td>0</td>\n",
       "      <td>Rajasthan Royals</td>\n",
       "    </tr>\n",
       "  </tbody>\n",
       "</table>\n",
       "<p>2 rows × 47 columns</p>\n",
       "</div>"
      ],
      "text/plain": [
       "          ID       City        Date Season MatchNumber             Team1  \\\n",
       "153  1312200  Ahmedabad  2022-05-29   2022       Final  Rajasthan Royals   \n",
       "154  1312200  Ahmedabad  2022-05-29   2022       Final  Rajasthan Royals   \n",
       "\n",
       "              Team2                             Venue        TossWinner  \\\n",
       "153  Gujarat Titans  Narendra Modi Stadium, Ahmedabad  Rajasthan Royals   \n",
       "154  Gujarat Titans  Narendra Modi Stadium, Ahmedabad  Rajasthan Royals   \n",
       "\n",
       "    TossDecision  ...     BowlingTeam Overs current_score  runs_left  \\\n",
       "153          bat  ...  Gujarat Titans   5.1             0        108   \n",
       "154          bat  ...  Gujarat Titans   5.2             0        108   \n",
       "\n",
       "    ball_left wickets_left current_run_rate required_run_rate result  \\\n",
       "153        89           10              0.0          7.280899      0   \n",
       "154        88           10              0.0          7.363636      0   \n",
       "\n",
       "          BattingTeam  \n",
       "153  Rajasthan Royals  \n",
       "154  Rajasthan Royals  \n",
       "\n",
       "[2 rows x 47 columns]"
      ]
     },
     "execution_count": 105,
     "metadata": {},
     "output_type": "execute_result"
    }
   ],
   "source": [
    "ball_df.head(2)"
   ]
  },
  {
   "cell_type": "code",
   "execution_count": 106,
   "metadata": {},
   "outputs": [],
   "source": [
    "index1 = ball_df[ball_df['Team2']==ball_df['BattingTeam']]['Team1'].index\n",
    "index2 = ball_df[ball_df['Team1']==ball_df['BattingTeam']]['Team2'].index"
   ]
  },
  {
   "cell_type": "code",
   "execution_count": 107,
   "metadata": {},
   "outputs": [],
   "source": [
    "ball_df.loc[index1, 'BowlingTeam'] = ball_df.loc[index1, 'Team1']\n",
    "ball_df.loc[index2, 'BowlingTeam'] = ball_df.loc[index2, 'Team2']"
   ]
  },
  {
   "cell_type": "code",
   "execution_count": 108,
   "metadata": {},
   "outputs": [
    {
     "data": {
      "text/html": [
       "<div>\n",
       "<style scoped>\n",
       "    .dataframe tbody tr th:only-of-type {\n",
       "        vertical-align: middle;\n",
       "    }\n",
       "\n",
       "    .dataframe tbody tr th {\n",
       "        vertical-align: top;\n",
       "    }\n",
       "\n",
       "    .dataframe thead th {\n",
       "        text-align: right;\n",
       "    }\n",
       "</style>\n",
       "<table border=\"1\" class=\"dataframe\">\n",
       "  <thead>\n",
       "    <tr style=\"text-align: right;\">\n",
       "      <th></th>\n",
       "      <th>ID</th>\n",
       "      <th>City</th>\n",
       "      <th>Date</th>\n",
       "      <th>Season</th>\n",
       "      <th>MatchNumber</th>\n",
       "      <th>Team1</th>\n",
       "      <th>Team2</th>\n",
       "      <th>Venue</th>\n",
       "      <th>TossWinner</th>\n",
       "      <th>TossDecision</th>\n",
       "      <th>...</th>\n",
       "      <th>BowlingTeam</th>\n",
       "      <th>Overs</th>\n",
       "      <th>current_score</th>\n",
       "      <th>runs_left</th>\n",
       "      <th>ball_left</th>\n",
       "      <th>wickets_left</th>\n",
       "      <th>current_run_rate</th>\n",
       "      <th>required_run_rate</th>\n",
       "      <th>result</th>\n",
       "      <th>BattingTeam</th>\n",
       "    </tr>\n",
       "  </thead>\n",
       "  <tbody>\n",
       "    <tr>\n",
       "      <th>153</th>\n",
       "      <td>1312200</td>\n",
       "      <td>Ahmedabad</td>\n",
       "      <td>2022-05-29</td>\n",
       "      <td>2022</td>\n",
       "      <td>Final</td>\n",
       "      <td>Rajasthan Royals</td>\n",
       "      <td>Gujarat Titans</td>\n",
       "      <td>Narendra Modi Stadium, Ahmedabad</td>\n",
       "      <td>Rajasthan Royals</td>\n",
       "      <td>bat</td>\n",
       "      <td>...</td>\n",
       "      <td>Gujarat Titans</td>\n",
       "      <td>5.1</td>\n",
       "      <td>0</td>\n",
       "      <td>108</td>\n",
       "      <td>89</td>\n",
       "      <td>10</td>\n",
       "      <td>0.0</td>\n",
       "      <td>7.280899</td>\n",
       "      <td>0</td>\n",
       "      <td>Rajasthan Royals</td>\n",
       "    </tr>\n",
       "    <tr>\n",
       "      <th>154</th>\n",
       "      <td>1312200</td>\n",
       "      <td>Ahmedabad</td>\n",
       "      <td>2022-05-29</td>\n",
       "      <td>2022</td>\n",
       "      <td>Final</td>\n",
       "      <td>Rajasthan Royals</td>\n",
       "      <td>Gujarat Titans</td>\n",
       "      <td>Narendra Modi Stadium, Ahmedabad</td>\n",
       "      <td>Rajasthan Royals</td>\n",
       "      <td>bat</td>\n",
       "      <td>...</td>\n",
       "      <td>Gujarat Titans</td>\n",
       "      <td>5.2</td>\n",
       "      <td>0</td>\n",
       "      <td>108</td>\n",
       "      <td>88</td>\n",
       "      <td>10</td>\n",
       "      <td>0.0</td>\n",
       "      <td>7.363636</td>\n",
       "      <td>0</td>\n",
       "      <td>Rajasthan Royals</td>\n",
       "    </tr>\n",
       "  </tbody>\n",
       "</table>\n",
       "<p>2 rows × 47 columns</p>\n",
       "</div>"
      ],
      "text/plain": [
       "          ID       City        Date Season MatchNumber             Team1  \\\n",
       "153  1312200  Ahmedabad  2022-05-29   2022       Final  Rajasthan Royals   \n",
       "154  1312200  Ahmedabad  2022-05-29   2022       Final  Rajasthan Royals   \n",
       "\n",
       "              Team2                             Venue        TossWinner  \\\n",
       "153  Gujarat Titans  Narendra Modi Stadium, Ahmedabad  Rajasthan Royals   \n",
       "154  Gujarat Titans  Narendra Modi Stadium, Ahmedabad  Rajasthan Royals   \n",
       "\n",
       "    TossDecision  ...     BowlingTeam Overs current_score  runs_left  \\\n",
       "153          bat  ...  Gujarat Titans   5.1             0        108   \n",
       "154          bat  ...  Gujarat Titans   5.2             0        108   \n",
       "\n",
       "    ball_left wickets_left current_run_rate required_run_rate result  \\\n",
       "153        89           10              0.0          7.280899      0   \n",
       "154        88           10              0.0          7.363636      0   \n",
       "\n",
       "          BattingTeam  \n",
       "153  Rajasthan Royals  \n",
       "154  Rajasthan Royals  \n",
       "\n",
       "[2 rows x 47 columns]"
      ]
     },
     "execution_count": 108,
     "metadata": {},
     "output_type": "execute_result"
    }
   ],
   "source": [
    "ball_df.head(2)"
   ]
  },
  {
   "cell_type": "code",
   "execution_count": 109,
   "metadata": {},
   "outputs": [],
   "source": [
    "current_teams = ['Kolkata Knight Riders', 'Chennai Super Kings', 'Rajasthan Royals',\n",
    "       'Mumbai Indians', 'Kings XI Punjab',\n",
    "       'Royal Challengers Bangalore', 'Delhi Capitals',\n",
    "       'Sunrisers Hyderabad','Lucknow Super Giants','Gujarat Titans']\n",
    "\n",
    "current_venues = ['M Chinnaswamy Stadium','Eden Gardens, Kolkata', 'MA Chidambaram Stadium, Chepauk', \n",
    "       'Wankhede Stadium', 'Sawai Mansingh Stadium','Punjab Cricket Association IS Bindra Stadium',\n",
    "       'Rajiv Gandhi International Stadium, Uppal','Dr DY Patil Sports Academy, Mumbai','Arun Jaitley Stadium','Narendra Modi Stadium, Ahmedabad']\n",
    "ball_df = ball_df[(ball_df['BattingTeam'].isin(current_teams)) &(ball_df['BowlingTeam'].isin(current_teams))]\n",
    "ball_df = ball_df[(ball_df['Venue'].isin(current_venues))]\n",
    "\n",
    "# Removing the first 5 overs data in every match\n",
    "ball_df = ball_df[ball_df['Overs']>=5.0]"
   ]
  },
  {
   "cell_type": "code",
   "execution_count": 110,
   "metadata": {},
   "outputs": [
    {
     "data": {
      "text/html": [
       "<div>\n",
       "<style scoped>\n",
       "    .dataframe tbody tr th:only-of-type {\n",
       "        vertical-align: middle;\n",
       "    }\n",
       "\n",
       "    .dataframe tbody tr th {\n",
       "        vertical-align: top;\n",
       "    }\n",
       "\n",
       "    .dataframe thead th {\n",
       "        text-align: right;\n",
       "    }\n",
       "</style>\n",
       "<table border=\"1\" class=\"dataframe\">\n",
       "  <thead>\n",
       "    <tr style=\"text-align: right;\">\n",
       "      <th></th>\n",
       "      <th>ID</th>\n",
       "      <th>City</th>\n",
       "      <th>Date</th>\n",
       "      <th>Season</th>\n",
       "      <th>MatchNumber</th>\n",
       "      <th>Team1</th>\n",
       "      <th>Team2</th>\n",
       "      <th>Venue</th>\n",
       "      <th>TossWinner</th>\n",
       "      <th>TossDecision</th>\n",
       "      <th>...</th>\n",
       "      <th>BowlingTeam</th>\n",
       "      <th>Overs</th>\n",
       "      <th>current_score</th>\n",
       "      <th>runs_left</th>\n",
       "      <th>ball_left</th>\n",
       "      <th>wickets_left</th>\n",
       "      <th>current_run_rate</th>\n",
       "      <th>required_run_rate</th>\n",
       "      <th>result</th>\n",
       "      <th>BattingTeam</th>\n",
       "    </tr>\n",
       "  </thead>\n",
       "  <tbody>\n",
       "    <tr>\n",
       "      <th>153</th>\n",
       "      <td>1312200</td>\n",
       "      <td>Ahmedabad</td>\n",
       "      <td>2022-05-29</td>\n",
       "      <td>2022</td>\n",
       "      <td>Final</td>\n",
       "      <td>Rajasthan Royals</td>\n",
       "      <td>Gujarat Titans</td>\n",
       "      <td>Narendra Modi Stadium, Ahmedabad</td>\n",
       "      <td>Rajasthan Royals</td>\n",
       "      <td>bat</td>\n",
       "      <td>...</td>\n",
       "      <td>Gujarat Titans</td>\n",
       "      <td>5.1</td>\n",
       "      <td>0</td>\n",
       "      <td>108</td>\n",
       "      <td>89</td>\n",
       "      <td>10</td>\n",
       "      <td>0.0</td>\n",
       "      <td>7.280899</td>\n",
       "      <td>0</td>\n",
       "      <td>Rajasthan Royals</td>\n",
       "    </tr>\n",
       "    <tr>\n",
       "      <th>154</th>\n",
       "      <td>1312200</td>\n",
       "      <td>Ahmedabad</td>\n",
       "      <td>2022-05-29</td>\n",
       "      <td>2022</td>\n",
       "      <td>Final</td>\n",
       "      <td>Rajasthan Royals</td>\n",
       "      <td>Gujarat Titans</td>\n",
       "      <td>Narendra Modi Stadium, Ahmedabad</td>\n",
       "      <td>Rajasthan Royals</td>\n",
       "      <td>bat</td>\n",
       "      <td>...</td>\n",
       "      <td>Gujarat Titans</td>\n",
       "      <td>5.2</td>\n",
       "      <td>0</td>\n",
       "      <td>108</td>\n",
       "      <td>88</td>\n",
       "      <td>10</td>\n",
       "      <td>0.0</td>\n",
       "      <td>7.363636</td>\n",
       "      <td>0</td>\n",
       "      <td>Rajasthan Royals</td>\n",
       "    </tr>\n",
       "  </tbody>\n",
       "</table>\n",
       "<p>2 rows × 47 columns</p>\n",
       "</div>"
      ],
      "text/plain": [
       "          ID       City        Date Season MatchNumber             Team1  \\\n",
       "153  1312200  Ahmedabad  2022-05-29   2022       Final  Rajasthan Royals   \n",
       "154  1312200  Ahmedabad  2022-05-29   2022       Final  Rajasthan Royals   \n",
       "\n",
       "              Team2                             Venue        TossWinner  \\\n",
       "153  Gujarat Titans  Narendra Modi Stadium, Ahmedabad  Rajasthan Royals   \n",
       "154  Gujarat Titans  Narendra Modi Stadium, Ahmedabad  Rajasthan Royals   \n",
       "\n",
       "    TossDecision  ...     BowlingTeam Overs current_score  runs_left  \\\n",
       "153          bat  ...  Gujarat Titans   5.1             0        108   \n",
       "154          bat  ...  Gujarat Titans   5.2             0        108   \n",
       "\n",
       "    ball_left wickets_left current_run_rate required_run_rate result  \\\n",
       "153        89           10              0.0          7.280899      0   \n",
       "154        88           10              0.0          7.363636      0   \n",
       "\n",
       "          BattingTeam  \n",
       "153  Rajasthan Royals  \n",
       "154  Rajasthan Royals  \n",
       "\n",
       "[2 rows x 47 columns]"
      ]
     },
     "execution_count": 110,
     "metadata": {},
     "output_type": "execute_result"
    }
   ],
   "source": [
    "ball_df.head(2)"
   ]
  },
  {
   "cell_type": "code",
   "execution_count": 111,
   "metadata": {},
   "outputs": [
    {
     "data": {
      "text/plain": [
       "Index(['ID', 'City', 'Date', 'Season', 'MatchNumber', 'Team1', 'Team2',\n",
       "       'Venue', 'TossWinner', 'TossDecision', 'SuperOver', 'WinningTeam',\n",
       "       'WonBy', 'Margin', 'method', 'Player_of_Match', 'Team1Players',\n",
       "       'Team2Players', 'Umpire1', 'Umpire2', 'First_Innings_total_score',\n",
       "       'Second_Innings_Total_score', 'innings', 'overs', 'ballnumber',\n",
       "       'batter', 'bowler', 'non-striker', 'extra_type', 'batsman_run',\n",
       "       'extras_run', 'total_run', 'non_boundary', 'isWicketDelivery',\n",
       "       'player_out', 'kind', 'fielders_involved', 'BowlingTeam', 'Overs',\n",
       "       'current_score', 'runs_left', 'ball_left', 'wickets_left',\n",
       "       'current_run_rate', 'required_run_rate', 'result', 'BattingTeam'],\n",
       "      dtype='object')"
      ]
     },
     "execution_count": 111,
     "metadata": {},
     "output_type": "execute_result"
    }
   ],
   "source": [
    "ball_df.columns"
   ]
  },
  {
   "cell_type": "code",
   "execution_count": 112,
   "metadata": {},
   "outputs": [],
   "source": [
    "df = ball_df[['TossWinner','TossDecision','BattingTeam', 'BowlingTeam','batter','non-striker','bowler','First_Innings_total_score','Venue','Overs','current_score','wickets_left','current_run_rate','required_run_rate','Second_Innings_Total_score']]"
   ]
  },
  {
   "cell_type": "code",
   "execution_count": 113,
   "metadata": {},
   "outputs": [
    {
     "data": {
      "text/html": [
       "<div>\n",
       "<style scoped>\n",
       "    .dataframe tbody tr th:only-of-type {\n",
       "        vertical-align: middle;\n",
       "    }\n",
       "\n",
       "    .dataframe tbody tr th {\n",
       "        vertical-align: top;\n",
       "    }\n",
       "\n",
       "    .dataframe thead th {\n",
       "        text-align: right;\n",
       "    }\n",
       "</style>\n",
       "<table border=\"1\" class=\"dataframe\">\n",
       "  <thead>\n",
       "    <tr style=\"text-align: right;\">\n",
       "      <th></th>\n",
       "      <th>TossWinner</th>\n",
       "      <th>TossDecision</th>\n",
       "      <th>BattingTeam</th>\n",
       "      <th>BowlingTeam</th>\n",
       "      <th>batter</th>\n",
       "      <th>non-striker</th>\n",
       "      <th>bowler</th>\n",
       "      <th>First_Innings_total_score</th>\n",
       "      <th>Venue</th>\n",
       "      <th>Overs</th>\n",
       "      <th>current_score</th>\n",
       "      <th>wickets_left</th>\n",
       "      <th>current_run_rate</th>\n",
       "      <th>required_run_rate</th>\n",
       "      <th>Second_Innings_Total_score</th>\n",
       "    </tr>\n",
       "  </thead>\n",
       "  <tbody>\n",
       "    <tr>\n",
       "      <th>153</th>\n",
       "      <td>Rajasthan Royals</td>\n",
       "      <td>bat</td>\n",
       "      <td>Rajasthan Royals</td>\n",
       "      <td>Gujarat Titans</td>\n",
       "      <td>Shubman Gill</td>\n",
       "      <td>HH Pandya</td>\n",
       "      <td>YS Chahal</td>\n",
       "      <td>130</td>\n",
       "      <td>Narendra Modi Stadium, Ahmedabad</td>\n",
       "      <td>5.1</td>\n",
       "      <td>0</td>\n",
       "      <td>10</td>\n",
       "      <td>0.0</td>\n",
       "      <td>7.280899</td>\n",
       "      <td>133</td>\n",
       "    </tr>\n",
       "    <tr>\n",
       "      <th>154</th>\n",
       "      <td>Rajasthan Royals</td>\n",
       "      <td>bat</td>\n",
       "      <td>Rajasthan Royals</td>\n",
       "      <td>Gujarat Titans</td>\n",
       "      <td>Shubman Gill</td>\n",
       "      <td>HH Pandya</td>\n",
       "      <td>YS Chahal</td>\n",
       "      <td>130</td>\n",
       "      <td>Narendra Modi Stadium, Ahmedabad</td>\n",
       "      <td>5.2</td>\n",
       "      <td>0</td>\n",
       "      <td>10</td>\n",
       "      <td>0.0</td>\n",
       "      <td>7.363636</td>\n",
       "      <td>133</td>\n",
       "    </tr>\n",
       "  </tbody>\n",
       "</table>\n",
       "</div>"
      ],
      "text/plain": [
       "           TossWinner TossDecision       BattingTeam     BowlingTeam  \\\n",
       "153  Rajasthan Royals          bat  Rajasthan Royals  Gujarat Titans   \n",
       "154  Rajasthan Royals          bat  Rajasthan Royals  Gujarat Titans   \n",
       "\n",
       "           batter non-striker     bowler  First_Innings_total_score  \\\n",
       "153  Shubman Gill   HH Pandya  YS Chahal                        130   \n",
       "154  Shubman Gill   HH Pandya  YS Chahal                        130   \n",
       "\n",
       "                                Venue  Overs  current_score  wickets_left  \\\n",
       "153  Narendra Modi Stadium, Ahmedabad    5.1              0            10   \n",
       "154  Narendra Modi Stadium, Ahmedabad    5.2              0            10   \n",
       "\n",
       "     current_run_rate  required_run_rate  Second_Innings_Total_score  \n",
       "153               0.0           7.280899                         133  \n",
       "154               0.0           7.363636                         133  "
      ]
     },
     "execution_count": 113,
     "metadata": {},
     "output_type": "execute_result"
    }
   ],
   "source": [
    "df.head(2)"
   ]
  },
  {
   "cell_type": "code",
   "execution_count": 114,
   "metadata": {},
   "outputs": [
    {
     "data": {
      "application/vnd.plotly.v1+json": {
       "config": {
        "plotlyServerURL": "https://plot.ly"
       },
       "data": [
        {
         "alignmentgroup": "True",
         "hovertemplate": "variable=BowlingTeam<br>index=%{x}<br>value=%{y}<extra></extra>",
         "legendgroup": "BowlingTeam",
         "marker": {
          "color": "#636efa",
          "pattern": {
           "shape": ""
          }
         },
         "name": "BowlingTeam",
         "offsetgroup": "BowlingTeam",
         "orientation": "v",
         "showlegend": true,
         "textposition": "auto",
         "type": "bar",
         "x": [
          "Mumbai Indians",
          "Royal Challengers Bangalore",
          "Chennai Super Kings",
          "Rajasthan Royals",
          "Kolkata Knight Riders",
          "Kings XI Punjab",
          "Sunrisers Hyderabad",
          "Delhi Capitals",
          "Lucknow Super Giants",
          "Gujarat Titans"
         ],
         "xaxis": "x",
         "y": [
          3472,
          3194,
          2996,
          2819,
          2005,
          1811,
          1662,
          848,
          286,
          174
         ],
         "yaxis": "y"
        }
       ],
       "layout": {
        "barmode": "relative",
        "legend": {
         "title": {
          "text": "variable"
         },
         "tracegroupgap": 0
        },
        "margin": {
         "t": 60
        },
        "template": {
         "data": {
          "bar": [
           {
            "error_x": {
             "color": "#2a3f5f"
            },
            "error_y": {
             "color": "#2a3f5f"
            },
            "marker": {
             "line": {
              "color": "#E5ECF6",
              "width": 0.5
             },
             "pattern": {
              "fillmode": "overlay",
              "size": 10,
              "solidity": 0.2
             }
            },
            "type": "bar"
           }
          ],
          "barpolar": [
           {
            "marker": {
             "line": {
              "color": "#E5ECF6",
              "width": 0.5
             },
             "pattern": {
              "fillmode": "overlay",
              "size": 10,
              "solidity": 0.2
             }
            },
            "type": "barpolar"
           }
          ],
          "carpet": [
           {
            "aaxis": {
             "endlinecolor": "#2a3f5f",
             "gridcolor": "white",
             "linecolor": "white",
             "minorgridcolor": "white",
             "startlinecolor": "#2a3f5f"
            },
            "baxis": {
             "endlinecolor": "#2a3f5f",
             "gridcolor": "white",
             "linecolor": "white",
             "minorgridcolor": "white",
             "startlinecolor": "#2a3f5f"
            },
            "type": "carpet"
           }
          ],
          "choropleth": [
           {
            "colorbar": {
             "outlinewidth": 0,
             "ticks": ""
            },
            "type": "choropleth"
           }
          ],
          "contour": [
           {
            "colorbar": {
             "outlinewidth": 0,
             "ticks": ""
            },
            "colorscale": [
             [
              0,
              "#0d0887"
             ],
             [
              0.1111111111111111,
              "#46039f"
             ],
             [
              0.2222222222222222,
              "#7201a8"
             ],
             [
              0.3333333333333333,
              "#9c179e"
             ],
             [
              0.4444444444444444,
              "#bd3786"
             ],
             [
              0.5555555555555556,
              "#d8576b"
             ],
             [
              0.6666666666666666,
              "#ed7953"
             ],
             [
              0.7777777777777778,
              "#fb9f3a"
             ],
             [
              0.8888888888888888,
              "#fdca26"
             ],
             [
              1,
              "#f0f921"
             ]
            ],
            "type": "contour"
           }
          ],
          "contourcarpet": [
           {
            "colorbar": {
             "outlinewidth": 0,
             "ticks": ""
            },
            "type": "contourcarpet"
           }
          ],
          "heatmap": [
           {
            "colorbar": {
             "outlinewidth": 0,
             "ticks": ""
            },
            "colorscale": [
             [
              0,
              "#0d0887"
             ],
             [
              0.1111111111111111,
              "#46039f"
             ],
             [
              0.2222222222222222,
              "#7201a8"
             ],
             [
              0.3333333333333333,
              "#9c179e"
             ],
             [
              0.4444444444444444,
              "#bd3786"
             ],
             [
              0.5555555555555556,
              "#d8576b"
             ],
             [
              0.6666666666666666,
              "#ed7953"
             ],
             [
              0.7777777777777778,
              "#fb9f3a"
             ],
             [
              0.8888888888888888,
              "#fdca26"
             ],
             [
              1,
              "#f0f921"
             ]
            ],
            "type": "heatmap"
           }
          ],
          "heatmapgl": [
           {
            "colorbar": {
             "outlinewidth": 0,
             "ticks": ""
            },
            "colorscale": [
             [
              0,
              "#0d0887"
             ],
             [
              0.1111111111111111,
              "#46039f"
             ],
             [
              0.2222222222222222,
              "#7201a8"
             ],
             [
              0.3333333333333333,
              "#9c179e"
             ],
             [
              0.4444444444444444,
              "#bd3786"
             ],
             [
              0.5555555555555556,
              "#d8576b"
             ],
             [
              0.6666666666666666,
              "#ed7953"
             ],
             [
              0.7777777777777778,
              "#fb9f3a"
             ],
             [
              0.8888888888888888,
              "#fdca26"
             ],
             [
              1,
              "#f0f921"
             ]
            ],
            "type": "heatmapgl"
           }
          ],
          "histogram": [
           {
            "marker": {
             "pattern": {
              "fillmode": "overlay",
              "size": 10,
              "solidity": 0.2
             }
            },
            "type": "histogram"
           }
          ],
          "histogram2d": [
           {
            "colorbar": {
             "outlinewidth": 0,
             "ticks": ""
            },
            "colorscale": [
             [
              0,
              "#0d0887"
             ],
             [
              0.1111111111111111,
              "#46039f"
             ],
             [
              0.2222222222222222,
              "#7201a8"
             ],
             [
              0.3333333333333333,
              "#9c179e"
             ],
             [
              0.4444444444444444,
              "#bd3786"
             ],
             [
              0.5555555555555556,
              "#d8576b"
             ],
             [
              0.6666666666666666,
              "#ed7953"
             ],
             [
              0.7777777777777778,
              "#fb9f3a"
             ],
             [
              0.8888888888888888,
              "#fdca26"
             ],
             [
              1,
              "#f0f921"
             ]
            ],
            "type": "histogram2d"
           }
          ],
          "histogram2dcontour": [
           {
            "colorbar": {
             "outlinewidth": 0,
             "ticks": ""
            },
            "colorscale": [
             [
              0,
              "#0d0887"
             ],
             [
              0.1111111111111111,
              "#46039f"
             ],
             [
              0.2222222222222222,
              "#7201a8"
             ],
             [
              0.3333333333333333,
              "#9c179e"
             ],
             [
              0.4444444444444444,
              "#bd3786"
             ],
             [
              0.5555555555555556,
              "#d8576b"
             ],
             [
              0.6666666666666666,
              "#ed7953"
             ],
             [
              0.7777777777777778,
              "#fb9f3a"
             ],
             [
              0.8888888888888888,
              "#fdca26"
             ],
             [
              1,
              "#f0f921"
             ]
            ],
            "type": "histogram2dcontour"
           }
          ],
          "mesh3d": [
           {
            "colorbar": {
             "outlinewidth": 0,
             "ticks": ""
            },
            "type": "mesh3d"
           }
          ],
          "parcoords": [
           {
            "line": {
             "colorbar": {
              "outlinewidth": 0,
              "ticks": ""
             }
            },
            "type": "parcoords"
           }
          ],
          "pie": [
           {
            "automargin": true,
            "type": "pie"
           }
          ],
          "scatter": [
           {
            "fillpattern": {
             "fillmode": "overlay",
             "size": 10,
             "solidity": 0.2
            },
            "type": "scatter"
           }
          ],
          "scatter3d": [
           {
            "line": {
             "colorbar": {
              "outlinewidth": 0,
              "ticks": ""
             }
            },
            "marker": {
             "colorbar": {
              "outlinewidth": 0,
              "ticks": ""
             }
            },
            "type": "scatter3d"
           }
          ],
          "scattercarpet": [
           {
            "marker": {
             "colorbar": {
              "outlinewidth": 0,
              "ticks": ""
             }
            },
            "type": "scattercarpet"
           }
          ],
          "scattergeo": [
           {
            "marker": {
             "colorbar": {
              "outlinewidth": 0,
              "ticks": ""
             }
            },
            "type": "scattergeo"
           }
          ],
          "scattergl": [
           {
            "marker": {
             "colorbar": {
              "outlinewidth": 0,
              "ticks": ""
             }
            },
            "type": "scattergl"
           }
          ],
          "scattermapbox": [
           {
            "marker": {
             "colorbar": {
              "outlinewidth": 0,
              "ticks": ""
             }
            },
            "type": "scattermapbox"
           }
          ],
          "scatterpolar": [
           {
            "marker": {
             "colorbar": {
              "outlinewidth": 0,
              "ticks": ""
             }
            },
            "type": "scatterpolar"
           }
          ],
          "scatterpolargl": [
           {
            "marker": {
             "colorbar": {
              "outlinewidth": 0,
              "ticks": ""
             }
            },
            "type": "scatterpolargl"
           }
          ],
          "scatterternary": [
           {
            "marker": {
             "colorbar": {
              "outlinewidth": 0,
              "ticks": ""
             }
            },
            "type": "scatterternary"
           }
          ],
          "surface": [
           {
            "colorbar": {
             "outlinewidth": 0,
             "ticks": ""
            },
            "colorscale": [
             [
              0,
              "#0d0887"
             ],
             [
              0.1111111111111111,
              "#46039f"
             ],
             [
              0.2222222222222222,
              "#7201a8"
             ],
             [
              0.3333333333333333,
              "#9c179e"
             ],
             [
              0.4444444444444444,
              "#bd3786"
             ],
             [
              0.5555555555555556,
              "#d8576b"
             ],
             [
              0.6666666666666666,
              "#ed7953"
             ],
             [
              0.7777777777777778,
              "#fb9f3a"
             ],
             [
              0.8888888888888888,
              "#fdca26"
             ],
             [
              1,
              "#f0f921"
             ]
            ],
            "type": "surface"
           }
          ],
          "table": [
           {
            "cells": {
             "fill": {
              "color": "#EBF0F8"
             },
             "line": {
              "color": "white"
             }
            },
            "header": {
             "fill": {
              "color": "#C8D4E3"
             },
             "line": {
              "color": "white"
             }
            },
            "type": "table"
           }
          ]
         },
         "layout": {
          "annotationdefaults": {
           "arrowcolor": "#2a3f5f",
           "arrowhead": 0,
           "arrowwidth": 1
          },
          "autotypenumbers": "strict",
          "coloraxis": {
           "colorbar": {
            "outlinewidth": 0,
            "ticks": ""
           }
          },
          "colorscale": {
           "diverging": [
            [
             0,
             "#8e0152"
            ],
            [
             0.1,
             "#c51b7d"
            ],
            [
             0.2,
             "#de77ae"
            ],
            [
             0.3,
             "#f1b6da"
            ],
            [
             0.4,
             "#fde0ef"
            ],
            [
             0.5,
             "#f7f7f7"
            ],
            [
             0.6,
             "#e6f5d0"
            ],
            [
             0.7,
             "#b8e186"
            ],
            [
             0.8,
             "#7fbc41"
            ],
            [
             0.9,
             "#4d9221"
            ],
            [
             1,
             "#276419"
            ]
           ],
           "sequential": [
            [
             0,
             "#0d0887"
            ],
            [
             0.1111111111111111,
             "#46039f"
            ],
            [
             0.2222222222222222,
             "#7201a8"
            ],
            [
             0.3333333333333333,
             "#9c179e"
            ],
            [
             0.4444444444444444,
             "#bd3786"
            ],
            [
             0.5555555555555556,
             "#d8576b"
            ],
            [
             0.6666666666666666,
             "#ed7953"
            ],
            [
             0.7777777777777778,
             "#fb9f3a"
            ],
            [
             0.8888888888888888,
             "#fdca26"
            ],
            [
             1,
             "#f0f921"
            ]
           ],
           "sequentialminus": [
            [
             0,
             "#0d0887"
            ],
            [
             0.1111111111111111,
             "#46039f"
            ],
            [
             0.2222222222222222,
             "#7201a8"
            ],
            [
             0.3333333333333333,
             "#9c179e"
            ],
            [
             0.4444444444444444,
             "#bd3786"
            ],
            [
             0.5555555555555556,
             "#d8576b"
            ],
            [
             0.6666666666666666,
             "#ed7953"
            ],
            [
             0.7777777777777778,
             "#fb9f3a"
            ],
            [
             0.8888888888888888,
             "#fdca26"
            ],
            [
             1,
             "#f0f921"
            ]
           ]
          },
          "colorway": [
           "#636efa",
           "#EF553B",
           "#00cc96",
           "#ab63fa",
           "#FFA15A",
           "#19d3f3",
           "#FF6692",
           "#B6E880",
           "#FF97FF",
           "#FECB52"
          ],
          "font": {
           "color": "#2a3f5f"
          },
          "geo": {
           "bgcolor": "white",
           "lakecolor": "white",
           "landcolor": "#E5ECF6",
           "showlakes": true,
           "showland": true,
           "subunitcolor": "white"
          },
          "hoverlabel": {
           "align": "left"
          },
          "hovermode": "closest",
          "mapbox": {
           "style": "light"
          },
          "paper_bgcolor": "white",
          "plot_bgcolor": "#E5ECF6",
          "polar": {
           "angularaxis": {
            "gridcolor": "white",
            "linecolor": "white",
            "ticks": ""
           },
           "bgcolor": "#E5ECF6",
           "radialaxis": {
            "gridcolor": "white",
            "linecolor": "white",
            "ticks": ""
           }
          },
          "scene": {
           "xaxis": {
            "backgroundcolor": "#E5ECF6",
            "gridcolor": "white",
            "gridwidth": 2,
            "linecolor": "white",
            "showbackground": true,
            "ticks": "",
            "zerolinecolor": "white"
           },
           "yaxis": {
            "backgroundcolor": "#E5ECF6",
            "gridcolor": "white",
            "gridwidth": 2,
            "linecolor": "white",
            "showbackground": true,
            "ticks": "",
            "zerolinecolor": "white"
           },
           "zaxis": {
            "backgroundcolor": "#E5ECF6",
            "gridcolor": "white",
            "gridwidth": 2,
            "linecolor": "white",
            "showbackground": true,
            "ticks": "",
            "zerolinecolor": "white"
           }
          },
          "shapedefaults": {
           "line": {
            "color": "#2a3f5f"
           }
          },
          "ternary": {
           "aaxis": {
            "gridcolor": "white",
            "linecolor": "white",
            "ticks": ""
           },
           "baxis": {
            "gridcolor": "white",
            "linecolor": "white",
            "ticks": ""
           },
           "bgcolor": "#E5ECF6",
           "caxis": {
            "gridcolor": "white",
            "linecolor": "white",
            "ticks": ""
           }
          },
          "title": {
           "x": 0.05
          },
          "xaxis": {
           "automargin": true,
           "gridcolor": "white",
           "linecolor": "white",
           "ticks": "",
           "title": {
            "standoff": 15
           },
           "zerolinecolor": "white",
           "zerolinewidth": 2
          },
          "yaxis": {
           "automargin": true,
           "gridcolor": "white",
           "linecolor": "white",
           "ticks": "",
           "title": {
            "standoff": 15
           },
           "zerolinecolor": "white",
           "zerolinewidth": 2
          }
         }
        },
        "xaxis": {
         "anchor": "y",
         "domain": [
          0,
          1
         ],
         "title": {
          "text": "index"
         }
        },
        "yaxis": {
         "anchor": "x",
         "domain": [
          0,
          1
         ],
         "title": {
          "text": "value"
         }
        }
       }
      },
      "text/html": [
       "<div>                            <div id=\"7d5a4ca3-0dc2-4d39-87a6-a66204537e55\" class=\"plotly-graph-div\" style=\"height:525px; width:100%;\"></div>            <script type=\"text/javascript\">                require([\"plotly\"], function(Plotly) {                    window.PLOTLYENV=window.PLOTLYENV || {};                                    if (document.getElementById(\"7d5a4ca3-0dc2-4d39-87a6-a66204537e55\")) {                    Plotly.newPlot(                        \"7d5a4ca3-0dc2-4d39-87a6-a66204537e55\",                        [{\"alignmentgroup\":\"True\",\"hovertemplate\":\"variable=BowlingTeam<br>index=%{x}<br>value=%{y}<extra></extra>\",\"legendgroup\":\"BowlingTeam\",\"marker\":{\"color\":\"#636efa\",\"pattern\":{\"shape\":\"\"}},\"name\":\"BowlingTeam\",\"offsetgroup\":\"BowlingTeam\",\"orientation\":\"v\",\"showlegend\":true,\"textposition\":\"auto\",\"x\":[\"Mumbai Indians\",\"Royal Challengers Bangalore\",\"Chennai Super Kings\",\"Rajasthan Royals\",\"Kolkata Knight Riders\",\"Kings XI Punjab\",\"Sunrisers Hyderabad\",\"Delhi Capitals\",\"Lucknow Super Giants\",\"Gujarat Titans\"],\"xaxis\":\"x\",\"y\":[3472,3194,2996,2819,2005,1811,1662,848,286,174],\"yaxis\":\"y\",\"type\":\"bar\"}],                        {\"template\":{\"data\":{\"histogram2dcontour\":[{\"type\":\"histogram2dcontour\",\"colorbar\":{\"outlinewidth\":0,\"ticks\":\"\"},\"colorscale\":[[0.0,\"#0d0887\"],[0.1111111111111111,\"#46039f\"],[0.2222222222222222,\"#7201a8\"],[0.3333333333333333,\"#9c179e\"],[0.4444444444444444,\"#bd3786\"],[0.5555555555555556,\"#d8576b\"],[0.6666666666666666,\"#ed7953\"],[0.7777777777777778,\"#fb9f3a\"],[0.8888888888888888,\"#fdca26\"],[1.0,\"#f0f921\"]]}],\"choropleth\":[{\"type\":\"choropleth\",\"colorbar\":{\"outlinewidth\":0,\"ticks\":\"\"}}],\"histogram2d\":[{\"type\":\"histogram2d\",\"colorbar\":{\"outlinewidth\":0,\"ticks\":\"\"},\"colorscale\":[[0.0,\"#0d0887\"],[0.1111111111111111,\"#46039f\"],[0.2222222222222222,\"#7201a8\"],[0.3333333333333333,\"#9c179e\"],[0.4444444444444444,\"#bd3786\"],[0.5555555555555556,\"#d8576b\"],[0.6666666666666666,\"#ed7953\"],[0.7777777777777778,\"#fb9f3a\"],[0.8888888888888888,\"#fdca26\"],[1.0,\"#f0f921\"]]}],\"heatmap\":[{\"type\":\"heatmap\",\"colorbar\":{\"outlinewidth\":0,\"ticks\":\"\"},\"colorscale\":[[0.0,\"#0d0887\"],[0.1111111111111111,\"#46039f\"],[0.2222222222222222,\"#7201a8\"],[0.3333333333333333,\"#9c179e\"],[0.4444444444444444,\"#bd3786\"],[0.5555555555555556,\"#d8576b\"],[0.6666666666666666,\"#ed7953\"],[0.7777777777777778,\"#fb9f3a\"],[0.8888888888888888,\"#fdca26\"],[1.0,\"#f0f921\"]]}],\"heatmapgl\":[{\"type\":\"heatmapgl\",\"colorbar\":{\"outlinewidth\":0,\"ticks\":\"\"},\"colorscale\":[[0.0,\"#0d0887\"],[0.1111111111111111,\"#46039f\"],[0.2222222222222222,\"#7201a8\"],[0.3333333333333333,\"#9c179e\"],[0.4444444444444444,\"#bd3786\"],[0.5555555555555556,\"#d8576b\"],[0.6666666666666666,\"#ed7953\"],[0.7777777777777778,\"#fb9f3a\"],[0.8888888888888888,\"#fdca26\"],[1.0,\"#f0f921\"]]}],\"contourcarpet\":[{\"type\":\"contourcarpet\",\"colorbar\":{\"outlinewidth\":0,\"ticks\":\"\"}}],\"contour\":[{\"type\":\"contour\",\"colorbar\":{\"outlinewidth\":0,\"ticks\":\"\"},\"colorscale\":[[0.0,\"#0d0887\"],[0.1111111111111111,\"#46039f\"],[0.2222222222222222,\"#7201a8\"],[0.3333333333333333,\"#9c179e\"],[0.4444444444444444,\"#bd3786\"],[0.5555555555555556,\"#d8576b\"],[0.6666666666666666,\"#ed7953\"],[0.7777777777777778,\"#fb9f3a\"],[0.8888888888888888,\"#fdca26\"],[1.0,\"#f0f921\"]]}],\"surface\":[{\"type\":\"surface\",\"colorbar\":{\"outlinewidth\":0,\"ticks\":\"\"},\"colorscale\":[[0.0,\"#0d0887\"],[0.1111111111111111,\"#46039f\"],[0.2222222222222222,\"#7201a8\"],[0.3333333333333333,\"#9c179e\"],[0.4444444444444444,\"#bd3786\"],[0.5555555555555556,\"#d8576b\"],[0.6666666666666666,\"#ed7953\"],[0.7777777777777778,\"#fb9f3a\"],[0.8888888888888888,\"#fdca26\"],[1.0,\"#f0f921\"]]}],\"mesh3d\":[{\"type\":\"mesh3d\",\"colorbar\":{\"outlinewidth\":0,\"ticks\":\"\"}}],\"scatter\":[{\"fillpattern\":{\"fillmode\":\"overlay\",\"size\":10,\"solidity\":0.2},\"type\":\"scatter\"}],\"parcoords\":[{\"type\":\"parcoords\",\"line\":{\"colorbar\":{\"outlinewidth\":0,\"ticks\":\"\"}}}],\"scatterpolargl\":[{\"type\":\"scatterpolargl\",\"marker\":{\"colorbar\":{\"outlinewidth\":0,\"ticks\":\"\"}}}],\"bar\":[{\"error_x\":{\"color\":\"#2a3f5f\"},\"error_y\":{\"color\":\"#2a3f5f\"},\"marker\":{\"line\":{\"color\":\"#E5ECF6\",\"width\":0.5},\"pattern\":{\"fillmode\":\"overlay\",\"size\":10,\"solidity\":0.2}},\"type\":\"bar\"}],\"scattergeo\":[{\"type\":\"scattergeo\",\"marker\":{\"colorbar\":{\"outlinewidth\":0,\"ticks\":\"\"}}}],\"scatterpolar\":[{\"type\":\"scatterpolar\",\"marker\":{\"colorbar\":{\"outlinewidth\":0,\"ticks\":\"\"}}}],\"histogram\":[{\"marker\":{\"pattern\":{\"fillmode\":\"overlay\",\"size\":10,\"solidity\":0.2}},\"type\":\"histogram\"}],\"scattergl\":[{\"type\":\"scattergl\",\"marker\":{\"colorbar\":{\"outlinewidth\":0,\"ticks\":\"\"}}}],\"scatter3d\":[{\"type\":\"scatter3d\",\"line\":{\"colorbar\":{\"outlinewidth\":0,\"ticks\":\"\"}},\"marker\":{\"colorbar\":{\"outlinewidth\":0,\"ticks\":\"\"}}}],\"scattermapbox\":[{\"type\":\"scattermapbox\",\"marker\":{\"colorbar\":{\"outlinewidth\":0,\"ticks\":\"\"}}}],\"scatterternary\":[{\"type\":\"scatterternary\",\"marker\":{\"colorbar\":{\"outlinewidth\":0,\"ticks\":\"\"}}}],\"scattercarpet\":[{\"type\":\"scattercarpet\",\"marker\":{\"colorbar\":{\"outlinewidth\":0,\"ticks\":\"\"}}}],\"carpet\":[{\"aaxis\":{\"endlinecolor\":\"#2a3f5f\",\"gridcolor\":\"white\",\"linecolor\":\"white\",\"minorgridcolor\":\"white\",\"startlinecolor\":\"#2a3f5f\"},\"baxis\":{\"endlinecolor\":\"#2a3f5f\",\"gridcolor\":\"white\",\"linecolor\":\"white\",\"minorgridcolor\":\"white\",\"startlinecolor\":\"#2a3f5f\"},\"type\":\"carpet\"}],\"table\":[{\"cells\":{\"fill\":{\"color\":\"#EBF0F8\"},\"line\":{\"color\":\"white\"}},\"header\":{\"fill\":{\"color\":\"#C8D4E3\"},\"line\":{\"color\":\"white\"}},\"type\":\"table\"}],\"barpolar\":[{\"marker\":{\"line\":{\"color\":\"#E5ECF6\",\"width\":0.5},\"pattern\":{\"fillmode\":\"overlay\",\"size\":10,\"solidity\":0.2}},\"type\":\"barpolar\"}],\"pie\":[{\"automargin\":true,\"type\":\"pie\"}]},\"layout\":{\"autotypenumbers\":\"strict\",\"colorway\":[\"#636efa\",\"#EF553B\",\"#00cc96\",\"#ab63fa\",\"#FFA15A\",\"#19d3f3\",\"#FF6692\",\"#B6E880\",\"#FF97FF\",\"#FECB52\"],\"font\":{\"color\":\"#2a3f5f\"},\"hovermode\":\"closest\",\"hoverlabel\":{\"align\":\"left\"},\"paper_bgcolor\":\"white\",\"plot_bgcolor\":\"#E5ECF6\",\"polar\":{\"bgcolor\":\"#E5ECF6\",\"angularaxis\":{\"gridcolor\":\"white\",\"linecolor\":\"white\",\"ticks\":\"\"},\"radialaxis\":{\"gridcolor\":\"white\",\"linecolor\":\"white\",\"ticks\":\"\"}},\"ternary\":{\"bgcolor\":\"#E5ECF6\",\"aaxis\":{\"gridcolor\":\"white\",\"linecolor\":\"white\",\"ticks\":\"\"},\"baxis\":{\"gridcolor\":\"white\",\"linecolor\":\"white\",\"ticks\":\"\"},\"caxis\":{\"gridcolor\":\"white\",\"linecolor\":\"white\",\"ticks\":\"\"}},\"coloraxis\":{\"colorbar\":{\"outlinewidth\":0,\"ticks\":\"\"}},\"colorscale\":{\"sequential\":[[0.0,\"#0d0887\"],[0.1111111111111111,\"#46039f\"],[0.2222222222222222,\"#7201a8\"],[0.3333333333333333,\"#9c179e\"],[0.4444444444444444,\"#bd3786\"],[0.5555555555555556,\"#d8576b\"],[0.6666666666666666,\"#ed7953\"],[0.7777777777777778,\"#fb9f3a\"],[0.8888888888888888,\"#fdca26\"],[1.0,\"#f0f921\"]],\"sequentialminus\":[[0.0,\"#0d0887\"],[0.1111111111111111,\"#46039f\"],[0.2222222222222222,\"#7201a8\"],[0.3333333333333333,\"#9c179e\"],[0.4444444444444444,\"#bd3786\"],[0.5555555555555556,\"#d8576b\"],[0.6666666666666666,\"#ed7953\"],[0.7777777777777778,\"#fb9f3a\"],[0.8888888888888888,\"#fdca26\"],[1.0,\"#f0f921\"]],\"diverging\":[[0,\"#8e0152\"],[0.1,\"#c51b7d\"],[0.2,\"#de77ae\"],[0.3,\"#f1b6da\"],[0.4,\"#fde0ef\"],[0.5,\"#f7f7f7\"],[0.6,\"#e6f5d0\"],[0.7,\"#b8e186\"],[0.8,\"#7fbc41\"],[0.9,\"#4d9221\"],[1,\"#276419\"]]},\"xaxis\":{\"gridcolor\":\"white\",\"linecolor\":\"white\",\"ticks\":\"\",\"title\":{\"standoff\":15},\"zerolinecolor\":\"white\",\"automargin\":true,\"zerolinewidth\":2},\"yaxis\":{\"gridcolor\":\"white\",\"linecolor\":\"white\",\"ticks\":\"\",\"title\":{\"standoff\":15},\"zerolinecolor\":\"white\",\"automargin\":true,\"zerolinewidth\":2},\"scene\":{\"xaxis\":{\"backgroundcolor\":\"#E5ECF6\",\"gridcolor\":\"white\",\"linecolor\":\"white\",\"showbackground\":true,\"ticks\":\"\",\"zerolinecolor\":\"white\",\"gridwidth\":2},\"yaxis\":{\"backgroundcolor\":\"#E5ECF6\",\"gridcolor\":\"white\",\"linecolor\":\"white\",\"showbackground\":true,\"ticks\":\"\",\"zerolinecolor\":\"white\",\"gridwidth\":2},\"zaxis\":{\"backgroundcolor\":\"#E5ECF6\",\"gridcolor\":\"white\",\"linecolor\":\"white\",\"showbackground\":true,\"ticks\":\"\",\"zerolinecolor\":\"white\",\"gridwidth\":2}},\"shapedefaults\":{\"line\":{\"color\":\"#2a3f5f\"}},\"annotationdefaults\":{\"arrowcolor\":\"#2a3f5f\",\"arrowhead\":0,\"arrowwidth\":1},\"geo\":{\"bgcolor\":\"white\",\"landcolor\":\"#E5ECF6\",\"subunitcolor\":\"white\",\"showland\":true,\"showlakes\":true,\"lakecolor\":\"white\"},\"title\":{\"x\":0.05},\"mapbox\":{\"style\":\"light\"}}},\"xaxis\":{\"anchor\":\"y\",\"domain\":[0.0,1.0],\"title\":{\"text\":\"index\"}},\"yaxis\":{\"anchor\":\"x\",\"domain\":[0.0,1.0],\"title\":{\"text\":\"value\"}},\"legend\":{\"title\":{\"text\":\"variable\"},\"tracegroupgap\":0},\"margin\":{\"t\":60},\"barmode\":\"relative\"},                        {\"responsive\": true}                    ).then(function(){\n",
       "                            \n",
       "var gd = document.getElementById('7d5a4ca3-0dc2-4d39-87a6-a66204537e55');\n",
       "var x = new MutationObserver(function (mutations, observer) {{\n",
       "        var display = window.getComputedStyle(gd).display;\n",
       "        if (!display || display === 'none') {{\n",
       "            console.log([gd, 'removed!']);\n",
       "            Plotly.purge(gd);\n",
       "            observer.disconnect();\n",
       "        }}\n",
       "}});\n",
       "\n",
       "// Listen for the removal of the full notebook cells\n",
       "var notebookContainer = gd.closest('#notebook-container');\n",
       "if (notebookContainer) {{\n",
       "    x.observe(notebookContainer, {childList: true});\n",
       "}}\n",
       "\n",
       "// Listen for the clearing of the current output cell\n",
       "var outputEl = gd.closest('.output');\n",
       "if (outputEl) {{\n",
       "    x.observe(outputEl, {childList: true});\n",
       "}}\n",
       "\n",
       "                        })                };                });            </script>        </div>"
      ]
     },
     "metadata": {},
     "output_type": "display_data"
    }
   ],
   "source": [
    "fig = px.bar(df['BowlingTeam'].value_counts())\n",
    "fig.show()"
   ]
  },
  {
   "cell_type": "code",
   "execution_count": 115,
   "metadata": {},
   "outputs": [
    {
     "data": {
      "application/vnd.plotly.v1+json": {
       "config": {
        "plotlyServerURL": "https://plot.ly"
       },
       "data": [
        {
         "alignmentgroup": "True",
         "hovertemplate": "variable=BattingTeam<br>index=%{x}<br>value=%{y}<extra></extra>",
         "legendgroup": "BattingTeam",
         "marker": {
          "color": "#636efa",
          "pattern": {
           "shape": ""
          }
         },
         "name": "BattingTeam",
         "offsetgroup": "BattingTeam",
         "orientation": "v",
         "showlegend": true,
         "textposition": "auto",
         "type": "bar",
         "x": [
          "Mumbai Indians",
          "Royal Challengers Bangalore",
          "Chennai Super Kings",
          "Rajasthan Royals",
          "Kings XI Punjab",
          "Sunrisers Hyderabad",
          "Kolkata Knight Riders",
          "Delhi Capitals",
          "Gujarat Titans",
          "Lucknow Super Giants"
         ],
         "xaxis": "x",
         "y": [
          3627,
          3369,
          2907,
          2558,
          2298,
          2172,
          1422,
          449,
          275,
          190
         ],
         "yaxis": "y"
        }
       ],
       "layout": {
        "barmode": "relative",
        "legend": {
         "title": {
          "text": "variable"
         },
         "tracegroupgap": 0
        },
        "margin": {
         "t": 60
        },
        "template": {
         "data": {
          "bar": [
           {
            "error_x": {
             "color": "#2a3f5f"
            },
            "error_y": {
             "color": "#2a3f5f"
            },
            "marker": {
             "line": {
              "color": "#E5ECF6",
              "width": 0.5
             },
             "pattern": {
              "fillmode": "overlay",
              "size": 10,
              "solidity": 0.2
             }
            },
            "type": "bar"
           }
          ],
          "barpolar": [
           {
            "marker": {
             "line": {
              "color": "#E5ECF6",
              "width": 0.5
             },
             "pattern": {
              "fillmode": "overlay",
              "size": 10,
              "solidity": 0.2
             }
            },
            "type": "barpolar"
           }
          ],
          "carpet": [
           {
            "aaxis": {
             "endlinecolor": "#2a3f5f",
             "gridcolor": "white",
             "linecolor": "white",
             "minorgridcolor": "white",
             "startlinecolor": "#2a3f5f"
            },
            "baxis": {
             "endlinecolor": "#2a3f5f",
             "gridcolor": "white",
             "linecolor": "white",
             "minorgridcolor": "white",
             "startlinecolor": "#2a3f5f"
            },
            "type": "carpet"
           }
          ],
          "choropleth": [
           {
            "colorbar": {
             "outlinewidth": 0,
             "ticks": ""
            },
            "type": "choropleth"
           }
          ],
          "contour": [
           {
            "colorbar": {
             "outlinewidth": 0,
             "ticks": ""
            },
            "colorscale": [
             [
              0,
              "#0d0887"
             ],
             [
              0.1111111111111111,
              "#46039f"
             ],
             [
              0.2222222222222222,
              "#7201a8"
             ],
             [
              0.3333333333333333,
              "#9c179e"
             ],
             [
              0.4444444444444444,
              "#bd3786"
             ],
             [
              0.5555555555555556,
              "#d8576b"
             ],
             [
              0.6666666666666666,
              "#ed7953"
             ],
             [
              0.7777777777777778,
              "#fb9f3a"
             ],
             [
              0.8888888888888888,
              "#fdca26"
             ],
             [
              1,
              "#f0f921"
             ]
            ],
            "type": "contour"
           }
          ],
          "contourcarpet": [
           {
            "colorbar": {
             "outlinewidth": 0,
             "ticks": ""
            },
            "type": "contourcarpet"
           }
          ],
          "heatmap": [
           {
            "colorbar": {
             "outlinewidth": 0,
             "ticks": ""
            },
            "colorscale": [
             [
              0,
              "#0d0887"
             ],
             [
              0.1111111111111111,
              "#46039f"
             ],
             [
              0.2222222222222222,
              "#7201a8"
             ],
             [
              0.3333333333333333,
              "#9c179e"
             ],
             [
              0.4444444444444444,
              "#bd3786"
             ],
             [
              0.5555555555555556,
              "#d8576b"
             ],
             [
              0.6666666666666666,
              "#ed7953"
             ],
             [
              0.7777777777777778,
              "#fb9f3a"
             ],
             [
              0.8888888888888888,
              "#fdca26"
             ],
             [
              1,
              "#f0f921"
             ]
            ],
            "type": "heatmap"
           }
          ],
          "heatmapgl": [
           {
            "colorbar": {
             "outlinewidth": 0,
             "ticks": ""
            },
            "colorscale": [
             [
              0,
              "#0d0887"
             ],
             [
              0.1111111111111111,
              "#46039f"
             ],
             [
              0.2222222222222222,
              "#7201a8"
             ],
             [
              0.3333333333333333,
              "#9c179e"
             ],
             [
              0.4444444444444444,
              "#bd3786"
             ],
             [
              0.5555555555555556,
              "#d8576b"
             ],
             [
              0.6666666666666666,
              "#ed7953"
             ],
             [
              0.7777777777777778,
              "#fb9f3a"
             ],
             [
              0.8888888888888888,
              "#fdca26"
             ],
             [
              1,
              "#f0f921"
             ]
            ],
            "type": "heatmapgl"
           }
          ],
          "histogram": [
           {
            "marker": {
             "pattern": {
              "fillmode": "overlay",
              "size": 10,
              "solidity": 0.2
             }
            },
            "type": "histogram"
           }
          ],
          "histogram2d": [
           {
            "colorbar": {
             "outlinewidth": 0,
             "ticks": ""
            },
            "colorscale": [
             [
              0,
              "#0d0887"
             ],
             [
              0.1111111111111111,
              "#46039f"
             ],
             [
              0.2222222222222222,
              "#7201a8"
             ],
             [
              0.3333333333333333,
              "#9c179e"
             ],
             [
              0.4444444444444444,
              "#bd3786"
             ],
             [
              0.5555555555555556,
              "#d8576b"
             ],
             [
              0.6666666666666666,
              "#ed7953"
             ],
             [
              0.7777777777777778,
              "#fb9f3a"
             ],
             [
              0.8888888888888888,
              "#fdca26"
             ],
             [
              1,
              "#f0f921"
             ]
            ],
            "type": "histogram2d"
           }
          ],
          "histogram2dcontour": [
           {
            "colorbar": {
             "outlinewidth": 0,
             "ticks": ""
            },
            "colorscale": [
             [
              0,
              "#0d0887"
             ],
             [
              0.1111111111111111,
              "#46039f"
             ],
             [
              0.2222222222222222,
              "#7201a8"
             ],
             [
              0.3333333333333333,
              "#9c179e"
             ],
             [
              0.4444444444444444,
              "#bd3786"
             ],
             [
              0.5555555555555556,
              "#d8576b"
             ],
             [
              0.6666666666666666,
              "#ed7953"
             ],
             [
              0.7777777777777778,
              "#fb9f3a"
             ],
             [
              0.8888888888888888,
              "#fdca26"
             ],
             [
              1,
              "#f0f921"
             ]
            ],
            "type": "histogram2dcontour"
           }
          ],
          "mesh3d": [
           {
            "colorbar": {
             "outlinewidth": 0,
             "ticks": ""
            },
            "type": "mesh3d"
           }
          ],
          "parcoords": [
           {
            "line": {
             "colorbar": {
              "outlinewidth": 0,
              "ticks": ""
             }
            },
            "type": "parcoords"
           }
          ],
          "pie": [
           {
            "automargin": true,
            "type": "pie"
           }
          ],
          "scatter": [
           {
            "fillpattern": {
             "fillmode": "overlay",
             "size": 10,
             "solidity": 0.2
            },
            "type": "scatter"
           }
          ],
          "scatter3d": [
           {
            "line": {
             "colorbar": {
              "outlinewidth": 0,
              "ticks": ""
             }
            },
            "marker": {
             "colorbar": {
              "outlinewidth": 0,
              "ticks": ""
             }
            },
            "type": "scatter3d"
           }
          ],
          "scattercarpet": [
           {
            "marker": {
             "colorbar": {
              "outlinewidth": 0,
              "ticks": ""
             }
            },
            "type": "scattercarpet"
           }
          ],
          "scattergeo": [
           {
            "marker": {
             "colorbar": {
              "outlinewidth": 0,
              "ticks": ""
             }
            },
            "type": "scattergeo"
           }
          ],
          "scattergl": [
           {
            "marker": {
             "colorbar": {
              "outlinewidth": 0,
              "ticks": ""
             }
            },
            "type": "scattergl"
           }
          ],
          "scattermapbox": [
           {
            "marker": {
             "colorbar": {
              "outlinewidth": 0,
              "ticks": ""
             }
            },
            "type": "scattermapbox"
           }
          ],
          "scatterpolar": [
           {
            "marker": {
             "colorbar": {
              "outlinewidth": 0,
              "ticks": ""
             }
            },
            "type": "scatterpolar"
           }
          ],
          "scatterpolargl": [
           {
            "marker": {
             "colorbar": {
              "outlinewidth": 0,
              "ticks": ""
             }
            },
            "type": "scatterpolargl"
           }
          ],
          "scatterternary": [
           {
            "marker": {
             "colorbar": {
              "outlinewidth": 0,
              "ticks": ""
             }
            },
            "type": "scatterternary"
           }
          ],
          "surface": [
           {
            "colorbar": {
             "outlinewidth": 0,
             "ticks": ""
            },
            "colorscale": [
             [
              0,
              "#0d0887"
             ],
             [
              0.1111111111111111,
              "#46039f"
             ],
             [
              0.2222222222222222,
              "#7201a8"
             ],
             [
              0.3333333333333333,
              "#9c179e"
             ],
             [
              0.4444444444444444,
              "#bd3786"
             ],
             [
              0.5555555555555556,
              "#d8576b"
             ],
             [
              0.6666666666666666,
              "#ed7953"
             ],
             [
              0.7777777777777778,
              "#fb9f3a"
             ],
             [
              0.8888888888888888,
              "#fdca26"
             ],
             [
              1,
              "#f0f921"
             ]
            ],
            "type": "surface"
           }
          ],
          "table": [
           {
            "cells": {
             "fill": {
              "color": "#EBF0F8"
             },
             "line": {
              "color": "white"
             }
            },
            "header": {
             "fill": {
              "color": "#C8D4E3"
             },
             "line": {
              "color": "white"
             }
            },
            "type": "table"
           }
          ]
         },
         "layout": {
          "annotationdefaults": {
           "arrowcolor": "#2a3f5f",
           "arrowhead": 0,
           "arrowwidth": 1
          },
          "autotypenumbers": "strict",
          "coloraxis": {
           "colorbar": {
            "outlinewidth": 0,
            "ticks": ""
           }
          },
          "colorscale": {
           "diverging": [
            [
             0,
             "#8e0152"
            ],
            [
             0.1,
             "#c51b7d"
            ],
            [
             0.2,
             "#de77ae"
            ],
            [
             0.3,
             "#f1b6da"
            ],
            [
             0.4,
             "#fde0ef"
            ],
            [
             0.5,
             "#f7f7f7"
            ],
            [
             0.6,
             "#e6f5d0"
            ],
            [
             0.7,
             "#b8e186"
            ],
            [
             0.8,
             "#7fbc41"
            ],
            [
             0.9,
             "#4d9221"
            ],
            [
             1,
             "#276419"
            ]
           ],
           "sequential": [
            [
             0,
             "#0d0887"
            ],
            [
             0.1111111111111111,
             "#46039f"
            ],
            [
             0.2222222222222222,
             "#7201a8"
            ],
            [
             0.3333333333333333,
             "#9c179e"
            ],
            [
             0.4444444444444444,
             "#bd3786"
            ],
            [
             0.5555555555555556,
             "#d8576b"
            ],
            [
             0.6666666666666666,
             "#ed7953"
            ],
            [
             0.7777777777777778,
             "#fb9f3a"
            ],
            [
             0.8888888888888888,
             "#fdca26"
            ],
            [
             1,
             "#f0f921"
            ]
           ],
           "sequentialminus": [
            [
             0,
             "#0d0887"
            ],
            [
             0.1111111111111111,
             "#46039f"
            ],
            [
             0.2222222222222222,
             "#7201a8"
            ],
            [
             0.3333333333333333,
             "#9c179e"
            ],
            [
             0.4444444444444444,
             "#bd3786"
            ],
            [
             0.5555555555555556,
             "#d8576b"
            ],
            [
             0.6666666666666666,
             "#ed7953"
            ],
            [
             0.7777777777777778,
             "#fb9f3a"
            ],
            [
             0.8888888888888888,
             "#fdca26"
            ],
            [
             1,
             "#f0f921"
            ]
           ]
          },
          "colorway": [
           "#636efa",
           "#EF553B",
           "#00cc96",
           "#ab63fa",
           "#FFA15A",
           "#19d3f3",
           "#FF6692",
           "#B6E880",
           "#FF97FF",
           "#FECB52"
          ],
          "font": {
           "color": "#2a3f5f"
          },
          "geo": {
           "bgcolor": "white",
           "lakecolor": "white",
           "landcolor": "#E5ECF6",
           "showlakes": true,
           "showland": true,
           "subunitcolor": "white"
          },
          "hoverlabel": {
           "align": "left"
          },
          "hovermode": "closest",
          "mapbox": {
           "style": "light"
          },
          "paper_bgcolor": "white",
          "plot_bgcolor": "#E5ECF6",
          "polar": {
           "angularaxis": {
            "gridcolor": "white",
            "linecolor": "white",
            "ticks": ""
           },
           "bgcolor": "#E5ECF6",
           "radialaxis": {
            "gridcolor": "white",
            "linecolor": "white",
            "ticks": ""
           }
          },
          "scene": {
           "xaxis": {
            "backgroundcolor": "#E5ECF6",
            "gridcolor": "white",
            "gridwidth": 2,
            "linecolor": "white",
            "showbackground": true,
            "ticks": "",
            "zerolinecolor": "white"
           },
           "yaxis": {
            "backgroundcolor": "#E5ECF6",
            "gridcolor": "white",
            "gridwidth": 2,
            "linecolor": "white",
            "showbackground": true,
            "ticks": "",
            "zerolinecolor": "white"
           },
           "zaxis": {
            "backgroundcolor": "#E5ECF6",
            "gridcolor": "white",
            "gridwidth": 2,
            "linecolor": "white",
            "showbackground": true,
            "ticks": "",
            "zerolinecolor": "white"
           }
          },
          "shapedefaults": {
           "line": {
            "color": "#2a3f5f"
           }
          },
          "ternary": {
           "aaxis": {
            "gridcolor": "white",
            "linecolor": "white",
            "ticks": ""
           },
           "baxis": {
            "gridcolor": "white",
            "linecolor": "white",
            "ticks": ""
           },
           "bgcolor": "#E5ECF6",
           "caxis": {
            "gridcolor": "white",
            "linecolor": "white",
            "ticks": ""
           }
          },
          "title": {
           "x": 0.05
          },
          "xaxis": {
           "automargin": true,
           "gridcolor": "white",
           "linecolor": "white",
           "ticks": "",
           "title": {
            "standoff": 15
           },
           "zerolinecolor": "white",
           "zerolinewidth": 2
          },
          "yaxis": {
           "automargin": true,
           "gridcolor": "white",
           "linecolor": "white",
           "ticks": "",
           "title": {
            "standoff": 15
           },
           "zerolinecolor": "white",
           "zerolinewidth": 2
          }
         }
        },
        "xaxis": {
         "anchor": "y",
         "domain": [
          0,
          1
         ],
         "title": {
          "text": "index"
         }
        },
        "yaxis": {
         "anchor": "x",
         "domain": [
          0,
          1
         ],
         "title": {
          "text": "value"
         }
        }
       }
      },
      "text/html": [
       "<div>                            <div id=\"a4150449-f713-4504-a8e1-5873ca857de3\" class=\"plotly-graph-div\" style=\"height:525px; width:100%;\"></div>            <script type=\"text/javascript\">                require([\"plotly\"], function(Plotly) {                    window.PLOTLYENV=window.PLOTLYENV || {};                                    if (document.getElementById(\"a4150449-f713-4504-a8e1-5873ca857de3\")) {                    Plotly.newPlot(                        \"a4150449-f713-4504-a8e1-5873ca857de3\",                        [{\"alignmentgroup\":\"True\",\"hovertemplate\":\"variable=BattingTeam<br>index=%{x}<br>value=%{y}<extra></extra>\",\"legendgroup\":\"BattingTeam\",\"marker\":{\"color\":\"#636efa\",\"pattern\":{\"shape\":\"\"}},\"name\":\"BattingTeam\",\"offsetgroup\":\"BattingTeam\",\"orientation\":\"v\",\"showlegend\":true,\"textposition\":\"auto\",\"x\":[\"Mumbai Indians\",\"Royal Challengers Bangalore\",\"Chennai Super Kings\",\"Rajasthan Royals\",\"Kings XI Punjab\",\"Sunrisers Hyderabad\",\"Kolkata Knight Riders\",\"Delhi Capitals\",\"Gujarat Titans\",\"Lucknow Super Giants\"],\"xaxis\":\"x\",\"y\":[3627,3369,2907,2558,2298,2172,1422,449,275,190],\"yaxis\":\"y\",\"type\":\"bar\"}],                        {\"template\":{\"data\":{\"histogram2dcontour\":[{\"type\":\"histogram2dcontour\",\"colorbar\":{\"outlinewidth\":0,\"ticks\":\"\"},\"colorscale\":[[0.0,\"#0d0887\"],[0.1111111111111111,\"#46039f\"],[0.2222222222222222,\"#7201a8\"],[0.3333333333333333,\"#9c179e\"],[0.4444444444444444,\"#bd3786\"],[0.5555555555555556,\"#d8576b\"],[0.6666666666666666,\"#ed7953\"],[0.7777777777777778,\"#fb9f3a\"],[0.8888888888888888,\"#fdca26\"],[1.0,\"#f0f921\"]]}],\"choropleth\":[{\"type\":\"choropleth\",\"colorbar\":{\"outlinewidth\":0,\"ticks\":\"\"}}],\"histogram2d\":[{\"type\":\"histogram2d\",\"colorbar\":{\"outlinewidth\":0,\"ticks\":\"\"},\"colorscale\":[[0.0,\"#0d0887\"],[0.1111111111111111,\"#46039f\"],[0.2222222222222222,\"#7201a8\"],[0.3333333333333333,\"#9c179e\"],[0.4444444444444444,\"#bd3786\"],[0.5555555555555556,\"#d8576b\"],[0.6666666666666666,\"#ed7953\"],[0.7777777777777778,\"#fb9f3a\"],[0.8888888888888888,\"#fdca26\"],[1.0,\"#f0f921\"]]}],\"heatmap\":[{\"type\":\"heatmap\",\"colorbar\":{\"outlinewidth\":0,\"ticks\":\"\"},\"colorscale\":[[0.0,\"#0d0887\"],[0.1111111111111111,\"#46039f\"],[0.2222222222222222,\"#7201a8\"],[0.3333333333333333,\"#9c179e\"],[0.4444444444444444,\"#bd3786\"],[0.5555555555555556,\"#d8576b\"],[0.6666666666666666,\"#ed7953\"],[0.7777777777777778,\"#fb9f3a\"],[0.8888888888888888,\"#fdca26\"],[1.0,\"#f0f921\"]]}],\"heatmapgl\":[{\"type\":\"heatmapgl\",\"colorbar\":{\"outlinewidth\":0,\"ticks\":\"\"},\"colorscale\":[[0.0,\"#0d0887\"],[0.1111111111111111,\"#46039f\"],[0.2222222222222222,\"#7201a8\"],[0.3333333333333333,\"#9c179e\"],[0.4444444444444444,\"#bd3786\"],[0.5555555555555556,\"#d8576b\"],[0.6666666666666666,\"#ed7953\"],[0.7777777777777778,\"#fb9f3a\"],[0.8888888888888888,\"#fdca26\"],[1.0,\"#f0f921\"]]}],\"contourcarpet\":[{\"type\":\"contourcarpet\",\"colorbar\":{\"outlinewidth\":0,\"ticks\":\"\"}}],\"contour\":[{\"type\":\"contour\",\"colorbar\":{\"outlinewidth\":0,\"ticks\":\"\"},\"colorscale\":[[0.0,\"#0d0887\"],[0.1111111111111111,\"#46039f\"],[0.2222222222222222,\"#7201a8\"],[0.3333333333333333,\"#9c179e\"],[0.4444444444444444,\"#bd3786\"],[0.5555555555555556,\"#d8576b\"],[0.6666666666666666,\"#ed7953\"],[0.7777777777777778,\"#fb9f3a\"],[0.8888888888888888,\"#fdca26\"],[1.0,\"#f0f921\"]]}],\"surface\":[{\"type\":\"surface\",\"colorbar\":{\"outlinewidth\":0,\"ticks\":\"\"},\"colorscale\":[[0.0,\"#0d0887\"],[0.1111111111111111,\"#46039f\"],[0.2222222222222222,\"#7201a8\"],[0.3333333333333333,\"#9c179e\"],[0.4444444444444444,\"#bd3786\"],[0.5555555555555556,\"#d8576b\"],[0.6666666666666666,\"#ed7953\"],[0.7777777777777778,\"#fb9f3a\"],[0.8888888888888888,\"#fdca26\"],[1.0,\"#f0f921\"]]}],\"mesh3d\":[{\"type\":\"mesh3d\",\"colorbar\":{\"outlinewidth\":0,\"ticks\":\"\"}}],\"scatter\":[{\"fillpattern\":{\"fillmode\":\"overlay\",\"size\":10,\"solidity\":0.2},\"type\":\"scatter\"}],\"parcoords\":[{\"type\":\"parcoords\",\"line\":{\"colorbar\":{\"outlinewidth\":0,\"ticks\":\"\"}}}],\"scatterpolargl\":[{\"type\":\"scatterpolargl\",\"marker\":{\"colorbar\":{\"outlinewidth\":0,\"ticks\":\"\"}}}],\"bar\":[{\"error_x\":{\"color\":\"#2a3f5f\"},\"error_y\":{\"color\":\"#2a3f5f\"},\"marker\":{\"line\":{\"color\":\"#E5ECF6\",\"width\":0.5},\"pattern\":{\"fillmode\":\"overlay\",\"size\":10,\"solidity\":0.2}},\"type\":\"bar\"}],\"scattergeo\":[{\"type\":\"scattergeo\",\"marker\":{\"colorbar\":{\"outlinewidth\":0,\"ticks\":\"\"}}}],\"scatterpolar\":[{\"type\":\"scatterpolar\",\"marker\":{\"colorbar\":{\"outlinewidth\":0,\"ticks\":\"\"}}}],\"histogram\":[{\"marker\":{\"pattern\":{\"fillmode\":\"overlay\",\"size\":10,\"solidity\":0.2}},\"type\":\"histogram\"}],\"scattergl\":[{\"type\":\"scattergl\",\"marker\":{\"colorbar\":{\"outlinewidth\":0,\"ticks\":\"\"}}}],\"scatter3d\":[{\"type\":\"scatter3d\",\"line\":{\"colorbar\":{\"outlinewidth\":0,\"ticks\":\"\"}},\"marker\":{\"colorbar\":{\"outlinewidth\":0,\"ticks\":\"\"}}}],\"scattermapbox\":[{\"type\":\"scattermapbox\",\"marker\":{\"colorbar\":{\"outlinewidth\":0,\"ticks\":\"\"}}}],\"scatterternary\":[{\"type\":\"scatterternary\",\"marker\":{\"colorbar\":{\"outlinewidth\":0,\"ticks\":\"\"}}}],\"scattercarpet\":[{\"type\":\"scattercarpet\",\"marker\":{\"colorbar\":{\"outlinewidth\":0,\"ticks\":\"\"}}}],\"carpet\":[{\"aaxis\":{\"endlinecolor\":\"#2a3f5f\",\"gridcolor\":\"white\",\"linecolor\":\"white\",\"minorgridcolor\":\"white\",\"startlinecolor\":\"#2a3f5f\"},\"baxis\":{\"endlinecolor\":\"#2a3f5f\",\"gridcolor\":\"white\",\"linecolor\":\"white\",\"minorgridcolor\":\"white\",\"startlinecolor\":\"#2a3f5f\"},\"type\":\"carpet\"}],\"table\":[{\"cells\":{\"fill\":{\"color\":\"#EBF0F8\"},\"line\":{\"color\":\"white\"}},\"header\":{\"fill\":{\"color\":\"#C8D4E3\"},\"line\":{\"color\":\"white\"}},\"type\":\"table\"}],\"barpolar\":[{\"marker\":{\"line\":{\"color\":\"#E5ECF6\",\"width\":0.5},\"pattern\":{\"fillmode\":\"overlay\",\"size\":10,\"solidity\":0.2}},\"type\":\"barpolar\"}],\"pie\":[{\"automargin\":true,\"type\":\"pie\"}]},\"layout\":{\"autotypenumbers\":\"strict\",\"colorway\":[\"#636efa\",\"#EF553B\",\"#00cc96\",\"#ab63fa\",\"#FFA15A\",\"#19d3f3\",\"#FF6692\",\"#B6E880\",\"#FF97FF\",\"#FECB52\"],\"font\":{\"color\":\"#2a3f5f\"},\"hovermode\":\"closest\",\"hoverlabel\":{\"align\":\"left\"},\"paper_bgcolor\":\"white\",\"plot_bgcolor\":\"#E5ECF6\",\"polar\":{\"bgcolor\":\"#E5ECF6\",\"angularaxis\":{\"gridcolor\":\"white\",\"linecolor\":\"white\",\"ticks\":\"\"},\"radialaxis\":{\"gridcolor\":\"white\",\"linecolor\":\"white\",\"ticks\":\"\"}},\"ternary\":{\"bgcolor\":\"#E5ECF6\",\"aaxis\":{\"gridcolor\":\"white\",\"linecolor\":\"white\",\"ticks\":\"\"},\"baxis\":{\"gridcolor\":\"white\",\"linecolor\":\"white\",\"ticks\":\"\"},\"caxis\":{\"gridcolor\":\"white\",\"linecolor\":\"white\",\"ticks\":\"\"}},\"coloraxis\":{\"colorbar\":{\"outlinewidth\":0,\"ticks\":\"\"}},\"colorscale\":{\"sequential\":[[0.0,\"#0d0887\"],[0.1111111111111111,\"#46039f\"],[0.2222222222222222,\"#7201a8\"],[0.3333333333333333,\"#9c179e\"],[0.4444444444444444,\"#bd3786\"],[0.5555555555555556,\"#d8576b\"],[0.6666666666666666,\"#ed7953\"],[0.7777777777777778,\"#fb9f3a\"],[0.8888888888888888,\"#fdca26\"],[1.0,\"#f0f921\"]],\"sequentialminus\":[[0.0,\"#0d0887\"],[0.1111111111111111,\"#46039f\"],[0.2222222222222222,\"#7201a8\"],[0.3333333333333333,\"#9c179e\"],[0.4444444444444444,\"#bd3786\"],[0.5555555555555556,\"#d8576b\"],[0.6666666666666666,\"#ed7953\"],[0.7777777777777778,\"#fb9f3a\"],[0.8888888888888888,\"#fdca26\"],[1.0,\"#f0f921\"]],\"diverging\":[[0,\"#8e0152\"],[0.1,\"#c51b7d\"],[0.2,\"#de77ae\"],[0.3,\"#f1b6da\"],[0.4,\"#fde0ef\"],[0.5,\"#f7f7f7\"],[0.6,\"#e6f5d0\"],[0.7,\"#b8e186\"],[0.8,\"#7fbc41\"],[0.9,\"#4d9221\"],[1,\"#276419\"]]},\"xaxis\":{\"gridcolor\":\"white\",\"linecolor\":\"white\",\"ticks\":\"\",\"title\":{\"standoff\":15},\"zerolinecolor\":\"white\",\"automargin\":true,\"zerolinewidth\":2},\"yaxis\":{\"gridcolor\":\"white\",\"linecolor\":\"white\",\"ticks\":\"\",\"title\":{\"standoff\":15},\"zerolinecolor\":\"white\",\"automargin\":true,\"zerolinewidth\":2},\"scene\":{\"xaxis\":{\"backgroundcolor\":\"#E5ECF6\",\"gridcolor\":\"white\",\"linecolor\":\"white\",\"showbackground\":true,\"ticks\":\"\",\"zerolinecolor\":\"white\",\"gridwidth\":2},\"yaxis\":{\"backgroundcolor\":\"#E5ECF6\",\"gridcolor\":\"white\",\"linecolor\":\"white\",\"showbackground\":true,\"ticks\":\"\",\"zerolinecolor\":\"white\",\"gridwidth\":2},\"zaxis\":{\"backgroundcolor\":\"#E5ECF6\",\"gridcolor\":\"white\",\"linecolor\":\"white\",\"showbackground\":true,\"ticks\":\"\",\"zerolinecolor\":\"white\",\"gridwidth\":2}},\"shapedefaults\":{\"line\":{\"color\":\"#2a3f5f\"}},\"annotationdefaults\":{\"arrowcolor\":\"#2a3f5f\",\"arrowhead\":0,\"arrowwidth\":1},\"geo\":{\"bgcolor\":\"white\",\"landcolor\":\"#E5ECF6\",\"subunitcolor\":\"white\",\"showland\":true,\"showlakes\":true,\"lakecolor\":\"white\"},\"title\":{\"x\":0.05},\"mapbox\":{\"style\":\"light\"}}},\"xaxis\":{\"anchor\":\"y\",\"domain\":[0.0,1.0],\"title\":{\"text\":\"index\"}},\"yaxis\":{\"anchor\":\"x\",\"domain\":[0.0,1.0],\"title\":{\"text\":\"value\"}},\"legend\":{\"title\":{\"text\":\"variable\"},\"tracegroupgap\":0},\"margin\":{\"t\":60},\"barmode\":\"relative\"},                        {\"responsive\": true}                    ).then(function(){\n",
       "                            \n",
       "var gd = document.getElementById('a4150449-f713-4504-a8e1-5873ca857de3');\n",
       "var x = new MutationObserver(function (mutations, observer) {{\n",
       "        var display = window.getComputedStyle(gd).display;\n",
       "        if (!display || display === 'none') {{\n",
       "            console.log([gd, 'removed!']);\n",
       "            Plotly.purge(gd);\n",
       "            observer.disconnect();\n",
       "        }}\n",
       "}});\n",
       "\n",
       "// Listen for the removal of the full notebook cells\n",
       "var notebookContainer = gd.closest('#notebook-container');\n",
       "if (notebookContainer) {{\n",
       "    x.observe(notebookContainer, {childList: true});\n",
       "}}\n",
       "\n",
       "// Listen for the clearing of the current output cell\n",
       "var outputEl = gd.closest('.output');\n",
       "if (outputEl) {{\n",
       "    x.observe(outputEl, {childList: true});\n",
       "}}\n",
       "\n",
       "                        })                };                });            </script>        </div>"
      ]
     },
     "metadata": {},
     "output_type": "display_data"
    }
   ],
   "source": [
    "fig = px.bar(df['BattingTeam'].value_counts())\n",
    "fig.show()"
   ]
  },
  {
   "cell_type": "code",
   "execution_count": 116,
   "metadata": {},
   "outputs": [
    {
     "data": {
      "application/vnd.plotly.v1+json": {
       "config": {
        "plotlyServerURL": "https://plot.ly"
       },
       "data": [
        {
         "alignmentgroup": "True",
         "hovertemplate": "variable=Venue<br>index=%{x}<br>value=%{y}<extra></extra>",
         "legendgroup": "Venue",
         "marker": {
          "color": "#636efa",
          "pattern": {
           "shape": ""
          }
         },
         "name": "Venue",
         "offsetgroup": "Venue",
         "orientation": "v",
         "showlegend": true,
         "textposition": "auto",
         "type": "bar",
         "x": [
          "Wankhede Stadium",
          "M Chinnaswamy Stadium",
          "Sawai Mansingh Stadium",
          "MA Chidambaram Stadium, Chepauk",
          "Rajiv Gandhi International Stadium, Uppal",
          "Dr DY Patil Sports Academy, Mumbai",
          "Punjab Cricket Association IS Bindra Stadium",
          "Arun Jaitley Stadium",
          "Narendra Modi Stadium, Ahmedabad",
          "Eden Gardens, Kolkata"
         ],
         "xaxis": "x",
         "y": [
          4591,
          3485,
          3036,
          2965,
          1811,
          1441,
          807,
          615,
          323,
          193
         ],
         "yaxis": "y"
        }
       ],
       "layout": {
        "barmode": "relative",
        "legend": {
         "title": {
          "text": "variable"
         },
         "tracegroupgap": 0
        },
        "margin": {
         "t": 60
        },
        "template": {
         "data": {
          "bar": [
           {
            "error_x": {
             "color": "#2a3f5f"
            },
            "error_y": {
             "color": "#2a3f5f"
            },
            "marker": {
             "line": {
              "color": "#E5ECF6",
              "width": 0.5
             },
             "pattern": {
              "fillmode": "overlay",
              "size": 10,
              "solidity": 0.2
             }
            },
            "type": "bar"
           }
          ],
          "barpolar": [
           {
            "marker": {
             "line": {
              "color": "#E5ECF6",
              "width": 0.5
             },
             "pattern": {
              "fillmode": "overlay",
              "size": 10,
              "solidity": 0.2
             }
            },
            "type": "barpolar"
           }
          ],
          "carpet": [
           {
            "aaxis": {
             "endlinecolor": "#2a3f5f",
             "gridcolor": "white",
             "linecolor": "white",
             "minorgridcolor": "white",
             "startlinecolor": "#2a3f5f"
            },
            "baxis": {
             "endlinecolor": "#2a3f5f",
             "gridcolor": "white",
             "linecolor": "white",
             "minorgridcolor": "white",
             "startlinecolor": "#2a3f5f"
            },
            "type": "carpet"
           }
          ],
          "choropleth": [
           {
            "colorbar": {
             "outlinewidth": 0,
             "ticks": ""
            },
            "type": "choropleth"
           }
          ],
          "contour": [
           {
            "colorbar": {
             "outlinewidth": 0,
             "ticks": ""
            },
            "colorscale": [
             [
              0,
              "#0d0887"
             ],
             [
              0.1111111111111111,
              "#46039f"
             ],
             [
              0.2222222222222222,
              "#7201a8"
             ],
             [
              0.3333333333333333,
              "#9c179e"
             ],
             [
              0.4444444444444444,
              "#bd3786"
             ],
             [
              0.5555555555555556,
              "#d8576b"
             ],
             [
              0.6666666666666666,
              "#ed7953"
             ],
             [
              0.7777777777777778,
              "#fb9f3a"
             ],
             [
              0.8888888888888888,
              "#fdca26"
             ],
             [
              1,
              "#f0f921"
             ]
            ],
            "type": "contour"
           }
          ],
          "contourcarpet": [
           {
            "colorbar": {
             "outlinewidth": 0,
             "ticks": ""
            },
            "type": "contourcarpet"
           }
          ],
          "heatmap": [
           {
            "colorbar": {
             "outlinewidth": 0,
             "ticks": ""
            },
            "colorscale": [
             [
              0,
              "#0d0887"
             ],
             [
              0.1111111111111111,
              "#46039f"
             ],
             [
              0.2222222222222222,
              "#7201a8"
             ],
             [
              0.3333333333333333,
              "#9c179e"
             ],
             [
              0.4444444444444444,
              "#bd3786"
             ],
             [
              0.5555555555555556,
              "#d8576b"
             ],
             [
              0.6666666666666666,
              "#ed7953"
             ],
             [
              0.7777777777777778,
              "#fb9f3a"
             ],
             [
              0.8888888888888888,
              "#fdca26"
             ],
             [
              1,
              "#f0f921"
             ]
            ],
            "type": "heatmap"
           }
          ],
          "heatmapgl": [
           {
            "colorbar": {
             "outlinewidth": 0,
             "ticks": ""
            },
            "colorscale": [
             [
              0,
              "#0d0887"
             ],
             [
              0.1111111111111111,
              "#46039f"
             ],
             [
              0.2222222222222222,
              "#7201a8"
             ],
             [
              0.3333333333333333,
              "#9c179e"
             ],
             [
              0.4444444444444444,
              "#bd3786"
             ],
             [
              0.5555555555555556,
              "#d8576b"
             ],
             [
              0.6666666666666666,
              "#ed7953"
             ],
             [
              0.7777777777777778,
              "#fb9f3a"
             ],
             [
              0.8888888888888888,
              "#fdca26"
             ],
             [
              1,
              "#f0f921"
             ]
            ],
            "type": "heatmapgl"
           }
          ],
          "histogram": [
           {
            "marker": {
             "pattern": {
              "fillmode": "overlay",
              "size": 10,
              "solidity": 0.2
             }
            },
            "type": "histogram"
           }
          ],
          "histogram2d": [
           {
            "colorbar": {
             "outlinewidth": 0,
             "ticks": ""
            },
            "colorscale": [
             [
              0,
              "#0d0887"
             ],
             [
              0.1111111111111111,
              "#46039f"
             ],
             [
              0.2222222222222222,
              "#7201a8"
             ],
             [
              0.3333333333333333,
              "#9c179e"
             ],
             [
              0.4444444444444444,
              "#bd3786"
             ],
             [
              0.5555555555555556,
              "#d8576b"
             ],
             [
              0.6666666666666666,
              "#ed7953"
             ],
             [
              0.7777777777777778,
              "#fb9f3a"
             ],
             [
              0.8888888888888888,
              "#fdca26"
             ],
             [
              1,
              "#f0f921"
             ]
            ],
            "type": "histogram2d"
           }
          ],
          "histogram2dcontour": [
           {
            "colorbar": {
             "outlinewidth": 0,
             "ticks": ""
            },
            "colorscale": [
             [
              0,
              "#0d0887"
             ],
             [
              0.1111111111111111,
              "#46039f"
             ],
             [
              0.2222222222222222,
              "#7201a8"
             ],
             [
              0.3333333333333333,
              "#9c179e"
             ],
             [
              0.4444444444444444,
              "#bd3786"
             ],
             [
              0.5555555555555556,
              "#d8576b"
             ],
             [
              0.6666666666666666,
              "#ed7953"
             ],
             [
              0.7777777777777778,
              "#fb9f3a"
             ],
             [
              0.8888888888888888,
              "#fdca26"
             ],
             [
              1,
              "#f0f921"
             ]
            ],
            "type": "histogram2dcontour"
           }
          ],
          "mesh3d": [
           {
            "colorbar": {
             "outlinewidth": 0,
             "ticks": ""
            },
            "type": "mesh3d"
           }
          ],
          "parcoords": [
           {
            "line": {
             "colorbar": {
              "outlinewidth": 0,
              "ticks": ""
             }
            },
            "type": "parcoords"
           }
          ],
          "pie": [
           {
            "automargin": true,
            "type": "pie"
           }
          ],
          "scatter": [
           {
            "fillpattern": {
             "fillmode": "overlay",
             "size": 10,
             "solidity": 0.2
            },
            "type": "scatter"
           }
          ],
          "scatter3d": [
           {
            "line": {
             "colorbar": {
              "outlinewidth": 0,
              "ticks": ""
             }
            },
            "marker": {
             "colorbar": {
              "outlinewidth": 0,
              "ticks": ""
             }
            },
            "type": "scatter3d"
           }
          ],
          "scattercarpet": [
           {
            "marker": {
             "colorbar": {
              "outlinewidth": 0,
              "ticks": ""
             }
            },
            "type": "scattercarpet"
           }
          ],
          "scattergeo": [
           {
            "marker": {
             "colorbar": {
              "outlinewidth": 0,
              "ticks": ""
             }
            },
            "type": "scattergeo"
           }
          ],
          "scattergl": [
           {
            "marker": {
             "colorbar": {
              "outlinewidth": 0,
              "ticks": ""
             }
            },
            "type": "scattergl"
           }
          ],
          "scattermapbox": [
           {
            "marker": {
             "colorbar": {
              "outlinewidth": 0,
              "ticks": ""
             }
            },
            "type": "scattermapbox"
           }
          ],
          "scatterpolar": [
           {
            "marker": {
             "colorbar": {
              "outlinewidth": 0,
              "ticks": ""
             }
            },
            "type": "scatterpolar"
           }
          ],
          "scatterpolargl": [
           {
            "marker": {
             "colorbar": {
              "outlinewidth": 0,
              "ticks": ""
             }
            },
            "type": "scatterpolargl"
           }
          ],
          "scatterternary": [
           {
            "marker": {
             "colorbar": {
              "outlinewidth": 0,
              "ticks": ""
             }
            },
            "type": "scatterternary"
           }
          ],
          "surface": [
           {
            "colorbar": {
             "outlinewidth": 0,
             "ticks": ""
            },
            "colorscale": [
             [
              0,
              "#0d0887"
             ],
             [
              0.1111111111111111,
              "#46039f"
             ],
             [
              0.2222222222222222,
              "#7201a8"
             ],
             [
              0.3333333333333333,
              "#9c179e"
             ],
             [
              0.4444444444444444,
              "#bd3786"
             ],
             [
              0.5555555555555556,
              "#d8576b"
             ],
             [
              0.6666666666666666,
              "#ed7953"
             ],
             [
              0.7777777777777778,
              "#fb9f3a"
             ],
             [
              0.8888888888888888,
              "#fdca26"
             ],
             [
              1,
              "#f0f921"
             ]
            ],
            "type": "surface"
           }
          ],
          "table": [
           {
            "cells": {
             "fill": {
              "color": "#EBF0F8"
             },
             "line": {
              "color": "white"
             }
            },
            "header": {
             "fill": {
              "color": "#C8D4E3"
             },
             "line": {
              "color": "white"
             }
            },
            "type": "table"
           }
          ]
         },
         "layout": {
          "annotationdefaults": {
           "arrowcolor": "#2a3f5f",
           "arrowhead": 0,
           "arrowwidth": 1
          },
          "autotypenumbers": "strict",
          "coloraxis": {
           "colorbar": {
            "outlinewidth": 0,
            "ticks": ""
           }
          },
          "colorscale": {
           "diverging": [
            [
             0,
             "#8e0152"
            ],
            [
             0.1,
             "#c51b7d"
            ],
            [
             0.2,
             "#de77ae"
            ],
            [
             0.3,
             "#f1b6da"
            ],
            [
             0.4,
             "#fde0ef"
            ],
            [
             0.5,
             "#f7f7f7"
            ],
            [
             0.6,
             "#e6f5d0"
            ],
            [
             0.7,
             "#b8e186"
            ],
            [
             0.8,
             "#7fbc41"
            ],
            [
             0.9,
             "#4d9221"
            ],
            [
             1,
             "#276419"
            ]
           ],
           "sequential": [
            [
             0,
             "#0d0887"
            ],
            [
             0.1111111111111111,
             "#46039f"
            ],
            [
             0.2222222222222222,
             "#7201a8"
            ],
            [
             0.3333333333333333,
             "#9c179e"
            ],
            [
             0.4444444444444444,
             "#bd3786"
            ],
            [
             0.5555555555555556,
             "#d8576b"
            ],
            [
             0.6666666666666666,
             "#ed7953"
            ],
            [
             0.7777777777777778,
             "#fb9f3a"
            ],
            [
             0.8888888888888888,
             "#fdca26"
            ],
            [
             1,
             "#f0f921"
            ]
           ],
           "sequentialminus": [
            [
             0,
             "#0d0887"
            ],
            [
             0.1111111111111111,
             "#46039f"
            ],
            [
             0.2222222222222222,
             "#7201a8"
            ],
            [
             0.3333333333333333,
             "#9c179e"
            ],
            [
             0.4444444444444444,
             "#bd3786"
            ],
            [
             0.5555555555555556,
             "#d8576b"
            ],
            [
             0.6666666666666666,
             "#ed7953"
            ],
            [
             0.7777777777777778,
             "#fb9f3a"
            ],
            [
             0.8888888888888888,
             "#fdca26"
            ],
            [
             1,
             "#f0f921"
            ]
           ]
          },
          "colorway": [
           "#636efa",
           "#EF553B",
           "#00cc96",
           "#ab63fa",
           "#FFA15A",
           "#19d3f3",
           "#FF6692",
           "#B6E880",
           "#FF97FF",
           "#FECB52"
          ],
          "font": {
           "color": "#2a3f5f"
          },
          "geo": {
           "bgcolor": "white",
           "lakecolor": "white",
           "landcolor": "#E5ECF6",
           "showlakes": true,
           "showland": true,
           "subunitcolor": "white"
          },
          "hoverlabel": {
           "align": "left"
          },
          "hovermode": "closest",
          "mapbox": {
           "style": "light"
          },
          "paper_bgcolor": "white",
          "plot_bgcolor": "#E5ECF6",
          "polar": {
           "angularaxis": {
            "gridcolor": "white",
            "linecolor": "white",
            "ticks": ""
           },
           "bgcolor": "#E5ECF6",
           "radialaxis": {
            "gridcolor": "white",
            "linecolor": "white",
            "ticks": ""
           }
          },
          "scene": {
           "xaxis": {
            "backgroundcolor": "#E5ECF6",
            "gridcolor": "white",
            "gridwidth": 2,
            "linecolor": "white",
            "showbackground": true,
            "ticks": "",
            "zerolinecolor": "white"
           },
           "yaxis": {
            "backgroundcolor": "#E5ECF6",
            "gridcolor": "white",
            "gridwidth": 2,
            "linecolor": "white",
            "showbackground": true,
            "ticks": "",
            "zerolinecolor": "white"
           },
           "zaxis": {
            "backgroundcolor": "#E5ECF6",
            "gridcolor": "white",
            "gridwidth": 2,
            "linecolor": "white",
            "showbackground": true,
            "ticks": "",
            "zerolinecolor": "white"
           }
          },
          "shapedefaults": {
           "line": {
            "color": "#2a3f5f"
           }
          },
          "ternary": {
           "aaxis": {
            "gridcolor": "white",
            "linecolor": "white",
            "ticks": ""
           },
           "baxis": {
            "gridcolor": "white",
            "linecolor": "white",
            "ticks": ""
           },
           "bgcolor": "#E5ECF6",
           "caxis": {
            "gridcolor": "white",
            "linecolor": "white",
            "ticks": ""
           }
          },
          "title": {
           "x": 0.05
          },
          "xaxis": {
           "automargin": true,
           "gridcolor": "white",
           "linecolor": "white",
           "ticks": "",
           "title": {
            "standoff": 15
           },
           "zerolinecolor": "white",
           "zerolinewidth": 2
          },
          "yaxis": {
           "automargin": true,
           "gridcolor": "white",
           "linecolor": "white",
           "ticks": "",
           "title": {
            "standoff": 15
           },
           "zerolinecolor": "white",
           "zerolinewidth": 2
          }
         }
        },
        "xaxis": {
         "anchor": "y",
         "domain": [
          0,
          1
         ],
         "title": {
          "text": "index"
         }
        },
        "yaxis": {
         "anchor": "x",
         "domain": [
          0,
          1
         ],
         "title": {
          "text": "value"
         }
        }
       }
      },
      "text/html": [
       "<div>                            <div id=\"454fd1d3-0949-4fc7-a14c-02989f3f56c0\" class=\"plotly-graph-div\" style=\"height:525px; width:100%;\"></div>            <script type=\"text/javascript\">                require([\"plotly\"], function(Plotly) {                    window.PLOTLYENV=window.PLOTLYENV || {};                                    if (document.getElementById(\"454fd1d3-0949-4fc7-a14c-02989f3f56c0\")) {                    Plotly.newPlot(                        \"454fd1d3-0949-4fc7-a14c-02989f3f56c0\",                        [{\"alignmentgroup\":\"True\",\"hovertemplate\":\"variable=Venue<br>index=%{x}<br>value=%{y}<extra></extra>\",\"legendgroup\":\"Venue\",\"marker\":{\"color\":\"#636efa\",\"pattern\":{\"shape\":\"\"}},\"name\":\"Venue\",\"offsetgroup\":\"Venue\",\"orientation\":\"v\",\"showlegend\":true,\"textposition\":\"auto\",\"x\":[\"Wankhede Stadium\",\"M Chinnaswamy Stadium\",\"Sawai Mansingh Stadium\",\"MA Chidambaram Stadium, Chepauk\",\"Rajiv Gandhi International Stadium, Uppal\",\"Dr DY Patil Sports Academy, Mumbai\",\"Punjab Cricket Association IS Bindra Stadium\",\"Arun Jaitley Stadium\",\"Narendra Modi Stadium, Ahmedabad\",\"Eden Gardens, Kolkata\"],\"xaxis\":\"x\",\"y\":[4591,3485,3036,2965,1811,1441,807,615,323,193],\"yaxis\":\"y\",\"type\":\"bar\"}],                        {\"template\":{\"data\":{\"histogram2dcontour\":[{\"type\":\"histogram2dcontour\",\"colorbar\":{\"outlinewidth\":0,\"ticks\":\"\"},\"colorscale\":[[0.0,\"#0d0887\"],[0.1111111111111111,\"#46039f\"],[0.2222222222222222,\"#7201a8\"],[0.3333333333333333,\"#9c179e\"],[0.4444444444444444,\"#bd3786\"],[0.5555555555555556,\"#d8576b\"],[0.6666666666666666,\"#ed7953\"],[0.7777777777777778,\"#fb9f3a\"],[0.8888888888888888,\"#fdca26\"],[1.0,\"#f0f921\"]]}],\"choropleth\":[{\"type\":\"choropleth\",\"colorbar\":{\"outlinewidth\":0,\"ticks\":\"\"}}],\"histogram2d\":[{\"type\":\"histogram2d\",\"colorbar\":{\"outlinewidth\":0,\"ticks\":\"\"},\"colorscale\":[[0.0,\"#0d0887\"],[0.1111111111111111,\"#46039f\"],[0.2222222222222222,\"#7201a8\"],[0.3333333333333333,\"#9c179e\"],[0.4444444444444444,\"#bd3786\"],[0.5555555555555556,\"#d8576b\"],[0.6666666666666666,\"#ed7953\"],[0.7777777777777778,\"#fb9f3a\"],[0.8888888888888888,\"#fdca26\"],[1.0,\"#f0f921\"]]}],\"heatmap\":[{\"type\":\"heatmap\",\"colorbar\":{\"outlinewidth\":0,\"ticks\":\"\"},\"colorscale\":[[0.0,\"#0d0887\"],[0.1111111111111111,\"#46039f\"],[0.2222222222222222,\"#7201a8\"],[0.3333333333333333,\"#9c179e\"],[0.4444444444444444,\"#bd3786\"],[0.5555555555555556,\"#d8576b\"],[0.6666666666666666,\"#ed7953\"],[0.7777777777777778,\"#fb9f3a\"],[0.8888888888888888,\"#fdca26\"],[1.0,\"#f0f921\"]]}],\"heatmapgl\":[{\"type\":\"heatmapgl\",\"colorbar\":{\"outlinewidth\":0,\"ticks\":\"\"},\"colorscale\":[[0.0,\"#0d0887\"],[0.1111111111111111,\"#46039f\"],[0.2222222222222222,\"#7201a8\"],[0.3333333333333333,\"#9c179e\"],[0.4444444444444444,\"#bd3786\"],[0.5555555555555556,\"#d8576b\"],[0.6666666666666666,\"#ed7953\"],[0.7777777777777778,\"#fb9f3a\"],[0.8888888888888888,\"#fdca26\"],[1.0,\"#f0f921\"]]}],\"contourcarpet\":[{\"type\":\"contourcarpet\",\"colorbar\":{\"outlinewidth\":0,\"ticks\":\"\"}}],\"contour\":[{\"type\":\"contour\",\"colorbar\":{\"outlinewidth\":0,\"ticks\":\"\"},\"colorscale\":[[0.0,\"#0d0887\"],[0.1111111111111111,\"#46039f\"],[0.2222222222222222,\"#7201a8\"],[0.3333333333333333,\"#9c179e\"],[0.4444444444444444,\"#bd3786\"],[0.5555555555555556,\"#d8576b\"],[0.6666666666666666,\"#ed7953\"],[0.7777777777777778,\"#fb9f3a\"],[0.8888888888888888,\"#fdca26\"],[1.0,\"#f0f921\"]]}],\"surface\":[{\"type\":\"surface\",\"colorbar\":{\"outlinewidth\":0,\"ticks\":\"\"},\"colorscale\":[[0.0,\"#0d0887\"],[0.1111111111111111,\"#46039f\"],[0.2222222222222222,\"#7201a8\"],[0.3333333333333333,\"#9c179e\"],[0.4444444444444444,\"#bd3786\"],[0.5555555555555556,\"#d8576b\"],[0.6666666666666666,\"#ed7953\"],[0.7777777777777778,\"#fb9f3a\"],[0.8888888888888888,\"#fdca26\"],[1.0,\"#f0f921\"]]}],\"mesh3d\":[{\"type\":\"mesh3d\",\"colorbar\":{\"outlinewidth\":0,\"ticks\":\"\"}}],\"scatter\":[{\"fillpattern\":{\"fillmode\":\"overlay\",\"size\":10,\"solidity\":0.2},\"type\":\"scatter\"}],\"parcoords\":[{\"type\":\"parcoords\",\"line\":{\"colorbar\":{\"outlinewidth\":0,\"ticks\":\"\"}}}],\"scatterpolargl\":[{\"type\":\"scatterpolargl\",\"marker\":{\"colorbar\":{\"outlinewidth\":0,\"ticks\":\"\"}}}],\"bar\":[{\"error_x\":{\"color\":\"#2a3f5f\"},\"error_y\":{\"color\":\"#2a3f5f\"},\"marker\":{\"line\":{\"color\":\"#E5ECF6\",\"width\":0.5},\"pattern\":{\"fillmode\":\"overlay\",\"size\":10,\"solidity\":0.2}},\"type\":\"bar\"}],\"scattergeo\":[{\"type\":\"scattergeo\",\"marker\":{\"colorbar\":{\"outlinewidth\":0,\"ticks\":\"\"}}}],\"scatterpolar\":[{\"type\":\"scatterpolar\",\"marker\":{\"colorbar\":{\"outlinewidth\":0,\"ticks\":\"\"}}}],\"histogram\":[{\"marker\":{\"pattern\":{\"fillmode\":\"overlay\",\"size\":10,\"solidity\":0.2}},\"type\":\"histogram\"}],\"scattergl\":[{\"type\":\"scattergl\",\"marker\":{\"colorbar\":{\"outlinewidth\":0,\"ticks\":\"\"}}}],\"scatter3d\":[{\"type\":\"scatter3d\",\"line\":{\"colorbar\":{\"outlinewidth\":0,\"ticks\":\"\"}},\"marker\":{\"colorbar\":{\"outlinewidth\":0,\"ticks\":\"\"}}}],\"scattermapbox\":[{\"type\":\"scattermapbox\",\"marker\":{\"colorbar\":{\"outlinewidth\":0,\"ticks\":\"\"}}}],\"scatterternary\":[{\"type\":\"scatterternary\",\"marker\":{\"colorbar\":{\"outlinewidth\":0,\"ticks\":\"\"}}}],\"scattercarpet\":[{\"type\":\"scattercarpet\",\"marker\":{\"colorbar\":{\"outlinewidth\":0,\"ticks\":\"\"}}}],\"carpet\":[{\"aaxis\":{\"endlinecolor\":\"#2a3f5f\",\"gridcolor\":\"white\",\"linecolor\":\"white\",\"minorgridcolor\":\"white\",\"startlinecolor\":\"#2a3f5f\"},\"baxis\":{\"endlinecolor\":\"#2a3f5f\",\"gridcolor\":\"white\",\"linecolor\":\"white\",\"minorgridcolor\":\"white\",\"startlinecolor\":\"#2a3f5f\"},\"type\":\"carpet\"}],\"table\":[{\"cells\":{\"fill\":{\"color\":\"#EBF0F8\"},\"line\":{\"color\":\"white\"}},\"header\":{\"fill\":{\"color\":\"#C8D4E3\"},\"line\":{\"color\":\"white\"}},\"type\":\"table\"}],\"barpolar\":[{\"marker\":{\"line\":{\"color\":\"#E5ECF6\",\"width\":0.5},\"pattern\":{\"fillmode\":\"overlay\",\"size\":10,\"solidity\":0.2}},\"type\":\"barpolar\"}],\"pie\":[{\"automargin\":true,\"type\":\"pie\"}]},\"layout\":{\"autotypenumbers\":\"strict\",\"colorway\":[\"#636efa\",\"#EF553B\",\"#00cc96\",\"#ab63fa\",\"#FFA15A\",\"#19d3f3\",\"#FF6692\",\"#B6E880\",\"#FF97FF\",\"#FECB52\"],\"font\":{\"color\":\"#2a3f5f\"},\"hovermode\":\"closest\",\"hoverlabel\":{\"align\":\"left\"},\"paper_bgcolor\":\"white\",\"plot_bgcolor\":\"#E5ECF6\",\"polar\":{\"bgcolor\":\"#E5ECF6\",\"angularaxis\":{\"gridcolor\":\"white\",\"linecolor\":\"white\",\"ticks\":\"\"},\"radialaxis\":{\"gridcolor\":\"white\",\"linecolor\":\"white\",\"ticks\":\"\"}},\"ternary\":{\"bgcolor\":\"#E5ECF6\",\"aaxis\":{\"gridcolor\":\"white\",\"linecolor\":\"white\",\"ticks\":\"\"},\"baxis\":{\"gridcolor\":\"white\",\"linecolor\":\"white\",\"ticks\":\"\"},\"caxis\":{\"gridcolor\":\"white\",\"linecolor\":\"white\",\"ticks\":\"\"}},\"coloraxis\":{\"colorbar\":{\"outlinewidth\":0,\"ticks\":\"\"}},\"colorscale\":{\"sequential\":[[0.0,\"#0d0887\"],[0.1111111111111111,\"#46039f\"],[0.2222222222222222,\"#7201a8\"],[0.3333333333333333,\"#9c179e\"],[0.4444444444444444,\"#bd3786\"],[0.5555555555555556,\"#d8576b\"],[0.6666666666666666,\"#ed7953\"],[0.7777777777777778,\"#fb9f3a\"],[0.8888888888888888,\"#fdca26\"],[1.0,\"#f0f921\"]],\"sequentialminus\":[[0.0,\"#0d0887\"],[0.1111111111111111,\"#46039f\"],[0.2222222222222222,\"#7201a8\"],[0.3333333333333333,\"#9c179e\"],[0.4444444444444444,\"#bd3786\"],[0.5555555555555556,\"#d8576b\"],[0.6666666666666666,\"#ed7953\"],[0.7777777777777778,\"#fb9f3a\"],[0.8888888888888888,\"#fdca26\"],[1.0,\"#f0f921\"]],\"diverging\":[[0,\"#8e0152\"],[0.1,\"#c51b7d\"],[0.2,\"#de77ae\"],[0.3,\"#f1b6da\"],[0.4,\"#fde0ef\"],[0.5,\"#f7f7f7\"],[0.6,\"#e6f5d0\"],[0.7,\"#b8e186\"],[0.8,\"#7fbc41\"],[0.9,\"#4d9221\"],[1,\"#276419\"]]},\"xaxis\":{\"gridcolor\":\"white\",\"linecolor\":\"white\",\"ticks\":\"\",\"title\":{\"standoff\":15},\"zerolinecolor\":\"white\",\"automargin\":true,\"zerolinewidth\":2},\"yaxis\":{\"gridcolor\":\"white\",\"linecolor\":\"white\",\"ticks\":\"\",\"title\":{\"standoff\":15},\"zerolinecolor\":\"white\",\"automargin\":true,\"zerolinewidth\":2},\"scene\":{\"xaxis\":{\"backgroundcolor\":\"#E5ECF6\",\"gridcolor\":\"white\",\"linecolor\":\"white\",\"showbackground\":true,\"ticks\":\"\",\"zerolinecolor\":\"white\",\"gridwidth\":2},\"yaxis\":{\"backgroundcolor\":\"#E5ECF6\",\"gridcolor\":\"white\",\"linecolor\":\"white\",\"showbackground\":true,\"ticks\":\"\",\"zerolinecolor\":\"white\",\"gridwidth\":2},\"zaxis\":{\"backgroundcolor\":\"#E5ECF6\",\"gridcolor\":\"white\",\"linecolor\":\"white\",\"showbackground\":true,\"ticks\":\"\",\"zerolinecolor\":\"white\",\"gridwidth\":2}},\"shapedefaults\":{\"line\":{\"color\":\"#2a3f5f\"}},\"annotationdefaults\":{\"arrowcolor\":\"#2a3f5f\",\"arrowhead\":0,\"arrowwidth\":1},\"geo\":{\"bgcolor\":\"white\",\"landcolor\":\"#E5ECF6\",\"subunitcolor\":\"white\",\"showland\":true,\"showlakes\":true,\"lakecolor\":\"white\"},\"title\":{\"x\":0.05},\"mapbox\":{\"style\":\"light\"}}},\"xaxis\":{\"anchor\":\"y\",\"domain\":[0.0,1.0],\"title\":{\"text\":\"index\"}},\"yaxis\":{\"anchor\":\"x\",\"domain\":[0.0,1.0],\"title\":{\"text\":\"value\"}},\"legend\":{\"title\":{\"text\":\"variable\"},\"tracegroupgap\":0},\"margin\":{\"t\":60},\"barmode\":\"relative\"},                        {\"responsive\": true}                    ).then(function(){\n",
       "                            \n",
       "var gd = document.getElementById('454fd1d3-0949-4fc7-a14c-02989f3f56c0');\n",
       "var x = new MutationObserver(function (mutations, observer) {{\n",
       "        var display = window.getComputedStyle(gd).display;\n",
       "        if (!display || display === 'none') {{\n",
       "            console.log([gd, 'removed!']);\n",
       "            Plotly.purge(gd);\n",
       "            observer.disconnect();\n",
       "        }}\n",
       "}});\n",
       "\n",
       "// Listen for the removal of the full notebook cells\n",
       "var notebookContainer = gd.closest('#notebook-container');\n",
       "if (notebookContainer) {{\n",
       "    x.observe(notebookContainer, {childList: true});\n",
       "}}\n",
       "\n",
       "// Listen for the clearing of the current output cell\n",
       "var outputEl = gd.closest('.output');\n",
       "if (outputEl) {{\n",
       "    x.observe(outputEl, {childList: true});\n",
       "}}\n",
       "\n",
       "                        })                };                });            </script>        </div>"
      ]
     },
     "metadata": {},
     "output_type": "display_data"
    }
   ],
   "source": [
    "fig = px.bar(df['Venue'].value_counts())\n",
    "fig.show()"
   ]
  },
  {
   "cell_type": "code",
   "execution_count": 117,
   "metadata": {},
   "outputs": [
    {
     "data": {
      "text/html": [
       "<div>\n",
       "<style scoped>\n",
       "    .dataframe tbody tr th:only-of-type {\n",
       "        vertical-align: middle;\n",
       "    }\n",
       "\n",
       "    .dataframe tbody tr th {\n",
       "        vertical-align: top;\n",
       "    }\n",
       "\n",
       "    .dataframe thead th {\n",
       "        text-align: right;\n",
       "    }\n",
       "</style>\n",
       "<table border=\"1\" class=\"dataframe\">\n",
       "  <thead>\n",
       "    <tr style=\"text-align: right;\">\n",
       "      <th></th>\n",
       "      <th>First_Innings_total_score</th>\n",
       "      <th>Overs</th>\n",
       "      <th>current_score</th>\n",
       "      <th>wickets_left</th>\n",
       "      <th>current_run_rate</th>\n",
       "      <th>required_run_rate</th>\n",
       "      <th>Second_Innings_Total_score</th>\n",
       "    </tr>\n",
       "  </thead>\n",
       "  <tbody>\n",
       "    <tr>\n",
       "      <th>count</th>\n",
       "      <td>19267.000000</td>\n",
       "      <td>19267.000000</td>\n",
       "      <td>19267.000000</td>\n",
       "      <td>19267.000000</td>\n",
       "      <td>19267.000000</td>\n",
       "      <td>19267.000000</td>\n",
       "      <td>19267.000000</td>\n",
       "    </tr>\n",
       "    <tr>\n",
       "      <th>mean</th>\n",
       "      <td>168.368921</td>\n",
       "      <td>11.902990</td>\n",
       "      <td>55.887061</td>\n",
       "      <td>7.981004</td>\n",
       "      <td>4.109130</td>\n",
       "      <td>7.914548</td>\n",
       "      <td>156.084341</td>\n",
       "    </tr>\n",
       "    <tr>\n",
       "      <th>std</th>\n",
       "      <td>27.816793</td>\n",
       "      <td>4.155258</td>\n",
       "      <td>36.268119</td>\n",
       "      <td>1.934743</td>\n",
       "      <td>1.796858</td>\n",
       "      <td>3.292233</td>\n",
       "      <td>26.307704</td>\n",
       "    </tr>\n",
       "    <tr>\n",
       "      <th>min</th>\n",
       "      <td>67.000000</td>\n",
       "      <td>5.100000</td>\n",
       "      <td>0.000000</td>\n",
       "      <td>0.000000</td>\n",
       "      <td>0.000000</td>\n",
       "      <td>0.000000</td>\n",
       "      <td>48.000000</td>\n",
       "    </tr>\n",
       "    <tr>\n",
       "      <th>25%</th>\n",
       "      <td>151.000000</td>\n",
       "      <td>8.300000</td>\n",
       "      <td>26.000000</td>\n",
       "      <td>7.000000</td>\n",
       "      <td>2.913025</td>\n",
       "      <td>6.114296</td>\n",
       "      <td>140.000000</td>\n",
       "    </tr>\n",
       "    <tr>\n",
       "      <th>50%</th>\n",
       "      <td>166.000000</td>\n",
       "      <td>11.600000</td>\n",
       "      <td>52.000000</td>\n",
       "      <td>8.000000</td>\n",
       "      <td>4.252427</td>\n",
       "      <td>8.000000</td>\n",
       "      <td>159.000000</td>\n",
       "    </tr>\n",
       "    <tr>\n",
       "      <th>75%</th>\n",
       "      <td>187.000000</td>\n",
       "      <td>15.400000</td>\n",
       "      <td>82.000000</td>\n",
       "      <td>10.000000</td>\n",
       "      <td>5.372093</td>\n",
       "      <td>9.545455</td>\n",
       "      <td>171.000000</td>\n",
       "    </tr>\n",
       "    <tr>\n",
       "      <th>max</th>\n",
       "      <td>246.000000</td>\n",
       "      <td>19.800000</td>\n",
       "      <td>176.000000</td>\n",
       "      <td>10.000000</td>\n",
       "      <td>9.136364</td>\n",
       "      <td>60.000000</td>\n",
       "      <td>223.000000</td>\n",
       "    </tr>\n",
       "  </tbody>\n",
       "</table>\n",
       "</div>"
      ],
      "text/plain": [
       "       First_Innings_total_score         Overs  current_score  wickets_left  \\\n",
       "count               19267.000000  19267.000000   19267.000000  19267.000000   \n",
       "mean                  168.368921     11.902990      55.887061      7.981004   \n",
       "std                    27.816793      4.155258      36.268119      1.934743   \n",
       "min                    67.000000      5.100000       0.000000      0.000000   \n",
       "25%                   151.000000      8.300000      26.000000      7.000000   \n",
       "50%                   166.000000     11.600000      52.000000      8.000000   \n",
       "75%                   187.000000     15.400000      82.000000     10.000000   \n",
       "max                   246.000000     19.800000     176.000000     10.000000   \n",
       "\n",
       "       current_run_rate  required_run_rate  Second_Innings_Total_score  \n",
       "count      19267.000000       19267.000000                19267.000000  \n",
       "mean           4.109130           7.914548                  156.084341  \n",
       "std            1.796858           3.292233                   26.307704  \n",
       "min            0.000000           0.000000                   48.000000  \n",
       "25%            2.913025           6.114296                  140.000000  \n",
       "50%            4.252427           8.000000                  159.000000  \n",
       "75%            5.372093           9.545455                  171.000000  \n",
       "max            9.136364          60.000000                  223.000000  "
      ]
     },
     "execution_count": 117,
     "metadata": {},
     "output_type": "execute_result"
    }
   ],
   "source": [
    "df.describe()"
   ]
  },
  {
   "cell_type": "code",
   "execution_count": 118,
   "metadata": {},
   "outputs": [
    {
     "data": {
      "text/plain": [
       "TossWinner                    0\n",
       "TossDecision                  0\n",
       "BattingTeam                   0\n",
       "BowlingTeam                   0\n",
       "batter                        0\n",
       "non-striker                   0\n",
       "bowler                        0\n",
       "First_Innings_total_score     0\n",
       "Venue                         0\n",
       "Overs                         0\n",
       "current_score                 0\n",
       "wickets_left                  0\n",
       "current_run_rate              0\n",
       "required_run_rate             0\n",
       "Second_Innings_Total_score    0\n",
       "dtype: int64"
      ]
     },
     "execution_count": 118,
     "metadata": {},
     "output_type": "execute_result"
    }
   ],
   "source": [
    "df.isna().sum()"
   ]
  },
  {
   "cell_type": "code",
   "execution_count": 119,
   "metadata": {
    "scrolled": true
   },
   "outputs": [
    {
     "data": {
      "text/html": [
       "<div>\n",
       "<style scoped>\n",
       "    .dataframe tbody tr th:only-of-type {\n",
       "        vertical-align: middle;\n",
       "    }\n",
       "\n",
       "    .dataframe tbody tr th {\n",
       "        vertical-align: top;\n",
       "    }\n",
       "\n",
       "    .dataframe thead th {\n",
       "        text-align: right;\n",
       "    }\n",
       "</style>\n",
       "<table border=\"1\" class=\"dataframe\">\n",
       "  <thead>\n",
       "    <tr style=\"text-align: right;\">\n",
       "      <th></th>\n",
       "      <th>TossWinner</th>\n",
       "      <th>TossDecision</th>\n",
       "      <th>BattingTeam</th>\n",
       "      <th>BowlingTeam</th>\n",
       "      <th>batter</th>\n",
       "      <th>non-striker</th>\n",
       "      <th>bowler</th>\n",
       "      <th>First_Innings_total_score</th>\n",
       "      <th>Venue</th>\n",
       "      <th>Overs</th>\n",
       "      <th>current_score</th>\n",
       "      <th>wickets_left</th>\n",
       "      <th>current_run_rate</th>\n",
       "      <th>required_run_rate</th>\n",
       "      <th>Second_Innings_Total_score</th>\n",
       "    </tr>\n",
       "  </thead>\n",
       "  <tbody>\n",
       "    <tr>\n",
       "      <th>72923</th>\n",
       "      <td>Chennai Super Kings</td>\n",
       "      <td>field</td>\n",
       "      <td>Kings XI Punjab</td>\n",
       "      <td>Chennai Super Kings</td>\n",
       "      <td>MS Dhoni</td>\n",
       "      <td>DJ Bravo</td>\n",
       "      <td>MM Sharma</td>\n",
       "      <td>197</td>\n",
       "      <td>Punjab Cricket Association IS Bindra Stadium</td>\n",
       "      <td>19.3</td>\n",
       "      <td>137</td>\n",
       "      <td>7</td>\n",
       "      <td>7.025641</td>\n",
       "      <td>20.000000</td>\n",
       "      <td>193</td>\n",
       "    </tr>\n",
       "    <tr>\n",
       "      <th>141010</th>\n",
       "      <td>Sunrisers Hyderabad</td>\n",
       "      <td>bat</td>\n",
       "      <td>Sunrisers Hyderabad</td>\n",
       "      <td>Rajasthan Royals</td>\n",
       "      <td>SR Watson</td>\n",
       "      <td>STR Binny</td>\n",
       "      <td>I Sharma</td>\n",
       "      <td>144</td>\n",
       "      <td>Sawai Mansingh Stadium</td>\n",
       "      <td>14.2</td>\n",
       "      <td>76</td>\n",
       "      <td>9</td>\n",
       "      <td>5.302326</td>\n",
       "      <td>8.647059</td>\n",
       "      <td>146</td>\n",
       "    </tr>\n",
       "    <tr>\n",
       "      <th>170635</th>\n",
       "      <td>Royal Challengers Bangalore</td>\n",
       "      <td>field</td>\n",
       "      <td>Kolkata Knight Riders</td>\n",
       "      <td>Royal Challengers Bangalore</td>\n",
       "      <td>AB de Villiers</td>\n",
       "      <td>M Kaif</td>\n",
       "      <td>Iqbal Abdulla</td>\n",
       "      <td>89</td>\n",
       "      <td>M Chinnaswamy Stadium</td>\n",
       "      <td>8.6</td>\n",
       "      <td>27</td>\n",
       "      <td>8</td>\n",
       "      <td>3.000000</td>\n",
       "      <td>1.818182</td>\n",
       "      <td>105</td>\n",
       "    </tr>\n",
       "    <tr>\n",
       "      <th>108122</th>\n",
       "      <td>Kings XI Punjab</td>\n",
       "      <td>field</td>\n",
       "      <td>Royal Challengers Bangalore</td>\n",
       "      <td>Kings XI Punjab</td>\n",
       "      <td>Anureet Singh</td>\n",
       "      <td>AR Patel</td>\n",
       "      <td>MA Starc</td>\n",
       "      <td>226</td>\n",
       "      <td>M Chinnaswamy Stadium</td>\n",
       "      <td>8.4</td>\n",
       "      <td>20</td>\n",
       "      <td>6</td>\n",
       "      <td>2.307692</td>\n",
       "      <td>3.441176</td>\n",
       "      <td>88</td>\n",
       "    </tr>\n",
       "    <tr>\n",
       "      <th>146769</th>\n",
       "      <td>Royal Challengers Bangalore</td>\n",
       "      <td>field</td>\n",
       "      <td>Kolkata Knight Riders</td>\n",
       "      <td>Royal Challengers Bangalore</td>\n",
       "      <td>AB de Villiers</td>\n",
       "      <td>CH Gayle</td>\n",
       "      <td>PJ Sangwan</td>\n",
       "      <td>154</td>\n",
       "      <td>M Chinnaswamy Stadium</td>\n",
       "      <td>10.2</td>\n",
       "      <td>60</td>\n",
       "      <td>9</td>\n",
       "      <td>5.806452</td>\n",
       "      <td>7.965517</td>\n",
       "      <td>158</td>\n",
       "    </tr>\n",
       "    <tr>\n",
       "      <th>...</th>\n",
       "      <td>...</td>\n",
       "      <td>...</td>\n",
       "      <td>...</td>\n",
       "      <td>...</td>\n",
       "      <td>...</td>\n",
       "      <td>...</td>\n",
       "      <td>...</td>\n",
       "      <td>...</td>\n",
       "      <td>...</td>\n",
       "      <td>...</td>\n",
       "      <td>...</td>\n",
       "      <td>...</td>\n",
       "      <td>...</td>\n",
       "      <td>...</td>\n",
       "      <td>...</td>\n",
       "    </tr>\n",
       "    <tr>\n",
       "      <th>125065</th>\n",
       "      <td>Royal Challengers Bangalore</td>\n",
       "      <td>field</td>\n",
       "      <td>Mumbai Indians</td>\n",
       "      <td>Royal Challengers Bangalore</td>\n",
       "      <td>RR Rossouw</td>\n",
       "      <td>HV Patel</td>\n",
       "      <td>SL Malinga</td>\n",
       "      <td>187</td>\n",
       "      <td>Wankhede Stadium</td>\n",
       "      <td>16.5</td>\n",
       "      <td>90</td>\n",
       "      <td>4</td>\n",
       "      <td>5.346535</td>\n",
       "      <td>7.894737</td>\n",
       "      <td>168</td>\n",
       "    </tr>\n",
       "    <tr>\n",
       "      <th>225034</th>\n",
       "      <td>Mumbai Indians</td>\n",
       "      <td>bat</td>\n",
       "      <td>Mumbai Indians</td>\n",
       "      <td>Royal Challengers Bangalore</td>\n",
       "      <td>MV Boucher</td>\n",
       "      <td>JH Kallis</td>\n",
       "      <td>A Nehra</td>\n",
       "      <td>165</td>\n",
       "      <td>Wankhede Stadium</td>\n",
       "      <td>13.7</td>\n",
       "      <td>70</td>\n",
       "      <td>7</td>\n",
       "      <td>4.941176</td>\n",
       "      <td>10.114286</td>\n",
       "      <td>166</td>\n",
       "    </tr>\n",
       "    <tr>\n",
       "      <th>184110</th>\n",
       "      <td>Chennai Super Kings</td>\n",
       "      <td>bat</td>\n",
       "      <td>Chennai Super Kings</td>\n",
       "      <td>Kolkata Knight Riders</td>\n",
       "      <td>YK Pathan</td>\n",
       "      <td>JH Kallis</td>\n",
       "      <td>SB Jakati</td>\n",
       "      <td>153</td>\n",
       "      <td>MA Chidambaram Stadium, Chepauk</td>\n",
       "      <td>10.2</td>\n",
       "      <td>38</td>\n",
       "      <td>9</td>\n",
       "      <td>3.677419</td>\n",
       "      <td>7.137931</td>\n",
       "      <td>151</td>\n",
       "    </tr>\n",
       "    <tr>\n",
       "      <th>15932</th>\n",
       "      <td>Mumbai Indians</td>\n",
       "      <td>field</td>\n",
       "      <td>Rajasthan Royals</td>\n",
       "      <td>Mumbai Indians</td>\n",
       "      <td>Ishan Kishan</td>\n",
       "      <td>Tilak Varma</td>\n",
       "      <td>TA Boult</td>\n",
       "      <td>193</td>\n",
       "      <td>Dr DY Patil Sports Academy, Mumbai</td>\n",
       "      <td>12.4</td>\n",
       "      <td>74</td>\n",
       "      <td>10</td>\n",
       "      <td>5.842105</td>\n",
       "      <td>6.954545</td>\n",
       "      <td>170</td>\n",
       "    </tr>\n",
       "    <tr>\n",
       "      <th>975</th>\n",
       "      <td>Gujarat Titans</td>\n",
       "      <td>field</td>\n",
       "      <td>Rajasthan Royals</td>\n",
       "      <td>Gujarat Titans</td>\n",
       "      <td>DA Miller</td>\n",
       "      <td>HH Pandya</td>\n",
       "      <td>M Prasidh Krishna</td>\n",
       "      <td>188</td>\n",
       "      <td>Eden Gardens, Kolkata</td>\n",
       "      <td>19.2</td>\n",
       "      <td>138</td>\n",
       "      <td>8</td>\n",
       "      <td>7.137931</td>\n",
       "      <td>9.000000</td>\n",
       "      <td>191</td>\n",
       "    </tr>\n",
       "  </tbody>\n",
       "</table>\n",
       "<p>19267 rows × 15 columns</p>\n",
       "</div>"
      ],
      "text/plain": [
       "                         TossWinner TossDecision                  BattingTeam  \\\n",
       "72923           Chennai Super Kings        field              Kings XI Punjab   \n",
       "141010          Sunrisers Hyderabad          bat          Sunrisers Hyderabad   \n",
       "170635  Royal Challengers Bangalore        field        Kolkata Knight Riders   \n",
       "108122              Kings XI Punjab        field  Royal Challengers Bangalore   \n",
       "146769  Royal Challengers Bangalore        field        Kolkata Knight Riders   \n",
       "...                             ...          ...                          ...   \n",
       "125065  Royal Challengers Bangalore        field               Mumbai Indians   \n",
       "225034               Mumbai Indians          bat               Mumbai Indians   \n",
       "184110          Chennai Super Kings          bat          Chennai Super Kings   \n",
       "15932                Mumbai Indians        field             Rajasthan Royals   \n",
       "975                  Gujarat Titans        field             Rajasthan Royals   \n",
       "\n",
       "                        BowlingTeam          batter  non-striker  \\\n",
       "72923           Chennai Super Kings        MS Dhoni     DJ Bravo   \n",
       "141010             Rajasthan Royals       SR Watson    STR Binny   \n",
       "170635  Royal Challengers Bangalore  AB de Villiers       M Kaif   \n",
       "108122              Kings XI Punjab   Anureet Singh     AR Patel   \n",
       "146769  Royal Challengers Bangalore  AB de Villiers     CH Gayle   \n",
       "...                             ...             ...          ...   \n",
       "125065  Royal Challengers Bangalore      RR Rossouw     HV Patel   \n",
       "225034  Royal Challengers Bangalore      MV Boucher    JH Kallis   \n",
       "184110        Kolkata Knight Riders       YK Pathan    JH Kallis   \n",
       "15932                Mumbai Indians    Ishan Kishan  Tilak Varma   \n",
       "975                  Gujarat Titans       DA Miller    HH Pandya   \n",
       "\n",
       "                   bowler  First_Innings_total_score  \\\n",
       "72923           MM Sharma                        197   \n",
       "141010           I Sharma                        144   \n",
       "170635      Iqbal Abdulla                         89   \n",
       "108122           MA Starc                        226   \n",
       "146769         PJ Sangwan                        154   \n",
       "...                   ...                        ...   \n",
       "125065         SL Malinga                        187   \n",
       "225034            A Nehra                        165   \n",
       "184110          SB Jakati                        153   \n",
       "15932            TA Boult                        193   \n",
       "975     M Prasidh Krishna                        188   \n",
       "\n",
       "                                               Venue  Overs  current_score  \\\n",
       "72923   Punjab Cricket Association IS Bindra Stadium   19.3            137   \n",
       "141010                        Sawai Mansingh Stadium   14.2             76   \n",
       "170635                         M Chinnaswamy Stadium    8.6             27   \n",
       "108122                         M Chinnaswamy Stadium    8.4             20   \n",
       "146769                         M Chinnaswamy Stadium   10.2             60   \n",
       "...                                              ...    ...            ...   \n",
       "125065                              Wankhede Stadium   16.5             90   \n",
       "225034                              Wankhede Stadium   13.7             70   \n",
       "184110               MA Chidambaram Stadium, Chepauk   10.2             38   \n",
       "15932             Dr DY Patil Sports Academy, Mumbai   12.4             74   \n",
       "975                            Eden Gardens, Kolkata   19.2            138   \n",
       "\n",
       "        wickets_left  current_run_rate  required_run_rate  \\\n",
       "72923              7          7.025641          20.000000   \n",
       "141010             9          5.302326           8.647059   \n",
       "170635             8          3.000000           1.818182   \n",
       "108122             6          2.307692           3.441176   \n",
       "146769             9          5.806452           7.965517   \n",
       "...              ...               ...                ...   \n",
       "125065             4          5.346535           7.894737   \n",
       "225034             7          4.941176          10.114286   \n",
       "184110             9          3.677419           7.137931   \n",
       "15932             10          5.842105           6.954545   \n",
       "975                8          7.137931           9.000000   \n",
       "\n",
       "        Second_Innings_Total_score  \n",
       "72923                          193  \n",
       "141010                         146  \n",
       "170635                         105  \n",
       "108122                          88  \n",
       "146769                         158  \n",
       "...                            ...  \n",
       "125065                         168  \n",
       "225034                         166  \n",
       "184110                         151  \n",
       "15932                          170  \n",
       "975                            191  \n",
       "\n",
       "[19267 rows x 15 columns]"
      ]
     },
     "execution_count": 119,
     "metadata": {},
     "output_type": "execute_result"
    }
   ],
   "source": [
    "df.sample(df.shape[0])"
   ]
  },
  {
   "cell_type": "code",
   "execution_count": 120,
   "metadata": {},
   "outputs": [],
   "source": [
    "column_mapping = {'non-striker': 'non_striker'}\n",
    "df = df.rename(columns=column_mapping)"
   ]
  },
  {
   "cell_type": "code",
   "execution_count": 121,
   "metadata": {},
   "outputs": [
    {
     "name": "stdout",
     "output_type": "stream",
     "text": [
      "Categories in 'Batting Team' variable:      ['Rajasthan Royals' 'Royal Challengers Bangalore' 'Lucknow Super Giants'\n",
      " 'Kolkata Knight Riders' 'Chennai Super Kings' 'Gujarat Titans'\n",
      " 'Mumbai Indians' 'Delhi Capitals' 'Kings XI Punjab' 'Sunrisers Hyderabad']\n",
      "Categories in 'Bowling Team' variable:   ['Gujarat Titans' 'Rajasthan Royals' 'Lucknow Super Giants'\n",
      " 'Kolkata Knight Riders' 'Delhi Capitals' 'Mumbai Indians'\n",
      " 'Chennai Super Kings' 'Royal Challengers Bangalore' 'Sunrisers Hyderabad'\n",
      " 'Kings XI Punjab']\n",
      "Categories in'Venue' variable: ['Narendra Modi Stadium, Ahmedabad' 'Eden Gardens, Kolkata'\n",
      " 'Dr DY Patil Sports Academy, Mumbai'\n",
      " 'Punjab Cricket Association IS Bindra Stadium' 'Wankhede Stadium'\n",
      " 'Arun Jaitley Stadium' 'Sawai Mansingh Stadium' 'M Chinnaswamy Stadium'\n",
      " 'Rajiv Gandhi International Stadium, Uppal'\n",
      " 'MA Chidambaram Stadium, Chepauk']\n",
      "Columns Present in Datasets: Index(['TossWinner', 'TossDecision', 'BattingTeam', 'BowlingTeam', 'batter',\n",
      "       'non_striker', 'bowler', 'First_Innings_total_score', 'Venue', 'Overs',\n",
      "       'current_score', 'wickets_left', 'current_run_rate',\n",
      "       'required_run_rate', 'Second_Innings_Total_score'],\n",
      "      dtype='object')\n"
     ]
    }
   ],
   "source": [
    "print(\"Categories in 'Batting Team' variable:     \",end=\" \" )\n",
    "print(df['BattingTeam'].unique())\n",
    "\n",
    "print(\"Categories in 'Bowling Team' variable:  \",end=\" \")\n",
    "print(df['BowlingTeam'].unique())\n",
    "\n",
    "print(\"Categories in'Venue' variable:\",end=\" \" )\n",
    "print(df['Venue'].unique())\n",
    "\n",
    "print(\"Columns Present in Datasets:\",end=\" \")\n",
    "print(df.columns)"
   ]
  },
  {
   "cell_type": "code",
   "execution_count": 122,
   "metadata": {},
   "outputs": [],
   "source": [
    "df.to_csv('IPL-Final-Datasets.csv', index=False)"
   ]
  },
  {
   "cell_type": "code",
   "execution_count": 123,
   "metadata": {},
   "outputs": [],
   "source": [
    "from sklearn.preprocessing import LabelEncoder\n",
    "lc=LabelEncoder()"
   ]
  },
  {
   "cell_type": "code",
   "execution_count": 124,
   "metadata": {},
   "outputs": [],
   "source": [
    "df['BowlingTeam']=lc.fit_transform(df['BowlingTeam'])\n",
    "df['BattingTeam']=lc.fit_transform(df['BattingTeam'])\n",
    "df['TossDecision']=lc.fit_transform(df['TossDecision'])\n",
    "df['TossWinner']=lc.fit_transform(df['TossWinner'])\n",
    "df['batter']=lc.fit_transform(df['batter'])\n",
    "df['non_striker']=lc.fit_transform(df['non_striker'])\n",
    "df['bowler']=lc.fit_transform(df['bowler'])\n",
    "df['Venue']=lc.fit_transform(df['Venue'])"
   ]
  },
  {
   "cell_type": "code",
   "execution_count": 125,
   "metadata": {},
   "outputs": [
    {
     "data": {
      "text/html": [
       "<div>\n",
       "<style scoped>\n",
       "    .dataframe tbody tr th:only-of-type {\n",
       "        vertical-align: middle;\n",
       "    }\n",
       "\n",
       "    .dataframe tbody tr th {\n",
       "        vertical-align: top;\n",
       "    }\n",
       "\n",
       "    .dataframe thead th {\n",
       "        text-align: right;\n",
       "    }\n",
       "</style>\n",
       "<table border=\"1\" class=\"dataframe\">\n",
       "  <thead>\n",
       "    <tr style=\"text-align: right;\">\n",
       "      <th></th>\n",
       "      <th>TossWinner</th>\n",
       "      <th>TossDecision</th>\n",
       "      <th>BattingTeam</th>\n",
       "      <th>BowlingTeam</th>\n",
       "      <th>batter</th>\n",
       "      <th>non_striker</th>\n",
       "      <th>bowler</th>\n",
       "      <th>First_Innings_total_score</th>\n",
       "      <th>Venue</th>\n",
       "      <th>Overs</th>\n",
       "      <th>current_score</th>\n",
       "      <th>wickets_left</th>\n",
       "      <th>current_run_rate</th>\n",
       "      <th>required_run_rate</th>\n",
       "      <th>Second_Innings_Total_score</th>\n",
       "    </tr>\n",
       "  </thead>\n",
       "  <tbody>\n",
       "    <tr>\n",
       "      <th>153</th>\n",
       "      <td>7</td>\n",
       "      <td>0</td>\n",
       "      <td>7</td>\n",
       "      <td>2</td>\n",
       "      <td>304</td>\n",
       "      <td>105</td>\n",
       "      <td>255</td>\n",
       "      <td>130</td>\n",
       "      <td>5</td>\n",
       "      <td>5.1</td>\n",
       "      <td>0</td>\n",
       "      <td>10</td>\n",
       "      <td>0.000000</td>\n",
       "      <td>7.280899</td>\n",
       "      <td>133</td>\n",
       "    </tr>\n",
       "    <tr>\n",
       "      <th>154</th>\n",
       "      <td>7</td>\n",
       "      <td>0</td>\n",
       "      <td>7</td>\n",
       "      <td>2</td>\n",
       "      <td>304</td>\n",
       "      <td>105</td>\n",
       "      <td>255</td>\n",
       "      <td>130</td>\n",
       "      <td>5</td>\n",
       "      <td>5.2</td>\n",
       "      <td>0</td>\n",
       "      <td>10</td>\n",
       "      <td>0.000000</td>\n",
       "      <td>7.363636</td>\n",
       "      <td>133</td>\n",
       "    </tr>\n",
       "    <tr>\n",
       "      <th>155</th>\n",
       "      <td>7</td>\n",
       "      <td>0</td>\n",
       "      <td>7</td>\n",
       "      <td>2</td>\n",
       "      <td>304</td>\n",
       "      <td>105</td>\n",
       "      <td>255</td>\n",
       "      <td>130</td>\n",
       "      <td>5</td>\n",
       "      <td>5.3</td>\n",
       "      <td>1</td>\n",
       "      <td>10</td>\n",
       "      <td>0.181818</td>\n",
       "      <td>7.379310</td>\n",
       "      <td>133</td>\n",
       "    </tr>\n",
       "    <tr>\n",
       "      <th>156</th>\n",
       "      <td>7</td>\n",
       "      <td>0</td>\n",
       "      <td>7</td>\n",
       "      <td>2</td>\n",
       "      <td>104</td>\n",
       "      <td>297</td>\n",
       "      <td>255</td>\n",
       "      <td>130</td>\n",
       "      <td>5</td>\n",
       "      <td>5.4</td>\n",
       "      <td>1</td>\n",
       "      <td>10</td>\n",
       "      <td>0.176471</td>\n",
       "      <td>7.465116</td>\n",
       "      <td>133</td>\n",
       "    </tr>\n",
       "    <tr>\n",
       "      <th>157</th>\n",
       "      <td>7</td>\n",
       "      <td>0</td>\n",
       "      <td>7</td>\n",
       "      <td>2</td>\n",
       "      <td>104</td>\n",
       "      <td>297</td>\n",
       "      <td>255</td>\n",
       "      <td>130</td>\n",
       "      <td>5</td>\n",
       "      <td>5.5</td>\n",
       "      <td>2</td>\n",
       "      <td>10</td>\n",
       "      <td>0.342857</td>\n",
       "      <td>7.482353</td>\n",
       "      <td>133</td>\n",
       "    </tr>\n",
       "  </tbody>\n",
       "</table>\n",
       "</div>"
      ],
      "text/plain": [
       "     TossWinner  TossDecision  BattingTeam  BowlingTeam  batter  non_striker  \\\n",
       "153           7             0            7            2     304          105   \n",
       "154           7             0            7            2     304          105   \n",
       "155           7             0            7            2     304          105   \n",
       "156           7             0            7            2     104          297   \n",
       "157           7             0            7            2     104          297   \n",
       "\n",
       "     bowler  First_Innings_total_score  Venue  Overs  current_score  \\\n",
       "153     255                        130      5    5.1              0   \n",
       "154     255                        130      5    5.2              0   \n",
       "155     255                        130      5    5.3              1   \n",
       "156     255                        130      5    5.4              1   \n",
       "157     255                        130      5    5.5              2   \n",
       "\n",
       "     wickets_left  current_run_rate  required_run_rate  \\\n",
       "153            10          0.000000           7.280899   \n",
       "154            10          0.000000           7.363636   \n",
       "155            10          0.181818           7.379310   \n",
       "156            10          0.176471           7.465116   \n",
       "157            10          0.342857           7.482353   \n",
       "\n",
       "     Second_Innings_Total_score  \n",
       "153                         133  \n",
       "154                         133  \n",
       "155                         133  \n",
       "156                         133  \n",
       "157                         133  "
      ]
     },
     "execution_count": 125,
     "metadata": {},
     "output_type": "execute_result"
    }
   ],
   "source": [
    "df.head()"
   ]
  },
  {
   "cell_type": "markdown",
   "metadata": {},
   "source": [
    "## Model Building"
   ]
  },
  {
   "cell_type": "code",
   "execution_count": 126,
   "metadata": {},
   "outputs": [],
   "source": [
    "# Modelling\n",
    "from sklearn.metrics import mean_squared_error, r2_score\n",
    "from sklearn.neighbors import KNeighborsRegressor\n",
    "from sklearn.tree import DecisionTreeRegressor\n",
    "from sklearn.ensemble import RandomForestRegressor,AdaBoostRegressor\n",
    "from sklearn.svm import SVR\n",
    "from sklearn.linear_model import LinearRegression, Ridge,Lasso\n",
    "from sklearn.metrics import r2_score, mean_absolute_error, mean_squared_error\n",
    "from sklearn.model_selection import RandomizedSearchCV\n",
    "from catboost import CatBoostRegressor\n",
    "from xgboost import XGBRegressor\n",
    "import warnings"
   ]
  },
  {
   "cell_type": "code",
   "execution_count": 127,
   "metadata": {
    "scrolled": false
   },
   "outputs": [
    {
     "data": {
      "text/html": [
       "<div>\n",
       "<style scoped>\n",
       "    .dataframe tbody tr th:only-of-type {\n",
       "        vertical-align: middle;\n",
       "    }\n",
       "\n",
       "    .dataframe tbody tr th {\n",
       "        vertical-align: top;\n",
       "    }\n",
       "\n",
       "    .dataframe thead th {\n",
       "        text-align: right;\n",
       "    }\n",
       "</style>\n",
       "<table border=\"1\" class=\"dataframe\">\n",
       "  <thead>\n",
       "    <tr style=\"text-align: right;\">\n",
       "      <th></th>\n",
       "      <th>TossWinner</th>\n",
       "      <th>TossDecision</th>\n",
       "      <th>BattingTeam</th>\n",
       "      <th>BowlingTeam</th>\n",
       "      <th>batter</th>\n",
       "      <th>non_striker</th>\n",
       "      <th>bowler</th>\n",
       "      <th>First_Innings_total_score</th>\n",
       "      <th>Venue</th>\n",
       "      <th>Overs</th>\n",
       "      <th>current_score</th>\n",
       "      <th>wickets_left</th>\n",
       "      <th>current_run_rate</th>\n",
       "      <th>required_run_rate</th>\n",
       "      <th>Second_Innings_Total_score</th>\n",
       "    </tr>\n",
       "  </thead>\n",
       "  <tbody>\n",
       "    <tr>\n",
       "      <th>153</th>\n",
       "      <td>7</td>\n",
       "      <td>0</td>\n",
       "      <td>7</td>\n",
       "      <td>2</td>\n",
       "      <td>304</td>\n",
       "      <td>105</td>\n",
       "      <td>255</td>\n",
       "      <td>130</td>\n",
       "      <td>5</td>\n",
       "      <td>5.1</td>\n",
       "      <td>0</td>\n",
       "      <td>10</td>\n",
       "      <td>0.0</td>\n",
       "      <td>7.280899</td>\n",
       "      <td>133</td>\n",
       "    </tr>\n",
       "    <tr>\n",
       "      <th>154</th>\n",
       "      <td>7</td>\n",
       "      <td>0</td>\n",
       "      <td>7</td>\n",
       "      <td>2</td>\n",
       "      <td>304</td>\n",
       "      <td>105</td>\n",
       "      <td>255</td>\n",
       "      <td>130</td>\n",
       "      <td>5</td>\n",
       "      <td>5.2</td>\n",
       "      <td>0</td>\n",
       "      <td>10</td>\n",
       "      <td>0.0</td>\n",
       "      <td>7.363636</td>\n",
       "      <td>133</td>\n",
       "    </tr>\n",
       "  </tbody>\n",
       "</table>\n",
       "</div>"
      ],
      "text/plain": [
       "     TossWinner  TossDecision  BattingTeam  BowlingTeam  batter  non_striker  \\\n",
       "153           7             0            7            2     304          105   \n",
       "154           7             0            7            2     304          105   \n",
       "\n",
       "     bowler  First_Innings_total_score  Venue  Overs  current_score  \\\n",
       "153     255                        130      5    5.1              0   \n",
       "154     255                        130      5    5.2              0   \n",
       "\n",
       "     wickets_left  current_run_rate  required_run_rate  \\\n",
       "153            10               0.0           7.280899   \n",
       "154            10               0.0           7.363636   \n",
       "\n",
       "     Second_Innings_Total_score  \n",
       "153                         133  \n",
       "154                         133  "
      ]
     },
     "execution_count": 127,
     "metadata": {},
     "output_type": "execute_result"
    }
   ],
   "source": [
    "df.head(2)"
   ]
  },
  {
   "cell_type": "code",
   "execution_count": 128,
   "metadata": {},
   "outputs": [],
   "source": [
    "X = df.drop(columns=['Second_Innings_Total_score'],axis=1)"
   ]
  },
  {
   "cell_type": "code",
   "execution_count": 129,
   "metadata": {},
   "outputs": [
    {
     "data": {
      "text/html": [
       "<div>\n",
       "<style scoped>\n",
       "    .dataframe tbody tr th:only-of-type {\n",
       "        vertical-align: middle;\n",
       "    }\n",
       "\n",
       "    .dataframe tbody tr th {\n",
       "        vertical-align: top;\n",
       "    }\n",
       "\n",
       "    .dataframe thead th {\n",
       "        text-align: right;\n",
       "    }\n",
       "</style>\n",
       "<table border=\"1\" class=\"dataframe\">\n",
       "  <thead>\n",
       "    <tr style=\"text-align: right;\">\n",
       "      <th></th>\n",
       "      <th>TossWinner</th>\n",
       "      <th>TossDecision</th>\n",
       "      <th>BattingTeam</th>\n",
       "      <th>BowlingTeam</th>\n",
       "      <th>batter</th>\n",
       "      <th>non_striker</th>\n",
       "      <th>bowler</th>\n",
       "      <th>First_Innings_total_score</th>\n",
       "      <th>Venue</th>\n",
       "      <th>Overs</th>\n",
       "      <th>current_score</th>\n",
       "      <th>wickets_left</th>\n",
       "      <th>current_run_rate</th>\n",
       "      <th>required_run_rate</th>\n",
       "    </tr>\n",
       "  </thead>\n",
       "  <tbody>\n",
       "    <tr>\n",
       "      <th>153</th>\n",
       "      <td>7</td>\n",
       "      <td>0</td>\n",
       "      <td>7</td>\n",
       "      <td>2</td>\n",
       "      <td>304</td>\n",
       "      <td>105</td>\n",
       "      <td>255</td>\n",
       "      <td>130</td>\n",
       "      <td>5</td>\n",
       "      <td>5.1</td>\n",
       "      <td>0</td>\n",
       "      <td>10</td>\n",
       "      <td>0.000000</td>\n",
       "      <td>7.280899</td>\n",
       "    </tr>\n",
       "    <tr>\n",
       "      <th>154</th>\n",
       "      <td>7</td>\n",
       "      <td>0</td>\n",
       "      <td>7</td>\n",
       "      <td>2</td>\n",
       "      <td>304</td>\n",
       "      <td>105</td>\n",
       "      <td>255</td>\n",
       "      <td>130</td>\n",
       "      <td>5</td>\n",
       "      <td>5.2</td>\n",
       "      <td>0</td>\n",
       "      <td>10</td>\n",
       "      <td>0.000000</td>\n",
       "      <td>7.363636</td>\n",
       "    </tr>\n",
       "    <tr>\n",
       "      <th>155</th>\n",
       "      <td>7</td>\n",
       "      <td>0</td>\n",
       "      <td>7</td>\n",
       "      <td>2</td>\n",
       "      <td>304</td>\n",
       "      <td>105</td>\n",
       "      <td>255</td>\n",
       "      <td>130</td>\n",
       "      <td>5</td>\n",
       "      <td>5.3</td>\n",
       "      <td>1</td>\n",
       "      <td>10</td>\n",
       "      <td>0.181818</td>\n",
       "      <td>7.379310</td>\n",
       "    </tr>\n",
       "    <tr>\n",
       "      <th>156</th>\n",
       "      <td>7</td>\n",
       "      <td>0</td>\n",
       "      <td>7</td>\n",
       "      <td>2</td>\n",
       "      <td>104</td>\n",
       "      <td>297</td>\n",
       "      <td>255</td>\n",
       "      <td>130</td>\n",
       "      <td>5</td>\n",
       "      <td>5.4</td>\n",
       "      <td>1</td>\n",
       "      <td>10</td>\n",
       "      <td>0.176471</td>\n",
       "      <td>7.465116</td>\n",
       "    </tr>\n",
       "    <tr>\n",
       "      <th>157</th>\n",
       "      <td>7</td>\n",
       "      <td>0</td>\n",
       "      <td>7</td>\n",
       "      <td>2</td>\n",
       "      <td>104</td>\n",
       "      <td>297</td>\n",
       "      <td>255</td>\n",
       "      <td>130</td>\n",
       "      <td>5</td>\n",
       "      <td>5.5</td>\n",
       "      <td>2</td>\n",
       "      <td>10</td>\n",
       "      <td>0.342857</td>\n",
       "      <td>7.482353</td>\n",
       "    </tr>\n",
       "  </tbody>\n",
       "</table>\n",
       "</div>"
      ],
      "text/plain": [
       "     TossWinner  TossDecision  BattingTeam  BowlingTeam  batter  non_striker  \\\n",
       "153           7             0            7            2     304          105   \n",
       "154           7             0            7            2     304          105   \n",
       "155           7             0            7            2     304          105   \n",
       "156           7             0            7            2     104          297   \n",
       "157           7             0            7            2     104          297   \n",
       "\n",
       "     bowler  First_Innings_total_score  Venue  Overs  current_score  \\\n",
       "153     255                        130      5    5.1              0   \n",
       "154     255                        130      5    5.2              0   \n",
       "155     255                        130      5    5.3              1   \n",
       "156     255                        130      5    5.4              1   \n",
       "157     255                        130      5    5.5              2   \n",
       "\n",
       "     wickets_left  current_run_rate  required_run_rate  \n",
       "153            10          0.000000           7.280899  \n",
       "154            10          0.000000           7.363636  \n",
       "155            10          0.181818           7.379310  \n",
       "156            10          0.176471           7.465116  \n",
       "157            10          0.342857           7.482353  "
      ]
     },
     "execution_count": 129,
     "metadata": {},
     "output_type": "execute_result"
    }
   ],
   "source": [
    "X.head()"
   ]
  },
  {
   "cell_type": "code",
   "execution_count": 130,
   "metadata": {},
   "outputs": [],
   "source": [
    "y = df['Second_Innings_Total_score']"
   ]
  },
  {
   "cell_type": "code",
   "execution_count": 131,
   "metadata": {
    "scrolled": false
   },
   "outputs": [
    {
     "data": {
      "text/plain": [
       "153    133\n",
       "154    133\n",
       "155    133\n",
       "156    133\n",
       "157    133\n",
       "Name: Second_Innings_Total_score, dtype: int64"
      ]
     },
     "execution_count": 131,
     "metadata": {},
     "output_type": "execute_result"
    }
   ],
   "source": [
    "y.head()"
   ]
  },
  {
   "cell_type": "code",
   "execution_count": 132,
   "metadata": {},
   "outputs": [
    {
     "data": {
      "text/plain": [
       "(19267,)"
      ]
     },
     "execution_count": 132,
     "metadata": {},
     "output_type": "execute_result"
    }
   ],
   "source": [
    "y.shape"
   ]
  },
  {
   "cell_type": "code",
   "execution_count": 133,
   "metadata": {},
   "outputs": [
    {
     "data": {
      "text/plain": [
       "(19267, 14)"
      ]
     },
     "execution_count": 133,
     "metadata": {},
     "output_type": "execute_result"
    }
   ],
   "source": [
    "X.shape"
   ]
  },
  {
   "cell_type": "code",
   "execution_count": 134,
   "metadata": {},
   "outputs": [
    {
     "data": {
      "text/plain": [
       "((15413, 14), (3854, 14))"
      ]
     },
     "execution_count": 134,
     "metadata": {},
     "output_type": "execute_result"
    }
   ],
   "source": [
    "# separate dataset into train and test\n",
    "from sklearn.model_selection import train_test_split\n",
    "X_train, X_test, y_train, y_test = train_test_split(X,y,test_size=0.2,random_state=42)\n",
    "X_train.shape, X_test.shape"
   ]
  },
  {
   "cell_type": "code",
   "execution_count": 135,
   "metadata": {},
   "outputs": [
    {
     "data": {
      "text/html": [
       "<div>\n",
       "<style scoped>\n",
       "    .dataframe tbody tr th:only-of-type {\n",
       "        vertical-align: middle;\n",
       "    }\n",
       "\n",
       "    .dataframe tbody tr th {\n",
       "        vertical-align: top;\n",
       "    }\n",
       "\n",
       "    .dataframe thead th {\n",
       "        text-align: right;\n",
       "    }\n",
       "</style>\n",
       "<table border=\"1\" class=\"dataframe\">\n",
       "  <thead>\n",
       "    <tr style=\"text-align: right;\">\n",
       "      <th></th>\n",
       "      <th>TossWinner</th>\n",
       "      <th>TossDecision</th>\n",
       "      <th>BattingTeam</th>\n",
       "      <th>BowlingTeam</th>\n",
       "      <th>batter</th>\n",
       "      <th>non_striker</th>\n",
       "      <th>bowler</th>\n",
       "      <th>First_Innings_total_score</th>\n",
       "      <th>Venue</th>\n",
       "      <th>Overs</th>\n",
       "      <th>current_score</th>\n",
       "      <th>wickets_left</th>\n",
       "      <th>current_run_rate</th>\n",
       "      <th>required_run_rate</th>\n",
       "    </tr>\n",
       "  </thead>\n",
       "  <tbody>\n",
       "    <tr>\n",
       "      <th>0</th>\n",
       "      <td>-1.701775</td>\n",
       "      <td>0.748556</td>\n",
       "      <td>-0.747049</td>\n",
       "      <td>-1.692815</td>\n",
       "      <td>0.344171</td>\n",
       "      <td>-0.614593</td>\n",
       "      <td>0.837002</td>\n",
       "      <td>-1.167816</td>\n",
       "      <td>-0.576423</td>\n",
       "      <td>0.798308</td>\n",
       "      <td>0.585736</td>\n",
       "      <td>-1.026428</td>\n",
       "      <td>0.510228</td>\n",
       "      <td>-0.777595</td>\n",
       "    </tr>\n",
       "    <tr>\n",
       "      <th>1</th>\n",
       "      <td>-1.701775</td>\n",
       "      <td>-1.335905</td>\n",
       "      <td>-1.755391</td>\n",
       "      <td>-0.348385</td>\n",
       "      <td>-0.591869</td>\n",
       "      <td>-0.879650</td>\n",
       "      <td>1.180057</td>\n",
       "      <td>-1.059892</td>\n",
       "      <td>-0.576423</td>\n",
       "      <td>-0.118995</td>\n",
       "      <td>-0.187671</td>\n",
       "      <td>1.044771</td>\n",
       "      <td>0.051778</td>\n",
       "      <td>-0.217657</td>\n",
       "    </tr>\n",
       "    <tr>\n",
       "      <th>2</th>\n",
       "      <td>-1.027158</td>\n",
       "      <td>0.748556</td>\n",
       "      <td>0.597408</td>\n",
       "      <td>-1.020600</td>\n",
       "      <td>-0.807050</td>\n",
       "      <td>-1.166794</td>\n",
       "      <td>0.579711</td>\n",
       "      <td>0.702872</td>\n",
       "      <td>-1.275377</td>\n",
       "      <td>-0.094856</td>\n",
       "      <td>0.143789</td>\n",
       "      <td>0.009171</td>\n",
       "      <td>0.584535</td>\n",
       "      <td>0.682708</td>\n",
       "    </tr>\n",
       "    <tr>\n",
       "      <th>3</th>\n",
       "      <td>-0.689849</td>\n",
       "      <td>-1.335905</td>\n",
       "      <td>-0.747049</td>\n",
       "      <td>1.332153</td>\n",
       "      <td>0.258099</td>\n",
       "      <td>-1.409763</td>\n",
       "      <td>0.165187</td>\n",
       "      <td>-1.635488</td>\n",
       "      <td>0.472008</td>\n",
       "      <td>0.894867</td>\n",
       "      <td>0.447628</td>\n",
       "      <td>-0.508628</td>\n",
       "      <td>0.219149</td>\n",
       "      <td>-0.126504</td>\n",
       "    </tr>\n",
       "    <tr>\n",
       "      <th>4</th>\n",
       "      <td>0.659386</td>\n",
       "      <td>-1.335905</td>\n",
       "      <td>0.597408</td>\n",
       "      <td>0.996046</td>\n",
       "      <td>-1.775367</td>\n",
       "      <td>0.379368</td>\n",
       "      <td>-0.549511</td>\n",
       "      <td>-0.160522</td>\n",
       "      <td>0.821485</td>\n",
       "      <td>-1.615649</td>\n",
       "      <td>-1.513511</td>\n",
       "      <td>1.044771</td>\n",
       "      <td>-2.186804</td>\n",
       "      <td>-0.582268</td>\n",
       "    </tr>\n",
       "  </tbody>\n",
       "</table>\n",
       "</div>"
      ],
      "text/plain": [
       "   TossWinner  TossDecision  BattingTeam  BowlingTeam    batter  non_striker  \\\n",
       "0   -1.701775      0.748556    -0.747049    -1.692815  0.344171    -0.614593   \n",
       "1   -1.701775     -1.335905    -1.755391    -0.348385 -0.591869    -0.879650   \n",
       "2   -1.027158      0.748556     0.597408    -1.020600 -0.807050    -1.166794   \n",
       "3   -0.689849     -1.335905    -0.747049     1.332153  0.258099    -1.409763   \n",
       "4    0.659386     -1.335905     0.597408     0.996046 -1.775367     0.379368   \n",
       "\n",
       "     bowler  First_Innings_total_score     Venue     Overs  current_score  \\\n",
       "0  0.837002                  -1.167816 -0.576423  0.798308       0.585736   \n",
       "1  1.180057                  -1.059892 -0.576423 -0.118995      -0.187671   \n",
       "2  0.579711                   0.702872 -1.275377 -0.094856       0.143789   \n",
       "3  0.165187                  -1.635488  0.472008  0.894867       0.447628   \n",
       "4 -0.549511                  -0.160522  0.821485 -1.615649      -1.513511   \n",
       "\n",
       "   wickets_left  current_run_rate  required_run_rate  \n",
       "0     -1.026428          0.510228          -0.777595  \n",
       "1      1.044771          0.051778          -0.217657  \n",
       "2      0.009171          0.584535           0.682708  \n",
       "3     -0.508628          0.219149          -0.126504  \n",
       "4      1.044771         -2.186804          -0.582268  "
      ]
     },
     "execution_count": 135,
     "metadata": {},
     "output_type": "execute_result"
    }
   ],
   "source": [
    "#Feature scaling\n",
    "from sklearn.preprocessing import StandardScaler\n",
    "scaler = StandardScaler()\n",
    "X_scaled = scaler.fit_transform(X_train)\n",
    "X_scaled = pd.DataFrame(X_scaled, columns=X.columns)\n",
    "X_scaled.head()"
   ]
  },
  {
   "cell_type": "markdown",
   "metadata": {},
   "source": [
    "## Create an Evaluate Function to give all metrics after model Training"
   ]
  },
  {
   "cell_type": "code",
   "execution_count": 136,
   "metadata": {},
   "outputs": [],
   "source": [
    "def evaluate_model(true, predicted):\n",
    "    mae = mean_absolute_error(true, predicted)\n",
    "    mse = mean_squared_error(true, predicted)\n",
    "    rmse = np.sqrt(mean_squared_error(true, predicted))\n",
    "    r2_square = r2_score(true, predicted)\n",
    "    return mae, rmse, r2_square"
   ]
  },
  {
   "cell_type": "code",
   "execution_count": 137,
   "metadata": {},
   "outputs": [
    {
     "name": "stdout",
     "output_type": "stream",
     "text": [
      "Linear Regression\n",
      "Model performance for Training set\n",
      "- Root Mean Squared Error: 14.4760\n",
      "- Mean Absolute Error: 10.6550\n",
      "- R2 Score: 0.6959\n",
      "----------------------------------\n",
      "Model performance for Test set\n",
      "- Root Mean Squared Error: 14.5034\n",
      "- Mean Absolute Error: 10.7622\n",
      "- R2 Score: 0.7013\n",
      "===================================\n",
      "\n",
      "\n",
      "Lasso\n",
      "Model performance for Training set\n",
      "- Root Mean Squared Error: 14.5465\n",
      "- Mean Absolute Error: 10.6733\n",
      "- R2 Score: 0.6929\n",
      "----------------------------------\n",
      "Model performance for Test set\n",
      "- Root Mean Squared Error: 14.5800\n",
      "- Mean Absolute Error: 10.7711\n",
      "- R2 Score: 0.6981\n",
      "===================================\n",
      "\n",
      "\n",
      "Ridge\n",
      "Model performance for Training set\n",
      "- Root Mean Squared Error: 14.4760\n",
      "- Mean Absolute Error: 10.6550\n",
      "- R2 Score: 0.6959\n",
      "----------------------------------\n",
      "Model performance for Test set\n",
      "- Root Mean Squared Error: 14.5034\n",
      "- Mean Absolute Error: 10.7621\n",
      "- R2 Score: 0.7013\n",
      "===================================\n",
      "\n",
      "\n",
      "K-Neighbors Regressor\n",
      "Model performance for Training set\n",
      "- Root Mean Squared Error: 8.9987\n",
      "- Mean Absolute Error: 4.2798\n",
      "- R2 Score: 0.8825\n",
      "----------------------------------\n",
      "Model performance for Test set\n",
      "- Root Mean Squared Error: 12.6462\n",
      "- Mean Absolute Error: 6.4442\n",
      "- R2 Score: 0.7729\n",
      "===================================\n",
      "\n",
      "\n",
      "Decision Tree\n",
      "Model performance for Training set\n",
      "- Root Mean Squared Error: 0.0000\n",
      "- Mean Absolute Error: 0.0000\n",
      "- R2 Score: 1.0000\n",
      "----------------------------------\n",
      "Model performance for Test set\n",
      "- Root Mean Squared Error: 2.1636\n",
      "- Mean Absolute Error: 0.1819\n",
      "- R2 Score: 0.9934\n",
      "===================================\n",
      "\n",
      "\n",
      "Random Forest Regressor\n",
      "Model performance for Training set\n",
      "- Root Mean Squared Error: 0.5350\n",
      "- Mean Absolute Error: 0.1107\n",
      "- R2 Score: 0.9996\n",
      "----------------------------------\n",
      "Model performance for Test set\n",
      "- Root Mean Squared Error: 1.2906\n",
      "- Mean Absolute Error: 0.2846\n",
      "- R2 Score: 0.9976\n",
      "===================================\n",
      "\n",
      "\n",
      "XGBRegressor\n",
      "Model performance for Training set\n",
      "- Root Mean Squared Error: 1.2032\n",
      "- Mean Absolute Error: 0.8555\n",
      "- R2 Score: 0.9979\n",
      "----------------------------------\n",
      "Model performance for Test set\n",
      "- Root Mean Squared Error: 2.0745\n",
      "- Mean Absolute Error: 1.3222\n",
      "- R2 Score: 0.9939\n",
      "===================================\n",
      "\n",
      "\n",
      "CatBoosting Regressor\n",
      "Model performance for Training set\n",
      "- Root Mean Squared Error: 1.2988\n",
      "- Mean Absolute Error: 0.9816\n",
      "- R2 Score: 0.9976\n",
      "----------------------------------\n",
      "Model performance for Test set\n",
      "- Root Mean Squared Error: 1.5758\n",
      "- Mean Absolute Error: 1.1602\n",
      "- R2 Score: 0.9965\n",
      "===================================\n",
      "\n",
      "\n",
      "AdaBoost Regressor\n",
      "Model performance for Training set\n",
      "- Root Mean Squared Error: 12.2118\n",
      "- Mean Absolute Error: 9.8283\n",
      "- R2 Score: 0.7836\n",
      "----------------------------------\n",
      "Model performance for Test set\n",
      "- Root Mean Squared Error: 12.2589\n",
      "- Mean Absolute Error: 9.8450\n",
      "- R2 Score: 0.7866\n",
      "===================================\n",
      "\n",
      "\n"
     ]
    }
   ],
   "source": [
    "models = {\n",
    "    \"Linear Regression\": LinearRegression(),\n",
    "    \"Lasso\": Lasso(),\n",
    "    \"Ridge\": Ridge(),\n",
    "    \"K-Neighbors Regressor\": KNeighborsRegressor(),\n",
    "    \"Decision Tree\": DecisionTreeRegressor(),\n",
    "    \"Random Forest Regressor\": RandomForestRegressor(),\n",
    "    \"XGBRegressor\": XGBRegressor(), \n",
    "    \"CatBoosting Regressor\": CatBoostRegressor(verbose=False),\n",
    "    \"AdaBoost Regressor\": AdaBoostRegressor()\n",
    "}\n",
    "model_list = []\n",
    "r2_list =[]\n",
    "\n",
    "for i in range(len(list(models))):\n",
    "    model = list(models.values())[i]\n",
    "    model.fit(X_train, y_train) # Train model\n",
    "\n",
    "    # Make predictions\n",
    "    y_train_pred = model.predict(X_train)\n",
    "    y_test_pred = model.predict(X_test)\n",
    "    \n",
    "    # Evaluate Train and Test dataset\n",
    "    model_train_mae , model_train_rmse, model_train_r2 = evaluate_model(y_train, y_train_pred)\n",
    "\n",
    "    model_test_mae , model_test_rmse, model_test_r2 = evaluate_model(y_test, y_test_pred)\n",
    "\n",
    "    \n",
    "    print(list(models.keys())[i])\n",
    "    model_list.append(list(models.keys())[i])\n",
    "    \n",
    "    print('Model performance for Training set')\n",
    "    print(\"- Root Mean Squared Error: {:.4f}\".format(model_train_rmse))\n",
    "    print(\"- Mean Absolute Error: {:.4f}\".format(model_train_mae))\n",
    "    print(\"- R2 Score: {:.4f}\".format(model_train_r2))\n",
    "\n",
    "    print('----------------------------------')\n",
    "    \n",
    "    print('Model performance for Test set')\n",
    "    print(\"- Root Mean Squared Error: {:.4f}\".format(model_test_rmse))\n",
    "    print(\"- Mean Absolute Error: {:.4f}\".format(model_test_mae))\n",
    "    print(\"- R2 Score: {:.4f}\".format(model_test_r2))\n",
    "    r2_list.append(model_test_r2)\n",
    "    \n",
    "    print('='*35)\n",
    "    print('\\n')"
   ]
  },
  {
   "cell_type": "markdown",
   "metadata": {},
   "source": [
    "## Results"
   ]
  },
  {
   "cell_type": "code",
   "execution_count": 138,
   "metadata": {},
   "outputs": [
    {
     "data": {
      "text/html": [
       "<div>\n",
       "<style scoped>\n",
       "    .dataframe tbody tr th:only-of-type {\n",
       "        vertical-align: middle;\n",
       "    }\n",
       "\n",
       "    .dataframe tbody tr th {\n",
       "        vertical-align: top;\n",
       "    }\n",
       "\n",
       "    .dataframe thead th {\n",
       "        text-align: right;\n",
       "    }\n",
       "</style>\n",
       "<table border=\"1\" class=\"dataframe\">\n",
       "  <thead>\n",
       "    <tr style=\"text-align: right;\">\n",
       "      <th></th>\n",
       "      <th>Model Name</th>\n",
       "      <th>R2_Score</th>\n",
       "    </tr>\n",
       "  </thead>\n",
       "  <tbody>\n",
       "    <tr>\n",
       "      <th>5</th>\n",
       "      <td>Random Forest Regressor</td>\n",
       "      <td>0.997635</td>\n",
       "    </tr>\n",
       "    <tr>\n",
       "      <th>7</th>\n",
       "      <td>CatBoosting Regressor</td>\n",
       "      <td>0.996474</td>\n",
       "    </tr>\n",
       "    <tr>\n",
       "      <th>6</th>\n",
       "      <td>XGBRegressor</td>\n",
       "      <td>0.993889</td>\n",
       "    </tr>\n",
       "    <tr>\n",
       "      <th>4</th>\n",
       "      <td>Decision Tree</td>\n",
       "      <td>0.993353</td>\n",
       "    </tr>\n",
       "    <tr>\n",
       "      <th>8</th>\n",
       "      <td>AdaBoost Regressor</td>\n",
       "      <td>0.786605</td>\n",
       "    </tr>\n",
       "    <tr>\n",
       "      <th>3</th>\n",
       "      <td>K-Neighbors Regressor</td>\n",
       "      <td>0.772908</td>\n",
       "    </tr>\n",
       "    <tr>\n",
       "      <th>2</th>\n",
       "      <td>Ridge</td>\n",
       "      <td>0.701309</td>\n",
       "    </tr>\n",
       "    <tr>\n",
       "      <th>0</th>\n",
       "      <td>Linear Regression</td>\n",
       "      <td>0.701308</td>\n",
       "    </tr>\n",
       "    <tr>\n",
       "      <th>1</th>\n",
       "      <td>Lasso</td>\n",
       "      <td>0.698147</td>\n",
       "    </tr>\n",
       "  </tbody>\n",
       "</table>\n",
       "</div>"
      ],
      "text/plain": [
       "                Model Name  R2_Score\n",
       "5  Random Forest Regressor  0.997635\n",
       "7    CatBoosting Regressor  0.996474\n",
       "6             XGBRegressor  0.993889\n",
       "4            Decision Tree  0.993353\n",
       "8       AdaBoost Regressor  0.786605\n",
       "3    K-Neighbors Regressor  0.772908\n",
       "2                    Ridge  0.701309\n",
       "0        Linear Regression  0.701308\n",
       "1                    Lasso  0.698147"
      ]
     },
     "execution_count": 138,
     "metadata": {},
     "output_type": "execute_result"
    }
   ],
   "source": [
    "pd.DataFrame(list(zip(model_list, r2_list)), columns=['Model Name', 'R2_Score']).sort_values(by=[\"R2_Score\"],ascending=False)"
   ]
  },
  {
   "cell_type": "code",
   "execution_count": 139,
   "metadata": {},
   "outputs": [
    {
     "name": "stdout",
     "output_type": "stream",
     "text": [
      "Learning rate set to 0.063076\n",
      "0:\tlearn: 25.0930861\ttotal: 44.1ms\tremaining: 44s\n",
      "1:\tlearn: 24.0643481\ttotal: 66.2ms\tremaining: 33s\n",
      "2:\tlearn: 23.1013816\ttotal: 83.4ms\tremaining: 27.7s\n",
      "3:\tlearn: 22.1732009\ttotal: 98.5ms\tremaining: 24.5s\n",
      "4:\tlearn: 21.3226469\ttotal: 115ms\tremaining: 22.8s\n",
      "5:\tlearn: 20.5272114\ttotal: 130ms\tremaining: 21.5s\n",
      "6:\tlearn: 19.7476863\ttotal: 145ms\tremaining: 20.6s\n",
      "7:\tlearn: 19.0328887\ttotal: 161ms\tremaining: 20s\n",
      "8:\tlearn: 18.3590102\ttotal: 175ms\tremaining: 19.3s\n",
      "9:\tlearn: 17.7443528\ttotal: 275ms\tremaining: 27.2s\n",
      "10:\tlearn: 17.1389148\ttotal: 330ms\tremaining: 29.7s\n",
      "11:\tlearn: 16.5913034\ttotal: 410ms\tremaining: 33.7s\n",
      "12:\tlearn: 16.0776222\ttotal: 478ms\tremaining: 36.3s\n",
      "13:\tlearn: 15.6353045\ttotal: 504ms\tremaining: 35.5s\n",
      "14:\tlearn: 15.2338063\ttotal: 544ms\tremaining: 35.7s\n",
      "15:\tlearn: 14.8489379\ttotal: 569ms\tremaining: 35s\n",
      "16:\tlearn: 14.4771245\ttotal: 609ms\tremaining: 35.2s\n",
      "17:\tlearn: 14.1110741\ttotal: 636ms\tremaining: 34.7s\n",
      "18:\tlearn: 13.7948902\ttotal: 655ms\tremaining: 33.8s\n",
      "19:\tlearn: 13.4770673\ttotal: 670ms\tremaining: 32.8s\n",
      "20:\tlearn: 13.1633845\ttotal: 690ms\tremaining: 32.2s\n",
      "21:\tlearn: 12.9155288\ttotal: 708ms\tremaining: 31.5s\n",
      "22:\tlearn: 12.6843743\ttotal: 727ms\tremaining: 30.9s\n",
      "23:\tlearn: 12.4599651\ttotal: 747ms\tremaining: 30.4s\n",
      "24:\tlearn: 12.2396178\ttotal: 786ms\tremaining: 30.6s\n",
      "25:\tlearn: 11.9940652\ttotal: 833ms\tremaining: 31.2s\n",
      "26:\tlearn: 11.7922940\ttotal: 854ms\tremaining: 30.8s\n",
      "27:\tlearn: 11.5997255\ttotal: 903ms\tremaining: 31.3s\n",
      "28:\tlearn: 11.4148032\ttotal: 956ms\tremaining: 32s\n",
      "29:\tlearn: 11.2441883\ttotal: 992ms\tremaining: 32.1s\n",
      "30:\tlearn: 11.1006631\ttotal: 1.02s\tremaining: 32s\n",
      "31:\tlearn: 10.9239030\ttotal: 1.06s\tremaining: 32.1s\n",
      "32:\tlearn: 10.7627153\ttotal: 1.08s\tremaining: 31.7s\n",
      "33:\tlearn: 10.6137654\ttotal: 1.12s\tremaining: 31.7s\n",
      "34:\tlearn: 10.4965588\ttotal: 1.14s\tremaining: 31.3s\n",
      "35:\tlearn: 10.3657954\ttotal: 1.16s\tremaining: 31.1s\n",
      "36:\tlearn: 10.2554339\ttotal: 1.18s\tremaining: 30.7s\n",
      "37:\tlearn: 10.1419296\ttotal: 1.21s\tremaining: 30.6s\n",
      "38:\tlearn: 10.0361688\ttotal: 1.23s\tremaining: 30.3s\n",
      "39:\tlearn: 9.9233838\ttotal: 1.28s\tremaining: 30.6s\n",
      "40:\tlearn: 9.8327565\ttotal: 1.3s\tremaining: 30.4s\n",
      "41:\tlearn: 9.7480487\ttotal: 1.31s\tremaining: 30s\n",
      "42:\tlearn: 9.6622111\ttotal: 1.33s\tremaining: 29.6s\n",
      "43:\tlearn: 9.5719108\ttotal: 1.35s\tremaining: 29.3s\n",
      "44:\tlearn: 9.4915856\ttotal: 1.37s\tremaining: 29.1s\n",
      "45:\tlearn: 9.4219750\ttotal: 1.4s\tremaining: 29s\n",
      "46:\tlearn: 9.3344178\ttotal: 1.43s\tremaining: 28.9s\n",
      "47:\tlearn: 9.2683285\ttotal: 1.45s\tremaining: 28.7s\n",
      "48:\tlearn: 9.1945170\ttotal: 1.46s\tremaining: 28.4s\n",
      "49:\tlearn: 9.1268740\ttotal: 1.48s\tremaining: 28.1s\n",
      "50:\tlearn: 9.0614034\ttotal: 1.51s\tremaining: 28.1s\n",
      "51:\tlearn: 8.9827792\ttotal: 1.53s\tremaining: 28s\n",
      "52:\tlearn: 8.9185876\ttotal: 1.56s\tremaining: 28s\n",
      "53:\tlearn: 8.8390955\ttotal: 1.64s\tremaining: 28.8s\n",
      "54:\tlearn: 8.7782750\ttotal: 1.69s\tremaining: 29s\n",
      "55:\tlearn: 8.7276593\ttotal: 1.76s\tremaining: 29.7s\n",
      "56:\tlearn: 8.6681860\ttotal: 1.82s\tremaining: 30.2s\n",
      "57:\tlearn: 8.6131645\ttotal: 1.88s\tremaining: 30.5s\n",
      "58:\tlearn: 8.5556098\ttotal: 1.93s\tremaining: 30.8s\n",
      "59:\tlearn: 8.5094908\ttotal: 1.98s\tremaining: 31.1s\n",
      "60:\tlearn: 8.4486946\ttotal: 2s\tremaining: 30.8s\n",
      "61:\tlearn: 8.3809547\ttotal: 2.02s\tremaining: 30.5s\n",
      "62:\tlearn: 8.3374292\ttotal: 2.03s\tremaining: 30.3s\n",
      "63:\tlearn: 8.2931939\ttotal: 2.05s\tremaining: 29.9s\n",
      "64:\tlearn: 8.2543323\ttotal: 2.06s\tremaining: 29.6s\n",
      "65:\tlearn: 8.2079942\ttotal: 2.07s\tremaining: 29.4s\n",
      "66:\tlearn: 8.1546194\ttotal: 2.09s\tremaining: 29.1s\n",
      "67:\tlearn: 8.0864452\ttotal: 2.11s\tremaining: 28.9s\n",
      "68:\tlearn: 8.0078807\ttotal: 2.13s\tremaining: 28.7s\n",
      "69:\tlearn: 7.9602732\ttotal: 2.14s\tremaining: 28.5s\n",
      "70:\tlearn: 7.9100175\ttotal: 2.16s\tremaining: 28.3s\n",
      "71:\tlearn: 7.8281997\ttotal: 2.18s\tremaining: 28s\n",
      "72:\tlearn: 7.7495921\ttotal: 2.19s\tremaining: 27.8s\n",
      "73:\tlearn: 7.6838284\ttotal: 2.21s\tremaining: 27.6s\n",
      "74:\tlearn: 7.6513129\ttotal: 2.23s\tremaining: 27.5s\n",
      "75:\tlearn: 7.5893406\ttotal: 2.25s\tremaining: 27.4s\n",
      "76:\tlearn: 7.5507319\ttotal: 2.28s\tremaining: 27.3s\n",
      "77:\tlearn: 7.5029673\ttotal: 2.3s\tremaining: 27.1s\n",
      "78:\tlearn: 7.4658521\ttotal: 2.32s\tremaining: 27s\n",
      "79:\tlearn: 7.4363322\ttotal: 2.34s\tremaining: 27s\n",
      "80:\tlearn: 7.4049864\ttotal: 2.37s\tremaining: 26.9s\n",
      "81:\tlearn: 7.3733144\ttotal: 2.39s\tremaining: 26.7s\n",
      "82:\tlearn: 7.3466388\ttotal: 2.41s\tremaining: 26.7s\n",
      "83:\tlearn: 7.3138409\ttotal: 2.43s\tremaining: 26.5s\n",
      "84:\tlearn: 7.2798052\ttotal: 2.44s\tremaining: 26.3s\n",
      "85:\tlearn: 7.2036634\ttotal: 2.46s\tremaining: 26.2s\n",
      "86:\tlearn: 7.1551795\ttotal: 2.48s\tremaining: 26.1s\n",
      "87:\tlearn: 7.1302227\ttotal: 2.51s\tremaining: 26s\n",
      "88:\tlearn: 7.0955070\ttotal: 2.53s\tremaining: 25.9s\n",
      "89:\tlearn: 7.0544245\ttotal: 2.55s\tremaining: 25.8s\n",
      "90:\tlearn: 7.0324346\ttotal: 2.58s\tremaining: 25.8s\n",
      "91:\tlearn: 6.9953747\ttotal: 2.6s\tremaining: 25.6s\n",
      "92:\tlearn: 6.9505488\ttotal: 2.61s\tremaining: 25.5s\n",
      "93:\tlearn: 6.9090916\ttotal: 2.63s\tremaining: 25.3s\n",
      "94:\tlearn: 6.8849564\ttotal: 2.64s\tremaining: 25.2s\n",
      "95:\tlearn: 6.8292863\ttotal: 2.66s\tremaining: 25s\n",
      "96:\tlearn: 6.8009755\ttotal: 2.68s\tremaining: 24.9s\n",
      "97:\tlearn: 6.7698179\ttotal: 2.69s\tremaining: 24.8s\n",
      "98:\tlearn: 6.7428958\ttotal: 2.71s\tremaining: 24.7s\n",
      "99:\tlearn: 6.6981585\ttotal: 2.73s\tremaining: 24.5s\n",
      "100:\tlearn: 6.6710786\ttotal: 2.74s\tremaining: 24.4s\n",
      "101:\tlearn: 6.6534180\ttotal: 2.77s\tremaining: 24.4s\n",
      "102:\tlearn: 6.6254982\ttotal: 2.79s\tremaining: 24.3s\n",
      "103:\tlearn: 6.5893542\ttotal: 2.8s\tremaining: 24.1s\n",
      "104:\tlearn: 6.5676646\ttotal: 2.81s\tremaining: 24s\n",
      "105:\tlearn: 6.5517143\ttotal: 2.83s\tremaining: 23.8s\n",
      "106:\tlearn: 6.4935885\ttotal: 2.84s\tremaining: 23.7s\n",
      "107:\tlearn: 6.4715021\ttotal: 2.86s\tremaining: 23.6s\n",
      "108:\tlearn: 6.4289068\ttotal: 2.87s\tremaining: 23.5s\n",
      "109:\tlearn: 6.3845997\ttotal: 2.89s\tremaining: 23.4s\n",
      "110:\tlearn: 6.3612899\ttotal: 2.9s\tremaining: 23.2s\n",
      "111:\tlearn: 6.3475207\ttotal: 2.92s\tremaining: 23.2s\n",
      "112:\tlearn: 6.3262045\ttotal: 2.94s\tremaining: 23.1s\n",
      "113:\tlearn: 6.3024600\ttotal: 2.96s\tremaining: 23s\n",
      "114:\tlearn: 6.2764656\ttotal: 2.97s\tremaining: 22.8s\n",
      "115:\tlearn: 6.2558693\ttotal: 2.98s\tremaining: 22.7s\n",
      "116:\tlearn: 6.2367053\ttotal: 3s\tremaining: 22.6s\n",
      "117:\tlearn: 6.2108334\ttotal: 3.01s\tremaining: 22.5s\n",
      "118:\tlearn: 6.1882016\ttotal: 3.03s\tremaining: 22.4s\n",
      "119:\tlearn: 6.1645982\ttotal: 3.04s\tremaining: 22.3s\n",
      "120:\tlearn: 6.1385554\ttotal: 3.06s\tremaining: 22.2s\n",
      "121:\tlearn: 6.1152578\ttotal: 3.07s\tremaining: 22.1s\n",
      "122:\tlearn: 6.0880601\ttotal: 3.08s\tremaining: 22s\n",
      "123:\tlearn: 6.0381295\ttotal: 3.1s\tremaining: 21.9s\n",
      "124:\tlearn: 6.0065554\ttotal: 3.12s\tremaining: 21.8s\n",
      "125:\tlearn: 5.9905103\ttotal: 3.13s\tremaining: 21.7s\n",
      "126:\tlearn: 5.9758916\ttotal: 3.15s\tremaining: 21.7s\n",
      "127:\tlearn: 5.9597776\ttotal: 3.17s\tremaining: 21.6s\n",
      "128:\tlearn: 5.9216115\ttotal: 3.19s\tremaining: 21.5s\n",
      "129:\tlearn: 5.9056680\ttotal: 3.2s\tremaining: 21.4s\n",
      "130:\tlearn: 5.8814264\ttotal: 3.21s\tremaining: 21.3s\n",
      "131:\tlearn: 5.8710530\ttotal: 3.23s\tremaining: 21.2s\n",
      "132:\tlearn: 5.8486727\ttotal: 3.25s\tremaining: 21.2s\n",
      "133:\tlearn: 5.7949249\ttotal: 3.27s\tremaining: 21.1s\n",
      "134:\tlearn: 5.7737229\ttotal: 3.29s\tremaining: 21.1s\n",
      "135:\tlearn: 5.7577802\ttotal: 3.3s\tremaining: 21s\n",
      "136:\tlearn: 5.7399607\ttotal: 3.33s\tremaining: 21s\n",
      "137:\tlearn: 5.7106178\ttotal: 3.35s\tremaining: 21s\n",
      "138:\tlearn: 5.6902957\ttotal: 3.38s\tremaining: 20.9s\n",
      "139:\tlearn: 5.6540538\ttotal: 3.4s\tremaining: 20.9s\n",
      "140:\tlearn: 5.6371568\ttotal: 3.42s\tremaining: 20.8s\n",
      "141:\tlearn: 5.6168995\ttotal: 3.44s\tremaining: 20.8s\n",
      "142:\tlearn: 5.5938779\ttotal: 3.46s\tremaining: 20.7s\n",
      "143:\tlearn: 5.5732192\ttotal: 3.48s\tremaining: 20.7s\n",
      "144:\tlearn: 5.5397139\ttotal: 3.5s\tremaining: 20.6s\n",
      "145:\tlearn: 5.5154677\ttotal: 3.52s\tremaining: 20.6s\n",
      "146:\tlearn: 5.5051584\ttotal: 3.53s\tremaining: 20.5s\n",
      "147:\tlearn: 5.4812442\ttotal: 3.56s\tremaining: 20.5s\n",
      "148:\tlearn: 5.4537486\ttotal: 3.58s\tremaining: 20.5s\n",
      "149:\tlearn: 5.4424407\ttotal: 3.61s\tremaining: 20.5s\n",
      "150:\tlearn: 5.4248857\ttotal: 3.64s\tremaining: 20.4s\n",
      "151:\tlearn: 5.4010197\ttotal: 3.67s\tremaining: 20.5s\n",
      "152:\tlearn: 5.3866034\ttotal: 3.69s\tremaining: 20.4s\n",
      "153:\tlearn: 5.3685676\ttotal: 3.7s\tremaining: 20.3s\n",
      "154:\tlearn: 5.3561672\ttotal: 3.72s\tremaining: 20.3s\n",
      "155:\tlearn: 5.3416874\ttotal: 3.73s\tremaining: 20.2s\n",
      "156:\tlearn: 5.3239893\ttotal: 3.75s\tremaining: 20.1s\n",
      "157:\tlearn: 5.2996496\ttotal: 3.77s\tremaining: 20.1s\n",
      "158:\tlearn: 5.2686062\ttotal: 3.8s\tremaining: 20.1s\n",
      "159:\tlearn: 5.2439102\ttotal: 3.82s\tremaining: 20.1s\n",
      "160:\tlearn: 5.2245540\ttotal: 3.84s\tremaining: 20s\n",
      "161:\tlearn: 5.2106281\ttotal: 3.86s\tremaining: 20s\n",
      "162:\tlearn: 5.1950796\ttotal: 3.87s\tremaining: 19.9s\n",
      "163:\tlearn: 5.1671155\ttotal: 3.89s\tremaining: 19.8s\n",
      "164:\tlearn: 5.1572597\ttotal: 3.91s\tremaining: 19.8s\n",
      "165:\tlearn: 5.1455031\ttotal: 3.94s\tremaining: 19.8s\n",
      "166:\tlearn: 5.1263920\ttotal: 3.99s\tremaining: 19.9s\n",
      "167:\tlearn: 5.1133500\ttotal: 4.03s\tremaining: 20s\n",
      "168:\tlearn: 5.0890222\ttotal: 4.05s\tremaining: 19.9s\n",
      "169:\tlearn: 5.0643940\ttotal: 4.08s\tremaining: 19.9s\n",
      "170:\tlearn: 5.0566307\ttotal: 4.12s\tremaining: 20s\n",
      "171:\tlearn: 5.0283814\ttotal: 4.15s\tremaining: 20s\n",
      "172:\tlearn: 5.0067060\ttotal: 4.21s\tremaining: 20.1s\n",
      "173:\tlearn: 4.9911349\ttotal: 4.29s\tremaining: 20.4s\n",
      "174:\tlearn: 4.9755804\ttotal: 4.32s\tremaining: 20.4s\n",
      "175:\tlearn: 4.9631688\ttotal: 4.34s\tremaining: 20.3s\n",
      "176:\tlearn: 4.9473490\ttotal: 4.36s\tremaining: 20.3s\n",
      "177:\tlearn: 4.9342172\ttotal: 4.38s\tremaining: 20.2s\n",
      "178:\tlearn: 4.9241653\ttotal: 4.4s\tremaining: 20.2s\n",
      "179:\tlearn: 4.9061349\ttotal: 4.46s\tremaining: 20.3s\n",
      "180:\tlearn: 4.8930762\ttotal: 4.53s\tremaining: 20.5s\n",
      "181:\tlearn: 4.8743350\ttotal: 4.56s\tremaining: 20.5s\n",
      "182:\tlearn: 4.8613514\ttotal: 4.59s\tremaining: 20.5s\n",
      "183:\tlearn: 4.8416016\ttotal: 4.68s\tremaining: 20.7s\n",
      "184:\tlearn: 4.8338296\ttotal: 4.71s\tremaining: 20.8s\n",
      "185:\tlearn: 4.8203268\ttotal: 4.75s\tremaining: 20.8s\n",
      "186:\tlearn: 4.8074788\ttotal: 4.77s\tremaining: 20.7s\n",
      "187:\tlearn: 4.7911354\ttotal: 4.79s\tremaining: 20.7s\n",
      "188:\tlearn: 4.7826260\ttotal: 4.8s\tremaining: 20.6s\n",
      "189:\tlearn: 4.7727135\ttotal: 4.82s\tremaining: 20.5s\n",
      "190:\tlearn: 4.7538811\ttotal: 4.87s\tremaining: 20.6s\n",
      "191:\tlearn: 4.7421043\ttotal: 4.9s\tremaining: 20.6s\n",
      "192:\tlearn: 4.7217365\ttotal: 5.01s\tremaining: 20.9s\n",
      "193:\tlearn: 4.7075372\ttotal: 5.06s\tremaining: 21s\n",
      "194:\tlearn: 4.6891844\ttotal: 5.09s\tremaining: 21s\n",
      "195:\tlearn: 4.6713114\ttotal: 5.1s\tremaining: 20.9s\n",
      "196:\tlearn: 4.6495577\ttotal: 5.15s\tremaining: 21s\n",
      "197:\tlearn: 4.6371021\ttotal: 5.28s\tremaining: 21.4s\n",
      "198:\tlearn: 4.6162991\ttotal: 5.3s\tremaining: 21.3s\n",
      "199:\tlearn: 4.6038070\ttotal: 5.34s\tremaining: 21.4s\n",
      "200:\tlearn: 4.5872620\ttotal: 5.4s\tremaining: 21.5s\n",
      "201:\tlearn: 4.5656382\ttotal: 5.45s\tremaining: 21.5s\n",
      "202:\tlearn: 4.5552888\ttotal: 5.52s\tremaining: 21.7s\n",
      "203:\tlearn: 4.5390528\ttotal: 5.56s\tremaining: 21.7s\n",
      "204:\tlearn: 4.5184140\ttotal: 5.59s\tremaining: 21.7s\n",
      "205:\tlearn: 4.4864207\ttotal: 5.62s\tremaining: 21.7s\n",
      "206:\tlearn: 4.4740438\ttotal: 5.68s\tremaining: 21.8s\n",
      "207:\tlearn: 4.4653914\ttotal: 5.74s\tremaining: 21.9s\n",
      "208:\tlearn: 4.4536228\ttotal: 5.77s\tremaining: 21.8s\n",
      "209:\tlearn: 4.4427942\ttotal: 5.79s\tremaining: 21.8s\n",
      "210:\tlearn: 4.4309650\ttotal: 5.83s\tremaining: 21.8s\n",
      "211:\tlearn: 4.4094314\ttotal: 5.86s\tremaining: 21.8s\n",
      "212:\tlearn: 4.3991556\ttotal: 5.89s\tremaining: 21.8s\n",
      "213:\tlearn: 4.3865617\ttotal: 5.91s\tremaining: 21.7s\n",
      "214:\tlearn: 4.3766689\ttotal: 5.93s\tremaining: 21.7s\n",
      "215:\tlearn: 4.3690388\ttotal: 5.95s\tremaining: 21.6s\n",
      "216:\tlearn: 4.3616630\ttotal: 5.97s\tremaining: 21.5s\n",
      "217:\tlearn: 4.3469016\ttotal: 5.98s\tremaining: 21.5s\n",
      "218:\tlearn: 4.3383830\ttotal: 6s\tremaining: 21.4s\n",
      "219:\tlearn: 4.3278499\ttotal: 6.02s\tremaining: 21.3s\n",
      "220:\tlearn: 4.3058547\ttotal: 6.04s\tremaining: 21.3s\n",
      "221:\tlearn: 4.2695719\ttotal: 6.06s\tremaining: 21.2s\n",
      "222:\tlearn: 4.2612120\ttotal: 6.09s\tremaining: 21.2s\n",
      "223:\tlearn: 4.2508074\ttotal: 6.11s\tremaining: 21.2s\n",
      "224:\tlearn: 4.2330652\ttotal: 6.14s\tremaining: 21.2s\n",
      "225:\tlearn: 4.2185747\ttotal: 6.17s\tremaining: 21.1s\n",
      "226:\tlearn: 4.1988224\ttotal: 6.19s\tremaining: 21.1s\n",
      "227:\tlearn: 4.1935292\ttotal: 6.2s\tremaining: 21s\n",
      "228:\tlearn: 4.1715826\ttotal: 6.22s\tremaining: 21s\n",
      "229:\tlearn: 4.1635985\ttotal: 6.24s\tremaining: 20.9s\n",
      "230:\tlearn: 4.1518391\ttotal: 6.26s\tremaining: 20.8s\n",
      "231:\tlearn: 4.1426601\ttotal: 6.28s\tremaining: 20.8s\n",
      "232:\tlearn: 4.1343193\ttotal: 6.3s\tremaining: 20.8s\n",
      "233:\tlearn: 4.1193363\ttotal: 6.33s\tremaining: 20.7s\n",
      "234:\tlearn: 4.1080924\ttotal: 6.36s\tremaining: 20.7s\n",
      "235:\tlearn: 4.0973610\ttotal: 6.38s\tremaining: 20.6s\n",
      "236:\tlearn: 4.0843628\ttotal: 6.39s\tremaining: 20.6s\n",
      "237:\tlearn: 4.0726977\ttotal: 6.41s\tremaining: 20.5s\n",
      "238:\tlearn: 4.0623480\ttotal: 6.42s\tremaining: 20.5s\n",
      "239:\tlearn: 4.0500889\ttotal: 6.44s\tremaining: 20.4s\n",
      "240:\tlearn: 4.0400196\ttotal: 6.46s\tremaining: 20.4s\n",
      "241:\tlearn: 4.0278496\ttotal: 6.48s\tremaining: 20.3s\n",
      "242:\tlearn: 4.0147683\ttotal: 6.51s\tremaining: 20.3s\n",
      "243:\tlearn: 4.0035320\ttotal: 6.52s\tremaining: 20.2s\n",
      "244:\tlearn: 3.9908609\ttotal: 6.55s\tremaining: 20.2s\n",
      "245:\tlearn: 3.9818789\ttotal: 6.59s\tremaining: 20.2s\n",
      "246:\tlearn: 3.9709988\ttotal: 6.6s\tremaining: 20.1s\n",
      "247:\tlearn: 3.9617823\ttotal: 6.62s\tremaining: 20.1s\n",
      "248:\tlearn: 3.9392075\ttotal: 6.64s\tremaining: 20s\n",
      "249:\tlearn: 3.9278760\ttotal: 6.67s\tremaining: 20s\n",
      "250:\tlearn: 3.9179637\ttotal: 6.69s\tremaining: 20s\n",
      "251:\tlearn: 3.8946242\ttotal: 6.71s\tremaining: 19.9s\n",
      "252:\tlearn: 3.8862763\ttotal: 6.73s\tremaining: 19.9s\n",
      "253:\tlearn: 3.8797573\ttotal: 6.75s\tremaining: 19.8s\n",
      "254:\tlearn: 3.8720038\ttotal: 6.85s\tremaining: 20s\n",
      "255:\tlearn: 3.8584374\ttotal: 6.93s\tremaining: 20.1s\n",
      "256:\tlearn: 3.8445676\ttotal: 6.97s\tremaining: 20.2s\n",
      "257:\tlearn: 3.8408475\ttotal: 7s\tremaining: 20.1s\n",
      "258:\tlearn: 3.8261233\ttotal: 7.05s\tremaining: 20.2s\n",
      "259:\tlearn: 3.8182871\ttotal: 7.13s\tremaining: 20.3s\n",
      "260:\tlearn: 3.8092191\ttotal: 7.15s\tremaining: 20.3s\n",
      "261:\tlearn: 3.7972182\ttotal: 7.18s\tremaining: 20.2s\n",
      "262:\tlearn: 3.7848663\ttotal: 7.21s\tremaining: 20.2s\n",
      "263:\tlearn: 3.7728253\ttotal: 7.25s\tremaining: 20.2s\n",
      "264:\tlearn: 3.7585149\ttotal: 7.29s\tremaining: 20.2s\n",
      "265:\tlearn: 3.7491010\ttotal: 7.32s\tremaining: 20.2s\n",
      "266:\tlearn: 3.7351900\ttotal: 7.35s\tremaining: 20.2s\n",
      "267:\tlearn: 3.7230478\ttotal: 7.37s\tremaining: 20.1s\n",
      "268:\tlearn: 3.7149100\ttotal: 7.4s\tremaining: 20.1s\n",
      "269:\tlearn: 3.7063983\ttotal: 7.43s\tremaining: 20.1s\n",
      "270:\tlearn: 3.6974767\ttotal: 7.48s\tremaining: 20.1s\n",
      "271:\tlearn: 3.6909474\ttotal: 7.55s\tremaining: 20.2s\n",
      "272:\tlearn: 3.6753108\ttotal: 7.58s\tremaining: 20.2s\n",
      "273:\tlearn: 3.6695152\ttotal: 7.61s\tremaining: 20.2s\n",
      "274:\tlearn: 3.6517540\ttotal: 7.65s\tremaining: 20.2s\n",
      "275:\tlearn: 3.6414890\ttotal: 7.7s\tremaining: 20.2s\n",
      "276:\tlearn: 3.6295251\ttotal: 7.75s\tremaining: 20.2s\n",
      "277:\tlearn: 3.6156237\ttotal: 7.81s\tremaining: 20.3s\n",
      "278:\tlearn: 3.6114129\ttotal: 7.84s\tremaining: 20.3s\n",
      "279:\tlearn: 3.6005145\ttotal: 7.88s\tremaining: 20.3s\n",
      "280:\tlearn: 3.5941056\ttotal: 7.93s\tremaining: 20.3s\n",
      "281:\tlearn: 3.5837146\ttotal: 8s\tremaining: 20.4s\n",
      "282:\tlearn: 3.5699527\ttotal: 8.04s\tremaining: 20.4s\n",
      "283:\tlearn: 3.5598233\ttotal: 8.07s\tremaining: 20.4s\n",
      "284:\tlearn: 3.5528681\ttotal: 8.12s\tremaining: 20.4s\n",
      "285:\tlearn: 3.5457642\ttotal: 8.18s\tremaining: 20.4s\n",
      "286:\tlearn: 3.5312081\ttotal: 8.27s\tremaining: 20.6s\n",
      "287:\tlearn: 3.5266801\ttotal: 8.47s\tremaining: 20.9s\n",
      "288:\tlearn: 3.5166671\ttotal: 8.65s\tremaining: 21.3s\n",
      "289:\tlearn: 3.5044942\ttotal: 9.04s\tremaining: 22.1s\n",
      "290:\tlearn: 3.4993382\ttotal: 9.2s\tremaining: 22.4s\n",
      "291:\tlearn: 3.4919519\ttotal: 9.27s\tremaining: 22.5s\n",
      "292:\tlearn: 3.4862367\ttotal: 9.4s\tremaining: 22.7s\n",
      "293:\tlearn: 3.4774445\ttotal: 9.45s\tremaining: 22.7s\n",
      "294:\tlearn: 3.4693050\ttotal: 9.47s\tremaining: 22.6s\n",
      "295:\tlearn: 3.4614642\ttotal: 9.51s\tremaining: 22.6s\n",
      "296:\tlearn: 3.4566508\ttotal: 9.6s\tremaining: 22.7s\n",
      "297:\tlearn: 3.4451689\ttotal: 9.84s\tremaining: 23.2s\n",
      "298:\tlearn: 3.4371536\ttotal: 9.96s\tremaining: 23.4s\n",
      "299:\tlearn: 3.4287237\ttotal: 10s\tremaining: 23.3s\n",
      "300:\tlearn: 3.4217869\ttotal: 10s\tremaining: 23.3s\n",
      "301:\tlearn: 3.4106547\ttotal: 10s\tremaining: 23.2s\n",
      "302:\tlearn: 3.4020371\ttotal: 10.1s\tremaining: 23.2s\n",
      "303:\tlearn: 3.3977262\ttotal: 10.1s\tremaining: 23.1s\n",
      "304:\tlearn: 3.3924878\ttotal: 10.1s\tremaining: 23s\n",
      "305:\tlearn: 3.3856181\ttotal: 10.1s\tremaining: 23s\n",
      "306:\tlearn: 3.3746523\ttotal: 10.1s\tremaining: 22.9s\n",
      "307:\tlearn: 3.3634355\ttotal: 10.2s\tremaining: 22.9s\n",
      "308:\tlearn: 3.3528242\ttotal: 10.2s\tremaining: 22.8s\n",
      "309:\tlearn: 3.3427320\ttotal: 10.2s\tremaining: 22.7s\n",
      "310:\tlearn: 3.3360590\ttotal: 10.2s\tremaining: 22.7s\n",
      "311:\tlearn: 3.3286081\ttotal: 10.3s\tremaining: 22.6s\n",
      "312:\tlearn: 3.3226620\ttotal: 10.3s\tremaining: 22.5s\n",
      "313:\tlearn: 3.3172814\ttotal: 10.3s\tremaining: 22.5s\n",
      "314:\tlearn: 3.3112861\ttotal: 10.3s\tremaining: 22.4s\n",
      "315:\tlearn: 3.3075015\ttotal: 10.3s\tremaining: 22.4s\n",
      "316:\tlearn: 3.3043296\ttotal: 10.4s\tremaining: 22.3s\n",
      "317:\tlearn: 3.2963670\ttotal: 10.4s\tremaining: 22.2s\n",
      "318:\tlearn: 3.2921312\ttotal: 10.4s\tremaining: 22.2s\n",
      "319:\tlearn: 3.2858429\ttotal: 10.4s\tremaining: 22.1s\n",
      "320:\tlearn: 3.2682494\ttotal: 10.4s\tremaining: 22.1s\n",
      "321:\tlearn: 3.2618845\ttotal: 10.5s\tremaining: 22s\n",
      "322:\tlearn: 3.2539875\ttotal: 10.5s\tremaining: 22s\n",
      "323:\tlearn: 3.2427234\ttotal: 10.5s\tremaining: 21.9s\n",
      "324:\tlearn: 3.2369908\ttotal: 10.5s\tremaining: 21.9s\n",
      "325:\tlearn: 3.2308818\ttotal: 10.6s\tremaining: 21.8s\n",
      "326:\tlearn: 3.2246128\ttotal: 10.6s\tremaining: 21.8s\n",
      "327:\tlearn: 3.2199054\ttotal: 10.6s\tremaining: 21.7s\n",
      "328:\tlearn: 3.2129552\ttotal: 10.6s\tremaining: 21.7s\n",
      "329:\tlearn: 3.2022921\ttotal: 10.6s\tremaining: 21.6s\n",
      "330:\tlearn: 3.1964123\ttotal: 10.7s\tremaining: 21.6s\n",
      "331:\tlearn: 3.1858056\ttotal: 10.7s\tremaining: 21.5s\n",
      "332:\tlearn: 3.1800239\ttotal: 10.7s\tremaining: 21.5s\n",
      "333:\tlearn: 3.1672638\ttotal: 10.8s\tremaining: 21.4s\n",
      "334:\tlearn: 3.1609625\ttotal: 10.8s\tremaining: 21.4s\n",
      "335:\tlearn: 3.1546176\ttotal: 10.8s\tremaining: 21.3s\n",
      "336:\tlearn: 3.1467123\ttotal: 10.8s\tremaining: 21.3s\n",
      "337:\tlearn: 3.1346500\ttotal: 10.8s\tremaining: 21.2s\n",
      "338:\tlearn: 3.1278585\ttotal: 10.9s\tremaining: 21.2s\n",
      "339:\tlearn: 3.1238590\ttotal: 10.9s\tremaining: 21.1s\n",
      "340:\tlearn: 3.1148626\ttotal: 10.9s\tremaining: 21s\n",
      "341:\tlearn: 3.1059899\ttotal: 10.9s\tremaining: 21s\n",
      "342:\tlearn: 3.1003932\ttotal: 11s\tremaining: 21s\n",
      "343:\tlearn: 3.0928597\ttotal: 11s\tremaining: 21s\n",
      "344:\tlearn: 3.0837150\ttotal: 11s\tremaining: 20.9s\n",
      "345:\tlearn: 3.0796305\ttotal: 11s\tremaining: 20.9s\n",
      "346:\tlearn: 3.0743040\ttotal: 11.1s\tremaining: 20.8s\n",
      "347:\tlearn: 3.0680501\ttotal: 11.1s\tremaining: 20.8s\n",
      "348:\tlearn: 3.0628429\ttotal: 11.1s\tremaining: 20.7s\n",
      "349:\tlearn: 3.0575893\ttotal: 11.1s\tremaining: 20.6s\n",
      "350:\tlearn: 3.0503241\ttotal: 11.1s\tremaining: 20.6s\n",
      "351:\tlearn: 3.0437816\ttotal: 11.2s\tremaining: 20.5s\n",
      "352:\tlearn: 3.0386723\ttotal: 11.2s\tremaining: 20.5s\n",
      "353:\tlearn: 3.0340919\ttotal: 11.2s\tremaining: 20.4s\n",
      "354:\tlearn: 3.0283371\ttotal: 11.2s\tremaining: 20.4s\n",
      "355:\tlearn: 3.0213547\ttotal: 11.2s\tremaining: 20.3s\n",
      "356:\tlearn: 3.0168509\ttotal: 11.3s\tremaining: 20.3s\n",
      "357:\tlearn: 2.9998944\ttotal: 11.3s\tremaining: 20.2s\n",
      "358:\tlearn: 2.9912545\ttotal: 11.3s\tremaining: 20.2s\n",
      "359:\tlearn: 2.9873124\ttotal: 11.3s\tremaining: 20.1s\n",
      "360:\tlearn: 2.9825644\ttotal: 11.3s\tremaining: 20.1s\n",
      "361:\tlearn: 2.9775748\ttotal: 11.3s\tremaining: 20s\n",
      "362:\tlearn: 2.9713608\ttotal: 11.4s\tremaining: 19.9s\n",
      "363:\tlearn: 2.9599899\ttotal: 11.4s\tremaining: 19.9s\n",
      "364:\tlearn: 2.9542922\ttotal: 11.4s\tremaining: 19.9s\n",
      "365:\tlearn: 2.9487598\ttotal: 11.4s\tremaining: 19.8s\n",
      "366:\tlearn: 2.9419212\ttotal: 11.5s\tremaining: 19.8s\n",
      "367:\tlearn: 2.9368741\ttotal: 11.5s\tremaining: 19.7s\n",
      "368:\tlearn: 2.9322754\ttotal: 11.5s\tremaining: 19.7s\n",
      "369:\tlearn: 2.9267346\ttotal: 11.5s\tremaining: 19.6s\n",
      "370:\tlearn: 2.9085282\ttotal: 11.6s\tremaining: 19.6s\n",
      "371:\tlearn: 2.8982073\ttotal: 11.6s\tremaining: 19.5s\n",
      "372:\tlearn: 2.8892279\ttotal: 11.6s\tremaining: 19.5s\n",
      "373:\tlearn: 2.8844376\ttotal: 11.6s\tremaining: 19.4s\n",
      "374:\tlearn: 2.8789444\ttotal: 11.7s\tremaining: 19.4s\n",
      "375:\tlearn: 2.8753294\ttotal: 11.7s\tremaining: 19.4s\n",
      "376:\tlearn: 2.8719696\ttotal: 11.7s\tremaining: 19.3s\n",
      "377:\tlearn: 2.8686106\ttotal: 11.7s\tremaining: 19.3s\n",
      "378:\tlearn: 2.8632933\ttotal: 11.7s\tremaining: 19.2s\n",
      "379:\tlearn: 2.8599885\ttotal: 11.7s\tremaining: 19.2s\n",
      "380:\tlearn: 2.8454091\ttotal: 11.8s\tremaining: 19.1s\n",
      "381:\tlearn: 2.8392837\ttotal: 11.8s\tremaining: 19.1s\n",
      "382:\tlearn: 2.8354643\ttotal: 11.8s\tremaining: 19s\n",
      "383:\tlearn: 2.8325170\ttotal: 11.8s\tremaining: 19s\n",
      "384:\tlearn: 2.8265724\ttotal: 11.9s\tremaining: 19s\n",
      "385:\tlearn: 2.8199102\ttotal: 11.9s\tremaining: 18.9s\n",
      "386:\tlearn: 2.8070055\ttotal: 11.9s\tremaining: 18.9s\n",
      "387:\tlearn: 2.8010009\ttotal: 11.9s\tremaining: 18.8s\n",
      "388:\tlearn: 2.7970532\ttotal: 11.9s\tremaining: 18.7s\n",
      "389:\tlearn: 2.7926081\ttotal: 12s\tremaining: 18.7s\n",
      "390:\tlearn: 2.7831973\ttotal: 12s\tremaining: 18.7s\n",
      "391:\tlearn: 2.7768988\ttotal: 12s\tremaining: 18.6s\n",
      "392:\tlearn: 2.7721871\ttotal: 12s\tremaining: 18.5s\n",
      "393:\tlearn: 2.7683669\ttotal: 12s\tremaining: 18.5s\n",
      "394:\tlearn: 2.7631657\ttotal: 12.1s\tremaining: 18.5s\n",
      "395:\tlearn: 2.7604584\ttotal: 12.1s\tremaining: 18.5s\n",
      "396:\tlearn: 2.7548586\ttotal: 12.2s\tremaining: 18.5s\n",
      "397:\tlearn: 2.7510062\ttotal: 12.2s\tremaining: 18.5s\n",
      "398:\tlearn: 2.7449778\ttotal: 12.2s\tremaining: 18.4s\n",
      "399:\tlearn: 2.7353530\ttotal: 12.3s\tremaining: 18.4s\n",
      "400:\tlearn: 2.7285346\ttotal: 12.3s\tremaining: 18.4s\n",
      "401:\tlearn: 2.7229879\ttotal: 12.3s\tremaining: 18.3s\n",
      "402:\tlearn: 2.7179579\ttotal: 12.4s\tremaining: 18.3s\n",
      "403:\tlearn: 2.7135283\ttotal: 12.4s\tremaining: 18.3s\n",
      "404:\tlearn: 2.7089592\ttotal: 12.4s\tremaining: 18.3s\n",
      "405:\tlearn: 2.7046646\ttotal: 12.5s\tremaining: 18.2s\n",
      "406:\tlearn: 2.7008434\ttotal: 12.5s\tremaining: 18.2s\n",
      "407:\tlearn: 2.6978669\ttotal: 12.5s\tremaining: 18.2s\n",
      "408:\tlearn: 2.6927896\ttotal: 12.6s\tremaining: 18.2s\n",
      "409:\tlearn: 2.6895721\ttotal: 12.6s\tremaining: 18.2s\n",
      "410:\tlearn: 2.6857638\ttotal: 12.7s\tremaining: 18.2s\n",
      "411:\tlearn: 2.6780293\ttotal: 12.7s\tremaining: 18.1s\n",
      "412:\tlearn: 2.6755586\ttotal: 12.7s\tremaining: 18.1s\n",
      "413:\tlearn: 2.6736440\ttotal: 12.8s\tremaining: 18.1s\n",
      "414:\tlearn: 2.6695212\ttotal: 12.9s\tremaining: 18.1s\n",
      "415:\tlearn: 2.6657121\ttotal: 12.9s\tremaining: 18.1s\n",
      "416:\tlearn: 2.6611735\ttotal: 12.9s\tremaining: 18.1s\n",
      "417:\tlearn: 2.6566671\ttotal: 12.9s\tremaining: 18s\n",
      "418:\tlearn: 2.6499983\ttotal: 13s\tremaining: 18s\n",
      "419:\tlearn: 2.6482672\ttotal: 13s\tremaining: 18s\n",
      "420:\tlearn: 2.6448066\ttotal: 13s\tremaining: 17.9s\n",
      "421:\tlearn: 2.6396745\ttotal: 13s\tremaining: 17.9s\n",
      "422:\tlearn: 2.6226955\ttotal: 13.1s\tremaining: 17.8s\n",
      "423:\tlearn: 2.6189398\ttotal: 13.1s\tremaining: 17.8s\n",
      "424:\tlearn: 2.6138216\ttotal: 13.1s\tremaining: 17.7s\n",
      "425:\tlearn: 2.6094269\ttotal: 13.1s\tremaining: 17.7s\n",
      "426:\tlearn: 2.6071661\ttotal: 13.1s\tremaining: 17.6s\n",
      "427:\tlearn: 2.5921915\ttotal: 13.2s\tremaining: 17.6s\n",
      "428:\tlearn: 2.5857853\ttotal: 13.2s\tremaining: 17.6s\n",
      "429:\tlearn: 2.5816645\ttotal: 13.2s\tremaining: 17.5s\n",
      "430:\tlearn: 2.5784265\ttotal: 13.3s\tremaining: 17.5s\n",
      "431:\tlearn: 2.5741197\ttotal: 13.3s\tremaining: 17.5s\n",
      "432:\tlearn: 2.5608804\ttotal: 13.3s\tremaining: 17.5s\n",
      "433:\tlearn: 2.5528881\ttotal: 13.4s\tremaining: 17.4s\n",
      "434:\tlearn: 2.5481416\ttotal: 13.4s\tremaining: 17.4s\n",
      "435:\tlearn: 2.5429072\ttotal: 13.4s\tremaining: 17.4s\n",
      "436:\tlearn: 2.5387105\ttotal: 13.5s\tremaining: 17.4s\n",
      "437:\tlearn: 2.5372115\ttotal: 13.5s\tremaining: 17.3s\n",
      "438:\tlearn: 2.5339967\ttotal: 13.5s\tremaining: 17.3s\n",
      "439:\tlearn: 2.5293121\ttotal: 13.5s\tremaining: 17.2s\n",
      "440:\tlearn: 2.5238207\ttotal: 13.6s\tremaining: 17.2s\n",
      "441:\tlearn: 2.5191344\ttotal: 13.6s\tremaining: 17.2s\n",
      "442:\tlearn: 2.5161716\ttotal: 13.6s\tremaining: 17.1s\n",
      "443:\tlearn: 2.5115092\ttotal: 13.7s\tremaining: 17.1s\n",
      "444:\tlearn: 2.5084308\ttotal: 13.7s\tremaining: 17.1s\n",
      "445:\tlearn: 2.5060650\ttotal: 13.7s\tremaining: 17s\n",
      "446:\tlearn: 2.4983772\ttotal: 13.8s\tremaining: 17s\n",
      "447:\tlearn: 2.4924968\ttotal: 13.8s\tremaining: 17s\n",
      "448:\tlearn: 2.4852543\ttotal: 13.8s\tremaining: 17s\n",
      "449:\tlearn: 2.4817694\ttotal: 13.9s\tremaining: 17s\n",
      "450:\tlearn: 2.4773751\ttotal: 13.9s\tremaining: 16.9s\n",
      "451:\tlearn: 2.4667828\ttotal: 14s\tremaining: 16.9s\n",
      "452:\tlearn: 2.4616583\ttotal: 14s\tremaining: 16.9s\n",
      "453:\tlearn: 2.4573996\ttotal: 14s\tremaining: 16.9s\n",
      "454:\tlearn: 2.4555351\ttotal: 14.1s\tremaining: 16.9s\n",
      "455:\tlearn: 2.4520158\ttotal: 14.1s\tremaining: 16.9s\n",
      "456:\tlearn: 2.4492169\ttotal: 14.2s\tremaining: 16.8s\n",
      "457:\tlearn: 2.4453677\ttotal: 14.2s\tremaining: 16.9s\n",
      "458:\tlearn: 2.4406546\ttotal: 14.3s\tremaining: 16.8s\n",
      "459:\tlearn: 2.4351537\ttotal: 14.3s\tremaining: 16.8s\n",
      "460:\tlearn: 2.4316963\ttotal: 14.3s\tremaining: 16.7s\n",
      "461:\tlearn: 2.4255407\ttotal: 14.4s\tremaining: 16.7s\n",
      "462:\tlearn: 2.4208944\ttotal: 14.5s\tremaining: 16.8s\n",
      "463:\tlearn: 2.4179672\ttotal: 14.5s\tremaining: 16.8s\n",
      "464:\tlearn: 2.4143213\ttotal: 14.6s\tremaining: 16.8s\n",
      "465:\tlearn: 2.4104174\ttotal: 14.7s\tremaining: 16.9s\n",
      "466:\tlearn: 2.4054382\ttotal: 14.8s\tremaining: 16.9s\n",
      "467:\tlearn: 2.3990583\ttotal: 15s\tremaining: 17s\n",
      "468:\tlearn: 2.3959132\ttotal: 15.1s\tremaining: 17s\n",
      "469:\tlearn: 2.3918988\ttotal: 15.1s\tremaining: 17.1s\n",
      "470:\tlearn: 2.3818947\ttotal: 15.3s\tremaining: 17.2s\n",
      "471:\tlearn: 2.3741615\ttotal: 15.4s\tremaining: 17.2s\n",
      "472:\tlearn: 2.3701456\ttotal: 15.5s\tremaining: 17.3s\n",
      "473:\tlearn: 2.3650920\ttotal: 15.7s\tremaining: 17.4s\n",
      "474:\tlearn: 2.3605050\ttotal: 15.8s\tremaining: 17.4s\n",
      "475:\tlearn: 2.3529761\ttotal: 15.9s\tremaining: 17.5s\n",
      "476:\tlearn: 2.3492608\ttotal: 15.9s\tremaining: 17.5s\n",
      "477:\tlearn: 2.3462127\ttotal: 16s\tremaining: 17.5s\n",
      "478:\tlearn: 2.3423938\ttotal: 16.1s\tremaining: 17.5s\n",
      "479:\tlearn: 2.3370469\ttotal: 16.3s\tremaining: 17.6s\n",
      "480:\tlearn: 2.3338017\ttotal: 16.3s\tremaining: 17.6s\n",
      "481:\tlearn: 2.3309000\ttotal: 16.4s\tremaining: 17.6s\n",
      "482:\tlearn: 2.3276876\ttotal: 16.4s\tremaining: 17.6s\n",
      "483:\tlearn: 2.3252314\ttotal: 16.5s\tremaining: 17.5s\n",
      "484:\tlearn: 2.3222271\ttotal: 16.5s\tremaining: 17.5s\n",
      "485:\tlearn: 2.3175140\ttotal: 16.6s\tremaining: 17.5s\n",
      "486:\tlearn: 2.3145832\ttotal: 16.6s\tremaining: 17.5s\n",
      "487:\tlearn: 2.3099031\ttotal: 16.7s\tremaining: 17.5s\n",
      "488:\tlearn: 2.3063050\ttotal: 16.7s\tremaining: 17.5s\n",
      "489:\tlearn: 2.3008100\ttotal: 16.7s\tremaining: 17.4s\n",
      "490:\tlearn: 2.2958087\ttotal: 16.8s\tremaining: 17.5s\n",
      "491:\tlearn: 2.2926068\ttotal: 16.9s\tremaining: 17.4s\n",
      "492:\tlearn: 2.2900799\ttotal: 16.9s\tremaining: 17.4s\n",
      "493:\tlearn: 2.2868302\ttotal: 16.9s\tremaining: 17.3s\n",
      "494:\tlearn: 2.2840270\ttotal: 17s\tremaining: 17.3s\n",
      "495:\tlearn: 2.2784933\ttotal: 17s\tremaining: 17.3s\n",
      "496:\tlearn: 2.2751125\ttotal: 17s\tremaining: 17.2s\n",
      "497:\tlearn: 2.2723008\ttotal: 17s\tremaining: 17.2s\n",
      "498:\tlearn: 2.2657552\ttotal: 17.1s\tremaining: 17.1s\n",
      "499:\tlearn: 2.2614621\ttotal: 17.1s\tremaining: 17.1s\n",
      "500:\tlearn: 2.2574598\ttotal: 17.1s\tremaining: 17s\n",
      "501:\tlearn: 2.2540764\ttotal: 17.1s\tremaining: 17s\n",
      "502:\tlearn: 2.2494161\ttotal: 17.2s\tremaining: 17s\n",
      "503:\tlearn: 2.2464271\ttotal: 17.2s\tremaining: 16.9s\n",
      "504:\tlearn: 2.2421076\ttotal: 17.2s\tremaining: 16.9s\n",
      "505:\tlearn: 2.2390820\ttotal: 17.3s\tremaining: 16.9s\n",
      "506:\tlearn: 2.2357129\ttotal: 17.3s\tremaining: 16.8s\n",
      "507:\tlearn: 2.2338921\ttotal: 17.3s\tremaining: 16.8s\n",
      "508:\tlearn: 2.2292769\ttotal: 17.4s\tremaining: 16.7s\n",
      "509:\tlearn: 2.2258630\ttotal: 17.4s\tremaining: 16.7s\n",
      "510:\tlearn: 2.2214904\ttotal: 17.5s\tremaining: 16.7s\n",
      "511:\tlearn: 2.2166030\ttotal: 17.5s\tremaining: 16.7s\n",
      "512:\tlearn: 2.2123333\ttotal: 17.5s\tremaining: 16.6s\n",
      "513:\tlearn: 2.2087111\ttotal: 17.5s\tremaining: 16.6s\n",
      "514:\tlearn: 2.2074682\ttotal: 17.5s\tremaining: 16.5s\n",
      "515:\tlearn: 2.2045196\ttotal: 17.5s\tremaining: 16.4s\n",
      "516:\tlearn: 2.2034381\ttotal: 17.5s\tremaining: 16.4s\n",
      "517:\tlearn: 2.2009954\ttotal: 17.6s\tremaining: 16.3s\n",
      "518:\tlearn: 2.1925801\ttotal: 17.6s\tremaining: 16.3s\n",
      "519:\tlearn: 2.1895399\ttotal: 17.6s\tremaining: 16.3s\n",
      "520:\tlearn: 2.1846396\ttotal: 17.6s\tremaining: 16.2s\n",
      "521:\tlearn: 2.1813767\ttotal: 17.7s\tremaining: 16.2s\n",
      "522:\tlearn: 2.1793213\ttotal: 17.7s\tremaining: 16.1s\n",
      "523:\tlearn: 2.1753109\ttotal: 17.7s\tremaining: 16.1s\n",
      "524:\tlearn: 2.1717056\ttotal: 17.7s\tremaining: 16s\n",
      "525:\tlearn: 2.1685523\ttotal: 17.7s\tremaining: 16s\n",
      "526:\tlearn: 2.1613848\ttotal: 17.7s\tremaining: 15.9s\n",
      "527:\tlearn: 2.1579148\ttotal: 17.8s\tremaining: 15.9s\n",
      "528:\tlearn: 2.1529536\ttotal: 17.8s\tremaining: 15.8s\n",
      "529:\tlearn: 2.1501477\ttotal: 17.8s\tremaining: 15.8s\n",
      "530:\tlearn: 2.1468962\ttotal: 17.8s\tremaining: 15.7s\n",
      "531:\tlearn: 2.1394773\ttotal: 17.8s\tremaining: 15.7s\n",
      "532:\tlearn: 2.1368138\ttotal: 17.8s\tremaining: 15.6s\n",
      "533:\tlearn: 2.1345662\ttotal: 17.9s\tremaining: 15.6s\n",
      "534:\tlearn: 2.1299858\ttotal: 17.9s\tremaining: 15.5s\n",
      "535:\tlearn: 2.1233847\ttotal: 17.9s\tremaining: 15.5s\n",
      "536:\tlearn: 2.1213248\ttotal: 17.9s\tremaining: 15.4s\n",
      "537:\tlearn: 2.1169097\ttotal: 17.9s\tremaining: 15.4s\n",
      "538:\tlearn: 2.1136422\ttotal: 17.9s\tremaining: 15.3s\n",
      "539:\tlearn: 2.1116150\ttotal: 18s\tremaining: 15.3s\n",
      "540:\tlearn: 2.1048207\ttotal: 18s\tremaining: 15.2s\n",
      "541:\tlearn: 2.1018859\ttotal: 18s\tremaining: 15.2s\n",
      "542:\tlearn: 2.1001451\ttotal: 18s\tremaining: 15.1s\n",
      "543:\tlearn: 2.0955111\ttotal: 18s\tremaining: 15.1s\n",
      "544:\tlearn: 2.0932122\ttotal: 18s\tremaining: 15.1s\n",
      "545:\tlearn: 2.0914575\ttotal: 18.1s\tremaining: 15s\n",
      "546:\tlearn: 2.0892351\ttotal: 18.1s\tremaining: 15s\n",
      "547:\tlearn: 2.0879557\ttotal: 18.1s\tremaining: 14.9s\n",
      "548:\tlearn: 2.0835785\ttotal: 18.1s\tremaining: 14.9s\n",
      "549:\tlearn: 2.0807493\ttotal: 18.1s\tremaining: 14.8s\n",
      "550:\tlearn: 2.0768966\ttotal: 18.1s\tremaining: 14.8s\n",
      "551:\tlearn: 2.0752707\ttotal: 18.1s\tremaining: 14.7s\n",
      "552:\tlearn: 2.0723347\ttotal: 18.2s\tremaining: 14.7s\n",
      "553:\tlearn: 2.0702299\ttotal: 18.2s\tremaining: 14.6s\n",
      "554:\tlearn: 2.0679633\ttotal: 18.2s\tremaining: 14.6s\n",
      "555:\tlearn: 2.0659980\ttotal: 18.2s\tremaining: 14.5s\n",
      "556:\tlearn: 2.0647348\ttotal: 18.2s\tremaining: 14.5s\n",
      "557:\tlearn: 2.0590258\ttotal: 18.2s\tremaining: 14.5s\n",
      "558:\tlearn: 2.0566647\ttotal: 18.3s\tremaining: 14.4s\n",
      "559:\tlearn: 2.0539537\ttotal: 18.3s\tremaining: 14.4s\n",
      "560:\tlearn: 2.0514770\ttotal: 18.3s\tremaining: 14.3s\n",
      "561:\tlearn: 2.0491111\ttotal: 18.3s\tremaining: 14.3s\n",
      "562:\tlearn: 2.0479951\ttotal: 18.3s\tremaining: 14.2s\n",
      "563:\tlearn: 2.0451978\ttotal: 18.3s\tremaining: 14.2s\n",
      "564:\tlearn: 2.0425680\ttotal: 18.3s\tremaining: 14.1s\n",
      "565:\tlearn: 2.0414713\ttotal: 18.4s\tremaining: 14.1s\n",
      "566:\tlearn: 2.0396970\ttotal: 18.4s\tremaining: 14s\n",
      "567:\tlearn: 2.0368965\ttotal: 18.4s\tremaining: 14s\n",
      "568:\tlearn: 2.0344526\ttotal: 18.4s\tremaining: 13.9s\n",
      "569:\tlearn: 2.0329728\ttotal: 18.4s\tremaining: 13.9s\n",
      "570:\tlearn: 2.0287631\ttotal: 18.4s\tremaining: 13.9s\n",
      "571:\tlearn: 2.0265959\ttotal: 18.5s\tremaining: 13.8s\n",
      "572:\tlearn: 2.0243875\ttotal: 18.5s\tremaining: 13.8s\n",
      "573:\tlearn: 2.0223709\ttotal: 18.5s\tremaining: 13.7s\n",
      "574:\tlearn: 2.0196643\ttotal: 18.5s\tremaining: 13.7s\n",
      "575:\tlearn: 2.0181428\ttotal: 18.5s\tremaining: 13.6s\n",
      "576:\tlearn: 2.0157866\ttotal: 18.5s\tremaining: 13.6s\n",
      "577:\tlearn: 2.0086018\ttotal: 18.6s\tremaining: 13.5s\n",
      "578:\tlearn: 2.0063338\ttotal: 18.6s\tremaining: 13.5s\n",
      "579:\tlearn: 2.0034685\ttotal: 18.6s\tremaining: 13.5s\n",
      "580:\tlearn: 1.9992376\ttotal: 18.6s\tremaining: 13.4s\n",
      "581:\tlearn: 1.9971912\ttotal: 18.6s\tremaining: 13.4s\n",
      "582:\tlearn: 1.9950015\ttotal: 18.6s\tremaining: 13.3s\n",
      "583:\tlearn: 1.9931993\ttotal: 18.7s\tremaining: 13.3s\n",
      "584:\tlearn: 1.9914240\ttotal: 18.7s\tremaining: 13.3s\n",
      "585:\tlearn: 1.9902145\ttotal: 18.7s\tremaining: 13.2s\n",
      "586:\tlearn: 1.9880703\ttotal: 18.8s\tremaining: 13.2s\n",
      "587:\tlearn: 1.9844531\ttotal: 18.8s\tremaining: 13.2s\n",
      "588:\tlearn: 1.9807785\ttotal: 18.8s\tremaining: 13.1s\n",
      "589:\tlearn: 1.9778667\ttotal: 18.8s\tremaining: 13.1s\n",
      "590:\tlearn: 1.9752174\ttotal: 18.9s\tremaining: 13.1s\n",
      "591:\tlearn: 1.9725013\ttotal: 18.9s\tremaining: 13s\n",
      "592:\tlearn: 1.9703161\ttotal: 18.9s\tremaining: 13s\n",
      "593:\tlearn: 1.9684542\ttotal: 18.9s\tremaining: 12.9s\n",
      "594:\tlearn: 1.9667287\ttotal: 18.9s\tremaining: 12.9s\n",
      "595:\tlearn: 1.9652646\ttotal: 18.9s\tremaining: 12.8s\n",
      "596:\tlearn: 1.9625446\ttotal: 19s\tremaining: 12.8s\n",
      "597:\tlearn: 1.9610084\ttotal: 19s\tremaining: 12.8s\n",
      "598:\tlearn: 1.9595234\ttotal: 19s\tremaining: 12.7s\n",
      "599:\tlearn: 1.9573148\ttotal: 19s\tremaining: 12.7s\n",
      "600:\tlearn: 1.9549151\ttotal: 19s\tremaining: 12.6s\n",
      "601:\tlearn: 1.9500493\ttotal: 19s\tremaining: 12.6s\n",
      "602:\tlearn: 1.9466527\ttotal: 19s\tremaining: 12.5s\n",
      "603:\tlearn: 1.9446595\ttotal: 19.1s\tremaining: 12.5s\n",
      "604:\tlearn: 1.9424048\ttotal: 19.1s\tremaining: 12.5s\n",
      "605:\tlearn: 1.9411061\ttotal: 19.1s\tremaining: 12.4s\n",
      "606:\tlearn: 1.9400899\ttotal: 19.1s\tremaining: 12.4s\n",
      "607:\tlearn: 1.9373147\ttotal: 19.1s\tremaining: 12.3s\n",
      "608:\tlearn: 1.9349340\ttotal: 19.2s\tremaining: 12.3s\n",
      "609:\tlearn: 1.9332326\ttotal: 19.2s\tremaining: 12.3s\n",
      "610:\tlearn: 1.9319536\ttotal: 19.2s\tremaining: 12.2s\n",
      "611:\tlearn: 1.9310556\ttotal: 19.2s\tremaining: 12.2s\n",
      "612:\tlearn: 1.9273568\ttotal: 19.2s\tremaining: 12.1s\n",
      "613:\tlearn: 1.9259500\ttotal: 19.2s\tremaining: 12.1s\n",
      "614:\tlearn: 1.9246766\ttotal: 19.3s\tremaining: 12.1s\n",
      "615:\tlearn: 1.9225037\ttotal: 19.3s\tremaining: 12s\n",
      "616:\tlearn: 1.9206800\ttotal: 19.3s\tremaining: 12s\n",
      "617:\tlearn: 1.9177309\ttotal: 19.3s\tremaining: 11.9s\n",
      "618:\tlearn: 1.9154792\ttotal: 19.3s\tremaining: 11.9s\n",
      "619:\tlearn: 1.9137105\ttotal: 19.3s\tremaining: 11.8s\n",
      "620:\tlearn: 1.9119916\ttotal: 19.4s\tremaining: 11.8s\n",
      "621:\tlearn: 1.9084321\ttotal: 19.4s\tremaining: 11.8s\n",
      "622:\tlearn: 1.9048468\ttotal: 19.4s\tremaining: 11.7s\n",
      "623:\tlearn: 1.9019176\ttotal: 19.4s\tremaining: 11.7s\n",
      "624:\tlearn: 1.9000479\ttotal: 19.4s\tremaining: 11.7s\n",
      "625:\tlearn: 1.8980724\ttotal: 19.4s\tremaining: 11.6s\n",
      "626:\tlearn: 1.8946912\ttotal: 19.5s\tremaining: 11.6s\n",
      "627:\tlearn: 1.8924908\ttotal: 19.5s\tremaining: 11.5s\n",
      "628:\tlearn: 1.8868793\ttotal: 19.5s\tremaining: 11.5s\n",
      "629:\tlearn: 1.8833078\ttotal: 19.5s\tremaining: 11.5s\n",
      "630:\tlearn: 1.8809177\ttotal: 19.5s\tremaining: 11.4s\n",
      "631:\tlearn: 1.8796771\ttotal: 19.6s\tremaining: 11.4s\n",
      "632:\tlearn: 1.8784369\ttotal: 19.6s\tremaining: 11.3s\n",
      "633:\tlearn: 1.8775150\ttotal: 19.6s\tremaining: 11.3s\n",
      "634:\tlearn: 1.8768473\ttotal: 19.6s\tremaining: 11.3s\n",
      "635:\tlearn: 1.8720737\ttotal: 19.6s\tremaining: 11.2s\n",
      "636:\tlearn: 1.8704562\ttotal: 19.6s\tremaining: 11.2s\n",
      "637:\tlearn: 1.8679957\ttotal: 19.6s\tremaining: 11.1s\n",
      "638:\tlearn: 1.8665726\ttotal: 19.7s\tremaining: 11.1s\n",
      "639:\tlearn: 1.8615520\ttotal: 19.7s\tremaining: 11.1s\n",
      "640:\tlearn: 1.8585018\ttotal: 19.7s\tremaining: 11s\n",
      "641:\tlearn: 1.8559330\ttotal: 19.7s\tremaining: 11s\n",
      "642:\tlearn: 1.8503247\ttotal: 19.7s\tremaining: 11s\n",
      "643:\tlearn: 1.8467585\ttotal: 19.7s\tremaining: 10.9s\n",
      "644:\tlearn: 1.8445544\ttotal: 19.8s\tremaining: 10.9s\n",
      "645:\tlearn: 1.8410991\ttotal: 19.8s\tremaining: 10.8s\n",
      "646:\tlearn: 1.8388095\ttotal: 19.8s\tremaining: 10.8s\n",
      "647:\tlearn: 1.8318008\ttotal: 19.8s\tremaining: 10.8s\n",
      "648:\tlearn: 1.8294588\ttotal: 19.8s\tremaining: 10.7s\n",
      "649:\tlearn: 1.8278530\ttotal: 19.8s\tremaining: 10.7s\n",
      "650:\tlearn: 1.8255964\ttotal: 19.9s\tremaining: 10.6s\n",
      "651:\tlearn: 1.8226842\ttotal: 19.9s\tremaining: 10.6s\n",
      "652:\tlearn: 1.8203552\ttotal: 19.9s\tremaining: 10.6s\n",
      "653:\tlearn: 1.8181069\ttotal: 19.9s\tremaining: 10.5s\n",
      "654:\tlearn: 1.8142093\ttotal: 19.9s\tremaining: 10.5s\n",
      "655:\tlearn: 1.8127448\ttotal: 19.9s\tremaining: 10.4s\n",
      "656:\tlearn: 1.8091024\ttotal: 19.9s\tremaining: 10.4s\n",
      "657:\tlearn: 1.8044584\ttotal: 20s\tremaining: 10.4s\n",
      "658:\tlearn: 1.8018068\ttotal: 20s\tremaining: 10.3s\n",
      "659:\tlearn: 1.7977881\ttotal: 20s\tremaining: 10.3s\n",
      "660:\tlearn: 1.7963288\ttotal: 20s\tremaining: 10.3s\n",
      "661:\tlearn: 1.7936290\ttotal: 20s\tremaining: 10.2s\n",
      "662:\tlearn: 1.7921269\ttotal: 20.1s\tremaining: 10.2s\n",
      "663:\tlearn: 1.7901407\ttotal: 20.1s\tremaining: 10.2s\n",
      "664:\tlearn: 1.7879725\ttotal: 20.1s\tremaining: 10.1s\n",
      "665:\tlearn: 1.7851405\ttotal: 20.1s\tremaining: 10.1s\n",
      "666:\tlearn: 1.7842729\ttotal: 20.2s\tremaining: 10.1s\n",
      "667:\tlearn: 1.7817217\ttotal: 20.2s\tremaining: 10s\n",
      "668:\tlearn: 1.7806234\ttotal: 20.2s\tremaining: 10s\n",
      "669:\tlearn: 1.7793296\ttotal: 20.3s\tremaining: 9.97s\n",
      "670:\tlearn: 1.7780932\ttotal: 20.3s\tremaining: 9.94s\n",
      "671:\tlearn: 1.7763071\ttotal: 20.3s\tremaining: 9.91s\n",
      "672:\tlearn: 1.7750044\ttotal: 20.3s\tremaining: 9.87s\n",
      "673:\tlearn: 1.7722778\ttotal: 20.3s\tremaining: 9.83s\n",
      "674:\tlearn: 1.7701430\ttotal: 20.3s\tremaining: 9.8s\n",
      "675:\tlearn: 1.7662527\ttotal: 20.4s\tremaining: 9.76s\n",
      "676:\tlearn: 1.7638198\ttotal: 20.4s\tremaining: 9.72s\n",
      "677:\tlearn: 1.7611361\ttotal: 20.4s\tremaining: 9.69s\n",
      "678:\tlearn: 1.7568422\ttotal: 20.4s\tremaining: 9.65s\n",
      "679:\tlearn: 1.7556724\ttotal: 20.4s\tremaining: 9.62s\n",
      "680:\tlearn: 1.7532817\ttotal: 20.4s\tremaining: 9.58s\n",
      "681:\tlearn: 1.7518295\ttotal: 20.5s\tremaining: 9.54s\n",
      "682:\tlearn: 1.7498249\ttotal: 20.5s\tremaining: 9.5s\n",
      "683:\tlearn: 1.7484613\ttotal: 20.5s\tremaining: 9.46s\n",
      "684:\tlearn: 1.7468188\ttotal: 20.5s\tremaining: 9.43s\n",
      "685:\tlearn: 1.7458761\ttotal: 20.5s\tremaining: 9.39s\n",
      "686:\tlearn: 1.7439758\ttotal: 20.5s\tremaining: 9.36s\n",
      "687:\tlearn: 1.7414663\ttotal: 20.5s\tremaining: 9.32s\n",
      "688:\tlearn: 1.7404093\ttotal: 20.6s\tremaining: 9.28s\n",
      "689:\tlearn: 1.7374361\ttotal: 20.6s\tremaining: 9.25s\n",
      "690:\tlearn: 1.7369178\ttotal: 20.6s\tremaining: 9.21s\n",
      "691:\tlearn: 1.7343958\ttotal: 20.6s\tremaining: 9.18s\n",
      "692:\tlearn: 1.7332853\ttotal: 20.6s\tremaining: 9.15s\n",
      "693:\tlearn: 1.7290434\ttotal: 20.7s\tremaining: 9.11s\n",
      "694:\tlearn: 1.7247498\ttotal: 20.7s\tremaining: 9.07s\n",
      "695:\tlearn: 1.7236340\ttotal: 20.7s\tremaining: 9.04s\n",
      "696:\tlearn: 1.7221231\ttotal: 20.7s\tremaining: 9s\n",
      "697:\tlearn: 1.7210809\ttotal: 20.7s\tremaining: 8.96s\n",
      "698:\tlearn: 1.7189361\ttotal: 20.7s\tremaining: 8.93s\n",
      "699:\tlearn: 1.7172122\ttotal: 20.7s\tremaining: 8.89s\n",
      "700:\tlearn: 1.7156169\ttotal: 20.8s\tremaining: 8.85s\n",
      "701:\tlearn: 1.7123079\ttotal: 20.8s\tremaining: 8.82s\n",
      "702:\tlearn: 1.7109915\ttotal: 20.8s\tremaining: 8.78s\n",
      "703:\tlearn: 1.7094319\ttotal: 20.8s\tremaining: 8.75s\n",
      "704:\tlearn: 1.7079381\ttotal: 20.8s\tremaining: 8.71s\n",
      "705:\tlearn: 1.7061998\ttotal: 20.9s\tremaining: 8.69s\n",
      "706:\tlearn: 1.7054360\ttotal: 20.9s\tremaining: 8.65s\n",
      "707:\tlearn: 1.7023189\ttotal: 20.9s\tremaining: 8.62s\n",
      "708:\tlearn: 1.6996861\ttotal: 20.9s\tremaining: 8.58s\n",
      "709:\tlearn: 1.6985671\ttotal: 20.9s\tremaining: 8.54s\n",
      "710:\tlearn: 1.6958367\ttotal: 20.9s\tremaining: 8.51s\n",
      "711:\tlearn: 1.6943437\ttotal: 20.9s\tremaining: 8.47s\n",
      "712:\tlearn: 1.6903675\ttotal: 21s\tremaining: 8.44s\n",
      "713:\tlearn: 1.6891656\ttotal: 21s\tremaining: 8.42s\n",
      "714:\tlearn: 1.6865452\ttotal: 21s\tremaining: 8.39s\n",
      "715:\tlearn: 1.6849172\ttotal: 21.1s\tremaining: 8.36s\n",
      "716:\tlearn: 1.6840248\ttotal: 21.1s\tremaining: 8.32s\n",
      "717:\tlearn: 1.6817094\ttotal: 21.1s\tremaining: 8.29s\n",
      "718:\tlearn: 1.6807032\ttotal: 21.1s\tremaining: 8.26s\n",
      "719:\tlearn: 1.6783374\ttotal: 21.1s\tremaining: 8.22s\n",
      "720:\tlearn: 1.6767771\ttotal: 21.2s\tremaining: 8.19s\n",
      "721:\tlearn: 1.6746198\ttotal: 21.2s\tremaining: 8.15s\n",
      "722:\tlearn: 1.6729339\ttotal: 21.2s\tremaining: 8.12s\n",
      "723:\tlearn: 1.6695102\ttotal: 21.2s\tremaining: 8.08s\n",
      "724:\tlearn: 1.6684135\ttotal: 21.2s\tremaining: 8.05s\n",
      "725:\tlearn: 1.6655952\ttotal: 21.2s\tremaining: 8.01s\n",
      "726:\tlearn: 1.6635325\ttotal: 21.3s\tremaining: 7.98s\n",
      "727:\tlearn: 1.6601129\ttotal: 21.3s\tremaining: 7.95s\n",
      "728:\tlearn: 1.6591897\ttotal: 21.3s\tremaining: 7.92s\n",
      "729:\tlearn: 1.6567052\ttotal: 21.3s\tremaining: 7.88s\n",
      "730:\tlearn: 1.6553721\ttotal: 21.3s\tremaining: 7.85s\n",
      "731:\tlearn: 1.6541703\ttotal: 21.3s\tremaining: 7.81s\n",
      "732:\tlearn: 1.6531237\ttotal: 21.4s\tremaining: 7.78s\n",
      "733:\tlearn: 1.6526656\ttotal: 21.4s\tremaining: 7.75s\n",
      "734:\tlearn: 1.6506056\ttotal: 21.4s\tremaining: 7.71s\n",
      "735:\tlearn: 1.6488920\ttotal: 21.4s\tremaining: 7.68s\n",
      "736:\tlearn: 1.6448674\ttotal: 21.4s\tremaining: 7.64s\n",
      "737:\tlearn: 1.6409309\ttotal: 21.4s\tremaining: 7.61s\n",
      "738:\tlearn: 1.6391236\ttotal: 21.4s\tremaining: 7.57s\n",
      "739:\tlearn: 1.6375698\ttotal: 21.5s\tremaining: 7.54s\n",
      "740:\tlearn: 1.6353174\ttotal: 21.5s\tremaining: 7.51s\n",
      "741:\tlearn: 1.6328938\ttotal: 21.5s\tremaining: 7.47s\n",
      "742:\tlearn: 1.6304851\ttotal: 21.5s\tremaining: 7.44s\n",
      "743:\tlearn: 1.6293791\ttotal: 21.5s\tremaining: 7.41s\n",
      "744:\tlearn: 1.6270759\ttotal: 21.6s\tremaining: 7.38s\n",
      "745:\tlearn: 1.6249392\ttotal: 21.6s\tremaining: 7.34s\n",
      "746:\tlearn: 1.6241455\ttotal: 21.6s\tremaining: 7.31s\n",
      "747:\tlearn: 1.6203665\ttotal: 21.6s\tremaining: 7.28s\n",
      "748:\tlearn: 1.6181207\ttotal: 21.6s\tremaining: 7.24s\n",
      "749:\tlearn: 1.6165579\ttotal: 21.6s\tremaining: 7.21s\n",
      "750:\tlearn: 1.6153536\ttotal: 21.6s\tremaining: 7.18s\n",
      "751:\tlearn: 1.6139831\ttotal: 21.7s\tremaining: 7.14s\n",
      "752:\tlearn: 1.6121654\ttotal: 21.7s\tremaining: 7.11s\n",
      "753:\tlearn: 1.6105544\ttotal: 21.7s\tremaining: 7.08s\n",
      "754:\tlearn: 1.6099986\ttotal: 21.7s\tremaining: 7.05s\n",
      "755:\tlearn: 1.6086292\ttotal: 21.8s\tremaining: 7.02s\n",
      "756:\tlearn: 1.6076031\ttotal: 21.8s\tremaining: 6.99s\n",
      "757:\tlearn: 1.6060109\ttotal: 21.8s\tremaining: 6.96s\n",
      "758:\tlearn: 1.6048797\ttotal: 21.8s\tremaining: 6.92s\n",
      "759:\tlearn: 1.6029411\ttotal: 21.8s\tremaining: 6.89s\n",
      "760:\tlearn: 1.6020711\ttotal: 21.8s\tremaining: 6.86s\n",
      "761:\tlearn: 1.5987177\ttotal: 21.8s\tremaining: 6.82s\n",
      "762:\tlearn: 1.5957323\ttotal: 21.9s\tremaining: 6.79s\n",
      "763:\tlearn: 1.5948946\ttotal: 21.9s\tremaining: 6.75s\n",
      "764:\tlearn: 1.5927866\ttotal: 21.9s\tremaining: 6.72s\n",
      "765:\tlearn: 1.5910838\ttotal: 21.9s\tremaining: 6.69s\n",
      "766:\tlearn: 1.5896779\ttotal: 21.9s\tremaining: 6.67s\n",
      "767:\tlearn: 1.5875993\ttotal: 22s\tremaining: 6.66s\n",
      "768:\tlearn: 1.5871288\ttotal: 22.1s\tremaining: 6.64s\n",
      "769:\tlearn: 1.5843534\ttotal: 22.2s\tremaining: 6.62s\n",
      "770:\tlearn: 1.5834685\ttotal: 22.2s\tremaining: 6.58s\n",
      "771:\tlearn: 1.5824817\ttotal: 22.2s\tremaining: 6.55s\n",
      "772:\tlearn: 1.5807622\ttotal: 22.2s\tremaining: 6.52s\n",
      "773:\tlearn: 1.5802605\ttotal: 22.2s\tremaining: 6.49s\n",
      "774:\tlearn: 1.5788791\ttotal: 22.2s\tremaining: 6.46s\n",
      "775:\tlearn: 1.5768258\ttotal: 22.3s\tremaining: 6.42s\n",
      "776:\tlearn: 1.5757034\ttotal: 22.3s\tremaining: 6.39s\n",
      "777:\tlearn: 1.5748748\ttotal: 22.3s\tremaining: 6.36s\n",
      "778:\tlearn: 1.5735485\ttotal: 22.3s\tremaining: 6.33s\n",
      "779:\tlearn: 1.5720729\ttotal: 22.3s\tremaining: 6.29s\n",
      "780:\tlearn: 1.5708710\ttotal: 22.3s\tremaining: 6.26s\n",
      "781:\tlearn: 1.5699751\ttotal: 22.3s\tremaining: 6.23s\n",
      "782:\tlearn: 1.5677463\ttotal: 22.4s\tremaining: 6.2s\n",
      "783:\tlearn: 1.5667879\ttotal: 22.4s\tremaining: 6.16s\n",
      "784:\tlearn: 1.5651615\ttotal: 22.4s\tremaining: 6.13s\n",
      "785:\tlearn: 1.5637522\ttotal: 22.4s\tremaining: 6.1s\n",
      "786:\tlearn: 1.5629400\ttotal: 22.4s\tremaining: 6.07s\n",
      "787:\tlearn: 1.5621308\ttotal: 22.4s\tremaining: 6.04s\n",
      "788:\tlearn: 1.5610197\ttotal: 22.5s\tremaining: 6s\n",
      "789:\tlearn: 1.5593326\ttotal: 22.5s\tremaining: 5.97s\n",
      "790:\tlearn: 1.5556619\ttotal: 22.5s\tremaining: 5.94s\n",
      "791:\tlearn: 1.5544983\ttotal: 22.5s\tremaining: 5.91s\n",
      "792:\tlearn: 1.5538422\ttotal: 22.5s\tremaining: 5.88s\n",
      "793:\tlearn: 1.5532079\ttotal: 22.5s\tremaining: 5.85s\n",
      "794:\tlearn: 1.5523340\ttotal: 22.6s\tremaining: 5.82s\n",
      "795:\tlearn: 1.5512771\ttotal: 22.6s\tremaining: 5.79s\n",
      "796:\tlearn: 1.5501079\ttotal: 22.6s\tremaining: 5.76s\n",
      "797:\tlearn: 1.5488287\ttotal: 22.6s\tremaining: 5.72s\n",
      "798:\tlearn: 1.5474258\ttotal: 22.6s\tremaining: 5.7s\n",
      "799:\tlearn: 1.5456009\ttotal: 22.7s\tremaining: 5.66s\n",
      "800:\tlearn: 1.5441970\ttotal: 22.7s\tremaining: 5.63s\n",
      "801:\tlearn: 1.5416316\ttotal: 22.7s\tremaining: 5.6s\n",
      "802:\tlearn: 1.5407603\ttotal: 22.7s\tremaining: 5.57s\n",
      "803:\tlearn: 1.5395167\ttotal: 22.7s\tremaining: 5.54s\n",
      "804:\tlearn: 1.5366824\ttotal: 22.7s\tremaining: 5.5s\n",
      "805:\tlearn: 1.5354265\ttotal: 22.7s\tremaining: 5.47s\n",
      "806:\tlearn: 1.5336431\ttotal: 22.7s\tremaining: 5.44s\n",
      "807:\tlearn: 1.5318205\ttotal: 22.8s\tremaining: 5.41s\n",
      "808:\tlearn: 1.5303099\ttotal: 22.8s\tremaining: 5.38s\n",
      "809:\tlearn: 1.5289614\ttotal: 22.8s\tremaining: 5.35s\n",
      "810:\tlearn: 1.5274765\ttotal: 22.8s\tremaining: 5.32s\n",
      "811:\tlearn: 1.5270650\ttotal: 22.8s\tremaining: 5.28s\n",
      "812:\tlearn: 1.5258563\ttotal: 22.8s\tremaining: 5.25s\n",
      "813:\tlearn: 1.5239040\ttotal: 22.9s\tremaining: 5.22s\n",
      "814:\tlearn: 1.5221672\ttotal: 22.9s\tremaining: 5.19s\n",
      "815:\tlearn: 1.5215916\ttotal: 22.9s\tremaining: 5.16s\n",
      "816:\tlearn: 1.5204432\ttotal: 22.9s\tremaining: 5.13s\n",
      "817:\tlearn: 1.5195420\ttotal: 22.9s\tremaining: 5.1s\n",
      "818:\tlearn: 1.5172897\ttotal: 22.9s\tremaining: 5.07s\n",
      "819:\tlearn: 1.5144100\ttotal: 22.9s\tremaining: 5.04s\n",
      "820:\tlearn: 1.5132844\ttotal: 23s\tremaining: 5s\n",
      "821:\tlearn: 1.5118444\ttotal: 23s\tremaining: 4.97s\n",
      "822:\tlearn: 1.5099760\ttotal: 23s\tremaining: 4.94s\n",
      "823:\tlearn: 1.5090340\ttotal: 23s\tremaining: 4.91s\n",
      "824:\tlearn: 1.5071529\ttotal: 23s\tremaining: 4.88s\n",
      "825:\tlearn: 1.5059642\ttotal: 23.1s\tremaining: 4.86s\n",
      "826:\tlearn: 1.5030112\ttotal: 23.1s\tremaining: 4.83s\n",
      "827:\tlearn: 1.5006763\ttotal: 23.1s\tremaining: 4.8s\n",
      "828:\tlearn: 1.4991819\ttotal: 23.1s\tremaining: 4.77s\n",
      "829:\tlearn: 1.4977698\ttotal: 23.1s\tremaining: 4.74s\n",
      "830:\tlearn: 1.4960279\ttotal: 23.1s\tremaining: 4.71s\n",
      "831:\tlearn: 1.4951198\ttotal: 23.2s\tremaining: 4.67s\n",
      "832:\tlearn: 1.4938993\ttotal: 23.2s\tremaining: 4.64s\n",
      "833:\tlearn: 1.4919269\ttotal: 23.2s\tremaining: 4.61s\n",
      "834:\tlearn: 1.4908713\ttotal: 23.2s\tremaining: 4.58s\n",
      "835:\tlearn: 1.4892729\ttotal: 23.2s\tremaining: 4.55s\n",
      "836:\tlearn: 1.4872379\ttotal: 23.2s\tremaining: 4.52s\n",
      "837:\tlearn: 1.4862194\ttotal: 23.3s\tremaining: 4.5s\n",
      "838:\tlearn: 1.4842665\ttotal: 23.3s\tremaining: 4.47s\n",
      "839:\tlearn: 1.4833359\ttotal: 23.3s\tremaining: 4.44s\n",
      "840:\tlearn: 1.4822756\ttotal: 23.3s\tremaining: 4.41s\n",
      "841:\tlearn: 1.4808611\ttotal: 23.3s\tremaining: 4.38s\n",
      "842:\tlearn: 1.4804427\ttotal: 23.3s\tremaining: 4.35s\n",
      "843:\tlearn: 1.4795925\ttotal: 23.4s\tremaining: 4.32s\n",
      "844:\tlearn: 1.4788217\ttotal: 23.4s\tremaining: 4.29s\n",
      "845:\tlearn: 1.4776175\ttotal: 23.4s\tremaining: 4.26s\n",
      "846:\tlearn: 1.4746747\ttotal: 23.4s\tremaining: 4.23s\n",
      "847:\tlearn: 1.4739222\ttotal: 23.4s\tremaining: 4.2s\n",
      "848:\tlearn: 1.4734215\ttotal: 23.5s\tremaining: 4.17s\n",
      "849:\tlearn: 1.4721777\ttotal: 23.5s\tremaining: 4.14s\n",
      "850:\tlearn: 1.4709009\ttotal: 23.5s\tremaining: 4.11s\n",
      "851:\tlearn: 1.4693970\ttotal: 23.5s\tremaining: 4.08s\n",
      "852:\tlearn: 1.4680218\ttotal: 23.5s\tremaining: 4.05s\n",
      "853:\tlearn: 1.4673220\ttotal: 23.5s\tremaining: 4.03s\n",
      "854:\tlearn: 1.4661691\ttotal: 23.6s\tremaining: 4s\n",
      "855:\tlearn: 1.4648151\ttotal: 23.6s\tremaining: 3.96s\n",
      "856:\tlearn: 1.4631698\ttotal: 23.6s\tremaining: 3.94s\n",
      "857:\tlearn: 1.4611005\ttotal: 23.6s\tremaining: 3.91s\n",
      "858:\tlearn: 1.4602300\ttotal: 23.6s\tremaining: 3.88s\n",
      "859:\tlearn: 1.4591868\ttotal: 23.6s\tremaining: 3.85s\n",
      "860:\tlearn: 1.4582938\ttotal: 23.7s\tremaining: 3.82s\n",
      "861:\tlearn: 1.4569086\ttotal: 23.7s\tremaining: 3.79s\n",
      "862:\tlearn: 1.4552963\ttotal: 23.7s\tremaining: 3.76s\n",
      "863:\tlearn: 1.4538895\ttotal: 23.7s\tremaining: 3.74s\n",
      "864:\tlearn: 1.4516655\ttotal: 23.8s\tremaining: 3.71s\n",
      "865:\tlearn: 1.4501489\ttotal: 23.8s\tremaining: 3.68s\n",
      "866:\tlearn: 1.4485893\ttotal: 23.8s\tremaining: 3.65s\n",
      "867:\tlearn: 1.4472978\ttotal: 23.8s\tremaining: 3.62s\n",
      "868:\tlearn: 1.4446416\ttotal: 23.8s\tremaining: 3.59s\n",
      "869:\tlearn: 1.4435649\ttotal: 23.8s\tremaining: 3.56s\n",
      "870:\tlearn: 1.4419697\ttotal: 23.8s\tremaining: 3.53s\n",
      "871:\tlearn: 1.4410143\ttotal: 23.9s\tremaining: 3.5s\n",
      "872:\tlearn: 1.4392594\ttotal: 23.9s\tremaining: 3.47s\n",
      "873:\tlearn: 1.4368081\ttotal: 23.9s\tremaining: 3.45s\n",
      "874:\tlearn: 1.4349380\ttotal: 23.9s\tremaining: 3.42s\n",
      "875:\tlearn: 1.4344719\ttotal: 23.9s\tremaining: 3.39s\n",
      "876:\tlearn: 1.4328829\ttotal: 24s\tremaining: 3.36s\n",
      "877:\tlearn: 1.4318380\ttotal: 24s\tremaining: 3.33s\n",
      "878:\tlearn: 1.4307393\ttotal: 24s\tremaining: 3.3s\n",
      "879:\tlearn: 1.4290732\ttotal: 24s\tremaining: 3.27s\n",
      "880:\tlearn: 1.4280291\ttotal: 24s\tremaining: 3.24s\n",
      "881:\tlearn: 1.4266469\ttotal: 24s\tremaining: 3.21s\n",
      "882:\tlearn: 1.4242786\ttotal: 24s\tremaining: 3.19s\n",
      "883:\tlearn: 1.4233247\ttotal: 24.1s\tremaining: 3.16s\n",
      "884:\tlearn: 1.4214813\ttotal: 24.1s\tremaining: 3.13s\n",
      "885:\tlearn: 1.4199151\ttotal: 24.1s\tremaining: 3.1s\n",
      "886:\tlearn: 1.4186804\ttotal: 24.1s\tremaining: 3.07s\n",
      "887:\tlearn: 1.4171882\ttotal: 24.2s\tremaining: 3.05s\n",
      "888:\tlearn: 1.4166133\ttotal: 24.2s\tremaining: 3.02s\n",
      "889:\tlearn: 1.4153358\ttotal: 24.2s\tremaining: 2.99s\n",
      "890:\tlearn: 1.4142174\ttotal: 24.2s\tremaining: 2.96s\n",
      "891:\tlearn: 1.4134555\ttotal: 24.2s\tremaining: 2.93s\n",
      "892:\tlearn: 1.4122557\ttotal: 24.2s\tremaining: 2.9s\n",
      "893:\tlearn: 1.4111419\ttotal: 24.2s\tremaining: 2.87s\n",
      "894:\tlearn: 1.4097922\ttotal: 24.3s\tremaining: 2.85s\n",
      "895:\tlearn: 1.4088522\ttotal: 24.3s\tremaining: 2.82s\n",
      "896:\tlearn: 1.4082578\ttotal: 24.3s\tremaining: 2.79s\n",
      "897:\tlearn: 1.4069500\ttotal: 24.3s\tremaining: 2.76s\n",
      "898:\tlearn: 1.4066567\ttotal: 24.3s\tremaining: 2.73s\n",
      "899:\tlearn: 1.4056140\ttotal: 24.3s\tremaining: 2.7s\n",
      "900:\tlearn: 1.4046058\ttotal: 24.4s\tremaining: 2.68s\n",
      "901:\tlearn: 1.4035553\ttotal: 24.4s\tremaining: 2.65s\n",
      "902:\tlearn: 1.4023964\ttotal: 24.4s\tremaining: 2.62s\n",
      "903:\tlearn: 1.4010049\ttotal: 24.4s\tremaining: 2.59s\n",
      "904:\tlearn: 1.3994175\ttotal: 24.4s\tremaining: 2.56s\n",
      "905:\tlearn: 1.3982034\ttotal: 24.4s\tremaining: 2.53s\n",
      "906:\tlearn: 1.3970576\ttotal: 24.4s\tremaining: 2.51s\n",
      "907:\tlearn: 1.3961016\ttotal: 24.5s\tremaining: 2.48s\n",
      "908:\tlearn: 1.3943921\ttotal: 24.5s\tremaining: 2.45s\n",
      "909:\tlearn: 1.3933169\ttotal: 24.5s\tremaining: 2.42s\n",
      "910:\tlearn: 1.3924560\ttotal: 24.5s\tremaining: 2.39s\n",
      "911:\tlearn: 1.3915370\ttotal: 24.5s\tremaining: 2.37s\n",
      "912:\tlearn: 1.3904551\ttotal: 24.5s\tremaining: 2.34s\n",
      "913:\tlearn: 1.3895634\ttotal: 24.6s\tremaining: 2.31s\n",
      "914:\tlearn: 1.3882117\ttotal: 24.6s\tremaining: 2.28s\n",
      "915:\tlearn: 1.3871414\ttotal: 24.6s\tremaining: 2.25s\n",
      "916:\tlearn: 1.3859068\ttotal: 24.6s\tremaining: 2.23s\n",
      "917:\tlearn: 1.3849581\ttotal: 24.6s\tremaining: 2.2s\n",
      "918:\tlearn: 1.3841245\ttotal: 24.6s\tremaining: 2.17s\n",
      "919:\tlearn: 1.3832791\ttotal: 24.6s\tremaining: 2.14s\n",
      "920:\tlearn: 1.3820723\ttotal: 24.7s\tremaining: 2.11s\n",
      "921:\tlearn: 1.3814001\ttotal: 24.7s\tremaining: 2.09s\n",
      "922:\tlearn: 1.3798908\ttotal: 24.7s\tremaining: 2.06s\n",
      "923:\tlearn: 1.3790603\ttotal: 24.7s\tremaining: 2.03s\n",
      "924:\tlearn: 1.3783491\ttotal: 24.7s\tremaining: 2s\n",
      "925:\tlearn: 1.3775661\ttotal: 24.7s\tremaining: 1.98s\n",
      "926:\tlearn: 1.3770410\ttotal: 24.8s\tremaining: 1.95s\n",
      "927:\tlearn: 1.3762785\ttotal: 24.8s\tremaining: 1.92s\n",
      "928:\tlearn: 1.3756053\ttotal: 24.8s\tremaining: 1.89s\n",
      "929:\tlearn: 1.3744743\ttotal: 24.8s\tremaining: 1.87s\n",
      "930:\tlearn: 1.3735053\ttotal: 24.8s\tremaining: 1.84s\n",
      "931:\tlearn: 1.3720166\ttotal: 24.8s\tremaining: 1.81s\n",
      "932:\tlearn: 1.3703867\ttotal: 24.8s\tremaining: 1.78s\n",
      "933:\tlearn: 1.3699453\ttotal: 24.8s\tremaining: 1.75s\n",
      "934:\tlearn: 1.3675784\ttotal: 24.9s\tremaining: 1.73s\n",
      "935:\tlearn: 1.3665146\ttotal: 24.9s\tremaining: 1.7s\n",
      "936:\tlearn: 1.3646165\ttotal: 24.9s\tremaining: 1.67s\n",
      "937:\tlearn: 1.3638632\ttotal: 24.9s\tremaining: 1.65s\n",
      "938:\tlearn: 1.3618362\ttotal: 24.9s\tremaining: 1.62s\n",
      "939:\tlearn: 1.3609314\ttotal: 24.9s\tremaining: 1.59s\n",
      "940:\tlearn: 1.3604875\ttotal: 25s\tremaining: 1.56s\n",
      "941:\tlearn: 1.3598741\ttotal: 25s\tremaining: 1.54s\n",
      "942:\tlearn: 1.3580469\ttotal: 25s\tremaining: 1.51s\n",
      "943:\tlearn: 1.3571028\ttotal: 25s\tremaining: 1.48s\n",
      "944:\tlearn: 1.3565138\ttotal: 25s\tremaining: 1.46s\n",
      "945:\tlearn: 1.3551752\ttotal: 25s\tremaining: 1.43s\n",
      "946:\tlearn: 1.3531737\ttotal: 25s\tremaining: 1.4s\n",
      "947:\tlearn: 1.3518776\ttotal: 25.1s\tremaining: 1.37s\n",
      "948:\tlearn: 1.3501895\ttotal: 25.1s\tremaining: 1.35s\n",
      "949:\tlearn: 1.3495191\ttotal: 25.1s\tremaining: 1.32s\n",
      "950:\tlearn: 1.3483288\ttotal: 25.1s\tremaining: 1.29s\n",
      "951:\tlearn: 1.3470346\ttotal: 25.1s\tremaining: 1.27s\n",
      "952:\tlearn: 1.3462771\ttotal: 25.1s\tremaining: 1.24s\n",
      "953:\tlearn: 1.3453890\ttotal: 25.1s\tremaining: 1.21s\n",
      "954:\tlearn: 1.3441856\ttotal: 25.2s\tremaining: 1.19s\n",
      "955:\tlearn: 1.3426723\ttotal: 25.2s\tremaining: 1.16s\n",
      "956:\tlearn: 1.3417662\ttotal: 25.2s\tremaining: 1.13s\n",
      "957:\tlearn: 1.3398506\ttotal: 25.2s\tremaining: 1.1s\n",
      "958:\tlearn: 1.3395373\ttotal: 25.2s\tremaining: 1.08s\n",
      "959:\tlearn: 1.3381353\ttotal: 25.2s\tremaining: 1.05s\n",
      "960:\tlearn: 1.3373832\ttotal: 25.3s\tremaining: 1.02s\n",
      "961:\tlearn: 1.3364341\ttotal: 25.3s\tremaining: 998ms\n",
      "962:\tlearn: 1.3357195\ttotal: 25.3s\tremaining: 971ms\n",
      "963:\tlearn: 1.3346763\ttotal: 25.3s\tremaining: 945ms\n",
      "964:\tlearn: 1.3337762\ttotal: 25.3s\tremaining: 918ms\n",
      "965:\tlearn: 1.3328919\ttotal: 25.3s\tremaining: 891ms\n",
      "966:\tlearn: 1.3314980\ttotal: 25.3s\tremaining: 864ms\n",
      "967:\tlearn: 1.3303783\ttotal: 25.4s\tremaining: 838ms\n",
      "968:\tlearn: 1.3295428\ttotal: 25.4s\tremaining: 812ms\n",
      "969:\tlearn: 1.3286331\ttotal: 25.4s\tremaining: 785ms\n",
      "970:\tlearn: 1.3279456\ttotal: 25.4s\tremaining: 759ms\n",
      "971:\tlearn: 1.3270739\ttotal: 25.4s\tremaining: 732ms\n",
      "972:\tlearn: 1.3256447\ttotal: 25.4s\tremaining: 706ms\n",
      "973:\tlearn: 1.3251860\ttotal: 25.4s\tremaining: 679ms\n",
      "974:\tlearn: 1.3240711\ttotal: 25.5s\tremaining: 653ms\n",
      "975:\tlearn: 1.3232917\ttotal: 25.5s\tremaining: 626ms\n",
      "976:\tlearn: 1.3219748\ttotal: 25.5s\tremaining: 600ms\n",
      "977:\tlearn: 1.3212951\ttotal: 25.5s\tremaining: 574ms\n",
      "978:\tlearn: 1.3199336\ttotal: 25.5s\tremaining: 547ms\n",
      "979:\tlearn: 1.3192486\ttotal: 25.5s\tremaining: 521ms\n",
      "980:\tlearn: 1.3184562\ttotal: 25.5s\tremaining: 495ms\n",
      "981:\tlearn: 1.3171117\ttotal: 25.6s\tremaining: 468ms\n",
      "982:\tlearn: 1.3163002\ttotal: 25.6s\tremaining: 442ms\n",
      "983:\tlearn: 1.3157056\ttotal: 25.6s\tremaining: 416ms\n",
      "984:\tlearn: 1.3149145\ttotal: 25.6s\tremaining: 390ms\n",
      "985:\tlearn: 1.3134229\ttotal: 25.6s\tremaining: 364ms\n",
      "986:\tlearn: 1.3125200\ttotal: 25.6s\tremaining: 338ms\n",
      "987:\tlearn: 1.3110072\ttotal: 25.7s\tremaining: 312ms\n",
      "988:\tlearn: 1.3098601\ttotal: 25.7s\tremaining: 286ms\n",
      "989:\tlearn: 1.3086183\ttotal: 25.7s\tremaining: 259ms\n",
      "990:\tlearn: 1.3080735\ttotal: 25.7s\tremaining: 233ms\n",
      "991:\tlearn: 1.3069806\ttotal: 25.7s\tremaining: 207ms\n",
      "992:\tlearn: 1.3062145\ttotal: 25.7s\tremaining: 181ms\n",
      "993:\tlearn: 1.3049636\ttotal: 25.7s\tremaining: 155ms\n",
      "994:\tlearn: 1.3040626\ttotal: 25.8s\tremaining: 129ms\n",
      "995:\tlearn: 1.3029051\ttotal: 25.8s\tremaining: 104ms\n",
      "996:\tlearn: 1.3019848\ttotal: 25.8s\tremaining: 77.6ms\n",
      "997:\tlearn: 1.3010069\ttotal: 25.8s\tremaining: 51.7ms\n",
      "998:\tlearn: 1.2998466\ttotal: 25.8s\tremaining: 25.9ms\n",
      "999:\tlearn: 1.2987770\ttotal: 25.8s\tremaining: 0us\n",
      " Accuracy of the model is 99.65\n"
     ]
    }
   ],
   "source": [
    "cat_model = CatBoostRegressor()\n",
    "cat_model = cat_model.fit(X_train, y_train)\n",
    "y_pred = cat_model.predict(X_test)\n",
    "score = r2_score(y_test, y_pred)*100\n",
    "print(\" Accuracy of the model is %.2f\" %score)"
   ]
  },
  {
   "cell_type": "markdown",
   "metadata": {},
   "source": [
    "## Plot y_pred and y_test"
   ]
  },
  {
   "cell_type": "code",
   "execution_count": 140,
   "metadata": {},
   "outputs": [
    {
     "data": {
      "text/plain": [
       "Text(0, 0.5, 'Predicted')"
      ]
     },
     "execution_count": 140,
     "metadata": {},
     "output_type": "execute_result"
    },
    {
     "data": {
      "image/png": "[encoded data removed]",
      "text/plain": [
       "<Figure size 640x480 with 1 Axes>"
      ]
     },
     "metadata": {},
     "output_type": "display_data"
    }
   ],
   "source": [
    "plt.scatter(y_test,y_pred)\n",
    "plt.xlabel('Actual')\n",
    "plt.ylabel('Predicted')"
   ]
  },
  {
   "cell_type": "code",
   "execution_count": 141,
   "metadata": {},
   "outputs": [
    {
     "data": {
      "image/png": "[encoded data removed]",
      "text/plain": [
       "<Figure size 640x480 with 1 Axes>"
      ]
     },
     "metadata": {},
     "output_type": "display_data"
    }
   ],
   "source": [
    "sns.regplot(x=y_test,y=y_pred,ci=None,color ='red');"
   ]
  },
  {
   "cell_type": "markdown",
   "metadata": {},
   "source": [
    "## Difference between Actual and Predicted Values"
   ]
  },
  {
   "cell_type": "code",
   "execution_count": 142,
   "metadata": {},
   "outputs": [
    {
     "data": {
      "text/html": [
       "<div>\n",
       "<style scoped>\n",
       "    .dataframe tbody tr th:only-of-type {\n",
       "        vertical-align: middle;\n",
       "    }\n",
       "\n",
       "    .dataframe tbody tr th {\n",
       "        vertical-align: top;\n",
       "    }\n",
       "\n",
       "    .dataframe thead th {\n",
       "        text-align: right;\n",
       "    }\n",
       "</style>\n",
       "<table border=\"1\" class=\"dataframe\">\n",
       "  <thead>\n",
       "    <tr style=\"text-align: right;\">\n",
       "      <th></th>\n",
       "      <th>Actual Value</th>\n",
       "      <th>Predicted Value</th>\n",
       "      <th>Difference</th>\n",
       "    </tr>\n",
       "  </thead>\n",
       "  <tbody>\n",
       "    <tr>\n",
       "      <th>184081</th>\n",
       "      <td>151</td>\n",
       "      <td>152.906062</td>\n",
       "      <td>-1.906062</td>\n",
       "    </tr>\n",
       "    <tr>\n",
       "      <th>98039</th>\n",
       "      <td>178</td>\n",
       "      <td>177.084593</td>\n",
       "      <td>0.915407</td>\n",
       "    </tr>\n",
       "    <tr>\n",
       "      <th>224508</th>\n",
       "      <td>168</td>\n",
       "      <td>165.999475</td>\n",
       "      <td>2.000525</td>\n",
       "    </tr>\n",
       "    <tr>\n",
       "      <th>81016</th>\n",
       "      <td>161</td>\n",
       "      <td>162.953601</td>\n",
       "      <td>-1.953601</td>\n",
       "    </tr>\n",
       "    <tr>\n",
       "      <th>146783</th>\n",
       "      <td>158</td>\n",
       "      <td>157.609175</td>\n",
       "      <td>0.390825</td>\n",
       "    </tr>\n",
       "    <tr>\n",
       "      <th>...</th>\n",
       "      <td>...</td>\n",
       "      <td>...</td>\n",
       "      <td>...</td>\n",
       "    </tr>\n",
       "    <tr>\n",
       "      <th>111585</th>\n",
       "      <td>137</td>\n",
       "      <td>137.758487</td>\n",
       "      <td>-0.758487</td>\n",
       "    </tr>\n",
       "    <tr>\n",
       "      <th>55562</th>\n",
       "      <td>198</td>\n",
       "      <td>193.077044</td>\n",
       "      <td>4.922956</td>\n",
       "    </tr>\n",
       "    <tr>\n",
       "      <th>53127</th>\n",
       "      <td>128</td>\n",
       "      <td>126.389319</td>\n",
       "      <td>1.610681</td>\n",
       "    </tr>\n",
       "    <tr>\n",
       "      <th>78654</th>\n",
       "      <td>159</td>\n",
       "      <td>157.804888</td>\n",
       "      <td>1.195112</td>\n",
       "    </tr>\n",
       "    <tr>\n",
       "      <th>172298</th>\n",
       "      <td>133</td>\n",
       "      <td>134.511133</td>\n",
       "      <td>-1.511133</td>\n",
       "    </tr>\n",
       "  </tbody>\n",
       "</table>\n",
       "<p>3854 rows × 3 columns</p>\n",
       "</div>"
      ],
      "text/plain": [
       "        Actual Value  Predicted Value  Difference\n",
       "184081           151       152.906062   -1.906062\n",
       "98039            178       177.084593    0.915407\n",
       "224508           168       165.999475    2.000525\n",
       "81016            161       162.953601   -1.953601\n",
       "146783           158       157.609175    0.390825\n",
       "...              ...              ...         ...\n",
       "111585           137       137.758487   -0.758487\n",
       "55562            198       193.077044    4.922956\n",
       "53127            128       126.389319    1.610681\n",
       "78654            159       157.804888    1.195112\n",
       "172298           133       134.511133   -1.511133\n",
       "\n",
       "[3854 rows x 3 columns]"
      ]
     },
     "execution_count": 142,
     "metadata": {},
     "output_type": "execute_result"
    }
   ],
   "source": [
    "pred_df=pd.DataFrame({'Actual Value':y_test,'Predicted Value':y_pred,'Difference':y_test-y_pred})\n",
    "pred_df"
   ]
  },
  {
   "cell_type": "markdown",
   "metadata": {},
   "source": [
    "## Lets Load our Pickle Model"
   ]
  },
  {
   "cell_type": "code",
   "execution_count": 143,
   "metadata": {},
   "outputs": [],
   "source": [
    "import pickle\n",
    "pickle.dump(cat_model , open('model.pkl','wb'))"
   ]
  },
  {
   "cell_type": "code",
   "execution_count": 144,
   "metadata": {},
   "outputs": [
    {
     "data": {
      "text/plain": [
       "140.57801467259173"
      ]
     },
     "execution_count": 144,
     "metadata": {},
     "output_type": "execute_result"
    }
   ],
   "source": [
    "pl = cat_model.predict([1,  2, 1,1, 4,6,7,8,150,55,5,7.6,6.8,12])\n",
    "pl"
   ]
  }
 ],
 "metadata": {
  "kernelspec": {
   "display_name": "Python 3 (ipykernel)",
   "language": "python",
   "name": "python3"
  },
  "language_info": {
   "codemirror_mode": {
    "name": "ipython",
    "version": 3
   },
   "file_extension": ".py",
   "mimetype": "text/x-python",
   "name": "python",
   "nbconvert_exporter": "python",
   "pygments_lexer": "ipython3",
   "version": "3.9.13"
  }
 },
 "nbformat": 4,
 "nbformat_minor": 2
}
